{
 "cells": [
  {
   "cell_type": "markdown",
   "metadata": {
    "id": "sIfNaMOxgFyK"
   },
   "source": [
    "# Исследование данных о российском кинопрокате\n",
    "\n"
   ]
  },
  {
   "cell_type": "markdown",
   "metadata": {},
   "source": [
    "***Описание проекта***\n",
    "- Заказчик этого исследования — Министерство культуры Российской Федерации. \n",
    "- Нужно изучить рынок российского кинопроката и выявить текущие тренды. \n",
    "- Набор данных содержит информацию о прокатных удостоверениях, сборах и государственной поддержке фильмов, а также информацию с сайта КиноПоиск. \n",
    "\n",
    "***Описание данных***\n",
    "<br>Таблица `mkrf_movies` содержит информацию из реестра прокатных удостоверений. У одного фильма может быть несколько прокатных удостоверений. \n",
    "\n",
    "\n",
    "- `title` — название фильма;\n",
    "- `puNumber` — номер прокатного удостоверения;\n",
    "- `show_start_date` — дата премьеры фильма;\n",
    "- `type` — тип фильма;\n",
    "- `film_studio` — студия-производитель;\n",
    "- `production_country` — страна-производитель;\n",
    "- `director` — режиссёр;\n",
    "- `producer` — продюсер;\n",
    "- `age_restriction` — возрастная категория;\n",
    "- `refundable_support` — объём возвратных средств государственной поддержки;\n",
    "- `nonrefundable_support` — объём невозвратных средств государственной поддержки;\n",
    "- `financing_source` — источник государственного финансирования;\n",
    "- `budget` — общий бюджет фильма;\n",
    "- `ratings` — рейтинг фильма на КиноПоиске;\n",
    "- `genres` — жанр фильма.\n",
    "\n",
    "Таблица `mkrf_shows` содержит сведения о показах фильмов в российских кинотеатрах.\n",
    "- `puNumber` — номер прокатного удостоверения;\n",
    "- `box_office` — сборы в рублях."
   ]
  },
  {
   "cell_type": "markdown",
   "metadata": {
    "id": "3bSlkCsbgFyL"
   },
   "source": [
    "## Изучение данных \n",
    "\n",
    "Объединим данные таким образом, чтобы все объекты из датасета `mkrf_movies` обязательно вошли в получившийся датафрейм. "
   ]
  },
  {
   "cell_type": "code",
   "execution_count": 1,
   "metadata": {
    "id": "dw87FlzMgFyM"
   },
   "outputs": [],
   "source": [
    "import pandas as pd"
   ]
  },
  {
   "cell_type": "code",
   "execution_count": 2,
   "metadata": {},
   "outputs": [],
   "source": [
    "import matplotlib.pyplot as plt "
   ]
  },
  {
   "cell_type": "code",
   "execution_count": 3,
   "metadata": {},
   "outputs": [],
   "source": [
    "#считываем данные из файла csv в датафрейм и сохраняем их в переменной movies\n",
    "movies = pd.read_csv('/datasets/mkrf_movies.csv')"
   ]
  },
  {
   "cell_type": "code",
   "execution_count": 4,
   "metadata": {},
   "outputs": [
    {
     "data": {
      "text/html": [
       "<div>\n",
       "<style scoped>\n",
       "    .dataframe tbody tr th:only-of-type {\n",
       "        vertical-align: middle;\n",
       "    }\n",
       "\n",
       "    .dataframe tbody tr th {\n",
       "        vertical-align: top;\n",
       "    }\n",
       "\n",
       "    .dataframe thead th {\n",
       "        text-align: right;\n",
       "    }\n",
       "</style>\n",
       "<table border=\"1\" class=\"dataframe\">\n",
       "  <thead>\n",
       "    <tr style=\"text-align: right;\">\n",
       "      <th></th>\n",
       "      <th>title</th>\n",
       "      <th>puNumber</th>\n",
       "      <th>show_start_date</th>\n",
       "      <th>type</th>\n",
       "      <th>film_studio</th>\n",
       "      <th>production_country</th>\n",
       "      <th>director</th>\n",
       "      <th>producer</th>\n",
       "      <th>age_restriction</th>\n",
       "      <th>refundable_support</th>\n",
       "      <th>nonrefundable_support</th>\n",
       "      <th>budget</th>\n",
       "      <th>financing_source</th>\n",
       "      <th>ratings</th>\n",
       "      <th>genres</th>\n",
       "    </tr>\n",
       "  </thead>\n",
       "  <tbody>\n",
       "    <tr>\n",
       "      <th>0</th>\n",
       "      <td>Открытый простор</td>\n",
       "      <td>221048915</td>\n",
       "      <td>2015-11-27T12:00:00.000Z</td>\n",
       "      <td>Художественный</td>\n",
       "      <td>Тачстоун Пикчерз, Кобальт Пикчерз, Бикон Пикче...</td>\n",
       "      <td>США</td>\n",
       "      <td>Кевин Костнер</td>\n",
       "      <td>Дэвид Валдес, Кевин Костнер, Джейк Эбертс</td>\n",
       "      <td>«18+» - запрещено для детей</td>\n",
       "      <td>NaN</td>\n",
       "      <td>NaN</td>\n",
       "      <td>NaN</td>\n",
       "      <td>NaN</td>\n",
       "      <td>7.2</td>\n",
       "      <td>боевик,драма,мелодрама</td>\n",
       "    </tr>\n",
       "    <tr>\n",
       "      <th>1</th>\n",
       "      <td>Особо важное задание</td>\n",
       "      <td>111013716</td>\n",
       "      <td>2016-09-13T12:00:00.000Z</td>\n",
       "      <td>Художественный</td>\n",
       "      <td>Киностудия \"Мосфильм\"</td>\n",
       "      <td>СССР</td>\n",
       "      <td>Е.Матвеев</td>\n",
       "      <td>NaN</td>\n",
       "      <td>«6+» - для детей старше 6 лет</td>\n",
       "      <td>NaN</td>\n",
       "      <td>NaN</td>\n",
       "      <td>NaN</td>\n",
       "      <td>NaN</td>\n",
       "      <td>6.6</td>\n",
       "      <td>драма,военный</td>\n",
       "    </tr>\n",
       "    <tr>\n",
       "      <th>2</th>\n",
       "      <td>Особо опасен</td>\n",
       "      <td>221038416</td>\n",
       "      <td>2016-10-10T12:00:00.000Z</td>\n",
       "      <td>Художественный</td>\n",
       "      <td>Юниверсал Пикчерз, Кикстарт Продакшнз, Марк Пл...</td>\n",
       "      <td>США</td>\n",
       "      <td>Тимур Бекмамбетов</td>\n",
       "      <td>Джим Лемли, Джейсон Нетер, Марк Е.Платт, Яйн Смит</td>\n",
       "      <td>«18+» - запрещено для детей</td>\n",
       "      <td>NaN</td>\n",
       "      <td>NaN</td>\n",
       "      <td>NaN</td>\n",
       "      <td>NaN</td>\n",
       "      <td>6.8</td>\n",
       "      <td>фантастика,боевик,триллер</td>\n",
       "    </tr>\n",
       "    <tr>\n",
       "      <th>3</th>\n",
       "      <td>Особо опасен</td>\n",
       "      <td>221026916</td>\n",
       "      <td>2016-06-10T12:00:00.000Z</td>\n",
       "      <td>Художественный</td>\n",
       "      <td>Юниверсал Пикчерз, Кикстарт Продакшнз, Марк Пл...</td>\n",
       "      <td>США</td>\n",
       "      <td>Тимур Бекмамбетов</td>\n",
       "      <td>Джим Лемли, Джейсон Нетер, Марк Е.Платт, Яйн Смит</td>\n",
       "      <td>«18+» - запрещено для детей</td>\n",
       "      <td>NaN</td>\n",
       "      <td>NaN</td>\n",
       "      <td>NaN</td>\n",
       "      <td>NaN</td>\n",
       "      <td>6.8</td>\n",
       "      <td>фантастика,боевик,триллер</td>\n",
       "    </tr>\n",
       "    <tr>\n",
       "      <th>4</th>\n",
       "      <td>Особо опасен</td>\n",
       "      <td>221030815</td>\n",
       "      <td>2015-07-29T12:00:00.000Z</td>\n",
       "      <td>Художественный</td>\n",
       "      <td>Юниверсал Пикчерз, Кикстарт Продакшнз, Марк Пл...</td>\n",
       "      <td>США</td>\n",
       "      <td>Тимур Бекмамбетов</td>\n",
       "      <td>Джим Лемли, Джейсон Нетер, Марк Е.Платт, Яйн Смит</td>\n",
       "      <td>«18+» - запрещено для детей</td>\n",
       "      <td>NaN</td>\n",
       "      <td>NaN</td>\n",
       "      <td>NaN</td>\n",
       "      <td>NaN</td>\n",
       "      <td>6.8</td>\n",
       "      <td>фантастика,боевик,триллер</td>\n",
       "    </tr>\n",
       "  </tbody>\n",
       "</table>\n",
       "</div>"
      ],
      "text/plain": [
       "                  title   puNumber           show_start_date            type  \\\n",
       "0      Открытый простор  221048915  2015-11-27T12:00:00.000Z  Художественный   \n",
       "1  Особо важное задание  111013716  2016-09-13T12:00:00.000Z  Художественный   \n",
       "2          Особо опасен  221038416  2016-10-10T12:00:00.000Z  Художественный   \n",
       "3          Особо опасен  221026916  2016-06-10T12:00:00.000Z  Художественный   \n",
       "4          Особо опасен  221030815  2015-07-29T12:00:00.000Z  Художественный   \n",
       "\n",
       "                                         film_studio production_country  \\\n",
       "0  Тачстоун Пикчерз, Кобальт Пикчерз, Бикон Пикче...                США   \n",
       "1                              Киностудия \"Мосфильм\"               СССР   \n",
       "2  Юниверсал Пикчерз, Кикстарт Продакшнз, Марк Пл...                США   \n",
       "3  Юниверсал Пикчерз, Кикстарт Продакшнз, Марк Пл...                США   \n",
       "4  Юниверсал Пикчерз, Кикстарт Продакшнз, Марк Пл...                США   \n",
       "\n",
       "            director                                           producer  \\\n",
       "0      Кевин Костнер          Дэвид Валдес, Кевин Костнер, Джейк Эбертс   \n",
       "1          Е.Матвеев                                                NaN   \n",
       "2  Тимур Бекмамбетов  Джим Лемли, Джейсон Нетер, Марк Е.Платт, Яйн Смит   \n",
       "3  Тимур Бекмамбетов  Джим Лемли, Джейсон Нетер, Марк Е.Платт, Яйн Смит   \n",
       "4  Тимур Бекмамбетов  Джим Лемли, Джейсон Нетер, Марк Е.Платт, Яйн Смит   \n",
       "\n",
       "                 age_restriction  refundable_support  nonrefundable_support  \\\n",
       "0    «18+» - запрещено для детей                 NaN                    NaN   \n",
       "1  «6+» - для детей старше 6 лет                 NaN                    NaN   \n",
       "2    «18+» - запрещено для детей                 NaN                    NaN   \n",
       "3    «18+» - запрещено для детей                 NaN                    NaN   \n",
       "4    «18+» - запрещено для детей                 NaN                    NaN   \n",
       "\n",
       "   budget financing_source ratings                     genres  \n",
       "0     NaN              NaN     7.2     боевик,драма,мелодрама  \n",
       "1     NaN              NaN     6.6              драма,военный  \n",
       "2     NaN              NaN     6.8  фантастика,боевик,триллер  \n",
       "3     NaN              NaN     6.8  фантастика,боевик,триллер  \n",
       "4     NaN              NaN     6.8  фантастика,боевик,триллер  "
      ]
     },
     "execution_count": 4,
     "metadata": {},
     "output_type": "execute_result"
    }
   ],
   "source": [
    "#выведем первые 5 строк\n",
    "movies.head()"
   ]
  },
  {
   "cell_type": "code",
   "execution_count": 5,
   "metadata": {},
   "outputs": [
    {
     "data": {
      "text/plain": [
       "title                     object\n",
       "puNumber                  object\n",
       "show_start_date           object\n",
       "type                      object\n",
       "film_studio               object\n",
       "production_country        object\n",
       "director                  object\n",
       "producer                  object\n",
       "age_restriction           object\n",
       "refundable_support       float64\n",
       "nonrefundable_support    float64\n",
       "budget                   float64\n",
       "financing_source          object\n",
       "ratings                   object\n",
       "genres                    object\n",
       "dtype: object"
      ]
     },
     "execution_count": 5,
     "metadata": {},
     "output_type": "execute_result"
    }
   ],
   "source": [
    "movies.dtypes"
   ]
  },
  {
   "cell_type": "code",
   "execution_count": 6,
   "metadata": {},
   "outputs": [],
   "source": [
    "#считываем данные из файла csv в датафрейм и сохраняем их в переменной shows\n",
    "shows = pd.read_csv('/datasets/mkrf_shows.csv')"
   ]
  },
  {
   "cell_type": "code",
   "execution_count": 7,
   "metadata": {},
   "outputs": [],
   "source": [
    "#избавимся от экспоненты\n",
    "pd.options.display.float_format = '{:,.1f}'.format"
   ]
  },
  {
   "cell_type": "code",
   "execution_count": 8,
   "metadata": {},
   "outputs": [
    {
     "data": {
      "text/html": [
       "<div>\n",
       "<style scoped>\n",
       "    .dataframe tbody tr th:only-of-type {\n",
       "        vertical-align: middle;\n",
       "    }\n",
       "\n",
       "    .dataframe tbody tr th {\n",
       "        vertical-align: top;\n",
       "    }\n",
       "\n",
       "    .dataframe thead th {\n",
       "        text-align: right;\n",
       "    }\n",
       "</style>\n",
       "<table border=\"1\" class=\"dataframe\">\n",
       "  <thead>\n",
       "    <tr style=\"text-align: right;\">\n",
       "      <th></th>\n",
       "      <th>puNumber</th>\n",
       "      <th>box_office</th>\n",
       "    </tr>\n",
       "  </thead>\n",
       "  <tbody>\n",
       "    <tr>\n",
       "      <th>0</th>\n",
       "      <td>111000113</td>\n",
       "      <td>2,450.0</td>\n",
       "    </tr>\n",
       "    <tr>\n",
       "      <th>1</th>\n",
       "      <td>111000115</td>\n",
       "      <td>61,040.0</td>\n",
       "    </tr>\n",
       "    <tr>\n",
       "      <th>2</th>\n",
       "      <td>111000116</td>\n",
       "      <td>153,030,013.4</td>\n",
       "    </tr>\n",
       "    <tr>\n",
       "      <th>3</th>\n",
       "      <td>111000117</td>\n",
       "      <td>12,260,956.0</td>\n",
       "    </tr>\n",
       "    <tr>\n",
       "      <th>4</th>\n",
       "      <td>111000118</td>\n",
       "      <td>163,684,057.8</td>\n",
       "    </tr>\n",
       "  </tbody>\n",
       "</table>\n",
       "</div>"
      ],
      "text/plain": [
       "    puNumber    box_office\n",
       "0  111000113       2,450.0\n",
       "1  111000115      61,040.0\n",
       "2  111000116 153,030,013.4\n",
       "3  111000117  12,260,956.0\n",
       "4  111000118 163,684,057.8"
      ]
     },
     "execution_count": 8,
     "metadata": {},
     "output_type": "execute_result"
    }
   ],
   "source": [
    "#выведем первые 5 строк\n",
    "shows.head()"
   ]
  },
  {
   "cell_type": "code",
   "execution_count": 9,
   "metadata": {},
   "outputs": [
    {
     "data": {
      "text/plain": [
       "puNumber        int64\n",
       "box_office    float64\n",
       "dtype: object"
      ]
     },
     "execution_count": 9,
     "metadata": {},
     "output_type": "execute_result"
    }
   ],
   "source": [
    "shows.dtypes"
   ]
  },
  {
   "cell_type": "code",
   "execution_count": 10,
   "metadata": {},
   "outputs": [],
   "source": [
    "movies['puNumber'] = movies['puNumber'].str.strip()"
   ]
  },
  {
   "cell_type": "code",
   "execution_count": 11,
   "metadata": {},
   "outputs": [],
   "source": [
    "#приводим столбец, по которому будет проходить объединение, к одному типу\n",
    "shows['puNumber'] = shows['puNumber'].astype('str')"
   ]
  },
  {
   "cell_type": "code",
   "execution_count": 12,
   "metadata": {},
   "outputs": [],
   "source": [
    "shows['puNumber'] = shows['puNumber'].str.strip()"
   ]
  },
  {
   "cell_type": "code",
   "execution_count": 13,
   "metadata": {},
   "outputs": [
    {
     "data": {
      "text/plain": [
       "puNumber       object\n",
       "box_office    float64\n",
       "dtype: object"
      ]
     },
     "execution_count": 13,
     "metadata": {},
     "output_type": "execute_result"
    }
   ],
   "source": [
    "shows.dtypes"
   ]
  },
  {
   "cell_type": "code",
   "execution_count": 14,
   "metadata": {},
   "outputs": [],
   "source": [
    "#объединим два датафрейма в один - data\n",
    "data = movies.merge(shows, how='left', on='puNumber')"
   ]
  },
  {
   "cell_type": "code",
   "execution_count": 15,
   "metadata": {},
   "outputs": [
    {
     "data": {
      "text/plain": [
       "(7486, 16)"
      ]
     },
     "execution_count": 15,
     "metadata": {},
     "output_type": "execute_result"
    }
   ],
   "source": [
    "data.shape"
   ]
  },
  {
   "cell_type": "code",
   "execution_count": 16,
   "metadata": {},
   "outputs": [
    {
     "name": "stdout",
     "output_type": "stream",
     "text": [
      "<class 'pandas.core.frame.DataFrame'>\n",
      "Int64Index: 7486 entries, 0 to 7485\n",
      "Data columns (total 16 columns):\n",
      " #   Column                 Non-Null Count  Dtype  \n",
      "---  ------                 --------------  -----  \n",
      " 0   title                  7486 non-null   object \n",
      " 1   puNumber               7486 non-null   object \n",
      " 2   show_start_date        7486 non-null   object \n",
      " 3   type                   7486 non-null   object \n",
      " 4   film_studio            7468 non-null   object \n",
      " 5   production_country     7484 non-null   object \n",
      " 6   director               7477 non-null   object \n",
      " 7   producer               6918 non-null   object \n",
      " 8   age_restriction        7486 non-null   object \n",
      " 9   refundable_support     332 non-null    float64\n",
      " 10  nonrefundable_support  332 non-null    float64\n",
      " 11  budget                 332 non-null    float64\n",
      " 12  financing_source       332 non-null    object \n",
      " 13  ratings                6519 non-null   object \n",
      " 14  genres                 6510 non-null   object \n",
      " 15  box_office             3158 non-null   float64\n",
      "dtypes: float64(4), object(12)\n",
      "memory usage: 994.2+ KB\n"
     ]
    }
   ],
   "source": [
    "data.info()"
   ]
  },
  {
   "cell_type": "code",
   "execution_count": 17,
   "metadata": {},
   "outputs": [
    {
     "data": {
      "text/html": [
       "<div>\n",
       "<style scoped>\n",
       "    .dataframe tbody tr th:only-of-type {\n",
       "        vertical-align: middle;\n",
       "    }\n",
       "\n",
       "    .dataframe tbody tr th {\n",
       "        vertical-align: top;\n",
       "    }\n",
       "\n",
       "    .dataframe thead th {\n",
       "        text-align: right;\n",
       "    }\n",
       "</style>\n",
       "<table border=\"1\" class=\"dataframe\">\n",
       "  <thead>\n",
       "    <tr style=\"text-align: right;\">\n",
       "      <th></th>\n",
       "      <th>title</th>\n",
       "      <th>puNumber</th>\n",
       "      <th>show_start_date</th>\n",
       "      <th>type</th>\n",
       "      <th>film_studio</th>\n",
       "      <th>production_country</th>\n",
       "      <th>director</th>\n",
       "      <th>producer</th>\n",
       "      <th>age_restriction</th>\n",
       "      <th>refundable_support</th>\n",
       "      <th>nonrefundable_support</th>\n",
       "      <th>budget</th>\n",
       "      <th>financing_source</th>\n",
       "      <th>ratings</th>\n",
       "      <th>genres</th>\n",
       "      <th>box_office</th>\n",
       "    </tr>\n",
       "  </thead>\n",
       "  <tbody>\n",
       "    <tr>\n",
       "      <th>0</th>\n",
       "      <td>Открытый простор</td>\n",
       "      <td>221048915</td>\n",
       "      <td>2015-11-27T12:00:00.000Z</td>\n",
       "      <td>Художественный</td>\n",
       "      <td>Тачстоун Пикчерз, Кобальт Пикчерз, Бикон Пикче...</td>\n",
       "      <td>США</td>\n",
       "      <td>Кевин Костнер</td>\n",
       "      <td>Дэвид Валдес, Кевин Костнер, Джейк Эбертс</td>\n",
       "      <td>«18+» - запрещено для детей</td>\n",
       "      <td>NaN</td>\n",
       "      <td>NaN</td>\n",
       "      <td>NaN</td>\n",
       "      <td>NaN</td>\n",
       "      <td>7.2</td>\n",
       "      <td>боевик,драма,мелодрама</td>\n",
       "      <td>NaN</td>\n",
       "    </tr>\n",
       "    <tr>\n",
       "      <th>1</th>\n",
       "      <td>Особо важное задание</td>\n",
       "      <td>111013716</td>\n",
       "      <td>2016-09-13T12:00:00.000Z</td>\n",
       "      <td>Художественный</td>\n",
       "      <td>Киностудия \"Мосфильм\"</td>\n",
       "      <td>СССР</td>\n",
       "      <td>Е.Матвеев</td>\n",
       "      <td>NaN</td>\n",
       "      <td>«6+» - для детей старше 6 лет</td>\n",
       "      <td>NaN</td>\n",
       "      <td>NaN</td>\n",
       "      <td>NaN</td>\n",
       "      <td>NaN</td>\n",
       "      <td>6.6</td>\n",
       "      <td>драма,военный</td>\n",
       "      <td>NaN</td>\n",
       "    </tr>\n",
       "    <tr>\n",
       "      <th>2</th>\n",
       "      <td>Особо опасен</td>\n",
       "      <td>221038416</td>\n",
       "      <td>2016-10-10T12:00:00.000Z</td>\n",
       "      <td>Художественный</td>\n",
       "      <td>Юниверсал Пикчерз, Кикстарт Продакшнз, Марк Пл...</td>\n",
       "      <td>США</td>\n",
       "      <td>Тимур Бекмамбетов</td>\n",
       "      <td>Джим Лемли, Джейсон Нетер, Марк Е.Платт, Яйн Смит</td>\n",
       "      <td>«18+» - запрещено для детей</td>\n",
       "      <td>NaN</td>\n",
       "      <td>NaN</td>\n",
       "      <td>NaN</td>\n",
       "      <td>NaN</td>\n",
       "      <td>6.8</td>\n",
       "      <td>фантастика,боевик,триллер</td>\n",
       "      <td>NaN</td>\n",
       "    </tr>\n",
       "    <tr>\n",
       "      <th>3</th>\n",
       "      <td>Особо опасен</td>\n",
       "      <td>221026916</td>\n",
       "      <td>2016-06-10T12:00:00.000Z</td>\n",
       "      <td>Художественный</td>\n",
       "      <td>Юниверсал Пикчерз, Кикстарт Продакшнз, Марк Пл...</td>\n",
       "      <td>США</td>\n",
       "      <td>Тимур Бекмамбетов</td>\n",
       "      <td>Джим Лемли, Джейсон Нетер, Марк Е.Платт, Яйн Смит</td>\n",
       "      <td>«18+» - запрещено для детей</td>\n",
       "      <td>NaN</td>\n",
       "      <td>NaN</td>\n",
       "      <td>NaN</td>\n",
       "      <td>NaN</td>\n",
       "      <td>6.8</td>\n",
       "      <td>фантастика,боевик,триллер</td>\n",
       "      <td>NaN</td>\n",
       "    </tr>\n",
       "    <tr>\n",
       "      <th>4</th>\n",
       "      <td>Особо опасен</td>\n",
       "      <td>221030815</td>\n",
       "      <td>2015-07-29T12:00:00.000Z</td>\n",
       "      <td>Художественный</td>\n",
       "      <td>Юниверсал Пикчерз, Кикстарт Продакшнз, Марк Пл...</td>\n",
       "      <td>США</td>\n",
       "      <td>Тимур Бекмамбетов</td>\n",
       "      <td>Джим Лемли, Джейсон Нетер, Марк Е.Платт, Яйн Смит</td>\n",
       "      <td>«18+» - запрещено для детей</td>\n",
       "      <td>NaN</td>\n",
       "      <td>NaN</td>\n",
       "      <td>NaN</td>\n",
       "      <td>NaN</td>\n",
       "      <td>6.8</td>\n",
       "      <td>фантастика,боевик,триллер</td>\n",
       "      <td>NaN</td>\n",
       "    </tr>\n",
       "    <tr>\n",
       "      <th>5</th>\n",
       "      <td>Остановился поезд</td>\n",
       "      <td>111013816</td>\n",
       "      <td>2016-09-13T12:00:00.000Z</td>\n",
       "      <td>Художественный</td>\n",
       "      <td>Киностудия \"Мосфильм\"</td>\n",
       "      <td>СССР</td>\n",
       "      <td>В.Абдрашитов</td>\n",
       "      <td>NaN</td>\n",
       "      <td>«6+» - для детей старше 6 лет</td>\n",
       "      <td>NaN</td>\n",
       "      <td>NaN</td>\n",
       "      <td>NaN</td>\n",
       "      <td>NaN</td>\n",
       "      <td>7.7</td>\n",
       "      <td>драма</td>\n",
       "      <td>NaN</td>\n",
       "    </tr>\n",
       "    <tr>\n",
       "      <th>6</th>\n",
       "      <td>Любовь и голуби</td>\n",
       "      <td>111007013</td>\n",
       "      <td>2013-10-18T12:00:00.000Z</td>\n",
       "      <td>Художественный</td>\n",
       "      <td>Киностудия \"Мосфильм\"</td>\n",
       "      <td>СССР</td>\n",
       "      <td>В.Меньшов</td>\n",
       "      <td>NaN</td>\n",
       "      <td>«12+» - для детей старше 12 лет</td>\n",
       "      <td>NaN</td>\n",
       "      <td>NaN</td>\n",
       "      <td>NaN</td>\n",
       "      <td>NaN</td>\n",
       "      <td>8.3</td>\n",
       "      <td>мелодрама,комедия</td>\n",
       "      <td>2,700.0</td>\n",
       "    </tr>\n",
       "    <tr>\n",
       "      <th>7</th>\n",
       "      <td>Любовь и сигареты</td>\n",
       "      <td>221074614</td>\n",
       "      <td>2014-12-29T12:00:00.000Z</td>\n",
       "      <td>Художественный</td>\n",
       "      <td>Юнайтед Артистс, Грин Стрит Филмз, Айкон Интер...</td>\n",
       "      <td>США</td>\n",
       "      <td>Джон Туртурро</td>\n",
       "      <td>Джон Пенотти, Джон Туртурро</td>\n",
       "      <td>«18+» - запрещено для детей</td>\n",
       "      <td>NaN</td>\n",
       "      <td>NaN</td>\n",
       "      <td>NaN</td>\n",
       "      <td>NaN</td>\n",
       "      <td>6.6</td>\n",
       "      <td>мюзикл,мелодрама,комедия</td>\n",
       "      <td>NaN</td>\n",
       "    </tr>\n",
       "    <tr>\n",
       "      <th>8</th>\n",
       "      <td>Отпетые мошенники.</td>\n",
       "      <td>121011416</td>\n",
       "      <td>2016-05-05T12:00:00.000Z</td>\n",
       "      <td>Художественный</td>\n",
       "      <td>Пульсар Продюксьон, ТФ1 Фильм</td>\n",
       "      <td>Франция</td>\n",
       "      <td>Эрик Беснард</td>\n",
       "      <td>Патрис Леду</td>\n",
       "      <td>«18+» - запрещено для детей</td>\n",
       "      <td>NaN</td>\n",
       "      <td>NaN</td>\n",
       "      <td>NaN</td>\n",
       "      <td>NaN</td>\n",
       "      <td>8.0</td>\n",
       "      <td>комедия,криминал</td>\n",
       "      <td>NaN</td>\n",
       "    </tr>\n",
       "    <tr>\n",
       "      <th>9</th>\n",
       "      <td>Отпуск за свой счет</td>\n",
       "      <td>111019114</td>\n",
       "      <td>2014-12-01T12:00:00.000Z</td>\n",
       "      <td>Художественный</td>\n",
       "      <td>Киностудия \"Мосфильм\", Телевидение ВНР</td>\n",
       "      <td>СССР, Венгрия</td>\n",
       "      <td>В.Титов</td>\n",
       "      <td>NaN</td>\n",
       "      <td>«12+» - для детей старше 12 лет</td>\n",
       "      <td>NaN</td>\n",
       "      <td>NaN</td>\n",
       "      <td>NaN</td>\n",
       "      <td>NaN</td>\n",
       "      <td>7.8</td>\n",
       "      <td>мелодрама,комедия</td>\n",
       "      <td>NaN</td>\n",
       "    </tr>\n",
       "  </tbody>\n",
       "</table>\n",
       "</div>"
      ],
      "text/plain": [
       "                  title   puNumber           show_start_date            type  \\\n",
       "0      Открытый простор  221048915  2015-11-27T12:00:00.000Z  Художественный   \n",
       "1  Особо важное задание  111013716  2016-09-13T12:00:00.000Z  Художественный   \n",
       "2          Особо опасен  221038416  2016-10-10T12:00:00.000Z  Художественный   \n",
       "3          Особо опасен  221026916  2016-06-10T12:00:00.000Z  Художественный   \n",
       "4          Особо опасен  221030815  2015-07-29T12:00:00.000Z  Художественный   \n",
       "5     Остановился поезд  111013816  2016-09-13T12:00:00.000Z  Художественный   \n",
       "6       Любовь и голуби  111007013  2013-10-18T12:00:00.000Z  Художественный   \n",
       "7     Любовь и сигареты  221074614  2014-12-29T12:00:00.000Z  Художественный   \n",
       "8    Отпетые мошенники.  121011416  2016-05-05T12:00:00.000Z  Художественный   \n",
       "9   Отпуск за свой счет  111019114  2014-12-01T12:00:00.000Z  Художественный   \n",
       "\n",
       "                                         film_studio production_country  \\\n",
       "0  Тачстоун Пикчерз, Кобальт Пикчерз, Бикон Пикче...                США   \n",
       "1                              Киностудия \"Мосфильм\"               СССР   \n",
       "2  Юниверсал Пикчерз, Кикстарт Продакшнз, Марк Пл...                США   \n",
       "3  Юниверсал Пикчерз, Кикстарт Продакшнз, Марк Пл...                США   \n",
       "4  Юниверсал Пикчерз, Кикстарт Продакшнз, Марк Пл...                США   \n",
       "5                              Киностудия \"Мосфильм\"               СССР   \n",
       "6                              Киностудия \"Мосфильм\"               СССР   \n",
       "7  Юнайтед Артистс, Грин Стрит Филмз, Айкон Интер...                США   \n",
       "8                     Пульсар Продюксьон, ТФ1 Фильм             Франция   \n",
       "9             Киностудия \"Мосфильм\", Телевидение ВНР      СССР, Венгрия   \n",
       "\n",
       "            director                                           producer  \\\n",
       "0      Кевин Костнер          Дэвид Валдес, Кевин Костнер, Джейк Эбертс   \n",
       "1          Е.Матвеев                                                NaN   \n",
       "2  Тимур Бекмамбетов  Джим Лемли, Джейсон Нетер, Марк Е.Платт, Яйн Смит   \n",
       "3  Тимур Бекмамбетов  Джим Лемли, Джейсон Нетер, Марк Е.Платт, Яйн Смит   \n",
       "4  Тимур Бекмамбетов  Джим Лемли, Джейсон Нетер, Марк Е.Платт, Яйн Смит   \n",
       "5       В.Абдрашитов                                                NaN   \n",
       "6          В.Меньшов                                                NaN   \n",
       "7      Джон Туртурро                        Джон Пенотти, Джон Туртурро   \n",
       "8       Эрик Беснард                                        Патрис Леду   \n",
       "9            В.Титов                                                NaN   \n",
       "\n",
       "                   age_restriction  refundable_support  nonrefundable_support  \\\n",
       "0      «18+» - запрещено для детей                 NaN                    NaN   \n",
       "1    «6+» - для детей старше 6 лет                 NaN                    NaN   \n",
       "2      «18+» - запрещено для детей                 NaN                    NaN   \n",
       "3      «18+» - запрещено для детей                 NaN                    NaN   \n",
       "4      «18+» - запрещено для детей                 NaN                    NaN   \n",
       "5    «6+» - для детей старше 6 лет                 NaN                    NaN   \n",
       "6  «12+» - для детей старше 12 лет                 NaN                    NaN   \n",
       "7      «18+» - запрещено для детей                 NaN                    NaN   \n",
       "8      «18+» - запрещено для детей                 NaN                    NaN   \n",
       "9  «12+» - для детей старше 12 лет                 NaN                    NaN   \n",
       "\n",
       "   budget financing_source ratings                     genres  box_office  \n",
       "0     NaN              NaN     7.2     боевик,драма,мелодрама         NaN  \n",
       "1     NaN              NaN     6.6              драма,военный         NaN  \n",
       "2     NaN              NaN     6.8  фантастика,боевик,триллер         NaN  \n",
       "3     NaN              NaN     6.8  фантастика,боевик,триллер         NaN  \n",
       "4     NaN              NaN     6.8  фантастика,боевик,триллер         NaN  \n",
       "5     NaN              NaN     7.7                      драма         NaN  \n",
       "6     NaN              NaN     8.3          мелодрама,комедия     2,700.0  \n",
       "7     NaN              NaN     6.6   мюзикл,мелодрама,комедия         NaN  \n",
       "8     NaN              NaN     8.0           комедия,криминал         NaN  \n",
       "9     NaN              NaN     7.8          мелодрама,комедия         NaN  "
      ]
     },
     "execution_count": 17,
     "metadata": {},
     "output_type": "execute_result"
    }
   ],
   "source": [
    "data.head(10)"
   ]
  },
  {
   "cell_type": "markdown",
   "metadata": {
    "id": "KLDGpPG0gFyM"
   },
   "source": [
    "## Предобработка данных"
   ]
  },
  {
   "cell_type": "markdown",
   "metadata": {
    "id": "ssWwKXsxgFyO"
   },
   "source": [
    "### Типы данных"
   ]
  },
  {
   "cell_type": "code",
   "execution_count": 18,
   "metadata": {
    "id": "kVGSplJOgFyO"
   },
   "outputs": [
    {
     "data": {
      "text/plain": [
       "title                     object\n",
       "puNumber                  object\n",
       "show_start_date           object\n",
       "type                      object\n",
       "film_studio               object\n",
       "production_country        object\n",
       "director                  object\n",
       "producer                  object\n",
       "age_restriction           object\n",
       "refundable_support       float64\n",
       "nonrefundable_support    float64\n",
       "budget                   float64\n",
       "financing_source          object\n",
       "ratings                   object\n",
       "genres                    object\n",
       "box_office               float64\n",
       "dtype: object"
      ]
     },
     "execution_count": 18,
     "metadata": {},
     "output_type": "execute_result"
    }
   ],
   "source": [
    "data.dtypes"
   ]
  },
  {
   "cell_type": "code",
   "execution_count": 19,
   "metadata": {},
   "outputs": [
    {
     "data": {
      "text/plain": [
       "array(['7.2', '6.6', '6.8', '7.7', '8.3', '8.0', '7.8', '8.1', '7.1',\n",
       "       '6.0', '7.4', '5.8', '8.7', '6.3', '6.9', '5.0', '4.3', '7.3',\n",
       "       '7.0', '6.4', nan, '8.2', '7.5', '6.7', '7.9', '5.9', '6.2', '5.6',\n",
       "       '6.5', '2.4', '7.6', '6.1', '8.6', '8.5', '8.8', '5.5', '5.1',\n",
       "       '5.7', '5.4', '99%', '4.4', '4.5', '5.3', '4.1', '8.4', '2.6',\n",
       "       '3.8', '4.6', '4.8', '4.0', '3.0', '1.6', '4.2', '5.2', '4.7',\n",
       "       '4.9', '3.9', '2.7', '3.3', '2.9', '28%', '3.7', '1.4', '3.1',\n",
       "       '97%', '3.5', '3.2', '2.8', '1.5', '2.1', '2.5', '9.2', '3.4',\n",
       "       '1.1', '3.6', '83%', '64%', '91%', '94%', '62%', '79%', '90%',\n",
       "       '19%', '88%', '1.0', '89%', '1.3', '1.9', '1.8', '1.2', '1.7',\n",
       "       '9.0', '98%', '8.9', '9.1'], dtype=object)"
      ]
     },
     "execution_count": 19,
     "metadata": {},
     "output_type": "execute_result"
    }
   ],
   "source": [
    "#посмотрим, какие значения содержатся в данном столбце\n",
    "data['ratings'].unique()"
   ]
  },
  {
   "cell_type": "code",
   "execution_count": 20,
   "metadata": {},
   "outputs": [],
   "source": [
    "#уберем знак процента из значений\n",
    "data['ratings'] = data['ratings'].str.replace('%', '')"
   ]
  },
  {
   "cell_type": "code",
   "execution_count": 21,
   "metadata": {},
   "outputs": [
    {
     "data": {
      "text/plain": [
       "95"
      ]
     },
     "execution_count": 21,
     "metadata": {},
     "output_type": "execute_result"
    }
   ],
   "source": [
    "len(data['ratings'].unique())"
   ]
  },
  {
   "cell_type": "code",
   "execution_count": 22,
   "metadata": {},
   "outputs": [],
   "source": [
    "#переведем столбец из object в float\n",
    "data['ratings'] = data['ratings'].astype('float')"
   ]
  },
  {
   "cell_type": "code",
   "execution_count": 23,
   "metadata": {},
   "outputs": [],
   "source": [
    "#преобразуем проценты в доли\n",
    "data.loc[data['ratings'] > 10, 'ratings'] = data.loc[data['ratings'] > 10, 'ratings'] / 10"
   ]
  },
  {
   "cell_type": "code",
   "execution_count": 24,
   "metadata": {},
   "outputs": [
    {
     "data": {
      "text/plain": [
       "85"
      ]
     },
     "execution_count": 24,
     "metadata": {},
     "output_type": "execute_result"
    }
   ],
   "source": [
    "len(data['ratings'].unique())"
   ]
  },
  {
   "cell_type": "code",
   "execution_count": 25,
   "metadata": {},
   "outputs": [],
   "source": [
    "#преобразуем столбец с датой к правильному типу\n",
    "data['show_start_date'] = pd.to_datetime(data['show_start_date'], format='%Y.%m.%dT%H:%M:%S')"
   ]
  },
  {
   "cell_type": "code",
   "execution_count": 26,
   "metadata": {},
   "outputs": [
    {
     "data": {
      "text/plain": [
       "title                                 object\n",
       "puNumber                              object\n",
       "show_start_date          datetime64[ns, UTC]\n",
       "type                                  object\n",
       "film_studio                           object\n",
       "production_country                    object\n",
       "director                              object\n",
       "producer                              object\n",
       "age_restriction                       object\n",
       "refundable_support                   float64\n",
       "nonrefundable_support                float64\n",
       "budget                               float64\n",
       "financing_source                      object\n",
       "ratings                              float64\n",
       "genres                                object\n",
       "box_office                           float64\n",
       "dtype: object"
      ]
     },
     "execution_count": 26,
     "metadata": {},
     "output_type": "execute_result"
    }
   ],
   "source": [
    "data.dtypes"
   ]
  },
  {
   "cell_type": "markdown",
   "metadata": {},
   "source": [
    "Все столбцы приведены к соответствующим типам"
   ]
  },
  {
   "cell_type": "markdown",
   "metadata": {
    "id": "i0MOLbF-gFyP"
   },
   "source": [
    "### Изучение пропусков в датафрейме\n"
   ]
  },
  {
   "cell_type": "code",
   "execution_count": 27,
   "metadata": {
    "id": "8MJD_lkngFyP"
   },
   "outputs": [
    {
     "data": {
      "text/plain": [
       "refundable_support       7154\n",
       "nonrefundable_support    7154\n",
       "budget                   7154\n",
       "financing_source         7154\n",
       "box_office               4328\n",
       "genres                    976\n",
       "ratings                   967\n",
       "producer                  568\n",
       "film_studio                18\n",
       "director                    9\n",
       "production_country          2\n",
       "title                       0\n",
       "puNumber                    0\n",
       "show_start_date             0\n",
       "type                        0\n",
       "age_restriction             0\n",
       "dtype: int64"
      ]
     },
     "execution_count": 27,
     "metadata": {},
     "output_type": "execute_result"
    }
   ],
   "source": [
    "data.isna().sum().sort_values(ascending=False)"
   ]
  },
  {
   "cell_type": "markdown",
   "metadata": {},
   "source": [
    "Информации о финансах нам не известа, здесь не може заменить пропуски"
   ]
  },
  {
   "cell_type": "markdown",
   "metadata": {
    "id": "4c6k1t9ygFyQ"
   },
   "source": [
    "### Изучение дубликатов в датафрейме"
   ]
  },
  {
   "cell_type": "code",
   "execution_count": 28,
   "metadata": {
    "id": "aKck8RIdgFyQ"
   },
   "outputs": [
    {
     "data": {
      "text/plain": [
       "0"
      ]
     },
     "execution_count": 28,
     "metadata": {},
     "output_type": "execute_result"
    }
   ],
   "source": [
    "data.duplicated().sum()"
   ]
  },
  {
   "cell_type": "code",
   "execution_count": 29,
   "metadata": {},
   "outputs": [
    {
     "data": {
      "text/plain": [
       "(7486, 16)"
      ]
     },
     "execution_count": 29,
     "metadata": {},
     "output_type": "execute_result"
    }
   ],
   "source": [
    "data.shape"
   ]
  },
  {
   "cell_type": "code",
   "execution_count": 30,
   "metadata": {},
   "outputs": [
    {
     "data": {
      "text/plain": [
       "puNumber                 7484\n",
       "title                    6772\n",
       "film_studio              5490\n",
       "producer                 5349\n",
       "director                 4811\n",
       "box_office               2938\n",
       "show_start_date          1965\n",
       "production_country        950\n",
       "genres                    742\n",
       "budget                    290\n",
       "ratings                    84\n",
       "nonrefundable_support      75\n",
       "refundable_support         34\n",
       "type                        8\n",
       "age_restriction             5\n",
       "financing_source            3\n",
       "dtype: int64"
      ]
     },
     "execution_count": 30,
     "metadata": {},
     "output_type": "execute_result"
    }
   ],
   "source": [
    "data.nunique().sort_values(ascending=False)"
   ]
  },
  {
   "cell_type": "code",
   "execution_count": 31,
   "metadata": {},
   "outputs": [
    {
     "data": {
      "text/html": [
       "<div>\n",
       "<style scoped>\n",
       "    .dataframe tbody tr th:only-of-type {\n",
       "        vertical-align: middle;\n",
       "    }\n",
       "\n",
       "    .dataframe tbody tr th {\n",
       "        vertical-align: top;\n",
       "    }\n",
       "\n",
       "    .dataframe thead th {\n",
       "        text-align: right;\n",
       "    }\n",
       "</style>\n",
       "<table border=\"1\" class=\"dataframe\">\n",
       "  <thead>\n",
       "    <tr style=\"text-align: right;\">\n",
       "      <th></th>\n",
       "      <th>title</th>\n",
       "      <th>puNumber</th>\n",
       "      <th>show_start_date</th>\n",
       "      <th>type</th>\n",
       "      <th>film_studio</th>\n",
       "      <th>production_country</th>\n",
       "      <th>director</th>\n",
       "      <th>producer</th>\n",
       "      <th>age_restriction</th>\n",
       "      <th>refundable_support</th>\n",
       "      <th>nonrefundable_support</th>\n",
       "      <th>budget</th>\n",
       "      <th>financing_source</th>\n",
       "      <th>ratings</th>\n",
       "      <th>genres</th>\n",
       "      <th>box_office</th>\n",
       "    </tr>\n",
       "  </thead>\n",
       "  <tbody>\n",
       "    <tr>\n",
       "      <th>4638</th>\n",
       "      <td>Как жениться и остаться холостым</td>\n",
       "      <td>221154310</td>\n",
       "      <td>2010-12-17 12:00:00+00:00</td>\n",
       "      <td>Художественный</td>\n",
       "      <td>Ше Вам, Скрипт Ассосье, Тэ Фэ 1 Фильм Продюксь...</td>\n",
       "      <td>Франция</td>\n",
       "      <td>Эрик Лартиго</td>\n",
       "      <td>Амандин Било, Алан Шаба</td>\n",
       "      <td>«16+» - для детей старше 16 лет</td>\n",
       "      <td>NaN</td>\n",
       "      <td>NaN</td>\n",
       "      <td>NaN</td>\n",
       "      <td>NaN</td>\n",
       "      <td>7.0</td>\n",
       "      <td>мелодрама,комедия</td>\n",
       "      <td>NaN</td>\n",
       "    </tr>\n",
       "    <tr>\n",
       "      <th>4639</th>\n",
       "      <td>Иоанна - женщина на папском престоле /По роман...</td>\n",
       "      <td>221154310</td>\n",
       "      <td>2010-12-17 12:00:00+00:00</td>\n",
       "      <td>Художественный</td>\n",
       "      <td>Константин Фильм, А Эр Ди Дегето Фильм, Дюне ...</td>\n",
       "      <td>Германия - Великобритания - Италия - Испания</td>\n",
       "      <td>Зенке Вортманн</td>\n",
       "      <td>Оливер Бербен, Дорис Д.Хайнце, Фарук Элтан</td>\n",
       "      <td>«16+» - для детей старше 16 лет</td>\n",
       "      <td>NaN</td>\n",
       "      <td>NaN</td>\n",
       "      <td>NaN</td>\n",
       "      <td>NaN</td>\n",
       "      <td>7.6</td>\n",
       "      <td>драма,мелодрама,история</td>\n",
       "      <td>NaN</td>\n",
       "    </tr>\n",
       "    <tr>\n",
       "      <th>5067</th>\n",
       "      <td>Анализируй это!</td>\n",
       "      <td>221054410</td>\n",
       "      <td>2010-05-25 12:00:00+00:00</td>\n",
       "      <td>Художественный</td>\n",
       "      <td>Уорнер Бразерс, Вилладж Роудшоу Филмз ЛТД</td>\n",
       "      <td>США-Австралия</td>\n",
       "      <td>ХЭрольд Рэмис</td>\n",
       "      <td>Джейн Розенталь, Пола Уейнстейн</td>\n",
       "      <td>«16+» - для детей старше 16 лет</td>\n",
       "      <td>NaN</td>\n",
       "      <td>NaN</td>\n",
       "      <td>NaN</td>\n",
       "      <td>NaN</td>\n",
       "      <td>7.4</td>\n",
       "      <td>комедия,криминал</td>\n",
       "      <td>NaN</td>\n",
       "    </tr>\n",
       "    <tr>\n",
       "      <th>5068</th>\n",
       "      <td>Анализируй то!</td>\n",
       "      <td>221054410</td>\n",
       "      <td>2010-05-25 12:00:00+00:00</td>\n",
       "      <td>Художественный</td>\n",
       "      <td>Уорнер Бразерс, Виллидж Роадшоу Пикчерз, Эн-Пи...</td>\n",
       "      <td>США</td>\n",
       "      <td>Гарольд Реймис</td>\n",
       "      <td>Джейн Розенталь, Паул Уэйнстейн</td>\n",
       "      <td>«12+» - для детей старше 12 лет</td>\n",
       "      <td>NaN</td>\n",
       "      <td>NaN</td>\n",
       "      <td>NaN</td>\n",
       "      <td>NaN</td>\n",
       "      <td>6.8</td>\n",
       "      <td>комедия,криминал</td>\n",
       "      <td>NaN</td>\n",
       "    </tr>\n",
       "  </tbody>\n",
       "</table>\n",
       "</div>"
      ],
      "text/plain": [
       "                                                  title   puNumber  \\\n",
       "4638                   Как жениться и остаться холостым  221154310   \n",
       "4639  Иоанна - женщина на папском престоле /По роман...  221154310   \n",
       "5067                                    Анализируй это!  221054410   \n",
       "5068                                     Анализируй то!  221054410   \n",
       "\n",
       "               show_start_date            type  \\\n",
       "4638 2010-12-17 12:00:00+00:00  Художественный   \n",
       "4639 2010-12-17 12:00:00+00:00  Художественный   \n",
       "5067 2010-05-25 12:00:00+00:00  Художественный   \n",
       "5068 2010-05-25 12:00:00+00:00  Художественный   \n",
       "\n",
       "                                            film_studio  \\\n",
       "4638  Ше Вам, Скрипт Ассосье, Тэ Фэ 1 Фильм Продюксь...   \n",
       "4639   Константин Фильм, А Эр Ди Дегето Фильм, Дюне ...   \n",
       "5067          Уорнер Бразерс, Вилладж Роудшоу Филмз ЛТД   \n",
       "5068  Уорнер Бразерс, Виллидж Роадшоу Пикчерз, Эн-Пи...   \n",
       "\n",
       "                                production_country        director  \\\n",
       "4638                                       Франция    Эрик Лартиго   \n",
       "4639  Германия - Великобритания - Италия - Испания  Зенке Вортманн   \n",
       "5067                                 США-Австралия   ХЭрольд Рэмис   \n",
       "5068                                           США  Гарольд Реймис   \n",
       "\n",
       "                                        producer  \\\n",
       "4638                     Амандин Било, Алан Шаба   \n",
       "4639  Оливер Бербен, Дорис Д.Хайнце, Фарук Элтан   \n",
       "5067             Джейн Розенталь, Пола Уейнстейн   \n",
       "5068             Джейн Розенталь, Паул Уэйнстейн   \n",
       "\n",
       "                      age_restriction  refundable_support  \\\n",
       "4638  «16+» - для детей старше 16 лет                 NaN   \n",
       "4639  «16+» - для детей старше 16 лет                 NaN   \n",
       "5067  «16+» - для детей старше 16 лет                 NaN   \n",
       "5068  «12+» - для детей старше 12 лет                 NaN   \n",
       "\n",
       "      nonrefundable_support  budget financing_source  ratings  \\\n",
       "4638                    NaN     NaN              NaN      7.0   \n",
       "4639                    NaN     NaN              NaN      7.6   \n",
       "5067                    NaN     NaN              NaN      7.4   \n",
       "5068                    NaN     NaN              NaN      6.8   \n",
       "\n",
       "                       genres  box_office  \n",
       "4638        мелодрама,комедия         NaN  \n",
       "4639  драма,мелодрама,история         NaN  \n",
       "5067         комедия,криминал         NaN  \n",
       "5068         комедия,криминал         NaN  "
      ]
     },
     "execution_count": 31,
     "metadata": {},
     "output_type": "execute_result"
    }
   ],
   "source": [
    "data.loc[data['puNumber'].duplicated(keep=False)]"
   ]
  },
  {
   "cell_type": "markdown",
   "metadata": {},
   "source": [
    "Несмотря на повторяющийся номер прокатного удостоверения, остальные данные отличаются, оставим эти строки без изменений"
   ]
  },
  {
   "cell_type": "markdown",
   "metadata": {
    "id": "52fOPrEBgFyQ"
   },
   "source": [
    "### Изучение категориальные значения"
   ]
  },
  {
   "cell_type": "code",
   "execution_count": 32,
   "metadata": {},
   "outputs": [
    {
     "data": {
      "text/plain": [
       "title                                 object\n",
       "puNumber                              object\n",
       "show_start_date          datetime64[ns, UTC]\n",
       "type                                  object\n",
       "film_studio                           object\n",
       "production_country                    object\n",
       "director                              object\n",
       "producer                              object\n",
       "age_restriction                       object\n",
       "refundable_support                   float64\n",
       "nonrefundable_support                float64\n",
       "budget                               float64\n",
       "financing_source                      object\n",
       "ratings                              float64\n",
       "genres                                object\n",
       "box_office                           float64\n",
       "dtype: object"
      ]
     },
     "execution_count": 32,
     "metadata": {},
     "output_type": "execute_result"
    }
   ],
   "source": [
    "data.dtypes"
   ]
  },
  {
   "cell_type": "code",
   "execution_count": 33,
   "metadata": {},
   "outputs": [
    {
     "data": {
      "text/plain": [
       "array([' Анимационный', ' Художественный', 'Анимационный',\n",
       "       'Документальный', 'Музыкально-развлекательный',\n",
       "       'Научно-популярный', 'Прочие', 'Художественный'], dtype=object)"
      ]
     },
     "execution_count": 33,
     "metadata": {},
     "output_type": "execute_result"
    }
   ],
   "source": [
    "data['type'].sort_values().unique()"
   ]
  },
  {
   "cell_type": "code",
   "execution_count": 34,
   "metadata": {},
   "outputs": [],
   "source": [
    "#удалим пробелы из начала и конца строк\n",
    "data['type'] = data['type'].str.strip()"
   ]
  },
  {
   "cell_type": "code",
   "execution_count": 35,
   "metadata": {},
   "outputs": [
    {
     "data": {
      "text/plain": [
       "array(['Анимационный', 'Документальный', 'Музыкально-развлекательный',\n",
       "       'Научно-популярный', 'Прочие', 'Художественный'], dtype=object)"
      ]
     },
     "execution_count": 35,
     "metadata": {},
     "output_type": "execute_result"
    }
   ],
   "source": [
    "data['type'].sort_values().unique()"
   ]
  },
  {
   "cell_type": "code",
   "execution_count": 36,
   "metadata": {},
   "outputs": [
    {
     "data": {
      "text/plain": [
       "5491"
      ]
     },
     "execution_count": 36,
     "metadata": {},
     "output_type": "execute_result"
    }
   ],
   "source": [
    "len(data['film_studio'].unique())"
   ]
  },
  {
   "cell_type": "code",
   "execution_count": 37,
   "metadata": {},
   "outputs": [],
   "source": [
    "#удалим пробелы из начала и конца строк, заменим ё на е\n",
    "data['film_studio'] = data['film_studio'].replace('ё', 'е').str.strip().str.lower()"
   ]
  },
  {
   "cell_type": "code",
   "execution_count": 38,
   "metadata": {},
   "outputs": [
    {
     "data": {
      "text/plain": [
       "5423"
      ]
     },
     "execution_count": 38,
     "metadata": {},
     "output_type": "execute_result"
    }
   ],
   "source": [
    "len(data['film_studio'].unique())"
   ]
  },
  {
   "cell_type": "code",
   "execution_count": 39,
   "metadata": {},
   "outputs": [
    {
     "data": {
      "text/plain": [
       "array([' СССР', ' СССР ', ' СССР   ', '2019', 'CША', 'Австралия',\n",
       "       'Австралия - Великобритания - Бельгия - Индия',\n",
       "       'Австралия - Германия', 'Австралия - Ирландия',\n",
       "       'Австралия - Колумбия', 'Австралия - США', 'Австралия, Канада',\n",
       "       'Австралия, США', 'Австралия-Великобритания', 'Австралия-Ирландия',\n",
       "       'Австралия-США', 'Австралия-Турция-США', 'Австрия',\n",
       "       'Австрия - Германия', 'Австрия - Германия - Франция',\n",
       "       'Австрия - Люксембург', 'Австрия, Великобритания, Германия',\n",
       "       'Австрия-Германия-Франция', 'Австрия-Франция-Германия',\n",
       "       'Азербайджан-Россия', 'Аргентина', 'Аргентина - Бразилия',\n",
       "       'Аргентина - Испания', 'Аргентина - Испания - Уругвай',\n",
       "       'Аргентина - Мексика - Бразилия - Франция - США',\n",
       "       'Аргентина - Уругвай - Россия - Германия - Франция - Нидерланды',\n",
       "       'Аргентина - Франция - Испания', 'Аргентина, Испания',\n",
       "       'Аргентина-Испания', 'Армения', 'Армения - Германия',\n",
       "       'Армения - Казахстан', 'Армения-Россия', 'Бельгия',\n",
       "       'Бельгия - Германия - Люксембург',\n",
       "       'Бельгия - Германия - Люксембург - Франция',\n",
       "       'Бельгия - Испания - Канада - Нидерланды',\n",
       "       'Бельгия - Италия - Франция ', 'Бельгия - Люксембург',\n",
       "       'Бельгия - Люксембург - Франция - Швейцария',\n",
       "       'Бельгия - Нидерланды - Франция', 'Бельгия - США',\n",
       "       'Бельгия - Франция', 'Бельгия - Франция - Люксембург',\n",
       "       'Бельгия, Великобритания, США', 'Бельгия, Канада',\n",
       "       'Бельгия-Германия-Канада-Франция-США-Великобритания',\n",
       "       'Бельгия-Нидерланды', 'Бельгия-Франция', 'Бельгия-Франция-Италия',\n",
       "       'Болгария', 'Болгария - США', 'Болгария - Франция - Изриль',\n",
       "       'Босния и Герцеговина - Франция - Великобритания - Германия - Словения - Бельгия - Сербия',\n",
       "       'Бразилия', 'Бразилия - Германия - Порртугалия - Франция ',\n",
       "       'Бразилия - Испания', 'Бразилия - К;анада',\n",
       "       'Бразилия - Канада - США', 'Бразилия - Португалия - Франция',\n",
       "       'Бразилия - США', 'Бразилия - США - КНР ',\n",
       "       'Бразилия, Уругвай, Дания, Норвегия, Чили, Швеция',\n",
       "       'Великобритания', 'Великобритания ',\n",
       "       'Великобритания - Австралия - США',\n",
       "       'Великобритания - Австрия - Германия',\n",
       "       'Великобритания - Австрия - Франция - США',\n",
       "       'Великобритания - Аргентина - США - Франция - Россия - Испания',\n",
       "       'Великобритания - Германия',\n",
       "       'Великобритания - Германия - Нидерланды - Дания',\n",
       "       'Великобритания - Германия - США',\n",
       "       'Великобритания - Германия - Франция - Кипр - США',\n",
       "       'Великобритания - Гонконг - Венгрия - США - Ирландия',\n",
       "       'Великобритания - Дания', 'Великобритания - Израиль',\n",
       "       'Великобритания - Израиль - Франция - Япония - США',\n",
       "       'Великобритания - Ирландия', 'Великобритания - Ирландия - США',\n",
       "       'Великобритания - Ирландия - США ',\n",
       "       'Великобритания - Исландия - Испания - Швейцария - США',\n",
       "       'Великобритания - Испания', 'Великобритания - Испания - Германия',\n",
       "       'Великобритания - Испания - Италия - Латвия - Франция - Эстония',\n",
       "       'Великобритания - Испания - Непал - Индия - Венгрия - Гонконг - Германия - Дания - Бахрейн',\n",
       "       'Великобритания - Италия', 'Великобритания - Италия - Испания',\n",
       "       'Великобритания - Италия - Швейцария', 'Великобритания - КНР',\n",
       "       'Великобритания - Канада', 'Великобритания - Канада - США',\n",
       "       'Великобритания - Люксембург', 'Великобритания - Мексика - США',\n",
       "       'Великобритания - Нидерланды - Германия - Франция - Бельгия - Австрия ',\n",
       "       'Великобритания - Нидерланды - Франция - США',\n",
       "       'Великобритания - Нидерланды - Франция - Хорватия',\n",
       "       'Великобритания - Новая Зеландия',\n",
       "       'Великобритания - Норвегия - Дания - Германия',\n",
       "       'Великобритания - Норвегия - Кения - Хорватия',\n",
       "       'Великобритания - Польша',\n",
       "       'Великобритания - Польша - КНР - Индия - Норвегия',\n",
       "       'Великобритания - Пуэрто-Рико', 'Великобритания - Россия - КНР',\n",
       "       'Великобритания - Россия - Украина - США',\n",
       "       'Великобритания - Румыния', 'Великобритания - США',\n",
       "       'Великобритания - США - Австралия - Ирландия - Германия - Куба - Канада',\n",
       "       'Великобритания - США - Германия',\n",
       "       'Великобритания - США - Германия - Бельгия',\n",
       "       'Великобритания - США - Германия - Канада - Австралия',\n",
       "       'Великобритания - США - Индия', 'Великобритания - США - Канада',\n",
       "       'Великобритания - США - Канада - Бельгия - Нидерланды - Австрия - Германия',\n",
       "       'Великобритания - США - Канада - Нидерланды - Франция',\n",
       "       'Великобритания - США - Россия', 'Великобритания - США - Франция',\n",
       "       'Великобритания - США - Швейцария', 'Великобритания - Франция',\n",
       "       'Великобритания - Франция - Австрия - Швеция',\n",
       "       'Великобритания - Франция - Бельгия',\n",
       "       'Великобритания - Франция - Бельгия - Италия',\n",
       "       'Великобритания - Франция - Бельгия - США',\n",
       "       'Великобритания - Франция - Венгрия',\n",
       "       'Великобритания - Франция - Германия',\n",
       "       'Великобритания - Франция - Германия - США',\n",
       "       'Великобритания - Франция - Италия',\n",
       "       'Великобритания - Франция - Италия - Индия - Дания - КНР - Бангладеш - Камбоджа - Гаити - Уганда',\n",
       "       'Великобритания - Франция - Италия - США',\n",
       "       'Великобритания - Франция - Республика Кипр - Швейцария - США - Сербия',\n",
       "       'Великобритания - Франция - США',\n",
       "       'Великобритания - Франция - Швеция - Бельгия',\n",
       "       'Великобритания - Чехия - Франция',\n",
       "       'Великобритания - Чехия - Франция - Италия',\n",
       "       'Великобритания - ЮАР', 'Великобритания - Япония - США',\n",
       "       'Великобритания, Австралия',\n",
       "       'Великобритания, Германия, Дания, США', 'Великобритания, Канада',\n",
       "       'Великобритания, Канада, США',\n",
       "       'Великобритания, Нидерланды, Польша, Швейцария, Франция',\n",
       "       'Великобритания, Новая Зеландия', 'Великобритания, США',\n",
       "       'Великобритания, США, Испания', 'Великобритания, Франция',\n",
       "       'Великобритания, Франция, Бельгия', 'Великобритания, Швеция, США',\n",
       "       'Великобритания, Южная Корея, Канада, США, Индия, Китай, Япония',\n",
       "       'Великобритания, Япония, США', 'Великобритания-Австралия - США',\n",
       "       'Великобритания-Венгрия', 'Великобритания-Германия-Канада-ЮАР',\n",
       "       'Великобритания-США', 'Великобритания-США-Германия-КНР',\n",
       "       'Великобритания-США-Франция', 'Великобритания-Франция',\n",
       "       'Великобритания-Франция-Германия', 'Великобритания-Франция-Италия',\n",
       "       'Венгрия', 'Венгрия - Германия - Швеция', 'Венесуэла', 'Германия',\n",
       "       'Германия - Австралия', 'Германия - Австрия',\n",
       "       'Германия - Австрия - Ирландия', 'Германия - Австрия - Франция',\n",
       "       'Германия - Аргентина - Нидерланды - Чили', 'Германия - Бельгия',\n",
       "       'Германия - Бельгия - Великобритания',\n",
       "       'Германия - Бельгия - Люксембург - Ирландия',\n",
       "       'Германия - Бельгия - Люксембург - Норвегия',\n",
       "       'Германия - Бельгия - США -Франция', 'Германия - Великобритания',\n",
       "       'Германия - Великобритания - Австрия',\n",
       "       'Германия - Великобритания - Италия - Испания',\n",
       "       'Германия - Великобритания - США',\n",
       "       'Германия - Дания - Испания - Швеция - Канада - Эстония - Франция',\n",
       "       'Германия - Дания - Норвегия', 'Германия - Исландия',\n",
       "       'Германия - Италия', 'Германия - Италия - США',\n",
       "       'Германия - Италия - Франция', 'Германия - Канада',\n",
       "       'Германия - Китай', 'Германия - Люксембург - Бельгия',\n",
       "       'Германия - Люксембург - Дания', 'Германия - Люксембург - Франция',\n",
       "       'Германия - Нидерланды - Беларусь - Россия - Латвия',\n",
       "       'Германия - Нидерланды - ЮАР', 'Германия - Россия',\n",
       "       'Германия - США', 'Германия - США - Великобритания - Израиль',\n",
       "       'Германия - США - Великобритания - Ирландия',\n",
       "       'Германия - США - Франция - Испания',\n",
       "       'Германия - США - Швеция - Франция',\n",
       "       'Германия - Финляндия - Австралия', 'Германия - Франция',\n",
       "       'Германия - Франция -  Польша - Турция - Канада - Италия - Россия ',\n",
       "       'Германия - Франция - Австрия', 'Германия - Франция - Бельгия',\n",
       "       'Германия - Франция - Великобритания - Польша - США',\n",
       "       'Германия - Франция - Канада', 'Германия - Франция - Люксембург',\n",
       "       'Германия - Франция - Польша', 'Германия - Швейцария',\n",
       "       'Германия - Швейцария - Франция - Южная Корея - США',\n",
       "       'Германия, Австралия', 'Германия, Бельгия', 'Германия, Россия',\n",
       "       'Германия, США', 'Германия, Франция',\n",
       "       'Германия, Франция, Великобритания', 'Германия, Франция, США',\n",
       "       'Германия-Австрия', 'Германия-Австрия-Франция-Италия',\n",
       "       'Германия-Великобритания', 'Германия-Израиль',\n",
       "       'Германия-Италия- Шри-Ланка', 'Германия-Италия-Швейцария',\n",
       "       'Германия-Канада-Великобритания-Швейцария-Франция',\n",
       "       'Германия-Канада-Франция-Бельгия', 'Германия-Кения',\n",
       "       'Германия-США', 'Германия-Украина-Нидерланды',\n",
       "       'Германия-Франция-Великобритания',\n",
       "       'Германия-Франция-Великобритания-США', 'Германия-Франция-Польша',\n",
       "       'Германия-Швеция', 'Голландия', 'Гонконг', 'Гонконг - КНР',\n",
       "       'Гонконг - Сингапур - Таиланд - Великобритания', 'Гонконг, КНР',\n",
       "       'Греция', 'Греция - Германия - Франция', 'Греция - Россия',\n",
       "       'Грузия', 'Грузия - Россия - Украина - Хорватия - Германия',\n",
       "       'Грузия - Украина', 'Грузия - Франция - Люксембург',\n",
       "       'Грузия-Россия', 'Грузия-Франция', 'Дания',\n",
       "       'Дания - Австрия - Ирландия - Финляндия - Норвегия - Швеция - Нидерланды',\n",
       "       'Дания - Великобритания - ЮАР', 'Дания - Германия',\n",
       "       'Дания - Германия - Швеция', 'Дания - Исландия',\n",
       "       'Дания - Канада - Швеция - Франция - Германия - Великобритания - США',\n",
       "       'Дания - Латвия - Россия - США',\n",
       "       'Дания - Норвегия - Великобритания', 'Дания - США',\n",
       "       'Дания - Франция - Германия - Швеция',\n",
       "       'Дания - Франция - Италия - Бельгия - Нидерланды',\n",
       "       'Дания - Швейцария - Бельгия - Франция', 'Дания - Швеция',\n",
       "       'Дания - Швеция - Великобритания - Франция - Германия - Нидерланды - Норвегия - Финляндия',\n",
       "       'Дания - Швеция - Италия - Франция - Германия',\n",
       "       'Дания, Канада, Норвегия, Австралия, США',\n",
       "       'Дания, Норвегия, Венгрия, Чехия',\n",
       "       'Дания, Норвегия, Швеция, Исландия',\n",
       "       'Дания, Швеция, Великобритания, Франция, Германия, Норвегия, Финляндия, Нидерланды, Италия',\n",
       "       'Дания-Франция-Бельгия-Германия-Великобритания',\n",
       "       'Дания-Швеция-Франция-Германия', 'Израиль',\n",
       "       'Израиль - Германия - Польша - Бельгия - Франция - Люксембург',\n",
       "       'Израиль - Германия - Франция - Швейцария', 'Израиль - Франция',\n",
       "       'Израиль - Франция - Великобритания - Германия',\n",
       "       'Израиль - Франция - Германия - Палестина - США - Австрия - Великобритания',\n",
       "       'Израиль, Украина', 'Израиль-США-Франция', 'Индия',\n",
       "       'Индия - Великобритания', 'Индия - КНР', 'Индия - Мексика',\n",
       "       'Индия - США', 'Индонезия', 'Иран', 'Иран ', 'Иран, Франция',\n",
       "       'Ирландия', 'Ирландия - Великобритания - Канада',\n",
       "       'Ирландия - Великобритания - США',\n",
       "       'Ирландия - Великобритания - Франция - США',\n",
       "       'Ирландия - Великобритания - Франция - США - Германия - Нидерланды',\n",
       "       'Ирландия - Дания - Бельгия - Люксембург - Франция',\n",
       "       'Ирландия - США',\n",
       "       'Ирландия - Финляндия - Бельгия - Великобритания - США - Швейцария',\n",
       "       'Ирландия, Великобритания', 'Ирландия, Канада',\n",
       "       'Ирландия-Великобритания', 'Ирландия-Великобритания-Германия',\n",
       "       'Ирландия-Нидерланды-Франция-США-Великобритания', 'Исландия',\n",
       "       'Исландия - Финляндия', 'Исландия, Бельгия',\n",
       "       'Исландия-Ирландия-Германия', 'Испания', 'Испания - Аргентина',\n",
       "       'Испания - Аргентина - Индия - США',\n",
       "       'Испания - Бельгия - Франция - Португалия - Великобритания',\n",
       "       'Испания - Болгария - США', 'Испания - Великобритания - Франция',\n",
       "       'Испания - Германия - Нидерланды', 'Испания - Италия - Франция',\n",
       "       'Испания - Канада', 'Испания - Канада - Япония', 'Испания - Куба',\n",
       "       'Испания - Мальта', 'Испания - Мексика', 'Испания - США',\n",
       "       'Испания - США - Великобритания - Канада',\n",
       "       'Испания - США - Колумбия', 'Испания - Уругвай - Аргентина',\n",
       "       'Испания - Франция',\n",
       "       'Испания - Франция - Нидерланды - Германия - Бельгия - Великобритания - Канада',\n",
       "       'Испания - Франция - США - Великобритания - Бельгия',\n",
       "       'Испания - Швейцария - Великобритания - Германия - Новая Зеландия - Нидерланды - Канада',\n",
       "       'Испания, Ирландия, Бельгия, Франция',\n",
       "       'Испания, Франция, Великобритания, Дания, Бельгия, Германия',\n",
       "       'Испания, Франция, Италия', 'Испания-Аргентина', 'Испания-Канада',\n",
       "       'Испания-Колумбия', 'Испания-Мексика',\n",
       "       'Испания-Франция-Греция-Индия-США-Россия-Великобритания', 'Италия',\n",
       "       'Италия ', 'Италия - Аргентина - Словения ',\n",
       "       'Италия - Бельгия - Франция', 'Италия - Канада', 'Италия - Россия',\n",
       "       'Италия - США', 'Италия - Франция', 'Италия - Франция - Германия',\n",
       "       'Италия - Франция - Швейцария',\n",
       "       'Италия - Франция - Швейцария - Великобритания',\n",
       "       'Италия - Фрация - Бразилия - Германия',\n",
       "       'Италия - Швейцария - Германия', 'Италия, Германия',\n",
       "       'Италия, Испания', 'Италия, Франция', 'Италия, Франция, Германия',\n",
       "       'Италия-Великобритания', 'Италия-США', 'Италия-Франция',\n",
       "       'Италия-Франция-Великобритания', 'Италия-Швейцария',\n",
       "       'Италия-Швейцария-Франция-Германия ', 'КНР', 'КНР - Гонконг',\n",
       "       'КНР - Гонконг - США', 'КНР - Канада - США', 'КНР - США',\n",
       "       'КНР - США ', 'КНР - Сингапур', 'КНР - Франция',\n",
       "       'КНР, Индия, Гонконг, США', 'КНР, США', 'КНР-США', 'Казахстан',\n",
       "       'Канада', 'Канада - Германия', 'Канада - Испания',\n",
       "       'Канада - Италия', 'Канада - КНР', 'Канада - Мексика',\n",
       "       'Канада - Норвегия', 'Канада - США',\n",
       "       'Канада - США - Германия - Франция',\n",
       "       'Канада - США - Нидерланды - Великобритания - Аргентина',\n",
       "       'Канада - Франция', 'Канада - Франция - Великобритания',\n",
       "       'Канада - Франция - Испания',\n",
       "       'Канада - Франция - США - ОАЭ - Великобритания',\n",
       "       'Канада - Южная Корея', 'Канада, Великобритания', 'Канада, США',\n",
       "       'Канада, США, Каймановы острова', 'Канада, США, Норвегия',\n",
       "       'Канада, Франция, Италия, Швейцария, США', 'Канада- Испания',\n",
       "       'Канада-Бразилия-Япония', 'Канада-Великобритания',\n",
       "       'Канада-Германия', 'Канада-США', 'Канада-Франция', 'Канада-ЮАР',\n",
       "       'Канада-Южная Корея-США', 'Кения, Германия', 'Киргизия',\n",
       "       'Киргизия-Россия', 'Китай', 'Китай - Гонконг',\n",
       "       'Китай, Канада, США', 'Китай, США', 'Китай-Гонконг',\n",
       "       'Китай-Гонконг-США', 'Княжество Андорра - Украина', 'Колумбия',\n",
       "       'Колумбия - США', 'Корея', 'Латвия - Россия', 'Латвия - Франция',\n",
       "       'Ливан-США', 'Литва - Венгрия', 'Литва-Россия-Украина',\n",
       "       'Люксембург - Бельгия - Франция',\n",
       "       'Люксембург - Нидерланды - Испания - Великобритания - США - Италия',\n",
       "       'Македония - Франция - Великобритания', 'Малайзия',\n",
       "       'Малайзия - США', 'Мексика',\n",
       "       'Мексика - Аргентина - Великобритания', 'Мексика - Испания',\n",
       "       'Мексика - Испания - Дания - США',\n",
       "       'Мексика - Нидерланды - Германия - Франция', 'Мексика - США',\n",
       "       'Мексика - Тайвань - США', 'Мексика - Франция',\n",
       "       'Мексика - Франция - Нидерланды - Германия', 'Мексика - Чили',\n",
       "       'Мексика - Эквадор - Канада - США - Франция - Малайзия - Италия - Аргентина - Германия - Индия  ',\n",
       "       'Мексика, Франция, Германия, Дания, Швеция', 'Мексика-Аргентина',\n",
       "       'Монголия', 'Нидерланды', 'Нидерланды - Бельгия - Болгария',\n",
       "       'Нидерланды - Бельгия - Германия - Ирландия',\n",
       "       'Нидерланды - Бельгия - Люксембург',\n",
       "       'Нидерланды - Великобритания - Бельгия', 'Нидерланды - Россия',\n",
       "       'Нидерланды - Россия - Германия',\n",
       "       'Нидерланды - США - Германия - Канада - Франция - Ирландия - Великобритания',\n",
       "       'Нидерланды - Франция - Германия - Бельгия - Швеция - Великобритания',\n",
       "       'Нидерланды, Бельгия', 'Нидерланды, Бельгия, Люксембург',\n",
       "       'Нидерланды-Великобритания-Франция-Италия-Япония',\n",
       "       'Новая Зеландия', 'Новая Зеландия - КНР', 'Новая Зеландия - США',\n",
       "       'Норвегия',\n",
       "       'Норвегия - Азербайджан - Россия - Колумбия - Великобритания - Венгрия - Румыния - Франция - Грузия',\n",
       "       'Норвегия - Дания - Швеция',\n",
       "       'Норвегия - Исландия - США - Великобритания ',\n",
       "       'Норвегия - Нидерланды', 'Норвегия - США', 'Норвегия - Швеция',\n",
       "       'Норвегия - Швеция - Дания - Германия',\n",
       "       'Норвегия - Швеция - Россия', 'Норвегия, Швеция, Дания',\n",
       "       'Норвения', 'ОАЭ - США', 'Пакистан', 'Парагвай', 'Перу', 'Польша',\n",
       "       'Польша - Ирландия', 'Польша - Италия - Россия',\n",
       "       'Польша - Португалия - Франция - Великобритания',\n",
       "       'Польша - Франция', 'Польша - Франция - Великобритания',\n",
       "       'Польша - Франция - Испания - Бразилия - Швеция', 'Португалия',\n",
       "       'Португалия - Франция', 'Португалия, Франция, Польша, США',\n",
       "       'Пуэрто-Рико, Великобритания, США', 'Республика Армения',\n",
       "       'Республика Беларусь',\n",
       "       'Республика Беларусь, Германия, США, Россия',\n",
       "       'Республика Казахстан', 'Республика Кипр',\n",
       "       'Республика Кипр - Россия', 'Республика Кипр, Россия',\n",
       "       'Республика Кипр, США, Россия', 'Республика Кипр-Россия',\n",
       "       'Республика Корея', 'Республика Узбекистан', 'Россия',\n",
       "       'Россия - Азербайджан', 'Россия - Болгария', 'Россия - Германия',\n",
       "       'Россия - Германия - Украина', 'Россия - Германия - Швейцария',\n",
       "       'Россия - Грузия', 'Россия - Италия', 'Россия - Казахстан',\n",
       "       'Россия - Польша', 'Россия - Республика Кипр', 'Россия - США',\n",
       "       'Россия - Франция - Великобритания - Латвия',\n",
       "       'Россия - Эстония - Финляндия - Беларусь', 'Россия,  Испания',\n",
       "       'Россия, Австрия', 'Россия, Армения', 'Россия, Бельгия, Финляндия',\n",
       "       'Россия, Германия', 'Россия, Германия, Великобритания',\n",
       "       'Россия, Германия, Казахстан, Польша, Китай',\n",
       "       'Россия, Германия, Франция, Бельгия', 'Россия, Грузия, Испания',\n",
       "       'Россия, Грузия, Хорватия, Испания', 'Россия, Испания',\n",
       "       'Россия, Италия', 'Россия, Казахстан, США',\n",
       "       'Россия, Латвия, Чешская Республика',\n",
       "       'Россия, Нидерланды, Финляндия', 'Россия, Польша, Финляндия',\n",
       "       'Россия, Республика Беларусь', 'Россия, Республика Кипр',\n",
       "       'Россия, Румыния', 'Россия, Сербия', 'Россия, Таджикистан',\n",
       "       'Россия, Украина', 'Россия, Украина, Польша',\n",
       "       'Россия, Украина, Республика Беларусь, Литва',\n",
       "       'Россия, Франция, Германия, Бельгия', 'Россия, Франция, Латвия',\n",
       "       'Россия-Азербайджан', 'Россия-Беларусь', 'Россия-Белоруссия',\n",
       "       'Россия-Германия', 'Россия-Ирландия', 'Россия-Италия',\n",
       "       'Россия-Казахстан', 'Россия-Кипр', 'Россия-Китай', 'Россия-Польша',\n",
       "       'Россия-Польша-Голландия-Словакия', 'Россия-США',\n",
       "       'Россия-США-Канада-Люксембург', 'Россия-Словакия-Чехия',\n",
       "       'Россия-Украина', 'Россия-Украина-Германия', 'Россия-Франция',\n",
       "       'Румыния', 'Румыния - Франция - Бельгия',\n",
       "       'Румыния, ЮАР, Иран, Франция, Канада, Великобритания',\n",
       "       'Румыния-США', 'СССР', 'СССР ', 'СССР  ', 'СССР   ', 'СССР    ',\n",
       "       'СССР     ', 'СССР - ГДР - Польша - Италия', 'СССР - Италия',\n",
       "       'СССР - Швейцария - Франция', 'СССР, Албания', 'СССР, Афганистан',\n",
       "       'СССР, ВНР', 'СССР, Венгрия', 'СССР, Венгрия, ЧССР, ГДР',\n",
       "       'СССР, ГДР', 'СССР, Италия', 'СССР, Монголия', 'СССР, Польша',\n",
       "       'СССР, Россия', 'СССР, Румыния, Франция', 'СССР, ФРГ',\n",
       "       'СССР, ФРГ, Западный Берлин', 'СССР, Финляндия',\n",
       "       'СССР, Франция, Англия, Куба, ГДР',\n",
       "       'СССР, ЧССР, Западный Берлин, ПНР', 'СССР, Швеция', 'США', 'США ',\n",
       "       'США - Австралия', 'США - Австралия - Дания',\n",
       "       'США - Австралия - Индия', 'США - Австралия - Мексика',\n",
       "       'США - Австралия - Новая Зеландия - Великобритания',\n",
       "       'США - Австралия - Франция', 'США - Бельгия',\n",
       "       'США - Бельгия - Великобритания', 'США - Болгария - Мексика',\n",
       "       'США - Бразилия - Великобритания - Канада',\n",
       "       'США - Бразилия - Франция - Австралия - Великобритания - Германия',\n",
       "       'США - Великобритания', 'США - Великобритания ',\n",
       "       'США - Великобритания - Австралия',\n",
       "       'США - Великобритания - Болгария',\n",
       "       'США - Великобритания - Германия',\n",
       "       'США - Великобритания - Германия - - Швеция - Канада',\n",
       "       'США - Великобритания - Германия - Бельгия - Дания',\n",
       "       'США - Великобритания - Германия - Новая Зеландия - Бельгия - Франция',\n",
       "       'США - Великобритания - Ирландия',\n",
       "       'США - Великобритания - Исландия',\n",
       "       'США - Великобритания - Испания',\n",
       "       'США - Великобритания - Италия - Израиль - Сербия - Индия',\n",
       "       'США - Великобритания - КНР', 'США - Великобритания - Канада',\n",
       "       'США - Великобритания - Канада - КНР',\n",
       "       'США - Великобритания - Канада - Швеция',\n",
       "       'США - Великобритания - Новая Зеландия',\n",
       "       'США - Великобритания - Франция',\n",
       "       'США - Великобритания - Франция - Гонконг',\n",
       "       'США - Великобритания - Чехия',\n",
       "       'США - Великобритания - Швейцария - Франция',\n",
       "       'США - Великобритания - Швеция', 'США - Великобритания - Япония',\n",
       "       'США - Великобритания- Франция - Швеция',\n",
       "       'США - Венгрия - Великобритания', 'США - Вьетнам',\n",
       "       'США - Германия', 'США - Германия - Великобритания',\n",
       "       'США - Германия - Гонконг - Сингапур', 'США - Германия - КНР',\n",
       "       'США - Германия - Канада', 'США - Германия - Нидерланды',\n",
       "       'США - Германия - Франция',\n",
       "       'США - Германия - Франция - Великобритания - Канада ',\n",
       "       'США - Германия - Япония', 'США - Гонконг', 'США - Гонконг - КНР ',\n",
       "       'США - Дания', 'США - Индия', 'США - Индия - ОАЭ',\n",
       "       'США - Ирландия - Великобритания',\n",
       "       'США - Ирландия - Великобритания - Франция', 'США - Испания',\n",
       "       'США - Испания - Болгария', 'США - Испания - Франция',\n",
       "       'США - Испания - Франция - Великобритания', 'США - Италия',\n",
       "       'США - КНР', 'США - КНР - Индия - Ю.Корея', 'США - Канада',\n",
       "       'США - Канада - Аргентина',\n",
       "       'США - Канада - Афганистан - Бельгия - Франция',\n",
       "       'США - Канада - Великобритания', 'США - Канада - Германия',\n",
       "       'США - Канада - Германия - Франция', 'США - Канада - Индонезия',\n",
       "       'США - Канада - КНР',\n",
       "       'США - Канада - Россия - Франция - Чили - Ирландия',\n",
       "       'США - Канада - Франция - Индия', 'США - Канада - Япония - КНР',\n",
       "       'США - Китай', 'США - Колумбия', 'США - Колумбия - Испания',\n",
       "       'США - Мальта', 'США - Мексика',\n",
       "       'США - Нидерланды - Бельгия - Венгрия - Греция - Канада',\n",
       "       'США - Нидерланды - Финляндия - Великобритания - Италия',\n",
       "       'США - Новая Зеландия', 'США - Новая Зеландия - Япония',\n",
       "       'США - Норвегия', 'США - ОАЭ',\n",
       "       'США - Объединенные Арабские Эмираты', 'США - Пуэрто Рико',\n",
       "       'США - Пуэрто-Рико - Франция ', 'США - Россия',\n",
       "       'США - Россия - Польша - Германия - Пуэрто Рико',\n",
       "       'США - Россия - Франция', 'США - Румыния - Великобритания',\n",
       "       'США - Сингапур - Малайзия - Индонезия', 'США - Украина',\n",
       "       'США - Финляндия',\n",
       "       'США - Финляндия - Испания - Великобритания - Франция',\n",
       "       'США - Франция', 'США - Франция - Бельгия - Италия',\n",
       "       'США - Франция - Великобритания',\n",
       "       'США - Франция - Великобритания - Бразилия ',\n",
       "       'США - Франция - Германия',\n",
       "       'США - Франция - Германия - Канада - Австралия ',\n",
       "       'США - Франция - Испания - Великобритания',\n",
       "       'США - Франция - Канада - Великобритания',\n",
       "       'США - Франция - Канада - Германия - Австралия - Индия',\n",
       "       'США - Франция - Турция', 'США - Франция - ЮАР',\n",
       "       'США - Хорватия - Босния-Герцеговина', 'США - Чехия - Франция',\n",
       "       'США - Чили', 'США - Швейцария - Франция', 'США - Швеция',\n",
       "       'США - ЮАР', 'США - ЮАР - Гонконг', 'США - Южная Корея',\n",
       "       'США - Япония', 'США - Япония - Германия',\n",
       "       'США - Япония - Канада - Великобритания - Германия - Франция',\n",
       "       'США - Япония - Франция - Великобритания',\n",
       "       'США -Великобритания - Австралия', 'США -Германия',\n",
       "       'США, Великобритания', 'США, Великобритания, Ирландия, Люксембург',\n",
       "       'США, Великобритания, Люксембург', 'США, Великобритания, Франция',\n",
       "       'США, Германия', 'США, Гонконг ', 'США, Индия', 'США, Канада',\n",
       "       'США, Россия', 'США, Украина', 'США, Франция',\n",
       "       'США, Франция, Япония', 'США, Япония', 'США- Ю.Корея',\n",
       "       'США-Австралия', 'США-Аргентина', 'США-Бельгия',\n",
       "       'США-Великобритания', 'США-Великобритания-Австралия',\n",
       "       'США-Великобритания-Индия', 'США-Великобритания-Ирландия',\n",
       "       'США-Великобритания-Новая Зеландия', 'США-Великобритания-Франция',\n",
       "       'США-Великобритания-Чехия-Румыния', 'США-Венгрия', 'США-Германия',\n",
       "       'США-Германия-Австралия', 'США-Германия-Великобритания',\n",
       "       'США-Германия-Канада', 'США-Гонконг-Китай', 'США-Индия',\n",
       "       'США-Индонезия', 'США-Ирландия', 'США-Испания',\n",
       "       'США-Италия-Греция', 'США-Италия-Испания',\n",
       "       'США-Италия-Испания-Аргентина', 'США-КНР', 'США-Канада',\n",
       "       'США-Канада-Австралия', 'США-Канада-Бельгия', 'США-Канада-Италия',\n",
       "       'США-Канада-Франция', 'США-Китай', 'США-Колумбия', 'США-Мальта',\n",
       "       'США-Мексика', 'США-Нидерланды', 'США-ОАЭ', 'США-Россия',\n",
       "       'США-ФРГ-Россия', 'США-Франция',\n",
       "       'США-Франция-Великобритания-Австрия', 'США-Франция-Ирландия',\n",
       "       'США-Франция-Испания', 'США-Франция-Канада', 'США-ЮАР',\n",
       "       'США-Южная Корея-Новая Зеландия', 'США-Япония',\n",
       "       'США-Япония-Германия-Великобритания',\n",
       "       'США-Япония-Германия-Великобритания-Нидерланды', 'СЩА',\n",
       "       'Сербия - Великобритания - США', 'Сербия - Германия - Венгрия',\n",
       "       'Сербия - Словения - Хорватия - Черногория - Македония',\n",
       "       'Сингапур - Великобритания - Индонезия - Канада - США',\n",
       "       'Сша, Канада', 'Таиланд', 'Таиланд - КНР - США', 'Таиланд - США',\n",
       "       'Таиланд-Великобритания-Франция-Германия-Испания-Нидерланды',\n",
       "       'Турция', 'Турция - Германя - Франция', 'Турция - США', 'Украина',\n",
       "       'Украина - Германия - Латвия - Эстония', 'Украина - Нидерланды',\n",
       "       'Уругвай - Аргентина - Испания', 'Уругвай - Колумбия',\n",
       "       'Уругвай-Мексика-Германия ', 'Финляндия',\n",
       "       'Финляндия - Австрия - Россия',\n",
       "       'Финляндия - Великобритания - Германия', 'Финляндия - Германия',\n",
       "       'Финляндия - Дания - Германия - Ирландия',\n",
       "       'Финляндия - Исландия - Швеция', 'Финляндия - Канада',\n",
       "       'Финляндия - Польша', 'Финляндия - Франция - Германия',\n",
       "       'Финляндия - Швеция - Германия', 'Финляндия - Швеция - Норвегия',\n",
       "       'Финляндия, Латвия', 'Финляндия-Дания-Германия-Ирландия',\n",
       "       'Франция', 'Франция ', 'Франция -  Бельгия', 'Франция - Австрия',\n",
       "       'Франция - Австрия - Германия - Италия - США', 'Франция - Бельгия',\n",
       "       'Франция - Бельгия - Великобритания - Испания - Германия - США',\n",
       "       'Франция - Бельгия - Великобритания - США - Нидерланды - Канада',\n",
       "       'Франция - Бельгия - Испания', 'Франция - Бельгия - Канада',\n",
       "       'Франция - Бельгия - Люксембург', 'Франция - Бельгия - Чехия',\n",
       "       'Франция - Бельгия - Япония', 'Франция - Бенльгия',\n",
       "       'Франция - Бразилия', 'Франция - Бразилия - Италия',\n",
       "       'Франция - Великобритания',\n",
       "       'Франция - Великобритания - Багамские острова - США',\n",
       "       'Франция - Великобритания - Камбоджа - США - КНР',\n",
       "       'Франция - Великобритания - Нидерланды - Люксембург',\n",
       "       'Франция - Германия', 'Франция - Германия - Австрия',\n",
       "       'Франция - Германия - Бельгия', 'Франция - Германия - Италия',\n",
       "       'Франция - Германия - Литва - Нидерланды - Россия',\n",
       "       'Франция - Германия - Нидерланды', 'Франция - Германия - США',\n",
       "       'Франция - Германия - Турция - Катар',\n",
       "       'Франция - Германия - Швеция - США - Чехия - Словакия - Великобритания - Нидерланды',\n",
       "       'Франция - Греция', 'Франция - Дания', 'Франция - Дания - США',\n",
       "       'Франция - Дания - Швеция - КНР', 'Франция - Израиль - Германия',\n",
       "       'Франция - Ирландия - Швеция', 'Франция - Испания',\n",
       "       'Франция - Испания - Дания - Венгрия - Швейцария',\n",
       "       'Франция - Испания - Румыния - США - Бельгия',\n",
       "       'Франция - Испания - Тайвань', 'Франция - Италия',\n",
       "       'Франция - Италия - Бельгия - КНР',\n",
       "       'Франция - Италия - Бельгия - Люксембург',\n",
       "       'Франция - Италия - Великобритания - США',\n",
       "       'Франция - Италия - Иран', 'Франция - Италия - Швейцария',\n",
       "       'Франция - КНР', 'Франция - Канада', 'Франция - Канада - Бельгия',\n",
       "       'Франция - Канада - Н.Зеландия - США - Нидерланды - Германия - Швеция - Россия',\n",
       "       'Франция - Люксембург', 'Франция - Люксембург - Бельгия',\n",
       "       'Франция - Люксембург - Германия - Бельгия - Швейцария - Великобритания ',\n",
       "       'Франция - Македония', 'Франция - Мексика - США',\n",
       "       'Франция - Монако', 'Франция - Нидерланды',\n",
       "       'Франция - Польша - Бельгия', 'Франция - Португалия',\n",
       "       'Франция - Россия',\n",
       "       'Франция - Россия - Швейцария - Румыния - Венгрия',\n",
       "       'Франция - США', 'Франция - США - Бельгия',\n",
       "       'Франция - США - Великобритания - Колумбия - Бельгия - Россия',\n",
       "       'Франция - США - Норвегия - Дания', 'Франция - Сенегал - Бельгия',\n",
       "       'Франция - Украина - Грузия - Армения', 'Франция - Финляндия',\n",
       "       'Франция - Чехия - Бельгия', 'Франция - Чехия - Великобритания',\n",
       "       'Франция - Чили', 'Франция - Швейцария',\n",
       "       'Франция - Швейцария - Германия',\n",
       "       'Франция - Швеция - Дания - Норвегия', 'Франция -Бельгия',\n",
       "       'Франция, Бельгия', 'Франция, Бельгия, Люксембург',\n",
       "       'Франция, Германия', 'Франция, Канада',\n",
       "       'Франция, Люксембург, Бельгия', 'Франция, Новая Зеландия',\n",
       "       'Франция, Норвегия', 'Франция-Австралия', 'Франция-Аргентина',\n",
       "       'Франция-Бельгия', 'Франция-Бельгия-Канада',\n",
       "       'Франция-Великобритания', 'Франция-Великобритания - Германия',\n",
       "       'Франция-Великобритания-Чехия', 'Франция-Германия',\n",
       "       'Франция-Германия-Австрия', 'Франция-Германия-Великобритания',\n",
       "       'Франция-Германия-Италия', 'Франция-Гонконг-Ирландия',\n",
       "       'Франция-Грузия-Германия-Россия-Украина-Бельгия', 'Франция-Индия',\n",
       "       'Франция-Испания', 'Франция-Испания-Бельгия-Панама',\n",
       "       'Франция-Испания-Германия', 'Франция-Испания-Швейцария',\n",
       "       'Франция-Италия', 'Франция-Италия-Испания-Венгрия', 'Франция-КНР',\n",
       "       'Франция-Канада', 'Франция-Китай', 'Франция-Перу',\n",
       "       'Франция-Польша', 'Франция-Россия',\n",
       "       'Франция-Россия-Румыния-Италия-Бельгия', 'Франция-США',\n",
       "       'Франция-Украина', 'Хорватия', 'Чехия', 'Чехия - Германия',\n",
       "       'Чехия - Испания - США', 'Чехия - Словакия - Хорватия',\n",
       "       'Чехия-Великобритания-США', 'Чехословакия', 'Чили',\n",
       "       'Чили - Испания', 'Чили - Франция - США', 'Швейцария',\n",
       "       'Швейцария - Австрия', 'Швейцария - Великобритания',\n",
       "       'Швейцария - Израиль - Франция - Великобритания',\n",
       "       'Швейцария - КНР - США - Россия - Республика Корея - Великобритания',\n",
       "       'Швейцария - Люксембург', 'Швейцария - Франция',\n",
       "       'Швейцария, Великобритания, Франция, США, Ирландия',\n",
       "       'Швейцария-Австрия', 'Швейцария-Германия-ЮАР', 'Швейцария-Франция',\n",
       "       'Швеция', 'Швеция - Германия',\n",
       "       'Швеция - Германия - Дания - Норвегия',\n",
       "       'Швеция - Германия - Франция - Дания',\n",
       "       'Швеция - Германия - Франция - Норвегия', 'Швеция - Дания',\n",
       "       'Швеция - Дания - Финляндия', 'Швеция - Норвегия', 'Швеция - США',\n",
       "       'Швеция - Франция - Норвегия - Дания',\n",
       "       'Швеция, Норвегия, Финляндия, Франция',\n",
       "       'Швеция, Франция, Великобритания', 'Швеция-Куба',\n",
       "       'Швеция-Финляндия-Франция-Норвегия', 'Швеция-Франция',\n",
       "       'Швеция-Франция-Дания', 'Эстония', 'Эстония - Россия', 'ЮАР',\n",
       "       'ЮАР - США', 'Южная Корея', 'Южная Корея - КНР',\n",
       "       'Южная Корея - США', 'Южная Корея - США - Канада', 'Япония',\n",
       "       'Япония - Великобритания - Франция',\n",
       "       'Япония - Великобритания - Швейцария - Ирландия - Дания - Франция - Польша - Австралия - Канада  ',\n",
       "       'Япония - КНР - Южная Корея', 'Япония - Канада', 'Япония - США',\n",
       "       'Япония - Франция - США - Южная Корея - Турция',\n",
       "       'Япония, Великобритания',\n",
       "       'Япония, Великобритания, Австрия, Германия, Ю.Корея',\n",
       "       'Япония, США', 'Япония-Великобритания', 'Япония-США-Франция', nan],\n",
       "      dtype=object)"
      ]
     },
     "execution_count": 39,
     "metadata": {},
     "output_type": "execute_result"
    }
   ],
   "source": [
    "data['production_country'].sort_values().unique()"
   ]
  },
  {
   "cell_type": "code",
   "execution_count": 40,
   "metadata": {},
   "outputs": [
    {
     "data": {
      "text/plain": [
       "951"
      ]
     },
     "execution_count": 40,
     "metadata": {},
     "output_type": "execute_result"
    }
   ],
   "source": [
    "len(data['production_country'].unique())"
   ]
  },
  {
   "cell_type": "code",
   "execution_count": 41,
   "metadata": {},
   "outputs": [],
   "source": [
    "#удалим пробелы из начала и конца строк, заменим ё на е\n",
    "data['production_country'] = data['production_country'].replace('ё', 'е').str.strip()"
   ]
  },
  {
   "cell_type": "code",
   "execution_count": 42,
   "metadata": {},
   "outputs": [
    {
     "data": {
      "text/plain": [
       "935"
      ]
     },
     "execution_count": 42,
     "metadata": {},
     "output_type": "execute_result"
    }
   ],
   "source": [
    "len(data['production_country'].unique())"
   ]
  },
  {
   "cell_type": "code",
   "execution_count": 43,
   "metadata": {},
   "outputs": [
    {
     "data": {
      "text/plain": [
       "array(['2019', 'CША', 'Австралия',\n",
       "       'Австралия - Великобритания - Бельгия - Индия',\n",
       "       'Австралия - Германия', 'Австралия - Ирландия',\n",
       "       'Австралия - Колумбия', 'Австралия - США', 'Австралия, Канада',\n",
       "       'Австралия, США', 'Австралия-Великобритания', 'Австралия-Ирландия',\n",
       "       'Австралия-США', 'Австралия-Турция-США', 'Австрия',\n",
       "       'Австрия - Германия', 'Австрия - Германия - Франция',\n",
       "       'Австрия - Люксембург', 'Австрия, Великобритания, Германия',\n",
       "       'Австрия-Германия-Франция', 'Австрия-Франция-Германия',\n",
       "       'Азербайджан-Россия', 'Аргентина', 'Аргентина - Бразилия',\n",
       "       'Аргентина - Испания', 'Аргентина - Испания - Уругвай',\n",
       "       'Аргентина - Мексика - Бразилия - Франция - США',\n",
       "       'Аргентина - Уругвай - Россия - Германия - Франция - Нидерланды',\n",
       "       'Аргентина - Франция - Испания', 'Аргентина, Испания',\n",
       "       'Аргентина-Испания', 'Армения', 'Армения - Германия',\n",
       "       'Армения - Казахстан', 'Армения-Россия', 'Бельгия',\n",
       "       'Бельгия - Германия - Люксембург',\n",
       "       'Бельгия - Германия - Люксембург - Франция',\n",
       "       'Бельгия - Испания - Канада - Нидерланды',\n",
       "       'Бельгия - Италия - Франция', 'Бельгия - Люксембург',\n",
       "       'Бельгия - Люксембург - Франция - Швейцария',\n",
       "       'Бельгия - Нидерланды - Франция', 'Бельгия - США',\n",
       "       'Бельгия - Франция', 'Бельгия - Франция - Люксембург',\n",
       "       'Бельгия, Великобритания, США', 'Бельгия, Канада',\n",
       "       'Бельгия-Германия-Канада-Франция-США-Великобритания',\n",
       "       'Бельгия-Нидерланды', 'Бельгия-Франция', 'Бельгия-Франция-Италия',\n",
       "       'Болгария', 'Болгария - США', 'Болгария - Франция - Изриль',\n",
       "       'Босния и Герцеговина - Франция - Великобритания - Германия - Словения - Бельгия - Сербия',\n",
       "       'Бразилия', 'Бразилия - Германия - Порртугалия - Франция',\n",
       "       'Бразилия - Испания', 'Бразилия - К;анада',\n",
       "       'Бразилия - Канада - США', 'Бразилия - Португалия - Франция',\n",
       "       'Бразилия - США', 'Бразилия - США - КНР',\n",
       "       'Бразилия, Уругвай, Дания, Норвегия, Чили, Швеция',\n",
       "       'Великобритания', 'Великобритания - Австралия - США',\n",
       "       'Великобритания - Австрия - Германия',\n",
       "       'Великобритания - Австрия - Франция - США',\n",
       "       'Великобритания - Аргентина - США - Франция - Россия - Испания',\n",
       "       'Великобритания - Германия',\n",
       "       'Великобритания - Германия - Нидерланды - Дания',\n",
       "       'Великобритания - Германия - США',\n",
       "       'Великобритания - Германия - Франция - Кипр - США',\n",
       "       'Великобритания - Гонконг - Венгрия - США - Ирландия',\n",
       "       'Великобритания - Дания', 'Великобритания - Израиль',\n",
       "       'Великобритания - Израиль - Франция - Япония - США',\n",
       "       'Великобритания - Ирландия', 'Великобритания - Ирландия - США',\n",
       "       'Великобритания - Исландия - Испания - Швейцария - США',\n",
       "       'Великобритания - Испания', 'Великобритания - Испания - Германия',\n",
       "       'Великобритания - Испания - Италия - Латвия - Франция - Эстония',\n",
       "       'Великобритания - Испания - Непал - Индия - Венгрия - Гонконг - Германия - Дания - Бахрейн',\n",
       "       'Великобритания - Италия', 'Великобритания - Италия - Испания',\n",
       "       'Великобритания - Италия - Швейцария', 'Великобритания - КНР',\n",
       "       'Великобритания - Канада', 'Великобритания - Канада - США',\n",
       "       'Великобритания - Люксембург', 'Великобритания - Мексика - США',\n",
       "       'Великобритания - Нидерланды - Германия - Франция - Бельгия - Австрия',\n",
       "       'Великобритания - Нидерланды - Франция - США',\n",
       "       'Великобритания - Нидерланды - Франция - Хорватия',\n",
       "       'Великобритания - Новая Зеландия',\n",
       "       'Великобритания - Норвегия - Дания - Германия',\n",
       "       'Великобритания - Норвегия - Кения - Хорватия',\n",
       "       'Великобритания - Польша',\n",
       "       'Великобритания - Польша - КНР - Индия - Норвегия',\n",
       "       'Великобритания - Пуэрто-Рико', 'Великобритания - Россия - КНР',\n",
       "       'Великобритания - Россия - Украина - США',\n",
       "       'Великобритания - Румыния', 'Великобритания - США',\n",
       "       'Великобритания - США - Австралия - Ирландия - Германия - Куба - Канада',\n",
       "       'Великобритания - США - Германия',\n",
       "       'Великобритания - США - Германия - Бельгия',\n",
       "       'Великобритания - США - Германия - Канада - Австралия',\n",
       "       'Великобритания - США - Индия', 'Великобритания - США - Канада',\n",
       "       'Великобритания - США - Канада - Бельгия - Нидерланды - Австрия - Германия',\n",
       "       'Великобритания - США - Канада - Нидерланды - Франция',\n",
       "       'Великобритания - США - Россия', 'Великобритания - США - Франция',\n",
       "       'Великобритания - США - Швейцария', 'Великобритания - Франция',\n",
       "       'Великобритания - Франция - Австрия - Швеция',\n",
       "       'Великобритания - Франция - Бельгия',\n",
       "       'Великобритания - Франция - Бельгия - Италия',\n",
       "       'Великобритания - Франция - Бельгия - США',\n",
       "       'Великобритания - Франция - Венгрия',\n",
       "       'Великобритания - Франция - Германия',\n",
       "       'Великобритания - Франция - Германия - США',\n",
       "       'Великобритания - Франция - Италия',\n",
       "       'Великобритания - Франция - Италия - Индия - Дания - КНР - Бангладеш - Камбоджа - Гаити - Уганда',\n",
       "       'Великобритания - Франция - Италия - США',\n",
       "       'Великобритания - Франция - Республика Кипр - Швейцария - США - Сербия',\n",
       "       'Великобритания - Франция - США',\n",
       "       'Великобритания - Франция - Швеция - Бельгия',\n",
       "       'Великобритания - Чехия - Франция',\n",
       "       'Великобритания - Чехия - Франция - Италия',\n",
       "       'Великобритания - ЮАР', 'Великобритания - Япония - США',\n",
       "       'Великобритания, Австралия',\n",
       "       'Великобритания, Германия, Дания, США', 'Великобритания, Канада',\n",
       "       'Великобритания, Канада, США',\n",
       "       'Великобритания, Нидерланды, Польша, Швейцария, Франция',\n",
       "       'Великобритания, Новая Зеландия', 'Великобритания, США',\n",
       "       'Великобритания, США, Испания', 'Великобритания, Франция',\n",
       "       'Великобритания, Франция, Бельгия', 'Великобритания, Швеция, США',\n",
       "       'Великобритания, Южная Корея, Канада, США, Индия, Китай, Япония',\n",
       "       'Великобритания, Япония, США', 'Великобритания-Австралия - США',\n",
       "       'Великобритания-Венгрия', 'Великобритания-Германия-Канада-ЮАР',\n",
       "       'Великобритания-США', 'Великобритания-США-Германия-КНР',\n",
       "       'Великобритания-США-Франция', 'Великобритания-Франция',\n",
       "       'Великобритания-Франция-Германия', 'Великобритания-Франция-Италия',\n",
       "       'Венгрия', 'Венгрия - Германия - Швеция', 'Венесуэла', 'Германия',\n",
       "       'Германия - Австралия', 'Германия - Австрия',\n",
       "       'Германия - Австрия - Ирландия', 'Германия - Австрия - Франция',\n",
       "       'Германия - Аргентина - Нидерланды - Чили', 'Германия - Бельгия',\n",
       "       'Германия - Бельгия - Великобритания',\n",
       "       'Германия - Бельгия - Люксембург - Ирландия',\n",
       "       'Германия - Бельгия - Люксембург - Норвегия',\n",
       "       'Германия - Бельгия - США -Франция', 'Германия - Великобритания',\n",
       "       'Германия - Великобритания - Австрия',\n",
       "       'Германия - Великобритания - Италия - Испания',\n",
       "       'Германия - Великобритания - США',\n",
       "       'Германия - Дания - Испания - Швеция - Канада - Эстония - Франция',\n",
       "       'Германия - Дания - Норвегия', 'Германия - Исландия',\n",
       "       'Германия - Италия', 'Германия - Италия - США',\n",
       "       'Германия - Италия - Франция', 'Германия - Канада',\n",
       "       'Германия - Китай', 'Германия - Люксембург - Бельгия',\n",
       "       'Германия - Люксембург - Дания', 'Германия - Люксембург - Франция',\n",
       "       'Германия - Нидерланды - Беларусь - Россия - Латвия',\n",
       "       'Германия - Нидерланды - ЮАР', 'Германия - Россия',\n",
       "       'Германия - США', 'Германия - США - Великобритания - Израиль',\n",
       "       'Германия - США - Великобритания - Ирландия',\n",
       "       'Германия - США - Франция - Испания',\n",
       "       'Германия - США - Швеция - Франция',\n",
       "       'Германия - Финляндия - Австралия', 'Германия - Франция',\n",
       "       'Германия - Франция -  Польша - Турция - Канада - Италия - Россия',\n",
       "       'Германия - Франция - Австрия', 'Германия - Франция - Бельгия',\n",
       "       'Германия - Франция - Великобритания - Польша - США',\n",
       "       'Германия - Франция - Канада', 'Германия - Франция - Люксембург',\n",
       "       'Германия - Франция - Польша', 'Германия - Швейцария',\n",
       "       'Германия - Швейцария - Франция - Южная Корея - США',\n",
       "       'Германия, Австралия', 'Германия, Бельгия', 'Германия, Россия',\n",
       "       'Германия, США', 'Германия, Франция',\n",
       "       'Германия, Франция, Великобритания', 'Германия, Франция, США',\n",
       "       'Германия-Австрия', 'Германия-Австрия-Франция-Италия',\n",
       "       'Германия-Великобритания', 'Германия-Израиль',\n",
       "       'Германия-Италия- Шри-Ланка', 'Германия-Италия-Швейцария',\n",
       "       'Германия-Канада-Великобритания-Швейцария-Франция',\n",
       "       'Германия-Канада-Франция-Бельгия', 'Германия-Кения',\n",
       "       'Германия-США', 'Германия-Украина-Нидерланды',\n",
       "       'Германия-Франция-Великобритания',\n",
       "       'Германия-Франция-Великобритания-США', 'Германия-Франция-Польша',\n",
       "       'Германия-Швеция', 'Голландия', 'Гонконг', 'Гонконг - КНР',\n",
       "       'Гонконг - Сингапур - Таиланд - Великобритания', 'Гонконг, КНР',\n",
       "       'Греция', 'Греция - Германия - Франция', 'Греция - Россия',\n",
       "       'Грузия', 'Грузия - Россия - Украина - Хорватия - Германия',\n",
       "       'Грузия - Украина', 'Грузия - Франция - Люксембург',\n",
       "       'Грузия-Россия', 'Грузия-Франция', 'Дания',\n",
       "       'Дания - Австрия - Ирландия - Финляндия - Норвегия - Швеция - Нидерланды',\n",
       "       'Дания - Великобритания - ЮАР', 'Дания - Германия',\n",
       "       'Дания - Германия - Швеция', 'Дания - Исландия',\n",
       "       'Дания - Канада - Швеция - Франция - Германия - Великобритания - США',\n",
       "       'Дания - Латвия - Россия - США',\n",
       "       'Дания - Норвегия - Великобритания', 'Дания - США',\n",
       "       'Дания - Франция - Германия - Швеция',\n",
       "       'Дания - Франция - Италия - Бельгия - Нидерланды',\n",
       "       'Дания - Швейцария - Бельгия - Франция', 'Дания - Швеция',\n",
       "       'Дания - Швеция - Великобритания - Франция - Германия - Нидерланды - Норвегия - Финляндия',\n",
       "       'Дания - Швеция - Италия - Франция - Германия',\n",
       "       'Дания, Канада, Норвегия, Австралия, США',\n",
       "       'Дания, Норвегия, Венгрия, Чехия',\n",
       "       'Дания, Норвегия, Швеция, Исландия',\n",
       "       'Дания, Швеция, Великобритания, Франция, Германия, Норвегия, Финляндия, Нидерланды, Италия',\n",
       "       'Дания-Франция-Бельгия-Германия-Великобритания',\n",
       "       'Дания-Швеция-Франция-Германия', 'Израиль',\n",
       "       'Израиль - Германия - Польша - Бельгия - Франция - Люксембург',\n",
       "       'Израиль - Германия - Франция - Швейцария', 'Израиль - Франция',\n",
       "       'Израиль - Франция - Великобритания - Германия',\n",
       "       'Израиль - Франция - Германия - Палестина - США - Австрия - Великобритания',\n",
       "       'Израиль, Украина', 'Израиль-США-Франция', 'Индия',\n",
       "       'Индия - Великобритания', 'Индия - КНР', 'Индия - Мексика',\n",
       "       'Индия - США', 'Индонезия', 'Иран', 'Иран, Франция', 'Ирландия',\n",
       "       'Ирландия - Великобритания - Канада',\n",
       "       'Ирландия - Великобритания - США',\n",
       "       'Ирландия - Великобритания - Франция - США',\n",
       "       'Ирландия - Великобритания - Франция - США - Германия - Нидерланды',\n",
       "       'Ирландия - Дания - Бельгия - Люксембург - Франция',\n",
       "       'Ирландия - США',\n",
       "       'Ирландия - Финляндия - Бельгия - Великобритания - США - Швейцария',\n",
       "       'Ирландия, Великобритания', 'Ирландия, Канада',\n",
       "       'Ирландия-Великобритания', 'Ирландия-Великобритания-Германия',\n",
       "       'Ирландия-Нидерланды-Франция-США-Великобритания', 'Исландия',\n",
       "       'Исландия - Финляндия', 'Исландия, Бельгия',\n",
       "       'Исландия-Ирландия-Германия', 'Испания', 'Испания - Аргентина',\n",
       "       'Испания - Аргентина - Индия - США',\n",
       "       'Испания - Бельгия - Франция - Португалия - Великобритания',\n",
       "       'Испания - Болгария - США', 'Испания - Великобритания - Франция',\n",
       "       'Испания - Германия - Нидерланды', 'Испания - Италия - Франция',\n",
       "       'Испания - Канада', 'Испания - Канада - Япония', 'Испания - Куба',\n",
       "       'Испания - Мальта', 'Испания - Мексика', 'Испания - США',\n",
       "       'Испания - США - Великобритания - Канада',\n",
       "       'Испания - США - Колумбия', 'Испания - Уругвай - Аргентина',\n",
       "       'Испания - Франция',\n",
       "       'Испания - Франция - Нидерланды - Германия - Бельгия - Великобритания - Канада',\n",
       "       'Испания - Франция - США - Великобритания - Бельгия',\n",
       "       'Испания - Швейцария - Великобритания - Германия - Новая Зеландия - Нидерланды - Канада',\n",
       "       'Испания, Ирландия, Бельгия, Франция',\n",
       "       'Испания, Франция, Великобритания, Дания, Бельгия, Германия',\n",
       "       'Испания, Франция, Италия', 'Испания-Аргентина', 'Испания-Канада',\n",
       "       'Испания-Колумбия', 'Испания-Мексика',\n",
       "       'Испания-Франция-Греция-Индия-США-Россия-Великобритания', 'Италия',\n",
       "       'Италия - Аргентина - Словения', 'Италия - Бельгия - Франция',\n",
       "       'Италия - Канада', 'Италия - Россия', 'Италия - США',\n",
       "       'Италия - Франция', 'Италия - Франция - Германия',\n",
       "       'Италия - Франция - Швейцария',\n",
       "       'Италия - Франция - Швейцария - Великобритания',\n",
       "       'Италия - Фрация - Бразилия - Германия',\n",
       "       'Италия - Швейцария - Германия', 'Италия, Германия',\n",
       "       'Италия, Испания', 'Италия, Франция', 'Италия, Франция, Германия',\n",
       "       'Италия-Великобритания', 'Италия-США', 'Италия-Франция',\n",
       "       'Италия-Франция-Великобритания', 'Италия-Швейцария',\n",
       "       'Италия-Швейцария-Франция-Германия', 'КНР', 'КНР - Гонконг',\n",
       "       'КНР - Гонконг - США', 'КНР - Канада - США', 'КНР - США',\n",
       "       'КНР - Сингапур', 'КНР - Франция', 'КНР, Индия, Гонконг, США',\n",
       "       'КНР, США', 'КНР-США', 'Казахстан', 'Канада', 'Канада - Германия',\n",
       "       'Канада - Испания', 'Канада - Италия', 'Канада - КНР',\n",
       "       'Канада - Мексика', 'Канада - Норвегия', 'Канада - США',\n",
       "       'Канада - США - Германия - Франция',\n",
       "       'Канада - США - Нидерланды - Великобритания - Аргентина',\n",
       "       'Канада - Франция', 'Канада - Франция - Великобритания',\n",
       "       'Канада - Франция - Испания',\n",
       "       'Канада - Франция - США - ОАЭ - Великобритания',\n",
       "       'Канада - Южная Корея', 'Канада, Великобритания', 'Канада, США',\n",
       "       'Канада, США, Каймановы острова', 'Канада, США, Норвегия',\n",
       "       'Канада, Франция, Италия, Швейцария, США', 'Канада- Испания',\n",
       "       'Канада-Бразилия-Япония', 'Канада-Великобритания',\n",
       "       'Канада-Германия', 'Канада-США', 'Канада-Франция', 'Канада-ЮАР',\n",
       "       'Канада-Южная Корея-США', 'Кения, Германия', 'Киргизия',\n",
       "       'Киргизия-Россия', 'Китай', 'Китай - Гонконг',\n",
       "       'Китай, Канада, США', 'Китай, США', 'Китай-Гонконг',\n",
       "       'Китай-Гонконг-США', 'Княжество Андорра - Украина', 'Колумбия',\n",
       "       'Колумбия - США', 'Корея', 'Латвия - Россия', 'Латвия - Франция',\n",
       "       'Ливан-США', 'Литва - Венгрия', 'Литва-Россия-Украина',\n",
       "       'Люксембург - Бельгия - Франция',\n",
       "       'Люксембург - Нидерланды - Испания - Великобритания - США - Италия',\n",
       "       'Македония - Франция - Великобритания', 'Малайзия',\n",
       "       'Малайзия - США', 'Мексика',\n",
       "       'Мексика - Аргентина - Великобритания', 'Мексика - Испания',\n",
       "       'Мексика - Испания - Дания - США',\n",
       "       'Мексика - Нидерланды - Германия - Франция', 'Мексика - США',\n",
       "       'Мексика - Тайвань - США', 'Мексика - Франция',\n",
       "       'Мексика - Франция - Нидерланды - Германия', 'Мексика - Чили',\n",
       "       'Мексика - Эквадор - Канада - США - Франция - Малайзия - Италия - Аргентина - Германия - Индия',\n",
       "       'Мексика, Франция, Германия, Дания, Швеция', 'Мексика-Аргентина',\n",
       "       'Монголия', 'Нидерланды', 'Нидерланды - Бельгия - Болгария',\n",
       "       'Нидерланды - Бельгия - Германия - Ирландия',\n",
       "       'Нидерланды - Бельгия - Люксембург',\n",
       "       'Нидерланды - Великобритания - Бельгия', 'Нидерланды - Россия',\n",
       "       'Нидерланды - Россия - Германия',\n",
       "       'Нидерланды - США - Германия - Канада - Франция - Ирландия - Великобритания',\n",
       "       'Нидерланды - Франция - Германия - Бельгия - Швеция - Великобритания',\n",
       "       'Нидерланды, Бельгия', 'Нидерланды, Бельгия, Люксембург',\n",
       "       'Нидерланды-Великобритания-Франция-Италия-Япония',\n",
       "       'Новая Зеландия', 'Новая Зеландия - КНР', 'Новая Зеландия - США',\n",
       "       'Норвегия',\n",
       "       'Норвегия - Азербайджан - Россия - Колумбия - Великобритания - Венгрия - Румыния - Франция - Грузия',\n",
       "       'Норвегия - Дания - Швеция',\n",
       "       'Норвегия - Исландия - США - Великобритания',\n",
       "       'Норвегия - Нидерланды', 'Норвегия - США', 'Норвегия - Швеция',\n",
       "       'Норвегия - Швеция - Дания - Германия',\n",
       "       'Норвегия - Швеция - Россия', 'Норвегия, Швеция, Дания',\n",
       "       'Норвения', 'ОАЭ - США', 'Пакистан', 'Парагвай', 'Перу', 'Польша',\n",
       "       'Польша - Ирландия', 'Польша - Италия - Россия',\n",
       "       'Польша - Португалия - Франция - Великобритания',\n",
       "       'Польша - Франция', 'Польша - Франция - Великобритания',\n",
       "       'Польша - Франция - Испания - Бразилия - Швеция', 'Португалия',\n",
       "       'Португалия - Франция', 'Португалия, Франция, Польша, США',\n",
       "       'Пуэрто-Рико, Великобритания, США', 'Республика Армения',\n",
       "       'Республика Беларусь',\n",
       "       'Республика Беларусь, Германия, США, Россия',\n",
       "       'Республика Казахстан', 'Республика Кипр',\n",
       "       'Республика Кипр - Россия', 'Республика Кипр, Россия',\n",
       "       'Республика Кипр, США, Россия', 'Республика Кипр-Россия',\n",
       "       'Республика Корея', 'Республика Узбекистан', 'Россия',\n",
       "       'Россия - Азербайджан', 'Россия - Болгария', 'Россия - Германия',\n",
       "       'Россия - Германия - Украина', 'Россия - Германия - Швейцария',\n",
       "       'Россия - Грузия', 'Россия - Италия', 'Россия - Казахстан',\n",
       "       'Россия - Польша', 'Россия - Республика Кипр', 'Россия - США',\n",
       "       'Россия - Франция - Великобритания - Латвия',\n",
       "       'Россия - Эстония - Финляндия - Беларусь', 'Россия,  Испания',\n",
       "       'Россия, Австрия', 'Россия, Армения', 'Россия, Бельгия, Финляндия',\n",
       "       'Россия, Германия', 'Россия, Германия, Великобритания',\n",
       "       'Россия, Германия, Казахстан, Польша, Китай',\n",
       "       'Россия, Германия, Франция, Бельгия', 'Россия, Грузия, Испания',\n",
       "       'Россия, Грузия, Хорватия, Испания', 'Россия, Испания',\n",
       "       'Россия, Италия', 'Россия, Казахстан, США',\n",
       "       'Россия, Латвия, Чешская Республика',\n",
       "       'Россия, Нидерланды, Финляндия', 'Россия, Польша, Финляндия',\n",
       "       'Россия, Республика Беларусь', 'Россия, Республика Кипр',\n",
       "       'Россия, Румыния', 'Россия, Сербия', 'Россия, Таджикистан',\n",
       "       'Россия, Украина', 'Россия, Украина, Польша',\n",
       "       'Россия, Украина, Республика Беларусь, Литва',\n",
       "       'Россия, Франция, Германия, Бельгия', 'Россия, Франция, Латвия',\n",
       "       'Россия-Азербайджан', 'Россия-Беларусь', 'Россия-Белоруссия',\n",
       "       'Россия-Германия', 'Россия-Ирландия', 'Россия-Италия',\n",
       "       'Россия-Казахстан', 'Россия-Кипр', 'Россия-Китай', 'Россия-Польша',\n",
       "       'Россия-Польша-Голландия-Словакия', 'Россия-США',\n",
       "       'Россия-США-Канада-Люксембург', 'Россия-Словакия-Чехия',\n",
       "       'Россия-Украина', 'Россия-Украина-Германия', 'Россия-Франция',\n",
       "       'Румыния', 'Румыния - Франция - Бельгия',\n",
       "       'Румыния, ЮАР, Иран, Франция, Канада, Великобритания',\n",
       "       'Румыния-США', 'СССР', 'СССР - ГДР - Польша - Италия',\n",
       "       'СССР - Италия', 'СССР - Швейцария - Франция', 'СССР, Албания',\n",
       "       'СССР, Афганистан', 'СССР, ВНР', 'СССР, Венгрия',\n",
       "       'СССР, Венгрия, ЧССР, ГДР', 'СССР, ГДР', 'СССР, Италия',\n",
       "       'СССР, Монголия', 'СССР, Польша', 'СССР, Россия',\n",
       "       'СССР, Румыния, Франция', 'СССР, ФРГ',\n",
       "       'СССР, ФРГ, Западный Берлин', 'СССР, Финляндия',\n",
       "       'СССР, Франция, Англия, Куба, ГДР',\n",
       "       'СССР, ЧССР, Западный Берлин, ПНР', 'СССР, Швеция', 'США',\n",
       "       'США - Австралия', 'США - Австралия - Дания',\n",
       "       'США - Австралия - Индия', 'США - Австралия - Мексика',\n",
       "       'США - Австралия - Новая Зеландия - Великобритания',\n",
       "       'США - Австралия - Франция', 'США - Бельгия',\n",
       "       'США - Бельгия - Великобритания', 'США - Болгария - Мексика',\n",
       "       'США - Бразилия - Великобритания - Канада',\n",
       "       'США - Бразилия - Франция - Австралия - Великобритания - Германия',\n",
       "       'США - Великобритания', 'США - Великобритания - Австралия',\n",
       "       'США - Великобритания - Болгария',\n",
       "       'США - Великобритания - Германия',\n",
       "       'США - Великобритания - Германия - - Швеция - Канада',\n",
       "       'США - Великобритания - Германия - Бельгия - Дания',\n",
       "       'США - Великобритания - Германия - Новая Зеландия - Бельгия - Франция',\n",
       "       'США - Великобритания - Ирландия',\n",
       "       'США - Великобритания - Исландия',\n",
       "       'США - Великобритания - Испания',\n",
       "       'США - Великобритания - Италия - Израиль - Сербия - Индия',\n",
       "       'США - Великобритания - КНР', 'США - Великобритания - Канада',\n",
       "       'США - Великобритания - Канада - КНР',\n",
       "       'США - Великобритания - Канада - Швеция',\n",
       "       'США - Великобритания - Новая Зеландия',\n",
       "       'США - Великобритания - Франция',\n",
       "       'США - Великобритания - Франция - Гонконг',\n",
       "       'США - Великобритания - Чехия',\n",
       "       'США - Великобритания - Швейцария - Франция',\n",
       "       'США - Великобритания - Швеция', 'США - Великобритания - Япония',\n",
       "       'США - Великобритания- Франция - Швеция',\n",
       "       'США - Венгрия - Великобритания', 'США - Вьетнам',\n",
       "       'США - Германия', 'США - Германия - Великобритания',\n",
       "       'США - Германия - Гонконг - Сингапур', 'США - Германия - КНР',\n",
       "       'США - Германия - Канада', 'США - Германия - Нидерланды',\n",
       "       'США - Германия - Франция',\n",
       "       'США - Германия - Франция - Великобритания - Канада',\n",
       "       'США - Германия - Япония', 'США - Гонконг', 'США - Гонконг - КНР',\n",
       "       'США - Дания', 'США - Индия', 'США - Индия - ОАЭ',\n",
       "       'США - Ирландия - Великобритания',\n",
       "       'США - Ирландия - Великобритания - Франция', 'США - Испания',\n",
       "       'США - Испания - Болгария', 'США - Испания - Франция',\n",
       "       'США - Испания - Франция - Великобритания', 'США - Италия',\n",
       "       'США - КНР', 'США - КНР - Индия - Ю.Корея', 'США - Канада',\n",
       "       'США - Канада - Аргентина',\n",
       "       'США - Канада - Афганистан - Бельгия - Франция',\n",
       "       'США - Канада - Великобритания', 'США - Канада - Германия',\n",
       "       'США - Канада - Германия - Франция', 'США - Канада - Индонезия',\n",
       "       'США - Канада - КНР',\n",
       "       'США - Канада - Россия - Франция - Чили - Ирландия',\n",
       "       'США - Канада - Франция - Индия', 'США - Канада - Япония - КНР',\n",
       "       'США - Китай', 'США - Колумбия', 'США - Колумбия - Испания',\n",
       "       'США - Мальта', 'США - Мексика',\n",
       "       'США - Нидерланды - Бельгия - Венгрия - Греция - Канада',\n",
       "       'США - Нидерланды - Финляндия - Великобритания - Италия',\n",
       "       'США - Новая Зеландия', 'США - Новая Зеландия - Япония',\n",
       "       'США - Норвегия', 'США - ОАЭ',\n",
       "       'США - Объединенные Арабские Эмираты', 'США - Пуэрто Рико',\n",
       "       'США - Пуэрто-Рико - Франция', 'США - Россия',\n",
       "       'США - Россия - Польша - Германия - Пуэрто Рико',\n",
       "       'США - Россия - Франция', 'США - Румыния - Великобритания',\n",
       "       'США - Сингапур - Малайзия - Индонезия', 'США - Украина',\n",
       "       'США - Финляндия',\n",
       "       'США - Финляндия - Испания - Великобритания - Франция',\n",
       "       'США - Франция', 'США - Франция - Бельгия - Италия',\n",
       "       'США - Франция - Великобритания',\n",
       "       'США - Франция - Великобритания - Бразилия',\n",
       "       'США - Франция - Германия',\n",
       "       'США - Франция - Германия - Канада - Австралия',\n",
       "       'США - Франция - Испания - Великобритания',\n",
       "       'США - Франция - Канада - Великобритания',\n",
       "       'США - Франция - Канада - Германия - Австралия - Индия',\n",
       "       'США - Франция - Турция', 'США - Франция - ЮАР',\n",
       "       'США - Хорватия - Босния-Герцеговина', 'США - Чехия - Франция',\n",
       "       'США - Чили', 'США - Швейцария - Франция', 'США - Швеция',\n",
       "       'США - ЮАР', 'США - ЮАР - Гонконг', 'США - Южная Корея',\n",
       "       'США - Япония', 'США - Япония - Германия',\n",
       "       'США - Япония - Канада - Великобритания - Германия - Франция',\n",
       "       'США - Япония - Франция - Великобритания',\n",
       "       'США -Великобритания - Австралия', 'США -Германия',\n",
       "       'США, Великобритания', 'США, Великобритания, Ирландия, Люксембург',\n",
       "       'США, Великобритания, Люксембург', 'США, Великобритания, Франция',\n",
       "       'США, Германия', 'США, Гонконг', 'США, Индия', 'США, Канада',\n",
       "       'США, Россия', 'США, Украина', 'США, Франция',\n",
       "       'США, Франция, Япония', 'США, Япония', 'США- Ю.Корея',\n",
       "       'США-Австралия', 'США-Аргентина', 'США-Бельгия',\n",
       "       'США-Великобритания', 'США-Великобритания-Австралия',\n",
       "       'США-Великобритания-Индия', 'США-Великобритания-Ирландия',\n",
       "       'США-Великобритания-Новая Зеландия', 'США-Великобритания-Франция',\n",
       "       'США-Великобритания-Чехия-Румыния', 'США-Венгрия', 'США-Германия',\n",
       "       'США-Германия-Австралия', 'США-Германия-Великобритания',\n",
       "       'США-Германия-Канада', 'США-Гонконг-Китай', 'США-Индия',\n",
       "       'США-Индонезия', 'США-Ирландия', 'США-Испания',\n",
       "       'США-Италия-Греция', 'США-Италия-Испания',\n",
       "       'США-Италия-Испания-Аргентина', 'США-КНР', 'США-Канада',\n",
       "       'США-Канада-Австралия', 'США-Канада-Бельгия', 'США-Канада-Италия',\n",
       "       'США-Канада-Франция', 'США-Китай', 'США-Колумбия', 'США-Мальта',\n",
       "       'США-Мексика', 'США-Нидерланды', 'США-ОАЭ', 'США-Россия',\n",
       "       'США-ФРГ-Россия', 'США-Франция',\n",
       "       'США-Франция-Великобритания-Австрия', 'США-Франция-Ирландия',\n",
       "       'США-Франция-Испания', 'США-Франция-Канада', 'США-ЮАР',\n",
       "       'США-Южная Корея-Новая Зеландия', 'США-Япония',\n",
       "       'США-Япония-Германия-Великобритания',\n",
       "       'США-Япония-Германия-Великобритания-Нидерланды', 'СЩА',\n",
       "       'Сербия - Великобритания - США', 'Сербия - Германия - Венгрия',\n",
       "       'Сербия - Словения - Хорватия - Черногория - Македония',\n",
       "       'Сингапур - Великобритания - Индонезия - Канада - США',\n",
       "       'Сша, Канада', 'Таиланд', 'Таиланд - КНР - США', 'Таиланд - США',\n",
       "       'Таиланд-Великобритания-Франция-Германия-Испания-Нидерланды',\n",
       "       'Турция', 'Турция - Германя - Франция', 'Турция - США', 'Украина',\n",
       "       'Украина - Германия - Латвия - Эстония', 'Украина - Нидерланды',\n",
       "       'Уругвай - Аргентина - Испания', 'Уругвай - Колумбия',\n",
       "       'Уругвай-Мексика-Германия', 'Финляндия',\n",
       "       'Финляндия - Австрия - Россия',\n",
       "       'Финляндия - Великобритания - Германия', 'Финляндия - Германия',\n",
       "       'Финляндия - Дания - Германия - Ирландия',\n",
       "       'Финляндия - Исландия - Швеция', 'Финляндия - Канада',\n",
       "       'Финляндия - Польша', 'Финляндия - Франция - Германия',\n",
       "       'Финляндия - Швеция - Германия', 'Финляндия - Швеция - Норвегия',\n",
       "       'Финляндия, Латвия', 'Финляндия-Дания-Германия-Ирландия',\n",
       "       'Франция', 'Франция -  Бельгия', 'Франция - Австрия',\n",
       "       'Франция - Австрия - Германия - Италия - США', 'Франция - Бельгия',\n",
       "       'Франция - Бельгия - Великобритания - Испания - Германия - США',\n",
       "       'Франция - Бельгия - Великобритания - США - Нидерланды - Канада',\n",
       "       'Франция - Бельгия - Испания', 'Франция - Бельгия - Канада',\n",
       "       'Франция - Бельгия - Люксембург', 'Франция - Бельгия - Чехия',\n",
       "       'Франция - Бельгия - Япония', 'Франция - Бенльгия',\n",
       "       'Франция - Бразилия', 'Франция - Бразилия - Италия',\n",
       "       'Франция - Великобритания',\n",
       "       'Франция - Великобритания - Багамские острова - США',\n",
       "       'Франция - Великобритания - Камбоджа - США - КНР',\n",
       "       'Франция - Великобритания - Нидерланды - Люксембург',\n",
       "       'Франция - Германия', 'Франция - Германия - Австрия',\n",
       "       'Франция - Германия - Бельгия', 'Франция - Германия - Италия',\n",
       "       'Франция - Германия - Литва - Нидерланды - Россия',\n",
       "       'Франция - Германия - Нидерланды', 'Франция - Германия - США',\n",
       "       'Франция - Германия - Турция - Катар',\n",
       "       'Франция - Германия - Швеция - США - Чехия - Словакия - Великобритания - Нидерланды',\n",
       "       'Франция - Греция', 'Франция - Дания', 'Франция - Дания - США',\n",
       "       'Франция - Дания - Швеция - КНР', 'Франция - Израиль - Германия',\n",
       "       'Франция - Ирландия - Швеция', 'Франция - Испания',\n",
       "       'Франция - Испания - Дания - Венгрия - Швейцария',\n",
       "       'Франция - Испания - Румыния - США - Бельгия',\n",
       "       'Франция - Испания - Тайвань', 'Франция - Италия',\n",
       "       'Франция - Италия - Бельгия - КНР',\n",
       "       'Франция - Италия - Бельгия - Люксембург',\n",
       "       'Франция - Италия - Великобритания - США',\n",
       "       'Франция - Италия - Иран', 'Франция - Италия - Швейцария',\n",
       "       'Франция - КНР', 'Франция - Канада', 'Франция - Канада - Бельгия',\n",
       "       'Франция - Канада - Н.Зеландия - США - Нидерланды - Германия - Швеция - Россия',\n",
       "       'Франция - Люксембург', 'Франция - Люксембург - Бельгия',\n",
       "       'Франция - Люксембург - Германия - Бельгия - Швейцария - Великобритания',\n",
       "       'Франция - Македония', 'Франция - Мексика - США',\n",
       "       'Франция - Монако', 'Франция - Нидерланды',\n",
       "       'Франция - Польша - Бельгия', 'Франция - Португалия',\n",
       "       'Франция - Россия',\n",
       "       'Франция - Россия - Швейцария - Румыния - Венгрия',\n",
       "       'Франция - США', 'Франция - США - Бельгия',\n",
       "       'Франция - США - Великобритания - Колумбия - Бельгия - Россия',\n",
       "       'Франция - США - Норвегия - Дания', 'Франция - Сенегал - Бельгия',\n",
       "       'Франция - Украина - Грузия - Армения', 'Франция - Финляндия',\n",
       "       'Франция - Чехия - Бельгия', 'Франция - Чехия - Великобритания',\n",
       "       'Франция - Чили', 'Франция - Швейцария',\n",
       "       'Франция - Швейцария - Германия',\n",
       "       'Франция - Швеция - Дания - Норвегия', 'Франция -Бельгия',\n",
       "       'Франция, Бельгия', 'Франция, Бельгия, Люксембург',\n",
       "       'Франция, Германия', 'Франция, Канада',\n",
       "       'Франция, Люксембург, Бельгия', 'Франция, Новая Зеландия',\n",
       "       'Франция, Норвегия', 'Франция-Австралия', 'Франция-Аргентина',\n",
       "       'Франция-Бельгия', 'Франция-Бельгия-Канада',\n",
       "       'Франция-Великобритания', 'Франция-Великобритания - Германия',\n",
       "       'Франция-Великобритания-Чехия', 'Франция-Германия',\n",
       "       'Франция-Германия-Австрия', 'Франция-Германия-Великобритания',\n",
       "       'Франция-Германия-Италия', 'Франция-Гонконг-Ирландия',\n",
       "       'Франция-Грузия-Германия-Россия-Украина-Бельгия', 'Франция-Индия',\n",
       "       'Франция-Испания', 'Франция-Испания-Бельгия-Панама',\n",
       "       'Франция-Испания-Германия', 'Франция-Испания-Швейцария',\n",
       "       'Франция-Италия', 'Франция-Италия-Испания-Венгрия', 'Франция-КНР',\n",
       "       'Франция-Канада', 'Франция-Китай', 'Франция-Перу',\n",
       "       'Франция-Польша', 'Франция-Россия',\n",
       "       'Франция-Россия-Румыния-Италия-Бельгия', 'Франция-США',\n",
       "       'Франция-Украина', 'Хорватия', 'Чехия', 'Чехия - Германия',\n",
       "       'Чехия - Испания - США', 'Чехия - Словакия - Хорватия',\n",
       "       'Чехия-Великобритания-США', 'Чехословакия', 'Чили',\n",
       "       'Чили - Испания', 'Чили - Франция - США', 'Швейцария',\n",
       "       'Швейцария - Австрия', 'Швейцария - Великобритания',\n",
       "       'Швейцария - Израиль - Франция - Великобритания',\n",
       "       'Швейцария - КНР - США - Россия - Республика Корея - Великобритания',\n",
       "       'Швейцария - Люксембург', 'Швейцария - Франция',\n",
       "       'Швейцария, Великобритания, Франция, США, Ирландия',\n",
       "       'Швейцария-Австрия', 'Швейцария-Германия-ЮАР', 'Швейцария-Франция',\n",
       "       'Швеция', 'Швеция - Германия',\n",
       "       'Швеция - Германия - Дания - Норвегия',\n",
       "       'Швеция - Германия - Франция - Дания',\n",
       "       'Швеция - Германия - Франция - Норвегия', 'Швеция - Дания',\n",
       "       'Швеция - Дания - Финляндия', 'Швеция - Норвегия', 'Швеция - США',\n",
       "       'Швеция - Франция - Норвегия - Дания',\n",
       "       'Швеция, Норвегия, Финляндия, Франция',\n",
       "       'Швеция, Франция, Великобритания', 'Швеция-Куба',\n",
       "       'Швеция-Финляндия-Франция-Норвегия', 'Швеция-Франция',\n",
       "       'Швеция-Франция-Дания', 'Эстония', 'Эстония - Россия', 'ЮАР',\n",
       "       'ЮАР - США', 'Южная Корея', 'Южная Корея - КНР',\n",
       "       'Южная Корея - США', 'Южная Корея - США - Канада', 'Япония',\n",
       "       'Япония - Великобритания - Франция',\n",
       "       'Япония - Великобритания - Швейцария - Ирландия - Дания - Франция - Польша - Австралия - Канада',\n",
       "       'Япония - КНР - Южная Корея', 'Япония - Канада', 'Япония - США',\n",
       "       'Япония - Франция - США - Южная Корея - Турция',\n",
       "       'Япония, Великобритания',\n",
       "       'Япония, Великобритания, Австрия, Германия, Ю.Корея',\n",
       "       'Япония, США', 'Япония-Великобритания', 'Япония-США-Франция', nan],\n",
       "      dtype=object)"
      ]
     },
     "execution_count": 43,
     "metadata": {},
     "output_type": "execute_result"
    }
   ],
   "source": [
    "data['production_country'].sort_values().unique()"
   ]
  },
  {
   "cell_type": "code",
   "execution_count": 44,
   "metadata": {},
   "outputs": [
    {
     "data": {
      "text/plain": [
       "array([' Йохан Нийенхейс', ' Н.Орлов, Р.Быков', ' Р.Асхаев', ...,\n",
       "       'хореография Фредерика Аштона', 'хореография Фредерика Эштона',\n",
       "       nan], dtype=object)"
      ]
     },
     "execution_count": 44,
     "metadata": {},
     "output_type": "execute_result"
    }
   ],
   "source": [
    "data['director'].sort_values().unique()"
   ]
  },
  {
   "cell_type": "code",
   "execution_count": 45,
   "metadata": {},
   "outputs": [
    {
     "data": {
      "text/plain": [
       "4812"
      ]
     },
     "execution_count": 45,
     "metadata": {},
     "output_type": "execute_result"
    }
   ],
   "source": [
    "len(data['director'].unique())"
   ]
  },
  {
   "cell_type": "code",
   "execution_count": 46,
   "metadata": {},
   "outputs": [],
   "source": [
    "#удалим пробелы из начала и конца строк, заменим ё на е\n",
    "data['director'] = data['director'].replace('ё', 'е').str.strip()"
   ]
  },
  {
   "cell_type": "code",
   "execution_count": 47,
   "metadata": {},
   "outputs": [
    {
     "data": {
      "text/plain": [
       "4802"
      ]
     },
     "execution_count": 47,
     "metadata": {},
     "output_type": "execute_result"
    }
   ],
   "source": [
    "len(data['director'].unique())"
   ]
  },
  {
   "cell_type": "code",
   "execution_count": 48,
   "metadata": {},
   "outputs": [
    {
     "data": {
      "text/plain": [
       "array([' А.Шальопа', ' Г.Шпригов',\n",
       "       ' Дитмар Ганше, Филипп Фогес,  Бенджамин Херрман, Миша Хоффманн, Эберхард Юнексдорф, Энн Мередит',\n",
       "       ..., 'Яэль Бергман, Лаура Уотерс, Питер Хеллайар',\n",
       "       'Яэль Фогель, Летиция Гонзалез', nan], dtype=object)"
      ]
     },
     "execution_count": 48,
     "metadata": {},
     "output_type": "execute_result"
    }
   ],
   "source": [
    "data['producer'].sort_values().unique()"
   ]
  },
  {
   "cell_type": "code",
   "execution_count": 49,
   "metadata": {},
   "outputs": [
    {
     "data": {
      "text/plain": [
       "5350"
      ]
     },
     "execution_count": 49,
     "metadata": {},
     "output_type": "execute_result"
    }
   ],
   "source": [
    "len(data['producer'].unique())"
   ]
  },
  {
   "cell_type": "code",
   "execution_count": 50,
   "metadata": {},
   "outputs": [],
   "source": [
    "#удалим пробелы из начала и конца строк, заменим ё на е\n",
    "data['producer'] = data['producer'].replace('ё', 'е').str.strip()"
   ]
  },
  {
   "cell_type": "code",
   "execution_count": 51,
   "metadata": {},
   "outputs": [
    {
     "data": {
      "text/plain": [
       "5335"
      ]
     },
     "execution_count": 51,
     "metadata": {},
     "output_type": "execute_result"
    }
   ],
   "source": [
    "len(data['producer'].unique())"
   ]
  },
  {
   "cell_type": "code",
   "execution_count": 52,
   "metadata": {},
   "outputs": [
    {
     "data": {
      "text/plain": [
       "array(['«0+» - для любой зрительской аудитории',\n",
       "       '«12+» - для детей старше 12 лет',\n",
       "       '«16+» - для детей старше 16 лет', '«18+» - запрещено для детей',\n",
       "       '«6+» - для детей старше 6 лет'], dtype=object)"
      ]
     },
     "execution_count": 52,
     "metadata": {},
     "output_type": "execute_result"
    }
   ],
   "source": [
    "data['age_restriction'].sort_values().unique()"
   ]
  },
  {
   "cell_type": "code",
   "execution_count": 53,
   "metadata": {},
   "outputs": [
    {
     "data": {
      "text/plain": [
       "array(['Министерство культуры', 'Министерство культуры, Фонд кино',\n",
       "       'Фонд кино', nan], dtype=object)"
      ]
     },
     "execution_count": 53,
     "metadata": {},
     "output_type": "execute_result"
    }
   ],
   "source": [
    "data['financing_source'].sort_values().unique()"
   ]
  },
  {
   "cell_type": "code",
   "execution_count": 54,
   "metadata": {},
   "outputs": [
    {
     "data": {
      "text/plain": [
       "743"
      ]
     },
     "execution_count": 54,
     "metadata": {},
     "output_type": "execute_result"
    }
   ],
   "source": [
    "len(data['genres'].unique())"
   ]
  },
  {
   "cell_type": "code",
   "execution_count": 55,
   "metadata": {},
   "outputs": [],
   "source": [
    "#удалим пробелы из начала и конца строк, заменим ё на е\n",
    "data['genres'] = data['genres'].replace('ё', 'е').str.strip()"
   ]
  },
  {
   "cell_type": "code",
   "execution_count": 56,
   "metadata": {},
   "outputs": [
    {
     "data": {
      "text/plain": [
       "743"
      ]
     },
     "execution_count": 56,
     "metadata": {},
     "output_type": "execute_result"
    }
   ],
   "source": [
    "len(data['genres'].unique())"
   ]
  },
  {
   "cell_type": "markdown",
   "metadata": {},
   "source": [
    "Неявнве дубликаты заменены там, где это возможно"
   ]
  },
  {
   "cell_type": "markdown",
   "metadata": {
    "id": "XFSN5lrEgFyR"
   },
   "source": [
    "### Обработка количественные значения"
   ]
  },
  {
   "cell_type": "code",
   "execution_count": 57,
   "metadata": {
    "id": "YbzClBxagFyS"
   },
   "outputs": [
    {
     "data": {
      "text/html": [
       "<div>\n",
       "<style scoped>\n",
       "    .dataframe tbody tr th:only-of-type {\n",
       "        vertical-align: middle;\n",
       "    }\n",
       "\n",
       "    .dataframe tbody tr th {\n",
       "        vertical-align: top;\n",
       "    }\n",
       "\n",
       "    .dataframe thead th {\n",
       "        text-align: right;\n",
       "    }\n",
       "</style>\n",
       "<table border=\"1\" class=\"dataframe\">\n",
       "  <thead>\n",
       "    <tr style=\"text-align: right;\">\n",
       "      <th></th>\n",
       "      <th>title</th>\n",
       "      <th>puNumber</th>\n",
       "      <th>show_start_date</th>\n",
       "      <th>type</th>\n",
       "      <th>film_studio</th>\n",
       "      <th>production_country</th>\n",
       "      <th>director</th>\n",
       "      <th>producer</th>\n",
       "      <th>age_restriction</th>\n",
       "      <th>refundable_support</th>\n",
       "      <th>nonrefundable_support</th>\n",
       "      <th>budget</th>\n",
       "      <th>financing_source</th>\n",
       "      <th>ratings</th>\n",
       "      <th>genres</th>\n",
       "      <th>box_office</th>\n",
       "    </tr>\n",
       "  </thead>\n",
       "  <tbody>\n",
       "    <tr>\n",
       "      <th>2053</th>\n",
       "      <td>14+</td>\n",
       "      <td>111023614</td>\n",
       "      <td>2014-12-19 12:00:00+00:00</td>\n",
       "      <td>Художественный</td>\n",
       "      <td>ооо киностудия  \"сентябрь\"</td>\n",
       "      <td>Россия</td>\n",
       "      <td>А.Зайцев</td>\n",
       "      <td>О.Гранина, А.Зайцев</td>\n",
       "      <td>«16+» - для детей старше 16 лет</td>\n",
       "      <td>0.0</td>\n",
       "      <td>23,000,000.0</td>\n",
       "      <td>0.0</td>\n",
       "      <td>Министерство культуры, Фонд кино</td>\n",
       "      <td>6.6</td>\n",
       "      <td>мелодрама</td>\n",
       "      <td>10,234,016.1</td>\n",
       "    </tr>\n",
       "    <tr>\n",
       "      <th>2058</th>\n",
       "      <td>Дуxless 2</td>\n",
       "      <td>111000415</td>\n",
       "      <td>2015-01-26 12:00:00+00:00</td>\n",
       "      <td>Художественный</td>\n",
       "      <td>ооо \"киностудия \"слово\", ооо \"арт пикчерс студия\"</td>\n",
       "      <td>Россия</td>\n",
       "      <td>Р.Прыгунов</td>\n",
       "      <td>П.Ануров, Ф.Бондарчук, Д.Рудовский</td>\n",
       "      <td>«16+» - для детей старше 16 лет</td>\n",
       "      <td>0.0</td>\n",
       "      <td>75,000,000.0</td>\n",
       "      <td>0.0</td>\n",
       "      <td>Фонд кино</td>\n",
       "      <td>6.6</td>\n",
       "      <td>драма</td>\n",
       "      <td>446,163,511.0</td>\n",
       "    </tr>\n",
       "    <tr>\n",
       "      <th>2472</th>\n",
       "      <td>Воин (2015)</td>\n",
       "      <td>111017315</td>\n",
       "      <td>2015-09-28 12:00:00+00:00</td>\n",
       "      <td>Художественный</td>\n",
       "      <td>ооо \"форпост продакшн\", ооо \"арт пикчерс студия\"</td>\n",
       "      <td>Россия</td>\n",
       "      <td>А.Андрианов</td>\n",
       "      <td>ООО \"Арт Пикчерс Студия\"</td>\n",
       "      <td>«12+» - для детей старше 12 лет</td>\n",
       "      <td>10,000,000.0</td>\n",
       "      <td>70,000,000.0</td>\n",
       "      <td>0.0</td>\n",
       "      <td>Фонд кино</td>\n",
       "      <td>7.8</td>\n",
       "      <td>боевик,драма,криминал</td>\n",
       "      <td>196,572,438.4</td>\n",
       "    </tr>\n",
       "    <tr>\n",
       "      <th>2532</th>\n",
       "      <td>Бармен.</td>\n",
       "      <td>111009615</td>\n",
       "      <td>2015-05-26 12:00:00+00:00</td>\n",
       "      <td>Художественный</td>\n",
       "      <td>ао \"вайт медиа\", ооо \"арт пикчерс студия\"</td>\n",
       "      <td>Россия</td>\n",
       "      <td>Д.Штурманова</td>\n",
       "      <td>Т.Вайнштейн</td>\n",
       "      <td>«16+» - для детей старше 16 лет</td>\n",
       "      <td>20,000,000.0</td>\n",
       "      <td>0.0</td>\n",
       "      <td>0.0</td>\n",
       "      <td>Фонд кино</td>\n",
       "      <td>6.2</td>\n",
       "      <td>комедия,фэнтези</td>\n",
       "      <td>67,418,974.8</td>\n",
       "    </tr>\n",
       "    <tr>\n",
       "      <th>2615</th>\n",
       "      <td>Савва. Сердце воина</td>\n",
       "      <td>114001715</td>\n",
       "      <td>2015-07-21 12:00:00+00:00</td>\n",
       "      <td>Анимационный</td>\n",
       "      <td>ооо \"глюкоза продакшн\", ооо \"арт пикчерс студия\"</td>\n",
       "      <td>Россия</td>\n",
       "      <td>М.Фадеев</td>\n",
       "      <td>А.Чистяков</td>\n",
       "      <td>«6+» - для детей старше 6 лет</td>\n",
       "      <td>60,000,000.0</td>\n",
       "      <td>100,000,000.0</td>\n",
       "      <td>0.0</td>\n",
       "      <td>Фонд кино</td>\n",
       "      <td>4.6</td>\n",
       "      <td>мультфильм,приключения,фэнтези</td>\n",
       "      <td>184,487,551.4</td>\n",
       "    </tr>\n",
       "    <tr>\n",
       "      <th>2684</th>\n",
       "      <td>Тряпичный союз</td>\n",
       "      <td>111010215</td>\n",
       "      <td>2015-06-08 12:00:00+00:00</td>\n",
       "      <td>Художественный</td>\n",
       "      <td>ооо \"кинокомпания \"коктебель\"</td>\n",
       "      <td>Россия</td>\n",
       "      <td>М.Местецкий</td>\n",
       "      <td>Р.Борисевич, А.Кушаев</td>\n",
       "      <td>«18+» - запрещено для детей</td>\n",
       "      <td>0.0</td>\n",
       "      <td>59,000,000.0</td>\n",
       "      <td>0.0</td>\n",
       "      <td>Фонд кино</td>\n",
       "      <td>6.3</td>\n",
       "      <td>комедия,драма</td>\n",
       "      <td>1,957,738.5</td>\n",
       "    </tr>\n",
       "    <tr>\n",
       "      <th>2788</th>\n",
       "      <td>Срочно выйду замуж</td>\n",
       "      <td>111017115</td>\n",
       "      <td>2015-09-30 12:00:00+00:00</td>\n",
       "      <td>Художественный</td>\n",
       "      <td>ао \"вайт медиа\", ооо \"арт пикчерс студия\"</td>\n",
       "      <td>Россия</td>\n",
       "      <td>С Чекалов</td>\n",
       "      <td>Ф.Бондарчук, Т.Вайнштейн, Д.Рудовский</td>\n",
       "      <td>«16+» - для детей старше 16 лет</td>\n",
       "      <td>0.0</td>\n",
       "      <td>35,000,000.0</td>\n",
       "      <td>0.0</td>\n",
       "      <td>Фонд кино</td>\n",
       "      <td>5.1</td>\n",
       "      <td>комедия,мелодрама</td>\n",
       "      <td>72,937,783.2</td>\n",
       "    </tr>\n",
       "    <tr>\n",
       "      <th>2874</th>\n",
       "      <td>Помню - не помню!</td>\n",
       "      <td>111004916</td>\n",
       "      <td>2016-03-01 12:00:00+00:00</td>\n",
       "      <td>Художественный</td>\n",
       "      <td>ооо \"кинофирма\"</td>\n",
       "      <td>Россия</td>\n",
       "      <td>В.Ровенский</td>\n",
       "      <td>ООО \"КиноФирма\"</td>\n",
       "      <td>«12+» - для детей старше 12 лет</td>\n",
       "      <td>0.0</td>\n",
       "      <td>6,000,000.0</td>\n",
       "      <td>0.0</td>\n",
       "      <td>Министерство культуры</td>\n",
       "      <td>4.3</td>\n",
       "      <td>комедия</td>\n",
       "      <td>15,362,931.4</td>\n",
       "    </tr>\n",
       "    <tr>\n",
       "      <th>3047</th>\n",
       "      <td>Любовь с ограничениями</td>\n",
       "      <td>111008216</td>\n",
       "      <td>2016-04-29 12:00:00+00:00</td>\n",
       "      <td>Художественный</td>\n",
       "      <td>ао \"вайт медиа\", ооо \"арт пикчерс студия\"</td>\n",
       "      <td>Россия</td>\n",
       "      <td>Д.Тюрин</td>\n",
       "      <td>Ф.Бондарчук, Т.Вайнштейн, Д.Рудовский</td>\n",
       "      <td>«16+» - для детей старше 16 лет</td>\n",
       "      <td>19,000,000.0</td>\n",
       "      <td>51,000,000.0</td>\n",
       "      <td>0.0</td>\n",
       "      <td>Фонд кино</td>\n",
       "      <td>6.3</td>\n",
       "      <td>комедия,мелодрама</td>\n",
       "      <td>70,299,052.0</td>\n",
       "    </tr>\n",
       "    <tr>\n",
       "      <th>3565</th>\n",
       "      <td>Притяжение (2016)</td>\n",
       "      <td>111018116</td>\n",
       "      <td>2016-12-16 12:00:00+00:00</td>\n",
       "      <td>Художественный</td>\n",
       "      <td>ооо \"водород 2011\",  ооо \"арт пикчерс студия\"</td>\n",
       "      <td>Россия</td>\n",
       "      <td>Ф.Бондарчук</td>\n",
       "      <td>ООО \"Арт Пикчерс Студия\"</td>\n",
       "      <td>«12+» - для детей старше 12 лет</td>\n",
       "      <td>0.0</td>\n",
       "      <td>250,000,000.0</td>\n",
       "      <td>0.0</td>\n",
       "      <td>Фонд кино</td>\n",
       "      <td>5.6</td>\n",
       "      <td>фантастика</td>\n",
       "      <td>1,038,321,489.0</td>\n",
       "    </tr>\n",
       "    <tr>\n",
       "      <th>3675</th>\n",
       "      <td>Чудо-юдо</td>\n",
       "      <td>114001817</td>\n",
       "      <td>2017-06-27 12:00:00+00:00</td>\n",
       "      <td>Анимационный</td>\n",
       "      <td>ооо \"кинофирма\"</td>\n",
       "      <td>Россия</td>\n",
       "      <td>А.Лукичев</td>\n",
       "      <td>ООО \"КиноФирма\"</td>\n",
       "      <td>«6+» - для детей старше 6 лет</td>\n",
       "      <td>20,000,000.0</td>\n",
       "      <td>20,000,000.0</td>\n",
       "      <td>0.0</td>\n",
       "      <td>Фонд кино</td>\n",
       "      <td>5.2</td>\n",
       "      <td>мультфильм,фэнтези,семейный</td>\n",
       "      <td>55,108,014.8</td>\n",
       "    </tr>\n",
       "    <tr>\n",
       "      <th>3739</th>\n",
       "      <td>Мифы</td>\n",
       "      <td>111004317</td>\n",
       "      <td>2017-06-07 12:00:00+00:00</td>\n",
       "      <td>Художественный</td>\n",
       "      <td>ооо \"хайпфилм\", ооо \"арт пикчерс студия\"</td>\n",
       "      <td>Россия</td>\n",
       "      <td>А.Молочников</td>\n",
       "      <td>Ф.Бондарчук, Д.Рудовский, И.Стюарт, М.Османн, ...</td>\n",
       "      <td>«16+» - для детей старше 16 лет</td>\n",
       "      <td>25,000,000.0</td>\n",
       "      <td>20,000,000.0</td>\n",
       "      <td>0.0</td>\n",
       "      <td>Фонд кино</td>\n",
       "      <td>4.8</td>\n",
       "      <td>комедия</td>\n",
       "      <td>50,451,949.0</td>\n",
       "    </tr>\n",
       "    <tr>\n",
       "      <th>5673</th>\n",
       "      <td>Селфи</td>\n",
       "      <td>111012117</td>\n",
       "      <td>2018-02-01 12:00:00+00:00</td>\n",
       "      <td>Художественный</td>\n",
       "      <td>ооо \"киностудия \"слово\", ооо \"арт пикчерс студия\"</td>\n",
       "      <td>Россия</td>\n",
       "      <td>Н.Хомерики</td>\n",
       "      <td>П.Ануров, Ф.Бондарчук, Д.Рудовский</td>\n",
       "      <td>«16+» - для детей старше 16 лет</td>\n",
       "      <td>20,000,000.0</td>\n",
       "      <td>40,000,000.0</td>\n",
       "      <td>0.0</td>\n",
       "      <td>Фонд кино</td>\n",
       "      <td>5.8</td>\n",
       "      <td>триллер,драма</td>\n",
       "      <td>225,196,400.0</td>\n",
       "    </tr>\n",
       "    <tr>\n",
       "      <th>5806</th>\n",
       "      <td>Два хвоста</td>\n",
       "      <td>114001018</td>\n",
       "      <td>2018-05-31 12:00:00+00:00</td>\n",
       "      <td>Анимационный</td>\n",
       "      <td>ооо \"лицензионные бренды\"</td>\n",
       "      <td>Россия</td>\n",
       "      <td>В.Ровенский, Н.Лопато, В.Азеев</td>\n",
       "      <td>ООО \"ЛИЦЕНЗИОННЫЕ БРЕНДЫ\"</td>\n",
       "      <td>«6+» - для детей старше 6 лет</td>\n",
       "      <td>10,000,000.0</td>\n",
       "      <td>60,000,000.0</td>\n",
       "      <td>0.0</td>\n",
       "      <td>Фонд кино</td>\n",
       "      <td>5.0</td>\n",
       "      <td>мультфильм,детский</td>\n",
       "      <td>106,514,301.0</td>\n",
       "    </tr>\n",
       "    <tr>\n",
       "      <th>6008</th>\n",
       "      <td>Принцесса и дракон</td>\n",
       "      <td>114003018</td>\n",
       "      <td>2018-08-23 12:00:00+00:00</td>\n",
       "      <td>Анимационный</td>\n",
       "      <td>ооо \"лицензионные бренды\"</td>\n",
       "      <td>Россия</td>\n",
       "      <td>М.Нефедова</td>\n",
       "      <td>ООО \"ЛИЦЕНЗИОННЫЕ БРЕНДЫ\"</td>\n",
       "      <td>«6+» - для детей старше 6 лет</td>\n",
       "      <td>40,000,000.0</td>\n",
       "      <td>40,000,000.0</td>\n",
       "      <td>0.0</td>\n",
       "      <td>Фонд кино</td>\n",
       "      <td>5.2</td>\n",
       "      <td>мультфильм,фэнтези,детский</td>\n",
       "      <td>83,366,328.7</td>\n",
       "    </tr>\n",
       "    <tr>\n",
       "      <th>6323</th>\n",
       "      <td>Баба Яга</td>\n",
       "      <td>114006518</td>\n",
       "      <td>2018-11-08 12:00:00+00:00</td>\n",
       "      <td>Анимационный</td>\n",
       "      <td>ооо \"арт пикчерс студия\"</td>\n",
       "      <td>Россия</td>\n",
       "      <td>В.Саков</td>\n",
       "      <td>ООО \"Арт Пикчерс Студия\", ООО \"КРИЭЙТИВ АНИМЭЙ...</td>\n",
       "      <td>«6+» - для детей старше 6 лет</td>\n",
       "      <td>0.0</td>\n",
       "      <td>138,969,465.0</td>\n",
       "      <td>0.0</td>\n",
       "      <td>Фонд кино</td>\n",
       "      <td>NaN</td>\n",
       "      <td>NaN</td>\n",
       "      <td>1,334,699.4</td>\n",
       "    </tr>\n",
       "    <tr>\n",
       "      <th>6823</th>\n",
       "      <td>Большое путешествие</td>\n",
       "      <td>114002419</td>\n",
       "      <td>2019-04-20 12:00:00+00:00</td>\n",
       "      <td>Анимационный</td>\n",
       "      <td>ооо \"лицензионные бренды\"</td>\n",
       "      <td>Россия</td>\n",
       "      <td>Н.Лопато, В.Ровенский</td>\n",
       "      <td>ООО \"ЛИЦЕНЗИОННЫЕ БРЕНДЫ\"</td>\n",
       "      <td>«6+» - для детей старше 6 лет</td>\n",
       "      <td>60,000,000.0</td>\n",
       "      <td>120,000,000.0</td>\n",
       "      <td>0.0</td>\n",
       "      <td>Фонд кино</td>\n",
       "      <td>6.2</td>\n",
       "      <td>мультфильм,комедия,приключения</td>\n",
       "      <td>147,606,826.5</td>\n",
       "    </tr>\n",
       "  </tbody>\n",
       "</table>\n",
       "</div>"
      ],
      "text/plain": [
       "                       title   puNumber           show_start_date  \\\n",
       "2053                     14+  111023614 2014-12-19 12:00:00+00:00   \n",
       "2058               Дуxless 2  111000415 2015-01-26 12:00:00+00:00   \n",
       "2472             Воин (2015)  111017315 2015-09-28 12:00:00+00:00   \n",
       "2532                 Бармен.  111009615 2015-05-26 12:00:00+00:00   \n",
       "2615     Савва. Сердце воина  114001715 2015-07-21 12:00:00+00:00   \n",
       "2684          Тряпичный союз  111010215 2015-06-08 12:00:00+00:00   \n",
       "2788      Срочно выйду замуж  111017115 2015-09-30 12:00:00+00:00   \n",
       "2874       Помню - не помню!  111004916 2016-03-01 12:00:00+00:00   \n",
       "3047  Любовь с ограничениями  111008216 2016-04-29 12:00:00+00:00   \n",
       "3565       Притяжение (2016)  111018116 2016-12-16 12:00:00+00:00   \n",
       "3675                Чудо-юдо  114001817 2017-06-27 12:00:00+00:00   \n",
       "3739                    Мифы  111004317 2017-06-07 12:00:00+00:00   \n",
       "5673                   Селфи  111012117 2018-02-01 12:00:00+00:00   \n",
       "5806              Два хвоста  114001018 2018-05-31 12:00:00+00:00   \n",
       "6008      Принцесса и дракон  114003018 2018-08-23 12:00:00+00:00   \n",
       "6323                Баба Яга  114006518 2018-11-08 12:00:00+00:00   \n",
       "6823     Большое путешествие  114002419 2019-04-20 12:00:00+00:00   \n",
       "\n",
       "                type                                        film_studio  \\\n",
       "2053  Художественный                         ооо киностудия  \"сентябрь\"   \n",
       "2058  Художественный  ооо \"киностудия \"слово\", ооо \"арт пикчерс студия\"   \n",
       "2472  Художественный   ооо \"форпост продакшн\", ооо \"арт пикчерс студия\"   \n",
       "2532  Художественный          ао \"вайт медиа\", ооо \"арт пикчерс студия\"   \n",
       "2615    Анимационный   ооо \"глюкоза продакшн\", ооо \"арт пикчерс студия\"   \n",
       "2684  Художественный                      ооо \"кинокомпания \"коктебель\"   \n",
       "2788  Художественный          ао \"вайт медиа\", ооо \"арт пикчерс студия\"   \n",
       "2874  Художественный                                    ооо \"кинофирма\"   \n",
       "3047  Художественный          ао \"вайт медиа\", ооо \"арт пикчерс студия\"   \n",
       "3565  Художественный      ооо \"водород 2011\",  ооо \"арт пикчерс студия\"   \n",
       "3675    Анимационный                                    ооо \"кинофирма\"   \n",
       "3739  Художественный           ооо \"хайпфилм\", ооо \"арт пикчерс студия\"   \n",
       "5673  Художественный  ооо \"киностудия \"слово\", ооо \"арт пикчерс студия\"   \n",
       "5806    Анимационный                          ооо \"лицензионные бренды\"   \n",
       "6008    Анимационный                          ооо \"лицензионные бренды\"   \n",
       "6323    Анимационный                           ооо \"арт пикчерс студия\"   \n",
       "6823    Анимационный                          ооо \"лицензионные бренды\"   \n",
       "\n",
       "     production_country                        director  \\\n",
       "2053             Россия                        А.Зайцев   \n",
       "2058             Россия                      Р.Прыгунов   \n",
       "2472             Россия                     А.Андрианов   \n",
       "2532             Россия                    Д.Штурманова   \n",
       "2615             Россия                        М.Фадеев   \n",
       "2684             Россия                     М.Местецкий   \n",
       "2788             Россия                       С Чекалов   \n",
       "2874             Россия                     В.Ровенский   \n",
       "3047             Россия                         Д.Тюрин   \n",
       "3565             Россия                     Ф.Бондарчук   \n",
       "3675             Россия                       А.Лукичев   \n",
       "3739             Россия                    А.Молочников   \n",
       "5673             Россия                      Н.Хомерики   \n",
       "5806             Россия  В.Ровенский, Н.Лопато, В.Азеев   \n",
       "6008             Россия                      М.Нефедова   \n",
       "6323             Россия                         В.Саков   \n",
       "6823             Россия           Н.Лопато, В.Ровенский   \n",
       "\n",
       "                                               producer  \\\n",
       "2053                                О.Гранина, А.Зайцев   \n",
       "2058                 П.Ануров, Ф.Бондарчук, Д.Рудовский   \n",
       "2472                           ООО \"Арт Пикчерс Студия\"   \n",
       "2532                                        Т.Вайнштейн   \n",
       "2615                                         А.Чистяков   \n",
       "2684                              Р.Борисевич, А.Кушаев   \n",
       "2788              Ф.Бондарчук, Т.Вайнштейн, Д.Рудовский   \n",
       "2874                                    ООО \"КиноФирма\"   \n",
       "3047              Ф.Бондарчук, Т.Вайнштейн, Д.Рудовский   \n",
       "3565                           ООО \"Арт Пикчерс Студия\"   \n",
       "3675                                    ООО \"КиноФирма\"   \n",
       "3739  Ф.Бондарчук, Д.Рудовский, И.Стюарт, М.Османн, ...   \n",
       "5673                 П.Ануров, Ф.Бондарчук, Д.Рудовский   \n",
       "5806                          ООО \"ЛИЦЕНЗИОННЫЕ БРЕНДЫ\"   \n",
       "6008                          ООО \"ЛИЦЕНЗИОННЫЕ БРЕНДЫ\"   \n",
       "6323  ООО \"Арт Пикчерс Студия\", ООО \"КРИЭЙТИВ АНИМЭЙ...   \n",
       "6823                          ООО \"ЛИЦЕНЗИОННЫЕ БРЕНДЫ\"   \n",
       "\n",
       "                      age_restriction  refundable_support  \\\n",
       "2053  «16+» - для детей старше 16 лет                 0.0   \n",
       "2058  «16+» - для детей старше 16 лет                 0.0   \n",
       "2472  «12+» - для детей старше 12 лет        10,000,000.0   \n",
       "2532  «16+» - для детей старше 16 лет        20,000,000.0   \n",
       "2615    «6+» - для детей старше 6 лет        60,000,000.0   \n",
       "2684      «18+» - запрещено для детей                 0.0   \n",
       "2788  «16+» - для детей старше 16 лет                 0.0   \n",
       "2874  «12+» - для детей старше 12 лет                 0.0   \n",
       "3047  «16+» - для детей старше 16 лет        19,000,000.0   \n",
       "3565  «12+» - для детей старше 12 лет                 0.0   \n",
       "3675    «6+» - для детей старше 6 лет        20,000,000.0   \n",
       "3739  «16+» - для детей старше 16 лет        25,000,000.0   \n",
       "5673  «16+» - для детей старше 16 лет        20,000,000.0   \n",
       "5806    «6+» - для детей старше 6 лет        10,000,000.0   \n",
       "6008    «6+» - для детей старше 6 лет        40,000,000.0   \n",
       "6323    «6+» - для детей старше 6 лет                 0.0   \n",
       "6823    «6+» - для детей старше 6 лет        60,000,000.0   \n",
       "\n",
       "      nonrefundable_support  budget                  financing_source  \\\n",
       "2053           23,000,000.0     0.0  Министерство культуры, Фонд кино   \n",
       "2058           75,000,000.0     0.0                         Фонд кино   \n",
       "2472           70,000,000.0     0.0                         Фонд кино   \n",
       "2532                    0.0     0.0                         Фонд кино   \n",
       "2615          100,000,000.0     0.0                         Фонд кино   \n",
       "2684           59,000,000.0     0.0                         Фонд кино   \n",
       "2788           35,000,000.0     0.0                         Фонд кино   \n",
       "2874            6,000,000.0     0.0             Министерство культуры   \n",
       "3047           51,000,000.0     0.0                         Фонд кино   \n",
       "3565          250,000,000.0     0.0                         Фонд кино   \n",
       "3675           20,000,000.0     0.0                         Фонд кино   \n",
       "3739           20,000,000.0     0.0                         Фонд кино   \n",
       "5673           40,000,000.0     0.0                         Фонд кино   \n",
       "5806           60,000,000.0     0.0                         Фонд кино   \n",
       "6008           40,000,000.0     0.0                         Фонд кино   \n",
       "6323          138,969,465.0     0.0                         Фонд кино   \n",
       "6823          120,000,000.0     0.0                         Фонд кино   \n",
       "\n",
       "      ratings                          genres      box_office  \n",
       "2053      6.6                       мелодрама    10,234,016.1  \n",
       "2058      6.6                           драма   446,163,511.0  \n",
       "2472      7.8           боевик,драма,криминал   196,572,438.4  \n",
       "2532      6.2                 комедия,фэнтези    67,418,974.8  \n",
       "2615      4.6  мультфильм,приключения,фэнтези   184,487,551.4  \n",
       "2684      6.3                   комедия,драма     1,957,738.5  \n",
       "2788      5.1               комедия,мелодрама    72,937,783.2  \n",
       "2874      4.3                         комедия    15,362,931.4  \n",
       "3047      6.3               комедия,мелодрама    70,299,052.0  \n",
       "3565      5.6                      фантастика 1,038,321,489.0  \n",
       "3675      5.2     мультфильм,фэнтези,семейный    55,108,014.8  \n",
       "3739      4.8                         комедия    50,451,949.0  \n",
       "5673      5.8                   триллер,драма   225,196,400.0  \n",
       "5806      5.0              мультфильм,детский   106,514,301.0  \n",
       "6008      5.2      мультфильм,фэнтези,детский    83,366,328.7  \n",
       "6323      NaN                             NaN     1,334,699.4  \n",
       "6823      6.2  мультфильм,комедия,приключения   147,606,826.5  "
      ]
     },
     "execution_count": 57,
     "metadata": {},
     "output_type": "execute_result"
    }
   ],
   "source": [
    "#проверим наличие строк, где сумма бюджета меньше, чем объем средств поддержки\n",
    "invalid_budget = data[data['budget'] < (data['refundable_support'] + data['nonrefundable_support'])]\n",
    "invalid_budget"
   ]
  },
  {
   "cell_type": "markdown",
   "metadata": {},
   "source": [
    "В некоторых фильмах с гос. поддержкой стоит бюджет = 0, изменим эти данные"
   ]
  },
  {
   "cell_type": "code",
   "execution_count": 58,
   "metadata": {},
   "outputs": [
    {
     "data": {
      "text/html": [
       "<div>\n",
       "<style scoped>\n",
       "    .dataframe tbody tr th:only-of-type {\n",
       "        vertical-align: middle;\n",
       "    }\n",
       "\n",
       "    .dataframe tbody tr th {\n",
       "        vertical-align: top;\n",
       "    }\n",
       "\n",
       "    .dataframe thead th {\n",
       "        text-align: right;\n",
       "    }\n",
       "</style>\n",
       "<table border=\"1\" class=\"dataframe\">\n",
       "  <thead>\n",
       "    <tr style=\"text-align: right;\">\n",
       "      <th></th>\n",
       "      <th>title</th>\n",
       "      <th>puNumber</th>\n",
       "      <th>show_start_date</th>\n",
       "      <th>type</th>\n",
       "      <th>film_studio</th>\n",
       "      <th>production_country</th>\n",
       "      <th>director</th>\n",
       "      <th>producer</th>\n",
       "      <th>age_restriction</th>\n",
       "      <th>refundable_support</th>\n",
       "      <th>nonrefundable_support</th>\n",
       "      <th>budget</th>\n",
       "      <th>financing_source</th>\n",
       "      <th>ratings</th>\n",
       "      <th>genres</th>\n",
       "      <th>box_office</th>\n",
       "    </tr>\n",
       "  </thead>\n",
       "  <tbody>\n",
       "    <tr>\n",
       "      <th>2053</th>\n",
       "      <td>14+</td>\n",
       "      <td>111023614</td>\n",
       "      <td>2014-12-19 12:00:00+00:00</td>\n",
       "      <td>Художественный</td>\n",
       "      <td>ооо киностудия  \"сентябрь\"</td>\n",
       "      <td>Россия</td>\n",
       "      <td>А.Зайцев</td>\n",
       "      <td>О.Гранина, А.Зайцев</td>\n",
       "      <td>«16+» - для детей старше 16 лет</td>\n",
       "      <td>0.0</td>\n",
       "      <td>23,000,000.0</td>\n",
       "      <td>37,456,987.9</td>\n",
       "      <td>Министерство культуры, Фонд кино</td>\n",
       "      <td>6.6</td>\n",
       "      <td>мелодрама</td>\n",
       "      <td>10,234,016.1</td>\n",
       "    </tr>\n",
       "    <tr>\n",
       "      <th>2058</th>\n",
       "      <td>Дуxless 2</td>\n",
       "      <td>111000415</td>\n",
       "      <td>2015-01-26 12:00:00+00:00</td>\n",
       "      <td>Художественный</td>\n",
       "      <td>ооо \"киностудия \"слово\", ооо \"арт пикчерс студия\"</td>\n",
       "      <td>Россия</td>\n",
       "      <td>Р.Прыгунов</td>\n",
       "      <td>П.Ануров, Ф.Бондарчук, Д.Рудовский</td>\n",
       "      <td>«16+» - для детей старше 16 лет</td>\n",
       "      <td>0.0</td>\n",
       "      <td>75,000,000.0</td>\n",
       "      <td>122,142,351.8</td>\n",
       "      <td>Фонд кино</td>\n",
       "      <td>6.6</td>\n",
       "      <td>драма</td>\n",
       "      <td>446,163,511.0</td>\n",
       "    </tr>\n",
       "    <tr>\n",
       "      <th>2472</th>\n",
       "      <td>Воин (2015)</td>\n",
       "      <td>111017315</td>\n",
       "      <td>2015-09-28 12:00:00+00:00</td>\n",
       "      <td>Художественный</td>\n",
       "      <td>ооо \"форпост продакшн\", ооо \"арт пикчерс студия\"</td>\n",
       "      <td>Россия</td>\n",
       "      <td>А.Андрианов</td>\n",
       "      <td>ООО \"Арт Пикчерс Студия\"</td>\n",
       "      <td>«12+» - для детей старше 12 лет</td>\n",
       "      <td>10,000,000.0</td>\n",
       "      <td>70,000,000.0</td>\n",
       "      <td>130,285,175.2</td>\n",
       "      <td>Фонд кино</td>\n",
       "      <td>7.8</td>\n",
       "      <td>боевик,драма,криминал</td>\n",
       "      <td>196,572,438.4</td>\n",
       "    </tr>\n",
       "    <tr>\n",
       "      <th>2532</th>\n",
       "      <td>Бармен.</td>\n",
       "      <td>111009615</td>\n",
       "      <td>2015-05-26 12:00:00+00:00</td>\n",
       "      <td>Художественный</td>\n",
       "      <td>ао \"вайт медиа\", ооо \"арт пикчерс студия\"</td>\n",
       "      <td>Россия</td>\n",
       "      <td>Д.Штурманова</td>\n",
       "      <td>Т.Вайнштейн</td>\n",
       "      <td>«16+» - для детей старше 16 лет</td>\n",
       "      <td>20,000,000.0</td>\n",
       "      <td>0.0</td>\n",
       "      <td>32,571,293.8</td>\n",
       "      <td>Фонд кино</td>\n",
       "      <td>6.2</td>\n",
       "      <td>комедия,фэнтези</td>\n",
       "      <td>67,418,974.8</td>\n",
       "    </tr>\n",
       "    <tr>\n",
       "      <th>2615</th>\n",
       "      <td>Савва. Сердце воина</td>\n",
       "      <td>114001715</td>\n",
       "      <td>2015-07-21 12:00:00+00:00</td>\n",
       "      <td>Анимационный</td>\n",
       "      <td>ооо \"глюкоза продакшн\", ооо \"арт пикчерс студия\"</td>\n",
       "      <td>Россия</td>\n",
       "      <td>М.Фадеев</td>\n",
       "      <td>А.Чистяков</td>\n",
       "      <td>«6+» - для детей старше 6 лет</td>\n",
       "      <td>60,000,000.0</td>\n",
       "      <td>100,000,000.0</td>\n",
       "      <td>260,570,350.4</td>\n",
       "      <td>Фонд кино</td>\n",
       "      <td>4.6</td>\n",
       "      <td>мультфильм,приключения,фэнтези</td>\n",
       "      <td>184,487,551.4</td>\n",
       "    </tr>\n",
       "    <tr>\n",
       "      <th>2684</th>\n",
       "      <td>Тряпичный союз</td>\n",
       "      <td>111010215</td>\n",
       "      <td>2015-06-08 12:00:00+00:00</td>\n",
       "      <td>Художественный</td>\n",
       "      <td>ооо \"кинокомпания \"коктебель\"</td>\n",
       "      <td>Россия</td>\n",
       "      <td>М.Местецкий</td>\n",
       "      <td>Р.Борисевич, А.Кушаев</td>\n",
       "      <td>«18+» - запрещено для детей</td>\n",
       "      <td>0.0</td>\n",
       "      <td>59,000,000.0</td>\n",
       "      <td>96,085,316.7</td>\n",
       "      <td>Фонд кино</td>\n",
       "      <td>6.3</td>\n",
       "      <td>комедия,драма</td>\n",
       "      <td>1,957,738.5</td>\n",
       "    </tr>\n",
       "    <tr>\n",
       "      <th>2788</th>\n",
       "      <td>Срочно выйду замуж</td>\n",
       "      <td>111017115</td>\n",
       "      <td>2015-09-30 12:00:00+00:00</td>\n",
       "      <td>Художественный</td>\n",
       "      <td>ао \"вайт медиа\", ооо \"арт пикчерс студия\"</td>\n",
       "      <td>Россия</td>\n",
       "      <td>С Чекалов</td>\n",
       "      <td>Ф.Бондарчук, Т.Вайнштейн, Д.Рудовский</td>\n",
       "      <td>«16+» - для детей старше 16 лет</td>\n",
       "      <td>0.0</td>\n",
       "      <td>35,000,000.0</td>\n",
       "      <td>56,999,764.2</td>\n",
       "      <td>Фонд кино</td>\n",
       "      <td>5.1</td>\n",
       "      <td>комедия,мелодрама</td>\n",
       "      <td>72,937,783.2</td>\n",
       "    </tr>\n",
       "    <tr>\n",
       "      <th>2874</th>\n",
       "      <td>Помню - не помню!</td>\n",
       "      <td>111004916</td>\n",
       "      <td>2016-03-01 12:00:00+00:00</td>\n",
       "      <td>Художественный</td>\n",
       "      <td>ооо \"кинофирма\"</td>\n",
       "      <td>Россия</td>\n",
       "      <td>В.Ровенский</td>\n",
       "      <td>ООО \"КиноФирма\"</td>\n",
       "      <td>«12+» - для детей старше 12 лет</td>\n",
       "      <td>0.0</td>\n",
       "      <td>6,000,000.0</td>\n",
       "      <td>9,771,388.1</td>\n",
       "      <td>Министерство культуры</td>\n",
       "      <td>4.3</td>\n",
       "      <td>комедия</td>\n",
       "      <td>15,362,931.4</td>\n",
       "    </tr>\n",
       "    <tr>\n",
       "      <th>3047</th>\n",
       "      <td>Любовь с ограничениями</td>\n",
       "      <td>111008216</td>\n",
       "      <td>2016-04-29 12:00:00+00:00</td>\n",
       "      <td>Художественный</td>\n",
       "      <td>ао \"вайт медиа\", ооо \"арт пикчерс студия\"</td>\n",
       "      <td>Россия</td>\n",
       "      <td>Д.Тюрин</td>\n",
       "      <td>Ф.Бондарчук, Т.Вайнштейн, Д.Рудовский</td>\n",
       "      <td>«16+» - для детей старше 16 лет</td>\n",
       "      <td>19,000,000.0</td>\n",
       "      <td>51,000,000.0</td>\n",
       "      <td>113,999,528.3</td>\n",
       "      <td>Фонд кино</td>\n",
       "      <td>6.3</td>\n",
       "      <td>комедия,мелодрама</td>\n",
       "      <td>70,299,052.0</td>\n",
       "    </tr>\n",
       "    <tr>\n",
       "      <th>3565</th>\n",
       "      <td>Притяжение (2016)</td>\n",
       "      <td>111018116</td>\n",
       "      <td>2016-12-16 12:00:00+00:00</td>\n",
       "      <td>Художественный</td>\n",
       "      <td>ооо \"водород 2011\",  ооо \"арт пикчерс студия\"</td>\n",
       "      <td>Россия</td>\n",
       "      <td>Ф.Бондарчук</td>\n",
       "      <td>ООО \"Арт Пикчерс Студия\"</td>\n",
       "      <td>«12+» - для детей старше 12 лет</td>\n",
       "      <td>0.0</td>\n",
       "      <td>250,000,000.0</td>\n",
       "      <td>407,141,172.5</td>\n",
       "      <td>Фонд кино</td>\n",
       "      <td>5.6</td>\n",
       "      <td>фантастика</td>\n",
       "      <td>1,038,321,489.0</td>\n",
       "    </tr>\n",
       "    <tr>\n",
       "      <th>3675</th>\n",
       "      <td>Чудо-юдо</td>\n",
       "      <td>114001817</td>\n",
       "      <td>2017-06-27 12:00:00+00:00</td>\n",
       "      <td>Анимационный</td>\n",
       "      <td>ооо \"кинофирма\"</td>\n",
       "      <td>Россия</td>\n",
       "      <td>А.Лукичев</td>\n",
       "      <td>ООО \"КиноФирма\"</td>\n",
       "      <td>«6+» - для детей старше 6 лет</td>\n",
       "      <td>20,000,000.0</td>\n",
       "      <td>20,000,000.0</td>\n",
       "      <td>65,142,587.6</td>\n",
       "      <td>Фонд кино</td>\n",
       "      <td>5.2</td>\n",
       "      <td>мультфильм,фэнтези,семейный</td>\n",
       "      <td>55,108,014.8</td>\n",
       "    </tr>\n",
       "    <tr>\n",
       "      <th>3739</th>\n",
       "      <td>Мифы</td>\n",
       "      <td>111004317</td>\n",
       "      <td>2017-06-07 12:00:00+00:00</td>\n",
       "      <td>Художественный</td>\n",
       "      <td>ооо \"хайпфилм\", ооо \"арт пикчерс студия\"</td>\n",
       "      <td>Россия</td>\n",
       "      <td>А.Молочников</td>\n",
       "      <td>Ф.Бондарчук, Д.Рудовский, И.Стюарт, М.Османн, ...</td>\n",
       "      <td>«16+» - для детей старше 16 лет</td>\n",
       "      <td>25,000,000.0</td>\n",
       "      <td>20,000,000.0</td>\n",
       "      <td>73,285,411.1</td>\n",
       "      <td>Фонд кино</td>\n",
       "      <td>4.8</td>\n",
       "      <td>комедия</td>\n",
       "      <td>50,451,949.0</td>\n",
       "    </tr>\n",
       "    <tr>\n",
       "      <th>5673</th>\n",
       "      <td>Селфи</td>\n",
       "      <td>111012117</td>\n",
       "      <td>2018-02-01 12:00:00+00:00</td>\n",
       "      <td>Художественный</td>\n",
       "      <td>ооо \"киностудия \"слово\", ооо \"арт пикчерс студия\"</td>\n",
       "      <td>Россия</td>\n",
       "      <td>Н.Хомерики</td>\n",
       "      <td>П.Ануров, Ф.Бондарчук, Д.Рудовский</td>\n",
       "      <td>«16+» - для детей старше 16 лет</td>\n",
       "      <td>20,000,000.0</td>\n",
       "      <td>40,000,000.0</td>\n",
       "      <td>97,713,881.4</td>\n",
       "      <td>Фонд кино</td>\n",
       "      <td>5.8</td>\n",
       "      <td>триллер,драма</td>\n",
       "      <td>225,196,400.0</td>\n",
       "    </tr>\n",
       "    <tr>\n",
       "      <th>5806</th>\n",
       "      <td>Два хвоста</td>\n",
       "      <td>114001018</td>\n",
       "      <td>2018-05-31 12:00:00+00:00</td>\n",
       "      <td>Анимационный</td>\n",
       "      <td>ооо \"лицензионные бренды\"</td>\n",
       "      <td>Россия</td>\n",
       "      <td>В.Ровенский, Н.Лопато, В.Азеев</td>\n",
       "      <td>ООО \"ЛИЦЕНЗИОННЫЕ БРЕНДЫ\"</td>\n",
       "      <td>«6+» - для детей старше 6 лет</td>\n",
       "      <td>10,000,000.0</td>\n",
       "      <td>60,000,000.0</td>\n",
       "      <td>113,999,528.3</td>\n",
       "      <td>Фонд кино</td>\n",
       "      <td>5.0</td>\n",
       "      <td>мультфильм,детский</td>\n",
       "      <td>106,514,301.0</td>\n",
       "    </tr>\n",
       "    <tr>\n",
       "      <th>6008</th>\n",
       "      <td>Принцесса и дракон</td>\n",
       "      <td>114003018</td>\n",
       "      <td>2018-08-23 12:00:00+00:00</td>\n",
       "      <td>Анимационный</td>\n",
       "      <td>ооо \"лицензионные бренды\"</td>\n",
       "      <td>Россия</td>\n",
       "      <td>М.Нефедова</td>\n",
       "      <td>ООО \"ЛИЦЕНЗИОННЫЕ БРЕНДЫ\"</td>\n",
       "      <td>«6+» - для детей старше 6 лет</td>\n",
       "      <td>40,000,000.0</td>\n",
       "      <td>40,000,000.0</td>\n",
       "      <td>130,285,175.2</td>\n",
       "      <td>Фонд кино</td>\n",
       "      <td>5.2</td>\n",
       "      <td>мультфильм,фэнтези,детский</td>\n",
       "      <td>83,366,328.7</td>\n",
       "    </tr>\n",
       "    <tr>\n",
       "      <th>6323</th>\n",
       "      <td>Баба Яга</td>\n",
       "      <td>114006518</td>\n",
       "      <td>2018-11-08 12:00:00+00:00</td>\n",
       "      <td>Анимационный</td>\n",
       "      <td>ооо \"арт пикчерс студия\"</td>\n",
       "      <td>Россия</td>\n",
       "      <td>В.Саков</td>\n",
       "      <td>ООО \"Арт Пикчерс Студия\", ООО \"КРИЭЙТИВ АНИМЭЙ...</td>\n",
       "      <td>«6+» - для детей старше 6 лет</td>\n",
       "      <td>0.0</td>\n",
       "      <td>138,969,465.0</td>\n",
       "      <td>226,320,763.7</td>\n",
       "      <td>Фонд кино</td>\n",
       "      <td>NaN</td>\n",
       "      <td>NaN</td>\n",
       "      <td>1,334,699.4</td>\n",
       "    </tr>\n",
       "    <tr>\n",
       "      <th>6823</th>\n",
       "      <td>Большое путешествие</td>\n",
       "      <td>114002419</td>\n",
       "      <td>2019-04-20 12:00:00+00:00</td>\n",
       "      <td>Анимационный</td>\n",
       "      <td>ооо \"лицензионные бренды\"</td>\n",
       "      <td>Россия</td>\n",
       "      <td>Н.Лопато, В.Ровенский</td>\n",
       "      <td>ООО \"ЛИЦЕНЗИОННЫЕ БРЕНДЫ\"</td>\n",
       "      <td>«6+» - для детей старше 6 лет</td>\n",
       "      <td>60,000,000.0</td>\n",
       "      <td>120,000,000.0</td>\n",
       "      <td>293,141,644.2</td>\n",
       "      <td>Фонд кино</td>\n",
       "      <td>6.2</td>\n",
       "      <td>мультфильм,комедия,приключения</td>\n",
       "      <td>147,606,826.5</td>\n",
       "    </tr>\n",
       "  </tbody>\n",
       "</table>\n",
       "</div>"
      ],
      "text/plain": [
       "                       title   puNumber           show_start_date  \\\n",
       "2053                     14+  111023614 2014-12-19 12:00:00+00:00   \n",
       "2058               Дуxless 2  111000415 2015-01-26 12:00:00+00:00   \n",
       "2472             Воин (2015)  111017315 2015-09-28 12:00:00+00:00   \n",
       "2532                 Бармен.  111009615 2015-05-26 12:00:00+00:00   \n",
       "2615     Савва. Сердце воина  114001715 2015-07-21 12:00:00+00:00   \n",
       "2684          Тряпичный союз  111010215 2015-06-08 12:00:00+00:00   \n",
       "2788      Срочно выйду замуж  111017115 2015-09-30 12:00:00+00:00   \n",
       "2874       Помню - не помню!  111004916 2016-03-01 12:00:00+00:00   \n",
       "3047  Любовь с ограничениями  111008216 2016-04-29 12:00:00+00:00   \n",
       "3565       Притяжение (2016)  111018116 2016-12-16 12:00:00+00:00   \n",
       "3675                Чудо-юдо  114001817 2017-06-27 12:00:00+00:00   \n",
       "3739                    Мифы  111004317 2017-06-07 12:00:00+00:00   \n",
       "5673                   Селфи  111012117 2018-02-01 12:00:00+00:00   \n",
       "5806              Два хвоста  114001018 2018-05-31 12:00:00+00:00   \n",
       "6008      Принцесса и дракон  114003018 2018-08-23 12:00:00+00:00   \n",
       "6323                Баба Яга  114006518 2018-11-08 12:00:00+00:00   \n",
       "6823     Большое путешествие  114002419 2019-04-20 12:00:00+00:00   \n",
       "\n",
       "                type                                        film_studio  \\\n",
       "2053  Художественный                         ооо киностудия  \"сентябрь\"   \n",
       "2058  Художественный  ооо \"киностудия \"слово\", ооо \"арт пикчерс студия\"   \n",
       "2472  Художественный   ооо \"форпост продакшн\", ооо \"арт пикчерс студия\"   \n",
       "2532  Художественный          ао \"вайт медиа\", ооо \"арт пикчерс студия\"   \n",
       "2615    Анимационный   ооо \"глюкоза продакшн\", ооо \"арт пикчерс студия\"   \n",
       "2684  Художественный                      ооо \"кинокомпания \"коктебель\"   \n",
       "2788  Художественный          ао \"вайт медиа\", ооо \"арт пикчерс студия\"   \n",
       "2874  Художественный                                    ооо \"кинофирма\"   \n",
       "3047  Художественный          ао \"вайт медиа\", ооо \"арт пикчерс студия\"   \n",
       "3565  Художественный      ооо \"водород 2011\",  ооо \"арт пикчерс студия\"   \n",
       "3675    Анимационный                                    ооо \"кинофирма\"   \n",
       "3739  Художественный           ооо \"хайпфилм\", ооо \"арт пикчерс студия\"   \n",
       "5673  Художественный  ооо \"киностудия \"слово\", ооо \"арт пикчерс студия\"   \n",
       "5806    Анимационный                          ооо \"лицензионные бренды\"   \n",
       "6008    Анимационный                          ооо \"лицензионные бренды\"   \n",
       "6323    Анимационный                           ооо \"арт пикчерс студия\"   \n",
       "6823    Анимационный                          ооо \"лицензионные бренды\"   \n",
       "\n",
       "     production_country                        director  \\\n",
       "2053             Россия                        А.Зайцев   \n",
       "2058             Россия                      Р.Прыгунов   \n",
       "2472             Россия                     А.Андрианов   \n",
       "2532             Россия                    Д.Штурманова   \n",
       "2615             Россия                        М.Фадеев   \n",
       "2684             Россия                     М.Местецкий   \n",
       "2788             Россия                       С Чекалов   \n",
       "2874             Россия                     В.Ровенский   \n",
       "3047             Россия                         Д.Тюрин   \n",
       "3565             Россия                     Ф.Бондарчук   \n",
       "3675             Россия                       А.Лукичев   \n",
       "3739             Россия                    А.Молочников   \n",
       "5673             Россия                      Н.Хомерики   \n",
       "5806             Россия  В.Ровенский, Н.Лопато, В.Азеев   \n",
       "6008             Россия                      М.Нефедова   \n",
       "6323             Россия                         В.Саков   \n",
       "6823             Россия           Н.Лопато, В.Ровенский   \n",
       "\n",
       "                                               producer  \\\n",
       "2053                                О.Гранина, А.Зайцев   \n",
       "2058                 П.Ануров, Ф.Бондарчук, Д.Рудовский   \n",
       "2472                           ООО \"Арт Пикчерс Студия\"   \n",
       "2532                                        Т.Вайнштейн   \n",
       "2615                                         А.Чистяков   \n",
       "2684                              Р.Борисевич, А.Кушаев   \n",
       "2788              Ф.Бондарчук, Т.Вайнштейн, Д.Рудовский   \n",
       "2874                                    ООО \"КиноФирма\"   \n",
       "3047              Ф.Бондарчук, Т.Вайнштейн, Д.Рудовский   \n",
       "3565                           ООО \"Арт Пикчерс Студия\"   \n",
       "3675                                    ООО \"КиноФирма\"   \n",
       "3739  Ф.Бондарчук, Д.Рудовский, И.Стюарт, М.Османн, ...   \n",
       "5673                 П.Ануров, Ф.Бондарчук, Д.Рудовский   \n",
       "5806                          ООО \"ЛИЦЕНЗИОННЫЕ БРЕНДЫ\"   \n",
       "6008                          ООО \"ЛИЦЕНЗИОННЫЕ БРЕНДЫ\"   \n",
       "6323  ООО \"Арт Пикчерс Студия\", ООО \"КРИЭЙТИВ АНИМЭЙ...   \n",
       "6823                          ООО \"ЛИЦЕНЗИОННЫЕ БРЕНДЫ\"   \n",
       "\n",
       "                      age_restriction  refundable_support  \\\n",
       "2053  «16+» - для детей старше 16 лет                 0.0   \n",
       "2058  «16+» - для детей старше 16 лет                 0.0   \n",
       "2472  «12+» - для детей старше 12 лет        10,000,000.0   \n",
       "2532  «16+» - для детей старше 16 лет        20,000,000.0   \n",
       "2615    «6+» - для детей старше 6 лет        60,000,000.0   \n",
       "2684      «18+» - запрещено для детей                 0.0   \n",
       "2788  «16+» - для детей старше 16 лет                 0.0   \n",
       "2874  «12+» - для детей старше 12 лет                 0.0   \n",
       "3047  «16+» - для детей старше 16 лет        19,000,000.0   \n",
       "3565  «12+» - для детей старше 12 лет                 0.0   \n",
       "3675    «6+» - для детей старше 6 лет        20,000,000.0   \n",
       "3739  «16+» - для детей старше 16 лет        25,000,000.0   \n",
       "5673  «16+» - для детей старше 16 лет        20,000,000.0   \n",
       "5806    «6+» - для детей старше 6 лет        10,000,000.0   \n",
       "6008    «6+» - для детей старше 6 лет        40,000,000.0   \n",
       "6323    «6+» - для детей старше 6 лет                 0.0   \n",
       "6823    «6+» - для детей старше 6 лет        60,000,000.0   \n",
       "\n",
       "      nonrefundable_support        budget                  financing_source  \\\n",
       "2053           23,000,000.0  37,456,987.9  Министерство культуры, Фонд кино   \n",
       "2058           75,000,000.0 122,142,351.8                         Фонд кино   \n",
       "2472           70,000,000.0 130,285,175.2                         Фонд кино   \n",
       "2532                    0.0  32,571,293.8                         Фонд кино   \n",
       "2615          100,000,000.0 260,570,350.4                         Фонд кино   \n",
       "2684           59,000,000.0  96,085,316.7                         Фонд кино   \n",
       "2788           35,000,000.0  56,999,764.2                         Фонд кино   \n",
       "2874            6,000,000.0   9,771,388.1             Министерство культуры   \n",
       "3047           51,000,000.0 113,999,528.3                         Фонд кино   \n",
       "3565          250,000,000.0 407,141,172.5                         Фонд кино   \n",
       "3675           20,000,000.0  65,142,587.6                         Фонд кино   \n",
       "3739           20,000,000.0  73,285,411.1                         Фонд кино   \n",
       "5673           40,000,000.0  97,713,881.4                         Фонд кино   \n",
       "5806           60,000,000.0 113,999,528.3                         Фонд кино   \n",
       "6008           40,000,000.0 130,285,175.2                         Фонд кино   \n",
       "6323          138,969,465.0 226,320,763.7                         Фонд кино   \n",
       "6823          120,000,000.0 293,141,644.2                         Фонд кино   \n",
       "\n",
       "      ratings                          genres      box_office  \n",
       "2053      6.6                       мелодрама    10,234,016.1  \n",
       "2058      6.6                           драма   446,163,511.0  \n",
       "2472      7.8           боевик,драма,криминал   196,572,438.4  \n",
       "2532      6.2                 комедия,фэнтези    67,418,974.8  \n",
       "2615      4.6  мультфильм,приключения,фэнтези   184,487,551.4  \n",
       "2684      6.3                   комедия,драма     1,957,738.5  \n",
       "2788      5.1               комедия,мелодрама    72,937,783.2  \n",
       "2874      4.3                         комедия    15,362,931.4  \n",
       "3047      6.3               комедия,мелодрама    70,299,052.0  \n",
       "3565      5.6                      фантастика 1,038,321,489.0  \n",
       "3675      5.2     мультфильм,фэнтези,семейный    55,108,014.8  \n",
       "3739      4.8                         комедия    50,451,949.0  \n",
       "5673      5.8                   триллер,драма   225,196,400.0  \n",
       "5806      5.0              мультфильм,детский   106,514,301.0  \n",
       "6008      5.2      мультфильм,фэнтези,детский    83,366,328.7  \n",
       "6323      NaN                             NaN     1,334,699.4  \n",
       "6823      6.2  мультфильм,комедия,приключения   147,606,826.5  "
      ]
     },
     "execution_count": 58,
     "metadata": {},
     "output_type": "execute_result"
    }
   ],
   "source": [
    "#найдем медиану процента гос. поддержки в бюджете фильма\n",
    "support_percentage = ((data['refundable_support'] + data['nonrefundable_support']) / data['budget']).median()\n",
    "\n",
    "#вставим в столбец данных о бюджете следующие значения\n",
    "data.loc[invalid_budget.index, 'budget'] = \\\n",
    "(data.loc[invalid_budget.index, 'refundable_support'] + \\\n",
    "data.loc[invalid_budget.index, 'nonrefundable_support']) / support_percentage\n",
    "\n",
    "#проверим вставку\n",
    "data.loc[invalid_budget.index]"
   ]
  },
  {
   "cell_type": "markdown",
   "metadata": {
    "id": "Eu6oWp2CgFyS"
   },
   "source": [
    "### Добавление новых признаков"
   ]
  },
  {
   "cell_type": "code",
   "execution_count": 59,
   "metadata": {
    "id": "I-yd1DkWgFyT"
   },
   "outputs": [],
   "source": [
    "#создаем столбец с годом выхода фильма\n",
    "data['year_show_start'] = data['show_start_date'].dt.year"
   ]
  },
  {
   "cell_type": "code",
   "execution_count": 60,
   "metadata": {},
   "outputs": [
    {
     "data": {
      "text/html": [
       "<div>\n",
       "<style scoped>\n",
       "    .dataframe tbody tr th:only-of-type {\n",
       "        vertical-align: middle;\n",
       "    }\n",
       "\n",
       "    .dataframe tbody tr th {\n",
       "        vertical-align: top;\n",
       "    }\n",
       "\n",
       "    .dataframe thead th {\n",
       "        text-align: right;\n",
       "    }\n",
       "</style>\n",
       "<table border=\"1\" class=\"dataframe\">\n",
       "  <thead>\n",
       "    <tr style=\"text-align: right;\">\n",
       "      <th></th>\n",
       "      <th>title</th>\n",
       "      <th>puNumber</th>\n",
       "      <th>show_start_date</th>\n",
       "      <th>type</th>\n",
       "      <th>film_studio</th>\n",
       "      <th>production_country</th>\n",
       "      <th>director</th>\n",
       "      <th>producer</th>\n",
       "      <th>age_restriction</th>\n",
       "      <th>refundable_support</th>\n",
       "      <th>nonrefundable_support</th>\n",
       "      <th>budget</th>\n",
       "      <th>financing_source</th>\n",
       "      <th>ratings</th>\n",
       "      <th>genres</th>\n",
       "      <th>box_office</th>\n",
       "      <th>year_show_start</th>\n",
       "    </tr>\n",
       "  </thead>\n",
       "  <tbody>\n",
       "    <tr>\n",
       "      <th>0</th>\n",
       "      <td>Открытый простор</td>\n",
       "      <td>221048915</td>\n",
       "      <td>2015-11-27 12:00:00+00:00</td>\n",
       "      <td>Художественный</td>\n",
       "      <td>тачстоун пикчерз, кобальт пикчерз, бикон пикче...</td>\n",
       "      <td>США</td>\n",
       "      <td>Кевин Костнер</td>\n",
       "      <td>Дэвид Валдес, Кевин Костнер, Джейк Эбертс</td>\n",
       "      <td>«18+» - запрещено для детей</td>\n",
       "      <td>NaN</td>\n",
       "      <td>NaN</td>\n",
       "      <td>NaN</td>\n",
       "      <td>NaN</td>\n",
       "      <td>7.2</td>\n",
       "      <td>боевик,драма,мелодрама</td>\n",
       "      <td>NaN</td>\n",
       "      <td>2015</td>\n",
       "    </tr>\n",
       "    <tr>\n",
       "      <th>1</th>\n",
       "      <td>Особо важное задание</td>\n",
       "      <td>111013716</td>\n",
       "      <td>2016-09-13 12:00:00+00:00</td>\n",
       "      <td>Художественный</td>\n",
       "      <td>киностудия \"мосфильм\"</td>\n",
       "      <td>СССР</td>\n",
       "      <td>Е.Матвеев</td>\n",
       "      <td>NaN</td>\n",
       "      <td>«6+» - для детей старше 6 лет</td>\n",
       "      <td>NaN</td>\n",
       "      <td>NaN</td>\n",
       "      <td>NaN</td>\n",
       "      <td>NaN</td>\n",
       "      <td>6.6</td>\n",
       "      <td>драма,военный</td>\n",
       "      <td>NaN</td>\n",
       "      <td>2016</td>\n",
       "    </tr>\n",
       "    <tr>\n",
       "      <th>2</th>\n",
       "      <td>Особо опасен</td>\n",
       "      <td>221038416</td>\n",
       "      <td>2016-10-10 12:00:00+00:00</td>\n",
       "      <td>Художественный</td>\n",
       "      <td>юниверсал пикчерз, кикстарт продакшнз, марк пл...</td>\n",
       "      <td>США</td>\n",
       "      <td>Тимур Бекмамбетов</td>\n",
       "      <td>Джим Лемли, Джейсон Нетер, Марк Е.Платт, Яйн Смит</td>\n",
       "      <td>«18+» - запрещено для детей</td>\n",
       "      <td>NaN</td>\n",
       "      <td>NaN</td>\n",
       "      <td>NaN</td>\n",
       "      <td>NaN</td>\n",
       "      <td>6.8</td>\n",
       "      <td>фантастика,боевик,триллер</td>\n",
       "      <td>NaN</td>\n",
       "      <td>2016</td>\n",
       "    </tr>\n",
       "    <tr>\n",
       "      <th>3</th>\n",
       "      <td>Особо опасен</td>\n",
       "      <td>221026916</td>\n",
       "      <td>2016-06-10 12:00:00+00:00</td>\n",
       "      <td>Художественный</td>\n",
       "      <td>юниверсал пикчерз, кикстарт продакшнз, марк пл...</td>\n",
       "      <td>США</td>\n",
       "      <td>Тимур Бекмамбетов</td>\n",
       "      <td>Джим Лемли, Джейсон Нетер, Марк Е.Платт, Яйн Смит</td>\n",
       "      <td>«18+» - запрещено для детей</td>\n",
       "      <td>NaN</td>\n",
       "      <td>NaN</td>\n",
       "      <td>NaN</td>\n",
       "      <td>NaN</td>\n",
       "      <td>6.8</td>\n",
       "      <td>фантастика,боевик,триллер</td>\n",
       "      <td>NaN</td>\n",
       "      <td>2016</td>\n",
       "    </tr>\n",
       "    <tr>\n",
       "      <th>4</th>\n",
       "      <td>Особо опасен</td>\n",
       "      <td>221030815</td>\n",
       "      <td>2015-07-29 12:00:00+00:00</td>\n",
       "      <td>Художественный</td>\n",
       "      <td>юниверсал пикчерз, кикстарт продакшнз, марк пл...</td>\n",
       "      <td>США</td>\n",
       "      <td>Тимур Бекмамбетов</td>\n",
       "      <td>Джим Лемли, Джейсон Нетер, Марк Е.Платт, Яйн Смит</td>\n",
       "      <td>«18+» - запрещено для детей</td>\n",
       "      <td>NaN</td>\n",
       "      <td>NaN</td>\n",
       "      <td>NaN</td>\n",
       "      <td>NaN</td>\n",
       "      <td>6.8</td>\n",
       "      <td>фантастика,боевик,триллер</td>\n",
       "      <td>NaN</td>\n",
       "      <td>2015</td>\n",
       "    </tr>\n",
       "  </tbody>\n",
       "</table>\n",
       "</div>"
      ],
      "text/plain": [
       "                  title   puNumber           show_start_date            type  \\\n",
       "0      Открытый простор  221048915 2015-11-27 12:00:00+00:00  Художественный   \n",
       "1  Особо важное задание  111013716 2016-09-13 12:00:00+00:00  Художественный   \n",
       "2          Особо опасен  221038416 2016-10-10 12:00:00+00:00  Художественный   \n",
       "3          Особо опасен  221026916 2016-06-10 12:00:00+00:00  Художественный   \n",
       "4          Особо опасен  221030815 2015-07-29 12:00:00+00:00  Художественный   \n",
       "\n",
       "                                         film_studio production_country  \\\n",
       "0  тачстоун пикчерз, кобальт пикчерз, бикон пикче...                США   \n",
       "1                              киностудия \"мосфильм\"               СССР   \n",
       "2  юниверсал пикчерз, кикстарт продакшнз, марк пл...                США   \n",
       "3  юниверсал пикчерз, кикстарт продакшнз, марк пл...                США   \n",
       "4  юниверсал пикчерз, кикстарт продакшнз, марк пл...                США   \n",
       "\n",
       "            director                                           producer  \\\n",
       "0      Кевин Костнер          Дэвид Валдес, Кевин Костнер, Джейк Эбертс   \n",
       "1          Е.Матвеев                                                NaN   \n",
       "2  Тимур Бекмамбетов  Джим Лемли, Джейсон Нетер, Марк Е.Платт, Яйн Смит   \n",
       "3  Тимур Бекмамбетов  Джим Лемли, Джейсон Нетер, Марк Е.Платт, Яйн Смит   \n",
       "4  Тимур Бекмамбетов  Джим Лемли, Джейсон Нетер, Марк Е.Платт, Яйн Смит   \n",
       "\n",
       "                 age_restriction  refundable_support  nonrefundable_support  \\\n",
       "0    «18+» - запрещено для детей                 NaN                    NaN   \n",
       "1  «6+» - для детей старше 6 лет                 NaN                    NaN   \n",
       "2    «18+» - запрещено для детей                 NaN                    NaN   \n",
       "3    «18+» - запрещено для детей                 NaN                    NaN   \n",
       "4    «18+» - запрещено для детей                 NaN                    NaN   \n",
       "\n",
       "   budget financing_source  ratings                     genres  box_office  \\\n",
       "0     NaN              NaN      7.2     боевик,драма,мелодрама         NaN   \n",
       "1     NaN              NaN      6.6              драма,военный         NaN   \n",
       "2     NaN              NaN      6.8  фантастика,боевик,триллер         NaN   \n",
       "3     NaN              NaN      6.8  фантастика,боевик,триллер         NaN   \n",
       "4     NaN              NaN      6.8  фантастика,боевик,триллер         NaN   \n",
       "\n",
       "   year_show_start  \n",
       "0             2015  \n",
       "1             2016  \n",
       "2             2016  \n",
       "3             2016  \n",
       "4             2015  "
      ]
     },
     "execution_count": 60,
     "metadata": {},
     "output_type": "execute_result"
    }
   ],
   "source": [
    "data.head()"
   ]
  },
  {
   "cell_type": "code",
   "execution_count": 61,
   "metadata": {
    "id": "LSbRZKbMgFyU"
   },
   "outputs": [],
   "source": [
    "#создаем столбцы с именем, фамилией главного режиссёра и основным жанром фильма\n",
    "def add_columns(data, columns):\n",
    "    for column in columns:\n",
    "        data[f'main_{column}'] = data[column].dropna().apply(lambda x: x.split(',')[0])\n",
    "    return data"
   ]
  },
  {
   "cell_type": "code",
   "execution_count": 62,
   "metadata": {},
   "outputs": [],
   "source": [
    "data = add_columns(data, ['director', 'genres'])"
   ]
  },
  {
   "cell_type": "code",
   "execution_count": 63,
   "metadata": {},
   "outputs": [
    {
     "data": {
      "text/html": [
       "<div>\n",
       "<style scoped>\n",
       "    .dataframe tbody tr th:only-of-type {\n",
       "        vertical-align: middle;\n",
       "    }\n",
       "\n",
       "    .dataframe tbody tr th {\n",
       "        vertical-align: top;\n",
       "    }\n",
       "\n",
       "    .dataframe thead th {\n",
       "        text-align: right;\n",
       "    }\n",
       "</style>\n",
       "<table border=\"1\" class=\"dataframe\">\n",
       "  <thead>\n",
       "    <tr style=\"text-align: right;\">\n",
       "      <th></th>\n",
       "      <th>title</th>\n",
       "      <th>puNumber</th>\n",
       "      <th>show_start_date</th>\n",
       "      <th>type</th>\n",
       "      <th>film_studio</th>\n",
       "      <th>production_country</th>\n",
       "      <th>director</th>\n",
       "      <th>producer</th>\n",
       "      <th>age_restriction</th>\n",
       "      <th>refundable_support</th>\n",
       "      <th>nonrefundable_support</th>\n",
       "      <th>budget</th>\n",
       "      <th>financing_source</th>\n",
       "      <th>ratings</th>\n",
       "      <th>genres</th>\n",
       "      <th>box_office</th>\n",
       "      <th>year_show_start</th>\n",
       "      <th>main_director</th>\n",
       "      <th>main_genres</th>\n",
       "    </tr>\n",
       "  </thead>\n",
       "  <tbody>\n",
       "    <tr>\n",
       "      <th>0</th>\n",
       "      <td>Открытый простор</td>\n",
       "      <td>221048915</td>\n",
       "      <td>2015-11-27 12:00:00+00:00</td>\n",
       "      <td>Художественный</td>\n",
       "      <td>тачстоун пикчерз, кобальт пикчерз, бикон пикче...</td>\n",
       "      <td>США</td>\n",
       "      <td>Кевин Костнер</td>\n",
       "      <td>Дэвид Валдес, Кевин Костнер, Джейк Эбертс</td>\n",
       "      <td>«18+» - запрещено для детей</td>\n",
       "      <td>NaN</td>\n",
       "      <td>NaN</td>\n",
       "      <td>NaN</td>\n",
       "      <td>NaN</td>\n",
       "      <td>7.2</td>\n",
       "      <td>боевик,драма,мелодрама</td>\n",
       "      <td>NaN</td>\n",
       "      <td>2015</td>\n",
       "      <td>Кевин Костнер</td>\n",
       "      <td>боевик</td>\n",
       "    </tr>\n",
       "    <tr>\n",
       "      <th>1</th>\n",
       "      <td>Особо важное задание</td>\n",
       "      <td>111013716</td>\n",
       "      <td>2016-09-13 12:00:00+00:00</td>\n",
       "      <td>Художественный</td>\n",
       "      <td>киностудия \"мосфильм\"</td>\n",
       "      <td>СССР</td>\n",
       "      <td>Е.Матвеев</td>\n",
       "      <td>NaN</td>\n",
       "      <td>«6+» - для детей старше 6 лет</td>\n",
       "      <td>NaN</td>\n",
       "      <td>NaN</td>\n",
       "      <td>NaN</td>\n",
       "      <td>NaN</td>\n",
       "      <td>6.6</td>\n",
       "      <td>драма,военный</td>\n",
       "      <td>NaN</td>\n",
       "      <td>2016</td>\n",
       "      <td>Е.Матвеев</td>\n",
       "      <td>драма</td>\n",
       "    </tr>\n",
       "    <tr>\n",
       "      <th>2</th>\n",
       "      <td>Особо опасен</td>\n",
       "      <td>221038416</td>\n",
       "      <td>2016-10-10 12:00:00+00:00</td>\n",
       "      <td>Художественный</td>\n",
       "      <td>юниверсал пикчерз, кикстарт продакшнз, марк пл...</td>\n",
       "      <td>США</td>\n",
       "      <td>Тимур Бекмамбетов</td>\n",
       "      <td>Джим Лемли, Джейсон Нетер, Марк Е.Платт, Яйн Смит</td>\n",
       "      <td>«18+» - запрещено для детей</td>\n",
       "      <td>NaN</td>\n",
       "      <td>NaN</td>\n",
       "      <td>NaN</td>\n",
       "      <td>NaN</td>\n",
       "      <td>6.8</td>\n",
       "      <td>фантастика,боевик,триллер</td>\n",
       "      <td>NaN</td>\n",
       "      <td>2016</td>\n",
       "      <td>Тимур Бекмамбетов</td>\n",
       "      <td>фантастика</td>\n",
       "    </tr>\n",
       "    <tr>\n",
       "      <th>3</th>\n",
       "      <td>Особо опасен</td>\n",
       "      <td>221026916</td>\n",
       "      <td>2016-06-10 12:00:00+00:00</td>\n",
       "      <td>Художественный</td>\n",
       "      <td>юниверсал пикчерз, кикстарт продакшнз, марк пл...</td>\n",
       "      <td>США</td>\n",
       "      <td>Тимур Бекмамбетов</td>\n",
       "      <td>Джим Лемли, Джейсон Нетер, Марк Е.Платт, Яйн Смит</td>\n",
       "      <td>«18+» - запрещено для детей</td>\n",
       "      <td>NaN</td>\n",
       "      <td>NaN</td>\n",
       "      <td>NaN</td>\n",
       "      <td>NaN</td>\n",
       "      <td>6.8</td>\n",
       "      <td>фантастика,боевик,триллер</td>\n",
       "      <td>NaN</td>\n",
       "      <td>2016</td>\n",
       "      <td>Тимур Бекмамбетов</td>\n",
       "      <td>фантастика</td>\n",
       "    </tr>\n",
       "    <tr>\n",
       "      <th>4</th>\n",
       "      <td>Особо опасен</td>\n",
       "      <td>221030815</td>\n",
       "      <td>2015-07-29 12:00:00+00:00</td>\n",
       "      <td>Художественный</td>\n",
       "      <td>юниверсал пикчерз, кикстарт продакшнз, марк пл...</td>\n",
       "      <td>США</td>\n",
       "      <td>Тимур Бекмамбетов</td>\n",
       "      <td>Джим Лемли, Джейсон Нетер, Марк Е.Платт, Яйн Смит</td>\n",
       "      <td>«18+» - запрещено для детей</td>\n",
       "      <td>NaN</td>\n",
       "      <td>NaN</td>\n",
       "      <td>NaN</td>\n",
       "      <td>NaN</td>\n",
       "      <td>6.8</td>\n",
       "      <td>фантастика,боевик,триллер</td>\n",
       "      <td>NaN</td>\n",
       "      <td>2015</td>\n",
       "      <td>Тимур Бекмамбетов</td>\n",
       "      <td>фантастика</td>\n",
       "    </tr>\n",
       "  </tbody>\n",
       "</table>\n",
       "</div>"
      ],
      "text/plain": [
       "                  title   puNumber           show_start_date            type  \\\n",
       "0      Открытый простор  221048915 2015-11-27 12:00:00+00:00  Художественный   \n",
       "1  Особо важное задание  111013716 2016-09-13 12:00:00+00:00  Художественный   \n",
       "2          Особо опасен  221038416 2016-10-10 12:00:00+00:00  Художественный   \n",
       "3          Особо опасен  221026916 2016-06-10 12:00:00+00:00  Художественный   \n",
       "4          Особо опасен  221030815 2015-07-29 12:00:00+00:00  Художественный   \n",
       "\n",
       "                                         film_studio production_country  \\\n",
       "0  тачстоун пикчерз, кобальт пикчерз, бикон пикче...                США   \n",
       "1                              киностудия \"мосфильм\"               СССР   \n",
       "2  юниверсал пикчерз, кикстарт продакшнз, марк пл...                США   \n",
       "3  юниверсал пикчерз, кикстарт продакшнз, марк пл...                США   \n",
       "4  юниверсал пикчерз, кикстарт продакшнз, марк пл...                США   \n",
       "\n",
       "            director                                           producer  \\\n",
       "0      Кевин Костнер          Дэвид Валдес, Кевин Костнер, Джейк Эбертс   \n",
       "1          Е.Матвеев                                                NaN   \n",
       "2  Тимур Бекмамбетов  Джим Лемли, Джейсон Нетер, Марк Е.Платт, Яйн Смит   \n",
       "3  Тимур Бекмамбетов  Джим Лемли, Джейсон Нетер, Марк Е.Платт, Яйн Смит   \n",
       "4  Тимур Бекмамбетов  Джим Лемли, Джейсон Нетер, Марк Е.Платт, Яйн Смит   \n",
       "\n",
       "                 age_restriction  refundable_support  nonrefundable_support  \\\n",
       "0    «18+» - запрещено для детей                 NaN                    NaN   \n",
       "1  «6+» - для детей старше 6 лет                 NaN                    NaN   \n",
       "2    «18+» - запрещено для детей                 NaN                    NaN   \n",
       "3    «18+» - запрещено для детей                 NaN                    NaN   \n",
       "4    «18+» - запрещено для детей                 NaN                    NaN   \n",
       "\n",
       "   budget financing_source  ratings                     genres  box_office  \\\n",
       "0     NaN              NaN      7.2     боевик,драма,мелодрама         NaN   \n",
       "1     NaN              NaN      6.6              драма,военный         NaN   \n",
       "2     NaN              NaN      6.8  фантастика,боевик,триллер         NaN   \n",
       "3     NaN              NaN      6.8  фантастика,боевик,триллер         NaN   \n",
       "4     NaN              NaN      6.8  фантастика,боевик,триллер         NaN   \n",
       "\n",
       "   year_show_start      main_director main_genres  \n",
       "0             2015      Кевин Костнер      боевик  \n",
       "1             2016          Е.Матвеев       драма  \n",
       "2             2016  Тимур Бекмамбетов  фантастика  \n",
       "3             2016  Тимур Бекмамбетов  фантастика  \n",
       "4             2015  Тимур Бекмамбетов  фантастика  "
      ]
     },
     "execution_count": 63,
     "metadata": {},
     "output_type": "execute_result"
    }
   ],
   "source": [
    "data.head()"
   ]
  },
  {
   "cell_type": "markdown",
   "metadata": {
    "id": "1FsCXHwdgFyU"
   },
   "source": [
    "Посчитаем, какую долю от общего бюджета фильма составляет государственная поддержка."
   ]
  },
  {
   "cell_type": "code",
   "execution_count": 64,
   "metadata": {
    "id": "LV6qFuZLgFyV"
   },
   "outputs": [],
   "source": [
    "#определяем какую долю от общего бюджета фильма составляет государственная поддержка\n",
    "data['support_percentage'] = (data['refundable_support'] + data['nonrefundable_support']) / data['budget']"
   ]
  },
  {
   "cell_type": "code",
   "execution_count": 65,
   "metadata": {},
   "outputs": [
    {
     "name": "stdout",
     "output_type": "stream",
     "text": [
      "Медианная доля гос. поддержки: 0.6133641349406089\n",
      "Средняя доля гос. поддержки: 0.5223348581647279\n"
     ]
    }
   ],
   "source": [
    "print(f'Медианная доля гос. поддержки: {data[\"support_percentage\"].median()}')\n",
    "print(f'Средняя доля гос. поддержки: {data[\"support_percentage\"].mean()}')"
   ]
  },
  {
   "cell_type": "markdown",
   "metadata": {
    "id": "6t4EukPLgFyV"
   },
   "source": [
    "## Исследовательский анализ данных"
   ]
  },
  {
   "cell_type": "markdown",
   "metadata": {
    "id": "vAH8WCzugFyV"
   },
   "source": [
    "Посмотрим, сколько фильмов выходило в прокат каждый год. \n",
    "Посчитаем, какую долю составляют фильмы с указанной информацией о прокате в кинотеатрах.\n",
    "\n",
    "**Обратим внимание, что данные о прокате в кинотеатрах известны не для всех фильмов. "
   ]
  },
  {
   "cell_type": "code",
   "execution_count": 66,
   "metadata": {
    "id": "ABeV47y7gFyW"
   },
   "outputs": [
    {
     "data": {
      "text/html": [
       "<div>\n",
       "<style scoped>\n",
       "    .dataframe tbody tr th:only-of-type {\n",
       "        vertical-align: middle;\n",
       "    }\n",
       "\n",
       "    .dataframe tbody tr th {\n",
       "        vertical-align: top;\n",
       "    }\n",
       "\n",
       "    .dataframe thead th {\n",
       "        text-align: right;\n",
       "    }\n",
       "</style>\n",
       "<table border=\"1\" class=\"dataframe\">\n",
       "  <thead>\n",
       "    <tr style=\"text-align: right;\">\n",
       "      <th></th>\n",
       "      <th>puNumber</th>\n",
       "    </tr>\n",
       "    <tr>\n",
       "      <th>year_show_start</th>\n",
       "      <th></th>\n",
       "    </tr>\n",
       "  </thead>\n",
       "  <tbody>\n",
       "    <tr>\n",
       "      <th>2010</th>\n",
       "      <td>985</td>\n",
       "    </tr>\n",
       "    <tr>\n",
       "      <th>2011</th>\n",
       "      <td>622</td>\n",
       "    </tr>\n",
       "    <tr>\n",
       "      <th>2012</th>\n",
       "      <td>593</td>\n",
       "    </tr>\n",
       "    <tr>\n",
       "      <th>2013</th>\n",
       "      <td>630</td>\n",
       "    </tr>\n",
       "    <tr>\n",
       "      <th>2014</th>\n",
       "      <td>807</td>\n",
       "    </tr>\n",
       "    <tr>\n",
       "      <th>2015</th>\n",
       "      <td>705</td>\n",
       "    </tr>\n",
       "    <tr>\n",
       "      <th>2016</th>\n",
       "      <td>818</td>\n",
       "    </tr>\n",
       "    <tr>\n",
       "      <th>2017</th>\n",
       "      <td>505</td>\n",
       "    </tr>\n",
       "    <tr>\n",
       "      <th>2018</th>\n",
       "      <td>891</td>\n",
       "    </tr>\n",
       "    <tr>\n",
       "      <th>2019</th>\n",
       "      <td>930</td>\n",
       "    </tr>\n",
       "  </tbody>\n",
       "</table>\n",
       "</div>"
      ],
      "text/plain": [
       "                 puNumber\n",
       "year_show_start          \n",
       "2010                  985\n",
       "2011                  622\n",
       "2012                  593\n",
       "2013                  630\n",
       "2014                  807\n",
       "2015                  705\n",
       "2016                  818\n",
       "2017                  505\n",
       "2018                  891\n",
       "2019                  930"
      ]
     },
     "execution_count": 66,
     "metadata": {},
     "output_type": "execute_result"
    }
   ],
   "source": [
    "#выведем информацию о количестве фильмов, выходящих каждый год\n",
    "shows_per_year = data.pivot_table(index='year_show_start', values='puNumber', aggfunc='count')\n",
    "shows_per_year"
   ]
  },
  {
   "cell_type": "code",
   "execution_count": 67,
   "metadata": {},
   "outputs": [
    {
     "data": {
      "image/png": "[encoded data removed]",
      "text/plain": [
       "<Figure size 1080x576 with 1 Axes>"
      ]
     },
     "metadata": {
      "needs_background": "light"
     },
     "output_type": "display_data"
    }
   ],
   "source": [
    "shows_per_year.plot(kind='bar', grid=True, figsize=(15,8));\n",
    "plt.title('Количество фильмов, выпущенных в прокат в определенный год');\n",
    "plt.xlabel('год премьеры');\n",
    "plt.ylabel('количество фильмов');"
   ]
  },
  {
   "cell_type": "markdown",
   "metadata": {},
   "source": [
    "***Вывод:*** больше всего фильмов вышло в 2010, 2019 и 2018 годах соответственно, меньше всего - в 2017 году."
   ]
  },
  {
   "cell_type": "code",
   "execution_count": 68,
   "metadata": {},
   "outputs": [
    {
     "name": "stdout",
     "output_type": "stream",
     "text": [
      "Количество фильмов, для которых есть информация о прокате в кинотеатрах: 3158\n",
      "Доля фильмов, для которых есть информация о прокате в кинотеатрах: 0.42185412770504943\n"
     ]
    }
   ],
   "source": [
    "print(f'Количество фильмов, для которых есть информация о прокате в кинотеатрах: {data[\"box_office\"].notna().sum()}')\n",
    "print(f'Доля фильмов, для которых есть информация о прокате в кинотеатрах: {data[\"box_office\"].notna().mean()}')"
   ]
  },
  {
   "cell_type": "markdown",
   "metadata": {
    "id": "BEOdcIrIgFyW"
   },
   "source": [
    "Изучим, как менялась динамика проката по годам. В каком году сумма сборов была минимальной? А максимальной?"
   ]
  },
  {
   "cell_type": "code",
   "execution_count": 69,
   "metadata": {},
   "outputs": [
    {
     "data": {
      "text/html": [
       "<div>\n",
       "<style scoped>\n",
       "    .dataframe tbody tr th:only-of-type {\n",
       "        vertical-align: middle;\n",
       "    }\n",
       "\n",
       "    .dataframe tbody tr th {\n",
       "        vertical-align: top;\n",
       "    }\n",
       "\n",
       "    .dataframe thead th {\n",
       "        text-align: right;\n",
       "    }\n",
       "</style>\n",
       "<table border=\"1\" class=\"dataframe\">\n",
       "  <thead>\n",
       "    <tr style=\"text-align: right;\">\n",
       "      <th></th>\n",
       "      <th>box_office</th>\n",
       "    </tr>\n",
       "    <tr>\n",
       "      <th>year_show_start</th>\n",
       "      <th></th>\n",
       "    </tr>\n",
       "  </thead>\n",
       "  <tbody>\n",
       "    <tr>\n",
       "      <th>2010</th>\n",
       "      <td>2,428,654.0</td>\n",
       "    </tr>\n",
       "    <tr>\n",
       "      <th>2011</th>\n",
       "      <td>14,102,765.0</td>\n",
       "    </tr>\n",
       "    <tr>\n",
       "      <th>2012</th>\n",
       "      <td>6,955,423.0</td>\n",
       "    </tr>\n",
       "    <tr>\n",
       "      <th>2013</th>\n",
       "      <td>29,799,706.2</td>\n",
       "    </tr>\n",
       "    <tr>\n",
       "      <th>2014</th>\n",
       "      <td>7,444,951,859.2</td>\n",
       "    </tr>\n",
       "    <tr>\n",
       "      <th>2015</th>\n",
       "      <td>39,497,365,196.4</td>\n",
       "    </tr>\n",
       "    <tr>\n",
       "      <th>2016</th>\n",
       "      <td>47,866,299,741.9</td>\n",
       "    </tr>\n",
       "    <tr>\n",
       "      <th>2017</th>\n",
       "      <td>48,563,707,217.5</td>\n",
       "    </tr>\n",
       "    <tr>\n",
       "      <th>2018</th>\n",
       "      <td>49,668,403,134.3</td>\n",
       "    </tr>\n",
       "    <tr>\n",
       "      <th>2019</th>\n",
       "      <td>48,425,708,779.6</td>\n",
       "    </tr>\n",
       "  </tbody>\n",
       "</table>\n",
       "</div>"
      ],
      "text/plain": [
       "                      box_office\n",
       "year_show_start                 \n",
       "2010                 2,428,654.0\n",
       "2011                14,102,765.0\n",
       "2012                 6,955,423.0\n",
       "2013                29,799,706.2\n",
       "2014             7,444,951,859.2\n",
       "2015            39,497,365,196.4\n",
       "2016            47,866,299,741.9\n",
       "2017            48,563,707,217.5\n",
       "2018            49,668,403,134.3\n",
       "2019            48,425,708,779.6"
      ]
     },
     "execution_count": 69,
     "metadata": {},
     "output_type": "execute_result"
    }
   ],
   "source": [
    "year_box_office = data.pivot_table(index='year_show_start', values='box_office', aggfunc='sum')\n",
    "year_box_office"
   ]
  },
  {
   "cell_type": "code",
   "execution_count": 70,
   "metadata": {
    "id": "tfEhofYvgFyX"
   },
   "outputs": [
    {
     "data": {
      "image/png": "[encoded data removed]",
      "text/plain": [
       "<Figure size 720x360 with 1 Axes>"
      ]
     },
     "metadata": {
      "needs_background": "light"
     },
     "output_type": "display_data"
    }
   ],
   "source": [
    "year_box_office.plot(kind='line', grid=True, figsize=(10,5));"
   ]
  },
  {
   "cell_type": "code",
   "execution_count": 71,
   "metadata": {},
   "outputs": [
    {
     "name": "stdout",
     "output_type": "stream",
     "text": [
      "Cумма сборов была максимальной в 2018 году\n",
      "Cумма сборов была минимальной в 2010 году\n"
     ]
    }
   ],
   "source": [
    "print(f'Cумма сборов была максимальной в {year_box_office.idxmax()[0]} году') \n",
    "print(f'Cумма сборов была минимальной в {year_box_office.idxmin()[0]} году') "
   ]
  },
  {
   "cell_type": "markdown",
   "metadata": {
    "id": "G-7qS-N-gFyY"
   },
   "source": [
    "Посчитаем среднюю и медианную сумму сборов для каждого года."
   ]
  },
  {
   "cell_type": "code",
   "execution_count": 72,
   "metadata": {
    "id": "jmp-rgg9gFyY"
   },
   "outputs": [
    {
     "data": {
      "text/html": [
       "<div>\n",
       "<style scoped>\n",
       "    .dataframe tbody tr th:only-of-type {\n",
       "        vertical-align: middle;\n",
       "    }\n",
       "\n",
       "    .dataframe tbody tr th {\n",
       "        vertical-align: top;\n",
       "    }\n",
       "\n",
       "    .dataframe thead th {\n",
       "        text-align: right;\n",
       "    }\n",
       "</style>\n",
       "<table border=\"1\" class=\"dataframe\">\n",
       "  <thead>\n",
       "    <tr style=\"text-align: right;\">\n",
       "      <th></th>\n",
       "      <th>mean</th>\n",
       "      <th>median</th>\n",
       "    </tr>\n",
       "    <tr>\n",
       "      <th>year_show_start</th>\n",
       "      <th></th>\n",
       "      <th></th>\n",
       "    </tr>\n",
       "  </thead>\n",
       "  <tbody>\n",
       "    <tr>\n",
       "      <th>2010</th>\n",
       "      <td>23,130.0</td>\n",
       "      <td>1,700.0</td>\n",
       "    </tr>\n",
       "    <tr>\n",
       "      <th>2011</th>\n",
       "      <td>129,383.2</td>\n",
       "      <td>3,000.0</td>\n",
       "    </tr>\n",
       "    <tr>\n",
       "      <th>2012</th>\n",
       "      <td>54,339.2</td>\n",
       "      <td>5,660.0</td>\n",
       "    </tr>\n",
       "    <tr>\n",
       "      <th>2013</th>\n",
       "      <td>161,954.9</td>\n",
       "      <td>3,522.5</td>\n",
       "    </tr>\n",
       "    <tr>\n",
       "      <th>2014</th>\n",
       "      <td>26,684,415.3</td>\n",
       "      <td>18,160.0</td>\n",
       "    </tr>\n",
       "    <tr>\n",
       "      <th>2015</th>\n",
       "      <td>84,940,570.3</td>\n",
       "      <td>4,920,933.0</td>\n",
       "    </tr>\n",
       "    <tr>\n",
       "      <th>2016</th>\n",
       "      <td>91,000,569.9</td>\n",
       "      <td>3,846,679.4</td>\n",
       "    </tr>\n",
       "    <tr>\n",
       "      <th>2017</th>\n",
       "      <td>136,032,793.3</td>\n",
       "      <td>9,968,340.0</td>\n",
       "    </tr>\n",
       "    <tr>\n",
       "      <th>2018</th>\n",
       "      <td>104,565,059.2</td>\n",
       "      <td>8,891,102.2</td>\n",
       "    </tr>\n",
       "    <tr>\n",
       "      <th>2019</th>\n",
       "      <td>91,369,261.8</td>\n",
       "      <td>4,627,798.3</td>\n",
       "    </tr>\n",
       "  </tbody>\n",
       "</table>\n",
       "</div>"
      ],
      "text/plain": [
       "                         mean      median\n",
       "year_show_start                          \n",
       "2010                 23,130.0     1,700.0\n",
       "2011                129,383.2     3,000.0\n",
       "2012                 54,339.2     5,660.0\n",
       "2013                161,954.9     3,522.5\n",
       "2014             26,684,415.3    18,160.0\n",
       "2015             84,940,570.3 4,920,933.0\n",
       "2016             91,000,569.9 3,846,679.4\n",
       "2017            136,032,793.3 9,968,340.0\n",
       "2018            104,565,059.2 8,891,102.2\n",
       "2019             91,369,261.8 4,627,798.3"
      ]
     },
     "execution_count": 72,
     "metadata": {},
     "output_type": "execute_result"
    }
   ],
   "source": [
    "box_office_mean_median = data.pivot_table(index='year_show_start', values='box_office', aggfunc=['mean', 'median'])\n",
    "box_office_mean_median.columns = ['mean', 'median']\n",
    "box_office_mean_median"
   ]
  },
  {
   "cell_type": "code",
   "execution_count": 73,
   "metadata": {},
   "outputs": [
    {
     "data": {
      "image/png": "[encoded data removed]",
      "text/plain": [
       "<Figure size 720x360 with 1 Axes>"
      ]
     },
     "metadata": {
      "needs_background": "light"
     },
     "output_type": "display_data"
    }
   ],
   "source": [
    "box_office_mean_median.plot(kind='line', grid=True, figsize=(10,5));\n",
    "plt.title('Средняя и медианная сумма сборов для каждого года');\n",
    "plt.xlabel('год показа');\n",
    "plt.ylabel('сумма сборов');"
   ]
  },
  {
   "cell_type": "markdown",
   "metadata": {},
   "source": [
    "***Вывод:*** средняя и медианная сумма сборов была максимальной в 2017 году, минимальной в 2010, при этом после 2013 года средний показатель значительно выше медианного"
   ]
  },
  {
   "cell_type": "markdown",
   "metadata": {
    "id": "Ok89WFwJgFyZ"
   },
   "source": [
    "Определим, влияет ли возрастное ограничение аудитории («6+», «12+», «16+», «18+» и т. д.) на сборы фильма в прокате в период с 2015 по 2019 год? Фильмы с каким возрастным ограничением собрали больше всего денег в прокате? Меняется ли картина в зависимости от года? Если да, предположите, с чем это может быть связано."
   ]
  },
  {
   "cell_type": "code",
   "execution_count": 74,
   "metadata": {},
   "outputs": [],
   "source": [
    "data_last = data[data['year_show_start'] >= 2015]"
   ]
  },
  {
   "cell_type": "code",
   "execution_count": 75,
   "metadata": {
    "id": "jsSbEqfjgFya",
    "scrolled": false
   },
   "outputs": [
    {
     "name": "stdout",
     "output_type": "stream",
     "text": [
      "Зависимость  сборов от возрастного ограничения\n"
     ]
    },
    {
     "data": {
      "text/html": [
       "<div>\n",
       "<style scoped>\n",
       "    .dataframe tbody tr th:only-of-type {\n",
       "        vertical-align: middle;\n",
       "    }\n",
       "\n",
       "    .dataframe tbody tr th {\n",
       "        vertical-align: top;\n",
       "    }\n",
       "\n",
       "    .dataframe thead tr th {\n",
       "        text-align: left;\n",
       "    }\n",
       "\n",
       "    .dataframe thead tr:last-of-type th {\n",
       "        text-align: right;\n",
       "    }\n",
       "</style>\n",
       "<table border=\"1\" class=\"dataframe\">\n",
       "  <thead>\n",
       "    <tr>\n",
       "      <th></th>\n",
       "      <th colspan=\"5\" halign=\"left\">sum</th>\n",
       "    </tr>\n",
       "    <tr>\n",
       "      <th>age_restriction</th>\n",
       "      <th>«0+» - для любой зрительской аудитории</th>\n",
       "      <th>«12+» - для детей старше 12 лет</th>\n",
       "      <th>«16+» - для детей старше 16 лет</th>\n",
       "      <th>«18+» - запрещено для детей</th>\n",
       "      <th>«6+» - для детей старше 6 лет</th>\n",
       "    </tr>\n",
       "    <tr>\n",
       "      <th>year_show_start</th>\n",
       "      <th></th>\n",
       "      <th></th>\n",
       "      <th></th>\n",
       "      <th></th>\n",
       "      <th></th>\n",
       "    </tr>\n",
       "  </thead>\n",
       "  <tbody>\n",
       "    <tr>\n",
       "      <th>2015</th>\n",
       "      <td>379,054,578.4</td>\n",
       "      <td>13,616,082,008.9</td>\n",
       "      <td>11,368,120,870.3</td>\n",
       "      <td>5,432,308,367.4</td>\n",
       "      <td>8,701,799,371.4</td>\n",
       "    </tr>\n",
       "    <tr>\n",
       "      <th>2016</th>\n",
       "      <td>150,228,848.7</td>\n",
       "      <td>12,204,446,524.4</td>\n",
       "      <td>16,664,548,541.7</td>\n",
       "      <td>6,793,929,818.9</td>\n",
       "      <td>12,053,146,008.2</td>\n",
       "    </tr>\n",
       "    <tr>\n",
       "      <th>2017</th>\n",
       "      <td>229,598,930.0</td>\n",
       "      <td>7,851,427,660.7</td>\n",
       "      <td>18,745,042,900.1</td>\n",
       "      <td>9,651,495,581.0</td>\n",
       "      <td>12,086,142,145.8</td>\n",
       "    </tr>\n",
       "    <tr>\n",
       "      <th>2018</th>\n",
       "      <td>32,449,002.1</td>\n",
       "      <td>14,267,291,660.7</td>\n",
       "      <td>16,503,602,347.0</td>\n",
       "      <td>8,760,085,501.1</td>\n",
       "      <td>10,104,974,623.4</td>\n",
       "    </tr>\n",
       "    <tr>\n",
       "      <th>2019</th>\n",
       "      <td>17,746,066.8</td>\n",
       "      <td>12,680,198,773.7</td>\n",
       "      <td>12,753,418,984.6</td>\n",
       "      <td>10,121,796,303.6</td>\n",
       "      <td>12,852,548,650.9</td>\n",
       "    </tr>\n",
       "  </tbody>\n",
       "</table>\n",
       "</div>"
      ],
      "text/plain": [
       "                                                   sum  \\\n",
       "age_restriction «0+» - для любой зрительской аудитории   \n",
       "year_show_start                                          \n",
       "2015                                     379,054,578.4   \n",
       "2016                                     150,228,848.7   \n",
       "2017                                     229,598,930.0   \n",
       "2018                                      32,449,002.1   \n",
       "2019                                      17,746,066.8   \n",
       "\n",
       "                                                 \\\n",
       "age_restriction «12+» - для детей старше 12 лет   \n",
       "year_show_start                                   \n",
       "2015                           13,616,082,008.9   \n",
       "2016                           12,204,446,524.4   \n",
       "2017                            7,851,427,660.7   \n",
       "2018                           14,267,291,660.7   \n",
       "2019                           12,680,198,773.7   \n",
       "\n",
       "                                                                             \\\n",
       "age_restriction «16+» - для детей старше 16 лет «18+» - запрещено для детей   \n",
       "year_show_start                                                               \n",
       "2015                           11,368,120,870.3             5,432,308,367.4   \n",
       "2016                           16,664,548,541.7             6,793,929,818.9   \n",
       "2017                           18,745,042,900.1             9,651,495,581.0   \n",
       "2018                           16,503,602,347.0             8,760,085,501.1   \n",
       "2019                           12,753,418,984.6            10,121,796,303.6   \n",
       "\n",
       "                                               \n",
       "age_restriction «6+» - для детей старше 6 лет  \n",
       "year_show_start                                \n",
       "2015                          8,701,799,371.4  \n",
       "2016                         12,053,146,008.2  \n",
       "2017                         12,086,142,145.8  \n",
       "2018                         10,104,974,623.4  \n",
       "2019                         12,852,548,650.9  "
      ]
     },
     "execution_count": 75,
     "metadata": {},
     "output_type": "execute_result"
    }
   ],
   "source": [
    "print('Зависимость  сборов от возрастного ограничения')\n",
    "depend_age = data_last.pivot_table(index='year_show_start', columns='age_restriction', \n",
    "                                   values='box_office', aggfunc=['sum'])\n",
    "depend_age"
   ]
  },
  {
   "cell_type": "code",
   "execution_count": 76,
   "metadata": {},
   "outputs": [
    {
     "data": {
      "image/png": "[encoded data removed]",
      "text/plain": [
       "<Figure size 1440x720 with 1 Axes>"
      ]
     },
     "metadata": {
      "needs_background": "light"
     },
     "output_type": "display_data"
    }
   ],
   "source": [
    "depend_age.plot(kind='line', grid=True, figsize=(20,10));"
   ]
  },
  {
   "cell_type": "markdown",
   "metadata": {},
   "source": [
    "***Из графика видно, что больше всего денег с прокатов собрали фильмы с возрастным ограничением - 16+, меньше всего - фильмы с ограничением 0+***\n",
    "<br>Однако фильмы с огрничением 12+ вели себя нестабильно на протяжении рассматриваемых лет: \n",
    "1. в 2015 году они были самыми кассовыми\n",
    "2. в 2016 году почти сравнялись с фильмами с ограничением 6+\n",
    "3. в 2017 их сборы сильно упали и стали ниже сборов фильмом с ограниченями: 16+, 6+ и 18+ соответственно \n",
    "4. в 2018 они снова стали 2-ми по сборам и приблизились к фильмам с ограничением - 16+\n",
    "5. в 2019 же фильмы с ограничениями: 6+, 16+, 12+ приблизились почти к равному показателю сборов\n",
    "\n",
    "***На это могло повлиять:***\n",
    "1. Зрелищность фильмов той или иной категории определенного года\n",
    "2. Количество зрителей определенной категории"
   ]
  },
  {
   "cell_type": "markdown",
   "metadata": {
    "id": "l_Kg6Ku4gFya"
   },
   "source": [
    "## Исследование фильмов, которые получили государственную поддержку"
   ]
  },
  {
   "cell_type": "code",
   "execution_count": 77,
   "metadata": {
    "id": "W9QKpjUdgFyb"
   },
   "outputs": [
    {
     "data": {
      "text/html": [
       "<div>\n",
       "<style scoped>\n",
       "    .dataframe tbody tr th:only-of-type {\n",
       "        vertical-align: middle;\n",
       "    }\n",
       "\n",
       "    .dataframe tbody tr th {\n",
       "        vertical-align: top;\n",
       "    }\n",
       "\n",
       "    .dataframe thead th {\n",
       "        text-align: right;\n",
       "    }\n",
       "</style>\n",
       "<table border=\"1\" class=\"dataframe\">\n",
       "  <thead>\n",
       "    <tr style=\"text-align: right;\">\n",
       "      <th></th>\n",
       "      <th>count</th>\n",
       "      <th>sum</th>\n",
       "    </tr>\n",
       "    <tr>\n",
       "      <th>financing_source</th>\n",
       "      <th></th>\n",
       "      <th></th>\n",
       "    </tr>\n",
       "  </thead>\n",
       "  <tbody>\n",
       "    <tr>\n",
       "      <th>Фонд кино</th>\n",
       "      <td>144</td>\n",
       "      <td>35,986,152,828.6</td>\n",
       "    </tr>\n",
       "    <tr>\n",
       "      <th>Министерство культуры</th>\n",
       "      <td>152</td>\n",
       "      <td>5,322,018,327.9</td>\n",
       "    </tr>\n",
       "    <tr>\n",
       "      <th>Министерство культуры, Фонд кино</th>\n",
       "      <td>22</td>\n",
       "      <td>805,338,418.3</td>\n",
       "    </tr>\n",
       "  </tbody>\n",
       "</table>\n",
       "</div>"
      ],
      "text/plain": [
       "                                  count              sum\n",
       "financing_source                                        \n",
       "Фонд кино                           144 35,986,152,828.6\n",
       "Министерство культуры               152  5,322,018,327.9\n",
       "Министерство культуры, Фонд кино     22    805,338,418.3"
      ]
     },
     "execution_count": 77,
     "metadata": {},
     "output_type": "execute_result"
    }
   ],
   "source": [
    "#найдем количество и сумму сборов фильмов с определенной гос поддержкой\n",
    "finance = data.pivot_table(index='financing_source', values='box_office', aggfunc=['count', 'sum'])\n",
    "finance.columns = ['count', 'sum']\n",
    "finance.sort_values(by='sum', ascending=False)"
   ]
  },
  {
   "cell_type": "code",
   "execution_count": 78,
   "metadata": {},
   "outputs": [
    {
     "data": {
      "image/png": "[encoded data removed]",
      "text/plain": [
       "<Figure size 720x360 with 1 Axes>"
      ]
     },
     "metadata": {
      "needs_background": "light"
     },
     "output_type": "display_data"
    }
   ],
   "source": [
    "finance.plot(kind='line', grid=True, figsize=(10,5), y='sum');"
   ]
  },
  {
   "cell_type": "markdown",
   "metadata": {},
   "source": [
    "***Вывод:*** больше сборов получили фильмы, поддерживаемые Фондом кино, меньше всего поддерживаемые Министерством культуры и Фондом кино, соберем эти фильмы в один датафрейм"
   ]
  },
  {
   "cell_type": "code",
   "execution_count": 79,
   "metadata": {},
   "outputs": [],
   "source": [
    "#соберем фильмы с гос поддержкой в один датафрейм\n",
    "data_finance_support = data[data['refundable_support'].notna() | data['nonrefundable_support'].notna()].copy()"
   ]
  },
  {
   "cell_type": "code",
   "execution_count": 80,
   "metadata": {},
   "outputs": [],
   "source": [
    "#добавим общую поддержку фильмов\n",
    "data_finance_support['full_support'] = data_finance_support['refundable_support'] + \\\n",
    "data_finance_support['nonrefundable_support'];"
   ]
  },
  {
   "cell_type": "code",
   "execution_count": 81,
   "metadata": {},
   "outputs": [],
   "source": [
    "#добавим рентабильность фильмов\n",
    "data_finance_support['profitability'] = data_finance_support['box_office'] / data_finance_support['full_support'] - 1"
   ]
  },
  {
   "cell_type": "code",
   "execution_count": 82,
   "metadata": {},
   "outputs": [],
   "source": [
    "#добавим окупаемость фильмов\n",
    "data_finance_support['is_paid_off'] = data_finance_support['profitability'] > 0"
   ]
  },
  {
   "cell_type": "code",
   "execution_count": 83,
   "metadata": {},
   "outputs": [
    {
     "data": {
      "text/html": [
       "<div>\n",
       "<style scoped>\n",
       "    .dataframe tbody tr th:only-of-type {\n",
       "        vertical-align: middle;\n",
       "    }\n",
       "\n",
       "    .dataframe tbody tr th {\n",
       "        vertical-align: top;\n",
       "    }\n",
       "\n",
       "    .dataframe thead th {\n",
       "        text-align: right;\n",
       "    }\n",
       "</style>\n",
       "<table border=\"1\" class=\"dataframe\">\n",
       "  <thead>\n",
       "    <tr style=\"text-align: right;\">\n",
       "      <th></th>\n",
       "      <th>title</th>\n",
       "      <th>puNumber</th>\n",
       "      <th>show_start_date</th>\n",
       "      <th>type</th>\n",
       "      <th>film_studio</th>\n",
       "      <th>production_country</th>\n",
       "      <th>director</th>\n",
       "      <th>producer</th>\n",
       "      <th>age_restriction</th>\n",
       "      <th>refundable_support</th>\n",
       "      <th>...</th>\n",
       "      <th>ratings</th>\n",
       "      <th>genres</th>\n",
       "      <th>box_office</th>\n",
       "      <th>year_show_start</th>\n",
       "      <th>main_director</th>\n",
       "      <th>main_genres</th>\n",
       "      <th>support_percentage</th>\n",
       "      <th>full_support</th>\n",
       "      <th>profitability</th>\n",
       "      <th>is_paid_off</th>\n",
       "    </tr>\n",
       "  </thead>\n",
       "  <tbody>\n",
       "    <tr>\n",
       "      <th>1281</th>\n",
       "      <td>Пока еще жива</td>\n",
       "      <td>111005313</td>\n",
       "      <td>2013-10-11 12:00:00+00:00</td>\n",
       "      <td>Художественный</td>\n",
       "      <td>ано содействия развитию кинематографии \"ангел-...</td>\n",
       "      <td>Россия</td>\n",
       "      <td>А.Атанесян</td>\n",
       "      <td>А.Атанесян, М.Бабаханов, Р.Бутко</td>\n",
       "      <td>«16+» - для детей старше 16 лет</td>\n",
       "      <td>0.0</td>\n",
       "      <td>...</td>\n",
       "      <td>8.1</td>\n",
       "      <td>драма,мелодрама</td>\n",
       "      <td>365,353.6</td>\n",
       "      <td>2013</td>\n",
       "      <td>А.Атанесян</td>\n",
       "      <td>драма</td>\n",
       "      <td>0.3</td>\n",
       "      <td>26,500,000.0</td>\n",
       "      <td>-1.0</td>\n",
       "      <td>False</td>\n",
       "    </tr>\n",
       "    <tr>\n",
       "      <th>1448</th>\n",
       "      <td>Бесславные придурки</td>\n",
       "      <td>111003314</td>\n",
       "      <td>2014-03-28 12:00:00+00:00</td>\n",
       "      <td>Художественный</td>\n",
       "      <td>ооо \"компания \"атк-студио\"</td>\n",
       "      <td>Россия</td>\n",
       "      <td>А.Якимчук</td>\n",
       "      <td>А.Тютрюмов</td>\n",
       "      <td>«12+» - для детей старше 12 лет</td>\n",
       "      <td>0.0</td>\n",
       "      <td>...</td>\n",
       "      <td>NaN</td>\n",
       "      <td>NaN</td>\n",
       "      <td>28,140.0</td>\n",
       "      <td>2014</td>\n",
       "      <td>А.Якимчук</td>\n",
       "      <td>NaN</td>\n",
       "      <td>0.7</td>\n",
       "      <td>26,000,000.0</td>\n",
       "      <td>-1.0</td>\n",
       "      <td>False</td>\n",
       "    </tr>\n",
       "    <tr>\n",
       "      <th>1498</th>\n",
       "      <td>Невидимки</td>\n",
       "      <td>111004213</td>\n",
       "      <td>2013-09-10 12:00:00+00:00</td>\n",
       "      <td>Художественный</td>\n",
       "      <td>ооо \"компания \"реал-дакота\"</td>\n",
       "      <td>Россия</td>\n",
       "      <td>Р.Давлетьяров, С.Комаров</td>\n",
       "      <td>Р.Давлетьяров, А.Котелевский, А.Олейников</td>\n",
       "      <td>«12+» - для детей старше 12 лет</td>\n",
       "      <td>0.0</td>\n",
       "      <td>...</td>\n",
       "      <td>5.3</td>\n",
       "      <td>комедия,фантастика</td>\n",
       "      <td>19,957,031.5</td>\n",
       "      <td>2013</td>\n",
       "      <td>Р.Давлетьяров</td>\n",
       "      <td>комедия</td>\n",
       "      <td>0.6</td>\n",
       "      <td>107,847,945.0</td>\n",
       "      <td>-0.8</td>\n",
       "      <td>False</td>\n",
       "    </tr>\n",
       "    <tr>\n",
       "      <th>1524</th>\n",
       "      <td>БЕРЦЫ</td>\n",
       "      <td>111004314</td>\n",
       "      <td>2014-05-05 12:00:00+00:00</td>\n",
       "      <td>Художественный</td>\n",
       "      <td>ооо \"студия \"пассажир\"</td>\n",
       "      <td>Россия</td>\n",
       "      <td>Е.Миндадзе (псевдоним Катя Шагалова)</td>\n",
       "      <td>Л.Антонова</td>\n",
       "      <td>«16+» - для детей старше 16 лет</td>\n",
       "      <td>0.0</td>\n",
       "      <td>...</td>\n",
       "      <td>4.2</td>\n",
       "      <td>драма</td>\n",
       "      <td>55,917.5</td>\n",
       "      <td>2014</td>\n",
       "      <td>Е.Миндадзе (псевдоним Катя Шагалова)</td>\n",
       "      <td>драма</td>\n",
       "      <td>0.7</td>\n",
       "      <td>28,000,000.0</td>\n",
       "      <td>-1.0</td>\n",
       "      <td>False</td>\n",
       "    </tr>\n",
       "    <tr>\n",
       "      <th>1792</th>\n",
       "      <td>Братья Ч</td>\n",
       "      <td>111004414</td>\n",
       "      <td>2014-04-23 12:00:00+00:00</td>\n",
       "      <td>Художественный</td>\n",
       "      <td>ооо \"студия \"пассажир\"</td>\n",
       "      <td>Россия</td>\n",
       "      <td>М.Угаров</td>\n",
       "      <td>А.Миндадзе, Л.Антонова</td>\n",
       "      <td>«16+» - для детей старше 16 лет</td>\n",
       "      <td>0.0</td>\n",
       "      <td>...</td>\n",
       "      <td>6.4</td>\n",
       "      <td>драма</td>\n",
       "      <td>232,100.0</td>\n",
       "      <td>2014</td>\n",
       "      <td>М.Угаров</td>\n",
       "      <td>драма</td>\n",
       "      <td>0.6</td>\n",
       "      <td>25,000,000.0</td>\n",
       "      <td>-1.0</td>\n",
       "      <td>False</td>\n",
       "    </tr>\n",
       "  </tbody>\n",
       "</table>\n",
       "<p>5 rows × 23 columns</p>\n",
       "</div>"
      ],
      "text/plain": [
       "                    title   puNumber           show_start_date  \\\n",
       "1281        Пока еще жива  111005313 2013-10-11 12:00:00+00:00   \n",
       "1448  Бесславные придурки  111003314 2014-03-28 12:00:00+00:00   \n",
       "1498            Невидимки  111004213 2013-09-10 12:00:00+00:00   \n",
       "1524                БЕРЦЫ  111004314 2014-05-05 12:00:00+00:00   \n",
       "1792             Братья Ч  111004414 2014-04-23 12:00:00+00:00   \n",
       "\n",
       "                type                                        film_studio  \\\n",
       "1281  Художественный  ано содействия развитию кинематографии \"ангел-...   \n",
       "1448  Художественный                         ооо \"компания \"атк-студио\"   \n",
       "1498  Художественный                        ооо \"компания \"реал-дакота\"   \n",
       "1524  Художественный                             ооо \"студия \"пассажир\"   \n",
       "1792  Художественный                             ооо \"студия \"пассажир\"   \n",
       "\n",
       "     production_country                              director  \\\n",
       "1281             Россия                            А.Атанесян   \n",
       "1448             Россия                             А.Якимчук   \n",
       "1498             Россия              Р.Давлетьяров, С.Комаров   \n",
       "1524             Россия  Е.Миндадзе (псевдоним Катя Шагалова)   \n",
       "1792             Россия                              М.Угаров   \n",
       "\n",
       "                                       producer  \\\n",
       "1281           А.Атанесян, М.Бабаханов, Р.Бутко   \n",
       "1448                                 А.Тютрюмов   \n",
       "1498  Р.Давлетьяров, А.Котелевский, А.Олейников   \n",
       "1524                                 Л.Антонова   \n",
       "1792                     А.Миндадзе, Л.Антонова   \n",
       "\n",
       "                      age_restriction  refundable_support  ...  ratings  \\\n",
       "1281  «16+» - для детей старше 16 лет                 0.0  ...      8.1   \n",
       "1448  «12+» - для детей старше 12 лет                 0.0  ...      NaN   \n",
       "1498  «12+» - для детей старше 12 лет                 0.0  ...      5.3   \n",
       "1524  «16+» - для детей старше 16 лет                 0.0  ...      4.2   \n",
       "1792  «16+» - для детей старше 16 лет                 0.0  ...      6.4   \n",
       "\n",
       "                  genres   box_office  year_show_start  \\\n",
       "1281     драма,мелодрама    365,353.6             2013   \n",
       "1448                 NaN     28,140.0             2014   \n",
       "1498  комедия,фантастика 19,957,031.5             2013   \n",
       "1524               драма     55,917.5             2014   \n",
       "1792               драма    232,100.0             2014   \n",
       "\n",
       "                             main_director  main_genres  support_percentage  \\\n",
       "1281                            А.Атанесян        драма                 0.3   \n",
       "1448                             А.Якимчук          NaN                 0.7   \n",
       "1498                         Р.Давлетьяров      комедия                 0.6   \n",
       "1524  Е.Миндадзе (псевдоним Катя Шагалова)        драма                 0.7   \n",
       "1792                              М.Угаров        драма                 0.6   \n",
       "\n",
       "      full_support profitability  is_paid_off  \n",
       "1281  26,500,000.0          -1.0        False  \n",
       "1448  26,000,000.0          -1.0        False  \n",
       "1498 107,847,945.0          -0.8        False  \n",
       "1524  28,000,000.0          -1.0        False  \n",
       "1792  25,000,000.0          -1.0        False  \n",
       "\n",
       "[5 rows x 23 columns]"
      ]
     },
     "execution_count": 83,
     "metadata": {},
     "output_type": "execute_result"
    }
   ],
   "source": [
    "data_finance_support.head()"
   ]
  },
  {
   "cell_type": "code",
   "execution_count": 84,
   "metadata": {},
   "outputs": [
    {
     "data": {
      "image/png": "[encoded data removed]",
      "text/plain": [
       "<Figure size 1080x576 with 1 Axes>"
      ]
     },
     "metadata": {
      "needs_background": "light"
     },
     "output_type": "display_data"
    }
   ],
   "source": [
    "data_finance_support['main_genres'].value_counts().plot(kind='bar', figsize=(15,8), grid=True);\n",
    "plt.title('Количество фильмом, получивших поддержку по жанрам');\n",
    "plt.xlabel('жанр');\n",
    "plt.ylabel('количество фильмов с поддержкой');"
   ]
  },
  {
   "cell_type": "markdown",
   "metadata": {},
   "source": [
    "***Вывод:*** больше всего получили поддержку драмы, комедии и мультфильмы, меньше всего - рекламное ТВ"
   ]
  },
  {
   "cell_type": "code",
   "execution_count": 85,
   "metadata": {},
   "outputs": [
    {
     "data": {
      "text/html": [
       "<div>\n",
       "<style scoped>\n",
       "    .dataframe tbody tr th:only-of-type {\n",
       "        vertical-align: middle;\n",
       "    }\n",
       "\n",
       "    .dataframe tbody tr th {\n",
       "        vertical-align: top;\n",
       "    }\n",
       "\n",
       "    .dataframe thead th {\n",
       "        text-align: right;\n",
       "    }\n",
       "</style>\n",
       "<table border=\"1\" class=\"dataframe\">\n",
       "  <thead>\n",
       "    <tr style=\"text-align: right;\">\n",
       "      <th></th>\n",
       "      <th>mean</th>\n",
       "      <th>median</th>\n",
       "    </tr>\n",
       "    <tr>\n",
       "      <th>main_genres</th>\n",
       "      <th></th>\n",
       "      <th></th>\n",
       "    </tr>\n",
       "  </thead>\n",
       "  <tbody>\n",
       "    <tr>\n",
       "      <th>криминал</th>\n",
       "      <td>7.5</td>\n",
       "      <td>7.8</td>\n",
       "    </tr>\n",
       "    <tr>\n",
       "      <th>детский</th>\n",
       "      <td>7.1</td>\n",
       "      <td>7.2</td>\n",
       "    </tr>\n",
       "    <tr>\n",
       "      <th>спорт</th>\n",
       "      <td>6.9</td>\n",
       "      <td>7.0</td>\n",
       "    </tr>\n",
       "    <tr>\n",
       "      <th>биография</th>\n",
       "      <td>6.9</td>\n",
       "      <td>6.9</td>\n",
       "    </tr>\n",
       "    <tr>\n",
       "      <th>детектив</th>\n",
       "      <td>6.8</td>\n",
       "      <td>6.8</td>\n",
       "    </tr>\n",
       "    <tr>\n",
       "      <th>боевик</th>\n",
       "      <td>6.6</td>\n",
       "      <td>6.4</td>\n",
       "    </tr>\n",
       "    <tr>\n",
       "      <th>мюзикл</th>\n",
       "      <td>6.5</td>\n",
       "      <td>6.6</td>\n",
       "    </tr>\n",
       "    <tr>\n",
       "      <th>военный</th>\n",
       "      <td>6.5</td>\n",
       "      <td>6.4</td>\n",
       "    </tr>\n",
       "    <tr>\n",
       "      <th>драма</th>\n",
       "      <td>6.4</td>\n",
       "      <td>6.4</td>\n",
       "    </tr>\n",
       "    <tr>\n",
       "      <th>фантастика</th>\n",
       "      <td>6.1</td>\n",
       "      <td>6.2</td>\n",
       "    </tr>\n",
       "    <tr>\n",
       "      <th>фэнтези</th>\n",
       "      <td>6.1</td>\n",
       "      <td>6.8</td>\n",
       "    </tr>\n",
       "    <tr>\n",
       "      <th>мелодрама</th>\n",
       "      <td>6.0</td>\n",
       "      <td>6.2</td>\n",
       "    </tr>\n",
       "    <tr>\n",
       "      <th>приключения</th>\n",
       "      <td>5.9</td>\n",
       "      <td>5.7</td>\n",
       "    </tr>\n",
       "    <tr>\n",
       "      <th>мультфильм</th>\n",
       "      <td>5.8</td>\n",
       "      <td>6.2</td>\n",
       "    </tr>\n",
       "    <tr>\n",
       "      <th>триллер</th>\n",
       "      <td>5.7</td>\n",
       "      <td>5.6</td>\n",
       "    </tr>\n",
       "    <tr>\n",
       "      <th>реальное ТВ</th>\n",
       "      <td>5.6</td>\n",
       "      <td>5.6</td>\n",
       "    </tr>\n",
       "    <tr>\n",
       "      <th>комедия</th>\n",
       "      <td>5.5</td>\n",
       "      <td>5.8</td>\n",
       "    </tr>\n",
       "    <tr>\n",
       "      <th>семейный</th>\n",
       "      <td>5.4</td>\n",
       "      <td>4.8</td>\n",
       "    </tr>\n",
       "    <tr>\n",
       "      <th>история</th>\n",
       "      <td>5.3</td>\n",
       "      <td>5.9</td>\n",
       "    </tr>\n",
       "    <tr>\n",
       "      <th>ужасы</th>\n",
       "      <td>5.2</td>\n",
       "      <td>5.1</td>\n",
       "    </tr>\n",
       "  </tbody>\n",
       "</table>\n",
       "</div>"
      ],
      "text/plain": [
       "             mean  median\n",
       "main_genres              \n",
       "криминал      7.5     7.8\n",
       "детский       7.1     7.2\n",
       "спорт         6.9     7.0\n",
       "биография     6.9     6.9\n",
       "детектив      6.8     6.8\n",
       "боевик        6.6     6.4\n",
       "мюзикл        6.5     6.6\n",
       "военный       6.5     6.4\n",
       "драма         6.4     6.4\n",
       "фантастика    6.1     6.2\n",
       "фэнтези       6.1     6.8\n",
       "мелодрама     6.0     6.2\n",
       "приключения   5.9     5.7\n",
       "мультфильм    5.8     6.2\n",
       "триллер       5.7     5.6\n",
       "реальное ТВ   5.6     5.6\n",
       "комедия       5.5     5.8\n",
       "семейный      5.4     4.8\n",
       "история       5.3     5.9\n",
       "ужасы         5.2     5.1"
      ]
     },
     "execution_count": 85,
     "metadata": {},
     "output_type": "execute_result"
    }
   ],
   "source": [
    "genre_rating = data_finance_support.pivot_table(index='main_genres', values='ratings', aggfunc=['mean', 'median'])\n",
    "genre_rating.columns = ['mean', 'median']\n",
    "genre_rating.sort_values(by='mean', ascending=False)"
   ]
  },
  {
   "cell_type": "code",
   "execution_count": 86,
   "metadata": {},
   "outputs": [
    {
     "data": {
      "image/png": "[encoded data removed]",
      "text/plain": [
       "<Figure size 1080x360 with 1 Axes>"
      ]
     },
     "metadata": {
      "needs_background": "light"
     },
     "output_type": "display_data"
    }
   ],
   "source": [
    "genre_rating.sort_values(by='mean', ascending=False).plot(kind='bar', grid=True, figsize=(15,5));\n",
    "plt.title('Средняя и медианное значение рейтинга фильма в зависимости от основного жанра');\n",
    "plt.xlabel('жанр');\n",
    "plt.ylabel('рейтинг');"
   ]
  },
  {
   "cell_type": "markdown",
   "metadata": {},
   "source": [
    "***Вывод:*** жанры с самыми высокими рейтингами - криминал, детский и спорт, а семейный, исторический и ужасы имеют самые низкие рейтинги соответственно"
   ]
  },
  {
   "cell_type": "code",
   "execution_count": 87,
   "metadata": {},
   "outputs": [
    {
     "data": {
      "text/html": [
       "<div>\n",
       "<style scoped>\n",
       "    .dataframe tbody tr th:only-of-type {\n",
       "        vertical-align: middle;\n",
       "    }\n",
       "\n",
       "    .dataframe tbody tr th {\n",
       "        vertical-align: top;\n",
       "    }\n",
       "\n",
       "    .dataframe thead th {\n",
       "        text-align: right;\n",
       "    }\n",
       "</style>\n",
       "<table border=\"1\" class=\"dataframe\">\n",
       "  <thead>\n",
       "    <tr style=\"text-align: right;\">\n",
       "      <th></th>\n",
       "      <th>count</th>\n",
       "      <th>sum</th>\n",
       "      <th>mean</th>\n",
       "    </tr>\n",
       "    <tr>\n",
       "      <th>main_genres</th>\n",
       "      <th></th>\n",
       "      <th></th>\n",
       "      <th></th>\n",
       "    </tr>\n",
       "  </thead>\n",
       "  <tbody>\n",
       "    <tr>\n",
       "      <th>спорт</th>\n",
       "      <td>3</td>\n",
       "      <td>3</td>\n",
       "      <td>1.0</td>\n",
       "    </tr>\n",
       "    <tr>\n",
       "      <th>история</th>\n",
       "      <td>4</td>\n",
       "      <td>3</td>\n",
       "      <td>0.8</td>\n",
       "    </tr>\n",
       "    <tr>\n",
       "      <th>приключения</th>\n",
       "      <td>7</td>\n",
       "      <td>5</td>\n",
       "      <td>0.7</td>\n",
       "    </tr>\n",
       "    <tr>\n",
       "      <th>биография</th>\n",
       "      <td>3</td>\n",
       "      <td>2</td>\n",
       "      <td>0.7</td>\n",
       "    </tr>\n",
       "    <tr>\n",
       "      <th>боевик</th>\n",
       "      <td>6</td>\n",
       "      <td>4</td>\n",
       "      <td>0.7</td>\n",
       "    </tr>\n",
       "    <tr>\n",
       "      <th>мультфильм</th>\n",
       "      <td>31</td>\n",
       "      <td>20</td>\n",
       "      <td>0.6</td>\n",
       "    </tr>\n",
       "    <tr>\n",
       "      <th>семейный</th>\n",
       "      <td>7</td>\n",
       "      <td>4</td>\n",
       "      <td>0.6</td>\n",
       "    </tr>\n",
       "    <tr>\n",
       "      <th>фантастика</th>\n",
       "      <td>11</td>\n",
       "      <td>6</td>\n",
       "      <td>0.5</td>\n",
       "    </tr>\n",
       "    <tr>\n",
       "      <th>ужасы</th>\n",
       "      <td>10</td>\n",
       "      <td>5</td>\n",
       "      <td>0.5</td>\n",
       "    </tr>\n",
       "    <tr>\n",
       "      <th>комедия</th>\n",
       "      <td>74</td>\n",
       "      <td>35</td>\n",
       "      <td>0.5</td>\n",
       "    </tr>\n",
       "    <tr>\n",
       "      <th>военный</th>\n",
       "      <td>9</td>\n",
       "      <td>4</td>\n",
       "      <td>0.4</td>\n",
       "    </tr>\n",
       "    <tr>\n",
       "      <th>криминал</th>\n",
       "      <td>3</td>\n",
       "      <td>1</td>\n",
       "      <td>0.3</td>\n",
       "    </tr>\n",
       "    <tr>\n",
       "      <th>фэнтези</th>\n",
       "      <td>11</td>\n",
       "      <td>3</td>\n",
       "      <td>0.3</td>\n",
       "    </tr>\n",
       "    <tr>\n",
       "      <th>драма</th>\n",
       "      <td>93</td>\n",
       "      <td>19</td>\n",
       "      <td>0.2</td>\n",
       "    </tr>\n",
       "    <tr>\n",
       "      <th>детектив</th>\n",
       "      <td>5</td>\n",
       "      <td>1</td>\n",
       "      <td>0.2</td>\n",
       "    </tr>\n",
       "    <tr>\n",
       "      <th>триллер</th>\n",
       "      <td>15</td>\n",
       "      <td>2</td>\n",
       "      <td>0.1</td>\n",
       "    </tr>\n",
       "    <tr>\n",
       "      <th>мелодрама</th>\n",
       "      <td>15</td>\n",
       "      <td>0</td>\n",
       "      <td>0.0</td>\n",
       "    </tr>\n",
       "    <tr>\n",
       "      <th>детский</th>\n",
       "      <td>4</td>\n",
       "      <td>0</td>\n",
       "      <td>0.0</td>\n",
       "    </tr>\n",
       "    <tr>\n",
       "      <th>мюзикл</th>\n",
       "      <td>4</td>\n",
       "      <td>0</td>\n",
       "      <td>0.0</td>\n",
       "    </tr>\n",
       "    <tr>\n",
       "      <th>реальное ТВ</th>\n",
       "      <td>1</td>\n",
       "      <td>0</td>\n",
       "      <td>0.0</td>\n",
       "    </tr>\n",
       "  </tbody>\n",
       "</table>\n",
       "</div>"
      ],
      "text/plain": [
       "             count  sum  mean\n",
       "main_genres                  \n",
       "спорт            3    3   1.0\n",
       "история          4    3   0.8\n",
       "приключения      7    5   0.7\n",
       "биография        3    2   0.7\n",
       "боевик           6    4   0.7\n",
       "мультфильм      31   20   0.6\n",
       "семейный         7    4   0.6\n",
       "фантастика      11    6   0.5\n",
       "ужасы           10    5   0.5\n",
       "комедия         74   35   0.5\n",
       "военный          9    4   0.4\n",
       "криминал         3    1   0.3\n",
       "фэнтези         11    3   0.3\n",
       "драма           93   19   0.2\n",
       "детектив         5    1   0.2\n",
       "триллер         15    2   0.1\n",
       "мелодрама       15    0   0.0\n",
       "детский          4    0   0.0\n",
       "мюзикл           4    0   0.0\n",
       "реальное ТВ      1    0   0.0"
      ]
     },
     "execution_count": 87,
     "metadata": {},
     "output_type": "execute_result"
    }
   ],
   "source": [
    "genre_is_paid_off = data_finance_support.pivot_table(index='main_genres', values='is_paid_off', aggfunc=['count', 'sum', 'mean'])\n",
    "genre_is_paid_off.columns = ['count', 'sum', 'mean']\n",
    "genre_is_paid_off.sort_values('mean', ascending=False)"
   ]
  },
  {
   "cell_type": "code",
   "execution_count": 88,
   "metadata": {},
   "outputs": [
    {
     "data": {
      "image/png": "[encoded data removed]",
      "text/plain": [
       "<Figure size 1440x720 with 1 Axes>"
      ]
     },
     "metadata": {
      "needs_background": "light"
     },
     "output_type": "display_data"
    }
   ],
   "source": [
    "genre_is_paid_off.sort_values('mean', ascending=False).plot(kind='bar', grid=True, figsize=(20,10), y=['mean']);\n",
    "plt.title('Средняя доля окупаемости фильмов по жанрам');\n",
    "plt.xlabel('жанр');\n",
    "plt.ylabel('средняя доля окупаемости');"
   ]
  },
  {
   "cell_type": "markdown",
   "metadata": {},
   "source": [
    "***Вывод:*** самые большие показатели окупаемости (а именно = 1, то есть фильмы данного жанра всегда безубыточны) - у фильмов спортивного жанра, а фильмы, которые не приносят достаточно прибыли - это мелодрамы, детские фильмы, мюзиклы и рекламное ТВ"
   ]
  },
  {
   "cell_type": "code",
   "execution_count": 89,
   "metadata": {},
   "outputs": [
    {
     "data": {
      "text/html": [
       "<div>\n",
       "<style scoped>\n",
       "    .dataframe tbody tr th:only-of-type {\n",
       "        vertical-align: middle;\n",
       "    }\n",
       "\n",
       "    .dataframe tbody tr th {\n",
       "        vertical-align: top;\n",
       "    }\n",
       "\n",
       "    .dataframe thead th {\n",
       "        text-align: right;\n",
       "    }\n",
       "</style>\n",
       "<table border=\"1\" class=\"dataframe\">\n",
       "  <thead>\n",
       "    <tr style=\"text-align: right;\">\n",
       "      <th></th>\n",
       "      <th>count</th>\n",
       "      <th>sum</th>\n",
       "      <th>mean</th>\n",
       "    </tr>\n",
       "    <tr>\n",
       "      <th>main_genres</th>\n",
       "      <th></th>\n",
       "      <th></th>\n",
       "      <th></th>\n",
       "    </tr>\n",
       "  </thead>\n",
       "  <tbody>\n",
       "    <tr>\n",
       "      <th>биография</th>\n",
       "      <td>3</td>\n",
       "      <td>13.5</td>\n",
       "      <td>4.5</td>\n",
       "    </tr>\n",
       "    <tr>\n",
       "      <th>приключения</th>\n",
       "      <td>6</td>\n",
       "      <td>22.8</td>\n",
       "      <td>3.8</td>\n",
       "    </tr>\n",
       "    <tr>\n",
       "      <th>спорт</th>\n",
       "      <td>3</td>\n",
       "      <td>9.5</td>\n",
       "      <td>3.2</td>\n",
       "    </tr>\n",
       "    <tr>\n",
       "      <th>комедия</th>\n",
       "      <td>73</td>\n",
       "      <td>168.8</td>\n",
       "      <td>2.3</td>\n",
       "    </tr>\n",
       "    <tr>\n",
       "      <th>военный</th>\n",
       "      <td>9</td>\n",
       "      <td>15.8</td>\n",
       "      <td>1.8</td>\n",
       "    </tr>\n",
       "    <tr>\n",
       "      <th>мультфильм</th>\n",
       "      <td>30</td>\n",
       "      <td>51.2</td>\n",
       "      <td>1.7</td>\n",
       "    </tr>\n",
       "    <tr>\n",
       "      <th>боевик</th>\n",
       "      <td>6</td>\n",
       "      <td>7.8</td>\n",
       "      <td>1.3</td>\n",
       "    </tr>\n",
       "    <tr>\n",
       "      <th>ужасы</th>\n",
       "      <td>10</td>\n",
       "      <td>8.1</td>\n",
       "      <td>0.8</td>\n",
       "    </tr>\n",
       "    <tr>\n",
       "      <th>семейный</th>\n",
       "      <td>6</td>\n",
       "      <td>3.3</td>\n",
       "      <td>0.6</td>\n",
       "    </tr>\n",
       "    <tr>\n",
       "      <th>фантастика</th>\n",
       "      <td>10</td>\n",
       "      <td>3.2</td>\n",
       "      <td>0.3</td>\n",
       "    </tr>\n",
       "    <tr>\n",
       "      <th>история</th>\n",
       "      <td>4</td>\n",
       "      <td>0.4</td>\n",
       "      <td>0.1</td>\n",
       "    </tr>\n",
       "    <tr>\n",
       "      <th>драма</th>\n",
       "      <td>87</td>\n",
       "      <td>1.9</td>\n",
       "      <td>0.0</td>\n",
       "    </tr>\n",
       "    <tr>\n",
       "      <th>фэнтези</th>\n",
       "      <td>11</td>\n",
       "      <td>-2.3</td>\n",
       "      <td>-0.2</td>\n",
       "    </tr>\n",
       "    <tr>\n",
       "      <th>триллер</th>\n",
       "      <td>15</td>\n",
       "      <td>-4.6</td>\n",
       "      <td>-0.3</td>\n",
       "    </tr>\n",
       "    <tr>\n",
       "      <th>реальное ТВ</th>\n",
       "      <td>1</td>\n",
       "      <td>-0.4</td>\n",
       "      <td>-0.4</td>\n",
       "    </tr>\n",
       "    <tr>\n",
       "      <th>криминал</th>\n",
       "      <td>3</td>\n",
       "      <td>-1.5</td>\n",
       "      <td>-0.5</td>\n",
       "    </tr>\n",
       "    <tr>\n",
       "      <th>детектив</th>\n",
       "      <td>5</td>\n",
       "      <td>-3.4</td>\n",
       "      <td>-0.7</td>\n",
       "    </tr>\n",
       "    <tr>\n",
       "      <th>мюзикл</th>\n",
       "      <td>4</td>\n",
       "      <td>-2.9</td>\n",
       "      <td>-0.7</td>\n",
       "    </tr>\n",
       "    <tr>\n",
       "      <th>мелодрама</th>\n",
       "      <td>14</td>\n",
       "      <td>-12.1</td>\n",
       "      <td>-0.9</td>\n",
       "    </tr>\n",
       "    <tr>\n",
       "      <th>детский</th>\n",
       "      <td>3</td>\n",
       "      <td>-2.9</td>\n",
       "      <td>-1.0</td>\n",
       "    </tr>\n",
       "  </tbody>\n",
       "</table>\n",
       "</div>"
      ],
      "text/plain": [
       "             count   sum  mean\n",
       "main_genres                   \n",
       "биография        3  13.5   4.5\n",
       "приключения      6  22.8   3.8\n",
       "спорт            3   9.5   3.2\n",
       "комедия         73 168.8   2.3\n",
       "военный          9  15.8   1.8\n",
       "мультфильм      30  51.2   1.7\n",
       "боевик           6   7.8   1.3\n",
       "ужасы           10   8.1   0.8\n",
       "семейный         6   3.3   0.6\n",
       "фантастика      10   3.2   0.3\n",
       "история          4   0.4   0.1\n",
       "драма           87   1.9   0.0\n",
       "фэнтези         11  -2.3  -0.2\n",
       "триллер         15  -4.6  -0.3\n",
       "реальное ТВ      1  -0.4  -0.4\n",
       "криминал         3  -1.5  -0.5\n",
       "детектив         5  -3.4  -0.7\n",
       "мюзикл           4  -2.9  -0.7\n",
       "мелодрама       14 -12.1  -0.9\n",
       "детский          3  -2.9  -1.0"
      ]
     },
     "execution_count": 89,
     "metadata": {},
     "output_type": "execute_result"
    }
   ],
   "source": [
    "genre_profitability = data_finance_support.pivot_table(index='main_genres', values='profitability', aggfunc=['count', 'sum', 'mean'])\n",
    "genre_profitability.columns = ['count', 'sum', 'mean']\n",
    "genre_profitability.sort_values('mean', ascending=False)"
   ]
  },
  {
   "cell_type": "code",
   "execution_count": 90,
   "metadata": {},
   "outputs": [
    {
     "data": {
      "image/png": "[encoded data removed]",
      "text/plain": [
       "<Figure size 1440x720 with 1 Axes>"
      ]
     },
     "metadata": {
      "needs_background": "light"
     },
     "output_type": "display_data"
    }
   ],
   "source": [
    "genre_profitability.sort_values('mean', ascending=False).plot(kind='bar', grid=True, figsize=(20,10), y=['mean']);\n",
    "plt.title('Средняя рентабельность фильма');\n",
    "plt.xlabel('жанр');\n",
    "plt.ylabel('средняя рентабельность фильмов');"
   ]
  },
  {
   "cell_type": "markdown",
   "metadata": {},
   "source": [
    "***Вывод:*** биографические, приключенческие и спортивные фильмы имеют самую высокую прибыльность, в то время как фильмы следующих жанров имеют убыточную рентабельность: фэнтези, триллер, рекламное ТВ, криминал, детектив, мюзикл, мелодрама, детские фильмы."
   ]
  },
  {
   "cell_type": "markdown",
   "metadata": {
    "id": "V2gYwMcPgFyd"
   },
   "source": [
    "## Общий вывод"
   ]
  },
  {
   "cell_type": "markdown",
   "metadata": {},
   "source": [
    "**Данный проект был нацелен на изучение рынка российского кинопроката и выявление текущих трендов.**\n",
    "\n",
    "<br>***В ходе работы над проектом:***\n",
    "1. Проанализированы общие сведения о датафрейме\n",
    "2. Обработаны пропущенные значения в столбцах\n",
    "3. Изменены типы данных некоторых столбцов\n",
    "4. Обработаны неявные дубликаты\n",
    "5. Обработаны подозрительные количественные значения\n",
    "6. Добавлены новые столбцы, а именно: с информацией о годе проката; с именем и фамилией главного режиссёра; основным жанром фильма\n",
    "7. Найдено, какую долю от общего бюджета фильма составляет государственная поддержка\n",
    "8. Проанализировано, как доля фильмов с указанной информацией о прокате в кинотеатрах менялась по годам\n",
    "9. Изучено, как менялась динамика проката по годам, в каком году сумма сборов была минимальной и максимальной\n",
    "10. Посчитаны средняя и медианная сумма сборов для каждого года\n",
    "11. Проанализировано влияние возрастного ограничение аудитории на сборы фильма в прокате в период с 2015 по 2019 год\n",
    "12. Изучены фильмы, получившие государственную поддержку\n",
    "\n",
    "<br>***Из проведенного анализа можно сделать следующие выводы:***\n",
    "1. Количество фильмов, для которых есть информация о прокате в кинотеатрах: 3158\n",
    "2. Доля фильмов, для которых есть информация о прокате в кинотеатрах: 0.42185412770504943\n",
    "3. Cумма сборов была максимальной в 2018 году\n",
    "4. Cумма сборов была минимальной в 2010 году\n",
    "5. Больше всего денег с прокатов собрали фильмы с возрастным ограничением - 16+, меньше всего - фильмы с ограничением 0+.\n",
    "<br>Однако фильмы с огрничением 12+ вели себя нестабильно на протяжении 2015-2019:\n",
    "- в 2015 году они были самыми кассовыми\n",
    "- в 2016 году почти сравнялись с фильмами с ограничением 6+\n",
    "- в 2017 их сборы сильно упали и стали ниже сборов фильмом с ограниченями: 16+, 6+ и 18+ соответственно\n",
    "- в 2018 они снова стали 2-ми по сборам и приблизились к фильмам с ограничением - 16+\n",
    "- в 2019 же фильмы с ограничениями: 6+, 16+, 12+ приблизились почти к равному показателю сборов\n",
    "\n",
    "6. Больше сборов получили фильмы, поддерживаемые Фондом кино, меньше всего поддерживаемые Министерством культуры и Фондом кино, соберем эти фильмы в один датафрейм\n",
    "7. Драмы, комедии и мультфильмы получили наибольшую государственную поддержку, рекламное ТВ - наименьшую\n",
    "8. Жанры с самыми высокими рейтингами - криминал, детский и спорт, а семейный, исторический и ужасы имеют самые низкие рейтинги соответственно\n",
    "9. Самые большие показатели окупаемости (а именно = 1, то есть фильмы данного жанра всегда безубыточны) - у фильмов спортивного жанра, а фильмы, которые не приносят достаточно прибыли - это мелодрамы, детские фильмы, мюзиклы и рекламное ТВ\n",
    "10. биографические, приключенческие и спортивные фильмы имеют самую высокую прибыльность, в то время как фильмы следующих жанров имеют убыточную рентабельность: фэнтези, триллер, рекламное ТВ, криминал, детектив, мюзикл, мелодрама, детские фильмы"
   ]
  }
 ],
 "metadata": {
  "ExecuteTimeLog": [
   {
    "duration": 537,
    "start_time": "2021-07-07T10:12:08.634Z"
   },
   {
    "duration": 206,
    "start_time": "2021-07-07T10:12:30.191Z"
   },
   {
    "duration": 227,
    "start_time": "2021-07-07T10:12:33.078Z"
   },
   {
    "duration": 153,
    "start_time": "2021-07-07T10:13:42.146Z"
   },
   {
    "duration": 233,
    "start_time": "2021-07-07T10:30:09.252Z"
   },
   {
    "duration": 19,
    "start_time": "2021-07-07T10:30:15.577Z"
   },
   {
    "duration": 18,
    "start_time": "2021-07-07T10:30:57.348Z"
   },
   {
    "duration": 19,
    "start_time": "2021-07-07T10:31:17.452Z"
   },
   {
    "duration": 21,
    "start_time": "2021-07-07T10:31:32.227Z"
   },
   {
    "duration": 27,
    "start_time": "2021-07-07T10:32:06.588Z"
   },
   {
    "duration": 23,
    "start_time": "2021-07-07T10:32:43.645Z"
   },
   {
    "duration": 24,
    "start_time": "2021-07-07T10:33:06.948Z"
   },
   {
    "duration": 7,
    "start_time": "2021-07-07T10:33:28.558Z"
   },
   {
    "duration": 23,
    "start_time": "2021-07-07T10:33:43.761Z"
   },
   {
    "duration": 28,
    "start_time": "2021-07-07T10:34:13.466Z"
   },
   {
    "duration": 23,
    "start_time": "2021-07-07T10:35:56.187Z"
   },
   {
    "duration": 6,
    "start_time": "2021-07-07T10:36:48.182Z"
   },
   {
    "duration": 14,
    "start_time": "2021-07-07T10:37:49.641Z"
   },
   {
    "duration": 6,
    "start_time": "2021-07-07T10:38:06.694Z"
   },
   {
    "duration": 6,
    "start_time": "2021-07-07T10:38:13.493Z"
   },
   {
    "duration": 19,
    "start_time": "2021-07-07T10:38:44.056Z"
   },
   {
    "duration": 186,
    "start_time": "2021-07-07T10:48:35.618Z"
   },
   {
    "duration": 24,
    "start_time": "2021-07-07T10:48:51.498Z"
   },
   {
    "duration": 20,
    "start_time": "2021-07-07T10:48:59.415Z"
   },
   {
    "duration": 20,
    "start_time": "2021-07-07T10:53:02.195Z"
   },
   {
    "duration": 188,
    "start_time": "2021-07-07T10:54:40.486Z"
   },
   {
    "duration": 115,
    "start_time": "2021-07-07T10:54:52.552Z"
   },
   {
    "duration": 214,
    "start_time": "2021-07-07T10:54:56.354Z"
   },
   {
    "duration": 47,
    "start_time": "2021-07-07T10:54:58.282Z"
   },
   {
    "duration": 217,
    "start_time": "2021-07-07T10:59:16.075Z"
   },
   {
    "duration": 51,
    "start_time": "2021-07-07T10:59:16.243Z"
   },
   {
    "duration": 578,
    "start_time": "2021-07-07T10:59:18.774Z"
   },
   {
    "duration": 161,
    "start_time": "2021-07-07T10:59:21.238Z"
   },
   {
    "duration": 59,
    "start_time": "2021-07-07T10:59:21.453Z"
   },
   {
    "duration": 3,
    "start_time": "2021-07-07T11:02:10.786Z"
   },
   {
    "duration": 13,
    "start_time": "2021-07-07T11:07:07.722Z"
   },
   {
    "duration": 26,
    "start_time": "2021-07-07T11:07:17.958Z"
   },
   {
    "duration": 22,
    "start_time": "2021-07-07T11:08:17.939Z"
   },
   {
    "duration": 212,
    "start_time": "2021-07-07T11:08:19.665Z"
   },
   {
    "duration": 21,
    "start_time": "2021-07-07T11:08:29.945Z"
   },
   {
    "duration": 31,
    "start_time": "2021-07-07T11:08:38.899Z"
   },
   {
    "duration": 23,
    "start_time": "2021-07-07T11:08:54.527Z"
   },
   {
    "duration": 8,
    "start_time": "2021-07-07T11:18:55.974Z"
   },
   {
    "duration": 7,
    "start_time": "2021-07-07T11:19:03.639Z"
   },
   {
    "duration": 7,
    "start_time": "2021-07-07T11:19:06.444Z"
   },
   {
    "duration": 578,
    "start_time": "2021-07-07T12:09:59.576Z"
   },
   {
    "duration": 195,
    "start_time": "2021-07-07T12:10:00.156Z"
   },
   {
    "duration": 115,
    "start_time": "2021-07-07T12:10:00.353Z"
   },
   {
    "duration": 3,
    "start_time": "2021-07-07T12:10:00.470Z"
   },
   {
    "duration": 32,
    "start_time": "2021-07-07T12:10:00.474Z"
   },
   {
    "duration": 23,
    "start_time": "2021-07-07T12:10:00.508Z"
   },
   {
    "duration": 19,
    "start_time": "2021-07-07T12:10:00.533Z"
   },
   {
    "duration": 44,
    "start_time": "2021-07-07T12:10:00.553Z"
   },
   {
    "duration": 7,
    "start_time": "2021-07-07T12:10:00.600Z"
   },
   {
    "duration": 7,
    "start_time": "2021-07-07T12:19:45.761Z"
   },
   {
    "duration": 21,
    "start_time": "2021-07-07T12:21:35.482Z"
   },
   {
    "duration": 21,
    "start_time": "2021-07-07T12:29:23.569Z"
   },
   {
    "duration": 525,
    "start_time": "2021-07-07T12:29:44.542Z"
   },
   {
    "duration": 214,
    "start_time": "2021-07-07T12:29:45.069Z"
   },
   {
    "duration": 92,
    "start_time": "2021-07-07T12:29:45.285Z"
   },
   {
    "duration": 3,
    "start_time": "2021-07-07T12:29:45.379Z"
   },
   {
    "duration": 28,
    "start_time": "2021-07-07T12:29:45.384Z"
   },
   {
    "duration": 23,
    "start_time": "2021-07-07T12:29:45.413Z"
   },
   {
    "duration": 21,
    "start_time": "2021-07-07T12:29:45.437Z"
   },
   {
    "duration": 41,
    "start_time": "2021-07-07T12:29:45.460Z"
   },
   {
    "duration": 7,
    "start_time": "2021-07-07T12:29:45.502Z"
   },
   {
    "duration": 20,
    "start_time": "2021-07-07T12:29:45.511Z"
   },
   {
    "duration": 12,
    "start_time": "2021-07-07T12:34:02.800Z"
   },
   {
    "duration": 7,
    "start_time": "2021-07-07T12:35:10.479Z"
   },
   {
    "duration": 8,
    "start_time": "2021-07-07T12:35:22.440Z"
   },
   {
    "duration": 6,
    "start_time": "2021-07-07T12:35:35.649Z"
   },
   {
    "duration": 6,
    "start_time": "2021-07-07T12:35:43.107Z"
   },
   {
    "duration": 22,
    "start_time": "2021-07-07T12:38:03.029Z"
   },
   {
    "duration": 10,
    "start_time": "2021-07-07T12:38:06.592Z"
   },
   {
    "duration": 563,
    "start_time": "2021-07-07T12:38:46.493Z"
   },
   {
    "duration": 265,
    "start_time": "2021-07-07T12:38:47.058Z"
   },
   {
    "duration": 94,
    "start_time": "2021-07-07T12:38:47.325Z"
   },
   {
    "duration": 3,
    "start_time": "2021-07-07T12:38:47.422Z"
   },
   {
    "duration": 30,
    "start_time": "2021-07-07T12:38:47.427Z"
   },
   {
    "duration": 16,
    "start_time": "2021-07-07T12:38:53.305Z"
   },
   {
    "duration": 10,
    "start_time": "2021-07-07T12:38:53.499Z"
   },
   {
    "duration": 8,
    "start_time": "2021-07-07T12:39:48.161Z"
   },
   {
    "duration": 27,
    "start_time": "2021-07-07T12:41:17.629Z"
   },
   {
    "duration": 17,
    "start_time": "2021-07-07T12:41:17.867Z"
   },
   {
    "duration": 21,
    "start_time": "2021-07-07T12:41:19.310Z"
   },
   {
    "duration": 7,
    "start_time": "2021-07-07T12:41:19.544Z"
   },
   {
    "duration": 20,
    "start_time": "2021-07-07T12:41:20.504Z"
   },
   {
    "duration": 554,
    "start_time": "2021-07-07T12:56:23.696Z"
   },
   {
    "duration": 200,
    "start_time": "2021-07-07T12:56:25.234Z"
   },
   {
    "duration": 119,
    "start_time": "2021-07-07T12:56:25.480Z"
   },
   {
    "duration": 4,
    "start_time": "2021-07-07T12:56:25.762Z"
   },
   {
    "duration": 26,
    "start_time": "2021-07-07T12:56:27.172Z"
   },
   {
    "duration": 12,
    "start_time": "2021-07-07T12:56:29.051Z"
   },
   {
    "duration": 10,
    "start_time": "2021-07-07T12:56:29.291Z"
   },
   {
    "duration": 8,
    "start_time": "2021-07-07T12:56:29.623Z"
   },
   {
    "duration": 28,
    "start_time": "2021-07-07T12:56:32.137Z"
   },
   {
    "duration": 19,
    "start_time": "2021-07-07T12:56:39.785Z"
   },
   {
    "duration": 20,
    "start_time": "2021-07-07T12:56:44.297Z"
   },
   {
    "duration": 7,
    "start_time": "2021-07-07T12:56:45.392Z"
   },
   {
    "duration": 23,
    "start_time": "2021-07-07T12:56:46.615Z"
   },
   {
    "duration": 4,
    "start_time": "2021-07-07T12:57:06.625Z"
   },
   {
    "duration": 32,
    "start_time": "2021-07-07T12:57:36.690Z"
   },
   {
    "duration": 18,
    "start_time": "2021-07-07T12:58:00.149Z"
   },
   {
    "duration": 15,
    "start_time": "2021-07-07T12:59:16.793Z"
   },
   {
    "duration": 7,
    "start_time": "2021-07-07T13:19:22.624Z"
   },
   {
    "duration": 6,
    "start_time": "2021-07-07T14:17:33.527Z"
   },
   {
    "duration": 9,
    "start_time": "2021-07-07T14:17:48.409Z"
   },
   {
    "duration": 8,
    "start_time": "2021-07-07T14:20:13.060Z"
   },
   {
    "duration": 8,
    "start_time": "2021-07-07T14:20:37.957Z"
   },
   {
    "duration": 8,
    "start_time": "2021-07-07T14:20:47.470Z"
   },
   {
    "duration": 9,
    "start_time": "2021-07-07T14:20:54.503Z"
   },
   {
    "duration": 10,
    "start_time": "2021-07-07T14:28:57.763Z"
   },
   {
    "duration": 3,
    "start_time": "2021-07-07T14:30:23.377Z"
   },
   {
    "duration": 3,
    "start_time": "2021-07-07T14:30:36.489Z"
   },
   {
    "duration": 103,
    "start_time": "2021-07-07T14:30:52.351Z"
   },
   {
    "duration": 8,
    "start_time": "2021-07-07T14:30:54.763Z"
   },
   {
    "duration": 8,
    "start_time": "2021-07-07T14:31:29.301Z"
   },
   {
    "duration": 13,
    "start_time": "2021-07-07T14:31:44.516Z"
   },
   {
    "duration": 7,
    "start_time": "2021-07-07T14:33:10.972Z"
   },
   {
    "duration": 11,
    "start_time": "2021-07-07T14:33:27.780Z"
   },
   {
    "duration": 8,
    "start_time": "2021-07-07T14:34:44.588Z"
   },
   {
    "duration": 57,
    "start_time": "2021-07-07T14:35:59.042Z"
   },
   {
    "duration": 3,
    "start_time": "2021-07-07T14:36:28.168Z"
   },
   {
    "duration": 5,
    "start_time": "2021-07-07T14:36:46.254Z"
   },
   {
    "duration": 4,
    "start_time": "2021-07-07T14:36:52.714Z"
   },
   {
    "duration": 3,
    "start_time": "2021-07-07T14:36:56.612Z"
   },
   {
    "duration": 4,
    "start_time": "2021-07-07T14:36:57.049Z"
   },
   {
    "duration": 3,
    "start_time": "2021-07-07T14:39:21.214Z"
   },
   {
    "duration": 7,
    "start_time": "2021-07-07T14:39:52.406Z"
   },
   {
    "duration": 11,
    "start_time": "2021-07-07T14:39:58.576Z"
   },
   {
    "duration": 9,
    "start_time": "2021-07-07T14:40:26.301Z"
   },
   {
    "duration": 10,
    "start_time": "2021-07-07T14:40:31.704Z"
   },
   {
    "duration": 11,
    "start_time": "2021-07-07T14:40:36.249Z"
   },
   {
    "duration": 10,
    "start_time": "2021-07-07T14:40:39.783Z"
   },
   {
    "duration": 9,
    "start_time": "2021-07-07T14:40:48.558Z"
   },
   {
    "duration": 10,
    "start_time": "2021-07-07T14:40:57.143Z"
   },
   {
    "duration": 9,
    "start_time": "2021-07-07T14:41:06.074Z"
   },
   {
    "duration": 4324,
    "start_time": "2021-07-07T14:41:22.004Z"
   },
   {
    "duration": 11,
    "start_time": "2021-07-07T14:41:33.392Z"
   },
   {
    "duration": 9,
    "start_time": "2021-07-07T14:41:39.288Z"
   },
   {
    "duration": 569,
    "start_time": "2021-07-07T14:42:14.387Z"
   },
   {
    "duration": 197,
    "start_time": "2021-07-07T14:42:14.959Z"
   },
   {
    "duration": 84,
    "start_time": "2021-07-07T14:42:16.052Z"
   },
   {
    "duration": 4,
    "start_time": "2021-07-07T14:42:16.900Z"
   },
   {
    "duration": 27,
    "start_time": "2021-07-07T14:42:19.898Z"
   },
   {
    "duration": 12,
    "start_time": "2021-07-07T14:42:21.577Z"
   },
   {
    "duration": 9,
    "start_time": "2021-07-07T14:42:21.813Z"
   },
   {
    "duration": 9,
    "start_time": "2021-07-07T14:42:22.569Z"
   },
   {
    "duration": 29,
    "start_time": "2021-07-07T14:42:25.837Z"
   },
   {
    "duration": 20,
    "start_time": "2021-07-07T14:42:27.003Z"
   },
   {
    "duration": 21,
    "start_time": "2021-07-07T14:42:28.767Z"
   },
   {
    "duration": 7,
    "start_time": "2021-07-07T14:42:29.838Z"
   },
   {
    "duration": 4,
    "start_time": "2021-07-07T14:43:25.493Z"
   },
   {
    "duration": 7,
    "start_time": "2021-07-07T14:43:26.573Z"
   },
   {
    "duration": 10,
    "start_time": "2021-07-07T14:43:31.639Z"
   },
   {
    "duration": 9,
    "start_time": "2021-07-07T14:43:32.046Z"
   },
   {
    "duration": 10,
    "start_time": "2021-07-07T14:43:33.301Z"
   },
   {
    "duration": 12,
    "start_time": "2021-07-07T14:43:33.658Z"
   },
   {
    "duration": 8,
    "start_time": "2021-07-07T14:43:34.552Z"
   },
   {
    "duration": 9,
    "start_time": "2021-07-07T14:43:35.058Z"
   },
   {
    "duration": 12,
    "start_time": "2021-07-07T14:43:35.914Z"
   },
   {
    "duration": 17,
    "start_time": "2021-07-07T14:45:34.368Z"
   },
   {
    "duration": 512,
    "start_time": "2021-07-07T14:51:58.236Z"
   },
   {
    "duration": 223,
    "start_time": "2021-07-07T14:51:58.750Z"
   },
   {
    "duration": 93,
    "start_time": "2021-07-07T14:51:58.977Z"
   },
   {
    "duration": 4,
    "start_time": "2021-07-07T14:51:59.071Z"
   },
   {
    "duration": 37,
    "start_time": "2021-07-07T14:51:59.077Z"
   },
   {
    "duration": 18,
    "start_time": "2021-07-07T14:51:59.116Z"
   },
   {
    "duration": 10,
    "start_time": "2021-07-07T14:51:59.137Z"
   },
   {
    "duration": 8,
    "start_time": "2021-07-07T14:51:59.149Z"
   },
   {
    "duration": 54,
    "start_time": "2021-07-07T14:51:59.158Z"
   },
   {
    "duration": 18,
    "start_time": "2021-07-07T14:51:59.213Z"
   },
   {
    "duration": 22,
    "start_time": "2021-07-07T14:51:59.232Z"
   },
   {
    "duration": 36,
    "start_time": "2021-07-07T14:51:59.255Z"
   },
   {
    "duration": 7,
    "start_time": "2021-07-07T14:51:59.293Z"
   },
   {
    "duration": 10,
    "start_time": "2021-07-07T14:51:59.302Z"
   },
   {
    "duration": 9,
    "start_time": "2021-07-07T14:51:59.313Z"
   },
   {
    "duration": 11,
    "start_time": "2021-07-07T14:51:59.324Z"
   },
   {
    "duration": 8,
    "start_time": "2021-07-07T14:51:59.337Z"
   },
   {
    "duration": 46,
    "start_time": "2021-07-07T14:51:59.347Z"
   },
   {
    "duration": 22,
    "start_time": "2021-07-07T14:51:59.395Z"
   },
   {
    "duration": 24,
    "start_time": "2021-07-07T14:57:32.911Z"
   },
   {
    "duration": 7,
    "start_time": "2021-07-07T14:58:22.070Z"
   },
   {
    "duration": 4,
    "start_time": "2021-07-07T14:59:11.239Z"
   },
   {
    "duration": 25,
    "start_time": "2021-07-07T15:07:22.208Z"
   },
   {
    "duration": 16,
    "start_time": "2021-07-07T15:08:25.560Z"
   },
   {
    "duration": 15,
    "start_time": "2021-07-07T15:08:40.647Z"
   },
   {
    "duration": 14,
    "start_time": "2021-07-07T15:08:46.669Z"
   },
   {
    "duration": 533,
    "start_time": "2021-07-07T15:18:07.440Z"
   },
   {
    "duration": 173,
    "start_time": "2021-07-07T15:18:07.974Z"
   },
   {
    "duration": 84,
    "start_time": "2021-07-07T15:18:08.149Z"
   },
   {
    "duration": 3,
    "start_time": "2021-07-07T15:18:08.235Z"
   },
   {
    "duration": 30,
    "start_time": "2021-07-07T15:18:08.240Z"
   },
   {
    "duration": 22,
    "start_time": "2021-07-07T15:18:08.272Z"
   },
   {
    "duration": 11,
    "start_time": "2021-07-07T15:18:08.295Z"
   },
   {
    "duration": 11,
    "start_time": "2021-07-07T15:18:08.309Z"
   },
   {
    "duration": 40,
    "start_time": "2021-07-07T15:18:08.322Z"
   },
   {
    "duration": 42,
    "start_time": "2021-07-07T15:18:08.364Z"
   },
   {
    "duration": 22,
    "start_time": "2021-07-07T15:18:08.408Z"
   },
   {
    "duration": 5,
    "start_time": "2021-07-07T15:18:08.432Z"
   },
   {
    "duration": 13,
    "start_time": "2021-07-07T15:18:08.439Z"
   },
   {
    "duration": 9,
    "start_time": "2021-07-07T15:18:08.454Z"
   },
   {
    "duration": 32,
    "start_time": "2021-07-07T15:18:08.465Z"
   },
   {
    "duration": 10,
    "start_time": "2021-07-07T15:18:08.501Z"
   },
   {
    "duration": 7,
    "start_time": "2021-07-07T15:18:08.513Z"
   },
   {
    "duration": 11,
    "start_time": "2021-07-07T15:18:08.521Z"
   },
   {
    "duration": 17,
    "start_time": "2021-07-07T15:18:08.534Z"
   },
   {
    "duration": 44,
    "start_time": "2021-07-07T15:18:08.553Z"
   },
   {
    "duration": 22,
    "start_time": "2021-07-07T15:18:08.599Z"
   },
   {
    "duration": 61,
    "start_time": "2021-07-07T15:18:08.622Z"
   },
   {
    "duration": 7,
    "start_time": "2021-07-07T15:18:39.457Z"
   },
   {
    "duration": 5,
    "start_time": "2021-07-07T16:05:17.020Z"
   },
   {
    "duration": 5,
    "start_time": "2021-07-07T16:51:28.794Z"
   },
   {
    "duration": 546,
    "start_time": "2021-07-07T16:52:26.306Z"
   },
   {
    "duration": 203,
    "start_time": "2021-07-07T16:52:27.523Z"
   },
   {
    "duration": 85,
    "start_time": "2021-07-07T16:52:27.736Z"
   },
   {
    "duration": 4,
    "start_time": "2021-07-07T16:52:27.899Z"
   },
   {
    "duration": 25,
    "start_time": "2021-07-07T16:52:28.674Z"
   },
   {
    "duration": 8,
    "start_time": "2021-07-07T16:52:32.956Z"
   },
   {
    "duration": 18,
    "start_time": "2021-07-07T16:52:35.616Z"
   },
   {
    "duration": 6,
    "start_time": "2021-07-07T16:52:36.913Z"
   },
   {
    "duration": 11,
    "start_time": "2021-07-07T16:52:40.258Z"
   },
   {
    "duration": 10,
    "start_time": "2021-07-07T16:52:46.251Z"
   },
   {
    "duration": 8,
    "start_time": "2021-07-07T16:52:47.182Z"
   },
   {
    "duration": 27,
    "start_time": "2021-07-07T16:53:20.391Z"
   },
   {
    "duration": 20,
    "start_time": "2021-07-07T16:53:22.022Z"
   },
   {
    "duration": 23,
    "start_time": "2021-07-07T16:53:23.690Z"
   },
   {
    "duration": 8,
    "start_time": "2021-07-07T16:53:24.261Z"
   },
   {
    "duration": 4,
    "start_time": "2021-07-07T16:53:38.733Z"
   },
   {
    "duration": 7,
    "start_time": "2021-07-07T16:53:40.445Z"
   },
   {
    "duration": 11,
    "start_time": "2021-07-07T16:53:41.348Z"
   },
   {
    "duration": 13,
    "start_time": "2021-07-07T16:53:45.250Z"
   },
   {
    "duration": 12,
    "start_time": "2021-07-07T16:53:45.467Z"
   },
   {
    "duration": 4,
    "start_time": "2021-07-07T16:55:32.704Z"
   },
   {
    "duration": 12,
    "start_time": "2021-07-07T16:55:49.012Z"
   },
   {
    "duration": 18,
    "start_time": "2021-07-07T16:55:49.547Z"
   },
   {
    "duration": 611,
    "start_time": "2021-07-07T16:58:35.156Z"
   },
   {
    "duration": 200,
    "start_time": "2021-07-07T16:58:35.770Z"
   },
   {
    "duration": 86,
    "start_time": "2021-07-07T16:58:35.972Z"
   },
   {
    "duration": 3,
    "start_time": "2021-07-07T16:58:36.060Z"
   },
   {
    "duration": 27,
    "start_time": "2021-07-07T16:58:36.065Z"
   },
   {
    "duration": 8,
    "start_time": "2021-07-07T16:58:36.094Z"
   },
   {
    "duration": 17,
    "start_time": "2021-07-07T16:58:36.103Z"
   },
   {
    "duration": 5,
    "start_time": "2021-07-07T16:58:36.123Z"
   },
   {
    "duration": 11,
    "start_time": "2021-07-07T16:58:36.130Z"
   },
   {
    "duration": 7,
    "start_time": "2021-07-07T16:58:36.143Z"
   },
   {
    "duration": 37,
    "start_time": "2021-07-07T16:58:36.152Z"
   },
   {
    "duration": 27,
    "start_time": "2021-07-07T16:58:36.191Z"
   },
   {
    "duration": 19,
    "start_time": "2021-07-07T16:58:36.219Z"
   },
   {
    "duration": 49,
    "start_time": "2021-07-07T16:58:36.240Z"
   },
   {
    "duration": 6,
    "start_time": "2021-07-07T16:58:36.291Z"
   },
   {
    "duration": 3,
    "start_time": "2021-07-07T16:58:36.299Z"
   },
   {
    "duration": 13,
    "start_time": "2021-07-07T16:58:36.304Z"
   },
   {
    "duration": 10,
    "start_time": "2021-07-07T16:58:36.319Z"
   },
   {
    "duration": 10,
    "start_time": "2021-07-07T16:58:36.331Z"
   },
   {
    "duration": 44,
    "start_time": "2021-07-07T16:58:36.343Z"
   },
   {
    "duration": 4,
    "start_time": "2021-07-07T16:58:36.388Z"
   },
   {
    "duration": 13,
    "start_time": "2021-07-07T16:58:36.394Z"
   },
   {
    "duration": 16,
    "start_time": "2021-07-07T16:58:36.410Z"
   },
   {
    "duration": 8,
    "start_time": "2021-07-07T17:02:31.629Z"
   },
   {
    "duration": 8,
    "start_time": "2021-07-07T17:02:34.308Z"
   },
   {
    "duration": 6,
    "start_time": "2021-07-07T17:05:13.483Z"
   },
   {
    "duration": 17,
    "start_time": "2021-07-07T17:05:20.606Z"
   },
   {
    "duration": 7,
    "start_time": "2021-07-07T17:05:34.638Z"
   },
   {
    "duration": 3,
    "start_time": "2021-07-07T17:06:31.883Z"
   },
   {
    "duration": 570,
    "start_time": "2021-07-07T17:06:37.165Z"
   },
   {
    "duration": 174,
    "start_time": "2021-07-07T17:06:37.737Z"
   },
   {
    "duration": 47,
    "start_time": "2021-07-07T17:06:37.913Z"
   },
   {
    "duration": 3,
    "start_time": "2021-07-07T17:06:37.962Z"
   },
   {
    "duration": 27,
    "start_time": "2021-07-07T17:06:37.967Z"
   },
   {
    "duration": 7,
    "start_time": "2021-07-07T17:06:37.996Z"
   },
   {
    "duration": 16,
    "start_time": "2021-07-07T17:06:38.005Z"
   },
   {
    "duration": 6,
    "start_time": "2021-07-07T17:06:38.024Z"
   },
   {
    "duration": 12,
    "start_time": "2021-07-07T17:06:38.031Z"
   },
   {
    "duration": 41,
    "start_time": "2021-07-07T17:06:38.045Z"
   },
   {
    "duration": 8,
    "start_time": "2021-07-07T17:06:38.088Z"
   },
   {
    "duration": 26,
    "start_time": "2021-07-07T17:06:38.098Z"
   },
   {
    "duration": 17,
    "start_time": "2021-07-07T17:06:38.126Z"
   },
   {
    "duration": 43,
    "start_time": "2021-07-07T17:06:38.144Z"
   },
   {
    "duration": 6,
    "start_time": "2021-07-07T17:06:38.188Z"
   },
   {
    "duration": 5,
    "start_time": "2021-07-07T17:06:38.195Z"
   },
   {
    "duration": 9,
    "start_time": "2021-07-07T17:06:38.201Z"
   },
   {
    "duration": 12,
    "start_time": "2021-07-07T17:06:38.212Z"
   },
   {
    "duration": 11,
    "start_time": "2021-07-07T17:06:38.226Z"
   },
   {
    "duration": 47,
    "start_time": "2021-07-07T17:06:38.239Z"
   },
   {
    "duration": 4,
    "start_time": "2021-07-07T17:06:38.288Z"
   },
   {
    "duration": 13,
    "start_time": "2021-07-07T17:06:38.293Z"
   },
   {
    "duration": 5,
    "start_time": "2021-07-07T17:06:38.309Z"
   },
   {
    "duration": 18,
    "start_time": "2021-07-07T17:06:38.325Z"
   },
   {
    "duration": 20,
    "start_time": "2021-07-07T17:07:02.805Z"
   },
   {
    "duration": 19,
    "start_time": "2021-07-07T17:07:08.527Z"
   },
   {
    "duration": 19,
    "start_time": "2021-07-07T17:07:12.758Z"
   },
   {
    "duration": 22,
    "start_time": "2021-07-07T17:07:17.497Z"
   },
   {
    "duration": 19,
    "start_time": "2021-07-07T17:07:19.645Z"
   },
   {
    "duration": 10,
    "start_time": "2021-07-07T17:07:34.239Z"
   },
   {
    "duration": 17,
    "start_time": "2021-07-07T17:07:54.144Z"
   },
   {
    "duration": 14,
    "start_time": "2021-07-07T17:08:14.357Z"
   },
   {
    "duration": 616,
    "start_time": "2021-07-07T17:08:45.254Z"
   },
   {
    "duration": 178,
    "start_time": "2021-07-07T17:08:45.872Z"
   },
   {
    "duration": 60,
    "start_time": "2021-07-07T17:08:46.054Z"
   },
   {
    "duration": 3,
    "start_time": "2021-07-07T17:08:46.116Z"
   },
   {
    "duration": 26,
    "start_time": "2021-07-07T17:08:46.121Z"
   },
   {
    "duration": 7,
    "start_time": "2021-07-07T17:08:46.149Z"
   },
   {
    "duration": 17,
    "start_time": "2021-07-07T17:08:46.158Z"
   },
   {
    "duration": 14,
    "start_time": "2021-07-07T17:08:46.176Z"
   },
   {
    "duration": 17,
    "start_time": "2021-07-07T17:08:46.193Z"
   },
   {
    "duration": 9,
    "start_time": "2021-07-07T17:08:46.211Z"
   },
   {
    "duration": 21,
    "start_time": "2021-07-07T17:08:46.221Z"
   },
   {
    "duration": 49,
    "start_time": "2021-07-07T17:08:46.244Z"
   },
   {
    "duration": 24,
    "start_time": "2021-07-07T17:08:46.295Z"
   },
   {
    "duration": 22,
    "start_time": "2021-07-07T17:08:46.321Z"
   },
   {
    "duration": 6,
    "start_time": "2021-07-07T17:08:46.345Z"
   },
   {
    "duration": 5,
    "start_time": "2021-07-07T17:08:46.353Z"
   },
   {
    "duration": 13,
    "start_time": "2021-07-07T17:08:46.386Z"
   },
   {
    "duration": 12,
    "start_time": "2021-07-07T17:08:46.402Z"
   },
   {
    "duration": 10,
    "start_time": "2021-07-07T17:08:46.415Z"
   },
   {
    "duration": 7,
    "start_time": "2021-07-07T17:08:46.427Z"
   },
   {
    "duration": 8,
    "start_time": "2021-07-07T17:08:46.435Z"
   },
   {
    "duration": 68,
    "start_time": "2021-07-07T17:08:46.446Z"
   },
   {
    "duration": 13,
    "start_time": "2021-07-07T17:08:46.516Z"
   },
   {
    "duration": 78,
    "start_time": "2021-07-07T17:08:46.530Z"
   },
   {
    "duration": 40,
    "start_time": "2021-07-07T17:09:08.185Z"
   },
   {
    "duration": 16,
    "start_time": "2021-07-07T17:09:19.324Z"
   },
   {
    "duration": 21,
    "start_time": "2021-07-07T17:09:23.290Z"
   },
   {
    "duration": 13,
    "start_time": "2021-07-07T17:09:54.812Z"
   },
   {
    "duration": 13,
    "start_time": "2021-07-07T17:10:02.039Z"
   },
   {
    "duration": 10,
    "start_time": "2021-07-07T17:10:29.632Z"
   },
   {
    "duration": 13,
    "start_time": "2021-07-07T17:10:52.372Z"
   },
   {
    "duration": 13,
    "start_time": "2021-07-07T17:11:17.270Z"
   },
   {
    "duration": 13,
    "start_time": "2021-07-07T17:14:59.284Z"
   },
   {
    "duration": 547,
    "start_time": "2021-07-07T17:18:52.403Z"
   },
   {
    "duration": 163,
    "start_time": "2021-07-07T17:18:52.952Z"
   },
   {
    "duration": 44,
    "start_time": "2021-07-07T17:18:53.117Z"
   },
   {
    "duration": 3,
    "start_time": "2021-07-07T17:18:53.162Z"
   },
   {
    "duration": 26,
    "start_time": "2021-07-07T17:18:53.167Z"
   },
   {
    "duration": 6,
    "start_time": "2021-07-07T17:18:53.195Z"
   },
   {
    "duration": 15,
    "start_time": "2021-07-07T17:18:53.203Z"
   },
   {
    "duration": 5,
    "start_time": "2021-07-07T17:18:53.220Z"
   },
   {
    "duration": 11,
    "start_time": "2021-07-07T17:18:53.228Z"
   },
   {
    "duration": 9,
    "start_time": "2021-07-07T17:18:53.241Z"
   },
   {
    "duration": 41,
    "start_time": "2021-07-07T17:18:53.252Z"
   },
   {
    "duration": 33,
    "start_time": "2021-07-07T17:18:53.295Z"
   },
   {
    "duration": 19,
    "start_time": "2021-07-07T17:18:53.330Z"
   },
   {
    "duration": 49,
    "start_time": "2021-07-07T17:18:53.350Z"
   },
   {
    "duration": 5,
    "start_time": "2021-07-07T17:18:53.401Z"
   },
   {
    "duration": 5,
    "start_time": "2021-07-07T17:18:53.408Z"
   },
   {
    "duration": 11,
    "start_time": "2021-07-07T17:18:53.414Z"
   },
   {
    "duration": 9,
    "start_time": "2021-07-07T17:18:53.427Z"
   },
   {
    "duration": 10,
    "start_time": "2021-07-07T17:18:53.437Z"
   },
   {
    "duration": 39,
    "start_time": "2021-07-07T17:18:53.448Z"
   },
   {
    "duration": 26,
    "start_time": "2021-07-07T17:18:55.799Z"
   },
   {
    "duration": 598,
    "start_time": "2021-07-07T17:20:17.862Z"
   },
   {
    "duration": 161,
    "start_time": "2021-07-07T17:20:18.462Z"
   },
   {
    "duration": 45,
    "start_time": "2021-07-07T17:20:18.626Z"
   },
   {
    "duration": 4,
    "start_time": "2021-07-07T17:20:18.673Z"
   },
   {
    "duration": 38,
    "start_time": "2021-07-07T17:20:26.877Z"
   },
   {
    "duration": 7,
    "start_time": "2021-07-07T17:20:37.405Z"
   },
   {
    "duration": 19,
    "start_time": "2021-07-07T17:20:51.534Z"
   },
   {
    "duration": 5,
    "start_time": "2021-07-07T17:20:57.228Z"
   },
   {
    "duration": 7,
    "start_time": "2021-07-07T17:21:08.235Z"
   },
   {
    "duration": 19,
    "start_time": "2021-07-07T17:21:42.158Z"
   },
   {
    "duration": 14,
    "start_time": "2021-07-07T17:21:50.225Z"
   },
   {
    "duration": 22,
    "start_time": "2021-07-07T17:22:54.104Z"
   },
   {
    "duration": 5,
    "start_time": "2021-07-07T17:22:56.371Z"
   },
   {
    "duration": 14,
    "start_time": "2021-07-07T17:22:58.316Z"
   },
   {
    "duration": 5,
    "start_time": "2021-07-07T17:22:58.493Z"
   },
   {
    "duration": 35,
    "start_time": "2021-07-07T17:22:59.666Z"
   },
   {
    "duration": 6,
    "start_time": "2021-07-07T17:23:02.410Z"
   },
   {
    "duration": 611,
    "start_time": "2021-07-07T17:24:59.664Z"
   },
   {
    "duration": 178,
    "start_time": "2021-07-07T17:25:01.945Z"
   },
   {
    "duration": 47,
    "start_time": "2021-07-07T17:25:02.125Z"
   },
   {
    "duration": 2,
    "start_time": "2021-07-07T17:25:07.903Z"
   },
   {
    "duration": 254,
    "start_time": "2021-07-07T17:25:08.232Z"
   },
   {
    "duration": 182,
    "start_time": "2021-07-07T17:25:08.671Z"
   },
   {
    "duration": 6,
    "start_time": "2021-07-07T17:25:13.104Z"
   },
   {
    "duration": 36,
    "start_time": "2021-07-07T17:25:13.662Z"
   },
   {
    "duration": 7,
    "start_time": "2021-07-07T17:25:14.528Z"
   },
   {
    "duration": 24,
    "start_time": "2021-07-07T17:25:27.982Z"
   },
   {
    "duration": 3,
    "start_time": "2021-07-07T17:25:48.982Z"
   },
   {
    "duration": 165,
    "start_time": "2021-07-07T17:25:48.987Z"
   },
   {
    "duration": 50,
    "start_time": "2021-07-07T17:25:49.154Z"
   },
   {
    "duration": 4,
    "start_time": "2021-07-07T17:25:49.206Z"
   },
   {
    "duration": 26,
    "start_time": "2021-07-07T17:25:49.212Z"
   },
   {
    "duration": 7,
    "start_time": "2021-07-07T17:25:49.240Z"
   },
   {
    "duration": 16,
    "start_time": "2021-07-07T17:25:49.249Z"
   },
   {
    "duration": 22,
    "start_time": "2021-07-07T17:25:49.266Z"
   },
   {
    "duration": 16,
    "start_time": "2021-07-07T17:25:49.291Z"
   },
   {
    "duration": 9,
    "start_time": "2021-07-07T17:25:49.309Z"
   },
   {
    "duration": 7,
    "start_time": "2021-07-07T17:25:49.319Z"
   },
   {
    "duration": 28,
    "start_time": "2021-07-07T17:25:49.328Z"
   },
   {
    "duration": 44,
    "start_time": "2021-07-07T17:25:49.357Z"
   },
   {
    "duration": 22,
    "start_time": "2021-07-07T17:25:49.403Z"
   },
   {
    "duration": 7,
    "start_time": "2021-07-07T17:25:49.427Z"
   },
   {
    "duration": 3,
    "start_time": "2021-07-07T17:25:49.436Z"
   },
   {
    "duration": 44,
    "start_time": "2021-07-07T17:25:49.441Z"
   },
   {
    "duration": 12,
    "start_time": "2021-07-07T17:25:49.488Z"
   },
   {
    "duration": 13,
    "start_time": "2021-07-07T17:25:49.502Z"
   },
   {
    "duration": 10,
    "start_time": "2021-07-07T17:25:49.516Z"
   },
   {
    "duration": 62,
    "start_time": "2021-07-07T17:25:49.527Z"
   },
   {
    "duration": 26,
    "start_time": "2021-07-07T17:26:51.809Z"
   },
   {
    "duration": 26,
    "start_time": "2021-07-07T17:26:55.759Z"
   },
   {
    "duration": 26,
    "start_time": "2021-07-07T17:27:04.501Z"
   },
   {
    "duration": 25,
    "start_time": "2021-07-07T17:28:24.859Z"
   },
   {
    "duration": 21,
    "start_time": "2021-07-07T17:28:55.250Z"
   },
   {
    "duration": 21,
    "start_time": "2021-07-07T17:28:58.885Z"
   },
   {
    "duration": 7,
    "start_time": "2021-07-07T17:45:40.972Z"
   },
   {
    "duration": 13,
    "start_time": "2021-07-07T17:45:42.529Z"
   },
   {
    "duration": 27,
    "start_time": "2021-07-07T17:45:51.026Z"
   },
   {
    "duration": 518,
    "start_time": "2021-07-07T17:46:15.532Z"
   },
   {
    "duration": 235,
    "start_time": "2021-07-07T17:46:16.053Z"
   },
   {
    "duration": 80,
    "start_time": "2021-07-07T17:46:16.292Z"
   },
   {
    "duration": 5,
    "start_time": "2021-07-07T17:46:16.373Z"
   },
   {
    "duration": 26,
    "start_time": "2021-07-07T17:46:16.380Z"
   },
   {
    "duration": 7,
    "start_time": "2021-07-07T17:46:16.408Z"
   },
   {
    "duration": 16,
    "start_time": "2021-07-07T17:46:16.418Z"
   },
   {
    "duration": 5,
    "start_time": "2021-07-07T17:46:16.436Z"
   },
   {
    "duration": 13,
    "start_time": "2021-07-07T17:46:16.442Z"
   },
   {
    "duration": 35,
    "start_time": "2021-07-07T17:46:16.456Z"
   },
   {
    "duration": 8,
    "start_time": "2021-07-07T17:46:16.493Z"
   },
   {
    "duration": 28,
    "start_time": "2021-07-07T17:46:16.502Z"
   },
   {
    "duration": 17,
    "start_time": "2021-07-07T17:46:16.532Z"
   },
   {
    "duration": 44,
    "start_time": "2021-07-07T17:46:16.551Z"
   },
   {
    "duration": 6,
    "start_time": "2021-07-07T17:46:16.597Z"
   },
   {
    "duration": 4,
    "start_time": "2021-07-07T17:46:16.605Z"
   },
   {
    "duration": 9,
    "start_time": "2021-07-07T17:46:16.610Z"
   },
   {
    "duration": 9,
    "start_time": "2021-07-07T17:46:16.621Z"
   },
   {
    "duration": 10,
    "start_time": "2021-07-07T17:46:16.632Z"
   },
   {
    "duration": 43,
    "start_time": "2021-07-07T17:46:16.644Z"
   },
   {
    "duration": 26,
    "start_time": "2021-07-07T17:46:16.689Z"
   },
   {
    "duration": 19,
    "start_time": "2021-07-07T17:46:16.718Z"
   },
   {
    "duration": 8,
    "start_time": "2021-07-07T17:46:16.738Z"
   },
   {
    "duration": 43,
    "start_time": "2021-07-07T17:46:16.747Z"
   },
   {
    "duration": 19,
    "start_time": "2021-07-07T17:46:16.791Z"
   },
   {
    "duration": 9,
    "start_time": "2021-07-07T17:46:16.812Z"
   },
   {
    "duration": 60,
    "start_time": "2021-07-07T17:46:16.822Z"
   },
   {
    "duration": -8,
    "start_time": "2021-07-07T17:46:16.892Z"
   },
   {
    "duration": 12,
    "start_time": "2021-07-07T17:48:47.707Z"
   },
   {
    "duration": 553,
    "start_time": "2021-07-07T18:10:09.350Z"
   },
   {
    "duration": 230,
    "start_time": "2021-07-07T18:10:09.905Z"
   },
   {
    "duration": 97,
    "start_time": "2021-07-07T18:10:10.137Z"
   },
   {
    "duration": 5,
    "start_time": "2021-07-07T18:10:10.236Z"
   },
   {
    "duration": 29,
    "start_time": "2021-07-07T18:10:10.242Z"
   },
   {
    "duration": 7,
    "start_time": "2021-07-07T18:10:10.272Z"
   },
   {
    "duration": 15,
    "start_time": "2021-07-07T18:10:10.281Z"
   },
   {
    "duration": 4,
    "start_time": "2021-07-07T18:10:10.299Z"
   },
   {
    "duration": 14,
    "start_time": "2021-07-07T18:10:10.305Z"
   },
   {
    "duration": 8,
    "start_time": "2021-07-07T18:10:10.321Z"
   },
   {
    "duration": 8,
    "start_time": "2021-07-07T18:10:10.331Z"
   },
   {
    "duration": 56,
    "start_time": "2021-07-07T18:10:10.341Z"
   },
   {
    "duration": 19,
    "start_time": "2021-07-07T18:10:10.399Z"
   },
   {
    "duration": 23,
    "start_time": "2021-07-07T18:10:10.419Z"
   },
   {
    "duration": 6,
    "start_time": "2021-07-07T18:10:10.444Z"
   },
   {
    "duration": 9,
    "start_time": "2021-07-07T18:10:10.451Z"
   },
   {
    "duration": 30,
    "start_time": "2021-07-07T18:10:10.462Z"
   },
   {
    "duration": 9,
    "start_time": "2021-07-07T18:10:10.494Z"
   },
   {
    "duration": 14,
    "start_time": "2021-07-07T18:10:10.505Z"
   },
   {
    "duration": 7,
    "start_time": "2021-07-07T18:10:10.521Z"
   },
   {
    "duration": 26,
    "start_time": "2021-07-07T18:10:10.530Z"
   },
   {
    "duration": 44,
    "start_time": "2021-07-07T18:10:10.558Z"
   },
   {
    "duration": 7,
    "start_time": "2021-07-07T18:10:10.605Z"
   },
   {
    "duration": 11,
    "start_time": "2021-07-07T18:10:10.614Z"
   },
   {
    "duration": 19,
    "start_time": "2021-07-07T18:10:10.626Z"
   },
   {
    "duration": 44,
    "start_time": "2021-07-07T18:10:10.646Z"
   },
   {
    "duration": 516,
    "start_time": "2021-07-07T18:14:00.826Z"
   },
   {
    "duration": 230,
    "start_time": "2021-07-07T18:14:01.344Z"
   },
   {
    "duration": 105,
    "start_time": "2021-07-07T18:14:01.576Z"
   },
   {
    "duration": 5,
    "start_time": "2021-07-07T18:14:01.683Z"
   },
   {
    "duration": 46,
    "start_time": "2021-07-07T18:14:01.690Z"
   },
   {
    "duration": 7,
    "start_time": "2021-07-07T18:14:01.738Z"
   },
   {
    "duration": 20,
    "start_time": "2021-07-07T18:14:01.747Z"
   },
   {
    "duration": 16,
    "start_time": "2021-07-07T18:14:01.769Z"
   },
   {
    "duration": 14,
    "start_time": "2021-07-07T18:14:01.787Z"
   },
   {
    "duration": 15,
    "start_time": "2021-07-07T18:14:01.803Z"
   },
   {
    "duration": 12,
    "start_time": "2021-07-07T18:14:01.820Z"
   },
   {
    "duration": 35,
    "start_time": "2021-07-07T18:14:01.833Z"
   },
   {
    "duration": 31,
    "start_time": "2021-07-07T18:14:01.869Z"
   },
   {
    "duration": 37,
    "start_time": "2021-07-07T18:14:01.902Z"
   },
   {
    "duration": 8,
    "start_time": "2021-07-07T18:14:01.942Z"
   },
   {
    "duration": 16,
    "start_time": "2021-07-07T18:14:01.952Z"
   },
   {
    "duration": 13,
    "start_time": "2021-07-07T18:14:01.970Z"
   },
   {
    "duration": 32,
    "start_time": "2021-07-07T18:14:01.985Z"
   },
   {
    "duration": 11,
    "start_time": "2021-07-07T18:14:02.019Z"
   },
   {
    "duration": 22,
    "start_time": "2021-07-07T18:14:02.031Z"
   },
   {
    "duration": 27,
    "start_time": "2021-07-07T18:14:02.055Z"
   },
   {
    "duration": 18,
    "start_time": "2021-07-07T18:14:02.084Z"
   },
   {
    "duration": 18,
    "start_time": "2021-07-07T18:14:02.106Z"
   },
   {
    "duration": 11,
    "start_time": "2021-07-07T18:14:02.126Z"
   },
   {
    "duration": 21,
    "start_time": "2021-07-07T18:14:02.138Z"
   },
   {
    "duration": 32,
    "start_time": "2021-07-07T18:14:02.161Z"
   },
   {
    "duration": 28,
    "start_time": "2021-07-07T18:14:44.295Z"
   },
   {
    "duration": 6,
    "start_time": "2021-07-07T18:15:05.834Z"
   },
   {
    "duration": 511,
    "start_time": "2021-07-07T18:15:41.541Z"
   },
   {
    "duration": 183,
    "start_time": "2021-07-07T18:15:42.054Z"
   },
   {
    "duration": 50,
    "start_time": "2021-07-07T18:15:42.239Z"
   },
   {
    "duration": 5,
    "start_time": "2021-07-07T18:15:42.291Z"
   },
   {
    "duration": 48,
    "start_time": "2021-07-07T18:15:42.297Z"
   },
   {
    "duration": 8,
    "start_time": "2021-07-07T18:15:42.346Z"
   },
   {
    "duration": 17,
    "start_time": "2021-07-07T18:15:42.356Z"
   },
   {
    "duration": 15,
    "start_time": "2021-07-07T18:15:42.375Z"
   },
   {
    "duration": 12,
    "start_time": "2021-07-07T18:15:42.392Z"
   },
   {
    "duration": 7,
    "start_time": "2021-07-07T18:15:42.406Z"
   },
   {
    "duration": 7,
    "start_time": "2021-07-07T18:15:42.415Z"
   },
   {
    "duration": 29,
    "start_time": "2021-07-07T18:15:42.423Z"
   },
   {
    "duration": 43,
    "start_time": "2021-07-07T18:15:42.453Z"
   },
   {
    "duration": 18,
    "start_time": "2021-07-07T18:15:42.497Z"
   },
   {
    "duration": 6,
    "start_time": "2021-07-07T18:15:42.516Z"
   },
   {
    "duration": 3,
    "start_time": "2021-07-07T18:15:42.523Z"
   },
   {
    "duration": 18,
    "start_time": "2021-07-07T18:15:42.528Z"
   },
   {
    "duration": 10,
    "start_time": "2021-07-07T18:15:42.547Z"
   },
   {
    "duration": 36,
    "start_time": "2021-07-07T18:15:42.559Z"
   },
   {
    "duration": 8,
    "start_time": "2021-07-07T18:15:42.597Z"
   },
   {
    "duration": 28,
    "start_time": "2021-07-07T18:15:42.606Z"
   },
   {
    "duration": 52,
    "start_time": "2021-07-07T18:15:42.635Z"
   },
   {
    "duration": 7,
    "start_time": "2021-07-07T18:15:42.690Z"
   },
   {
    "duration": 10,
    "start_time": "2021-07-07T18:15:42.699Z"
   },
   {
    "duration": 19,
    "start_time": "2021-07-07T18:15:42.711Z"
   },
   {
    "duration": 9,
    "start_time": "2021-07-07T18:15:42.732Z"
   },
   {
    "duration": 5,
    "start_time": "2021-07-07T18:15:42.743Z"
   },
   {
    "duration": 1450,
    "start_time": "2021-07-07T18:15:51.984Z"
   },
   {
    "duration": 161,
    "start_time": "2021-07-07T18:15:53.435Z"
   },
   {
    "duration": 124,
    "start_time": "2021-07-07T18:15:53.598Z"
   },
   {
    "duration": 5,
    "start_time": "2021-07-07T18:15:53.724Z"
   },
   {
    "duration": 34,
    "start_time": "2021-07-07T18:15:53.730Z"
   },
   {
    "duration": 7,
    "start_time": "2021-07-07T18:15:53.765Z"
   },
   {
    "duration": 15,
    "start_time": "2021-07-07T18:15:53.773Z"
   },
   {
    "duration": 5,
    "start_time": "2021-07-07T18:15:53.791Z"
   },
   {
    "duration": 19,
    "start_time": "2021-07-07T18:15:53.798Z"
   },
   {
    "duration": 9,
    "start_time": "2021-07-07T18:15:53.818Z"
   },
   {
    "duration": 19,
    "start_time": "2021-07-07T18:15:53.828Z"
   },
   {
    "duration": 27,
    "start_time": "2021-07-07T18:15:53.848Z"
   },
   {
    "duration": 16,
    "start_time": "2021-07-07T18:15:53.884Z"
   },
   {
    "duration": 29,
    "start_time": "2021-07-07T18:15:53.901Z"
   },
   {
    "duration": 5,
    "start_time": "2021-07-07T18:15:53.932Z"
   },
   {
    "duration": 15,
    "start_time": "2021-07-07T18:15:53.939Z"
   },
   {
    "duration": 13,
    "start_time": "2021-07-07T18:15:53.956Z"
   },
   {
    "duration": 20,
    "start_time": "2021-07-07T18:15:53.971Z"
   },
   {
    "duration": 14,
    "start_time": "2021-07-07T18:15:53.992Z"
   },
   {
    "duration": 9,
    "start_time": "2021-07-07T18:15:54.009Z"
   },
   {
    "duration": 28,
    "start_time": "2021-07-07T18:15:54.020Z"
   },
   {
    "duration": 50,
    "start_time": "2021-07-07T18:15:54.051Z"
   },
   {
    "duration": 8,
    "start_time": "2021-07-07T18:15:54.105Z"
   },
   {
    "duration": 11,
    "start_time": "2021-07-07T18:15:54.115Z"
   },
   {
    "duration": 20,
    "start_time": "2021-07-07T18:15:54.128Z"
   },
   {
    "duration": 13,
    "start_time": "2021-07-07T18:15:54.184Z"
   },
   {
    "duration": 7,
    "start_time": "2021-07-07T18:15:54.199Z"
   },
   {
    "duration": 7,
    "start_time": "2021-07-07T18:17:08.042Z"
   },
   {
    "duration": 8,
    "start_time": "2021-07-07T18:17:21.008Z"
   },
   {
    "duration": 7,
    "start_time": "2021-07-07T18:17:29.003Z"
   },
   {
    "duration": 8,
    "start_time": "2021-07-07T18:17:32.492Z"
   },
   {
    "duration": 9,
    "start_time": "2021-07-07T18:17:41.758Z"
   },
   {
    "duration": 255,
    "start_time": "2021-07-07T18:20:20.897Z"
   },
   {
    "duration": 173,
    "start_time": "2021-07-07T18:20:26.636Z"
   },
   {
    "duration": 7,
    "start_time": "2021-07-07T18:21:47.164Z"
   },
   {
    "duration": 254,
    "start_time": "2021-07-07T18:23:08.703Z"
   },
   {
    "duration": 21,
    "start_time": "2021-07-07T18:23:22.506Z"
   },
   {
    "duration": 315,
    "start_time": "2021-07-07T18:25:54.801Z"
   },
   {
    "duration": 34,
    "start_time": "2021-07-07T18:26:51.817Z"
   },
   {
    "duration": 327,
    "start_time": "2021-07-07T18:26:56.147Z"
   },
   {
    "duration": 342,
    "start_time": "2021-07-07T18:27:15.887Z"
   },
   {
    "duration": 302,
    "start_time": "2021-07-07T18:28:18.569Z"
   },
   {
    "duration": 226,
    "start_time": "2021-07-07T18:29:20.879Z"
   },
   {
    "duration": 207,
    "start_time": "2021-07-07T18:29:58.114Z"
   },
   {
    "duration": 140,
    "start_time": "2021-07-07T18:32:04.372Z"
   },
   {
    "duration": 158,
    "start_time": "2021-07-07T18:32:32.508Z"
   },
   {
    "duration": 145,
    "start_time": "2021-07-07T18:32:41.365Z"
   },
   {
    "duration": 132,
    "start_time": "2021-07-07T18:32:45.199Z"
   },
   {
    "duration": 11,
    "start_time": "2021-07-07T18:35:24.679Z"
   },
   {
    "duration": 268,
    "start_time": "2021-07-07T18:36:16.145Z"
   },
   {
    "duration": 227,
    "start_time": "2021-07-07T18:37:04.918Z"
   },
   {
    "duration": 3,
    "start_time": "2021-07-07T18:37:33.012Z"
   },
   {
    "duration": 671,
    "start_time": "2021-07-07T18:37:38.295Z"
   },
   {
    "duration": 54,
    "start_time": "2021-07-07T18:37:53.406Z"
   },
   {
    "duration": 631,
    "start_time": "2021-07-07T18:37:56.463Z"
   },
   {
    "duration": 19,
    "start_time": "2021-07-07T18:39:40.535Z"
   },
   {
    "duration": 20,
    "start_time": "2021-07-07T18:40:12.236Z"
   },
   {
    "duration": 633,
    "start_time": "2021-07-07T18:42:00.398Z"
   },
   {
    "duration": 218,
    "start_time": "2021-07-07T18:42:01.033Z"
   },
   {
    "duration": 49,
    "start_time": "2021-07-07T18:42:01.253Z"
   },
   {
    "duration": 5,
    "start_time": "2021-07-07T18:42:01.303Z"
   },
   {
    "duration": 27,
    "start_time": "2021-07-07T18:42:01.310Z"
   },
   {
    "duration": 8,
    "start_time": "2021-07-07T18:42:01.339Z"
   },
   {
    "duration": 20,
    "start_time": "2021-07-07T18:42:01.348Z"
   },
   {
    "duration": 6,
    "start_time": "2021-07-07T18:42:01.386Z"
   },
   {
    "duration": 16,
    "start_time": "2021-07-07T18:42:01.394Z"
   },
   {
    "duration": 9,
    "start_time": "2021-07-07T18:42:01.411Z"
   },
   {
    "duration": 11,
    "start_time": "2021-07-07T18:42:01.421Z"
   },
   {
    "duration": 31,
    "start_time": "2021-07-07T18:42:01.434Z"
   },
   {
    "duration": 18,
    "start_time": "2021-07-07T18:42:01.485Z"
   },
   {
    "duration": 23,
    "start_time": "2021-07-07T18:42:01.505Z"
   },
   {
    "duration": 6,
    "start_time": "2021-07-07T18:42:01.530Z"
   },
   {
    "duration": 10,
    "start_time": "2021-07-07T18:42:01.538Z"
   },
   {
    "duration": 13,
    "start_time": "2021-07-07T18:42:01.550Z"
   },
   {
    "duration": 24,
    "start_time": "2021-07-07T18:42:01.564Z"
   },
   {
    "duration": 20,
    "start_time": "2021-07-07T18:42:01.590Z"
   },
   {
    "duration": 8,
    "start_time": "2021-07-07T18:42:01.611Z"
   },
   {
    "duration": 31,
    "start_time": "2021-07-07T18:42:01.620Z"
   },
   {
    "duration": 39,
    "start_time": "2021-07-07T18:42:01.653Z"
   },
   {
    "duration": 8,
    "start_time": "2021-07-07T18:42:01.696Z"
   },
   {
    "duration": 13,
    "start_time": "2021-07-07T18:42:01.705Z"
   },
   {
    "duration": 20,
    "start_time": "2021-07-07T18:42:01.720Z"
   },
   {
    "duration": 12,
    "start_time": "2021-07-07T18:42:01.741Z"
   },
   {
    "duration": 35,
    "start_time": "2021-07-07T18:42:01.755Z"
   },
   {
    "duration": 14,
    "start_time": "2021-07-07T18:42:01.792Z"
   },
   {
    "duration": 188,
    "start_time": "2021-07-07T18:42:01.808Z"
   },
   {
    "duration": 19,
    "start_time": "2021-07-07T18:42:01.998Z"
   },
   {
    "duration": 175,
    "start_time": "2021-07-07T18:42:02.019Z"
   },
   {
    "duration": 134,
    "start_time": "2021-07-07T18:42:02.196Z"
   },
   {
    "duration": 10,
    "start_time": "2021-07-07T18:42:02.331Z"
   },
   {
    "duration": 19,
    "start_time": "2021-07-07T18:42:02.343Z"
   },
   {
    "duration": 628,
    "start_time": "2021-07-07T18:46:30.701Z"
   },
   {
    "duration": 183,
    "start_time": "2021-07-07T18:46:31.331Z"
   },
   {
    "duration": 48,
    "start_time": "2021-07-07T18:46:31.516Z"
   },
   {
    "duration": 5,
    "start_time": "2021-07-07T18:46:31.566Z"
   },
   {
    "duration": 28,
    "start_time": "2021-07-07T18:46:31.572Z"
   },
   {
    "duration": 8,
    "start_time": "2021-07-07T18:46:31.602Z"
   },
   {
    "duration": 19,
    "start_time": "2021-07-07T18:46:31.611Z"
   },
   {
    "duration": 6,
    "start_time": "2021-07-07T18:46:31.633Z"
   },
   {
    "duration": 17,
    "start_time": "2021-07-07T18:46:31.642Z"
   },
   {
    "duration": 10,
    "start_time": "2021-07-07T18:46:31.684Z"
   },
   {
    "duration": 9,
    "start_time": "2021-07-07T18:46:31.695Z"
   },
   {
    "duration": 28,
    "start_time": "2021-07-07T18:46:31.705Z"
   },
   {
    "duration": 18,
    "start_time": "2021-07-07T18:46:31.735Z"
   },
   {
    "duration": 48,
    "start_time": "2021-07-07T18:46:31.755Z"
   },
   {
    "duration": 6,
    "start_time": "2021-07-07T18:46:31.804Z"
   },
   {
    "duration": 4,
    "start_time": "2021-07-07T18:46:31.812Z"
   },
   {
    "duration": 9,
    "start_time": "2021-07-07T18:46:31.817Z"
   },
   {
    "duration": 10,
    "start_time": "2021-07-07T18:46:31.827Z"
   },
   {
    "duration": 12,
    "start_time": "2021-07-07T18:46:31.838Z"
   },
   {
    "duration": 39,
    "start_time": "2021-07-07T18:46:31.851Z"
   },
   {
    "duration": 24,
    "start_time": "2021-07-07T18:46:31.892Z"
   },
   {
    "duration": 15,
    "start_time": "2021-07-07T18:46:31.918Z"
   },
   {
    "duration": 7,
    "start_time": "2021-07-07T18:46:31.936Z"
   },
   {
    "duration": 8,
    "start_time": "2021-07-07T18:46:31.944Z"
   },
   {
    "duration": 19,
    "start_time": "2021-07-07T18:46:31.984Z"
   },
   {
    "duration": 10,
    "start_time": "2021-07-07T18:46:32.004Z"
   },
   {
    "duration": 5,
    "start_time": "2021-07-07T18:46:32.016Z"
   },
   {
    "duration": 9,
    "start_time": "2021-07-07T18:46:32.023Z"
   },
   {
    "duration": 199,
    "start_time": "2021-07-07T18:46:32.033Z"
   },
   {
    "duration": 19,
    "start_time": "2021-07-07T18:46:32.234Z"
   },
   {
    "duration": 159,
    "start_time": "2021-07-07T18:46:32.255Z"
   },
   {
    "duration": 134,
    "start_time": "2021-07-07T18:46:32.416Z"
   },
   {
    "duration": 10,
    "start_time": "2021-07-07T18:46:32.552Z"
   },
   {
    "duration": 34,
    "start_time": "2021-07-07T18:46:32.563Z"
   },
   {
    "duration": 1039,
    "start_time": "2021-07-08T08:41:09.419Z"
   },
   {
    "duration": 333,
    "start_time": "2021-07-08T08:41:10.459Z"
   },
   {
    "duration": 173,
    "start_time": "2021-07-08T08:41:10.794Z"
   },
   {
    "duration": 5,
    "start_time": "2021-07-08T08:41:10.968Z"
   },
   {
    "duration": 25,
    "start_time": "2021-07-08T08:41:10.975Z"
   },
   {
    "duration": 9,
    "start_time": "2021-07-08T08:41:11.002Z"
   },
   {
    "duration": 18,
    "start_time": "2021-07-08T08:41:11.013Z"
   },
   {
    "duration": 6,
    "start_time": "2021-07-08T08:41:11.033Z"
   },
   {
    "duration": 44,
    "start_time": "2021-07-08T08:41:11.042Z"
   },
   {
    "duration": 10,
    "start_time": "2021-07-08T08:41:11.088Z"
   },
   {
    "duration": 9,
    "start_time": "2021-07-08T08:41:11.100Z"
   },
   {
    "duration": 27,
    "start_time": "2021-07-08T08:41:11.111Z"
   },
   {
    "duration": 46,
    "start_time": "2021-07-08T08:41:11.140Z"
   },
   {
    "duration": 17,
    "start_time": "2021-07-08T08:41:11.187Z"
   },
   {
    "duration": 6,
    "start_time": "2021-07-08T08:41:11.206Z"
   },
   {
    "duration": 5,
    "start_time": "2021-07-08T08:41:11.213Z"
   },
   {
    "duration": 10,
    "start_time": "2021-07-08T08:41:11.219Z"
   },
   {
    "duration": 9,
    "start_time": "2021-07-08T08:41:11.230Z"
   },
   {
    "duration": 45,
    "start_time": "2021-07-08T08:41:11.241Z"
   },
   {
    "duration": 7,
    "start_time": "2021-07-08T08:41:11.287Z"
   },
   {
    "duration": 24,
    "start_time": "2021-07-08T08:41:11.296Z"
   },
   {
    "duration": 16,
    "start_time": "2021-07-08T08:41:11.322Z"
   },
   {
    "duration": 7,
    "start_time": "2021-07-08T08:41:11.341Z"
   },
   {
    "duration": 41,
    "start_time": "2021-07-08T08:41:11.349Z"
   },
   {
    "duration": 17,
    "start_time": "2021-07-08T08:41:11.391Z"
   },
   {
    "duration": 9,
    "start_time": "2021-07-08T08:41:11.410Z"
   },
   {
    "duration": 5,
    "start_time": "2021-07-08T08:41:11.421Z"
   },
   {
    "duration": 6,
    "start_time": "2021-07-08T08:41:11.428Z"
   },
   {
    "duration": 198,
    "start_time": "2021-07-08T08:41:11.435Z"
   },
   {
    "duration": 18,
    "start_time": "2021-07-08T08:41:11.635Z"
   },
   {
    "duration": 155,
    "start_time": "2021-07-08T08:41:11.655Z"
   },
   {
    "duration": 138,
    "start_time": "2021-07-08T08:41:11.811Z"
   },
   {
    "duration": 10,
    "start_time": "2021-07-08T08:41:11.950Z"
   },
   {
    "duration": 29,
    "start_time": "2021-07-08T08:41:11.961Z"
   },
   {
    "duration": 171,
    "start_time": "2021-07-08T08:47:44.522Z"
   },
   {
    "duration": 124,
    "start_time": "2021-07-08T08:47:46.872Z"
   },
   {
    "duration": 191,
    "start_time": "2021-07-08T08:47:58.148Z"
   },
   {
    "duration": 191,
    "start_time": "2021-07-08T08:48:07.412Z"
   },
   {
    "duration": 261,
    "start_time": "2021-07-08T08:48:10.385Z"
   },
   {
    "duration": 255,
    "start_time": "2021-07-08T08:48:14.494Z"
   },
   {
    "duration": 219,
    "start_time": "2021-07-08T08:48:22.752Z"
   },
   {
    "duration": 173,
    "start_time": "2021-07-08T08:49:06.395Z"
   },
   {
    "duration": 180,
    "start_time": "2021-07-08T08:49:21.011Z"
   },
   {
    "duration": 6,
    "start_time": "2021-07-08T08:50:31.697Z"
   },
   {
    "duration": 10,
    "start_time": "2021-07-08T08:50:47.394Z"
   },
   {
    "duration": 11,
    "start_time": "2021-07-08T08:53:49.332Z"
   },
   {
    "duration": 171,
    "start_time": "2021-07-08T08:54:28.408Z"
   },
   {
    "duration": 636,
    "start_time": "2021-07-08T09:02:48.385Z"
   },
   {
    "duration": 227,
    "start_time": "2021-07-08T09:02:49.023Z"
   },
   {
    "duration": 104,
    "start_time": "2021-07-08T09:02:49.252Z"
   },
   {
    "duration": 5,
    "start_time": "2021-07-08T09:02:49.358Z"
   },
   {
    "duration": 27,
    "start_time": "2021-07-08T09:02:49.365Z"
   },
   {
    "duration": 8,
    "start_time": "2021-07-08T09:02:49.394Z"
   },
   {
    "duration": 18,
    "start_time": "2021-07-08T09:02:49.404Z"
   },
   {
    "duration": 6,
    "start_time": "2021-07-08T09:02:49.424Z"
   },
   {
    "duration": 11,
    "start_time": "2021-07-08T09:02:49.433Z"
   },
   {
    "duration": 13,
    "start_time": "2021-07-08T09:02:49.485Z"
   },
   {
    "duration": 9,
    "start_time": "2021-07-08T09:02:49.500Z"
   },
   {
    "duration": 38,
    "start_time": "2021-07-08T09:02:49.511Z"
   },
   {
    "duration": 42,
    "start_time": "2021-07-08T09:02:49.551Z"
   },
   {
    "duration": 21,
    "start_time": "2021-07-08T09:02:49.594Z"
   },
   {
    "duration": 6,
    "start_time": "2021-07-08T09:02:49.616Z"
   },
   {
    "duration": 3,
    "start_time": "2021-07-08T09:02:49.623Z"
   },
   {
    "duration": 9,
    "start_time": "2021-07-08T09:02:49.628Z"
   },
   {
    "duration": 52,
    "start_time": "2021-07-08T09:02:49.638Z"
   },
   {
    "duration": 11,
    "start_time": "2021-07-08T09:02:49.692Z"
   },
   {
    "duration": 8,
    "start_time": "2021-07-08T09:02:49.704Z"
   },
   {
    "duration": 27,
    "start_time": "2021-07-08T09:02:49.713Z"
   },
   {
    "duration": 59,
    "start_time": "2021-07-08T09:02:49.741Z"
   },
   {
    "duration": 8,
    "start_time": "2021-07-08T09:02:49.803Z"
   },
   {
    "duration": 14,
    "start_time": "2021-07-08T09:02:49.813Z"
   },
   {
    "duration": 20,
    "start_time": "2021-07-08T09:02:49.829Z"
   },
   {
    "duration": 44,
    "start_time": "2021-07-08T09:02:49.851Z"
   },
   {
    "duration": 14,
    "start_time": "2021-07-08T09:02:49.896Z"
   },
   {
    "duration": 221,
    "start_time": "2021-07-08T09:02:49.912Z"
   },
   {
    "duration": 6,
    "start_time": "2021-07-08T09:02:50.134Z"
   },
   {
    "duration": 206,
    "start_time": "2021-07-08T09:02:50.142Z"
   },
   {
    "duration": 19,
    "start_time": "2021-07-08T09:02:50.350Z"
   },
   {
    "duration": 21,
    "start_time": "2021-07-08T09:02:50.370Z"
   },
   {
    "duration": 20,
    "start_time": "2021-07-08T09:02:50.393Z"
   },
   {
    "duration": 5,
    "start_time": "2021-07-08T09:02:50.414Z"
   },
   {
    "duration": 5,
    "start_time": "2021-07-08T09:03:34.173Z"
   },
   {
    "duration": 6,
    "start_time": "2021-07-08T09:04:49.062Z"
   },
   {
    "duration": 9,
    "start_time": "2021-07-08T09:04:50.118Z"
   },
   {
    "duration": 14,
    "start_time": "2021-07-08T09:04:58.512Z"
   },
   {
    "duration": 9,
    "start_time": "2021-07-08T09:05:10.988Z"
   },
   {
    "duration": 11,
    "start_time": "2021-07-08T09:05:11.743Z"
   },
   {
    "duration": 7,
    "start_time": "2021-07-08T09:05:25.677Z"
   },
   {
    "duration": 13,
    "start_time": "2021-07-08T09:05:47.189Z"
   },
   {
    "duration": 13,
    "start_time": "2021-07-08T09:05:54.755Z"
   },
   {
    "duration": 4,
    "start_time": "2021-07-08T09:06:29.189Z"
   },
   {
    "duration": 244,
    "start_time": "2021-07-08T09:06:29.195Z"
   },
   {
    "duration": 91,
    "start_time": "2021-07-08T09:06:29.441Z"
   },
   {
    "duration": 4,
    "start_time": "2021-07-08T09:06:29.534Z"
   },
   {
    "duration": 28,
    "start_time": "2021-07-08T09:06:29.540Z"
   },
   {
    "duration": 6,
    "start_time": "2021-07-08T09:06:29.570Z"
   },
   {
    "duration": 18,
    "start_time": "2021-07-08T09:06:29.578Z"
   },
   {
    "duration": 5,
    "start_time": "2021-07-08T09:06:29.597Z"
   },
   {
    "duration": 13,
    "start_time": "2021-07-08T09:06:29.605Z"
   },
   {
    "duration": 8,
    "start_time": "2021-07-08T09:06:29.620Z"
   },
   {
    "duration": 7,
    "start_time": "2021-07-08T09:06:29.630Z"
   },
   {
    "duration": 63,
    "start_time": "2021-07-08T09:06:29.639Z"
   },
   {
    "duration": 17,
    "start_time": "2021-07-08T09:06:29.704Z"
   },
   {
    "duration": 20,
    "start_time": "2021-07-08T09:06:29.723Z"
   },
   {
    "duration": 6,
    "start_time": "2021-07-08T09:06:29.745Z"
   },
   {
    "duration": 3,
    "start_time": "2021-07-08T09:06:29.752Z"
   },
   {
    "duration": 7,
    "start_time": "2021-07-08T09:06:29.785Z"
   },
   {
    "duration": 11,
    "start_time": "2021-07-08T09:06:29.794Z"
   },
   {
    "duration": 15,
    "start_time": "2021-07-08T09:06:29.807Z"
   },
   {
    "duration": 8,
    "start_time": "2021-07-08T09:06:29.823Z"
   },
   {
    "duration": 70,
    "start_time": "2021-07-08T09:06:29.832Z"
   },
   {
    "duration": 17,
    "start_time": "2021-07-08T09:06:29.903Z"
   },
   {
    "duration": 9,
    "start_time": "2021-07-08T09:06:29.921Z"
   },
   {
    "duration": 9,
    "start_time": "2021-07-08T09:06:29.932Z"
   },
   {
    "duration": 57,
    "start_time": "2021-07-08T09:06:29.942Z"
   },
   {
    "duration": 11,
    "start_time": "2021-07-08T09:06:30.001Z"
   },
   {
    "duration": 19,
    "start_time": "2021-07-08T09:06:30.016Z"
   },
   {
    "duration": 217,
    "start_time": "2021-07-08T09:06:30.037Z"
   },
   {
    "duration": 6,
    "start_time": "2021-07-08T09:06:30.255Z"
   },
   {
    "duration": 205,
    "start_time": "2021-07-08T09:06:30.263Z"
   },
   {
    "duration": 27,
    "start_time": "2021-07-08T09:06:30.470Z"
   },
   {
    "duration": 11,
    "start_time": "2021-07-08T09:06:30.500Z"
   },
   {
    "duration": 31,
    "start_time": "2021-07-08T09:06:30.513Z"
   },
   {
    "duration": 18,
    "start_time": "2021-07-08T09:06:30.546Z"
   },
   {
    "duration": 11,
    "start_time": "2021-07-08T09:06:30.566Z"
   },
   {
    "duration": 19,
    "start_time": "2021-07-08T09:06:30.579Z"
   },
   {
    "duration": 20,
    "start_time": "2021-07-08T09:06:49.466Z"
   },
   {
    "duration": 9,
    "start_time": "2021-07-08T09:06:51.994Z"
   },
   {
    "duration": 20,
    "start_time": "2021-07-08T09:06:52.273Z"
   },
   {
    "duration": 246,
    "start_time": "2021-07-08T09:10:21.272Z"
   },
   {
    "duration": 84,
    "start_time": "2021-07-08T09:10:21.436Z"
   },
   {
    "duration": 7,
    "start_time": "2021-07-08T09:10:37.608Z"
   },
   {
    "duration": 189,
    "start_time": "2021-07-08T09:10:38.573Z"
   },
   {
    "duration": 185,
    "start_time": "2021-07-08T09:10:53.181Z"
   },
   {
    "duration": 11,
    "start_time": "2021-07-08T09:10:59.549Z"
   },
   {
    "duration": 42,
    "start_time": "2021-07-08T09:10:59.709Z"
   },
   {
    "duration": 12,
    "start_time": "2021-07-08T09:11:02.857Z"
   },
   {
    "duration": 28,
    "start_time": "2021-07-08T09:11:10.062Z"
   },
   {
    "duration": 249,
    "start_time": "2021-07-08T09:11:37.388Z"
   },
   {
    "duration": 232,
    "start_time": "2021-07-08T09:11:49.485Z"
   },
   {
    "duration": 453,
    "start_time": "2021-07-08T09:12:01.546Z"
   },
   {
    "duration": 440,
    "start_time": "2021-07-08T09:12:12.347Z"
   },
   {
    "duration": 213,
    "start_time": "2021-07-08T09:13:32.196Z"
   },
   {
    "duration": 172,
    "start_time": "2021-07-08T09:14:07.400Z"
   },
   {
    "duration": 185,
    "start_time": "2021-07-08T09:14:14.905Z"
   },
   {
    "duration": 209,
    "start_time": "2021-07-08T09:14:40.109Z"
   },
   {
    "duration": 201,
    "start_time": "2021-07-08T09:14:54.506Z"
   },
   {
    "duration": 622,
    "start_time": "2021-07-08T09:18:14.497Z"
   },
   {
    "duration": 220,
    "start_time": "2021-07-08T09:18:15.121Z"
   },
   {
    "duration": 79,
    "start_time": "2021-07-08T09:18:15.343Z"
   },
   {
    "duration": 4,
    "start_time": "2021-07-08T09:18:15.425Z"
   },
   {
    "duration": 24,
    "start_time": "2021-07-08T09:18:15.431Z"
   },
   {
    "duration": 8,
    "start_time": "2021-07-08T09:18:15.457Z"
   },
   {
    "duration": 16,
    "start_time": "2021-07-08T09:18:15.466Z"
   },
   {
    "duration": 5,
    "start_time": "2021-07-08T09:18:15.484Z"
   },
   {
    "duration": 10,
    "start_time": "2021-07-08T09:18:15.493Z"
   },
   {
    "duration": 8,
    "start_time": "2021-07-08T09:18:15.504Z"
   },
   {
    "duration": 7,
    "start_time": "2021-07-08T09:18:15.513Z"
   },
   {
    "duration": 26,
    "start_time": "2021-07-08T09:18:15.522Z"
   },
   {
    "duration": 49,
    "start_time": "2021-07-08T09:18:15.550Z"
   },
   {
    "duration": 21,
    "start_time": "2021-07-08T09:18:15.601Z"
   },
   {
    "duration": 8,
    "start_time": "2021-07-08T09:18:15.624Z"
   },
   {
    "duration": 3,
    "start_time": "2021-07-08T09:18:15.634Z"
   },
   {
    "duration": 8,
    "start_time": "2021-07-08T09:18:15.639Z"
   },
   {
    "duration": 45,
    "start_time": "2021-07-08T09:18:15.649Z"
   },
   {
    "duration": 13,
    "start_time": "2021-07-08T09:18:15.696Z"
   },
   {
    "duration": 10,
    "start_time": "2021-07-08T09:18:15.711Z"
   },
   {
    "duration": 64,
    "start_time": "2021-07-08T09:18:15.722Z"
   },
   {
    "duration": 19,
    "start_time": "2021-07-08T09:18:15.788Z"
   },
   {
    "duration": 9,
    "start_time": "2021-07-08T09:18:15.809Z"
   },
   {
    "duration": 9,
    "start_time": "2021-07-08T09:18:15.820Z"
   },
   {
    "duration": 18,
    "start_time": "2021-07-08T09:18:15.831Z"
   },
   {
    "duration": 43,
    "start_time": "2021-07-08T09:18:15.851Z"
   },
   {
    "duration": 12,
    "start_time": "2021-07-08T09:18:15.897Z"
   },
   {
    "duration": 219,
    "start_time": "2021-07-08T09:18:15.911Z"
   },
   {
    "duration": 8,
    "start_time": "2021-07-08T09:18:16.132Z"
   },
   {
    "duration": 199,
    "start_time": "2021-07-08T09:18:16.141Z"
   },
   {
    "duration": 18,
    "start_time": "2021-07-08T09:18:16.341Z"
   },
   {
    "duration": 24,
    "start_time": "2021-07-08T09:18:16.361Z"
   },
   {
    "duration": 24,
    "start_time": "2021-07-08T09:18:16.387Z"
   },
   {
    "duration": 211,
    "start_time": "2021-07-08T09:18:16.413Z"
   },
   {
    "duration": 18,
    "start_time": "2021-07-08T09:18:16.626Z"
   },
   {
    "duration": 596,
    "start_time": "2021-07-08T10:06:33.623Z"
   },
   {
    "duration": 181,
    "start_time": "2021-07-08T10:06:34.221Z"
   },
   {
    "duration": 176,
    "start_time": "2021-07-08T10:06:34.635Z"
   },
   {
    "duration": 239,
    "start_time": "2021-07-08T10:06:55.572Z"
   },
   {
    "duration": 6,
    "start_time": "2021-07-08T10:06:57.687Z"
   },
   {
    "duration": 4,
    "start_time": "2021-07-08T10:07:03.956Z"
   },
   {
    "duration": 4,
    "start_time": "2021-07-08T10:07:10.376Z"
   },
   {
    "duration": 4,
    "start_time": "2021-07-08T10:17:19.889Z"
   },
   {
    "duration": 3,
    "start_time": "2021-07-08T10:19:19.407Z"
   },
   {
    "duration": 197,
    "start_time": "2021-07-08T10:19:19.412Z"
   },
   {
    "duration": 127,
    "start_time": "2021-07-08T10:19:19.611Z"
   },
   {
    "duration": 4,
    "start_time": "2021-07-08T10:19:19.740Z"
   },
   {
    "duration": 27,
    "start_time": "2021-07-08T10:19:19.746Z"
   },
   {
    "duration": 7,
    "start_time": "2021-07-08T10:19:19.775Z"
   },
   {
    "duration": 30,
    "start_time": "2021-07-08T10:19:19.784Z"
   },
   {
    "duration": 7,
    "start_time": "2021-07-08T10:19:19.817Z"
   },
   {
    "duration": 26,
    "start_time": "2021-07-08T10:19:19.826Z"
   },
   {
    "duration": 18,
    "start_time": "2021-07-08T10:19:19.854Z"
   },
   {
    "duration": 14,
    "start_time": "2021-07-08T10:19:19.874Z"
   },
   {
    "duration": 48,
    "start_time": "2021-07-08T10:19:19.890Z"
   },
   {
    "duration": 17,
    "start_time": "2021-07-08T10:19:19.940Z"
   },
   {
    "duration": 38,
    "start_time": "2021-07-08T10:19:19.959Z"
   },
   {
    "duration": 8,
    "start_time": "2021-07-08T10:19:19.999Z"
   },
   {
    "duration": 15,
    "start_time": "2021-07-08T10:19:20.009Z"
   },
   {
    "duration": 22,
    "start_time": "2021-07-08T10:19:20.026Z"
   },
   {
    "duration": 10,
    "start_time": "2021-07-08T10:19:20.050Z"
   },
   {
    "duration": 10,
    "start_time": "2021-07-08T10:19:20.062Z"
   },
   {
    "duration": 20,
    "start_time": "2021-07-08T10:19:20.073Z"
   },
   {
    "duration": 29,
    "start_time": "2021-07-08T10:19:20.095Z"
   },
   {
    "duration": 17,
    "start_time": "2021-07-08T10:19:20.126Z"
   },
   {
    "duration": 40,
    "start_time": "2021-07-08T10:19:20.146Z"
   },
   {
    "duration": 15,
    "start_time": "2021-07-08T10:19:20.189Z"
   },
   {
    "duration": 19,
    "start_time": "2021-07-08T10:19:20.206Z"
   },
   {
    "duration": 10,
    "start_time": "2021-07-08T10:19:20.226Z"
   },
   {
    "duration": 11,
    "start_time": "2021-07-08T10:19:20.238Z"
   },
   {
    "duration": 297,
    "start_time": "2021-07-08T10:19:20.250Z"
   },
   {
    "duration": 6,
    "start_time": "2021-07-08T10:19:20.549Z"
   },
   {
    "duration": 191,
    "start_time": "2021-07-08T10:19:20.557Z"
   },
   {
    "duration": 19,
    "start_time": "2021-07-08T10:19:20.750Z"
   },
   {
    "duration": 20,
    "start_time": "2021-07-08T10:19:20.771Z"
   },
   {
    "duration": 15,
    "start_time": "2021-07-08T10:19:20.793Z"
   },
   {
    "duration": 222,
    "start_time": "2021-07-08T10:19:20.809Z"
   },
   {
    "duration": 20,
    "start_time": "2021-07-08T10:19:21.033Z"
   },
   {
    "duration": 27,
    "start_time": "2021-07-08T10:45:04.055Z"
   },
   {
    "duration": 8,
    "start_time": "2021-07-08T10:45:08.478Z"
   },
   {
    "duration": 8,
    "start_time": "2021-07-08T10:45:31.982Z"
   },
   {
    "duration": 10,
    "start_time": "2021-07-08T10:46:01.221Z"
   },
   {
    "duration": 17,
    "start_time": "2021-07-08T10:46:40.011Z"
   },
   {
    "duration": 193,
    "start_time": "2021-07-08T10:48:19.471Z"
   },
   {
    "duration": 225,
    "start_time": "2021-07-08T10:49:26.480Z"
   },
   {
    "duration": 204,
    "start_time": "2021-07-08T10:49:59.992Z"
   },
   {
    "duration": 435,
    "start_time": "2021-07-08T10:50:06.779Z"
   },
   {
    "duration": 199,
    "start_time": "2021-07-08T10:50:14.891Z"
   },
   {
    "duration": 204,
    "start_time": "2021-07-08T10:50:18.501Z"
   },
   {
    "duration": 244,
    "start_time": "2021-07-08T10:50:23.359Z"
   },
   {
    "duration": 192,
    "start_time": "2021-07-08T10:50:29.135Z"
   },
   {
    "duration": 218,
    "start_time": "2021-07-08T10:50:33.092Z"
   },
   {
    "duration": 207,
    "start_time": "2021-07-08T10:52:45.381Z"
   },
   {
    "duration": 5,
    "start_time": "2021-07-08T10:53:34.641Z"
   },
   {
    "duration": 196,
    "start_time": "2021-07-08T10:53:41.478Z"
   },
   {
    "duration": 43,
    "start_time": "2021-07-08T10:53:50.335Z"
   },
   {
    "duration": 32,
    "start_time": "2021-07-08T10:53:55.294Z"
   },
   {
    "duration": 55,
    "start_time": "2021-07-08T10:54:09.675Z"
   },
   {
    "duration": 16,
    "start_time": "2021-07-08T10:54:12.260Z"
   },
   {
    "duration": 15,
    "start_time": "2021-07-08T10:54:49.150Z"
   },
   {
    "duration": 20,
    "start_time": "2021-07-08T10:56:07.596Z"
   },
   {
    "duration": 16,
    "start_time": "2021-07-08T10:58:26.276Z"
   },
   {
    "duration": 22,
    "start_time": "2021-07-08T10:59:00.486Z"
   },
   {
    "duration": 18,
    "start_time": "2021-07-08T11:02:09.653Z"
   },
   {
    "duration": 10,
    "start_time": "2021-07-08T11:03:44.331Z"
   },
   {
    "duration": 10,
    "start_time": "2021-07-08T11:03:54.055Z"
   },
   {
    "duration": 12,
    "start_time": "2021-07-08T11:04:41.967Z"
   },
   {
    "duration": 24,
    "start_time": "2021-07-08T11:07:30.732Z"
   },
   {
    "duration": 6,
    "start_time": "2021-07-08T11:07:37.364Z"
   },
   {
    "duration": 16,
    "start_time": "2021-07-08T11:08:01.819Z"
   },
   {
    "duration": 17,
    "start_time": "2021-07-08T11:09:47.488Z"
   },
   {
    "duration": 246,
    "start_time": "2021-07-08T11:10:00.830Z"
   },
   {
    "duration": 18,
    "start_time": "2021-07-08T11:13:55.195Z"
   },
   {
    "duration": 204,
    "start_time": "2021-07-08T11:14:04.951Z"
   },
   {
    "duration": 19,
    "start_time": "2021-07-08T11:15:10.613Z"
   },
   {
    "duration": 680,
    "start_time": "2021-07-08T11:16:25.793Z"
   },
   {
    "duration": 451,
    "start_time": "2021-07-08T11:16:40.313Z"
   },
   {
    "duration": 469,
    "start_time": "2021-07-08T11:17:21.286Z"
   },
   {
    "duration": 20,
    "start_time": "2021-07-08T11:19:12.554Z"
   },
   {
    "duration": 35,
    "start_time": "2021-07-08T11:20:05.484Z"
   },
   {
    "duration": 53,
    "start_time": "2021-07-08T11:21:40.050Z"
   },
   {
    "duration": 13,
    "start_time": "2021-07-08T11:22:26.059Z"
   },
   {
    "duration": 19,
    "start_time": "2021-07-08T11:22:47.419Z"
   },
   {
    "duration": 25,
    "start_time": "2021-07-08T11:23:19.958Z"
   },
   {
    "duration": 29,
    "start_time": "2021-07-08T11:23:25.415Z"
   },
   {
    "duration": 10,
    "start_time": "2021-07-08T11:24:45.138Z"
   },
   {
    "duration": 19,
    "start_time": "2021-07-08T11:24:54.498Z"
   },
   {
    "duration": 12,
    "start_time": "2021-07-08T11:25:32.225Z"
   },
   {
    "duration": 19,
    "start_time": "2021-07-08T11:25:37.092Z"
   },
   {
    "duration": 17,
    "start_time": "2021-07-08T11:25:58.116Z"
   },
   {
    "duration": 15,
    "start_time": "2021-07-08T11:26:02.258Z"
   },
   {
    "duration": 8,
    "start_time": "2021-07-08T11:26:59.682Z"
   },
   {
    "duration": 184,
    "start_time": "2021-07-08T11:27:21.894Z"
   },
   {
    "duration": 8,
    "start_time": "2021-07-08T11:27:23.824Z"
   },
   {
    "duration": 202,
    "start_time": "2021-07-08T11:27:23.962Z"
   },
   {
    "duration": 360,
    "start_time": "2021-07-08T11:28:33.215Z"
   },
   {
    "duration": 231,
    "start_time": "2021-07-08T11:32:05.542Z"
   },
   {
    "duration": 607,
    "start_time": "2021-07-08T11:36:27.854Z"
   },
   {
    "duration": 241,
    "start_time": "2021-07-08T11:36:28.463Z"
   },
   {
    "duration": 67,
    "start_time": "2021-07-08T11:36:28.709Z"
   },
   {
    "duration": 5,
    "start_time": "2021-07-08T11:36:28.778Z"
   },
   {
    "duration": 32,
    "start_time": "2021-07-08T11:36:28.784Z"
   },
   {
    "duration": 11,
    "start_time": "2021-07-08T11:36:28.819Z"
   },
   {
    "duration": 20,
    "start_time": "2021-07-08T11:36:28.834Z"
   },
   {
    "duration": 36,
    "start_time": "2021-07-08T11:36:28.857Z"
   },
   {
    "duration": 16,
    "start_time": "2021-07-08T11:36:28.895Z"
   },
   {
    "duration": 14,
    "start_time": "2021-07-08T11:36:28.913Z"
   },
   {
    "duration": 9,
    "start_time": "2021-07-08T11:36:28.930Z"
   },
   {
    "duration": 55,
    "start_time": "2021-07-08T11:36:28.941Z"
   },
   {
    "duration": 27,
    "start_time": "2021-07-08T11:36:28.999Z"
   },
   {
    "duration": 30,
    "start_time": "2021-07-08T11:36:29.028Z"
   },
   {
    "duration": 31,
    "start_time": "2021-07-08T11:36:29.060Z"
   },
   {
    "duration": 3,
    "start_time": "2021-07-08T11:36:29.093Z"
   },
   {
    "duration": 12,
    "start_time": "2021-07-08T11:36:29.099Z"
   },
   {
    "duration": 11,
    "start_time": "2021-07-08T11:36:29.112Z"
   },
   {
    "duration": 12,
    "start_time": "2021-07-08T11:36:29.125Z"
   },
   {
    "duration": 9,
    "start_time": "2021-07-08T11:36:29.139Z"
   },
   {
    "duration": 31,
    "start_time": "2021-07-08T11:36:29.191Z"
   },
   {
    "duration": 17,
    "start_time": "2021-07-08T11:36:29.226Z"
   },
   {
    "duration": 7,
    "start_time": "2021-07-08T11:36:29.245Z"
   },
   {
    "duration": 10,
    "start_time": "2021-07-08T11:36:29.254Z"
   },
   {
    "duration": 30,
    "start_time": "2021-07-08T11:36:29.292Z"
   },
   {
    "duration": 11,
    "start_time": "2021-07-08T11:36:29.324Z"
   },
   {
    "duration": 11,
    "start_time": "2021-07-08T11:36:29.337Z"
   },
   {
    "duration": 230,
    "start_time": "2021-07-08T11:36:29.349Z"
   },
   {
    "duration": 13,
    "start_time": "2021-07-08T11:36:29.588Z"
   },
   {
    "duration": 205,
    "start_time": "2021-07-08T11:36:29.603Z"
   },
   {
    "duration": 20,
    "start_time": "2021-07-08T11:36:29.810Z"
   },
   {
    "duration": 9,
    "start_time": "2021-07-08T11:36:29.832Z"
   },
   {
    "duration": 16,
    "start_time": "2021-07-08T11:36:29.843Z"
   },
   {
    "duration": 283,
    "start_time": "2021-07-08T11:36:29.861Z"
   },
   {
    "duration": 50,
    "start_time": "2021-07-08T11:36:30.146Z"
   },
   {
    "duration": 14,
    "start_time": "2021-07-08T11:36:30.198Z"
   },
   {
    "duration": 11,
    "start_time": "2021-07-08T11:36:30.214Z"
   },
   {
    "duration": 245,
    "start_time": "2021-07-08T11:36:30.227Z"
   },
   {
    "duration": 439,
    "start_time": "2021-07-08T11:36:30.474Z"
   },
   {
    "duration": 210,
    "start_time": "2021-07-08T11:36:30.915Z"
   },
   {
    "duration": 15,
    "start_time": "2021-07-08T11:36:31.127Z"
   },
   {
    "duration": 17,
    "start_time": "2021-07-08T11:38:20.451Z"
   },
   {
    "duration": 642,
    "start_time": "2021-07-08T11:46:17.881Z"
   },
   {
    "duration": 210,
    "start_time": "2021-07-08T11:46:18.525Z"
   },
   {
    "duration": 104,
    "start_time": "2021-07-08T11:46:18.741Z"
   },
   {
    "duration": 8,
    "start_time": "2021-07-08T11:46:18.847Z"
   },
   {
    "duration": 25,
    "start_time": "2021-07-08T11:46:18.857Z"
   },
   {
    "duration": 14,
    "start_time": "2021-07-08T11:46:18.884Z"
   },
   {
    "duration": 22,
    "start_time": "2021-07-08T11:46:18.900Z"
   },
   {
    "duration": 5,
    "start_time": "2021-07-08T11:46:18.924Z"
   },
   {
    "duration": 13,
    "start_time": "2021-07-08T11:46:18.931Z"
   },
   {
    "duration": 45,
    "start_time": "2021-07-08T11:46:18.946Z"
   },
   {
    "duration": 12,
    "start_time": "2021-07-08T11:46:18.993Z"
   },
   {
    "duration": 38,
    "start_time": "2021-07-08T11:46:19.006Z"
   },
   {
    "duration": 50,
    "start_time": "2021-07-08T11:46:19.046Z"
   },
   {
    "duration": 29,
    "start_time": "2021-07-08T11:46:19.099Z"
   },
   {
    "duration": 7,
    "start_time": "2021-07-08T11:46:19.130Z"
   },
   {
    "duration": 3,
    "start_time": "2021-07-08T11:46:19.139Z"
   },
   {
    "duration": 11,
    "start_time": "2021-07-08T11:46:19.144Z"
   },
   {
    "duration": 40,
    "start_time": "2021-07-08T11:46:19.157Z"
   },
   {
    "duration": 15,
    "start_time": "2021-07-08T11:46:19.199Z"
   },
   {
    "duration": 10,
    "start_time": "2021-07-08T11:46:19.217Z"
   },
   {
    "duration": 68,
    "start_time": "2021-07-08T11:46:19.230Z"
   },
   {
    "duration": 17,
    "start_time": "2021-07-08T11:46:19.301Z"
   },
   {
    "duration": 7,
    "start_time": "2021-07-08T11:46:19.321Z"
   },
   {
    "duration": 11,
    "start_time": "2021-07-08T11:46:19.330Z"
   },
   {
    "duration": 59,
    "start_time": "2021-07-08T11:46:19.343Z"
   },
   {
    "duration": 17,
    "start_time": "2021-07-08T11:46:19.405Z"
   },
   {
    "duration": 16,
    "start_time": "2021-07-08T11:46:19.424Z"
   },
   {
    "duration": 252,
    "start_time": "2021-07-08T11:46:19.443Z"
   },
   {
    "duration": 9,
    "start_time": "2021-07-08T11:46:19.697Z"
   },
   {
    "duration": 224,
    "start_time": "2021-07-08T11:46:19.708Z"
   },
   {
    "duration": 21,
    "start_time": "2021-07-08T11:46:19.934Z"
   },
   {
    "duration": 9,
    "start_time": "2021-07-08T11:46:19.956Z"
   },
   {
    "duration": 32,
    "start_time": "2021-07-08T11:46:19.967Z"
   },
   {
    "duration": 288,
    "start_time": "2021-07-08T11:46:20.004Z"
   },
   {
    "duration": 23,
    "start_time": "2021-07-08T11:46:20.300Z"
   },
   {
    "duration": 11,
    "start_time": "2021-07-08T11:46:20.325Z"
   },
   {
    "duration": 11,
    "start_time": "2021-07-08T11:46:20.339Z"
   },
   {
    "duration": 259,
    "start_time": "2021-07-08T11:46:20.352Z"
   },
   {
    "duration": 438,
    "start_time": "2021-07-08T11:46:20.613Z"
   },
   {
    "duration": 207,
    "start_time": "2021-07-08T11:46:21.054Z"
   },
   {
    "duration": 27,
    "start_time": "2021-07-08T11:46:21.262Z"
   },
   {
    "duration": 19,
    "start_time": "2021-07-08T11:46:21.291Z"
   },
   {
    "duration": 820,
    "start_time": "2021-07-08T11:49:01.655Z"
   },
   {
    "duration": 372,
    "start_time": "2021-07-08T11:49:02.478Z"
   },
   {
    "duration": 98,
    "start_time": "2021-07-08T11:49:02.853Z"
   },
   {
    "duration": 6,
    "start_time": "2021-07-08T11:49:02.953Z"
   },
   {
    "duration": 39,
    "start_time": "2021-07-08T11:49:02.960Z"
   },
   {
    "duration": 9,
    "start_time": "2021-07-08T11:49:03.003Z"
   },
   {
    "duration": 23,
    "start_time": "2021-07-08T11:49:03.014Z"
   },
   {
    "duration": 6,
    "start_time": "2021-07-08T11:49:03.041Z"
   },
   {
    "duration": 20,
    "start_time": "2021-07-08T11:49:03.049Z"
   },
   {
    "duration": 18,
    "start_time": "2021-07-08T11:49:03.084Z"
   },
   {
    "duration": 14,
    "start_time": "2021-07-08T11:49:03.104Z"
   },
   {
    "duration": 39,
    "start_time": "2021-07-08T11:49:03.119Z"
   },
   {
    "duration": 38,
    "start_time": "2021-07-08T11:49:03.160Z"
   },
   {
    "duration": 26,
    "start_time": "2021-07-08T11:49:03.200Z"
   },
   {
    "duration": 7,
    "start_time": "2021-07-08T11:49:03.227Z"
   },
   {
    "duration": 4,
    "start_time": "2021-07-08T11:49:03.236Z"
   },
   {
    "duration": 15,
    "start_time": "2021-07-08T11:49:03.243Z"
   },
   {
    "duration": 21,
    "start_time": "2021-07-08T11:49:03.285Z"
   },
   {
    "duration": 17,
    "start_time": "2021-07-08T11:49:03.309Z"
   },
   {
    "duration": 10,
    "start_time": "2021-07-08T11:49:03.328Z"
   },
   {
    "duration": 65,
    "start_time": "2021-07-08T11:49:03.340Z"
   },
   {
    "duration": 18,
    "start_time": "2021-07-08T11:49:03.407Z"
   },
   {
    "duration": 8,
    "start_time": "2021-07-08T11:49:03.428Z"
   },
   {
    "duration": 15,
    "start_time": "2021-07-08T11:49:03.438Z"
   },
   {
    "duration": 40,
    "start_time": "2021-07-08T11:49:03.455Z"
   },
   {
    "duration": 12,
    "start_time": "2021-07-08T11:49:03.497Z"
   },
   {
    "duration": 29,
    "start_time": "2021-07-08T11:49:03.511Z"
   },
   {
    "duration": 285,
    "start_time": "2021-07-08T11:49:03.542Z"
   },
   {
    "duration": 8,
    "start_time": "2021-07-08T11:49:03.829Z"
   },
   {
    "duration": 227,
    "start_time": "2021-07-08T11:49:03.838Z"
   },
   {
    "duration": 40,
    "start_time": "2021-07-08T11:49:04.066Z"
   },
   {
    "duration": 10,
    "start_time": "2021-07-08T11:49:04.108Z"
   },
   {
    "duration": 26,
    "start_time": "2021-07-08T11:49:04.121Z"
   },
   {
    "duration": 290,
    "start_time": "2021-07-08T11:49:04.149Z"
   },
   {
    "duration": 26,
    "start_time": "2021-07-08T11:49:04.441Z"
   },
   {
    "duration": 31,
    "start_time": "2021-07-08T11:49:04.470Z"
   },
   {
    "duration": 14,
    "start_time": "2021-07-08T11:49:04.503Z"
   },
   {
    "duration": 259,
    "start_time": "2021-07-08T11:49:04.521Z"
   },
   {
    "duration": 480,
    "start_time": "2021-07-08T11:49:04.782Z"
   },
   {
    "duration": 225,
    "start_time": "2021-07-08T11:49:05.264Z"
   },
   {
    "duration": 22,
    "start_time": "2021-07-08T11:49:05.491Z"
   },
   {
    "duration": 24,
    "start_time": "2021-07-08T11:49:05.515Z"
   },
   {
    "duration": 634,
    "start_time": "2021-07-08T11:52:24.960Z"
   },
   {
    "duration": 199,
    "start_time": "2021-07-08T11:52:25.599Z"
   },
   {
    "duration": 106,
    "start_time": "2021-07-08T11:52:25.803Z"
   },
   {
    "duration": 7,
    "start_time": "2021-07-08T11:52:25.911Z"
   },
   {
    "duration": 29,
    "start_time": "2021-07-08T11:52:25.920Z"
   },
   {
    "duration": 7,
    "start_time": "2021-07-08T11:52:25.951Z"
   },
   {
    "duration": 26,
    "start_time": "2021-07-08T11:52:25.961Z"
   },
   {
    "duration": 11,
    "start_time": "2021-07-08T11:52:25.990Z"
   },
   {
    "duration": 29,
    "start_time": "2021-07-08T11:52:26.005Z"
   },
   {
    "duration": 9,
    "start_time": "2021-07-08T11:52:26.036Z"
   },
   {
    "duration": 8,
    "start_time": "2021-07-08T11:52:26.047Z"
   },
   {
    "duration": 63,
    "start_time": "2021-07-08T11:52:26.057Z"
   },
   {
    "duration": 17,
    "start_time": "2021-07-08T11:52:26.122Z"
   },
   {
    "duration": 43,
    "start_time": "2021-07-08T11:52:26.142Z"
   },
   {
    "duration": 17,
    "start_time": "2021-07-08T11:52:26.187Z"
   },
   {
    "duration": 5,
    "start_time": "2021-07-08T11:52:26.206Z"
   },
   {
    "duration": 12,
    "start_time": "2021-07-08T11:52:26.212Z"
   },
   {
    "duration": 11,
    "start_time": "2021-07-08T11:52:26.226Z"
   },
   {
    "duration": 12,
    "start_time": "2021-07-08T11:52:26.238Z"
   },
   {
    "duration": 38,
    "start_time": "2021-07-08T11:52:26.252Z"
   },
   {
    "duration": 40,
    "start_time": "2021-07-08T11:52:26.292Z"
   },
   {
    "duration": 17,
    "start_time": "2021-07-08T11:52:26.336Z"
   },
   {
    "duration": 39,
    "start_time": "2021-07-08T11:52:26.355Z"
   },
   {
    "duration": 11,
    "start_time": "2021-07-08T11:52:26.395Z"
   },
   {
    "duration": 23,
    "start_time": "2021-07-08T11:52:26.408Z"
   },
   {
    "duration": 12,
    "start_time": "2021-07-08T11:52:26.432Z"
   },
   {
    "duration": 41,
    "start_time": "2021-07-08T11:52:26.446Z"
   },
   {
    "duration": 215,
    "start_time": "2021-07-08T11:52:26.493Z"
   },
   {
    "duration": 8,
    "start_time": "2021-07-08T11:52:26.710Z"
   },
   {
    "duration": 228,
    "start_time": "2021-07-08T11:52:26.720Z"
   },
   {
    "duration": 18,
    "start_time": "2021-07-08T11:52:26.950Z"
   },
   {
    "duration": 35,
    "start_time": "2021-07-08T11:52:26.969Z"
   },
   {
    "duration": 23,
    "start_time": "2021-07-08T11:52:27.006Z"
   },
   {
    "duration": 258,
    "start_time": "2021-07-08T11:52:27.030Z"
   },
   {
    "duration": 24,
    "start_time": "2021-07-08T11:52:27.290Z"
   },
   {
    "duration": 12,
    "start_time": "2021-07-08T11:52:27.316Z"
   },
   {
    "duration": 10,
    "start_time": "2021-07-08T11:52:27.329Z"
   },
   {
    "duration": 298,
    "start_time": "2021-07-08T11:52:27.341Z"
   },
   {
    "duration": 436,
    "start_time": "2021-07-08T11:52:27.641Z"
   },
   {
    "duration": 216,
    "start_time": "2021-07-08T11:52:28.079Z"
   },
   {
    "duration": 20,
    "start_time": "2021-07-08T11:52:28.297Z"
   },
   {
    "duration": 17,
    "start_time": "2021-07-08T11:52:28.319Z"
   },
   {
    "duration": 368,
    "start_time": "2023-01-12T22:09:33.452Z"
   },
   {
    "duration": 346,
    "start_time": "2023-01-12T22:10:25.983Z"
   },
   {
    "duration": 28,
    "start_time": "2023-01-12T22:10:30.228Z"
   },
   {
    "duration": 10,
    "start_time": "2023-01-12T22:10:57.149Z"
   },
   {
    "duration": 12,
    "start_time": "2023-01-12T22:11:14.126Z"
   },
   {
    "duration": 15,
    "start_time": "2023-01-12T22:11:17.230Z"
   },
   {
    "duration": 111,
    "start_time": "2023-01-12T22:12:06.539Z"
   },
   {
    "duration": 10,
    "start_time": "2023-01-12T22:12:09.348Z"
   },
   {
    "duration": 87,
    "start_time": "2023-01-12T22:14:33.248Z"
   },
   {
    "duration": 7,
    "start_time": "2023-01-12T22:15:33.311Z"
   },
   {
    "duration": 6,
    "start_time": "2023-01-12T22:15:49.141Z"
   },
   {
    "duration": 229,
    "start_time": "2023-01-12T22:16:30.452Z"
   },
   {
    "duration": 4,
    "start_time": "2023-01-12T22:17:08.021Z"
   },
   {
    "duration": 15,
    "start_time": "2023-01-12T22:17:09.816Z"
   },
   {
    "duration": 25,
    "start_time": "2023-01-12T22:17:19.387Z"
   },
   {
    "duration": 16,
    "start_time": "2023-01-12T22:17:34.231Z"
   },
   {
    "duration": 5,
    "start_time": "2023-01-12T22:17:58.412Z"
   },
   {
    "duration": 10,
    "start_time": "2023-01-12T22:18:07.147Z"
   },
   {
    "duration": 7,
    "start_time": "2023-01-12T22:18:25.180Z"
   },
   {
    "duration": 4,
    "start_time": "2023-01-12T22:18:26.642Z"
   },
   {
    "duration": 2,
    "start_time": "2023-01-12T22:19:26.889Z"
   },
   {
    "duration": 90,
    "start_time": "2023-01-12T22:19:26.893Z"
   },
   {
    "duration": 20,
    "start_time": "2023-01-12T22:19:26.985Z"
   },
   {
    "duration": 56,
    "start_time": "2023-01-12T22:19:27.007Z"
   },
   {
    "duration": 9,
    "start_time": "2023-01-12T22:19:27.066Z"
   },
   {
    "duration": 12,
    "start_time": "2023-01-12T22:19:27.076Z"
   },
   {
    "duration": 0,
    "start_time": "2023-01-12T22:19:27.090Z"
   },
   {
    "duration": 0,
    "start_time": "2023-01-12T22:19:27.091Z"
   },
   {
    "duration": 4,
    "start_time": "2023-01-12T22:20:27.363Z"
   },
   {
    "duration": 4,
    "start_time": "2023-01-12T22:20:30.921Z"
   },
   {
    "duration": 6,
    "start_time": "2023-01-12T22:20:35.755Z"
   },
   {
    "duration": 7,
    "start_time": "2023-01-12T22:20:55.096Z"
   },
   {
    "duration": 15,
    "start_time": "2023-01-12T22:22:13.389Z"
   },
   {
    "duration": 11,
    "start_time": "2023-01-12T22:22:23.073Z"
   },
   {
    "duration": 8,
    "start_time": "2023-01-12T22:22:35.229Z"
   },
   {
    "duration": 5,
    "start_time": "2023-01-12T22:22:36.898Z"
   },
   {
    "duration": 4,
    "start_time": "2023-01-12T22:23:02.992Z"
   },
   {
    "duration": 5,
    "start_time": "2023-01-12T22:23:04.421Z"
   },
   {
    "duration": 16,
    "start_time": "2023-01-12T22:23:07.106Z"
   },
   {
    "duration": 10,
    "start_time": "2023-01-12T22:23:09.834Z"
   },
   {
    "duration": 4,
    "start_time": "2023-01-12T22:23:11.612Z"
   },
   {
    "duration": 16,
    "start_time": "2023-01-12T22:23:23.503Z"
   },
   {
    "duration": 15,
    "start_time": "2023-01-12T22:23:25.689Z"
   },
   {
    "duration": 14,
    "start_time": "2023-01-12T22:23:30.351Z"
   },
   {
    "duration": 13,
    "start_time": "2023-01-12T22:23:31.691Z"
   },
   {
    "duration": 3,
    "start_time": "2023-01-12T22:24:18.734Z"
   },
   {
    "duration": 117,
    "start_time": "2023-01-12T22:24:18.739Z"
   },
   {
    "duration": 20,
    "start_time": "2023-01-12T22:24:18.859Z"
   },
   {
    "duration": 13,
    "start_time": "2023-01-12T22:24:18.881Z"
   },
   {
    "duration": 61,
    "start_time": "2023-01-12T22:24:18.896Z"
   },
   {
    "duration": 12,
    "start_time": "2023-01-12T22:24:18.959Z"
   },
   {
    "duration": 11,
    "start_time": "2023-01-12T22:24:18.973Z"
   },
   {
    "duration": 6,
    "start_time": "2023-01-12T22:24:18.986Z"
   },
   {
    "duration": 18,
    "start_time": "2023-01-12T22:24:18.993Z"
   },
   {
    "duration": 33,
    "start_time": "2023-01-12T22:24:19.013Z"
   },
   {
    "duration": 11,
    "start_time": "2023-01-12T22:24:19.048Z"
   },
   {
    "duration": 32,
    "start_time": "2023-01-12T22:24:19.061Z"
   },
   {
    "duration": 11,
    "start_time": "2023-01-12T22:25:42.454Z"
   },
   {
    "duration": 3,
    "start_time": "2023-01-12T22:25:44.626Z"
   },
   {
    "duration": 85,
    "start_time": "2023-01-12T22:25:44.631Z"
   },
   {
    "duration": 16,
    "start_time": "2023-01-12T22:25:44.717Z"
   },
   {
    "duration": 6,
    "start_time": "2023-01-12T22:25:44.735Z"
   },
   {
    "duration": 39,
    "start_time": "2023-01-12T22:25:44.743Z"
   },
   {
    "duration": 7,
    "start_time": "2023-01-12T22:25:44.783Z"
   },
   {
    "duration": 6,
    "start_time": "2023-01-12T22:25:44.792Z"
   },
   {
    "duration": 7,
    "start_time": "2023-01-12T22:25:44.799Z"
   },
   {
    "duration": 18,
    "start_time": "2023-01-12T22:25:44.807Z"
   },
   {
    "duration": 22,
    "start_time": "2023-01-12T22:25:44.827Z"
   },
   {
    "duration": 4,
    "start_time": "2023-01-12T22:25:44.851Z"
   },
   {
    "duration": 16,
    "start_time": "2023-01-12T22:25:44.857Z"
   },
   {
    "duration": 11,
    "start_time": "2023-01-12T22:28:54.792Z"
   },
   {
    "duration": 7,
    "start_time": "2023-01-12T22:30:53.950Z"
   },
   {
    "duration": 3,
    "start_time": "2023-01-12T22:30:58.425Z"
   },
   {
    "duration": 84,
    "start_time": "2023-01-12T22:30:58.430Z"
   },
   {
    "duration": 21,
    "start_time": "2023-01-12T22:30:58.516Z"
   },
   {
    "duration": 7,
    "start_time": "2023-01-12T22:30:58.539Z"
   },
   {
    "duration": 8,
    "start_time": "2023-01-12T22:30:58.548Z"
   },
   {
    "duration": 41,
    "start_time": "2023-01-12T22:30:58.557Z"
   },
   {
    "duration": 7,
    "start_time": "2023-01-12T22:30:58.599Z"
   },
   {
    "duration": 7,
    "start_time": "2023-01-12T22:30:58.608Z"
   },
   {
    "duration": 21,
    "start_time": "2023-01-12T22:30:58.617Z"
   },
   {
    "duration": 14,
    "start_time": "2023-01-12T22:30:58.640Z"
   },
   {
    "duration": 3,
    "start_time": "2023-01-12T22:30:58.656Z"
   },
   {
    "duration": 16,
    "start_time": "2023-01-12T22:30:58.661Z"
   },
   {
    "duration": 14,
    "start_time": "2023-01-12T22:31:31.443Z"
   },
   {
    "duration": 8,
    "start_time": "2023-01-12T22:31:42.575Z"
   },
   {
    "duration": 6,
    "start_time": "2023-01-12T22:31:59.682Z"
   },
   {
    "duration": 10,
    "start_time": "2023-01-12T22:32:12.099Z"
   },
   {
    "duration": 5,
    "start_time": "2023-01-12T22:32:45.685Z"
   },
   {
    "duration": 6,
    "start_time": "2023-01-12T22:32:46.503Z"
   },
   {
    "duration": 5,
    "start_time": "2023-01-12T22:32:47.962Z"
   },
   {
    "duration": 14,
    "start_time": "2023-01-12T22:32:49.995Z"
   },
   {
    "duration": 4,
    "start_time": "2023-01-12T22:32:50.882Z"
   },
   {
    "duration": 21,
    "start_time": "2023-01-12T22:32:51.620Z"
   },
   {
    "duration": 18,
    "start_time": "2023-01-12T22:33:29.193Z"
   },
   {
    "duration": 19,
    "start_time": "2023-01-12T22:33:37.231Z"
   },
   {
    "duration": 32,
    "start_time": "2023-01-12T22:33:44.343Z"
   },
   {
    "duration": 23,
    "start_time": "2023-01-12T22:33:52.723Z"
   },
   {
    "duration": 5,
    "start_time": "2023-01-12T22:34:26.662Z"
   },
   {
    "duration": 396,
    "start_time": "2023-01-12T22:35:43.271Z"
   },
   {
    "duration": 355,
    "start_time": "2023-01-12T22:36:11.308Z"
   },
   {
    "duration": 8,
    "start_time": "2023-01-12T22:36:56.979Z"
   },
   {
    "duration": 22,
    "start_time": "2023-01-12T22:37:11.241Z"
   },
   {
    "duration": 54,
    "start_time": "2023-01-12T22:38:41.129Z"
   },
   {
    "duration": 29,
    "start_time": "2023-01-12T22:38:42.168Z"
   },
   {
    "duration": 11,
    "start_time": "2023-01-12T22:38:59.898Z"
   },
   {
    "duration": 22,
    "start_time": "2023-01-12T22:39:01.229Z"
   },
   {
    "duration": 3,
    "start_time": "2023-01-12T22:39:04.611Z"
   },
   {
    "duration": 117,
    "start_time": "2023-01-12T22:39:04.616Z"
   },
   {
    "duration": 14,
    "start_time": "2023-01-12T22:39:04.735Z"
   },
   {
    "duration": 18,
    "start_time": "2023-01-12T22:39:04.751Z"
   },
   {
    "duration": 12,
    "start_time": "2023-01-12T22:39:04.771Z"
   },
   {
    "duration": 58,
    "start_time": "2023-01-12T22:39:04.785Z"
   },
   {
    "duration": 7,
    "start_time": "2023-01-12T22:39:04.845Z"
   },
   {
    "duration": 22,
    "start_time": "2023-01-12T22:39:04.854Z"
   },
   {
    "duration": 12,
    "start_time": "2023-01-12T22:39:04.878Z"
   },
   {
    "duration": 14,
    "start_time": "2023-01-12T22:39:04.892Z"
   },
   {
    "duration": 37,
    "start_time": "2023-01-12T22:39:04.908Z"
   },
   {
    "duration": 37,
    "start_time": "2023-01-12T22:39:04.947Z"
   },
   {
    "duration": 16,
    "start_time": "2023-01-12T22:39:04.987Z"
   },
   {
    "duration": 36,
    "start_time": "2023-01-12T22:39:05.005Z"
   },
   {
    "duration": 19,
    "start_time": "2023-01-12T22:39:05.043Z"
   },
   {
    "duration": 31,
    "start_time": "2023-01-12T22:39:05.064Z"
   },
   {
    "duration": 638,
    "start_time": "2023-01-12T22:39:05.097Z"
   },
   {
    "duration": 0,
    "start_time": "2023-01-12T22:39:05.738Z"
   },
   {
    "duration": 429,
    "start_time": "2023-01-12T22:39:13.329Z"
   },
   {
    "duration": 621,
    "start_time": "2023-01-12T22:39:26.642Z"
   },
   {
    "duration": 521,
    "start_time": "2023-01-12T22:40:09.283Z"
   },
   {
    "duration": 11,
    "start_time": "2023-01-12T22:41:20.630Z"
   },
   {
    "duration": 21,
    "start_time": "2023-01-12T22:41:22.101Z"
   },
   {
    "duration": 14,
    "start_time": "2023-01-12T22:41:28.401Z"
   },
   {
    "duration": 24,
    "start_time": "2023-01-12T22:41:29.309Z"
   },
   {
    "duration": 4,
    "start_time": "2023-01-12T22:41:32.145Z"
   },
   {
    "duration": 128,
    "start_time": "2023-01-12T22:41:32.152Z"
   },
   {
    "duration": 22,
    "start_time": "2023-01-12T22:41:32.282Z"
   },
   {
    "duration": 6,
    "start_time": "2023-01-12T22:41:32.311Z"
   },
   {
    "duration": 12,
    "start_time": "2023-01-12T22:41:32.319Z"
   },
   {
    "duration": 45,
    "start_time": "2023-01-12T22:41:32.333Z"
   },
   {
    "duration": 9,
    "start_time": "2023-01-12T22:41:32.380Z"
   },
   {
    "duration": 21,
    "start_time": "2023-01-12T22:41:32.391Z"
   },
   {
    "duration": 15,
    "start_time": "2023-01-12T22:41:32.413Z"
   },
   {
    "duration": 9,
    "start_time": "2023-01-12T22:41:32.431Z"
   },
   {
    "duration": 16,
    "start_time": "2023-01-12T22:41:32.441Z"
   },
   {
    "duration": 16,
    "start_time": "2023-01-12T22:41:32.459Z"
   },
   {
    "duration": 12,
    "start_time": "2023-01-12T22:41:32.477Z"
   },
   {
    "duration": 32,
    "start_time": "2023-01-12T22:41:32.491Z"
   },
   {
    "duration": 23,
    "start_time": "2023-01-12T22:41:32.524Z"
   },
   {
    "duration": 15,
    "start_time": "2023-01-12T22:41:32.549Z"
   },
   {
    "duration": 582,
    "start_time": "2023-01-12T22:41:32.566Z"
   },
   {
    "duration": 0,
    "start_time": "2023-01-12T22:41:33.150Z"
   },
   {
    "duration": 383,
    "start_time": "2023-01-12T22:41:44.898Z"
   },
   {
    "duration": 2,
    "start_time": "2023-01-12T22:43:22.467Z"
   },
   {
    "duration": 90,
    "start_time": "2023-01-12T22:43:22.472Z"
   },
   {
    "duration": 17,
    "start_time": "2023-01-12T22:43:22.564Z"
   },
   {
    "duration": 8,
    "start_time": "2023-01-12T22:43:22.583Z"
   },
   {
    "duration": 6,
    "start_time": "2023-01-12T22:43:22.593Z"
   },
   {
    "duration": 39,
    "start_time": "2023-01-12T22:43:22.612Z"
   },
   {
    "duration": 9,
    "start_time": "2023-01-12T22:43:22.654Z"
   },
   {
    "duration": 13,
    "start_time": "2023-01-12T22:43:22.664Z"
   },
   {
    "duration": 11,
    "start_time": "2023-01-12T22:43:22.679Z"
   },
   {
    "duration": 8,
    "start_time": "2023-01-12T22:43:22.692Z"
   },
   {
    "duration": 8,
    "start_time": "2023-01-12T22:43:22.702Z"
   },
   {
    "duration": 22,
    "start_time": "2023-01-12T22:43:22.711Z"
   },
   {
    "duration": 5,
    "start_time": "2023-01-12T22:43:22.735Z"
   },
   {
    "duration": 33,
    "start_time": "2023-01-12T22:43:22.743Z"
   },
   {
    "duration": 24,
    "start_time": "2023-01-12T22:43:22.778Z"
   },
   {
    "duration": 14,
    "start_time": "2023-01-12T22:43:22.803Z"
   },
   {
    "duration": 16,
    "start_time": "2023-01-12T22:43:22.818Z"
   },
   {
    "duration": 20,
    "start_time": "2023-01-12T22:43:22.836Z"
   },
   {
    "duration": 6,
    "start_time": "2023-01-12T22:43:34.382Z"
   },
   {
    "duration": 21,
    "start_time": "2023-01-12T22:43:57.637Z"
   },
   {
    "duration": 5,
    "start_time": "2023-01-12T22:44:49.213Z"
   },
   {
    "duration": 6,
    "start_time": "2023-01-12T22:44:57.783Z"
   },
   {
    "duration": 5,
    "start_time": "2023-01-12T22:45:19.979Z"
   },
   {
    "duration": 12,
    "start_time": "2023-01-12T22:45:41.422Z"
   },
   {
    "duration": 6,
    "start_time": "2023-01-12T22:45:59.583Z"
   },
   {
    "duration": 9,
    "start_time": "2023-01-12T22:47:34.310Z"
   },
   {
    "duration": 13,
    "start_time": "2023-01-12T22:47:36.402Z"
   },
   {
    "duration": 5,
    "start_time": "2023-01-12T22:47:44.276Z"
   },
   {
    "duration": 8,
    "start_time": "2023-01-12T22:47:55.462Z"
   },
   {
    "duration": 5,
    "start_time": "2023-01-12T22:47:56.797Z"
   },
   {
    "duration": 5,
    "start_time": "2023-01-12T22:48:01.439Z"
   },
   {
    "duration": 5,
    "start_time": "2023-01-12T22:48:02.155Z"
   },
   {
    "duration": 266,
    "start_time": "2023-01-12T22:48:36.355Z"
   },
   {
    "duration": 7,
    "start_time": "2023-01-12T22:49:07.696Z"
   },
   {
    "duration": 4,
    "start_time": "2023-01-12T22:49:15.744Z"
   },
   {
    "duration": 43,
    "start_time": "2023-01-12T22:49:16.795Z"
   },
   {
    "duration": 6,
    "start_time": "2023-01-12T22:50:05.389Z"
   },
   {
    "duration": 21,
    "start_time": "2023-01-12T22:50:08.078Z"
   },
   {
    "duration": 6,
    "start_time": "2023-01-12T22:50:21.574Z"
   },
   {
    "duration": 4,
    "start_time": "2023-01-12T22:50:42.308Z"
   },
   {
    "duration": 7,
    "start_time": "2023-01-12T22:50:47.456Z"
   },
   {
    "duration": 5,
    "start_time": "2023-01-12T22:50:55.826Z"
   },
   {
    "duration": 3,
    "start_time": "2023-01-12T22:51:04.121Z"
   },
   {
    "duration": 109,
    "start_time": "2023-01-12T22:51:04.128Z"
   },
   {
    "duration": 20,
    "start_time": "2023-01-12T22:51:04.239Z"
   },
   {
    "duration": 8,
    "start_time": "2023-01-12T22:51:04.261Z"
   },
   {
    "duration": 8,
    "start_time": "2023-01-12T22:51:04.271Z"
   },
   {
    "duration": 42,
    "start_time": "2023-01-12T22:51:04.281Z"
   },
   {
    "duration": 8,
    "start_time": "2023-01-12T22:51:04.324Z"
   },
   {
    "duration": 7,
    "start_time": "2023-01-12T22:51:04.334Z"
   },
   {
    "duration": 9,
    "start_time": "2023-01-12T22:51:04.343Z"
   },
   {
    "duration": 8,
    "start_time": "2023-01-12T22:51:04.353Z"
   },
   {
    "duration": 8,
    "start_time": "2023-01-12T22:51:04.364Z"
   },
   {
    "duration": 16,
    "start_time": "2023-01-12T22:51:04.373Z"
   },
   {
    "duration": 5,
    "start_time": "2023-01-12T22:51:04.411Z"
   },
   {
    "duration": 35,
    "start_time": "2023-01-12T22:51:04.418Z"
   },
   {
    "duration": 25,
    "start_time": "2023-01-12T22:51:04.455Z"
   },
   {
    "duration": 10,
    "start_time": "2023-01-12T22:51:04.482Z"
   },
   {
    "duration": 15,
    "start_time": "2023-01-12T22:51:04.493Z"
   },
   {
    "duration": 10,
    "start_time": "2023-01-12T22:51:04.513Z"
   },
   {
    "duration": 8,
    "start_time": "2023-01-12T22:51:04.525Z"
   },
   {
    "duration": 10,
    "start_time": "2023-01-12T22:51:04.535Z"
   },
   {
    "duration": 9,
    "start_time": "2023-01-12T22:51:04.546Z"
   },
   {
    "duration": 8,
    "start_time": "2023-01-12T22:51:04.556Z"
   },
   {
    "duration": 10,
    "start_time": "2023-01-12T22:51:04.565Z"
   },
   {
    "duration": 23,
    "start_time": "2023-01-12T22:51:04.577Z"
   },
   {
    "duration": 12,
    "start_time": "2023-01-12T22:51:04.613Z"
   },
   {
    "duration": 14,
    "start_time": "2023-01-12T22:51:04.627Z"
   },
   {
    "duration": 6,
    "start_time": "2023-01-12T22:51:56.036Z"
   },
   {
    "duration": 5,
    "start_time": "2023-01-12T22:52:03.308Z"
   },
   {
    "duration": 3,
    "start_time": "2023-01-12T22:52:06.666Z"
   },
   {
    "duration": 88,
    "start_time": "2023-01-12T22:52:06.670Z"
   },
   {
    "duration": 15,
    "start_time": "2023-01-12T22:52:06.760Z"
   },
   {
    "duration": 8,
    "start_time": "2023-01-12T22:52:06.777Z"
   },
   {
    "duration": 9,
    "start_time": "2023-01-12T22:52:06.788Z"
   },
   {
    "duration": 41,
    "start_time": "2023-01-12T22:52:06.799Z"
   },
   {
    "duration": 8,
    "start_time": "2023-01-12T22:52:06.842Z"
   },
   {
    "duration": 11,
    "start_time": "2023-01-12T22:52:06.852Z"
   },
   {
    "duration": 9,
    "start_time": "2023-01-12T22:52:06.865Z"
   },
   {
    "duration": 9,
    "start_time": "2023-01-12T22:52:06.875Z"
   },
   {
    "duration": 10,
    "start_time": "2023-01-12T22:52:06.886Z"
   },
   {
    "duration": 19,
    "start_time": "2023-01-12T22:52:06.897Z"
   },
   {
    "duration": 12,
    "start_time": "2023-01-12T22:52:06.918Z"
   },
   {
    "duration": 20,
    "start_time": "2023-01-12T22:52:06.932Z"
   },
   {
    "duration": 18,
    "start_time": "2023-01-12T22:52:06.954Z"
   },
   {
    "duration": 13,
    "start_time": "2023-01-12T22:52:06.974Z"
   },
   {
    "duration": 10,
    "start_time": "2023-01-12T22:52:06.989Z"
   },
   {
    "duration": 15,
    "start_time": "2023-01-12T22:52:07.000Z"
   },
   {
    "duration": 12,
    "start_time": "2023-01-12T22:52:07.017Z"
   },
   {
    "duration": 13,
    "start_time": "2023-01-12T22:52:07.031Z"
   },
   {
    "duration": 6,
    "start_time": "2023-01-12T22:52:07.045Z"
   },
   {
    "duration": 10,
    "start_time": "2023-01-12T22:52:07.053Z"
   },
   {
    "duration": 9,
    "start_time": "2023-01-12T22:52:07.065Z"
   },
   {
    "duration": 10,
    "start_time": "2023-01-12T22:52:07.075Z"
   },
   {
    "duration": 26,
    "start_time": "2023-01-12T22:52:07.087Z"
   },
   {
    "duration": 9,
    "start_time": "2023-01-12T22:52:07.115Z"
   },
   {
    "duration": 6,
    "start_time": "2023-01-12T22:52:07.126Z"
   },
   {
    "duration": 3,
    "start_time": "2023-01-12T22:53:22.761Z"
   },
   {
    "duration": 116,
    "start_time": "2023-01-12T22:53:22.766Z"
   },
   {
    "duration": 16,
    "start_time": "2023-01-12T22:53:22.885Z"
   },
   {
    "duration": 10,
    "start_time": "2023-01-12T22:53:22.911Z"
   },
   {
    "duration": 9,
    "start_time": "2023-01-12T22:53:22.923Z"
   },
   {
    "duration": 46,
    "start_time": "2023-01-12T22:53:22.933Z"
   },
   {
    "duration": 8,
    "start_time": "2023-01-12T22:53:22.981Z"
   },
   {
    "duration": 8,
    "start_time": "2023-01-12T22:53:22.991Z"
   },
   {
    "duration": 12,
    "start_time": "2023-01-12T22:53:23.002Z"
   },
   {
    "duration": 10,
    "start_time": "2023-01-12T22:53:23.016Z"
   },
   {
    "duration": 9,
    "start_time": "2023-01-12T22:53:23.028Z"
   },
   {
    "duration": 17,
    "start_time": "2023-01-12T22:53:23.038Z"
   },
   {
    "duration": 7,
    "start_time": "2023-01-12T22:53:23.056Z"
   },
   {
    "duration": 25,
    "start_time": "2023-01-12T22:53:23.067Z"
   },
   {
    "duration": 37,
    "start_time": "2023-01-12T22:53:23.094Z"
   },
   {
    "duration": 12,
    "start_time": "2023-01-12T22:53:23.133Z"
   },
   {
    "duration": 9,
    "start_time": "2023-01-12T22:53:23.147Z"
   },
   {
    "duration": 12,
    "start_time": "2023-01-12T22:53:23.158Z"
   },
   {
    "duration": 6,
    "start_time": "2023-01-12T22:53:23.172Z"
   },
   {
    "duration": 7,
    "start_time": "2023-01-12T22:53:23.180Z"
   },
   {
    "duration": 8,
    "start_time": "2023-01-12T22:53:23.212Z"
   },
   {
    "duration": 10,
    "start_time": "2023-01-12T22:53:23.222Z"
   },
   {
    "duration": 7,
    "start_time": "2023-01-12T22:53:23.235Z"
   },
   {
    "duration": 32,
    "start_time": "2023-01-12T22:53:23.245Z"
   },
   {
    "duration": 14,
    "start_time": "2023-01-12T22:53:23.279Z"
   },
   {
    "duration": 18,
    "start_time": "2023-01-12T22:53:23.295Z"
   },
   {
    "duration": 16,
    "start_time": "2023-01-12T22:54:01.076Z"
   },
   {
    "duration": 49,
    "start_time": "2023-01-12T22:54:17.768Z"
   },
   {
    "duration": 11,
    "start_time": "2023-01-12T22:54:30.952Z"
   },
   {
    "duration": 3,
    "start_time": "2023-01-12T22:55:08.260Z"
   },
   {
    "duration": 87,
    "start_time": "2023-01-12T22:55:08.265Z"
   },
   {
    "duration": 15,
    "start_time": "2023-01-12T22:55:08.354Z"
   },
   {
    "duration": 6,
    "start_time": "2023-01-12T22:55:08.371Z"
   },
   {
    "duration": 8,
    "start_time": "2023-01-12T22:55:08.379Z"
   },
   {
    "duration": 42,
    "start_time": "2023-01-12T22:55:08.389Z"
   },
   {
    "duration": 8,
    "start_time": "2023-01-12T22:55:08.433Z"
   },
   {
    "duration": 18,
    "start_time": "2023-01-12T22:55:08.443Z"
   },
   {
    "duration": 11,
    "start_time": "2023-01-12T22:55:08.463Z"
   },
   {
    "duration": 12,
    "start_time": "2023-01-12T22:55:08.476Z"
   },
   {
    "duration": 9,
    "start_time": "2023-01-12T22:55:08.489Z"
   },
   {
    "duration": 24,
    "start_time": "2023-01-12T22:55:08.500Z"
   },
   {
    "duration": 4,
    "start_time": "2023-01-12T22:55:08.528Z"
   },
   {
    "duration": 27,
    "start_time": "2023-01-12T22:55:08.533Z"
   },
   {
    "duration": 20,
    "start_time": "2023-01-12T22:55:08.562Z"
   },
   {
    "duration": 28,
    "start_time": "2023-01-12T22:55:08.584Z"
   },
   {
    "duration": 8,
    "start_time": "2023-01-12T22:55:08.614Z"
   },
   {
    "duration": 13,
    "start_time": "2023-01-12T22:55:08.623Z"
   },
   {
    "duration": 15,
    "start_time": "2023-01-12T22:55:08.638Z"
   },
   {
    "duration": 15,
    "start_time": "2023-01-12T22:55:08.654Z"
   },
   {
    "duration": 9,
    "start_time": "2023-01-12T22:55:08.671Z"
   },
   {
    "duration": 7,
    "start_time": "2023-01-12T22:55:08.682Z"
   },
   {
    "duration": 9,
    "start_time": "2023-01-12T22:55:08.691Z"
   },
   {
    "duration": 6,
    "start_time": "2023-01-12T22:55:08.712Z"
   },
   {
    "duration": 11,
    "start_time": "2023-01-12T22:55:08.719Z"
   },
   {
    "duration": 12,
    "start_time": "2023-01-12T22:55:08.731Z"
   },
   {
    "duration": 8,
    "start_time": "2023-01-12T22:55:08.745Z"
   },
   {
    "duration": 3,
    "start_time": "2023-01-12T22:55:51.289Z"
   },
   {
    "duration": 88,
    "start_time": "2023-01-12T22:55:51.294Z"
   },
   {
    "duration": 16,
    "start_time": "2023-01-12T22:55:51.383Z"
   },
   {
    "duration": 12,
    "start_time": "2023-01-12T22:55:51.401Z"
   },
   {
    "duration": 6,
    "start_time": "2023-01-12T22:55:51.415Z"
   },
   {
    "duration": 39,
    "start_time": "2023-01-12T22:55:51.423Z"
   },
   {
    "duration": 6,
    "start_time": "2023-01-12T22:55:51.464Z"
   },
   {
    "duration": 12,
    "start_time": "2023-01-12T22:55:51.471Z"
   },
   {
    "duration": 9,
    "start_time": "2023-01-12T22:55:51.484Z"
   },
   {
    "duration": 11,
    "start_time": "2023-01-12T22:55:51.494Z"
   },
   {
    "duration": 9,
    "start_time": "2023-01-12T22:55:51.507Z"
   },
   {
    "duration": 18,
    "start_time": "2023-01-12T22:55:51.518Z"
   },
   {
    "duration": 7,
    "start_time": "2023-01-12T22:55:51.538Z"
   },
   {
    "duration": 23,
    "start_time": "2023-01-12T22:55:51.549Z"
   },
   {
    "duration": 9,
    "start_time": "2023-01-12T22:55:51.574Z"
   },
   {
    "duration": 28,
    "start_time": "2023-01-12T22:55:51.585Z"
   },
   {
    "duration": 6,
    "start_time": "2023-01-12T22:55:51.615Z"
   },
   {
    "duration": 16,
    "start_time": "2023-01-12T22:55:51.622Z"
   },
   {
    "duration": 6,
    "start_time": "2023-01-12T22:55:51.640Z"
   },
   {
    "duration": 11,
    "start_time": "2023-01-12T22:55:51.647Z"
   },
   {
    "duration": 6,
    "start_time": "2023-01-12T22:55:51.660Z"
   },
   {
    "duration": 9,
    "start_time": "2023-01-12T22:55:51.668Z"
   },
   {
    "duration": 14,
    "start_time": "2023-01-12T22:55:51.678Z"
   },
   {
    "duration": 23,
    "start_time": "2023-01-12T22:55:51.693Z"
   },
   {
    "duration": 18,
    "start_time": "2023-01-12T22:55:51.718Z"
   },
   {
    "duration": 12,
    "start_time": "2023-01-12T22:55:51.737Z"
   },
   {
    "duration": 10,
    "start_time": "2023-01-12T22:55:51.751Z"
   },
   {
    "duration": 18,
    "start_time": "2023-01-12T22:55:51.763Z"
   },
   {
    "duration": 3,
    "start_time": "2023-01-12T22:56:49.077Z"
   },
   {
    "duration": 103,
    "start_time": "2023-01-12T22:56:49.082Z"
   },
   {
    "duration": 14,
    "start_time": "2023-01-12T22:56:49.187Z"
   },
   {
    "duration": 13,
    "start_time": "2023-01-12T22:56:49.202Z"
   },
   {
    "duration": 12,
    "start_time": "2023-01-12T22:56:49.217Z"
   },
   {
    "duration": 46,
    "start_time": "2023-01-12T22:56:49.230Z"
   },
   {
    "duration": 9,
    "start_time": "2023-01-12T22:56:49.278Z"
   },
   {
    "duration": 13,
    "start_time": "2023-01-12T22:56:49.289Z"
   },
   {
    "duration": 14,
    "start_time": "2023-01-12T22:56:49.304Z"
   },
   {
    "duration": 8,
    "start_time": "2023-01-12T22:56:49.319Z"
   },
   {
    "duration": 9,
    "start_time": "2023-01-12T22:56:49.328Z"
   },
   {
    "duration": 16,
    "start_time": "2023-01-12T22:56:49.339Z"
   },
   {
    "duration": 5,
    "start_time": "2023-01-12T22:56:49.359Z"
   },
   {
    "duration": 27,
    "start_time": "2023-01-12T22:56:49.366Z"
   },
   {
    "duration": 23,
    "start_time": "2023-01-12T22:56:49.395Z"
   },
   {
    "duration": 26,
    "start_time": "2023-01-12T22:56:49.419Z"
   },
   {
    "duration": 17,
    "start_time": "2023-01-12T22:56:49.446Z"
   },
   {
    "duration": 21,
    "start_time": "2023-01-12T22:56:49.464Z"
   },
   {
    "duration": 11,
    "start_time": "2023-01-12T22:56:49.487Z"
   },
   {
    "duration": 13,
    "start_time": "2023-01-12T22:56:49.500Z"
   },
   {
    "duration": 12,
    "start_time": "2023-01-12T22:56:49.515Z"
   },
   {
    "duration": 26,
    "start_time": "2023-01-12T22:56:49.529Z"
   },
   {
    "duration": 10,
    "start_time": "2023-01-12T22:56:49.557Z"
   },
   {
    "duration": 9,
    "start_time": "2023-01-12T22:56:49.568Z"
   },
   {
    "duration": 10,
    "start_time": "2023-01-12T22:56:49.579Z"
   },
   {
    "duration": 6,
    "start_time": "2023-01-12T22:56:49.591Z"
   },
   {
    "duration": 16,
    "start_time": "2023-01-12T22:56:49.599Z"
   },
   {
    "duration": 12,
    "start_time": "2023-01-12T22:56:49.617Z"
   },
   {
    "duration": 18,
    "start_time": "2023-01-12T22:56:49.631Z"
   },
   {
    "duration": 3,
    "start_time": "2023-01-12T22:57:33.400Z"
   },
   {
    "duration": 89,
    "start_time": "2023-01-12T22:57:33.405Z"
   },
   {
    "duration": 14,
    "start_time": "2023-01-12T22:57:33.495Z"
   },
   {
    "duration": 6,
    "start_time": "2023-01-12T22:57:33.511Z"
   },
   {
    "duration": 7,
    "start_time": "2023-01-12T22:57:33.519Z"
   },
   {
    "duration": 41,
    "start_time": "2023-01-12T22:57:33.527Z"
   },
   {
    "duration": 7,
    "start_time": "2023-01-12T22:57:33.569Z"
   },
   {
    "duration": 8,
    "start_time": "2023-01-12T22:57:33.577Z"
   },
   {
    "duration": 6,
    "start_time": "2023-01-12T22:57:33.587Z"
   },
   {
    "duration": 8,
    "start_time": "2023-01-12T22:57:33.594Z"
   },
   {
    "duration": 10,
    "start_time": "2023-01-12T22:57:33.604Z"
   },
   {
    "duration": 18,
    "start_time": "2023-01-12T22:57:33.616Z"
   },
   {
    "duration": 4,
    "start_time": "2023-01-12T22:57:33.635Z"
   },
   {
    "duration": 21,
    "start_time": "2023-01-12T22:57:33.640Z"
   },
   {
    "duration": 9,
    "start_time": "2023-01-12T22:57:33.663Z"
   },
   {
    "duration": 19,
    "start_time": "2023-01-12T22:57:33.673Z"
   },
   {
    "duration": 19,
    "start_time": "2023-01-12T22:57:33.694Z"
   },
   {
    "duration": 10,
    "start_time": "2023-01-12T22:57:33.715Z"
   },
   {
    "duration": 6,
    "start_time": "2023-01-12T22:57:33.726Z"
   },
   {
    "duration": 8,
    "start_time": "2023-01-12T22:57:33.734Z"
   },
   {
    "duration": 5,
    "start_time": "2023-01-12T22:57:33.743Z"
   },
   {
    "duration": 10,
    "start_time": "2023-01-12T22:57:33.749Z"
   },
   {
    "duration": 9,
    "start_time": "2023-01-12T22:57:33.760Z"
   },
   {
    "duration": 7,
    "start_time": "2023-01-12T22:57:33.771Z"
   },
   {
    "duration": 33,
    "start_time": "2023-01-12T22:57:33.779Z"
   },
   {
    "duration": 4,
    "start_time": "2023-01-12T22:57:33.814Z"
   },
   {
    "duration": 9,
    "start_time": "2023-01-12T22:57:33.820Z"
   },
   {
    "duration": 6,
    "start_time": "2023-01-12T22:57:33.831Z"
   },
   {
    "duration": 10,
    "start_time": "2023-01-12T22:57:33.839Z"
   },
   {
    "duration": 16,
    "start_time": "2023-01-12T22:58:16.240Z"
   },
   {
    "duration": 6,
    "start_time": "2023-01-12T22:58:31.693Z"
   },
   {
    "duration": 14,
    "start_time": "2023-01-12T23:00:07.899Z"
   },
   {
    "duration": 14,
    "start_time": "2023-01-12T23:00:21.244Z"
   },
   {
    "duration": 8,
    "start_time": "2023-01-12T23:06:05.085Z"
   },
   {
    "duration": 56,
    "start_time": "2023-01-12T23:06:46.423Z"
   },
   {
    "duration": 7,
    "start_time": "2023-01-12T23:06:49.016Z"
   },
   {
    "duration": 7,
    "start_time": "2023-01-12T23:06:51.887Z"
   },
   {
    "duration": 7,
    "start_time": "2023-01-12T23:06:53.744Z"
   },
   {
    "duration": 8,
    "start_time": "2023-01-12T23:06:56.038Z"
   },
   {
    "duration": 29,
    "start_time": "2023-01-12T23:07:24.758Z"
   },
   {
    "duration": 18,
    "start_time": "2023-01-12T23:11:43.300Z"
   },
   {
    "duration": 52,
    "start_time": "2023-01-12T23:11:46.445Z"
   },
   {
    "duration": 16,
    "start_time": "2023-01-12T23:11:48.676Z"
   },
   {
    "duration": 18,
    "start_time": "2023-01-12T23:11:53.054Z"
   },
   {
    "duration": 8,
    "start_time": "2023-01-12T23:12:37.965Z"
   },
   {
    "duration": 5,
    "start_time": "2023-01-12T23:12:53.409Z"
   },
   {
    "duration": 6,
    "start_time": "2023-01-12T23:12:55.131Z"
   },
   {
    "duration": 12,
    "start_time": "2023-01-12T23:13:08.687Z"
   },
   {
    "duration": 9,
    "start_time": "2023-01-12T23:13:26.265Z"
   },
   {
    "duration": 7,
    "start_time": "2023-01-12T23:13:42.910Z"
   },
   {
    "duration": 8,
    "start_time": "2023-01-12T23:13:47.738Z"
   },
   {
    "duration": 11,
    "start_time": "2023-01-12T23:14:06.591Z"
   },
   {
    "duration": 5,
    "start_time": "2023-01-12T23:14:43.710Z"
   },
   {
    "duration": 9,
    "start_time": "2023-01-12T23:15:10.554Z"
   },
   {
    "duration": 6,
    "start_time": "2023-01-12T23:15:24.810Z"
   },
   {
    "duration": 5,
    "start_time": "2023-01-12T23:15:30.234Z"
   },
   {
    "duration": 3,
    "start_time": "2023-01-12T23:15:43.211Z"
   },
   {
    "duration": 91,
    "start_time": "2023-01-12T23:15:43.216Z"
   },
   {
    "duration": 14,
    "start_time": "2023-01-12T23:15:43.308Z"
   },
   {
    "duration": 20,
    "start_time": "2023-01-12T23:15:43.323Z"
   },
   {
    "duration": 22,
    "start_time": "2023-01-12T23:15:43.345Z"
   },
   {
    "duration": 55,
    "start_time": "2023-01-12T23:15:43.369Z"
   },
   {
    "duration": 7,
    "start_time": "2023-01-12T23:15:43.425Z"
   },
   {
    "duration": 12,
    "start_time": "2023-01-12T23:15:43.434Z"
   },
   {
    "duration": 21,
    "start_time": "2023-01-12T23:15:43.447Z"
   },
   {
    "duration": 12,
    "start_time": "2023-01-12T23:15:43.470Z"
   },
   {
    "duration": 18,
    "start_time": "2023-01-12T23:15:43.484Z"
   },
   {
    "duration": 21,
    "start_time": "2023-01-12T23:15:43.503Z"
   },
   {
    "duration": 5,
    "start_time": "2023-01-12T23:15:43.527Z"
   },
   {
    "duration": 29,
    "start_time": "2023-01-12T23:15:43.534Z"
   },
   {
    "duration": 27,
    "start_time": "2023-01-12T23:15:43.565Z"
   },
   {
    "duration": 16,
    "start_time": "2023-01-12T23:15:43.594Z"
   },
   {
    "duration": 18,
    "start_time": "2023-01-12T23:15:43.611Z"
   },
   {
    "duration": 39,
    "start_time": "2023-01-12T23:15:43.631Z"
   },
   {
    "duration": 10,
    "start_time": "2023-01-12T23:15:43.672Z"
   },
   {
    "duration": 8,
    "start_time": "2023-01-12T23:15:43.684Z"
   },
   {
    "duration": 13,
    "start_time": "2023-01-12T23:15:43.693Z"
   },
   {
    "duration": 29,
    "start_time": "2023-01-12T23:15:43.707Z"
   },
   {
    "duration": 37,
    "start_time": "2023-01-12T23:15:43.737Z"
   },
   {
    "duration": 15,
    "start_time": "2023-01-12T23:15:43.776Z"
   },
   {
    "duration": 37,
    "start_time": "2023-01-12T23:15:43.793Z"
   },
   {
    "duration": 25,
    "start_time": "2023-01-12T23:15:43.832Z"
   },
   {
    "duration": 29,
    "start_time": "2023-01-12T23:15:43.859Z"
   },
   {
    "duration": 5,
    "start_time": "2023-01-12T23:15:43.890Z"
   },
   {
    "duration": 28,
    "start_time": "2023-01-12T23:15:43.896Z"
   },
   {
    "duration": 9,
    "start_time": "2023-01-12T23:15:43.925Z"
   },
   {
    "duration": 13,
    "start_time": "2023-01-12T23:15:43.935Z"
   },
   {
    "duration": 16,
    "start_time": "2023-01-12T23:15:43.950Z"
   },
   {
    "duration": 20,
    "start_time": "2023-01-12T23:15:43.967Z"
   },
   {
    "duration": 23,
    "start_time": "2023-01-12T23:15:43.988Z"
   },
   {
    "duration": 3,
    "start_time": "2023-01-12T23:17:03.210Z"
   },
   {
    "duration": 100,
    "start_time": "2023-01-12T23:17:03.215Z"
   },
   {
    "duration": 15,
    "start_time": "2023-01-12T23:17:03.316Z"
   },
   {
    "duration": 11,
    "start_time": "2023-01-12T23:17:03.333Z"
   },
   {
    "duration": 16,
    "start_time": "2023-01-12T23:17:03.346Z"
   },
   {
    "duration": 44,
    "start_time": "2023-01-12T23:17:03.363Z"
   },
   {
    "duration": 8,
    "start_time": "2023-01-12T23:17:03.408Z"
   },
   {
    "duration": 9,
    "start_time": "2023-01-12T23:17:03.418Z"
   },
   {
    "duration": 7,
    "start_time": "2023-01-12T23:17:03.428Z"
   },
   {
    "duration": 11,
    "start_time": "2023-01-12T23:17:03.436Z"
   },
   {
    "duration": 10,
    "start_time": "2023-01-12T23:17:03.450Z"
   },
   {
    "duration": 25,
    "start_time": "2023-01-12T23:17:03.461Z"
   },
   {
    "duration": 4,
    "start_time": "2023-01-12T23:17:03.488Z"
   },
   {
    "duration": 28,
    "start_time": "2023-01-12T23:17:03.493Z"
   },
   {
    "duration": 23,
    "start_time": "2023-01-12T23:17:03.523Z"
   },
   {
    "duration": 30,
    "start_time": "2023-01-12T23:17:03.547Z"
   },
   {
    "duration": 15,
    "start_time": "2023-01-12T23:17:03.579Z"
   },
   {
    "duration": 31,
    "start_time": "2023-01-12T23:17:03.596Z"
   },
   {
    "duration": 8,
    "start_time": "2023-01-12T23:17:03.629Z"
   },
   {
    "duration": 11,
    "start_time": "2023-01-12T23:17:03.638Z"
   },
   {
    "duration": 15,
    "start_time": "2023-01-12T23:17:03.651Z"
   },
   {
    "duration": 7,
    "start_time": "2023-01-12T23:17:03.668Z"
   },
   {
    "duration": 28,
    "start_time": "2023-01-12T23:17:03.677Z"
   },
   {
    "duration": 21,
    "start_time": "2023-01-12T23:17:03.707Z"
   },
   {
    "duration": 21,
    "start_time": "2023-01-12T23:17:03.729Z"
   },
   {
    "duration": 37,
    "start_time": "2023-01-12T23:17:03.751Z"
   },
   {
    "duration": 30,
    "start_time": "2023-01-12T23:17:03.790Z"
   },
   {
    "duration": 7,
    "start_time": "2023-01-12T23:17:03.822Z"
   },
   {
    "duration": 13,
    "start_time": "2023-01-12T23:17:03.832Z"
   },
   {
    "duration": 14,
    "start_time": "2023-01-12T23:17:03.846Z"
   },
   {
    "duration": 28,
    "start_time": "2023-01-12T23:17:03.862Z"
   },
   {
    "duration": 16,
    "start_time": "2023-01-12T23:17:03.892Z"
   },
   {
    "duration": 14,
    "start_time": "2023-01-12T23:17:03.909Z"
   },
   {
    "duration": 10,
    "start_time": "2023-01-12T23:17:03.925Z"
   },
   {
    "duration": 12,
    "start_time": "2023-01-12T23:18:11.723Z"
   },
   {
    "duration": 7,
    "start_time": "2023-01-12T23:18:12.781Z"
   },
   {
    "duration": 6,
    "start_time": "2023-01-12T23:18:23.898Z"
   },
   {
    "duration": 18,
    "start_time": "2023-01-12T23:19:21.667Z"
   },
   {
    "duration": 6,
    "start_time": "2023-01-12T23:19:48.508Z"
   },
   {
    "duration": 5,
    "start_time": "2023-01-12T23:19:59.698Z"
   },
   {
    "duration": 3,
    "start_time": "2023-01-12T23:20:04.541Z"
   },
   {
    "duration": 87,
    "start_time": "2023-01-12T23:20:04.545Z"
   },
   {
    "duration": 14,
    "start_time": "2023-01-12T23:20:04.634Z"
   },
   {
    "duration": 5,
    "start_time": "2023-01-12T23:20:04.650Z"
   },
   {
    "duration": 8,
    "start_time": "2023-01-12T23:20:04.657Z"
   },
   {
    "duration": 55,
    "start_time": "2023-01-12T23:20:04.666Z"
   },
   {
    "duration": 7,
    "start_time": "2023-01-12T23:20:04.723Z"
   },
   {
    "duration": 22,
    "start_time": "2023-01-12T23:20:04.731Z"
   },
   {
    "duration": 13,
    "start_time": "2023-01-12T23:20:04.756Z"
   },
   {
    "duration": 11,
    "start_time": "2023-01-12T23:20:04.771Z"
   },
   {
    "duration": 13,
    "start_time": "2023-01-12T23:20:04.784Z"
   },
   {
    "duration": 42,
    "start_time": "2023-01-12T23:20:04.799Z"
   },
   {
    "duration": 16,
    "start_time": "2023-01-12T23:20:04.842Z"
   },
   {
    "duration": 17,
    "start_time": "2023-01-12T23:20:04.860Z"
   },
   {
    "duration": 36,
    "start_time": "2023-01-12T23:20:04.879Z"
   },
   {
    "duration": 28,
    "start_time": "2023-01-12T23:20:04.917Z"
   },
   {
    "duration": 34,
    "start_time": "2023-01-12T23:20:04.947Z"
   },
   {
    "duration": 15,
    "start_time": "2023-01-12T23:20:04.983Z"
   },
   {
    "duration": 31,
    "start_time": "2023-01-12T23:20:05.000Z"
   },
   {
    "duration": 21,
    "start_time": "2023-01-12T23:20:05.033Z"
   },
   {
    "duration": 32,
    "start_time": "2023-01-12T23:20:05.056Z"
   },
   {
    "duration": 15,
    "start_time": "2023-01-12T23:20:05.090Z"
   },
   {
    "duration": 17,
    "start_time": "2023-01-12T23:20:05.107Z"
   },
   {
    "duration": 9,
    "start_time": "2023-01-12T23:20:05.127Z"
   },
   {
    "duration": 25,
    "start_time": "2023-01-12T23:20:05.137Z"
   },
   {
    "duration": 29,
    "start_time": "2023-01-12T23:20:05.164Z"
   },
   {
    "duration": 39,
    "start_time": "2023-01-12T23:20:05.194Z"
   },
   {
    "duration": 5,
    "start_time": "2023-01-12T23:20:05.235Z"
   },
   {
    "duration": 24,
    "start_time": "2023-01-12T23:20:05.241Z"
   },
   {
    "duration": 17,
    "start_time": "2023-01-12T23:20:05.267Z"
   },
   {
    "duration": 26,
    "start_time": "2023-01-12T23:20:05.286Z"
   },
   {
    "duration": 10,
    "start_time": "2023-01-12T23:20:05.314Z"
   },
   {
    "duration": 13,
    "start_time": "2023-01-12T23:20:05.326Z"
   },
   {
    "duration": 13,
    "start_time": "2023-01-12T23:20:05.341Z"
   },
   {
    "duration": 19,
    "start_time": "2023-01-12T23:20:05.355Z"
   },
   {
    "duration": 3,
    "start_time": "2023-01-12T23:20:05.376Z"
   },
   {
    "duration": 18,
    "start_time": "2023-01-12T23:20:05.381Z"
   },
   {
    "duration": 22,
    "start_time": "2023-01-12T23:20:05.401Z"
   },
   {
    "duration": 13,
    "start_time": "2023-01-12T23:20:22.298Z"
   },
   {
    "duration": 9,
    "start_time": "2023-01-12T23:22:34.358Z"
   },
   {
    "duration": 7,
    "start_time": "2023-01-12T23:23:14.114Z"
   },
   {
    "duration": 3,
    "start_time": "2023-01-12T23:23:31.310Z"
   },
   {
    "duration": 118,
    "start_time": "2023-01-12T23:23:31.315Z"
   },
   {
    "duration": 14,
    "start_time": "2023-01-12T23:23:31.435Z"
   },
   {
    "duration": 19,
    "start_time": "2023-01-12T23:23:31.451Z"
   },
   {
    "duration": 17,
    "start_time": "2023-01-12T23:23:31.472Z"
   },
   {
    "duration": 57,
    "start_time": "2023-01-12T23:23:31.490Z"
   },
   {
    "duration": 7,
    "start_time": "2023-01-12T23:23:31.549Z"
   },
   {
    "duration": 28,
    "start_time": "2023-01-12T23:23:31.558Z"
   },
   {
    "duration": 20,
    "start_time": "2023-01-12T23:23:31.587Z"
   },
   {
    "duration": 40,
    "start_time": "2023-01-12T23:23:31.608Z"
   },
   {
    "duration": 12,
    "start_time": "2023-01-12T23:23:31.652Z"
   },
   {
    "duration": 27,
    "start_time": "2023-01-12T23:23:31.665Z"
   },
   {
    "duration": 11,
    "start_time": "2023-01-12T23:23:31.694Z"
   },
   {
    "duration": 33,
    "start_time": "2023-01-12T23:23:31.707Z"
   },
   {
    "duration": 33,
    "start_time": "2023-01-12T23:23:31.742Z"
   },
   {
    "duration": 26,
    "start_time": "2023-01-12T23:23:31.776Z"
   },
   {
    "duration": 6,
    "start_time": "2023-01-12T23:23:31.804Z"
   },
   {
    "duration": 11,
    "start_time": "2023-01-12T23:23:31.812Z"
   },
   {
    "duration": 7,
    "start_time": "2023-01-12T23:23:31.825Z"
   },
   {
    "duration": 16,
    "start_time": "2023-01-12T23:23:31.834Z"
   },
   {
    "duration": 12,
    "start_time": "2023-01-12T23:23:31.852Z"
   },
   {
    "duration": 8,
    "start_time": "2023-01-12T23:23:31.866Z"
   },
   {
    "duration": 15,
    "start_time": "2023-01-12T23:23:31.876Z"
   },
   {
    "duration": 10,
    "start_time": "2023-01-12T23:23:31.893Z"
   },
   {
    "duration": 26,
    "start_time": "2023-01-12T23:23:31.905Z"
   },
   {
    "duration": 42,
    "start_time": "2023-01-12T23:23:31.933Z"
   },
   {
    "duration": 34,
    "start_time": "2023-01-12T23:23:31.977Z"
   },
   {
    "duration": 5,
    "start_time": "2023-01-12T23:23:32.013Z"
   },
   {
    "duration": 33,
    "start_time": "2023-01-12T23:23:32.021Z"
   },
   {
    "duration": 14,
    "start_time": "2023-01-12T23:23:32.056Z"
   },
   {
    "duration": 22,
    "start_time": "2023-01-12T23:23:32.071Z"
   },
   {
    "duration": 9,
    "start_time": "2023-01-12T23:23:32.095Z"
   },
   {
    "duration": 28,
    "start_time": "2023-01-12T23:23:32.105Z"
   },
   {
    "duration": 7,
    "start_time": "2023-01-12T23:23:32.135Z"
   },
   {
    "duration": 20,
    "start_time": "2023-01-12T23:23:32.143Z"
   },
   {
    "duration": 23,
    "start_time": "2023-01-12T23:23:32.164Z"
   },
   {
    "duration": 16,
    "start_time": "2023-01-12T23:23:32.189Z"
   },
   {
    "duration": 10,
    "start_time": "2023-01-12T23:23:32.207Z"
   },
   {
    "duration": 30,
    "start_time": "2023-01-12T23:23:32.219Z"
   },
   {
    "duration": 17,
    "start_time": "2023-01-12T23:23:32.251Z"
   },
   {
    "duration": 10,
    "start_time": "2023-01-12T23:23:32.269Z"
   },
   {
    "duration": 25,
    "start_time": "2023-01-12T23:23:32.280Z"
   },
   {
    "duration": 12,
    "start_time": "2023-01-12T23:23:32.307Z"
   },
   {
    "duration": 9,
    "start_time": "2023-01-12T23:24:07.674Z"
   },
   {
    "duration": 8,
    "start_time": "2023-01-12T23:24:15.080Z"
   },
   {
    "duration": 10,
    "start_time": "2023-01-12T23:24:58.965Z"
   },
   {
    "duration": 6,
    "start_time": "2023-01-12T23:25:13.817Z"
   },
   {
    "duration": 3,
    "start_time": "2023-01-12T23:25:27.473Z"
   },
   {
    "duration": 86,
    "start_time": "2023-01-12T23:25:27.477Z"
   },
   {
    "duration": 15,
    "start_time": "2023-01-12T23:25:27.565Z"
   },
   {
    "duration": 11,
    "start_time": "2023-01-12T23:25:27.582Z"
   },
   {
    "duration": 6,
    "start_time": "2023-01-12T23:25:27.612Z"
   },
   {
    "duration": 43,
    "start_time": "2023-01-12T23:25:27.619Z"
   },
   {
    "duration": 8,
    "start_time": "2023-01-12T23:25:27.663Z"
   },
   {
    "duration": 8,
    "start_time": "2023-01-12T23:25:27.672Z"
   },
   {
    "duration": 10,
    "start_time": "2023-01-12T23:25:27.683Z"
   },
   {
    "duration": 12,
    "start_time": "2023-01-12T23:25:27.695Z"
   },
   {
    "duration": 10,
    "start_time": "2023-01-12T23:25:27.709Z"
   },
   {
    "duration": 24,
    "start_time": "2023-01-12T23:25:27.721Z"
   },
   {
    "duration": 4,
    "start_time": "2023-01-12T23:25:27.746Z"
   },
   {
    "duration": 23,
    "start_time": "2023-01-12T23:25:27.751Z"
   },
   {
    "duration": 22,
    "start_time": "2023-01-12T23:25:27.776Z"
   },
   {
    "duration": 13,
    "start_time": "2023-01-12T23:25:27.800Z"
   },
   {
    "duration": 7,
    "start_time": "2023-01-12T23:25:27.815Z"
   },
   {
    "duration": 14,
    "start_time": "2023-01-12T23:25:27.824Z"
   },
   {
    "duration": 5,
    "start_time": "2023-01-12T23:25:27.840Z"
   },
   {
    "duration": 13,
    "start_time": "2023-01-12T23:25:27.847Z"
   },
   {
    "duration": 9,
    "start_time": "2023-01-12T23:25:27.863Z"
   },
   {
    "duration": 9,
    "start_time": "2023-01-12T23:25:27.874Z"
   },
   {
    "duration": 17,
    "start_time": "2023-01-12T23:25:27.885Z"
   },
   {
    "duration": 9,
    "start_time": "2023-01-12T23:25:27.905Z"
   },
   {
    "duration": 17,
    "start_time": "2023-01-12T23:25:27.916Z"
   },
   {
    "duration": 27,
    "start_time": "2023-01-12T23:25:27.934Z"
   },
   {
    "duration": 27,
    "start_time": "2023-01-12T23:25:27.962Z"
   },
   {
    "duration": 22,
    "start_time": "2023-01-12T23:25:27.991Z"
   },
   {
    "duration": 11,
    "start_time": "2023-01-12T23:25:28.015Z"
   },
   {
    "duration": 9,
    "start_time": "2023-01-12T23:25:28.028Z"
   },
   {
    "duration": 12,
    "start_time": "2023-01-12T23:25:28.039Z"
   },
   {
    "duration": 6,
    "start_time": "2023-01-12T23:25:28.052Z"
   },
   {
    "duration": 20,
    "start_time": "2023-01-12T23:25:28.059Z"
   },
   {
    "duration": 7,
    "start_time": "2023-01-12T23:25:28.081Z"
   },
   {
    "duration": 15,
    "start_time": "2023-01-12T23:25:28.112Z"
   },
   {
    "duration": 5,
    "start_time": "2023-01-12T23:25:28.129Z"
   },
   {
    "duration": 10,
    "start_time": "2023-01-12T23:25:28.136Z"
   },
   {
    "duration": 6,
    "start_time": "2023-01-12T23:25:28.147Z"
   },
   {
    "duration": 15,
    "start_time": "2023-01-12T23:25:28.155Z"
   },
   {
    "duration": 12,
    "start_time": "2023-01-12T23:25:28.172Z"
   },
   {
    "duration": 5,
    "start_time": "2023-01-12T23:25:28.212Z"
   },
   {
    "duration": 23,
    "start_time": "2023-01-12T23:25:28.219Z"
   },
   {
    "duration": 7,
    "start_time": "2023-01-12T23:25:28.244Z"
   },
   {
    "duration": 20,
    "start_time": "2023-01-12T23:25:28.253Z"
   },
   {
    "duration": 4,
    "start_time": "2023-01-12T23:25:28.274Z"
   },
   {
    "duration": 13,
    "start_time": "2023-01-12T23:25:28.280Z"
   },
   {
    "duration": 9,
    "start_time": "2023-01-12T23:25:28.295Z"
   },
   {
    "duration": 9,
    "start_time": "2023-01-12T23:26:01.280Z"
   },
   {
    "duration": 7,
    "start_time": "2023-01-12T23:26:45.182Z"
   },
   {
    "duration": 15,
    "start_time": "2023-01-12T23:27:06.345Z"
   },
   {
    "duration": 4,
    "start_time": "2023-01-12T23:27:29.952Z"
   },
   {
    "duration": 6,
    "start_time": "2023-01-12T23:27:47.598Z"
   },
   {
    "duration": 5,
    "start_time": "2023-01-12T23:27:51.447Z"
   },
   {
    "duration": 6,
    "start_time": "2023-01-12T23:29:16.210Z"
   },
   {
    "duration": 2,
    "start_time": "2023-01-12T23:29:18.459Z"
   },
   {
    "duration": 99,
    "start_time": "2023-01-12T23:29:18.464Z"
   },
   {
    "duration": 17,
    "start_time": "2023-01-12T23:29:18.565Z"
   },
   {
    "duration": 34,
    "start_time": "2023-01-12T23:29:18.584Z"
   },
   {
    "duration": 8,
    "start_time": "2023-01-12T23:29:18.620Z"
   },
   {
    "duration": 41,
    "start_time": "2023-01-12T23:29:18.630Z"
   },
   {
    "duration": 8,
    "start_time": "2023-01-12T23:29:18.673Z"
   },
   {
    "duration": 13,
    "start_time": "2023-01-12T23:29:18.683Z"
   },
   {
    "duration": 21,
    "start_time": "2023-01-12T23:29:18.698Z"
   },
   {
    "duration": 10,
    "start_time": "2023-01-12T23:29:18.721Z"
   },
   {
    "duration": 11,
    "start_time": "2023-01-12T23:29:18.732Z"
   },
   {
    "duration": 16,
    "start_time": "2023-01-12T23:29:18.744Z"
   },
   {
    "duration": 4,
    "start_time": "2023-01-12T23:29:18.763Z"
   },
   {
    "duration": 19,
    "start_time": "2023-01-12T23:29:18.768Z"
   },
   {
    "duration": 31,
    "start_time": "2023-01-12T23:29:18.788Z"
   },
   {
    "duration": 15,
    "start_time": "2023-01-12T23:29:18.821Z"
   },
   {
    "duration": 24,
    "start_time": "2023-01-12T23:29:18.838Z"
   },
   {
    "duration": 18,
    "start_time": "2023-01-12T23:29:18.864Z"
   },
   {
    "duration": 14,
    "start_time": "2023-01-12T23:29:18.884Z"
   },
   {
    "duration": 7,
    "start_time": "2023-01-12T23:29:18.899Z"
   },
   {
    "duration": 7,
    "start_time": "2023-01-12T23:29:18.908Z"
   },
   {
    "duration": 9,
    "start_time": "2023-01-12T23:29:18.916Z"
   },
   {
    "duration": 19,
    "start_time": "2023-01-12T23:29:18.927Z"
   },
   {
    "duration": 5,
    "start_time": "2023-01-12T23:29:18.948Z"
   },
   {
    "duration": 17,
    "start_time": "2023-01-12T23:29:18.954Z"
   },
   {
    "duration": 25,
    "start_time": "2023-01-12T23:29:18.973Z"
   },
   {
    "duration": 30,
    "start_time": "2023-01-12T23:29:18.999Z"
   },
   {
    "duration": 9,
    "start_time": "2023-01-12T23:29:19.031Z"
   },
   {
    "duration": 10,
    "start_time": "2023-01-12T23:29:19.041Z"
   },
   {
    "duration": 11,
    "start_time": "2023-01-12T23:29:19.053Z"
   },
   {
    "duration": 15,
    "start_time": "2023-01-12T23:29:19.065Z"
   },
   {
    "duration": 14,
    "start_time": "2023-01-12T23:29:19.082Z"
   },
   {
    "duration": 30,
    "start_time": "2023-01-12T23:29:19.098Z"
   },
   {
    "duration": 7,
    "start_time": "2023-01-12T23:29:19.130Z"
   },
   {
    "duration": 16,
    "start_time": "2023-01-12T23:29:19.139Z"
   },
   {
    "duration": 14,
    "start_time": "2023-01-12T23:29:19.157Z"
   },
   {
    "duration": 10,
    "start_time": "2023-01-12T23:29:19.174Z"
   },
   {
    "duration": 11,
    "start_time": "2023-01-12T23:29:19.187Z"
   },
   {
    "duration": 23,
    "start_time": "2023-01-12T23:29:19.200Z"
   },
   {
    "duration": 18,
    "start_time": "2023-01-12T23:29:19.224Z"
   },
   {
    "duration": 5,
    "start_time": "2023-01-12T23:29:19.244Z"
   },
   {
    "duration": 11,
    "start_time": "2023-01-12T23:29:19.250Z"
   },
   {
    "duration": 13,
    "start_time": "2023-01-12T23:29:19.262Z"
   },
   {
    "duration": 18,
    "start_time": "2023-01-12T23:29:19.276Z"
   },
   {
    "duration": 18,
    "start_time": "2023-01-12T23:29:19.295Z"
   },
   {
    "duration": 8,
    "start_time": "2023-01-12T23:29:19.315Z"
   },
   {
    "duration": 24,
    "start_time": "2023-01-12T23:29:19.325Z"
   },
   {
    "duration": 15,
    "start_time": "2023-01-12T23:29:19.351Z"
   },
   {
    "duration": 20,
    "start_time": "2023-01-12T23:29:19.367Z"
   },
   {
    "duration": 5,
    "start_time": "2023-01-12T23:29:19.389Z"
   },
   {
    "duration": 12,
    "start_time": "2023-01-12T23:29:19.395Z"
   },
   {
    "duration": 14,
    "start_time": "2023-01-12T23:29:19.408Z"
   },
   {
    "duration": 49,
    "start_time": "2023-01-13T13:05:48.385Z"
   },
   {
    "duration": 459,
    "start_time": "2023-01-13T13:05:53.252Z"
   },
   {
    "duration": 267,
    "start_time": "2023-01-13T13:05:53.713Z"
   },
   {
    "duration": 33,
    "start_time": "2023-01-13T13:05:53.982Z"
   },
   {
    "duration": 9,
    "start_time": "2023-01-13T13:05:54.017Z"
   },
   {
    "duration": 72,
    "start_time": "2023-01-13T13:05:54.028Z"
   },
   {
    "duration": 110,
    "start_time": "2023-01-13T13:05:54.102Z"
   },
   {
    "duration": 8,
    "start_time": "2023-01-13T13:05:54.214Z"
   },
   {
    "duration": 43,
    "start_time": "2023-01-13T13:05:54.223Z"
   },
   {
    "duration": 17,
    "start_time": "2023-01-13T13:05:54.268Z"
   },
   {
    "duration": 16,
    "start_time": "2023-01-13T13:05:54.287Z"
   },
   {
    "duration": 13,
    "start_time": "2023-01-13T13:05:54.305Z"
   },
   {
    "duration": 31,
    "start_time": "2023-01-13T13:05:54.320Z"
   },
   {
    "duration": 34,
    "start_time": "2023-01-13T13:05:54.354Z"
   },
   {
    "duration": 28,
    "start_time": "2023-01-13T13:05:54.392Z"
   },
   {
    "duration": 68,
    "start_time": "2023-01-13T13:05:54.422Z"
   },
   {
    "duration": 26,
    "start_time": "2023-01-13T13:05:54.492Z"
   },
   {
    "duration": 12,
    "start_time": "2023-01-13T13:05:54.520Z"
   },
   {
    "duration": 57,
    "start_time": "2023-01-13T13:05:54.534Z"
   },
   {
    "duration": 22,
    "start_time": "2023-01-13T13:05:54.593Z"
   },
   {
    "duration": 10,
    "start_time": "2023-01-13T13:05:54.616Z"
   },
   {
    "duration": 41,
    "start_time": "2023-01-13T13:05:54.627Z"
   },
   {
    "duration": 6,
    "start_time": "2023-01-13T13:05:54.669Z"
   },
   {
    "duration": 14,
    "start_time": "2023-01-13T13:05:54.676Z"
   },
   {
    "duration": 18,
    "start_time": "2023-01-13T13:05:54.692Z"
   },
   {
    "duration": 39,
    "start_time": "2023-01-13T13:05:54.712Z"
   },
   {
    "duration": 62,
    "start_time": "2023-01-13T13:05:54.753Z"
   },
   {
    "duration": 64,
    "start_time": "2023-01-13T13:05:54.820Z"
   },
   {
    "duration": 6,
    "start_time": "2023-01-13T13:05:54.886Z"
   },
   {
    "duration": 19,
    "start_time": "2023-01-13T13:05:54.893Z"
   },
   {
    "duration": 67,
    "start_time": "2023-01-13T13:05:54.914Z"
   },
   {
    "duration": 18,
    "start_time": "2023-01-13T13:05:54.983Z"
   },
   {
    "duration": 11,
    "start_time": "2023-01-13T13:05:55.003Z"
   },
   {
    "duration": 48,
    "start_time": "2023-01-13T13:05:55.015Z"
   },
   {
    "duration": 51,
    "start_time": "2023-01-13T13:05:55.065Z"
   },
   {
    "duration": 62,
    "start_time": "2023-01-13T13:05:55.118Z"
   },
   {
    "duration": 5,
    "start_time": "2023-01-13T13:05:55.182Z"
   },
   {
    "duration": 23,
    "start_time": "2023-01-13T13:05:55.189Z"
   },
   {
    "duration": 11,
    "start_time": "2023-01-13T13:05:55.214Z"
   },
   {
    "duration": 55,
    "start_time": "2023-01-13T13:05:55.227Z"
   },
   {
    "duration": 14,
    "start_time": "2023-01-13T13:05:55.284Z"
   },
   {
    "duration": 12,
    "start_time": "2023-01-13T13:05:55.301Z"
   },
   {
    "duration": 35,
    "start_time": "2023-01-13T13:05:55.315Z"
   },
   {
    "duration": 26,
    "start_time": "2023-01-13T13:05:55.362Z"
   },
   {
    "duration": 15,
    "start_time": "2023-01-13T13:05:55.390Z"
   },
   {
    "duration": 10,
    "start_time": "2023-01-13T13:05:55.407Z"
   },
   {
    "duration": 40,
    "start_time": "2023-01-13T13:05:55.419Z"
   },
   {
    "duration": 14,
    "start_time": "2023-01-13T13:05:55.461Z"
   },
   {
    "duration": 24,
    "start_time": "2023-01-13T13:05:55.477Z"
   },
   {
    "duration": 20,
    "start_time": "2023-01-13T13:05:55.503Z"
   },
   {
    "duration": 13,
    "start_time": "2023-01-13T13:05:55.525Z"
   },
   {
    "duration": 37,
    "start_time": "2023-01-13T13:05:55.556Z"
   },
   {
    "duration": 16,
    "start_time": "2023-01-13T13:05:55.595Z"
   },
   {
    "duration": 1175,
    "start_time": "2023-01-13T13:05:55.613Z"
   },
   {
    "duration": 0,
    "start_time": "2023-01-13T13:05:56.789Z"
   },
   {
    "duration": 5,
    "start_time": "2023-01-13T13:06:00.011Z"
   },
   {
    "duration": 7,
    "start_time": "2023-01-13T13:06:44.842Z"
   },
   {
    "duration": 4,
    "start_time": "2023-01-13T13:06:45.881Z"
   },
   {
    "duration": 18,
    "start_time": "2023-01-13T13:06:50.508Z"
   },
   {
    "duration": 3,
    "start_time": "2023-01-13T13:09:10.886Z"
   },
   {
    "duration": 710,
    "start_time": "2023-01-13T13:09:34.193Z"
   },
   {
    "duration": 3,
    "start_time": "2023-01-13T13:14:51.126Z"
   },
   {
    "duration": 139,
    "start_time": "2023-01-13T13:14:51.131Z"
   },
   {
    "duration": 15,
    "start_time": "2023-01-13T13:14:51.272Z"
   },
   {
    "duration": 16,
    "start_time": "2023-01-13T13:14:51.289Z"
   },
   {
    "duration": 36,
    "start_time": "2023-01-13T13:14:51.307Z"
   },
   {
    "duration": 62,
    "start_time": "2023-01-13T13:14:51.345Z"
   },
   {
    "duration": 8,
    "start_time": "2023-01-13T13:14:51.409Z"
   },
   {
    "duration": 56,
    "start_time": "2023-01-13T13:14:51.418Z"
   },
   {
    "duration": 37,
    "start_time": "2023-01-13T13:14:51.476Z"
   },
   {
    "duration": 39,
    "start_time": "2023-01-13T13:14:51.514Z"
   },
   {
    "duration": 36,
    "start_time": "2023-01-13T13:14:51.555Z"
   },
   {
    "duration": 26,
    "start_time": "2023-01-13T13:14:51.593Z"
   },
   {
    "duration": 24,
    "start_time": "2023-01-13T13:14:51.620Z"
   },
   {
    "duration": 53,
    "start_time": "2023-01-13T13:14:51.648Z"
   },
   {
    "duration": 49,
    "start_time": "2023-01-13T13:14:51.703Z"
   },
   {
    "duration": 92,
    "start_time": "2023-01-13T13:14:51.760Z"
   },
   {
    "duration": 37,
    "start_time": "2023-01-13T13:14:51.857Z"
   },
   {
    "duration": 44,
    "start_time": "2023-01-13T13:14:51.896Z"
   },
   {
    "duration": 60,
    "start_time": "2023-01-13T13:14:51.948Z"
   },
   {
    "duration": 17,
    "start_time": "2023-01-13T13:14:52.010Z"
   },
   {
    "duration": 48,
    "start_time": "2023-01-13T13:14:52.029Z"
   },
   {
    "duration": 29,
    "start_time": "2023-01-13T13:14:52.079Z"
   },
   {
    "duration": 60,
    "start_time": "2023-01-13T13:14:52.109Z"
   },
   {
    "duration": 20,
    "start_time": "2023-01-13T13:14:52.171Z"
   },
   {
    "duration": 15,
    "start_time": "2023-01-13T13:14:52.193Z"
   },
   {
    "duration": 52,
    "start_time": "2023-01-13T13:14:52.210Z"
   },
   {
    "duration": 34,
    "start_time": "2023-01-13T13:14:52.268Z"
   },
   {
    "duration": 30,
    "start_time": "2023-01-13T13:14:52.304Z"
   },
   {
    "duration": 63,
    "start_time": "2023-01-13T13:14:52.341Z"
   },
   {
    "duration": 43,
    "start_time": "2023-01-13T13:14:52.405Z"
   },
   {
    "duration": 64,
    "start_time": "2023-01-13T13:14:52.449Z"
   },
   {
    "duration": 30,
    "start_time": "2023-01-13T13:14:52.515Z"
   },
   {
    "duration": 94,
    "start_time": "2023-01-13T13:14:52.547Z"
   },
   {
    "duration": 80,
    "start_time": "2023-01-13T13:14:52.651Z"
   },
   {
    "duration": 97,
    "start_time": "2023-01-13T13:14:52.733Z"
   },
   {
    "duration": 55,
    "start_time": "2023-01-13T13:14:52.831Z"
   },
   {
    "duration": 29,
    "start_time": "2023-01-13T13:14:52.888Z"
   },
   {
    "duration": 52,
    "start_time": "2023-01-13T13:14:52.918Z"
   },
   {
    "duration": 45,
    "start_time": "2023-01-13T13:14:52.972Z"
   },
   {
    "duration": 47,
    "start_time": "2023-01-13T13:14:53.018Z"
   },
   {
    "duration": 33,
    "start_time": "2023-01-13T13:14:53.071Z"
   },
   {
    "duration": 56,
    "start_time": "2023-01-13T13:14:53.106Z"
   },
   {
    "duration": 33,
    "start_time": "2023-01-13T13:14:53.164Z"
   },
   {
    "duration": 26,
    "start_time": "2023-01-13T13:14:53.199Z"
   },
   {
    "duration": 57,
    "start_time": "2023-01-13T13:14:53.227Z"
   },
   {
    "duration": 34,
    "start_time": "2023-01-13T13:14:53.286Z"
   },
   {
    "duration": 64,
    "start_time": "2023-01-13T13:14:53.322Z"
   },
   {
    "duration": 27,
    "start_time": "2023-01-13T13:14:53.387Z"
   },
   {
    "duration": 10,
    "start_time": "2023-01-13T13:14:53.415Z"
   },
   {
    "duration": 51,
    "start_time": "2023-01-13T13:14:53.426Z"
   },
   {
    "duration": 40,
    "start_time": "2023-01-13T13:14:53.479Z"
   },
   {
    "duration": 11,
    "start_time": "2023-01-13T13:14:53.521Z"
   },
   {
    "duration": 64,
    "start_time": "2023-01-13T13:14:53.534Z"
   },
   {
    "duration": 64,
    "start_time": "2023-01-13T13:14:53.600Z"
   },
   {
    "duration": 45,
    "start_time": "2023-01-13T13:14:53.667Z"
   },
   {
    "duration": 757,
    "start_time": "2023-01-13T13:14:53.714Z"
   },
   {
    "duration": 3,
    "start_time": "2023-01-13T13:15:52.559Z"
   },
   {
    "duration": 3,
    "start_time": "2023-01-13T13:15:53.484Z"
   },
   {
    "duration": 742,
    "start_time": "2023-01-13T13:15:54.548Z"
   },
   {
    "duration": 4,
    "start_time": "2023-01-13T13:16:10.378Z"
   },
   {
    "duration": 811,
    "start_time": "2023-01-13T13:16:11.276Z"
   },
   {
    "duration": 2,
    "start_time": "2023-01-13T13:19:58.265Z"
   },
   {
    "duration": 113,
    "start_time": "2023-01-13T13:19:58.269Z"
   },
   {
    "duration": 16,
    "start_time": "2023-01-13T13:19:58.383Z"
   },
   {
    "duration": 42,
    "start_time": "2023-01-13T13:19:58.401Z"
   },
   {
    "duration": 23,
    "start_time": "2023-01-13T13:19:58.446Z"
   },
   {
    "duration": 54,
    "start_time": "2023-01-13T13:19:58.471Z"
   },
   {
    "duration": 10,
    "start_time": "2023-01-13T13:19:58.527Z"
   },
   {
    "duration": 26,
    "start_time": "2023-01-13T13:19:58.539Z"
   },
   {
    "duration": 22,
    "start_time": "2023-01-13T13:19:58.568Z"
   },
   {
    "duration": 18,
    "start_time": "2023-01-13T13:19:58.592Z"
   },
   {
    "duration": 24,
    "start_time": "2023-01-13T13:19:58.611Z"
   },
   {
    "duration": 24,
    "start_time": "2023-01-13T13:19:58.637Z"
   },
   {
    "duration": 8,
    "start_time": "2023-01-13T13:19:58.663Z"
   },
   {
    "duration": 34,
    "start_time": "2023-01-13T13:19:58.675Z"
   },
   {
    "duration": 57,
    "start_time": "2023-01-13T13:19:58.711Z"
   },
   {
    "duration": 39,
    "start_time": "2023-01-13T13:19:58.771Z"
   },
   {
    "duration": 19,
    "start_time": "2023-01-13T13:19:58.812Z"
   },
   {
    "duration": 57,
    "start_time": "2023-01-13T13:19:58.833Z"
   },
   {
    "duration": 13,
    "start_time": "2023-01-13T13:19:58.891Z"
   },
   {
    "duration": 11,
    "start_time": "2023-01-13T13:19:58.905Z"
   },
   {
    "duration": 13,
    "start_time": "2023-01-13T13:19:58.918Z"
   },
   {
    "duration": 84,
    "start_time": "2023-01-13T13:19:58.932Z"
   },
   {
    "duration": 548,
    "start_time": "2023-01-13T13:19:59.017Z"
   },
   {
    "duration": 0,
    "start_time": "2023-01-13T13:19:59.567Z"
   },
   {
    "duration": 0,
    "start_time": "2023-01-13T13:19:59.568Z"
   },
   {
    "duration": 0,
    "start_time": "2023-01-13T13:19:59.569Z"
   },
   {
    "duration": 0,
    "start_time": "2023-01-13T13:19:59.570Z"
   },
   {
    "duration": 0,
    "start_time": "2023-01-13T13:19:59.571Z"
   },
   {
    "duration": 0,
    "start_time": "2023-01-13T13:19:59.573Z"
   },
   {
    "duration": 0,
    "start_time": "2023-01-13T13:19:59.574Z"
   },
   {
    "duration": 0,
    "start_time": "2023-01-13T13:19:59.575Z"
   },
   {
    "duration": 0,
    "start_time": "2023-01-13T13:19:59.576Z"
   },
   {
    "duration": 0,
    "start_time": "2023-01-13T13:19:59.578Z"
   },
   {
    "duration": 0,
    "start_time": "2023-01-13T13:19:59.578Z"
   },
   {
    "duration": 0,
    "start_time": "2023-01-13T13:19:59.579Z"
   },
   {
    "duration": 0,
    "start_time": "2023-01-13T13:19:59.580Z"
   },
   {
    "duration": 0,
    "start_time": "2023-01-13T13:19:59.582Z"
   },
   {
    "duration": 0,
    "start_time": "2023-01-13T13:19:59.583Z"
   },
   {
    "duration": 0,
    "start_time": "2023-01-13T13:19:59.584Z"
   },
   {
    "duration": 0,
    "start_time": "2023-01-13T13:19:59.585Z"
   },
   {
    "duration": 0,
    "start_time": "2023-01-13T13:19:59.586Z"
   },
   {
    "duration": 0,
    "start_time": "2023-01-13T13:19:59.587Z"
   },
   {
    "duration": 0,
    "start_time": "2023-01-13T13:19:59.588Z"
   },
   {
    "duration": 0,
    "start_time": "2023-01-13T13:19:59.589Z"
   },
   {
    "duration": 0,
    "start_time": "2023-01-13T13:19:59.590Z"
   },
   {
    "duration": 0,
    "start_time": "2023-01-13T13:19:59.591Z"
   },
   {
    "duration": 0,
    "start_time": "2023-01-13T13:19:59.592Z"
   },
   {
    "duration": 0,
    "start_time": "2023-01-13T13:19:59.592Z"
   },
   {
    "duration": 0,
    "start_time": "2023-01-13T13:19:59.594Z"
   },
   {
    "duration": 0,
    "start_time": "2023-01-13T13:19:59.595Z"
   },
   {
    "duration": 0,
    "start_time": "2023-01-13T13:19:59.596Z"
   },
   {
    "duration": 0,
    "start_time": "2023-01-13T13:19:59.596Z"
   },
   {
    "duration": 0,
    "start_time": "2023-01-13T13:19:59.597Z"
   },
   {
    "duration": 0,
    "start_time": "2023-01-13T13:19:59.598Z"
   },
   {
    "duration": 0,
    "start_time": "2023-01-13T13:19:59.599Z"
   },
   {
    "duration": 0,
    "start_time": "2023-01-13T13:19:59.600Z"
   },
   {
    "duration": 3,
    "start_time": "2023-01-13T13:20:19.592Z"
   },
   {
    "duration": 100,
    "start_time": "2023-01-13T13:20:19.596Z"
   },
   {
    "duration": 15,
    "start_time": "2023-01-13T13:20:19.697Z"
   },
   {
    "duration": 12,
    "start_time": "2023-01-13T13:20:19.713Z"
   },
   {
    "duration": 6,
    "start_time": "2023-01-13T13:20:19.744Z"
   },
   {
    "duration": 43,
    "start_time": "2023-01-13T13:20:19.752Z"
   },
   {
    "duration": 6,
    "start_time": "2023-01-13T13:20:19.797Z"
   },
   {
    "duration": 10,
    "start_time": "2023-01-13T13:20:19.805Z"
   },
   {
    "duration": 9,
    "start_time": "2023-01-13T13:20:19.817Z"
   },
   {
    "duration": 11,
    "start_time": "2023-01-13T13:20:19.828Z"
   },
   {
    "duration": 7,
    "start_time": "2023-01-13T13:20:19.846Z"
   },
   {
    "duration": 19,
    "start_time": "2023-01-13T13:20:19.854Z"
   },
   {
    "duration": 3,
    "start_time": "2023-01-13T13:20:19.875Z"
   },
   {
    "duration": 17,
    "start_time": "2023-01-13T13:20:19.881Z"
   },
   {
    "duration": 17,
    "start_time": "2023-01-13T13:20:19.900Z"
   },
   {
    "duration": 27,
    "start_time": "2023-01-13T13:20:19.919Z"
   },
   {
    "duration": 9,
    "start_time": "2023-01-13T13:20:19.948Z"
   },
   {
    "duration": 9,
    "start_time": "2023-01-13T13:20:19.958Z"
   },
   {
    "duration": 9,
    "start_time": "2023-01-13T13:20:19.969Z"
   },
   {
    "duration": 5,
    "start_time": "2023-01-13T13:20:19.980Z"
   },
   {
    "duration": 29,
    "start_time": "2023-01-13T13:20:19.987Z"
   },
   {
    "duration": 31,
    "start_time": "2023-01-13T13:20:20.018Z"
   },
   {
    "duration": 17,
    "start_time": "2023-01-13T13:20:20.051Z"
   },
   {
    "duration": 15,
    "start_time": "2023-01-13T13:20:20.069Z"
   },
   {
    "duration": 30,
    "start_time": "2023-01-13T13:20:20.085Z"
   },
   {
    "duration": 53,
    "start_time": "2023-01-13T13:20:20.117Z"
   },
   {
    "duration": 64,
    "start_time": "2023-01-13T13:20:20.173Z"
   },
   {
    "duration": 33,
    "start_time": "2023-01-13T13:20:20.239Z"
   },
   {
    "duration": 22,
    "start_time": "2023-01-13T13:20:20.274Z"
   },
   {
    "duration": 26,
    "start_time": "2023-01-13T13:20:20.297Z"
   },
   {
    "duration": 34,
    "start_time": "2023-01-13T13:20:20.325Z"
   },
   {
    "duration": 11,
    "start_time": "2023-01-13T13:20:20.360Z"
   },
   {
    "duration": 40,
    "start_time": "2023-01-13T13:20:20.372Z"
   },
   {
    "duration": 11,
    "start_time": "2023-01-13T13:20:20.414Z"
   },
   {
    "duration": 38,
    "start_time": "2023-01-13T13:20:20.426Z"
   },
   {
    "duration": 4,
    "start_time": "2023-01-13T13:20:20.466Z"
   },
   {
    "duration": 15,
    "start_time": "2023-01-13T13:20:20.472Z"
   },
   {
    "duration": 28,
    "start_time": "2023-01-13T13:20:20.488Z"
   },
   {
    "duration": 25,
    "start_time": "2023-01-13T13:20:20.518Z"
   },
   {
    "duration": 30,
    "start_time": "2023-01-13T13:20:20.545Z"
   },
   {
    "duration": 13,
    "start_time": "2023-01-13T13:20:20.579Z"
   },
   {
    "duration": 24,
    "start_time": "2023-01-13T13:20:20.595Z"
   },
   {
    "duration": 11,
    "start_time": "2023-01-13T13:20:20.620Z"
   },
   {
    "duration": 26,
    "start_time": "2023-01-13T13:20:20.632Z"
   },
   {
    "duration": 15,
    "start_time": "2023-01-13T13:20:20.659Z"
   },
   {
    "duration": 27,
    "start_time": "2023-01-13T13:20:20.676Z"
   },
   {
    "duration": 27,
    "start_time": "2023-01-13T13:20:20.704Z"
   },
   {
    "duration": 34,
    "start_time": "2023-01-13T13:20:20.733Z"
   },
   {
    "duration": 11,
    "start_time": "2023-01-13T13:20:20.768Z"
   },
   {
    "duration": 23,
    "start_time": "2023-01-13T13:20:20.781Z"
   },
   {
    "duration": 20,
    "start_time": "2023-01-13T13:20:20.806Z"
   },
   {
    "duration": 23,
    "start_time": "2023-01-13T13:20:20.828Z"
   },
   {
    "duration": 14,
    "start_time": "2023-01-13T13:20:20.852Z"
   },
   {
    "duration": 29,
    "start_time": "2023-01-13T13:20:20.867Z"
   },
   {
    "duration": 24,
    "start_time": "2023-01-13T13:20:20.898Z"
   },
   {
    "duration": 757,
    "start_time": "2023-01-13T13:20:20.924Z"
   },
   {
    "duration": 3,
    "start_time": "2023-01-13T13:23:45.326Z"
   },
   {
    "duration": 1587,
    "start_time": "2023-01-13T13:23:45.906Z"
   },
   {
    "duration": 635,
    "start_time": "2023-01-13T13:23:51.958Z"
   },
   {
    "duration": 8,
    "start_time": "2023-01-13T13:24:24.909Z"
   },
   {
    "duration": 9,
    "start_time": "2023-01-13T13:24:27.877Z"
   },
   {
    "duration": 3,
    "start_time": "2023-01-13T13:24:33.508Z"
   },
   {
    "duration": 27,
    "start_time": "2023-01-13T13:24:34.624Z"
   },
   {
    "duration": 4,
    "start_time": "2023-01-13T13:24:38.767Z"
   },
   {
    "duration": 10,
    "start_time": "2023-01-13T13:24:39.302Z"
   },
   {
    "duration": 19,
    "start_time": "2023-01-13T13:24:48.161Z"
   },
   {
    "duration": 29,
    "start_time": "2023-01-13T13:25:03.433Z"
   },
   {
    "duration": 3,
    "start_time": "2023-01-13T13:25:18.654Z"
   },
   {
    "duration": 13,
    "start_time": "2023-01-13T13:25:19.736Z"
   },
   {
    "duration": 22,
    "start_time": "2023-01-13T13:25:20.568Z"
   },
   {
    "duration": 27,
    "start_time": "2023-01-13T13:25:52.048Z"
   },
   {
    "duration": 6,
    "start_time": "2023-01-13T13:27:12.406Z"
   },
   {
    "duration": 53,
    "start_time": "2023-01-13T13:27:47.320Z"
   },
   {
    "duration": 73,
    "start_time": "2023-01-13T13:28:17.927Z"
   },
   {
    "duration": 77,
    "start_time": "2023-01-13T13:28:26.878Z"
   },
   {
    "duration": 51,
    "start_time": "2023-01-13T13:28:53.784Z"
   },
   {
    "duration": 40,
    "start_time": "2023-01-13T13:29:20.385Z"
   },
   {
    "duration": 3,
    "start_time": "2023-01-13T13:29:25.880Z"
   },
   {
    "duration": 18,
    "start_time": "2023-01-13T13:29:31.212Z"
   },
   {
    "duration": 27,
    "start_time": "2023-01-13T13:29:42.148Z"
   },
   {
    "duration": 55,
    "start_time": "2023-01-13T13:30:37.346Z"
   },
   {
    "duration": 4,
    "start_time": "2023-01-13T13:30:41.963Z"
   },
   {
    "duration": 3,
    "start_time": "2023-01-13T13:31:02.048Z"
   },
   {
    "duration": 145,
    "start_time": "2023-01-13T13:31:02.053Z"
   },
   {
    "duration": 14,
    "start_time": "2023-01-13T13:31:02.200Z"
   },
   {
    "duration": 19,
    "start_time": "2023-01-13T13:31:02.215Z"
   },
   {
    "duration": 22,
    "start_time": "2023-01-13T13:31:02.246Z"
   },
   {
    "duration": 56,
    "start_time": "2023-01-13T13:31:02.270Z"
   },
   {
    "duration": 18,
    "start_time": "2023-01-13T13:31:02.328Z"
   },
   {
    "duration": 17,
    "start_time": "2023-01-13T13:31:02.348Z"
   },
   {
    "duration": 11,
    "start_time": "2023-01-13T13:31:02.367Z"
   },
   {
    "duration": 18,
    "start_time": "2023-01-13T13:31:02.380Z"
   },
   {
    "duration": 46,
    "start_time": "2023-01-13T13:31:02.399Z"
   },
   {
    "duration": 26,
    "start_time": "2023-01-13T13:31:02.447Z"
   },
   {
    "duration": 23,
    "start_time": "2023-01-13T13:31:02.476Z"
   },
   {
    "duration": 55,
    "start_time": "2023-01-13T13:31:02.502Z"
   },
   {
    "duration": 32,
    "start_time": "2023-01-13T13:31:02.559Z"
   },
   {
    "duration": 52,
    "start_time": "2023-01-13T13:31:02.593Z"
   },
   {
    "duration": 33,
    "start_time": "2023-01-13T13:31:02.647Z"
   },
   {
    "duration": 35,
    "start_time": "2023-01-13T13:31:02.682Z"
   },
   {
    "duration": 29,
    "start_time": "2023-01-13T13:31:02.719Z"
   },
   {
    "duration": 18,
    "start_time": "2023-01-13T13:31:02.750Z"
   },
   {
    "duration": 28,
    "start_time": "2023-01-13T13:31:02.769Z"
   },
   {
    "duration": 15,
    "start_time": "2023-01-13T13:31:02.798Z"
   },
   {
    "duration": 29,
    "start_time": "2023-01-13T13:31:02.815Z"
   },
   {
    "duration": 7,
    "start_time": "2023-01-13T13:31:02.846Z"
   },
   {
    "duration": 28,
    "start_time": "2023-01-13T13:31:02.854Z"
   },
   {
    "duration": 32,
    "start_time": "2023-01-13T13:31:02.884Z"
   },
   {
    "duration": 58,
    "start_time": "2023-01-13T13:31:02.918Z"
   },
   {
    "duration": 26,
    "start_time": "2023-01-13T13:31:02.978Z"
   },
   {
    "duration": 28,
    "start_time": "2023-01-13T13:31:03.005Z"
   },
   {
    "duration": 31,
    "start_time": "2023-01-13T13:31:03.037Z"
   },
   {
    "duration": 21,
    "start_time": "2023-01-13T13:31:03.070Z"
   },
   {
    "duration": 27,
    "start_time": "2023-01-13T13:31:03.093Z"
   },
   {
    "duration": 41,
    "start_time": "2023-01-13T13:31:03.122Z"
   },
   {
    "duration": 32,
    "start_time": "2023-01-13T13:31:03.164Z"
   },
   {
    "duration": 49,
    "start_time": "2023-01-13T13:31:03.198Z"
   },
   {
    "duration": 25,
    "start_time": "2023-01-13T13:31:03.248Z"
   },
   {
    "duration": 28,
    "start_time": "2023-01-13T13:31:03.274Z"
   },
   {
    "duration": 22,
    "start_time": "2023-01-13T13:31:03.304Z"
   },
   {
    "duration": 24,
    "start_time": "2023-01-13T13:31:03.328Z"
   },
   {
    "duration": 22,
    "start_time": "2023-01-13T13:31:03.353Z"
   },
   {
    "duration": 12,
    "start_time": "2023-01-13T13:31:03.380Z"
   },
   {
    "duration": 21,
    "start_time": "2023-01-13T13:31:03.394Z"
   },
   {
    "duration": 16,
    "start_time": "2023-01-13T13:31:03.416Z"
   },
   {
    "duration": 47,
    "start_time": "2023-01-13T13:31:03.434Z"
   },
   {
    "duration": 17,
    "start_time": "2023-01-13T13:31:03.483Z"
   },
   {
    "duration": 27,
    "start_time": "2023-01-13T13:31:03.502Z"
   },
   {
    "duration": 27,
    "start_time": "2023-01-13T13:31:03.530Z"
   },
   {
    "duration": 16,
    "start_time": "2023-01-13T13:31:03.558Z"
   },
   {
    "duration": 20,
    "start_time": "2023-01-13T13:31:03.575Z"
   },
   {
    "duration": 14,
    "start_time": "2023-01-13T13:31:03.597Z"
   },
   {
    "duration": 25,
    "start_time": "2023-01-13T13:31:03.612Z"
   },
   {
    "duration": 22,
    "start_time": "2023-01-13T13:31:03.639Z"
   },
   {
    "duration": 20,
    "start_time": "2023-01-13T13:31:03.663Z"
   },
   {
    "duration": 28,
    "start_time": "2023-01-13T13:31:03.685Z"
   },
   {
    "duration": 21,
    "start_time": "2023-01-13T13:31:03.715Z"
   },
   {
    "duration": 25,
    "start_time": "2023-01-13T13:31:03.738Z"
   },
   {
    "duration": 24,
    "start_time": "2023-01-13T13:31:03.765Z"
   },
   {
    "duration": 23,
    "start_time": "2023-01-13T13:31:03.791Z"
   },
   {
    "duration": 34,
    "start_time": "2023-01-13T13:31:03.816Z"
   },
   {
    "duration": 16,
    "start_time": "2023-01-13T13:40:36.791Z"
   },
   {
    "duration": 6,
    "start_time": "2023-01-13T13:41:11.880Z"
   },
   {
    "duration": 8,
    "start_time": "2023-01-13T13:41:13.678Z"
   },
   {
    "duration": 7,
    "start_time": "2023-01-13T13:41:16.320Z"
   },
   {
    "duration": 68,
    "start_time": "2023-01-13T13:41:21.330Z"
   },
   {
    "duration": 22,
    "start_time": "2023-01-13T13:41:34.192Z"
   },
   {
    "duration": 6,
    "start_time": "2023-01-13T13:43:56.356Z"
   },
   {
    "duration": 4,
    "start_time": "2023-01-13T13:44:27.579Z"
   },
   {
    "duration": 21,
    "start_time": "2023-01-13T13:45:42.661Z"
   },
   {
    "duration": 799,
    "start_time": "2023-01-13T13:45:53.201Z"
   },
   {
    "duration": 264,
    "start_time": "2023-01-13T13:47:24.622Z"
   },
   {
    "duration": 261,
    "start_time": "2023-01-13T13:47:32.592Z"
   },
   {
    "duration": 185,
    "start_time": "2023-01-13T13:47:39.960Z"
   },
   {
    "duration": 183,
    "start_time": "2023-01-13T13:47:44.504Z"
   },
   {
    "duration": 161,
    "start_time": "2023-01-13T13:47:52.915Z"
   },
   {
    "duration": 139,
    "start_time": "2023-01-13T13:48:01.378Z"
   },
   {
    "duration": 15,
    "start_time": "2023-01-13T13:48:33.265Z"
   },
   {
    "duration": 12,
    "start_time": "2023-01-13T13:48:41.189Z"
   },
   {
    "duration": 17,
    "start_time": "2023-01-13T13:48:47.634Z"
   },
   {
    "duration": 10,
    "start_time": "2023-01-13T13:49:28.582Z"
   },
   {
    "duration": 25,
    "start_time": "2023-01-13T13:49:32.700Z"
   },
   {
    "duration": 9,
    "start_time": "2023-01-13T13:49:40.563Z"
   },
   {
    "duration": 146,
    "start_time": "2023-01-13T13:49:41.177Z"
   },
   {
    "duration": 4,
    "start_time": "2023-01-13T13:50:09.200Z"
   },
   {
    "duration": 5,
    "start_time": "2023-01-13T13:50:31.863Z"
   },
   {
    "duration": 5,
    "start_time": "2023-01-13T13:50:44.581Z"
   },
   {
    "duration": 21,
    "start_time": "2023-01-13T13:51:37.884Z"
   },
   {
    "duration": 14,
    "start_time": "2023-01-13T13:52:57.753Z"
   },
   {
    "duration": 21,
    "start_time": "2023-01-13T13:53:03.842Z"
   },
   {
    "duration": 19,
    "start_time": "2023-01-13T13:53:33.310Z"
   },
   {
    "duration": 171,
    "start_time": "2023-01-13T13:53:46.903Z"
   },
   {
    "duration": 166,
    "start_time": "2023-01-13T13:53:58.093Z"
   },
   {
    "duration": 177,
    "start_time": "2023-01-13T13:54:08.602Z"
   },
   {
    "duration": 225,
    "start_time": "2023-01-13T13:55:10.343Z"
   },
   {
    "duration": 3,
    "start_time": "2023-01-13T13:55:37.165Z"
   },
   {
    "duration": 215,
    "start_time": "2023-01-13T13:55:37.686Z"
   },
   {
    "duration": 32,
    "start_time": "2023-01-13T13:59:04.833Z"
   },
   {
    "duration": 24,
    "start_time": "2023-01-13T14:01:06.083Z"
   },
   {
    "duration": 22,
    "start_time": "2023-01-13T14:02:11.554Z"
   },
   {
    "duration": 207,
    "start_time": "2023-01-13T14:03:39.585Z"
   },
   {
    "duration": 244,
    "start_time": "2023-01-13T14:03:43.081Z"
   },
   {
    "duration": 231,
    "start_time": "2023-01-13T14:03:46.557Z"
   },
   {
    "duration": 206,
    "start_time": "2023-01-13T14:03:55.251Z"
   },
   {
    "duration": 16,
    "start_time": "2023-01-13T14:03:57.465Z"
   },
   {
    "duration": 26,
    "start_time": "2023-01-13T14:04:05.553Z"
   },
   {
    "duration": 889,
    "start_time": "2023-01-13T14:05:06.693Z"
   },
   {
    "duration": 26,
    "start_time": "2023-01-13T14:05:26.764Z"
   },
   {
    "duration": 7,
    "start_time": "2023-01-13T14:06:00.578Z"
   },
   {
    "duration": 36,
    "start_time": "2023-01-13T14:06:04.932Z"
   },
   {
    "duration": 7,
    "start_time": "2023-01-13T14:06:09.661Z"
   },
   {
    "duration": 33,
    "start_time": "2023-01-13T14:06:10.401Z"
   },
   {
    "duration": 2,
    "start_time": "2023-01-13T14:06:16.726Z"
   },
   {
    "duration": 146,
    "start_time": "2023-01-13T14:06:16.731Z"
   },
   {
    "duration": 19,
    "start_time": "2023-01-13T14:06:16.879Z"
   },
   {
    "duration": 10,
    "start_time": "2023-01-13T14:06:16.899Z"
   },
   {
    "duration": 34,
    "start_time": "2023-01-13T14:06:16.911Z"
   },
   {
    "duration": 42,
    "start_time": "2023-01-13T14:06:16.951Z"
   },
   {
    "duration": 7,
    "start_time": "2023-01-13T14:06:16.994Z"
   },
   {
    "duration": 6,
    "start_time": "2023-01-13T14:06:17.003Z"
   },
   {
    "duration": 18,
    "start_time": "2023-01-13T14:06:17.010Z"
   },
   {
    "duration": 14,
    "start_time": "2023-01-13T14:06:17.030Z"
   },
   {
    "duration": 16,
    "start_time": "2023-01-13T14:06:17.049Z"
   },
   {
    "duration": 15,
    "start_time": "2023-01-13T14:06:17.067Z"
   },
   {
    "duration": 4,
    "start_time": "2023-01-13T14:06:17.084Z"
   },
   {
    "duration": 18,
    "start_time": "2023-01-13T14:06:17.090Z"
   },
   {
    "duration": 27,
    "start_time": "2023-01-13T14:06:17.110Z"
   },
   {
    "duration": 17,
    "start_time": "2023-01-13T14:06:17.140Z"
   },
   {
    "duration": 10,
    "start_time": "2023-01-13T14:06:17.160Z"
   },
   {
    "duration": 13,
    "start_time": "2023-01-13T14:06:17.171Z"
   },
   {
    "duration": 11,
    "start_time": "2023-01-13T14:06:17.186Z"
   },
   {
    "duration": 5,
    "start_time": "2023-01-13T14:06:17.198Z"
   },
   {
    "duration": 7,
    "start_time": "2023-01-13T14:06:17.205Z"
   },
   {
    "duration": 8,
    "start_time": "2023-01-13T14:06:17.213Z"
   },
   {
    "duration": 20,
    "start_time": "2023-01-13T14:06:17.223Z"
   },
   {
    "duration": 9,
    "start_time": "2023-01-13T14:06:17.245Z"
   },
   {
    "duration": 17,
    "start_time": "2023-01-13T14:06:17.256Z"
   },
   {
    "duration": 21,
    "start_time": "2023-01-13T14:06:17.275Z"
   },
   {
    "duration": 38,
    "start_time": "2023-01-13T14:06:17.298Z"
   },
   {
    "duration": 6,
    "start_time": "2023-01-13T14:06:17.338Z"
   },
   {
    "duration": 15,
    "start_time": "2023-01-13T14:06:17.350Z"
   },
   {
    "duration": 12,
    "start_time": "2023-01-13T14:06:17.366Z"
   },
   {
    "duration": 12,
    "start_time": "2023-01-13T14:06:17.380Z"
   },
   {
    "duration": 9,
    "start_time": "2023-01-13T14:06:17.393Z"
   },
   {
    "duration": 34,
    "start_time": "2023-01-13T14:06:17.404Z"
   },
   {
    "duration": 10,
    "start_time": "2023-01-13T14:06:17.441Z"
   },
   {
    "duration": 29,
    "start_time": "2023-01-13T14:06:17.453Z"
   },
   {
    "duration": 20,
    "start_time": "2023-01-13T14:06:17.483Z"
   },
   {
    "duration": 16,
    "start_time": "2023-01-13T14:06:17.504Z"
   },
   {
    "duration": 8,
    "start_time": "2023-01-13T14:06:17.521Z"
   },
   {
    "duration": 15,
    "start_time": "2023-01-13T14:06:17.530Z"
   },
   {
    "duration": 12,
    "start_time": "2023-01-13T14:06:17.546Z"
   },
   {
    "duration": 10,
    "start_time": "2023-01-13T14:06:17.560Z"
   },
   {
    "duration": 7,
    "start_time": "2023-01-13T14:06:17.572Z"
   },
   {
    "duration": 13,
    "start_time": "2023-01-13T14:06:17.581Z"
   },
   {
    "duration": 16,
    "start_time": "2023-01-13T14:06:17.596Z"
   },
   {
    "duration": 5,
    "start_time": "2023-01-13T14:06:17.613Z"
   },
   {
    "duration": 11,
    "start_time": "2023-01-13T14:06:17.636Z"
   },
   {
    "duration": 10,
    "start_time": "2023-01-13T14:06:17.650Z"
   },
   {
    "duration": 11,
    "start_time": "2023-01-13T14:06:17.662Z"
   },
   {
    "duration": 9,
    "start_time": "2023-01-13T14:06:17.674Z"
   },
   {
    "duration": 7,
    "start_time": "2023-01-13T14:06:17.684Z"
   },
   {
    "duration": 20,
    "start_time": "2023-01-13T14:06:17.693Z"
   },
   {
    "duration": 10,
    "start_time": "2023-01-13T14:06:17.714Z"
   },
   {
    "duration": 12,
    "start_time": "2023-01-13T14:06:17.725Z"
   },
   {
    "duration": 24,
    "start_time": "2023-01-13T14:06:17.739Z"
   },
   {
    "duration": 28,
    "start_time": "2023-01-13T14:06:17.764Z"
   },
   {
    "duration": 19,
    "start_time": "2023-01-13T14:06:17.794Z"
   },
   {
    "duration": 20,
    "start_time": "2023-01-13T14:06:17.815Z"
   },
   {
    "duration": 11,
    "start_time": "2023-01-13T14:06:17.838Z"
   },
   {
    "duration": 21,
    "start_time": "2023-01-13T14:06:17.851Z"
   },
   {
    "duration": 16,
    "start_time": "2023-01-13T14:06:17.874Z"
   },
   {
    "duration": 4,
    "start_time": "2023-01-13T14:06:17.891Z"
   },
   {
    "duration": 9,
    "start_time": "2023-01-13T14:06:17.897Z"
   },
   {
    "duration": 170,
    "start_time": "2023-01-13T14:06:17.907Z"
   },
   {
    "duration": 5,
    "start_time": "2023-01-13T14:06:18.079Z"
   },
   {
    "duration": 20,
    "start_time": "2023-01-13T14:06:18.085Z"
   },
   {
    "duration": 3,
    "start_time": "2023-01-13T14:06:18.106Z"
   },
   {
    "duration": 204,
    "start_time": "2023-01-13T14:06:18.110Z"
   },
   {
    "duration": 6,
    "start_time": "2023-01-13T14:06:18.315Z"
   },
   {
    "duration": 43,
    "start_time": "2023-01-13T14:06:18.322Z"
   },
   {
    "duration": 6,
    "start_time": "2023-01-13T14:07:05.192Z"
   },
   {
    "duration": 15,
    "start_time": "2023-01-13T14:07:51.697Z"
   },
   {
    "duration": 25,
    "start_time": "2023-01-13T14:07:57.592Z"
   },
   {
    "duration": 6,
    "start_time": "2023-01-13T14:08:03.375Z"
   },
   {
    "duration": 7,
    "start_time": "2023-01-13T14:08:34.707Z"
   },
   {
    "duration": 10,
    "start_time": "2023-01-13T14:08:47.791Z"
   },
   {
    "duration": 11,
    "start_time": "2023-01-13T14:08:57.264Z"
   },
   {
    "duration": 251,
    "start_time": "2023-01-13T14:10:01.963Z"
   },
   {
    "duration": 252,
    "start_time": "2023-01-13T14:10:11.523Z"
   },
   {
    "duration": 274,
    "start_time": "2023-01-13T14:10:25.743Z"
   },
   {
    "duration": 350,
    "start_time": "2023-01-13T14:10:29.779Z"
   },
   {
    "duration": 3,
    "start_time": "2023-01-13T14:10:53.196Z"
   },
   {
    "duration": 167,
    "start_time": "2023-01-13T14:10:53.202Z"
   },
   {
    "duration": 15,
    "start_time": "2023-01-13T14:10:53.370Z"
   },
   {
    "duration": 28,
    "start_time": "2023-01-13T14:10:53.387Z"
   },
   {
    "duration": 62,
    "start_time": "2023-01-13T14:10:53.417Z"
   },
   {
    "duration": 83,
    "start_time": "2023-01-13T14:10:53.481Z"
   },
   {
    "duration": 7,
    "start_time": "2023-01-13T14:10:53.566Z"
   },
   {
    "duration": 37,
    "start_time": "2023-01-13T14:10:53.575Z"
   },
   {
    "duration": 54,
    "start_time": "2023-01-13T14:10:53.613Z"
   },
   {
    "duration": 44,
    "start_time": "2023-01-13T14:10:53.670Z"
   },
   {
    "duration": 22,
    "start_time": "2023-01-13T14:10:53.715Z"
   },
   {
    "duration": 51,
    "start_time": "2023-01-13T14:10:53.739Z"
   },
   {
    "duration": 40,
    "start_time": "2023-01-13T14:10:53.791Z"
   },
   {
    "duration": 59,
    "start_time": "2023-01-13T14:10:53.833Z"
   },
   {
    "duration": 29,
    "start_time": "2023-01-13T14:10:53.894Z"
   },
   {
    "duration": 48,
    "start_time": "2023-01-13T14:10:53.924Z"
   },
   {
    "duration": 20,
    "start_time": "2023-01-13T14:10:53.974Z"
   },
   {
    "duration": 25,
    "start_time": "2023-01-13T14:10:53.996Z"
   },
   {
    "duration": 49,
    "start_time": "2023-01-13T14:10:54.023Z"
   },
   {
    "duration": 21,
    "start_time": "2023-01-13T14:10:54.074Z"
   },
   {
    "duration": 29,
    "start_time": "2023-01-13T14:10:54.097Z"
   },
   {
    "duration": 40,
    "start_time": "2023-01-13T14:10:54.127Z"
   },
   {
    "duration": 22,
    "start_time": "2023-01-13T14:10:54.169Z"
   },
   {
    "duration": 37,
    "start_time": "2023-01-13T14:10:54.192Z"
   },
   {
    "duration": 75,
    "start_time": "2023-01-13T14:10:54.230Z"
   },
   {
    "duration": 48,
    "start_time": "2023-01-13T14:10:54.307Z"
   },
   {
    "duration": 39,
    "start_time": "2023-01-13T14:10:54.363Z"
   },
   {
    "duration": 23,
    "start_time": "2023-01-13T14:10:54.407Z"
   },
   {
    "duration": 41,
    "start_time": "2023-01-13T14:10:54.432Z"
   },
   {
    "duration": 28,
    "start_time": "2023-01-13T14:10:54.474Z"
   },
   {
    "duration": 66,
    "start_time": "2023-01-13T14:10:54.504Z"
   },
   {
    "duration": 36,
    "start_time": "2023-01-13T14:10:54.571Z"
   },
   {
    "duration": 68,
    "start_time": "2023-01-13T14:10:54.608Z"
   },
   {
    "duration": 51,
    "start_time": "2023-01-13T14:10:54.678Z"
   },
   {
    "duration": 69,
    "start_time": "2023-01-13T14:10:54.731Z"
   },
   {
    "duration": 63,
    "start_time": "2023-01-13T14:10:54.802Z"
   },
   {
    "duration": 33,
    "start_time": "2023-01-13T14:10:54.868Z"
   },
   {
    "duration": 44,
    "start_time": "2023-01-13T14:10:54.903Z"
   },
   {
    "duration": 112,
    "start_time": "2023-01-13T14:10:54.952Z"
   },
   {
    "duration": 38,
    "start_time": "2023-01-13T14:10:55.067Z"
   },
   {
    "duration": 23,
    "start_time": "2023-01-13T14:10:55.106Z"
   },
   {
    "duration": 44,
    "start_time": "2023-01-13T14:10:55.131Z"
   },
   {
    "duration": 27,
    "start_time": "2023-01-13T14:10:55.190Z"
   },
   {
    "duration": 55,
    "start_time": "2023-01-13T14:10:55.219Z"
   },
   {
    "duration": 37,
    "start_time": "2023-01-13T14:10:55.275Z"
   },
   {
    "duration": 26,
    "start_time": "2023-01-13T14:10:55.314Z"
   },
   {
    "duration": 64,
    "start_time": "2023-01-13T14:10:55.342Z"
   },
   {
    "duration": 25,
    "start_time": "2023-01-13T14:10:55.408Z"
   },
   {
    "duration": 61,
    "start_time": "2023-01-13T14:10:55.437Z"
   },
   {
    "duration": 25,
    "start_time": "2023-01-13T14:10:55.499Z"
   },
   {
    "duration": 55,
    "start_time": "2023-01-13T14:10:55.525Z"
   },
   {
    "duration": 52,
    "start_time": "2023-01-13T14:10:55.581Z"
   },
   {
    "duration": 55,
    "start_time": "2023-01-13T14:10:55.641Z"
   },
   {
    "duration": 77,
    "start_time": "2023-01-13T14:10:55.697Z"
   },
   {
    "duration": 40,
    "start_time": "2023-01-13T14:10:55.776Z"
   },
   {
    "duration": 82,
    "start_time": "2023-01-13T14:10:55.818Z"
   },
   {
    "duration": 33,
    "start_time": "2023-01-13T14:10:55.902Z"
   },
   {
    "duration": 57,
    "start_time": "2023-01-13T14:10:55.937Z"
   },
   {
    "duration": 34,
    "start_time": "2023-01-13T14:10:55.997Z"
   },
   {
    "duration": 71,
    "start_time": "2023-01-13T14:10:56.033Z"
   },
   {
    "duration": 13,
    "start_time": "2023-01-13T14:10:56.106Z"
   },
   {
    "duration": 61,
    "start_time": "2023-01-13T14:10:56.121Z"
   },
   {
    "duration": 219,
    "start_time": "2023-01-13T14:10:56.184Z"
   },
   {
    "duration": 5,
    "start_time": "2023-01-13T14:10:56.405Z"
   },
   {
    "duration": 55,
    "start_time": "2023-01-13T14:10:56.412Z"
   },
   {
    "duration": 8,
    "start_time": "2023-01-13T14:10:56.468Z"
   },
   {
    "duration": 221,
    "start_time": "2023-01-13T14:10:56.477Z"
   },
   {
    "duration": 6,
    "start_time": "2023-01-13T14:10:56.700Z"
   },
   {
    "duration": 79,
    "start_time": "2023-01-13T14:10:56.708Z"
   },
   {
    "duration": 507,
    "start_time": "2023-01-13T14:10:56.789Z"
   },
   {
    "duration": 9,
    "start_time": "2023-01-13T14:30:47.568Z"
   },
   {
    "duration": 18,
    "start_time": "2023-01-13T14:30:53.331Z"
   },
   {
    "duration": 55,
    "start_time": "2023-01-13T14:33:24.629Z"
   },
   {
    "duration": 31,
    "start_time": "2023-01-13T14:33:31.965Z"
   },
   {
    "duration": 31,
    "start_time": "2023-01-13T14:33:39.758Z"
   },
   {
    "duration": 7,
    "start_time": "2023-01-13T14:35:39.706Z"
   },
   {
    "duration": 4,
    "start_time": "2023-01-13T14:35:41.273Z"
   },
   {
    "duration": 25,
    "start_time": "2023-01-13T14:36:12.213Z"
   },
   {
    "duration": 22,
    "start_time": "2023-01-13T14:36:14.783Z"
   },
   {
    "duration": 7,
    "start_time": "2023-01-13T14:37:01.703Z"
   },
   {
    "duration": 21,
    "start_time": "2023-01-13T14:37:05.899Z"
   },
   {
    "duration": 202,
    "start_time": "2023-01-13T14:38:40.981Z"
   },
   {
    "duration": 19,
    "start_time": "2023-01-13T14:38:45.805Z"
   },
   {
    "duration": 54,
    "start_time": "2023-01-13T17:44:27.460Z"
   },
   {
    "duration": 5,
    "start_time": "2023-01-13T17:44:29.563Z"
   },
   {
    "duration": 366,
    "start_time": "2023-01-13T17:44:31.927Z"
   },
   {
    "duration": 554,
    "start_time": "2023-01-13T17:44:32.295Z"
   },
   {
    "duration": 19,
    "start_time": "2023-01-13T17:44:32.850Z"
   },
   {
    "duration": 7,
    "start_time": "2023-01-13T17:44:32.871Z"
   },
   {
    "duration": 97,
    "start_time": "2023-01-13T17:44:32.879Z"
   },
   {
    "duration": 7,
    "start_time": "2023-01-13T17:44:32.978Z"
   },
   {
    "duration": 13,
    "start_time": "2023-01-13T17:44:32.986Z"
   },
   {
    "duration": 9,
    "start_time": "2023-01-13T17:44:33.001Z"
   },
   {
    "duration": 9,
    "start_time": "2023-01-13T17:44:33.011Z"
   },
   {
    "duration": 10,
    "start_time": "2023-01-13T17:44:33.022Z"
   },
   {
    "duration": 9,
    "start_time": "2023-01-13T17:44:33.033Z"
   },
   {
    "duration": 14,
    "start_time": "2023-01-13T17:44:33.044Z"
   },
   {
    "duration": 5,
    "start_time": "2023-01-13T17:44:33.059Z"
   },
   {
    "duration": 16,
    "start_time": "2023-01-13T17:44:33.078Z"
   },
   {
    "duration": 18,
    "start_time": "2023-01-13T17:44:33.095Z"
   },
   {
    "duration": 9,
    "start_time": "2023-01-13T17:44:33.115Z"
   },
   {
    "duration": 16,
    "start_time": "2023-01-13T17:44:33.125Z"
   },
   {
    "duration": 17,
    "start_time": "2023-01-13T17:44:33.142Z"
   },
   {
    "duration": 8,
    "start_time": "2023-01-13T17:44:33.161Z"
   },
   {
    "duration": 6,
    "start_time": "2023-01-13T17:44:33.177Z"
   },
   {
    "duration": 11,
    "start_time": "2023-01-13T17:44:33.184Z"
   },
   {
    "duration": 6,
    "start_time": "2023-01-13T17:44:33.196Z"
   },
   {
    "duration": 9,
    "start_time": "2023-01-13T17:44:33.204Z"
   },
   {
    "duration": 14,
    "start_time": "2023-01-13T17:44:33.214Z"
   },
   {
    "duration": 22,
    "start_time": "2023-01-13T17:44:33.230Z"
   },
   {
    "duration": 25,
    "start_time": "2023-01-13T17:44:33.254Z"
   },
   {
    "duration": 25,
    "start_time": "2023-01-13T17:44:33.280Z"
   },
   {
    "duration": 3,
    "start_time": "2023-01-13T17:44:33.309Z"
   },
   {
    "duration": 31,
    "start_time": "2023-01-13T17:44:33.313Z"
   },
   {
    "duration": 33,
    "start_time": "2023-01-13T17:44:33.346Z"
   },
   {
    "duration": 5,
    "start_time": "2023-01-13T17:44:33.380Z"
   },
   {
    "duration": 11,
    "start_time": "2023-01-13T17:44:33.386Z"
   },
   {
    "duration": 8,
    "start_time": "2023-01-13T17:44:33.398Z"
   },
   {
    "duration": 14,
    "start_time": "2023-01-13T17:44:33.408Z"
   },
   {
    "duration": 7,
    "start_time": "2023-01-13T17:44:33.423Z"
   },
   {
    "duration": 14,
    "start_time": "2023-01-13T17:44:33.431Z"
   },
   {
    "duration": 6,
    "start_time": "2023-01-13T17:44:33.446Z"
   },
   {
    "duration": 30,
    "start_time": "2023-01-13T17:44:33.453Z"
   },
   {
    "duration": 10,
    "start_time": "2023-01-13T17:44:33.485Z"
   },
   {
    "duration": 14,
    "start_time": "2023-01-13T17:44:33.497Z"
   },
   {
    "duration": 9,
    "start_time": "2023-01-13T17:44:33.512Z"
   },
   {
    "duration": 23,
    "start_time": "2023-01-13T17:44:33.522Z"
   },
   {
    "duration": 17,
    "start_time": "2023-01-13T17:44:33.546Z"
   },
   {
    "duration": 16,
    "start_time": "2023-01-13T17:44:33.564Z"
   },
   {
    "duration": 13,
    "start_time": "2023-01-13T17:44:33.582Z"
   },
   {
    "duration": 11,
    "start_time": "2023-01-13T17:44:33.597Z"
   },
   {
    "duration": 12,
    "start_time": "2023-01-13T17:44:33.609Z"
   },
   {
    "duration": 4,
    "start_time": "2023-01-13T17:44:33.623Z"
   },
   {
    "duration": 27,
    "start_time": "2023-01-13T17:44:33.629Z"
   },
   {
    "duration": 9,
    "start_time": "2023-01-13T17:44:33.658Z"
   },
   {
    "duration": 10,
    "start_time": "2023-01-13T17:44:33.668Z"
   },
   {
    "duration": 6,
    "start_time": "2023-01-13T17:44:33.680Z"
   },
   {
    "duration": 8,
    "start_time": "2023-01-13T17:44:33.688Z"
   },
   {
    "duration": 11,
    "start_time": "2023-01-13T17:44:33.697Z"
   },
   {
    "duration": 5,
    "start_time": "2023-01-13T17:44:33.710Z"
   },
   {
    "duration": 6,
    "start_time": "2023-01-13T17:44:33.717Z"
   },
   {
    "duration": 19,
    "start_time": "2023-01-13T17:44:33.724Z"
   },
   {
    "duration": 7,
    "start_time": "2023-01-13T17:44:33.744Z"
   },
   {
    "duration": 25,
    "start_time": "2023-01-13T17:44:33.753Z"
   },
   {
    "duration": 16,
    "start_time": "2023-01-13T17:44:33.780Z"
   },
   {
    "duration": 12,
    "start_time": "2023-01-13T17:44:33.797Z"
   },
   {
    "duration": 7,
    "start_time": "2023-01-13T17:44:33.811Z"
   },
   {
    "duration": 19,
    "start_time": "2023-01-13T17:44:33.819Z"
   },
   {
    "duration": 3,
    "start_time": "2023-01-13T17:44:33.839Z"
   },
   {
    "duration": 36,
    "start_time": "2023-01-13T17:44:33.844Z"
   },
   {
    "duration": 558,
    "start_time": "2023-01-13T17:44:33.882Z"
   },
   {
    "duration": 5,
    "start_time": "2023-01-13T17:44:34.442Z"
   },
   {
    "duration": 41,
    "start_time": "2023-01-13T17:44:34.448Z"
   },
   {
    "duration": 2,
    "start_time": "2023-01-13T17:44:34.491Z"
   },
   {
    "duration": 168,
    "start_time": "2023-01-13T17:44:34.494Z"
   },
   {
    "duration": 7,
    "start_time": "2023-01-13T17:44:34.663Z"
   },
   {
    "duration": 25,
    "start_time": "2023-01-13T17:44:34.677Z"
   },
   {
    "duration": 408,
    "start_time": "2023-01-13T17:44:34.704Z"
   },
   {
    "duration": 42,
    "start_time": "2023-01-13T17:44:35.114Z"
   },
   {
    "duration": 0,
    "start_time": "2023-01-13T17:44:35.158Z"
   },
   {
    "duration": 8,
    "start_time": "2023-01-13T17:44:38.268Z"
   },
   {
    "duration": 3,
    "start_time": "2023-01-13T17:44:40.668Z"
   },
   {
    "duration": 18,
    "start_time": "2023-01-13T17:45:54.074Z"
   },
   {
    "duration": 16,
    "start_time": "2023-01-13T17:46:40.935Z"
   },
   {
    "duration": 18,
    "start_time": "2023-01-13T17:46:53.449Z"
   },
   {
    "duration": 15,
    "start_time": "2023-01-13T17:47:23.839Z"
   },
   {
    "duration": 14,
    "start_time": "2023-01-13T17:47:32.469Z"
   },
   {
    "duration": 15,
    "start_time": "2023-01-13T17:47:49.371Z"
   },
   {
    "duration": 18,
    "start_time": "2023-01-13T17:50:37.053Z"
   },
   {
    "duration": 180,
    "start_time": "2023-01-13T17:53:23.961Z"
   },
   {
    "duration": 188,
    "start_time": "2023-01-13T17:53:41.081Z"
   },
   {
    "duration": 161,
    "start_time": "2023-01-13T17:53:52.416Z"
   },
   {
    "duration": 8,
    "start_time": "2023-01-13T17:54:18.452Z"
   },
   {
    "duration": 153,
    "start_time": "2023-01-13T17:54:21.365Z"
   },
   {
    "duration": 166,
    "start_time": "2023-01-13T17:54:52.423Z"
   },
   {
    "duration": 210,
    "start_time": "2023-01-13T17:55:04.396Z"
   },
   {
    "duration": 173,
    "start_time": "2023-01-13T17:55:08.888Z"
   },
   {
    "duration": 155,
    "start_time": "2023-01-13T17:55:11.963Z"
   },
   {
    "duration": 5,
    "start_time": "2023-01-13T17:57:48.903Z"
   },
   {
    "duration": 34,
    "start_time": "2023-01-13T17:57:57.089Z"
   },
   {
    "duration": 4,
    "start_time": "2023-01-13T17:58:23.200Z"
   },
   {
    "duration": 18,
    "start_time": "2023-01-13T17:59:13.200Z"
   },
   {
    "duration": 5,
    "start_time": "2023-01-13T17:59:30.205Z"
   },
   {
    "duration": 24,
    "start_time": "2023-01-13T17:59:38.315Z"
   },
   {
    "duration": 3,
    "start_time": "2023-01-13T18:00:13.817Z"
   },
   {
    "duration": 121,
    "start_time": "2023-01-13T18:00:13.821Z"
   },
   {
    "duration": 39,
    "start_time": "2023-01-13T18:00:13.945Z"
   },
   {
    "duration": 28,
    "start_time": "2023-01-13T18:00:13.987Z"
   },
   {
    "duration": 65,
    "start_time": "2023-01-13T18:00:14.017Z"
   },
   {
    "duration": 8,
    "start_time": "2023-01-13T18:00:14.084Z"
   },
   {
    "duration": 23,
    "start_time": "2023-01-13T18:00:14.094Z"
   },
   {
    "duration": 19,
    "start_time": "2023-01-13T18:00:14.120Z"
   },
   {
    "duration": 36,
    "start_time": "2023-01-13T18:00:14.141Z"
   },
   {
    "duration": 35,
    "start_time": "2023-01-13T18:00:14.179Z"
   },
   {
    "duration": 56,
    "start_time": "2023-01-13T18:00:14.217Z"
   },
   {
    "duration": 37,
    "start_time": "2023-01-13T18:00:14.274Z"
   },
   {
    "duration": 10,
    "start_time": "2023-01-13T18:00:14.313Z"
   },
   {
    "duration": 40,
    "start_time": "2023-01-13T18:00:14.324Z"
   },
   {
    "duration": 17,
    "start_time": "2023-01-13T18:00:14.366Z"
   },
   {
    "duration": 7,
    "start_time": "2023-01-13T18:00:14.384Z"
   },
   {
    "duration": 6,
    "start_time": "2023-01-13T18:00:14.392Z"
   },
   {
    "duration": 7,
    "start_time": "2023-01-13T18:00:14.400Z"
   },
   {
    "duration": 7,
    "start_time": "2023-01-13T18:00:14.409Z"
   },
   {
    "duration": 7,
    "start_time": "2023-01-13T18:00:14.417Z"
   },
   {
    "duration": 8,
    "start_time": "2023-01-13T18:00:14.425Z"
   },
   {
    "duration": 7,
    "start_time": "2023-01-13T18:00:14.435Z"
   },
   {
    "duration": 9,
    "start_time": "2023-01-13T18:00:14.443Z"
   },
   {
    "duration": 26,
    "start_time": "2023-01-13T18:00:14.453Z"
   },
   {
    "duration": 13,
    "start_time": "2023-01-13T18:00:14.480Z"
   },
   {
    "duration": 31,
    "start_time": "2023-01-13T18:00:14.495Z"
   },
   {
    "duration": 37,
    "start_time": "2023-01-13T18:00:14.528Z"
   },
   {
    "duration": 3,
    "start_time": "2023-01-13T18:00:14.567Z"
   },
   {
    "duration": 34,
    "start_time": "2023-01-13T18:00:14.574Z"
   },
   {
    "duration": 18,
    "start_time": "2023-01-13T18:00:14.610Z"
   },
   {
    "duration": 6,
    "start_time": "2023-01-13T18:00:14.629Z"
   },
   {
    "duration": 10,
    "start_time": "2023-01-13T18:00:14.636Z"
   },
   {
    "duration": 6,
    "start_time": "2023-01-13T18:00:14.648Z"
   },
   {
    "duration": 26,
    "start_time": "2023-01-13T18:00:14.655Z"
   },
   {
    "duration": 9,
    "start_time": "2023-01-13T18:00:14.683Z"
   },
   {
    "duration": 17,
    "start_time": "2023-01-13T18:00:14.694Z"
   },
   {
    "duration": 23,
    "start_time": "2023-01-13T18:00:14.713Z"
   },
   {
    "duration": 17,
    "start_time": "2023-01-13T18:00:14.738Z"
   },
   {
    "duration": 5,
    "start_time": "2023-01-13T18:00:14.757Z"
   },
   {
    "duration": 15,
    "start_time": "2023-01-13T18:00:14.763Z"
   },
   {
    "duration": 11,
    "start_time": "2023-01-13T18:00:14.779Z"
   },
   {
    "duration": 15,
    "start_time": "2023-01-13T18:00:14.792Z"
   },
   {
    "duration": 11,
    "start_time": "2023-01-13T18:00:14.809Z"
   },
   {
    "duration": 10,
    "start_time": "2023-01-13T18:00:14.822Z"
   },
   {
    "duration": 8,
    "start_time": "2023-01-13T18:00:14.834Z"
   },
   {
    "duration": 8,
    "start_time": "2023-01-13T18:00:14.844Z"
   },
   {
    "duration": 28,
    "start_time": "2023-01-13T18:00:14.853Z"
   },
   {
    "duration": 5,
    "start_time": "2023-01-13T18:00:14.882Z"
   },
   {
    "duration": 10,
    "start_time": "2023-01-13T18:00:14.888Z"
   },
   {
    "duration": 10,
    "start_time": "2023-01-13T18:00:14.899Z"
   },
   {
    "duration": 24,
    "start_time": "2023-01-13T18:00:14.910Z"
   },
   {
    "duration": 12,
    "start_time": "2023-01-13T18:00:14.936Z"
   },
   {
    "duration": 16,
    "start_time": "2023-01-13T18:00:14.950Z"
   },
   {
    "duration": 16,
    "start_time": "2023-01-13T18:00:14.968Z"
   },
   {
    "duration": 14,
    "start_time": "2023-01-13T18:00:14.986Z"
   },
   {
    "duration": 21,
    "start_time": "2023-01-13T18:00:15.001Z"
   },
   {
    "duration": 22,
    "start_time": "2023-01-13T18:00:15.024Z"
   },
   {
    "duration": 8,
    "start_time": "2023-01-13T18:00:15.048Z"
   },
   {
    "duration": 23,
    "start_time": "2023-01-13T18:00:15.057Z"
   },
   {
    "duration": 18,
    "start_time": "2023-01-13T18:00:15.082Z"
   },
   {
    "duration": 7,
    "start_time": "2023-01-13T18:00:15.101Z"
   },
   {
    "duration": 34,
    "start_time": "2023-01-13T18:00:15.110Z"
   },
   {
    "duration": 16,
    "start_time": "2023-01-13T18:00:15.146Z"
   },
   {
    "duration": 4,
    "start_time": "2023-01-13T18:00:15.163Z"
   },
   {
    "duration": 14,
    "start_time": "2023-01-13T18:00:15.168Z"
   },
   {
    "duration": 128,
    "start_time": "2023-01-13T18:00:15.184Z"
   },
   {
    "duration": 5,
    "start_time": "2023-01-13T18:00:15.314Z"
   },
   {
    "duration": 27,
    "start_time": "2023-01-13T18:00:15.320Z"
   },
   {
    "duration": 3,
    "start_time": "2023-01-13T18:00:15.348Z"
   },
   {
    "duration": 172,
    "start_time": "2023-01-13T18:00:15.352Z"
   },
   {
    "duration": 6,
    "start_time": "2023-01-13T18:00:15.525Z"
   },
   {
    "duration": 27,
    "start_time": "2023-01-13T18:00:15.533Z"
   },
   {
    "duration": 316,
    "start_time": "2023-01-13T18:00:15.562Z"
   },
   {
    "duration": 20,
    "start_time": "2023-01-13T18:00:15.879Z"
   },
   {
    "duration": 179,
    "start_time": "2023-01-13T18:00:15.901Z"
   },
   {
    "duration": 6,
    "start_time": "2023-01-13T18:00:16.083Z"
   },
   {
    "duration": 12,
    "start_time": "2023-01-13T18:00:16.090Z"
   },
   {
    "duration": 25,
    "start_time": "2023-01-13T18:00:16.104Z"
   },
   {
    "duration": 11,
    "start_time": "2023-01-13T18:00:22.452Z"
   },
   {
    "duration": 5,
    "start_time": "2023-01-13T18:00:37.799Z"
   },
   {
    "duration": 4,
    "start_time": "2023-01-13T18:01:31.535Z"
   },
   {
    "duration": 21,
    "start_time": "2023-01-13T18:03:01.166Z"
   },
   {
    "duration": 5,
    "start_time": "2023-01-13T18:03:35.759Z"
   },
   {
    "duration": 1115,
    "start_time": "2023-01-13T18:03:44.889Z"
   },
   {
    "duration": 1141,
    "start_time": "2023-01-13T18:06:24.835Z"
   },
   {
    "duration": 1093,
    "start_time": "2023-01-13T18:06:31.560Z"
   },
   {
    "duration": 5,
    "start_time": "2023-01-13T18:06:35.828Z"
   },
   {
    "duration": 99,
    "start_time": "2023-01-13T18:06:51.201Z"
   },
   {
    "duration": 5,
    "start_time": "2023-01-13T18:08:08.989Z"
   },
   {
    "duration": 26,
    "start_time": "2023-01-13T18:08:54.724Z"
   },
   {
    "duration": 4,
    "start_time": "2023-01-13T18:09:28.564Z"
   },
   {
    "duration": 5,
    "start_time": "2023-01-13T18:09:29.853Z"
   },
   {
    "duration": 23,
    "start_time": "2023-01-13T18:09:30.961Z"
   },
   {
    "duration": 2,
    "start_time": "2023-01-13T18:09:47.801Z"
   },
   {
    "duration": 90,
    "start_time": "2023-01-13T18:09:47.805Z"
   },
   {
    "duration": 14,
    "start_time": "2023-01-13T18:09:47.897Z"
   },
   {
    "duration": 9,
    "start_time": "2023-01-13T18:09:47.913Z"
   },
   {
    "duration": 48,
    "start_time": "2023-01-13T18:09:47.924Z"
   },
   {
    "duration": 6,
    "start_time": "2023-01-13T18:09:47.974Z"
   },
   {
    "duration": 10,
    "start_time": "2023-01-13T18:09:47.982Z"
   },
   {
    "duration": 13,
    "start_time": "2023-01-13T18:09:47.994Z"
   },
   {
    "duration": 18,
    "start_time": "2023-01-13T18:09:48.009Z"
   },
   {
    "duration": 7,
    "start_time": "2023-01-13T18:09:48.029Z"
   },
   {
    "duration": 5,
    "start_time": "2023-01-13T18:09:48.039Z"
   },
   {
    "duration": 14,
    "start_time": "2023-01-13T18:09:48.045Z"
   },
   {
    "duration": 18,
    "start_time": "2023-01-13T18:09:48.061Z"
   },
   {
    "duration": 17,
    "start_time": "2023-01-13T18:09:48.081Z"
   },
   {
    "duration": 17,
    "start_time": "2023-01-13T18:09:48.100Z"
   },
   {
    "duration": 15,
    "start_time": "2023-01-13T18:09:48.118Z"
   },
   {
    "duration": 11,
    "start_time": "2023-01-13T18:09:48.134Z"
   },
   {
    "duration": 10,
    "start_time": "2023-01-13T18:09:48.147Z"
   },
   {
    "duration": 21,
    "start_time": "2023-01-13T18:09:48.159Z"
   },
   {
    "duration": 9,
    "start_time": "2023-01-13T18:09:48.182Z"
   },
   {
    "duration": 11,
    "start_time": "2023-01-13T18:09:48.192Z"
   },
   {
    "duration": 6,
    "start_time": "2023-01-13T18:09:48.204Z"
   },
   {
    "duration": 9,
    "start_time": "2023-01-13T18:09:48.212Z"
   },
   {
    "duration": 6,
    "start_time": "2023-01-13T18:09:48.223Z"
   },
   {
    "duration": 20,
    "start_time": "2023-01-13T18:09:48.231Z"
   },
   {
    "duration": 37,
    "start_time": "2023-01-13T18:09:48.253Z"
   },
   {
    "duration": 27,
    "start_time": "2023-01-13T18:09:48.292Z"
   },
   {
    "duration": 3,
    "start_time": "2023-01-13T18:09:48.320Z"
   },
   {
    "duration": 27,
    "start_time": "2023-01-13T18:09:48.327Z"
   },
   {
    "duration": 31,
    "start_time": "2023-01-13T18:09:48.355Z"
   },
   {
    "duration": 4,
    "start_time": "2023-01-13T18:09:48.388Z"
   },
   {
    "duration": 14,
    "start_time": "2023-01-13T18:09:48.394Z"
   },
   {
    "duration": 6,
    "start_time": "2023-01-13T18:09:48.410Z"
   },
   {
    "duration": 14,
    "start_time": "2023-01-13T18:09:48.417Z"
   },
   {
    "duration": 9,
    "start_time": "2023-01-13T18:09:48.432Z"
   },
   {
    "duration": 18,
    "start_time": "2023-01-13T18:09:48.443Z"
   },
   {
    "duration": 6,
    "start_time": "2023-01-13T18:09:48.478Z"
   },
   {
    "duration": 15,
    "start_time": "2023-01-13T18:09:48.485Z"
   },
   {
    "duration": 11,
    "start_time": "2023-01-13T18:09:48.502Z"
   },
   {
    "duration": 32,
    "start_time": "2023-01-13T18:09:48.514Z"
   },
   {
    "duration": 60,
    "start_time": "2023-01-13T18:09:48.548Z"
   },
   {
    "duration": 33,
    "start_time": "2023-01-13T18:09:48.610Z"
   },
   {
    "duration": 16,
    "start_time": "2023-01-13T18:09:48.645Z"
   },
   {
    "duration": 5,
    "start_time": "2023-01-13T18:09:48.663Z"
   },
   {
    "duration": 13,
    "start_time": "2023-01-13T18:09:48.670Z"
   },
   {
    "duration": 15,
    "start_time": "2023-01-13T18:09:48.685Z"
   },
   {
    "duration": 99,
    "start_time": "2023-01-13T18:09:48.702Z"
   },
   {
    "duration": 86,
    "start_time": "2023-01-13T18:09:48.803Z"
   },
   {
    "duration": 19,
    "start_time": "2023-01-13T18:09:48.890Z"
   },
   {
    "duration": 9,
    "start_time": "2023-01-13T18:09:48.911Z"
   },
   {
    "duration": 21,
    "start_time": "2023-01-13T18:09:48.921Z"
   },
   {
    "duration": 6,
    "start_time": "2023-01-13T18:09:48.944Z"
   },
   {
    "duration": 15,
    "start_time": "2023-01-13T18:09:48.951Z"
   },
   {
    "duration": 8,
    "start_time": "2023-01-13T18:09:48.967Z"
   },
   {
    "duration": 11,
    "start_time": "2023-01-13T18:09:48.977Z"
   },
   {
    "duration": 19,
    "start_time": "2023-01-13T18:09:48.989Z"
   },
   {
    "duration": 19,
    "start_time": "2023-01-13T18:09:49.010Z"
   },
   {
    "duration": 11,
    "start_time": "2023-01-13T18:09:49.031Z"
   },
   {
    "duration": 15,
    "start_time": "2023-01-13T18:09:49.044Z"
   },
   {
    "duration": 17,
    "start_time": "2023-01-13T18:09:49.061Z"
   },
   {
    "duration": 8,
    "start_time": "2023-01-13T18:09:49.080Z"
   },
   {
    "duration": 9,
    "start_time": "2023-01-13T18:09:49.089Z"
   },
   {
    "duration": 18,
    "start_time": "2023-01-13T18:09:49.100Z"
   },
   {
    "duration": 21,
    "start_time": "2023-01-13T18:09:49.120Z"
   },
   {
    "duration": 12,
    "start_time": "2023-01-13T18:09:49.143Z"
   },
   {
    "duration": 148,
    "start_time": "2023-01-13T18:09:49.156Z"
   },
   {
    "duration": 5,
    "start_time": "2023-01-13T18:09:49.306Z"
   },
   {
    "duration": 25,
    "start_time": "2023-01-13T18:09:49.313Z"
   },
   {
    "duration": 2,
    "start_time": "2023-01-13T18:09:49.340Z"
   },
   {
    "duration": 171,
    "start_time": "2023-01-13T18:09:49.344Z"
   },
   {
    "duration": 6,
    "start_time": "2023-01-13T18:09:49.516Z"
   },
   {
    "duration": 35,
    "start_time": "2023-01-13T18:09:49.523Z"
   },
   {
    "duration": 279,
    "start_time": "2023-01-13T18:09:49.559Z"
   },
   {
    "duration": 19,
    "start_time": "2023-01-13T18:09:49.840Z"
   },
   {
    "duration": 180,
    "start_time": "2023-01-13T18:09:49.860Z"
   },
   {
    "duration": 6,
    "start_time": "2023-01-13T18:09:50.041Z"
   },
   {
    "duration": 19,
    "start_time": "2023-01-13T18:09:50.048Z"
   },
   {
    "duration": 18,
    "start_time": "2023-01-13T18:09:50.069Z"
   },
   {
    "duration": 12,
    "start_time": "2023-01-13T18:09:50.088Z"
   },
   {
    "duration": 33,
    "start_time": "2023-01-13T18:09:50.102Z"
   },
   {
    "duration": 24,
    "start_time": "2023-01-13T18:12:22.292Z"
   },
   {
    "duration": 21,
    "start_time": "2023-01-13T18:12:39.722Z"
   },
   {
    "duration": 19,
    "start_time": "2023-01-13T18:13:42.495Z"
   },
   {
    "duration": 25,
    "start_time": "2023-01-13T18:13:53.079Z"
   },
   {
    "duration": 296,
    "start_time": "2023-01-13T18:14:30.976Z"
   },
   {
    "duration": 74,
    "start_time": "2023-01-13T18:14:45.784Z"
   },
   {
    "duration": 73,
    "start_time": "2023-01-13T18:14:48.645Z"
   },
   {
    "duration": 268,
    "start_time": "2023-01-13T18:14:51.700Z"
   },
   {
    "duration": 292,
    "start_time": "2023-01-13T18:15:01.611Z"
   },
   {
    "duration": 333,
    "start_time": "2023-01-13T18:16:00.941Z"
   },
   {
    "duration": 115,
    "start_time": "2023-01-13T18:19:06.865Z"
   },
   {
    "duration": 7,
    "start_time": "2023-01-13T18:19:24.251Z"
   },
   {
    "duration": 6,
    "start_time": "2023-01-13T18:19:26.119Z"
   },
   {
    "duration": 203,
    "start_time": "2023-01-13T18:19:53.351Z"
   },
   {
    "duration": 202,
    "start_time": "2023-01-13T18:20:05.246Z"
   },
   {
    "duration": 200,
    "start_time": "2023-01-13T18:21:08.459Z"
   },
   {
    "duration": 216,
    "start_time": "2023-01-13T18:21:16.241Z"
   },
   {
    "duration": 120,
    "start_time": "2023-01-13T18:21:19.899Z"
   },
   {
    "duration": 226,
    "start_time": "2023-01-13T18:21:23.986Z"
   },
   {
    "duration": 195,
    "start_time": "2023-01-13T18:21:30.937Z"
   },
   {
    "duration": 193,
    "start_time": "2023-01-13T18:21:34.285Z"
   },
   {
    "duration": 198,
    "start_time": "2023-01-13T18:21:44.573Z"
   },
   {
    "duration": 218,
    "start_time": "2023-01-13T18:21:50.422Z"
   },
   {
    "duration": 265,
    "start_time": "2023-01-13T18:21:53.562Z"
   },
   {
    "duration": 321,
    "start_time": "2023-01-13T18:22:58.051Z"
   },
   {
    "duration": 313,
    "start_time": "2023-01-13T18:23:20.581Z"
   },
   {
    "duration": 2,
    "start_time": "2023-01-13T18:23:29.268Z"
   },
   {
    "duration": 95,
    "start_time": "2023-01-13T18:23:29.272Z"
   },
   {
    "duration": 15,
    "start_time": "2023-01-13T18:23:29.369Z"
   },
   {
    "duration": 12,
    "start_time": "2023-01-13T18:23:29.386Z"
   },
   {
    "duration": 41,
    "start_time": "2023-01-13T18:23:29.400Z"
   },
   {
    "duration": 7,
    "start_time": "2023-01-13T18:23:29.443Z"
   },
   {
    "duration": 8,
    "start_time": "2023-01-13T18:23:29.452Z"
   },
   {
    "duration": 12,
    "start_time": "2023-01-13T18:23:29.462Z"
   },
   {
    "duration": 10,
    "start_time": "2023-01-13T18:23:29.476Z"
   },
   {
    "duration": 9,
    "start_time": "2023-01-13T18:23:29.487Z"
   },
   {
    "duration": 8,
    "start_time": "2023-01-13T18:23:29.498Z"
   },
   {
    "duration": 18,
    "start_time": "2023-01-13T18:23:29.507Z"
   },
   {
    "duration": 5,
    "start_time": "2023-01-13T18:23:29.526Z"
   },
   {
    "duration": 45,
    "start_time": "2023-01-13T18:23:29.533Z"
   },
   {
    "duration": 18,
    "start_time": "2023-01-13T18:23:29.580Z"
   },
   {
    "duration": 15,
    "start_time": "2023-01-13T18:23:29.600Z"
   },
   {
    "duration": 9,
    "start_time": "2023-01-13T18:23:29.617Z"
   },
   {
    "duration": 12,
    "start_time": "2023-01-13T18:23:29.627Z"
   },
   {
    "duration": 8,
    "start_time": "2023-01-13T18:23:29.641Z"
   },
   {
    "duration": 9,
    "start_time": "2023-01-13T18:23:29.651Z"
   },
   {
    "duration": 5,
    "start_time": "2023-01-13T18:23:29.678Z"
   },
   {
    "duration": 8,
    "start_time": "2023-01-13T18:23:29.685Z"
   },
   {
    "duration": 10,
    "start_time": "2023-01-13T18:23:29.695Z"
   },
   {
    "duration": 5,
    "start_time": "2023-01-13T18:23:29.709Z"
   },
   {
    "duration": 13,
    "start_time": "2023-01-13T18:23:29.715Z"
   },
   {
    "duration": 50,
    "start_time": "2023-01-13T18:23:29.730Z"
   },
   {
    "duration": 25,
    "start_time": "2023-01-13T18:23:29.782Z"
   },
   {
    "duration": 4,
    "start_time": "2023-01-13T18:23:29.808Z"
   },
   {
    "duration": 34,
    "start_time": "2023-01-13T18:23:29.814Z"
   },
   {
    "duration": 42,
    "start_time": "2023-01-13T18:23:29.850Z"
   },
   {
    "duration": 5,
    "start_time": "2023-01-13T18:23:29.894Z"
   },
   {
    "duration": 18,
    "start_time": "2023-01-13T18:23:29.901Z"
   },
   {
    "duration": 12,
    "start_time": "2023-01-13T18:23:29.921Z"
   },
   {
    "duration": 15,
    "start_time": "2023-01-13T18:23:29.935Z"
   },
   {
    "duration": 11,
    "start_time": "2023-01-13T18:23:29.952Z"
   },
   {
    "duration": 23,
    "start_time": "2023-01-13T18:23:29.964Z"
   },
   {
    "duration": 7,
    "start_time": "2023-01-13T18:23:29.988Z"
   },
   {
    "duration": 15,
    "start_time": "2023-01-13T18:23:29.996Z"
   },
   {
    "duration": 20,
    "start_time": "2023-01-13T18:23:30.013Z"
   },
   {
    "duration": 20,
    "start_time": "2023-01-13T18:23:30.034Z"
   },
   {
    "duration": 20,
    "start_time": "2023-01-13T18:23:30.056Z"
   },
   {
    "duration": 26,
    "start_time": "2023-01-13T18:23:30.078Z"
   },
   {
    "duration": 26,
    "start_time": "2023-01-13T18:23:30.106Z"
   },
   {
    "duration": 24,
    "start_time": "2023-01-13T18:23:30.134Z"
   },
   {
    "duration": 41,
    "start_time": "2023-01-13T18:23:30.163Z"
   },
   {
    "duration": 28,
    "start_time": "2023-01-13T18:23:30.207Z"
   },
   {
    "duration": 52,
    "start_time": "2023-01-13T18:23:30.236Z"
   },
   {
    "duration": 36,
    "start_time": "2023-01-13T18:23:30.290Z"
   },
   {
    "duration": 19,
    "start_time": "2023-01-13T18:23:30.327Z"
   },
   {
    "duration": 30,
    "start_time": "2023-01-13T18:23:30.348Z"
   },
   {
    "duration": 41,
    "start_time": "2023-01-13T18:23:30.380Z"
   },
   {
    "duration": 38,
    "start_time": "2023-01-13T18:23:30.423Z"
   },
   {
    "duration": 24,
    "start_time": "2023-01-13T18:23:30.464Z"
   },
   {
    "duration": 20,
    "start_time": "2023-01-13T18:23:30.490Z"
   },
   {
    "duration": 28,
    "start_time": "2023-01-13T18:23:30.512Z"
   },
   {
    "duration": 28,
    "start_time": "2023-01-13T18:23:30.542Z"
   },
   {
    "duration": 50,
    "start_time": "2023-01-13T18:23:30.572Z"
   },
   {
    "duration": 25,
    "start_time": "2023-01-13T18:23:30.624Z"
   },
   {
    "duration": 36,
    "start_time": "2023-01-13T18:23:30.651Z"
   },
   {
    "duration": 28,
    "start_time": "2023-01-13T18:23:30.689Z"
   },
   {
    "duration": 26,
    "start_time": "2023-01-13T18:23:30.719Z"
   },
   {
    "duration": 24,
    "start_time": "2023-01-13T18:23:30.747Z"
   },
   {
    "duration": 46,
    "start_time": "2023-01-13T18:23:30.772Z"
   },
   {
    "duration": 35,
    "start_time": "2023-01-13T18:23:30.820Z"
   },
   {
    "duration": 49,
    "start_time": "2023-01-13T18:23:30.856Z"
   },
   {
    "duration": 161,
    "start_time": "2023-01-13T18:23:30.907Z"
   },
   {
    "duration": 11,
    "start_time": "2023-01-13T18:23:31.070Z"
   },
   {
    "duration": 42,
    "start_time": "2023-01-13T18:23:31.082Z"
   },
   {
    "duration": 3,
    "start_time": "2023-01-13T18:23:31.129Z"
   },
   {
    "duration": 192,
    "start_time": "2023-01-13T18:23:31.134Z"
   },
   {
    "duration": 6,
    "start_time": "2023-01-13T18:23:31.327Z"
   },
   {
    "duration": 51,
    "start_time": "2023-01-13T18:23:31.335Z"
   },
   {
    "duration": 280,
    "start_time": "2023-01-13T18:23:31.388Z"
   },
   {
    "duration": 19,
    "start_time": "2023-01-13T18:23:31.669Z"
   },
   {
    "duration": 161,
    "start_time": "2023-01-13T18:23:31.689Z"
   },
   {
    "duration": 5,
    "start_time": "2023-01-13T18:23:31.852Z"
   },
   {
    "duration": 13,
    "start_time": "2023-01-13T18:23:31.858Z"
   },
   {
    "duration": 7,
    "start_time": "2023-01-13T18:23:31.873Z"
   },
   {
    "duration": 51,
    "start_time": "2023-01-13T18:23:31.881Z"
   },
   {
    "duration": 40,
    "start_time": "2023-01-13T18:23:31.934Z"
   },
   {
    "duration": 261,
    "start_time": "2023-01-13T18:23:31.975Z"
   },
   {
    "duration": 327,
    "start_time": "2023-01-13T18:23:32.238Z"
   },
   {
    "duration": 316,
    "start_time": "2023-01-13T18:23:32.567Z"
   },
   {
    "duration": 9,
    "start_time": "2023-01-13T18:31:07.723Z"
   },
   {
    "duration": 422,
    "start_time": "2023-01-13T18:31:29.034Z"
   },
   {
    "duration": 341,
    "start_time": "2023-01-13T18:31:40.777Z"
   },
   {
    "duration": 341,
    "start_time": "2023-01-13T18:31:57.825Z"
   },
   {
    "duration": 338,
    "start_time": "2023-01-13T18:32:22.321Z"
   },
   {
    "duration": 168,
    "start_time": "2023-01-13T18:32:28.603Z"
   },
   {
    "duration": 359,
    "start_time": "2023-01-13T18:32:36.036Z"
   },
   {
    "duration": 8,
    "start_time": "2023-01-13T18:32:55.861Z"
   },
   {
    "duration": 13,
    "start_time": "2023-01-13T18:34:04.907Z"
   },
   {
    "duration": 19,
    "start_time": "2023-01-13T18:34:35.032Z"
   },
   {
    "duration": 28,
    "start_time": "2023-01-13T18:34:55.172Z"
   },
   {
    "duration": 20,
    "start_time": "2023-01-13T18:35:59.584Z"
   },
   {
    "duration": 24,
    "start_time": "2023-01-13T18:36:03.820Z"
   },
   {
    "duration": 25,
    "start_time": "2023-01-13T18:36:22.550Z"
   },
   {
    "duration": 397,
    "start_time": "2023-01-13T18:37:16.094Z"
   },
   {
    "duration": 288,
    "start_time": "2023-01-13T18:37:25.323Z"
   },
   {
    "duration": 359,
    "start_time": "2023-01-13T18:37:53.525Z"
   },
   {
    "duration": 352,
    "start_time": "2023-01-13T18:37:58.282Z"
   },
   {
    "duration": 298,
    "start_time": "2023-01-13T18:38:38.595Z"
   },
   {
    "duration": 168,
    "start_time": "2023-01-13T18:38:54.388Z"
   },
   {
    "duration": 3,
    "start_time": "2023-01-13T18:38:57.102Z"
   },
   {
    "duration": 93,
    "start_time": "2023-01-13T18:38:57.107Z"
   },
   {
    "duration": 14,
    "start_time": "2023-01-13T18:38:57.202Z"
   },
   {
    "duration": 10,
    "start_time": "2023-01-13T18:38:57.218Z"
   },
   {
    "duration": 42,
    "start_time": "2023-01-13T18:38:57.229Z"
   },
   {
    "duration": 7,
    "start_time": "2023-01-13T18:38:57.272Z"
   },
   {
    "duration": 8,
    "start_time": "2023-01-13T18:38:57.280Z"
   },
   {
    "duration": 8,
    "start_time": "2023-01-13T18:38:57.290Z"
   },
   {
    "duration": 9,
    "start_time": "2023-01-13T18:38:57.300Z"
   },
   {
    "duration": 11,
    "start_time": "2023-01-13T18:38:57.310Z"
   },
   {
    "duration": 10,
    "start_time": "2023-01-13T18:38:57.323Z"
   },
   {
    "duration": 17,
    "start_time": "2023-01-13T18:38:57.334Z"
   },
   {
    "duration": 4,
    "start_time": "2023-01-13T18:38:57.352Z"
   },
   {
    "duration": 33,
    "start_time": "2023-01-13T18:38:57.358Z"
   },
   {
    "duration": 18,
    "start_time": "2023-01-13T18:38:57.393Z"
   },
   {
    "duration": 8,
    "start_time": "2023-01-13T18:38:57.413Z"
   },
   {
    "duration": 7,
    "start_time": "2023-01-13T18:38:57.422Z"
   },
   {
    "duration": 11,
    "start_time": "2023-01-13T18:38:57.430Z"
   },
   {
    "duration": 5,
    "start_time": "2023-01-13T18:38:57.443Z"
   },
   {
    "duration": 32,
    "start_time": "2023-01-13T18:38:57.450Z"
   },
   {
    "duration": 8,
    "start_time": "2023-01-13T18:38:57.484Z"
   },
   {
    "duration": 8,
    "start_time": "2023-01-13T18:38:57.494Z"
   },
   {
    "duration": 8,
    "start_time": "2023-01-13T18:38:57.504Z"
   },
   {
    "duration": 6,
    "start_time": "2023-01-13T18:38:57.514Z"
   },
   {
    "duration": 12,
    "start_time": "2023-01-13T18:38:57.522Z"
   },
   {
    "duration": 51,
    "start_time": "2023-01-13T18:38:57.535Z"
   },
   {
    "duration": 23,
    "start_time": "2023-01-13T18:38:57.588Z"
   },
   {
    "duration": 4,
    "start_time": "2023-01-13T18:38:57.612Z"
   },
   {
    "duration": 27,
    "start_time": "2023-01-13T18:38:57.618Z"
   },
   {
    "duration": 32,
    "start_time": "2023-01-13T18:38:57.647Z"
   },
   {
    "duration": 5,
    "start_time": "2023-01-13T18:38:57.680Z"
   },
   {
    "duration": 11,
    "start_time": "2023-01-13T18:38:57.687Z"
   },
   {
    "duration": 6,
    "start_time": "2023-01-13T18:38:57.699Z"
   },
   {
    "duration": 13,
    "start_time": "2023-01-13T18:38:57.706Z"
   },
   {
    "duration": 14,
    "start_time": "2023-01-13T18:38:57.720Z"
   },
   {
    "duration": 21,
    "start_time": "2023-01-13T18:38:57.735Z"
   },
   {
    "duration": 27,
    "start_time": "2023-01-13T18:38:57.758Z"
   },
   {
    "duration": 19,
    "start_time": "2023-01-13T18:38:57.787Z"
   },
   {
    "duration": 5,
    "start_time": "2023-01-13T18:38:57.807Z"
   },
   {
    "duration": 9,
    "start_time": "2023-01-13T18:38:57.813Z"
   },
   {
    "duration": 6,
    "start_time": "2023-01-13T18:38:57.826Z"
   },
   {
    "duration": 18,
    "start_time": "2023-01-13T18:38:57.833Z"
   },
   {
    "duration": 27,
    "start_time": "2023-01-13T18:38:57.852Z"
   },
   {
    "duration": 4,
    "start_time": "2023-01-13T18:38:57.880Z"
   },
   {
    "duration": 8,
    "start_time": "2023-01-13T18:38:57.886Z"
   },
   {
    "duration": 7,
    "start_time": "2023-01-13T18:38:57.896Z"
   },
   {
    "duration": 12,
    "start_time": "2023-01-13T18:38:57.904Z"
   },
   {
    "duration": 4,
    "start_time": "2023-01-13T18:38:57.918Z"
   },
   {
    "duration": 14,
    "start_time": "2023-01-13T18:38:57.924Z"
   },
   {
    "duration": 10,
    "start_time": "2023-01-13T18:38:57.940Z"
   },
   {
    "duration": 31,
    "start_time": "2023-01-13T18:38:57.952Z"
   },
   {
    "duration": 6,
    "start_time": "2023-01-13T18:38:57.984Z"
   },
   {
    "duration": 5,
    "start_time": "2023-01-13T18:38:57.992Z"
   },
   {
    "duration": 12,
    "start_time": "2023-01-13T18:38:57.999Z"
   },
   {
    "duration": 8,
    "start_time": "2023-01-13T18:38:58.012Z"
   },
   {
    "duration": 10,
    "start_time": "2023-01-13T18:38:58.021Z"
   },
   {
    "duration": 23,
    "start_time": "2023-01-13T18:38:58.033Z"
   },
   {
    "duration": 20,
    "start_time": "2023-01-13T18:38:58.058Z"
   },
   {
    "duration": 19,
    "start_time": "2023-01-13T18:38:58.080Z"
   },
   {
    "duration": 17,
    "start_time": "2023-01-13T18:38:58.101Z"
   },
   {
    "duration": 6,
    "start_time": "2023-01-13T18:38:58.120Z"
   },
   {
    "duration": 9,
    "start_time": "2023-01-13T18:38:58.128Z"
   },
   {
    "duration": 23,
    "start_time": "2023-01-13T18:38:58.139Z"
   },
   {
    "duration": 4,
    "start_time": "2023-01-13T18:38:58.164Z"
   },
   {
    "duration": 10,
    "start_time": "2023-01-13T18:38:58.177Z"
   },
   {
    "duration": 146,
    "start_time": "2023-01-13T18:38:58.188Z"
   },
   {
    "duration": 6,
    "start_time": "2023-01-13T18:38:58.335Z"
   },
   {
    "duration": 23,
    "start_time": "2023-01-13T18:38:58.343Z"
   },
   {
    "duration": 3,
    "start_time": "2023-01-13T18:38:58.377Z"
   },
   {
    "duration": 170,
    "start_time": "2023-01-13T18:38:58.382Z"
   },
   {
    "duration": 7,
    "start_time": "2023-01-13T18:38:58.555Z"
   },
   {
    "duration": 34,
    "start_time": "2023-01-13T18:38:58.564Z"
   },
   {
    "duration": 390,
    "start_time": "2023-01-13T18:38:58.600Z"
   },
   {
    "duration": 19,
    "start_time": "2023-01-13T18:38:58.992Z"
   },
   {
    "duration": 173,
    "start_time": "2023-01-13T18:38:59.013Z"
   },
   {
    "duration": 6,
    "start_time": "2023-01-13T18:38:59.188Z"
   },
   {
    "duration": 9,
    "start_time": "2023-01-13T18:38:59.195Z"
   },
   {
    "duration": 15,
    "start_time": "2023-01-13T18:38:59.206Z"
   },
   {
    "duration": 23,
    "start_time": "2023-01-13T18:38:59.223Z"
   },
   {
    "duration": 31,
    "start_time": "2023-01-13T18:38:59.247Z"
   },
   {
    "duration": 277,
    "start_time": "2023-01-13T18:38:59.280Z"
   },
   {
    "duration": 317,
    "start_time": "2023-01-13T18:38:59.559Z"
   },
   {
    "duration": 294,
    "start_time": "2023-01-13T18:38:59.878Z"
   },
   {
    "duration": 315,
    "start_time": "2023-01-13T18:39:48.327Z"
   },
   {
    "duration": 345,
    "start_time": "2023-01-13T18:39:58.690Z"
   },
   {
    "duration": 301,
    "start_time": "2023-01-13T18:40:05.387Z"
   },
   {
    "duration": 338,
    "start_time": "2023-01-13T18:41:35.799Z"
   },
   {
    "duration": 3,
    "start_time": "2023-01-13T18:42:29.417Z"
   },
   {
    "duration": 93,
    "start_time": "2023-01-13T18:42:29.423Z"
   },
   {
    "duration": 16,
    "start_time": "2023-01-13T18:42:29.518Z"
   },
   {
    "duration": 12,
    "start_time": "2023-01-13T18:42:29.537Z"
   },
   {
    "duration": 42,
    "start_time": "2023-01-13T18:42:29.551Z"
   },
   {
    "duration": 8,
    "start_time": "2023-01-13T18:42:29.595Z"
   },
   {
    "duration": 8,
    "start_time": "2023-01-13T18:42:29.604Z"
   },
   {
    "duration": 10,
    "start_time": "2023-01-13T18:42:29.614Z"
   },
   {
    "duration": 7,
    "start_time": "2023-01-13T18:42:29.627Z"
   },
   {
    "duration": 12,
    "start_time": "2023-01-13T18:42:29.636Z"
   },
   {
    "duration": 7,
    "start_time": "2023-01-13T18:42:29.651Z"
   },
   {
    "duration": 31,
    "start_time": "2023-01-13T18:42:29.659Z"
   },
   {
    "duration": 4,
    "start_time": "2023-01-13T18:42:29.691Z"
   },
   {
    "duration": 21,
    "start_time": "2023-01-13T18:42:29.697Z"
   },
   {
    "duration": 18,
    "start_time": "2023-01-13T18:42:29.719Z"
   },
   {
    "duration": 10,
    "start_time": "2023-01-13T18:42:29.739Z"
   },
   {
    "duration": 30,
    "start_time": "2023-01-13T18:42:29.751Z"
   },
   {
    "duration": 9,
    "start_time": "2023-01-13T18:42:29.783Z"
   },
   {
    "duration": 6,
    "start_time": "2023-01-13T18:42:29.794Z"
   },
   {
    "duration": 7,
    "start_time": "2023-01-13T18:42:29.802Z"
   },
   {
    "duration": 13,
    "start_time": "2023-01-13T18:42:29.810Z"
   },
   {
    "duration": 12,
    "start_time": "2023-01-13T18:42:29.825Z"
   },
   {
    "duration": 10,
    "start_time": "2023-01-13T18:42:29.839Z"
   },
   {
    "duration": 25,
    "start_time": "2023-01-13T18:42:29.853Z"
   },
   {
    "duration": 11,
    "start_time": "2023-01-13T18:42:29.880Z"
   },
   {
    "duration": 27,
    "start_time": "2023-01-13T18:42:29.892Z"
   },
   {
    "duration": 26,
    "start_time": "2023-01-13T18:42:29.922Z"
   },
   {
    "duration": 28,
    "start_time": "2023-01-13T18:42:29.950Z"
   },
   {
    "duration": 44,
    "start_time": "2023-01-13T18:42:29.980Z"
   },
   {
    "duration": 21,
    "start_time": "2023-01-13T18:42:30.026Z"
   },
   {
    "duration": 6,
    "start_time": "2023-01-13T18:42:30.049Z"
   },
   {
    "duration": 26,
    "start_time": "2023-01-13T18:42:30.058Z"
   },
   {
    "duration": 6,
    "start_time": "2023-01-13T18:42:30.087Z"
   },
   {
    "duration": 22,
    "start_time": "2023-01-13T18:42:30.096Z"
   },
   {
    "duration": 10,
    "start_time": "2023-01-13T18:42:30.120Z"
   },
   {
    "duration": 20,
    "start_time": "2023-01-13T18:42:30.132Z"
   },
   {
    "duration": 6,
    "start_time": "2023-01-13T18:42:30.153Z"
   },
   {
    "duration": 38,
    "start_time": "2023-01-13T18:42:30.161Z"
   },
   {
    "duration": 8,
    "start_time": "2023-01-13T18:42:30.202Z"
   },
   {
    "duration": 17,
    "start_time": "2023-01-13T18:42:30.212Z"
   },
   {
    "duration": 13,
    "start_time": "2023-01-13T18:42:30.231Z"
   },
   {
    "duration": 20,
    "start_time": "2023-01-13T18:42:30.246Z"
   },
   {
    "duration": 17,
    "start_time": "2023-01-13T18:42:30.269Z"
   },
   {
    "duration": 19,
    "start_time": "2023-01-13T18:42:30.288Z"
   },
   {
    "duration": 15,
    "start_time": "2023-01-13T18:42:30.309Z"
   },
   {
    "duration": 14,
    "start_time": "2023-01-13T18:42:30.326Z"
   },
   {
    "duration": 18,
    "start_time": "2023-01-13T18:42:30.342Z"
   },
   {
    "duration": 14,
    "start_time": "2023-01-13T18:42:30.362Z"
   },
   {
    "duration": 19,
    "start_time": "2023-01-13T18:42:30.378Z"
   },
   {
    "duration": 36,
    "start_time": "2023-01-13T18:42:30.399Z"
   },
   {
    "duration": 26,
    "start_time": "2023-01-13T18:42:30.436Z"
   },
   {
    "duration": 32,
    "start_time": "2023-01-13T18:42:30.464Z"
   },
   {
    "duration": 19,
    "start_time": "2023-01-13T18:42:30.498Z"
   },
   {
    "duration": 46,
    "start_time": "2023-01-13T18:42:30.519Z"
   },
   {
    "duration": 39,
    "start_time": "2023-01-13T18:42:30.567Z"
   },
   {
    "duration": 16,
    "start_time": "2023-01-13T18:42:30.608Z"
   },
   {
    "duration": 38,
    "start_time": "2023-01-13T18:42:30.626Z"
   },
   {
    "duration": 14,
    "start_time": "2023-01-13T18:42:30.665Z"
   },
   {
    "duration": 20,
    "start_time": "2023-01-13T18:42:30.681Z"
   },
   {
    "duration": 18,
    "start_time": "2023-01-13T18:42:30.703Z"
   },
   {
    "duration": 31,
    "start_time": "2023-01-13T18:42:30.723Z"
   },
   {
    "duration": 13,
    "start_time": "2023-01-13T18:42:30.756Z"
   },
   {
    "duration": 37,
    "start_time": "2023-01-13T18:42:30.771Z"
   },
   {
    "duration": 29,
    "start_time": "2023-01-13T18:42:30.810Z"
   },
   {
    "duration": 36,
    "start_time": "2023-01-13T18:42:30.840Z"
   },
   {
    "duration": 164,
    "start_time": "2023-01-13T18:42:30.878Z"
   },
   {
    "duration": 5,
    "start_time": "2023-01-13T18:42:31.044Z"
   },
   {
    "duration": 94,
    "start_time": "2023-01-13T18:42:31.050Z"
   },
   {
    "duration": 7,
    "start_time": "2023-01-13T18:42:31.149Z"
   },
   {
    "duration": 268,
    "start_time": "2023-01-13T18:42:31.158Z"
   },
   {
    "duration": 5,
    "start_time": "2023-01-13T18:42:31.427Z"
   },
   {
    "duration": 28,
    "start_time": "2023-01-13T18:42:31.434Z"
   },
   {
    "duration": 289,
    "start_time": "2023-01-13T18:42:31.464Z"
   },
   {
    "duration": 26,
    "start_time": "2023-01-13T18:42:31.754Z"
   },
   {
    "duration": 171,
    "start_time": "2023-01-13T18:42:31.782Z"
   },
   {
    "duration": 5,
    "start_time": "2023-01-13T18:42:31.955Z"
   },
   {
    "duration": 9,
    "start_time": "2023-01-13T18:42:31.962Z"
   },
   {
    "duration": 11,
    "start_time": "2023-01-13T18:42:31.977Z"
   },
   {
    "duration": 13,
    "start_time": "2023-01-13T18:42:31.989Z"
   },
   {
    "duration": 27,
    "start_time": "2023-01-13T18:42:32.004Z"
   },
   {
    "duration": 246,
    "start_time": "2023-01-13T18:42:32.032Z"
   },
   {
    "duration": 308,
    "start_time": "2023-01-13T18:42:32.280Z"
   },
   {
    "duration": 299,
    "start_time": "2023-01-13T18:42:32.589Z"
   },
   {
    "duration": 7,
    "start_time": "2023-01-13T18:43:08.461Z"
   },
   {
    "duration": 4,
    "start_time": "2023-01-13T18:43:13.696Z"
   },
   {
    "duration": 3,
    "start_time": "2023-01-13T18:43:19.387Z"
   },
   {
    "duration": 319,
    "start_time": "2023-01-13T18:43:26.442Z"
   },
   {
    "duration": 327,
    "start_time": "2023-01-13T18:43:53.105Z"
   },
   {
    "duration": 27,
    "start_time": "2023-01-13T18:44:13.043Z"
   },
   {
    "duration": 286,
    "start_time": "2023-01-13T18:44:19.743Z"
   },
   {
    "duration": 279,
    "start_time": "2023-01-13T18:45:45.168Z"
   },
   {
    "duration": 419,
    "start_time": "2023-01-13T18:45:55.161Z"
   },
   {
    "duration": 2,
    "start_time": "2023-01-13T18:45:57.415Z"
   },
   {
    "duration": 103,
    "start_time": "2023-01-13T18:45:57.419Z"
   },
   {
    "duration": 17,
    "start_time": "2023-01-13T18:45:57.525Z"
   },
   {
    "duration": 37,
    "start_time": "2023-01-13T18:45:57.544Z"
   },
   {
    "duration": 44,
    "start_time": "2023-01-13T18:45:57.583Z"
   },
   {
    "duration": 7,
    "start_time": "2023-01-13T18:45:57.629Z"
   },
   {
    "duration": 10,
    "start_time": "2023-01-13T18:45:57.637Z"
   },
   {
    "duration": 11,
    "start_time": "2023-01-13T18:45:57.649Z"
   },
   {
    "duration": 7,
    "start_time": "2023-01-13T18:45:57.662Z"
   },
   {
    "duration": 12,
    "start_time": "2023-01-13T18:45:57.671Z"
   },
   {
    "duration": 8,
    "start_time": "2023-01-13T18:45:57.686Z"
   },
   {
    "duration": 14,
    "start_time": "2023-01-13T18:45:57.696Z"
   },
   {
    "duration": 7,
    "start_time": "2023-01-13T18:45:57.712Z"
   },
   {
    "duration": 19,
    "start_time": "2023-01-13T18:45:57.721Z"
   },
   {
    "duration": 28,
    "start_time": "2023-01-13T18:45:57.742Z"
   },
   {
    "duration": 5,
    "start_time": "2023-01-13T18:45:57.777Z"
   },
   {
    "duration": 8,
    "start_time": "2023-01-13T18:45:57.784Z"
   },
   {
    "duration": 8,
    "start_time": "2023-01-13T18:45:57.794Z"
   },
   {
    "duration": 7,
    "start_time": "2023-01-13T18:45:57.803Z"
   },
   {
    "duration": 9,
    "start_time": "2023-01-13T18:45:57.812Z"
   },
   {
    "duration": 9,
    "start_time": "2023-01-13T18:45:57.822Z"
   },
   {
    "duration": 10,
    "start_time": "2023-01-13T18:45:57.833Z"
   },
   {
    "duration": 17,
    "start_time": "2023-01-13T18:45:57.844Z"
   },
   {
    "duration": 17,
    "start_time": "2023-01-13T18:45:57.862Z"
   },
   {
    "duration": 10,
    "start_time": "2023-01-13T18:45:57.880Z"
   },
   {
    "duration": 21,
    "start_time": "2023-01-13T18:45:57.892Z"
   },
   {
    "duration": 22,
    "start_time": "2023-01-13T18:45:57.915Z"
   },
   {
    "duration": 3,
    "start_time": "2023-01-13T18:45:57.939Z"
   },
   {
    "duration": 50,
    "start_time": "2023-01-13T18:45:57.946Z"
   },
   {
    "duration": 19,
    "start_time": "2023-01-13T18:45:57.997Z"
   },
   {
    "duration": 5,
    "start_time": "2023-01-13T18:45:58.018Z"
   },
   {
    "duration": 19,
    "start_time": "2023-01-13T18:45:58.024Z"
   },
   {
    "duration": 8,
    "start_time": "2023-01-13T18:45:58.045Z"
   },
   {
    "duration": 24,
    "start_time": "2023-01-13T18:45:58.055Z"
   },
   {
    "duration": 6,
    "start_time": "2023-01-13T18:45:58.080Z"
   },
   {
    "duration": 19,
    "start_time": "2023-01-13T18:45:58.088Z"
   },
   {
    "duration": 6,
    "start_time": "2023-01-13T18:45:58.108Z"
   },
   {
    "duration": 16,
    "start_time": "2023-01-13T18:45:58.115Z"
   },
   {
    "duration": 4,
    "start_time": "2023-01-13T18:45:58.132Z"
   },
   {
    "duration": 10,
    "start_time": "2023-01-13T18:45:58.138Z"
   },
   {
    "duration": 30,
    "start_time": "2023-01-13T18:45:58.150Z"
   },
   {
    "duration": 16,
    "start_time": "2023-01-13T18:45:58.181Z"
   },
   {
    "duration": 10,
    "start_time": "2023-01-13T18:45:58.198Z"
   },
   {
    "duration": 8,
    "start_time": "2023-01-13T18:45:58.209Z"
   },
   {
    "duration": 7,
    "start_time": "2023-01-13T18:45:58.219Z"
   },
   {
    "duration": 9,
    "start_time": "2023-01-13T18:45:58.228Z"
   },
   {
    "duration": 13,
    "start_time": "2023-01-13T18:45:58.238Z"
   },
   {
    "duration": 27,
    "start_time": "2023-01-13T18:45:58.252Z"
   },
   {
    "duration": 7,
    "start_time": "2023-01-13T18:45:58.280Z"
   },
   {
    "duration": 11,
    "start_time": "2023-01-13T18:45:58.288Z"
   },
   {
    "duration": 13,
    "start_time": "2023-01-13T18:45:58.300Z"
   },
   {
    "duration": 10,
    "start_time": "2023-01-13T18:45:58.315Z"
   },
   {
    "duration": 7,
    "start_time": "2023-01-13T18:45:58.326Z"
   },
   {
    "duration": 9,
    "start_time": "2023-01-13T18:45:58.334Z"
   },
   {
    "duration": 8,
    "start_time": "2023-01-13T18:45:58.345Z"
   },
   {
    "duration": 9,
    "start_time": "2023-01-13T18:45:58.355Z"
   },
   {
    "duration": 29,
    "start_time": "2023-01-13T18:45:58.366Z"
   },
   {
    "duration": 6,
    "start_time": "2023-01-13T18:45:58.396Z"
   },
   {
    "duration": 16,
    "start_time": "2023-01-13T18:45:58.403Z"
   },
   {
    "duration": 20,
    "start_time": "2023-01-13T18:45:58.421Z"
   },
   {
    "duration": 7,
    "start_time": "2023-01-13T18:45:58.443Z"
   },
   {
    "duration": 26,
    "start_time": "2023-01-13T18:45:58.451Z"
   },
   {
    "duration": 16,
    "start_time": "2023-01-13T18:45:58.479Z"
   },
   {
    "duration": 4,
    "start_time": "2023-01-13T18:45:58.497Z"
   },
   {
    "duration": 16,
    "start_time": "2023-01-13T18:45:58.502Z"
   },
   {
    "duration": 139,
    "start_time": "2023-01-13T18:45:58.519Z"
   },
   {
    "duration": 5,
    "start_time": "2023-01-13T18:45:58.660Z"
   },
   {
    "duration": 24,
    "start_time": "2023-01-13T18:45:58.666Z"
   },
   {
    "duration": 3,
    "start_time": "2023-01-13T18:45:58.692Z"
   },
   {
    "duration": 181,
    "start_time": "2023-01-13T18:45:58.697Z"
   },
   {
    "duration": 6,
    "start_time": "2023-01-13T18:45:58.880Z"
   },
   {
    "duration": 50,
    "start_time": "2023-01-13T18:45:58.888Z"
   },
   {
    "duration": 312,
    "start_time": "2023-01-13T18:45:58.940Z"
   },
   {
    "duration": 31,
    "start_time": "2023-01-13T18:45:59.253Z"
   },
   {
    "duration": 177,
    "start_time": "2023-01-13T18:45:59.286Z"
   },
   {
    "duration": 14,
    "start_time": "2023-01-13T18:45:59.465Z"
   },
   {
    "duration": 5,
    "start_time": "2023-01-13T18:45:59.481Z"
   },
   {
    "duration": 14,
    "start_time": "2023-01-13T18:45:59.488Z"
   },
   {
    "duration": 12,
    "start_time": "2023-01-13T18:45:59.504Z"
   },
   {
    "duration": 31,
    "start_time": "2023-01-13T18:45:59.518Z"
   },
   {
    "duration": 255,
    "start_time": "2023-01-13T18:45:59.551Z"
   },
   {
    "duration": 313,
    "start_time": "2023-01-13T18:45:59.807Z"
   },
   {
    "duration": 318,
    "start_time": "2023-01-13T18:46:00.126Z"
   },
   {
    "duration": 35,
    "start_time": "2023-01-13T18:46:00.446Z"
   },
   {
    "duration": 312,
    "start_time": "2023-01-13T18:46:00.483Z"
   },
   {
    "duration": 32,
    "start_time": "2023-01-13T19:00:28.587Z"
   },
   {
    "duration": 11,
    "start_time": "2023-01-13T19:03:29.831Z"
   },
   {
    "duration": 3,
    "start_time": "2023-01-13T19:04:28.080Z"
   },
   {
    "duration": 101,
    "start_time": "2023-01-13T19:04:28.085Z"
   },
   {
    "duration": 18,
    "start_time": "2023-01-13T19:04:28.188Z"
   },
   {
    "duration": 12,
    "start_time": "2023-01-13T19:04:28.207Z"
   },
   {
    "duration": 42,
    "start_time": "2023-01-13T19:04:28.222Z"
   },
   {
    "duration": 15,
    "start_time": "2023-01-13T19:04:28.265Z"
   },
   {
    "duration": 7,
    "start_time": "2023-01-13T19:04:28.282Z"
   },
   {
    "duration": 14,
    "start_time": "2023-01-13T19:04:28.292Z"
   },
   {
    "duration": 10,
    "start_time": "2023-01-13T19:04:28.308Z"
   },
   {
    "duration": 12,
    "start_time": "2023-01-13T19:04:28.320Z"
   },
   {
    "duration": 20,
    "start_time": "2023-01-13T19:04:28.335Z"
   },
   {
    "duration": 19,
    "start_time": "2023-01-13T19:04:28.379Z"
   },
   {
    "duration": 6,
    "start_time": "2023-01-13T19:04:28.401Z"
   },
   {
    "duration": 23,
    "start_time": "2023-01-13T19:04:28.409Z"
   },
   {
    "duration": 48,
    "start_time": "2023-01-13T19:04:28.434Z"
   },
   {
    "duration": 18,
    "start_time": "2023-01-13T19:04:28.484Z"
   },
   {
    "duration": 13,
    "start_time": "2023-01-13T19:04:28.504Z"
   },
   {
    "duration": 10,
    "start_time": "2023-01-13T19:04:28.519Z"
   },
   {
    "duration": 13,
    "start_time": "2023-01-13T19:04:28.532Z"
   },
   {
    "duration": 16,
    "start_time": "2023-01-13T19:04:28.547Z"
   },
   {
    "duration": 18,
    "start_time": "2023-01-13T19:04:28.565Z"
   },
   {
    "duration": 13,
    "start_time": "2023-01-13T19:04:28.585Z"
   },
   {
    "duration": 13,
    "start_time": "2023-01-13T19:04:28.600Z"
   },
   {
    "duration": 12,
    "start_time": "2023-01-13T19:04:28.615Z"
   },
   {
    "duration": 19,
    "start_time": "2023-01-13T19:04:28.628Z"
   },
   {
    "duration": 32,
    "start_time": "2023-01-13T19:04:28.648Z"
   },
   {
    "duration": 24,
    "start_time": "2023-01-13T19:04:28.682Z"
   },
   {
    "duration": 4,
    "start_time": "2023-01-13T19:04:28.708Z"
   },
   {
    "duration": 33,
    "start_time": "2023-01-13T19:04:28.716Z"
   },
   {
    "duration": 41,
    "start_time": "2023-01-13T19:04:28.751Z"
   },
   {
    "duration": 6,
    "start_time": "2023-01-13T19:04:28.793Z"
   },
   {
    "duration": 12,
    "start_time": "2023-01-13T19:04:28.800Z"
   },
   {
    "duration": 10,
    "start_time": "2023-01-13T19:04:28.813Z"
   },
   {
    "duration": 12,
    "start_time": "2023-01-13T19:04:28.825Z"
   },
   {
    "duration": 10,
    "start_time": "2023-01-13T19:04:28.839Z"
   },
   {
    "duration": 34,
    "start_time": "2023-01-13T19:04:28.850Z"
   },
   {
    "duration": 6,
    "start_time": "2023-01-13T19:04:28.886Z"
   },
   {
    "duration": 20,
    "start_time": "2023-01-13T19:04:28.894Z"
   },
   {
    "duration": 5,
    "start_time": "2023-01-13T19:04:28.916Z"
   },
   {
    "duration": 14,
    "start_time": "2023-01-13T19:04:28.923Z"
   },
   {
    "duration": 11,
    "start_time": "2023-01-13T19:04:28.939Z"
   },
   {
    "duration": 29,
    "start_time": "2023-01-13T19:04:28.951Z"
   },
   {
    "duration": 12,
    "start_time": "2023-01-13T19:04:28.981Z"
   },
   {
    "duration": 22,
    "start_time": "2023-01-13T19:04:28.994Z"
   },
   {
    "duration": 14,
    "start_time": "2023-01-13T19:04:29.017Z"
   },
   {
    "duration": 10,
    "start_time": "2023-01-13T19:04:29.033Z"
   },
   {
    "duration": 15,
    "start_time": "2023-01-13T19:04:29.044Z"
   },
   {
    "duration": 10,
    "start_time": "2023-01-13T19:04:29.061Z"
   },
   {
    "duration": 15,
    "start_time": "2023-01-13T19:04:29.072Z"
   },
   {
    "duration": 9,
    "start_time": "2023-01-13T19:04:29.089Z"
   },
   {
    "duration": 19,
    "start_time": "2023-01-13T19:04:29.100Z"
   },
   {
    "duration": 6,
    "start_time": "2023-01-13T19:04:29.121Z"
   },
   {
    "duration": 8,
    "start_time": "2023-01-13T19:04:29.129Z"
   },
   {
    "duration": 7,
    "start_time": "2023-01-13T19:04:29.139Z"
   },
   {
    "duration": 11,
    "start_time": "2023-01-13T19:04:29.148Z"
   },
   {
    "duration": 37,
    "start_time": "2023-01-13T19:04:29.161Z"
   },
   {
    "duration": 14,
    "start_time": "2023-01-13T19:04:29.200Z"
   },
   {
    "duration": 0,
    "start_time": "2023-01-13T19:04:29.216Z"
   },
   {
    "duration": 0,
    "start_time": "2023-01-13T19:04:29.217Z"
   },
   {
    "duration": 0,
    "start_time": "2023-01-13T19:04:29.219Z"
   },
   {
    "duration": 0,
    "start_time": "2023-01-13T19:04:29.220Z"
   },
   {
    "duration": 0,
    "start_time": "2023-01-13T19:04:29.221Z"
   },
   {
    "duration": 0,
    "start_time": "2023-01-13T19:04:29.222Z"
   },
   {
    "duration": 0,
    "start_time": "2023-01-13T19:04:29.223Z"
   },
   {
    "duration": 0,
    "start_time": "2023-01-13T19:04:29.224Z"
   },
   {
    "duration": 0,
    "start_time": "2023-01-13T19:04:29.225Z"
   },
   {
    "duration": 0,
    "start_time": "2023-01-13T19:04:29.226Z"
   },
   {
    "duration": 1,
    "start_time": "2023-01-13T19:04:29.227Z"
   },
   {
    "duration": 0,
    "start_time": "2023-01-13T19:04:29.228Z"
   },
   {
    "duration": 0,
    "start_time": "2023-01-13T19:04:29.229Z"
   },
   {
    "duration": 0,
    "start_time": "2023-01-13T19:04:29.230Z"
   },
   {
    "duration": 1,
    "start_time": "2023-01-13T19:04:29.231Z"
   },
   {
    "duration": 0,
    "start_time": "2023-01-13T19:04:29.233Z"
   },
   {
    "duration": 0,
    "start_time": "2023-01-13T19:04:29.234Z"
   },
   {
    "duration": 0,
    "start_time": "2023-01-13T19:04:29.235Z"
   },
   {
    "duration": 0,
    "start_time": "2023-01-13T19:04:29.236Z"
   },
   {
    "duration": 0,
    "start_time": "2023-01-13T19:04:29.278Z"
   },
   {
    "duration": 0,
    "start_time": "2023-01-13T19:04:29.279Z"
   },
   {
    "duration": 0,
    "start_time": "2023-01-13T19:04:29.281Z"
   },
   {
    "duration": 0,
    "start_time": "2023-01-13T19:04:29.282Z"
   },
   {
    "duration": 0,
    "start_time": "2023-01-13T19:04:29.283Z"
   },
   {
    "duration": 0,
    "start_time": "2023-01-13T19:04:29.284Z"
   },
   {
    "duration": 0,
    "start_time": "2023-01-13T19:04:29.285Z"
   },
   {
    "duration": 0,
    "start_time": "2023-01-13T19:04:29.286Z"
   },
   {
    "duration": 0,
    "start_time": "2023-01-13T19:04:29.287Z"
   },
   {
    "duration": 0,
    "start_time": "2023-01-13T19:04:29.288Z"
   },
   {
    "duration": 0,
    "start_time": "2023-01-13T19:04:29.288Z"
   },
   {
    "duration": 4,
    "start_time": "2023-01-13T19:04:43.343Z"
   },
   {
    "duration": 19,
    "start_time": "2023-01-13T19:04:43.349Z"
   },
   {
    "duration": 5,
    "start_time": "2023-01-13T19:04:43.370Z"
   },
   {
    "duration": 16,
    "start_time": "2023-01-13T19:04:43.377Z"
   },
   {
    "duration": 18,
    "start_time": "2023-01-13T19:04:43.395Z"
   },
   {
    "duration": 5,
    "start_time": "2023-01-13T19:04:43.415Z"
   },
   {
    "duration": 6,
    "start_time": "2023-01-13T19:04:43.421Z"
   },
   {
    "duration": 19,
    "start_time": "2023-01-13T19:04:43.428Z"
   },
   {
    "duration": 4,
    "start_time": "2023-01-13T19:04:43.479Z"
   },
   {
    "duration": 12,
    "start_time": "2023-01-13T19:04:43.484Z"
   },
   {
    "duration": 128,
    "start_time": "2023-01-13T19:04:43.498Z"
   },
   {
    "duration": 4,
    "start_time": "2023-01-13T19:04:43.628Z"
   },
   {
    "duration": 22,
    "start_time": "2023-01-13T19:04:43.634Z"
   },
   {
    "duration": 2,
    "start_time": "2023-01-13T19:04:43.657Z"
   },
   {
    "duration": 279,
    "start_time": "2023-01-13T19:04:43.661Z"
   },
   {
    "duration": 6,
    "start_time": "2023-01-13T19:04:43.942Z"
   },
   {
    "duration": 47,
    "start_time": "2023-01-13T19:04:43.951Z"
   },
   {
    "duration": 323,
    "start_time": "2023-01-13T19:04:44.001Z"
   },
   {
    "duration": 19,
    "start_time": "2023-01-13T19:04:44.326Z"
   },
   {
    "duration": 162,
    "start_time": "2023-01-13T19:04:44.347Z"
   },
   {
    "duration": 4,
    "start_time": "2023-01-13T19:04:44.511Z"
   },
   {
    "duration": 22,
    "start_time": "2023-01-13T19:04:44.517Z"
   },
   {
    "duration": 8,
    "start_time": "2023-01-13T19:04:44.540Z"
   },
   {
    "duration": 7,
    "start_time": "2023-01-13T19:04:44.551Z"
   },
   {
    "duration": 27,
    "start_time": "2023-01-13T19:04:44.559Z"
   },
   {
    "duration": 251,
    "start_time": "2023-01-13T19:04:44.587Z"
   },
   {
    "duration": 308,
    "start_time": "2023-01-13T19:04:44.840Z"
   },
   {
    "duration": 303,
    "start_time": "2023-01-13T19:04:45.150Z"
   },
   {
    "duration": 31,
    "start_time": "2023-01-13T19:04:45.454Z"
   },
   {
    "duration": 299,
    "start_time": "2023-01-13T19:04:45.486Z"
   },
   {
    "duration": 32,
    "start_time": "2023-01-13T19:05:38.237Z"
   },
   {
    "duration": 3,
    "start_time": "2023-01-13T19:06:13.110Z"
   },
   {
    "duration": 93,
    "start_time": "2023-01-13T19:06:13.115Z"
   },
   {
    "duration": 14,
    "start_time": "2023-01-13T19:06:13.210Z"
   },
   {
    "duration": 9,
    "start_time": "2023-01-13T19:06:13.226Z"
   },
   {
    "duration": 43,
    "start_time": "2023-01-13T19:06:13.236Z"
   },
   {
    "duration": 7,
    "start_time": "2023-01-13T19:06:13.280Z"
   },
   {
    "duration": 12,
    "start_time": "2023-01-13T19:06:13.288Z"
   },
   {
    "duration": 10,
    "start_time": "2023-01-13T19:06:13.301Z"
   },
   {
    "duration": 8,
    "start_time": "2023-01-13T19:06:13.312Z"
   },
   {
    "duration": 7,
    "start_time": "2023-01-13T19:06:13.322Z"
   },
   {
    "duration": 5,
    "start_time": "2023-01-13T19:06:13.332Z"
   },
   {
    "duration": 47,
    "start_time": "2023-01-13T19:06:13.339Z"
   },
   {
    "duration": 4,
    "start_time": "2023-01-13T19:06:13.387Z"
   },
   {
    "duration": 26,
    "start_time": "2023-01-13T19:06:13.392Z"
   },
   {
    "duration": 17,
    "start_time": "2023-01-13T19:06:13.419Z"
   },
   {
    "duration": 11,
    "start_time": "2023-01-13T19:06:13.438Z"
   },
   {
    "duration": 27,
    "start_time": "2023-01-13T19:06:13.451Z"
   },
   {
    "duration": 6,
    "start_time": "2023-01-13T19:06:13.479Z"
   },
   {
    "duration": 11,
    "start_time": "2023-01-13T19:06:13.487Z"
   },
   {
    "duration": 6,
    "start_time": "2023-01-13T19:06:13.499Z"
   },
   {
    "duration": 10,
    "start_time": "2023-01-13T19:06:13.507Z"
   },
   {
    "duration": 11,
    "start_time": "2023-01-13T19:06:13.519Z"
   },
   {
    "duration": 10,
    "start_time": "2023-01-13T19:06:13.531Z"
   },
   {
    "duration": 5,
    "start_time": "2023-01-13T19:06:13.543Z"
   },
   {
    "duration": 30,
    "start_time": "2023-01-13T19:06:13.549Z"
   },
   {
    "duration": 21,
    "start_time": "2023-01-13T19:06:13.581Z"
   },
   {
    "duration": 42,
    "start_time": "2023-01-13T19:06:13.604Z"
   },
   {
    "duration": 4,
    "start_time": "2023-01-13T19:06:13.648Z"
   },
   {
    "duration": 29,
    "start_time": "2023-01-13T19:06:13.658Z"
   },
   {
    "duration": 19,
    "start_time": "2023-01-13T19:06:13.689Z"
   },
   {
    "duration": 5,
    "start_time": "2023-01-13T19:06:13.709Z"
   },
   {
    "duration": 19,
    "start_time": "2023-01-13T19:06:13.715Z"
   },
   {
    "duration": 10,
    "start_time": "2023-01-13T19:06:13.736Z"
   },
   {
    "duration": 34,
    "start_time": "2023-01-13T19:06:13.747Z"
   },
   {
    "duration": 7,
    "start_time": "2023-01-13T19:06:13.783Z"
   },
   {
    "duration": 25,
    "start_time": "2023-01-13T19:06:13.792Z"
   },
   {
    "duration": 5,
    "start_time": "2023-01-13T19:06:13.819Z"
   },
   {
    "duration": 14,
    "start_time": "2023-01-13T19:06:13.826Z"
   },
   {
    "duration": 4,
    "start_time": "2023-01-13T19:06:13.842Z"
   },
   {
    "duration": 33,
    "start_time": "2023-01-13T19:06:13.848Z"
   },
   {
    "duration": 6,
    "start_time": "2023-01-13T19:06:13.883Z"
   },
   {
    "duration": 22,
    "start_time": "2023-01-13T19:06:13.891Z"
   },
   {
    "duration": 12,
    "start_time": "2023-01-13T19:06:13.915Z"
   },
   {
    "duration": 10,
    "start_time": "2023-01-13T19:06:13.929Z"
   },
   {
    "duration": 37,
    "start_time": "2023-01-13T19:06:13.941Z"
   },
   {
    "duration": 13,
    "start_time": "2023-01-13T19:06:13.980Z"
   },
   {
    "duration": 30,
    "start_time": "2023-01-13T19:06:13.995Z"
   },
   {
    "duration": 6,
    "start_time": "2023-01-13T19:06:14.026Z"
   },
   {
    "duration": 16,
    "start_time": "2023-01-13T19:06:14.034Z"
   },
   {
    "duration": 21,
    "start_time": "2023-01-13T19:06:14.052Z"
   },
   {
    "duration": 14,
    "start_time": "2023-01-13T19:06:14.080Z"
   },
   {
    "duration": 16,
    "start_time": "2023-01-13T19:06:14.097Z"
   },
   {
    "duration": 13,
    "start_time": "2023-01-13T19:06:14.115Z"
   },
   {
    "duration": 25,
    "start_time": "2023-01-13T19:06:14.130Z"
   },
   {
    "duration": 8,
    "start_time": "2023-01-13T19:06:14.157Z"
   },
   {
    "duration": 28,
    "start_time": "2023-01-13T19:06:14.166Z"
   },
   {
    "duration": 27,
    "start_time": "2023-01-13T19:06:14.195Z"
   },
   {
    "duration": 4,
    "start_time": "2023-01-13T19:06:14.224Z"
   },
   {
    "duration": 21,
    "start_time": "2023-01-13T19:06:14.230Z"
   },
   {
    "duration": 6,
    "start_time": "2023-01-13T19:06:14.253Z"
   },
   {
    "duration": 25,
    "start_time": "2023-01-13T19:06:14.260Z"
   },
   {
    "duration": 17,
    "start_time": "2023-01-13T19:06:14.287Z"
   },
   {
    "duration": 8,
    "start_time": "2023-01-13T19:06:14.305Z"
   },
   {
    "duration": 8,
    "start_time": "2023-01-13T19:06:14.314Z"
   },
   {
    "duration": 18,
    "start_time": "2023-01-13T19:06:14.323Z"
   },
   {
    "duration": 3,
    "start_time": "2023-01-13T19:06:14.343Z"
   },
   {
    "duration": 39,
    "start_time": "2023-01-13T19:06:14.348Z"
   },
   {
    "duration": 134,
    "start_time": "2023-01-13T19:06:14.388Z"
   },
   {
    "duration": 5,
    "start_time": "2023-01-13T19:06:14.523Z"
   },
   {
    "duration": 27,
    "start_time": "2023-01-13T19:06:14.530Z"
   },
   {
    "duration": 4,
    "start_time": "2023-01-13T19:06:14.559Z"
   },
   {
    "duration": 173,
    "start_time": "2023-01-13T19:06:14.565Z"
   },
   {
    "duration": 7,
    "start_time": "2023-01-13T19:06:14.739Z"
   },
   {
    "duration": 35,
    "start_time": "2023-01-13T19:06:14.748Z"
   },
   {
    "duration": 300,
    "start_time": "2023-01-13T19:06:14.785Z"
   },
   {
    "duration": 18,
    "start_time": "2023-01-13T19:06:15.087Z"
   },
   {
    "duration": 265,
    "start_time": "2023-01-13T19:06:15.107Z"
   },
   {
    "duration": 5,
    "start_time": "2023-01-13T19:06:15.378Z"
   },
   {
    "duration": 11,
    "start_time": "2023-01-13T19:06:15.385Z"
   },
   {
    "duration": 8,
    "start_time": "2023-01-13T19:06:15.398Z"
   },
   {
    "duration": 9,
    "start_time": "2023-01-13T19:06:15.408Z"
   },
   {
    "duration": 29,
    "start_time": "2023-01-13T19:06:15.419Z"
   },
   {
    "duration": 275,
    "start_time": "2023-01-13T19:06:15.453Z"
   },
   {
    "duration": 338,
    "start_time": "2023-01-13T19:06:15.730Z"
   },
   {
    "duration": 316,
    "start_time": "2023-01-13T19:06:16.070Z"
   },
   {
    "duration": 39,
    "start_time": "2023-01-13T19:06:16.388Z"
   },
   {
    "duration": 301,
    "start_time": "2023-01-13T19:06:16.429Z"
   },
   {
    "duration": 5,
    "start_time": "2023-01-13T19:07:28.686Z"
   },
   {
    "duration": 38,
    "start_time": "2023-01-13T19:07:35.649Z"
   },
   {
    "duration": 3,
    "start_time": "2023-01-13T19:07:55.343Z"
   },
   {
    "duration": 89,
    "start_time": "2023-01-13T19:07:55.348Z"
   },
   {
    "duration": 15,
    "start_time": "2023-01-13T19:07:55.439Z"
   },
   {
    "duration": 23,
    "start_time": "2023-01-13T19:07:55.456Z"
   },
   {
    "duration": 47,
    "start_time": "2023-01-13T19:07:55.480Z"
   },
   {
    "duration": 8,
    "start_time": "2023-01-13T19:07:55.528Z"
   },
   {
    "duration": 9,
    "start_time": "2023-01-13T19:07:55.538Z"
   },
   {
    "duration": 9,
    "start_time": "2023-01-13T19:07:55.548Z"
   },
   {
    "duration": 11,
    "start_time": "2023-01-13T19:07:55.559Z"
   },
   {
    "duration": 8,
    "start_time": "2023-01-13T19:07:55.572Z"
   },
   {
    "duration": 14,
    "start_time": "2023-01-13T19:07:55.581Z"
   },
   {
    "duration": 22,
    "start_time": "2023-01-13T19:07:55.597Z"
   },
   {
    "duration": 4,
    "start_time": "2023-01-13T19:07:55.620Z"
   },
   {
    "duration": 26,
    "start_time": "2023-01-13T19:07:55.626Z"
   },
   {
    "duration": 26,
    "start_time": "2023-01-13T19:07:55.655Z"
   },
   {
    "duration": 23,
    "start_time": "2023-01-13T19:07:55.683Z"
   },
   {
    "duration": 24,
    "start_time": "2023-01-13T19:07:55.708Z"
   },
   {
    "duration": 28,
    "start_time": "2023-01-13T19:07:55.734Z"
   },
   {
    "duration": 20,
    "start_time": "2023-01-13T19:07:55.764Z"
   },
   {
    "duration": 17,
    "start_time": "2023-01-13T19:07:55.785Z"
   },
   {
    "duration": 18,
    "start_time": "2023-01-13T19:07:55.804Z"
   },
   {
    "duration": 9,
    "start_time": "2023-01-13T19:07:55.824Z"
   },
   {
    "duration": 17,
    "start_time": "2023-01-13T19:07:55.834Z"
   },
   {
    "duration": 15,
    "start_time": "2023-01-13T19:07:55.854Z"
   },
   {
    "duration": 20,
    "start_time": "2023-01-13T19:07:55.870Z"
   },
   {
    "duration": 26,
    "start_time": "2023-01-13T19:07:55.892Z"
   },
   {
    "duration": 27,
    "start_time": "2023-01-13T19:07:55.920Z"
   },
   {
    "duration": 4,
    "start_time": "2023-01-13T19:07:55.948Z"
   },
   {
    "duration": 35,
    "start_time": "2023-01-13T19:07:55.953Z"
   },
   {
    "duration": 19,
    "start_time": "2023-01-13T19:07:55.989Z"
   },
   {
    "duration": 4,
    "start_time": "2023-01-13T19:07:56.010Z"
   },
   {
    "duration": 10,
    "start_time": "2023-01-13T19:07:56.016Z"
   },
   {
    "duration": 6,
    "start_time": "2023-01-13T19:07:56.027Z"
   },
   {
    "duration": 11,
    "start_time": "2023-01-13T19:07:56.035Z"
   },
   {
    "duration": 31,
    "start_time": "2023-01-13T19:07:56.048Z"
   },
   {
    "duration": 14,
    "start_time": "2023-01-13T19:07:56.080Z"
   },
   {
    "duration": 11,
    "start_time": "2023-01-13T19:07:56.095Z"
   },
   {
    "duration": 15,
    "start_time": "2023-01-13T19:07:56.108Z"
   },
   {
    "duration": 7,
    "start_time": "2023-01-13T19:07:56.125Z"
   },
   {
    "duration": 11,
    "start_time": "2023-01-13T19:07:56.134Z"
   },
   {
    "duration": 16,
    "start_time": "2023-01-13T19:07:56.147Z"
   },
   {
    "duration": 22,
    "start_time": "2023-01-13T19:07:56.165Z"
   },
   {
    "duration": 11,
    "start_time": "2023-01-13T19:07:56.189Z"
   },
   {
    "duration": 26,
    "start_time": "2023-01-13T19:07:56.201Z"
   },
   {
    "duration": 23,
    "start_time": "2023-01-13T19:07:56.228Z"
   },
   {
    "duration": 38,
    "start_time": "2023-01-13T19:07:56.252Z"
   },
   {
    "duration": 13,
    "start_time": "2023-01-13T19:07:56.292Z"
   },
   {
    "duration": 13,
    "start_time": "2023-01-13T19:07:56.307Z"
   },
   {
    "duration": 15,
    "start_time": "2023-01-13T19:07:56.322Z"
   },
   {
    "duration": 13,
    "start_time": "2023-01-13T19:07:56.339Z"
   },
   {
    "duration": 12,
    "start_time": "2023-01-13T19:07:56.354Z"
   },
   {
    "duration": 5,
    "start_time": "2023-01-13T19:07:56.368Z"
   },
   {
    "duration": 8,
    "start_time": "2023-01-13T19:07:56.375Z"
   },
   {
    "duration": 8,
    "start_time": "2023-01-13T19:07:56.384Z"
   },
   {
    "duration": 7,
    "start_time": "2023-01-13T19:07:56.394Z"
   },
   {
    "duration": 25,
    "start_time": "2023-01-13T19:07:56.403Z"
   },
   {
    "duration": 29,
    "start_time": "2023-01-13T19:07:56.429Z"
   },
   {
    "duration": 4,
    "start_time": "2023-01-13T19:07:56.477Z"
   },
   {
    "duration": 26,
    "start_time": "2023-01-13T19:07:56.483Z"
   },
   {
    "duration": 5,
    "start_time": "2023-01-13T19:07:56.511Z"
   },
   {
    "duration": 14,
    "start_time": "2023-01-13T19:07:56.517Z"
   },
   {
    "duration": 19,
    "start_time": "2023-01-13T19:07:56.532Z"
   },
   {
    "duration": 8,
    "start_time": "2023-01-13T19:07:56.553Z"
   },
   {
    "duration": 16,
    "start_time": "2023-01-13T19:07:56.563Z"
   },
   {
    "duration": 14,
    "start_time": "2023-01-13T19:07:56.581Z"
   },
   {
    "duration": 4,
    "start_time": "2023-01-13T19:07:56.596Z"
   },
   {
    "duration": 14,
    "start_time": "2023-01-13T19:07:56.602Z"
   },
   {
    "duration": 140,
    "start_time": "2023-01-13T19:07:56.618Z"
   },
   {
    "duration": 5,
    "start_time": "2023-01-13T19:07:56.762Z"
   },
   {
    "duration": 20,
    "start_time": "2023-01-13T19:07:56.778Z"
   },
   {
    "duration": 2,
    "start_time": "2023-01-13T19:07:56.800Z"
   },
   {
    "duration": 190,
    "start_time": "2023-01-13T19:07:56.804Z"
   },
   {
    "duration": 6,
    "start_time": "2023-01-13T19:07:56.995Z"
   },
   {
    "duration": 30,
    "start_time": "2023-01-13T19:07:57.002Z"
   },
   {
    "duration": 295,
    "start_time": "2023-01-13T19:07:57.034Z"
   },
   {
    "duration": 20,
    "start_time": "2023-01-13T19:07:57.330Z"
   },
   {
    "duration": 167,
    "start_time": "2023-01-13T19:07:57.352Z"
   },
   {
    "duration": 5,
    "start_time": "2023-01-13T19:07:57.521Z"
   },
   {
    "duration": 15,
    "start_time": "2023-01-13T19:07:57.528Z"
   },
   {
    "duration": 7,
    "start_time": "2023-01-13T19:07:57.544Z"
   },
   {
    "duration": 9,
    "start_time": "2023-01-13T19:07:57.553Z"
   },
   {
    "duration": 39,
    "start_time": "2023-01-13T19:07:57.564Z"
   },
   {
    "duration": 265,
    "start_time": "2023-01-13T19:07:57.605Z"
   },
   {
    "duration": 432,
    "start_time": "2023-01-13T19:07:57.878Z"
   },
   {
    "duration": 319,
    "start_time": "2023-01-13T19:07:58.312Z"
   },
   {
    "duration": 26,
    "start_time": "2023-01-13T19:07:58.633Z"
   },
   {
    "duration": 317,
    "start_time": "2023-01-13T19:07:58.661Z"
   },
   {
    "duration": 37,
    "start_time": "2023-01-13T19:08:53.573Z"
   },
   {
    "duration": 2,
    "start_time": "2023-01-13T19:09:06.730Z"
   },
   {
    "duration": 109,
    "start_time": "2023-01-13T19:09:06.734Z"
   },
   {
    "duration": 33,
    "start_time": "2023-01-13T19:09:06.846Z"
   },
   {
    "duration": 15,
    "start_time": "2023-01-13T19:09:06.881Z"
   },
   {
    "duration": 42,
    "start_time": "2023-01-13T19:09:06.898Z"
   },
   {
    "duration": 8,
    "start_time": "2023-01-13T19:09:06.942Z"
   },
   {
    "duration": 15,
    "start_time": "2023-01-13T19:09:06.952Z"
   },
   {
    "duration": 15,
    "start_time": "2023-01-13T19:09:06.969Z"
   },
   {
    "duration": 16,
    "start_time": "2023-01-13T19:09:06.986Z"
   },
   {
    "duration": 19,
    "start_time": "2023-01-13T19:09:07.003Z"
   },
   {
    "duration": 29,
    "start_time": "2023-01-13T19:09:07.025Z"
   },
   {
    "duration": 28,
    "start_time": "2023-01-13T19:09:07.056Z"
   },
   {
    "duration": 3,
    "start_time": "2023-01-13T19:09:07.086Z"
   },
   {
    "duration": 26,
    "start_time": "2023-01-13T19:09:07.091Z"
   },
   {
    "duration": 16,
    "start_time": "2023-01-13T19:09:07.119Z"
   },
   {
    "duration": 14,
    "start_time": "2023-01-13T19:09:07.137Z"
   },
   {
    "duration": 13,
    "start_time": "2023-01-13T19:09:07.152Z"
   },
   {
    "duration": 12,
    "start_time": "2023-01-13T19:09:07.166Z"
   },
   {
    "duration": 5,
    "start_time": "2023-01-13T19:09:07.180Z"
   },
   {
    "duration": 31,
    "start_time": "2023-01-13T19:09:07.187Z"
   },
   {
    "duration": 8,
    "start_time": "2023-01-13T19:09:07.220Z"
   },
   {
    "duration": 19,
    "start_time": "2023-01-13T19:09:07.229Z"
   },
   {
    "duration": 14,
    "start_time": "2023-01-13T19:09:07.249Z"
   },
   {
    "duration": 9,
    "start_time": "2023-01-13T19:09:07.265Z"
   },
   {
    "duration": 12,
    "start_time": "2023-01-13T19:09:07.275Z"
   },
   {
    "duration": 21,
    "start_time": "2023-01-13T19:09:07.288Z"
   },
   {
    "duration": 34,
    "start_time": "2023-01-13T19:09:07.311Z"
   },
   {
    "duration": 3,
    "start_time": "2023-01-13T19:09:07.347Z"
   },
   {
    "duration": 32,
    "start_time": "2023-01-13T19:09:07.354Z"
   },
   {
    "duration": 18,
    "start_time": "2023-01-13T19:09:07.388Z"
   },
   {
    "duration": 5,
    "start_time": "2023-01-13T19:09:07.407Z"
   },
   {
    "duration": 11,
    "start_time": "2023-01-13T19:09:07.413Z"
   },
   {
    "duration": 8,
    "start_time": "2023-01-13T19:09:07.425Z"
   },
   {
    "duration": 13,
    "start_time": "2023-01-13T19:09:07.435Z"
   },
   {
    "duration": 30,
    "start_time": "2023-01-13T19:09:07.450Z"
   },
   {
    "duration": 18,
    "start_time": "2023-01-13T19:09:07.481Z"
   },
   {
    "duration": 5,
    "start_time": "2023-01-13T19:09:07.501Z"
   },
   {
    "duration": 25,
    "start_time": "2023-01-13T19:09:07.508Z"
   },
   {
    "duration": 5,
    "start_time": "2023-01-13T19:09:07.535Z"
   },
   {
    "duration": 27,
    "start_time": "2023-01-13T19:09:07.541Z"
   },
   {
    "duration": 7,
    "start_time": "2023-01-13T19:09:07.570Z"
   },
   {
    "duration": 19,
    "start_time": "2023-01-13T19:09:07.579Z"
   },
   {
    "duration": 19,
    "start_time": "2023-01-13T19:09:07.600Z"
   },
   {
    "duration": 5,
    "start_time": "2023-01-13T19:09:07.620Z"
   },
   {
    "duration": 14,
    "start_time": "2023-01-13T19:09:07.626Z"
   },
   {
    "duration": 9,
    "start_time": "2023-01-13T19:09:07.641Z"
   },
   {
    "duration": 32,
    "start_time": "2023-01-13T19:09:07.652Z"
   },
   {
    "duration": 37,
    "start_time": "2023-01-13T19:09:07.685Z"
   },
   {
    "duration": 21,
    "start_time": "2023-01-13T19:09:07.723Z"
   },
   {
    "duration": 18,
    "start_time": "2023-01-13T19:09:07.746Z"
   },
   {
    "duration": 18,
    "start_time": "2023-01-13T19:09:07.765Z"
   },
   {
    "duration": 6,
    "start_time": "2023-01-13T19:09:07.785Z"
   },
   {
    "duration": 13,
    "start_time": "2023-01-13T19:09:07.792Z"
   },
   {
    "duration": 10,
    "start_time": "2023-01-13T19:09:07.807Z"
   },
   {
    "duration": 7,
    "start_time": "2023-01-13T19:09:07.819Z"
   },
   {
    "duration": 29,
    "start_time": "2023-01-13T19:09:07.828Z"
   },
   {
    "duration": 30,
    "start_time": "2023-01-13T19:09:07.859Z"
   },
   {
    "duration": 4,
    "start_time": "2023-01-13T19:09:07.890Z"
   },
   {
    "duration": 21,
    "start_time": "2023-01-13T19:09:07.896Z"
   },
   {
    "duration": 6,
    "start_time": "2023-01-13T19:09:07.919Z"
   },
   {
    "duration": 22,
    "start_time": "2023-01-13T19:09:07.927Z"
   },
   {
    "duration": 34,
    "start_time": "2023-01-13T19:09:07.950Z"
   },
   {
    "duration": 11,
    "start_time": "2023-01-13T19:09:07.986Z"
   },
   {
    "duration": 18,
    "start_time": "2023-01-13T19:09:07.999Z"
   },
   {
    "duration": 25,
    "start_time": "2023-01-13T19:09:08.019Z"
   },
   {
    "duration": 3,
    "start_time": "2023-01-13T19:09:08.046Z"
   },
   {
    "duration": 11,
    "start_time": "2023-01-13T19:09:08.051Z"
   },
   {
    "duration": 120,
    "start_time": "2023-01-13T19:09:08.063Z"
   },
   {
    "duration": 5,
    "start_time": "2023-01-13T19:09:08.184Z"
   },
   {
    "duration": 24,
    "start_time": "2023-01-13T19:09:08.191Z"
   },
   {
    "duration": 3,
    "start_time": "2023-01-13T19:09:08.217Z"
   },
   {
    "duration": 176,
    "start_time": "2023-01-13T19:09:08.221Z"
   },
   {
    "duration": 6,
    "start_time": "2023-01-13T19:09:08.399Z"
   },
   {
    "duration": 25,
    "start_time": "2023-01-13T19:09:08.406Z"
   },
   {
    "duration": 300,
    "start_time": "2023-01-13T19:09:08.432Z"
   },
   {
    "duration": 19,
    "start_time": "2023-01-13T19:09:08.734Z"
   },
   {
    "duration": 157,
    "start_time": "2023-01-13T19:09:08.755Z"
   },
   {
    "duration": 6,
    "start_time": "2023-01-13T19:09:08.913Z"
   },
   {
    "duration": 31,
    "start_time": "2023-01-13T19:09:08.920Z"
   },
   {
    "duration": 11,
    "start_time": "2023-01-13T19:09:08.953Z"
   },
   {
    "duration": 20,
    "start_time": "2023-01-13T19:09:08.966Z"
   },
   {
    "duration": 36,
    "start_time": "2023-01-13T19:09:08.988Z"
   },
   {
    "duration": 238,
    "start_time": "2023-01-13T19:09:09.029Z"
   },
   {
    "duration": 310,
    "start_time": "2023-01-13T19:09:09.269Z"
   },
   {
    "duration": 410,
    "start_time": "2023-01-13T19:09:09.581Z"
   },
   {
    "duration": 24,
    "start_time": "2023-01-13T19:09:09.992Z"
   },
   {
    "duration": 309,
    "start_time": "2023-01-13T19:09:10.018Z"
   },
   {
    "duration": 3,
    "start_time": "2023-01-13T19:09:42.585Z"
   },
   {
    "duration": 92,
    "start_time": "2023-01-13T19:09:42.589Z"
   },
   {
    "duration": 15,
    "start_time": "2023-01-13T19:09:42.683Z"
   },
   {
    "duration": 16,
    "start_time": "2023-01-13T19:09:42.699Z"
   },
   {
    "duration": 51,
    "start_time": "2023-01-13T19:09:42.718Z"
   },
   {
    "duration": 7,
    "start_time": "2023-01-13T19:09:42.771Z"
   },
   {
    "duration": 10,
    "start_time": "2023-01-13T19:09:42.780Z"
   },
   {
    "duration": 11,
    "start_time": "2023-01-13T19:09:42.792Z"
   },
   {
    "duration": 10,
    "start_time": "2023-01-13T19:09:42.805Z"
   },
   {
    "duration": 9,
    "start_time": "2023-01-13T19:09:42.817Z"
   },
   {
    "duration": 10,
    "start_time": "2023-01-13T19:09:42.828Z"
   },
   {
    "duration": 16,
    "start_time": "2023-01-13T19:09:42.840Z"
   },
   {
    "duration": 23,
    "start_time": "2023-01-13T19:09:42.857Z"
   },
   {
    "duration": 21,
    "start_time": "2023-01-13T19:09:42.883Z"
   },
   {
    "duration": 17,
    "start_time": "2023-01-13T19:09:42.906Z"
   },
   {
    "duration": 14,
    "start_time": "2023-01-13T19:09:42.925Z"
   },
   {
    "duration": 14,
    "start_time": "2023-01-13T19:09:42.941Z"
   },
   {
    "duration": 23,
    "start_time": "2023-01-13T19:09:42.957Z"
   },
   {
    "duration": 8,
    "start_time": "2023-01-13T19:09:42.982Z"
   },
   {
    "duration": 12,
    "start_time": "2023-01-13T19:09:42.992Z"
   },
   {
    "duration": 16,
    "start_time": "2023-01-13T19:09:43.006Z"
   },
   {
    "duration": 11,
    "start_time": "2023-01-13T19:09:43.024Z"
   },
   {
    "duration": 20,
    "start_time": "2023-01-13T19:09:43.037Z"
   },
   {
    "duration": 7,
    "start_time": "2023-01-13T19:09:43.059Z"
   },
   {
    "duration": 17,
    "start_time": "2023-01-13T19:09:43.068Z"
   },
   {
    "duration": 21,
    "start_time": "2023-01-13T19:09:43.087Z"
   },
   {
    "duration": 29,
    "start_time": "2023-01-13T19:09:43.110Z"
   },
   {
    "duration": 4,
    "start_time": "2023-01-13T19:09:43.140Z"
   },
   {
    "duration": 50,
    "start_time": "2023-01-13T19:09:43.146Z"
   },
   {
    "duration": 22,
    "start_time": "2023-01-13T19:09:43.197Z"
   },
   {
    "duration": 5,
    "start_time": "2023-01-13T19:09:43.220Z"
   },
   {
    "duration": 17,
    "start_time": "2023-01-13T19:09:43.226Z"
   },
   {
    "duration": 12,
    "start_time": "2023-01-13T19:09:43.245Z"
   },
   {
    "duration": 22,
    "start_time": "2023-01-13T19:09:43.259Z"
   },
   {
    "duration": 25,
    "start_time": "2023-01-13T19:09:43.283Z"
   },
   {
    "duration": 37,
    "start_time": "2023-01-13T19:09:43.310Z"
   },
   {
    "duration": 5,
    "start_time": "2023-01-13T19:09:43.349Z"
   },
   {
    "duration": 16,
    "start_time": "2023-01-13T19:09:43.356Z"
   },
   {
    "duration": 7,
    "start_time": "2023-01-13T19:09:43.373Z"
   },
   {
    "duration": 8,
    "start_time": "2023-01-13T19:09:43.382Z"
   },
   {
    "duration": 13,
    "start_time": "2023-01-13T19:09:43.394Z"
   },
   {
    "duration": 18,
    "start_time": "2023-01-13T19:09:43.409Z"
   },
   {
    "duration": 14,
    "start_time": "2023-01-13T19:09:43.429Z"
   },
   {
    "duration": 5,
    "start_time": "2023-01-13T19:09:43.445Z"
   },
   {
    "duration": 12,
    "start_time": "2023-01-13T19:09:43.452Z"
   },
   {
    "duration": 19,
    "start_time": "2023-01-13T19:09:43.466Z"
   },
   {
    "duration": 17,
    "start_time": "2023-01-13T19:09:43.486Z"
   },
   {
    "duration": 9,
    "start_time": "2023-01-13T19:09:43.505Z"
   },
   {
    "duration": 10,
    "start_time": "2023-01-13T19:09:43.516Z"
   },
   {
    "duration": 9,
    "start_time": "2023-01-13T19:09:43.528Z"
   },
   {
    "duration": 13,
    "start_time": "2023-01-13T19:09:43.538Z"
   },
   {
    "duration": 6,
    "start_time": "2023-01-13T19:09:43.552Z"
   },
   {
    "duration": 8,
    "start_time": "2023-01-13T19:09:43.559Z"
   },
   {
    "duration": 33,
    "start_time": "2023-01-13T19:09:43.568Z"
   },
   {
    "duration": 19,
    "start_time": "2023-01-13T19:09:43.602Z"
   },
   {
    "duration": 25,
    "start_time": "2023-01-13T19:09:43.623Z"
   },
   {
    "duration": 852,
    "start_time": "2023-01-13T19:09:43.650Z"
   },
   {
    "duration": 0,
    "start_time": "2023-01-13T19:09:44.504Z"
   },
   {
    "duration": 0,
    "start_time": "2023-01-13T19:09:44.505Z"
   },
   {
    "duration": 0,
    "start_time": "2023-01-13T19:09:44.507Z"
   },
   {
    "duration": 0,
    "start_time": "2023-01-13T19:09:44.509Z"
   },
   {
    "duration": 0,
    "start_time": "2023-01-13T19:09:44.510Z"
   },
   {
    "duration": 0,
    "start_time": "2023-01-13T19:09:44.511Z"
   },
   {
    "duration": 0,
    "start_time": "2023-01-13T19:09:44.512Z"
   },
   {
    "duration": 0,
    "start_time": "2023-01-13T19:09:44.513Z"
   },
   {
    "duration": 0,
    "start_time": "2023-01-13T19:09:44.514Z"
   },
   {
    "duration": 0,
    "start_time": "2023-01-13T19:09:44.515Z"
   },
   {
    "duration": 0,
    "start_time": "2023-01-13T19:09:44.516Z"
   },
   {
    "duration": 0,
    "start_time": "2023-01-13T19:09:44.517Z"
   },
   {
    "duration": 0,
    "start_time": "2023-01-13T19:09:44.518Z"
   },
   {
    "duration": 0,
    "start_time": "2023-01-13T19:09:44.519Z"
   },
   {
    "duration": 0,
    "start_time": "2023-01-13T19:09:44.520Z"
   },
   {
    "duration": 0,
    "start_time": "2023-01-13T19:09:44.521Z"
   },
   {
    "duration": 0,
    "start_time": "2023-01-13T19:09:44.522Z"
   },
   {
    "duration": 0,
    "start_time": "2023-01-13T19:09:44.523Z"
   },
   {
    "duration": 0,
    "start_time": "2023-01-13T19:09:44.524Z"
   },
   {
    "duration": 0,
    "start_time": "2023-01-13T19:09:44.525Z"
   },
   {
    "duration": 0,
    "start_time": "2023-01-13T19:09:44.526Z"
   },
   {
    "duration": 0,
    "start_time": "2023-01-13T19:09:44.527Z"
   },
   {
    "duration": 0,
    "start_time": "2023-01-13T19:09:44.528Z"
   },
   {
    "duration": 0,
    "start_time": "2023-01-13T19:09:44.529Z"
   },
   {
    "duration": 0,
    "start_time": "2023-01-13T19:09:44.530Z"
   },
   {
    "duration": 0,
    "start_time": "2023-01-13T19:09:44.531Z"
   },
   {
    "duration": 0,
    "start_time": "2023-01-13T19:09:44.532Z"
   },
   {
    "duration": 0,
    "start_time": "2023-01-13T19:09:44.533Z"
   },
   {
    "duration": 0,
    "start_time": "2023-01-13T19:09:44.534Z"
   },
   {
    "duration": 0,
    "start_time": "2023-01-13T19:09:44.535Z"
   },
   {
    "duration": 3,
    "start_time": "2023-01-13T19:10:08.802Z"
   },
   {
    "duration": 98,
    "start_time": "2023-01-13T19:10:08.807Z"
   },
   {
    "duration": 16,
    "start_time": "2023-01-13T19:10:08.908Z"
   },
   {
    "duration": 12,
    "start_time": "2023-01-13T19:10:08.926Z"
   },
   {
    "duration": 41,
    "start_time": "2023-01-13T19:10:08.940Z"
   },
   {
    "duration": 7,
    "start_time": "2023-01-13T19:10:08.982Z"
   },
   {
    "duration": 9,
    "start_time": "2023-01-13T19:10:08.991Z"
   },
   {
    "duration": 9,
    "start_time": "2023-01-13T19:10:09.002Z"
   },
   {
    "duration": 6,
    "start_time": "2023-01-13T19:10:09.012Z"
   },
   {
    "duration": 12,
    "start_time": "2023-01-13T19:10:09.019Z"
   },
   {
    "duration": 15,
    "start_time": "2023-01-13T19:10:09.034Z"
   },
   {
    "duration": 28,
    "start_time": "2023-01-13T19:10:09.051Z"
   },
   {
    "duration": 4,
    "start_time": "2023-01-13T19:10:09.080Z"
   },
   {
    "duration": 20,
    "start_time": "2023-01-13T19:10:09.085Z"
   },
   {
    "duration": 17,
    "start_time": "2023-01-13T19:10:09.106Z"
   },
   {
    "duration": 19,
    "start_time": "2023-01-13T19:10:09.125Z"
   },
   {
    "duration": 11,
    "start_time": "2023-01-13T19:10:09.146Z"
   },
   {
    "duration": 21,
    "start_time": "2023-01-13T19:10:09.159Z"
   },
   {
    "duration": 5,
    "start_time": "2023-01-13T19:10:09.182Z"
   },
   {
    "duration": 12,
    "start_time": "2023-01-13T19:10:09.189Z"
   },
   {
    "duration": 7,
    "start_time": "2023-01-13T19:10:09.203Z"
   },
   {
    "duration": 13,
    "start_time": "2023-01-13T19:10:09.212Z"
   },
   {
    "duration": 14,
    "start_time": "2023-01-13T19:10:09.227Z"
   },
   {
    "duration": 11,
    "start_time": "2023-01-13T19:10:09.243Z"
   },
   {
    "duration": 16,
    "start_time": "2023-01-13T19:10:09.256Z"
   },
   {
    "duration": 26,
    "start_time": "2023-01-13T19:10:09.274Z"
   },
   {
    "duration": 26,
    "start_time": "2023-01-13T19:10:09.302Z"
   },
   {
    "duration": 4,
    "start_time": "2023-01-13T19:10:09.330Z"
   },
   {
    "duration": 27,
    "start_time": "2023-01-13T19:10:09.338Z"
   },
   {
    "duration": 18,
    "start_time": "2023-01-13T19:10:09.378Z"
   },
   {
    "duration": 12,
    "start_time": "2023-01-13T19:10:09.398Z"
   },
   {
    "duration": 23,
    "start_time": "2023-01-13T19:10:09.412Z"
   },
   {
    "duration": 14,
    "start_time": "2023-01-13T19:10:09.437Z"
   },
   {
    "duration": 21,
    "start_time": "2023-01-13T19:10:09.453Z"
   },
   {
    "duration": 13,
    "start_time": "2023-01-13T19:10:09.475Z"
   },
   {
    "duration": 30,
    "start_time": "2023-01-13T19:10:09.489Z"
   },
   {
    "duration": 8,
    "start_time": "2023-01-13T19:10:09.521Z"
   },
   {
    "duration": 21,
    "start_time": "2023-01-13T19:10:09.530Z"
   },
   {
    "duration": 21,
    "start_time": "2023-01-13T19:10:09.553Z"
   },
   {
    "duration": 25,
    "start_time": "2023-01-13T19:10:09.575Z"
   },
   {
    "duration": 17,
    "start_time": "2023-01-13T19:10:09.602Z"
   },
   {
    "duration": 18,
    "start_time": "2023-01-13T19:10:09.621Z"
   },
   {
    "duration": 9,
    "start_time": "2023-01-13T19:10:09.640Z"
   },
   {
    "duration": 9,
    "start_time": "2023-01-13T19:10:09.651Z"
   },
   {
    "duration": 9,
    "start_time": "2023-01-13T19:10:09.662Z"
   },
   {
    "duration": 9,
    "start_time": "2023-01-13T19:10:09.673Z"
   },
   {
    "duration": 12,
    "start_time": "2023-01-13T19:10:09.684Z"
   },
   {
    "duration": 5,
    "start_time": "2023-01-13T19:10:09.697Z"
   },
   {
    "duration": 10,
    "start_time": "2023-01-13T19:10:09.703Z"
   },
   {
    "duration": 17,
    "start_time": "2023-01-13T19:10:09.714Z"
   },
   {
    "duration": 17,
    "start_time": "2023-01-13T19:10:09.732Z"
   },
   {
    "duration": 19,
    "start_time": "2023-01-13T19:10:09.750Z"
   },
   {
    "duration": 8,
    "start_time": "2023-01-13T19:10:09.770Z"
   },
   {
    "duration": 17,
    "start_time": "2023-01-13T19:10:09.779Z"
   },
   {
    "duration": 18,
    "start_time": "2023-01-13T19:10:09.798Z"
   },
   {
    "duration": 32,
    "start_time": "2023-01-13T19:10:09.818Z"
   },
   {
    "duration": 38,
    "start_time": "2023-01-13T19:10:09.852Z"
   },
   {
    "duration": 4,
    "start_time": "2023-01-13T19:10:09.892Z"
   },
   {
    "duration": 32,
    "start_time": "2023-01-13T19:10:09.898Z"
   },
   {
    "duration": 6,
    "start_time": "2023-01-13T19:10:09.932Z"
   },
   {
    "duration": 23,
    "start_time": "2023-01-13T19:10:09.939Z"
   },
   {
    "duration": 20,
    "start_time": "2023-01-13T19:10:09.964Z"
   },
   {
    "duration": 17,
    "start_time": "2023-01-13T19:10:09.986Z"
   },
   {
    "duration": 23,
    "start_time": "2023-01-13T19:10:10.005Z"
   },
   {
    "duration": 41,
    "start_time": "2023-01-13T19:10:10.030Z"
   },
   {
    "duration": 5,
    "start_time": "2023-01-13T19:10:10.073Z"
   },
   {
    "duration": 17,
    "start_time": "2023-01-13T19:10:10.080Z"
   },
   {
    "duration": 133,
    "start_time": "2023-01-13T19:10:10.099Z"
   },
   {
    "duration": 6,
    "start_time": "2023-01-13T19:10:10.234Z"
   },
   {
    "duration": 40,
    "start_time": "2023-01-13T19:10:10.242Z"
   },
   {
    "duration": 2,
    "start_time": "2023-01-13T19:10:10.284Z"
   },
   {
    "duration": 190,
    "start_time": "2023-01-13T19:10:10.288Z"
   },
   {
    "duration": 6,
    "start_time": "2023-01-13T19:10:10.479Z"
   },
   {
    "duration": 49,
    "start_time": "2023-01-13T19:10:10.487Z"
   },
   {
    "duration": 304,
    "start_time": "2023-01-13T19:10:10.538Z"
   },
   {
    "duration": 19,
    "start_time": "2023-01-13T19:10:10.843Z"
   },
   {
    "duration": 167,
    "start_time": "2023-01-13T19:10:10.864Z"
   },
   {
    "duration": 6,
    "start_time": "2023-01-13T19:10:11.033Z"
   },
   {
    "duration": 19,
    "start_time": "2023-01-13T19:10:11.041Z"
   },
   {
    "duration": 18,
    "start_time": "2023-01-13T19:10:11.062Z"
   },
   {
    "duration": 16,
    "start_time": "2023-01-13T19:10:11.082Z"
   },
   {
    "duration": 40,
    "start_time": "2023-01-13T19:10:11.100Z"
   },
   {
    "duration": 246,
    "start_time": "2023-01-13T19:10:11.145Z"
   },
   {
    "duration": 313,
    "start_time": "2023-01-13T19:10:11.393Z"
   },
   {
    "duration": 320,
    "start_time": "2023-01-13T19:10:11.708Z"
   },
   {
    "duration": 26,
    "start_time": "2023-01-13T19:10:12.030Z"
   },
   {
    "duration": 411,
    "start_time": "2023-01-13T19:10:12.058Z"
   },
   {
    "duration": 10,
    "start_time": "2023-01-13T19:11:57.093Z"
   },
   {
    "duration": 30,
    "start_time": "2023-01-13T19:12:07.194Z"
   },
   {
    "duration": 4,
    "start_time": "2023-01-13T19:13:53.623Z"
   },
   {
    "duration": 21,
    "start_time": "2023-01-13T19:18:15.765Z"
   },
   {
    "duration": 5,
    "start_time": "2023-01-13T19:20:35.428Z"
   },
   {
    "duration": 4,
    "start_time": "2023-01-13T19:20:50.656Z"
   },
   {
    "duration": 69,
    "start_time": "2023-01-13T19:21:20.077Z"
   },
   {
    "duration": 5,
    "start_time": "2023-01-13T19:21:33.779Z"
   },
   {
    "duration": 5,
    "start_time": "2023-01-13T19:21:40.393Z"
   },
   {
    "duration": 5,
    "start_time": "2023-01-13T19:21:54.245Z"
   },
   {
    "duration": 5,
    "start_time": "2023-01-13T19:22:38.680Z"
   },
   {
    "duration": 15,
    "start_time": "2023-01-13T19:22:52.301Z"
   },
   {
    "duration": 5,
    "start_time": "2023-01-13T19:22:57.529Z"
   },
   {
    "duration": 5,
    "start_time": "2023-01-13T19:23:05.025Z"
   },
   {
    "duration": 5,
    "start_time": "2023-01-13T19:23:36.725Z"
   },
   {
    "duration": 135,
    "start_time": "2023-01-13T19:24:16.786Z"
   },
   {
    "duration": 15,
    "start_time": "2023-01-13T19:24:25.610Z"
   },
   {
    "duration": 19,
    "start_time": "2023-01-13T19:24:57.182Z"
   },
   {
    "duration": 20,
    "start_time": "2023-01-13T19:25:14.377Z"
   },
   {
    "duration": 175,
    "start_time": "2023-01-13T19:25:22.368Z"
   },
   {
    "duration": 20,
    "start_time": "2023-01-13T19:26:40.263Z"
   },
   {
    "duration": 5,
    "start_time": "2023-01-13T19:27:38.675Z"
   },
   {
    "duration": 25,
    "start_time": "2023-01-13T19:29:26.064Z"
   },
   {
    "duration": 306,
    "start_time": "2023-01-13T19:29:31.474Z"
   },
   {
    "duration": 11,
    "start_time": "2023-01-13T19:55:01.741Z"
   },
   {
    "duration": 2,
    "start_time": "2023-01-13T19:55:07.287Z"
   },
   {
    "duration": 132,
    "start_time": "2023-01-13T19:55:07.291Z"
   },
   {
    "duration": 15,
    "start_time": "2023-01-13T19:55:07.424Z"
   },
   {
    "duration": 30,
    "start_time": "2023-01-13T19:55:07.442Z"
   },
   {
    "duration": 67,
    "start_time": "2023-01-13T19:55:07.477Z"
   },
   {
    "duration": 17,
    "start_time": "2023-01-13T19:55:07.546Z"
   },
   {
    "duration": 17,
    "start_time": "2023-01-13T19:55:07.565Z"
   },
   {
    "duration": 33,
    "start_time": "2023-01-13T19:55:07.584Z"
   },
   {
    "duration": 33,
    "start_time": "2023-01-13T19:55:07.619Z"
   },
   {
    "duration": 27,
    "start_time": "2023-01-13T19:55:07.655Z"
   },
   {
    "duration": 26,
    "start_time": "2023-01-13T19:55:07.684Z"
   },
   {
    "duration": 66,
    "start_time": "2023-01-13T19:55:07.712Z"
   },
   {
    "duration": 33,
    "start_time": "2023-01-13T19:55:07.779Z"
   },
   {
    "duration": 38,
    "start_time": "2023-01-13T19:55:07.814Z"
   },
   {
    "duration": 44,
    "start_time": "2023-01-13T19:55:07.855Z"
   },
   {
    "duration": 30,
    "start_time": "2023-01-13T19:55:07.901Z"
   },
   {
    "duration": 34,
    "start_time": "2023-01-13T19:55:07.933Z"
   },
   {
    "duration": 34,
    "start_time": "2023-01-13T19:55:07.969Z"
   },
   {
    "duration": 31,
    "start_time": "2023-01-13T19:55:08.005Z"
   },
   {
    "duration": 25,
    "start_time": "2023-01-13T19:55:08.038Z"
   },
   {
    "duration": 11,
    "start_time": "2023-01-13T19:55:08.064Z"
   },
   {
    "duration": 21,
    "start_time": "2023-01-13T19:55:08.077Z"
   },
   {
    "duration": 33,
    "start_time": "2023-01-13T19:55:08.100Z"
   },
   {
    "duration": 4,
    "start_time": "2023-01-13T19:55:08.135Z"
   },
   {
    "duration": 50,
    "start_time": "2023-01-13T19:55:08.141Z"
   },
   {
    "duration": 42,
    "start_time": "2023-01-13T19:55:08.193Z"
   },
   {
    "duration": 37,
    "start_time": "2023-01-13T19:55:08.237Z"
   },
   {
    "duration": 32,
    "start_time": "2023-01-13T19:55:08.278Z"
   },
   {
    "duration": 63,
    "start_time": "2023-01-13T19:55:08.312Z"
   },
   {
    "duration": 45,
    "start_time": "2023-01-13T19:55:08.376Z"
   },
   {
    "duration": 20,
    "start_time": "2023-01-13T19:55:08.423Z"
   },
   {
    "duration": 32,
    "start_time": "2023-01-13T19:55:08.445Z"
   },
   {
    "duration": 19,
    "start_time": "2023-01-13T19:55:08.478Z"
   },
   {
    "duration": 49,
    "start_time": "2023-01-13T19:55:08.499Z"
   },
   {
    "duration": 37,
    "start_time": "2023-01-13T19:55:08.550Z"
   },
   {
    "duration": 19,
    "start_time": "2023-01-13T19:55:08.589Z"
   },
   {
    "duration": 19,
    "start_time": "2023-01-13T19:55:08.609Z"
   },
   {
    "duration": 32,
    "start_time": "2023-01-13T19:55:08.630Z"
   },
   {
    "duration": 24,
    "start_time": "2023-01-13T19:55:08.664Z"
   },
   {
    "duration": 27,
    "start_time": "2023-01-13T19:55:08.690Z"
   },
   {
    "duration": 29,
    "start_time": "2023-01-13T19:55:08.718Z"
   },
   {
    "duration": 51,
    "start_time": "2023-01-13T19:55:08.749Z"
   },
   {
    "duration": 39,
    "start_time": "2023-01-13T19:55:08.802Z"
   },
   {
    "duration": 8,
    "start_time": "2023-01-13T19:55:08.843Z"
   },
   {
    "duration": 28,
    "start_time": "2023-01-13T19:55:08.853Z"
   },
   {
    "duration": 26,
    "start_time": "2023-01-13T19:55:08.883Z"
   },
   {
    "duration": 37,
    "start_time": "2023-01-13T19:55:08.910Z"
   },
   {
    "duration": 16,
    "start_time": "2023-01-13T19:55:08.949Z"
   },
   {
    "duration": 10,
    "start_time": "2023-01-13T19:55:08.967Z"
   },
   {
    "duration": 23,
    "start_time": "2023-01-13T19:55:08.979Z"
   },
   {
    "duration": 49,
    "start_time": "2023-01-13T19:55:09.004Z"
   },
   {
    "duration": 28,
    "start_time": "2023-01-13T19:55:09.055Z"
   },
   {
    "duration": 24,
    "start_time": "2023-01-13T19:55:09.085Z"
   },
   {
    "duration": 11,
    "start_time": "2023-01-13T19:55:09.111Z"
   },
   {
    "duration": 51,
    "start_time": "2023-01-13T19:55:09.124Z"
   },
   {
    "duration": 57,
    "start_time": "2023-01-13T19:55:09.177Z"
   },
   {
    "duration": 75,
    "start_time": "2023-01-13T19:55:09.236Z"
   },
   {
    "duration": 6,
    "start_time": "2023-01-13T19:55:09.313Z"
   },
   {
    "duration": 39,
    "start_time": "2023-01-13T19:55:09.320Z"
   },
   {
    "duration": 37,
    "start_time": "2023-01-13T19:55:09.361Z"
   },
   {
    "duration": 35,
    "start_time": "2023-01-13T19:55:09.399Z"
   },
   {
    "duration": 44,
    "start_time": "2023-01-13T19:55:09.435Z"
   },
   {
    "duration": 35,
    "start_time": "2023-01-13T19:55:09.481Z"
   },
   {
    "duration": 61,
    "start_time": "2023-01-13T19:55:09.518Z"
   },
   {
    "duration": 67,
    "start_time": "2023-01-13T19:55:09.581Z"
   },
   {
    "duration": 26,
    "start_time": "2023-01-13T19:55:09.649Z"
   },
   {
    "duration": 45,
    "start_time": "2023-01-13T19:55:09.677Z"
   },
   {
    "duration": 139,
    "start_time": "2023-01-13T19:55:09.724Z"
   },
   {
    "duration": 5,
    "start_time": "2023-01-13T19:55:09.865Z"
   },
   {
    "duration": 49,
    "start_time": "2023-01-13T19:55:09.879Z"
   },
   {
    "duration": 9,
    "start_time": "2023-01-13T19:55:09.930Z"
   },
   {
    "duration": 194,
    "start_time": "2023-01-13T19:55:09.940Z"
   },
   {
    "duration": 6,
    "start_time": "2023-01-13T19:55:10.136Z"
   },
   {
    "duration": 35,
    "start_time": "2023-01-13T19:55:10.144Z"
   },
   {
    "duration": 301,
    "start_time": "2023-01-13T19:55:10.181Z"
   },
   {
    "duration": 20,
    "start_time": "2023-01-13T19:55:10.484Z"
   },
   {
    "duration": 175,
    "start_time": "2023-01-13T19:55:10.505Z"
   },
   {
    "duration": 5,
    "start_time": "2023-01-13T19:55:10.681Z"
   },
   {
    "duration": 59,
    "start_time": "2023-01-13T19:55:10.688Z"
   },
   {
    "duration": 36,
    "start_time": "2023-01-13T19:55:10.749Z"
   },
   {
    "duration": 42,
    "start_time": "2023-01-13T19:55:10.787Z"
   },
   {
    "duration": 61,
    "start_time": "2023-01-13T19:55:10.835Z"
   },
   {
    "duration": 300,
    "start_time": "2023-01-13T19:55:10.898Z"
   },
   {
    "duration": 24,
    "start_time": "2023-01-13T19:55:11.200Z"
   },
   {
    "duration": 345,
    "start_time": "2023-01-13T19:55:11.226Z"
   },
   {
    "duration": 27,
    "start_time": "2023-01-13T19:55:11.573Z"
   },
   {
    "duration": 435,
    "start_time": "2023-01-13T19:55:11.602Z"
   },
   {
    "duration": 39,
    "start_time": "2023-01-13T19:55:12.039Z"
   },
   {
    "duration": 308,
    "start_time": "2023-01-13T19:55:12.080Z"
   },
   {
    "duration": 26,
    "start_time": "2023-01-13T19:56:25.953Z"
   },
   {
    "duration": 313,
    "start_time": "2023-01-13T19:56:29.015Z"
   },
   {
    "duration": 3,
    "start_time": "2023-01-13T20:21:04.824Z"
   },
   {
    "duration": 94,
    "start_time": "2023-01-13T20:21:04.829Z"
   },
   {
    "duration": 17,
    "start_time": "2023-01-13T20:21:04.924Z"
   },
   {
    "duration": 35,
    "start_time": "2023-01-13T20:21:04.944Z"
   },
   {
    "duration": 41,
    "start_time": "2023-01-13T20:21:04.982Z"
   },
   {
    "duration": 8,
    "start_time": "2023-01-13T20:21:05.024Z"
   },
   {
    "duration": 13,
    "start_time": "2023-01-13T20:21:05.034Z"
   },
   {
    "duration": 13,
    "start_time": "2023-01-13T20:21:05.049Z"
   },
   {
    "duration": 14,
    "start_time": "2023-01-13T20:21:05.064Z"
   },
   {
    "duration": 14,
    "start_time": "2023-01-13T20:21:05.079Z"
   },
   {
    "duration": 15,
    "start_time": "2023-01-13T20:21:05.096Z"
   },
   {
    "duration": 19,
    "start_time": "2023-01-13T20:21:05.113Z"
   },
   {
    "duration": 4,
    "start_time": "2023-01-13T20:21:05.134Z"
   },
   {
    "duration": 41,
    "start_time": "2023-01-13T20:21:05.140Z"
   },
   {
    "duration": 17,
    "start_time": "2023-01-13T20:21:05.183Z"
   },
   {
    "duration": 13,
    "start_time": "2023-01-13T20:21:05.202Z"
   },
   {
    "duration": 23,
    "start_time": "2023-01-13T20:21:05.216Z"
   },
   {
    "duration": 20,
    "start_time": "2023-01-13T20:21:05.241Z"
   },
   {
    "duration": 15,
    "start_time": "2023-01-13T20:21:05.263Z"
   },
   {
    "duration": 11,
    "start_time": "2023-01-13T20:21:05.279Z"
   },
   {
    "duration": 13,
    "start_time": "2023-01-13T20:21:05.292Z"
   },
   {
    "duration": 12,
    "start_time": "2023-01-13T20:21:05.307Z"
   },
   {
    "duration": 14,
    "start_time": "2023-01-13T20:21:05.321Z"
   },
   {
    "duration": 11,
    "start_time": "2023-01-13T20:21:05.337Z"
   },
   {
    "duration": 21,
    "start_time": "2023-01-13T20:21:05.350Z"
   },
   {
    "duration": 26,
    "start_time": "2023-01-13T20:21:05.373Z"
   },
   {
    "duration": 25,
    "start_time": "2023-01-13T20:21:05.403Z"
   },
   {
    "duration": 4,
    "start_time": "2023-01-13T20:21:05.430Z"
   },
   {
    "duration": 47,
    "start_time": "2023-01-13T20:21:05.438Z"
   },
   {
    "duration": 20,
    "start_time": "2023-01-13T20:21:05.487Z"
   },
   {
    "duration": 6,
    "start_time": "2023-01-13T20:21:05.509Z"
   },
   {
    "duration": 10,
    "start_time": "2023-01-13T20:21:05.516Z"
   },
   {
    "duration": 6,
    "start_time": "2023-01-13T20:21:05.528Z"
   },
   {
    "duration": 50,
    "start_time": "2023-01-13T20:21:05.536Z"
   },
   {
    "duration": 5,
    "start_time": "2023-01-13T20:21:05.588Z"
   },
   {
    "duration": 16,
    "start_time": "2023-01-13T20:21:05.594Z"
   },
   {
    "duration": 6,
    "start_time": "2023-01-13T20:21:05.612Z"
   },
   {
    "duration": 24,
    "start_time": "2023-01-13T20:21:05.621Z"
   },
   {
    "duration": 32,
    "start_time": "2023-01-13T20:21:05.647Z"
   },
   {
    "duration": 10,
    "start_time": "2023-01-13T20:21:05.682Z"
   },
   {
    "duration": 10,
    "start_time": "2023-01-13T20:21:05.694Z"
   },
   {
    "duration": 38,
    "start_time": "2023-01-13T20:21:05.706Z"
   },
   {
    "duration": 12,
    "start_time": "2023-01-13T20:21:05.746Z"
   },
   {
    "duration": 19,
    "start_time": "2023-01-13T20:21:05.760Z"
   },
   {
    "duration": 17,
    "start_time": "2023-01-13T20:21:05.782Z"
   },
   {
    "duration": 11,
    "start_time": "2023-01-13T20:21:05.801Z"
   },
   {
    "duration": 14,
    "start_time": "2023-01-13T20:21:05.814Z"
   },
   {
    "duration": 6,
    "start_time": "2023-01-13T20:21:05.830Z"
   },
   {
    "duration": 11,
    "start_time": "2023-01-13T20:21:05.838Z"
   },
   {
    "duration": 28,
    "start_time": "2023-01-13T20:21:05.850Z"
   },
   {
    "duration": 14,
    "start_time": "2023-01-13T20:21:05.880Z"
   },
   {
    "duration": 7,
    "start_time": "2023-01-13T20:21:05.895Z"
   },
   {
    "duration": 8,
    "start_time": "2023-01-13T20:21:05.905Z"
   },
   {
    "duration": 14,
    "start_time": "2023-01-13T20:21:05.915Z"
   },
   {
    "duration": 6,
    "start_time": "2023-01-13T20:21:05.933Z"
   },
   {
    "duration": 49,
    "start_time": "2023-01-13T20:21:05.940Z"
   },
   {
    "duration": 31,
    "start_time": "2023-01-13T20:21:05.991Z"
   },
   {
    "duration": 4,
    "start_time": "2023-01-13T20:21:06.024Z"
   },
   {
    "duration": 35,
    "start_time": "2023-01-13T20:21:06.029Z"
   },
   {
    "duration": 37,
    "start_time": "2023-01-13T20:21:06.066Z"
   },
   {
    "duration": 16,
    "start_time": "2023-01-13T20:21:06.105Z"
   },
   {
    "duration": 17,
    "start_time": "2023-01-13T20:21:06.123Z"
   },
   {
    "duration": 33,
    "start_time": "2023-01-13T20:21:06.142Z"
   },
   {
    "duration": 12,
    "start_time": "2023-01-13T20:21:06.177Z"
   },
   {
    "duration": 17,
    "start_time": "2023-01-13T20:21:06.191Z"
   },
   {
    "duration": 5,
    "start_time": "2023-01-13T20:21:06.211Z"
   },
   {
    "duration": 16,
    "start_time": "2023-01-13T20:21:06.219Z"
   },
   {
    "duration": 189,
    "start_time": "2023-01-13T20:21:06.236Z"
   },
   {
    "duration": 6,
    "start_time": "2023-01-13T20:21:06.427Z"
   },
   {
    "duration": 28,
    "start_time": "2023-01-13T20:21:06.435Z"
   },
   {
    "duration": 15,
    "start_time": "2023-01-13T20:21:06.466Z"
   },
   {
    "duration": 243,
    "start_time": "2023-01-13T20:21:06.483Z"
   },
   {
    "duration": 7,
    "start_time": "2023-01-13T20:21:06.728Z"
   },
   {
    "duration": 46,
    "start_time": "2023-01-13T20:21:06.738Z"
   },
   {
    "duration": 345,
    "start_time": "2023-01-13T20:21:06.786Z"
   },
   {
    "duration": 21,
    "start_time": "2023-01-13T20:21:07.132Z"
   },
   {
    "duration": 194,
    "start_time": "2023-01-13T20:21:07.155Z"
   },
   {
    "duration": 7,
    "start_time": "2023-01-13T20:21:07.351Z"
   },
   {
    "duration": 21,
    "start_time": "2023-01-13T20:21:07.360Z"
   },
   {
    "duration": 23,
    "start_time": "2023-01-13T20:21:07.383Z"
   },
   {
    "duration": 14,
    "start_time": "2023-01-13T20:21:07.408Z"
   },
   {
    "duration": 36,
    "start_time": "2023-01-13T20:21:07.424Z"
   },
   {
    "duration": 290,
    "start_time": "2023-01-13T20:21:07.468Z"
   },
   {
    "duration": 31,
    "start_time": "2023-01-13T20:21:07.760Z"
   },
   {
    "duration": 376,
    "start_time": "2023-01-13T20:21:07.792Z"
   },
   {
    "duration": 29,
    "start_time": "2023-01-13T20:21:08.170Z"
   },
   {
    "duration": 371,
    "start_time": "2023-01-13T20:21:08.201Z"
   },
   {
    "duration": 35,
    "start_time": "2023-01-13T20:21:08.574Z"
   },
   {
    "duration": 460,
    "start_time": "2023-01-13T20:21:08.611Z"
   },
   {
    "duration": 3,
    "start_time": "2023-01-13T20:31:23.720Z"
   },
   {
    "duration": 93,
    "start_time": "2023-01-13T20:31:23.724Z"
   },
   {
    "duration": 14,
    "start_time": "2023-01-13T20:31:23.818Z"
   },
   {
    "duration": 10,
    "start_time": "2023-01-13T20:31:23.833Z"
   },
   {
    "duration": 42,
    "start_time": "2023-01-13T20:31:23.846Z"
   },
   {
    "duration": 8,
    "start_time": "2023-01-13T20:31:23.891Z"
   },
   {
    "duration": 15,
    "start_time": "2023-01-13T20:31:23.901Z"
   },
   {
    "duration": 15,
    "start_time": "2023-01-13T20:31:23.918Z"
   },
   {
    "duration": 16,
    "start_time": "2023-01-13T20:31:23.935Z"
   },
   {
    "duration": 38,
    "start_time": "2023-01-13T20:31:23.953Z"
   },
   {
    "duration": 11,
    "start_time": "2023-01-13T20:31:23.993Z"
   },
   {
    "duration": 32,
    "start_time": "2023-01-13T20:31:24.006Z"
   },
   {
    "duration": 5,
    "start_time": "2023-01-13T20:31:24.042Z"
   },
   {
    "duration": 23,
    "start_time": "2023-01-13T20:31:24.049Z"
   },
   {
    "duration": 23,
    "start_time": "2023-01-13T20:31:24.074Z"
   },
   {
    "duration": 8,
    "start_time": "2023-01-13T20:31:24.099Z"
   },
   {
    "duration": 9,
    "start_time": "2023-01-13T20:31:24.109Z"
   },
   {
    "duration": 11,
    "start_time": "2023-01-13T20:31:24.119Z"
   },
   {
    "duration": 8,
    "start_time": "2023-01-13T20:31:24.132Z"
   },
   {
    "duration": 6,
    "start_time": "2023-01-13T20:31:24.142Z"
   },
   {
    "duration": 7,
    "start_time": "2023-01-13T20:31:24.150Z"
   },
   {
    "duration": 22,
    "start_time": "2023-01-13T20:31:24.158Z"
   },
   {
    "duration": 592,
    "start_time": "2023-01-13T20:31:27.024Z"
   },
   {
    "duration": 8,
    "start_time": "2023-01-13T20:31:48.385Z"
   },
   {
    "duration": 12,
    "start_time": "2023-01-13T20:31:53.680Z"
   },
   {
    "duration": 12,
    "start_time": "2023-01-13T20:31:53.695Z"
   },
   {
    "duration": 21,
    "start_time": "2023-01-13T20:31:53.710Z"
   },
   {
    "duration": 46,
    "start_time": "2023-01-13T20:31:53.735Z"
   },
   {
    "duration": 25,
    "start_time": "2023-01-13T20:31:53.783Z"
   },
   {
    "duration": 3,
    "start_time": "2023-01-13T20:31:53.811Z"
   },
   {
    "duration": 74,
    "start_time": "2023-01-13T20:31:53.816Z"
   },
   {
    "duration": 30,
    "start_time": "2023-01-13T20:31:53.893Z"
   },
   {
    "duration": 7,
    "start_time": "2023-01-13T20:31:53.926Z"
   },
   {
    "duration": 11,
    "start_time": "2023-01-13T20:31:53.978Z"
   },
   {
    "duration": 29,
    "start_time": "2023-01-13T20:31:53.991Z"
   },
   {
    "duration": 28,
    "start_time": "2023-01-13T20:31:54.023Z"
   },
   {
    "duration": 9,
    "start_time": "2023-01-13T20:31:54.054Z"
   },
   {
    "duration": 27,
    "start_time": "2023-01-13T20:31:54.065Z"
   },
   {
    "duration": 7,
    "start_time": "2023-01-13T20:31:54.095Z"
   },
   {
    "duration": 26,
    "start_time": "2023-01-13T20:31:54.104Z"
   },
   {
    "duration": 5,
    "start_time": "2023-01-13T20:31:54.132Z"
   },
   {
    "duration": 13,
    "start_time": "2023-01-13T20:31:54.139Z"
   },
   {
    "duration": 8,
    "start_time": "2023-01-13T20:31:54.154Z"
   },
   {
    "duration": 25,
    "start_time": "2023-01-13T20:31:54.164Z"
   },
   {
    "duration": 10,
    "start_time": "2023-01-13T20:31:54.192Z"
   },
   {
    "duration": 8,
    "start_time": "2023-01-13T20:31:54.204Z"
   },
   {
    "duration": 33,
    "start_time": "2023-01-13T20:31:54.213Z"
   },
   {
    "duration": 8,
    "start_time": "2023-01-13T20:31:54.251Z"
   },
   {
    "duration": 18,
    "start_time": "2023-01-13T20:31:54.261Z"
   },
   {
    "duration": 5,
    "start_time": "2023-01-13T20:31:54.282Z"
   },
   {
    "duration": 16,
    "start_time": "2023-01-13T20:31:54.288Z"
   },
   {
    "duration": 14,
    "start_time": "2023-01-13T20:31:54.306Z"
   },
   {
    "duration": 14,
    "start_time": "2023-01-13T20:31:54.322Z"
   },
   {
    "duration": 9,
    "start_time": "2023-01-13T20:31:54.338Z"
   },
   {
    "duration": 10,
    "start_time": "2023-01-13T20:31:54.348Z"
   },
   {
    "duration": 19,
    "start_time": "2023-01-13T20:31:54.360Z"
   },
   {
    "duration": 13,
    "start_time": "2023-01-13T20:31:54.380Z"
   },
   {
    "duration": 31,
    "start_time": "2023-01-13T20:31:54.395Z"
   },
   {
    "duration": 32,
    "start_time": "2023-01-13T20:31:54.428Z"
   },
   {
    "duration": 4,
    "start_time": "2023-01-13T20:31:54.462Z"
   },
   {
    "duration": 17,
    "start_time": "2023-01-13T20:31:54.479Z"
   },
   {
    "duration": 12,
    "start_time": "2023-01-13T20:31:54.497Z"
   },
   {
    "duration": 17,
    "start_time": "2023-01-13T20:31:54.511Z"
   },
   {
    "duration": 21,
    "start_time": "2023-01-13T20:31:54.530Z"
   },
   {
    "duration": 24,
    "start_time": "2023-01-13T20:31:54.554Z"
   },
   {
    "duration": 7,
    "start_time": "2023-01-13T20:31:54.580Z"
   },
   {
    "duration": 19,
    "start_time": "2023-01-13T20:31:54.588Z"
   },
   {
    "duration": 5,
    "start_time": "2023-01-13T20:31:54.609Z"
   },
   {
    "duration": 17,
    "start_time": "2023-01-13T20:31:54.616Z"
   },
   {
    "duration": 193,
    "start_time": "2023-01-13T20:31:54.635Z"
   },
   {
    "duration": 7,
    "start_time": "2023-01-13T20:31:54.829Z"
   },
   {
    "duration": 31,
    "start_time": "2023-01-13T20:31:54.838Z"
   },
   {
    "duration": 3,
    "start_time": "2023-01-13T20:31:54.878Z"
   },
   {
    "duration": 201,
    "start_time": "2023-01-13T20:31:54.883Z"
   },
   {
    "duration": 7,
    "start_time": "2023-01-13T20:31:55.086Z"
   },
   {
    "duration": 29,
    "start_time": "2023-01-13T20:31:55.094Z"
   },
   {
    "duration": 318,
    "start_time": "2023-01-13T20:31:55.126Z"
   },
   {
    "duration": 34,
    "start_time": "2023-01-13T20:31:55.445Z"
   },
   {
    "duration": 168,
    "start_time": "2023-01-13T20:31:55.481Z"
   },
   {
    "duration": 7,
    "start_time": "2023-01-13T20:31:55.651Z"
   },
   {
    "duration": 9,
    "start_time": "2023-01-13T20:31:55.660Z"
   },
   {
    "duration": 9,
    "start_time": "2023-01-13T20:31:55.680Z"
   },
   {
    "duration": 17,
    "start_time": "2023-01-13T20:31:55.691Z"
   },
   {
    "duration": 41,
    "start_time": "2023-01-13T20:31:55.711Z"
   },
   {
    "duration": 269,
    "start_time": "2023-01-13T20:31:55.754Z"
   },
   {
    "duration": 24,
    "start_time": "2023-01-13T20:31:56.024Z"
   },
   {
    "duration": 328,
    "start_time": "2023-01-13T20:31:56.050Z"
   },
   {
    "duration": 28,
    "start_time": "2023-01-13T20:31:56.379Z"
   },
   {
    "duration": 339,
    "start_time": "2023-01-13T20:31:56.409Z"
   },
   {
    "duration": 34,
    "start_time": "2023-01-13T20:31:56.749Z"
   },
   {
    "duration": 310,
    "start_time": "2023-01-13T20:31:56.784Z"
   },
   {
    "duration": 4,
    "start_time": "2023-01-13T20:37:55.043Z"
   },
   {
    "duration": 393,
    "start_time": "2023-01-13T20:39:41.711Z"
   },
   {
    "duration": 3,
    "start_time": "2023-01-13T20:40:03.003Z"
   },
   {
    "duration": 88,
    "start_time": "2023-01-13T20:40:03.007Z"
   },
   {
    "duration": 15,
    "start_time": "2023-01-13T20:40:03.098Z"
   },
   {
    "duration": 19,
    "start_time": "2023-01-13T20:40:03.115Z"
   },
   {
    "duration": 49,
    "start_time": "2023-01-13T20:40:03.136Z"
   },
   {
    "duration": 7,
    "start_time": "2023-01-13T20:40:03.187Z"
   },
   {
    "duration": 18,
    "start_time": "2023-01-13T20:40:03.195Z"
   },
   {
    "duration": 34,
    "start_time": "2023-01-13T20:40:03.214Z"
   },
   {
    "duration": 23,
    "start_time": "2023-01-13T20:40:03.249Z"
   },
   {
    "duration": 12,
    "start_time": "2023-01-13T20:40:03.274Z"
   },
   {
    "duration": 9,
    "start_time": "2023-01-13T20:40:03.288Z"
   },
   {
    "duration": 29,
    "start_time": "2023-01-13T20:40:03.299Z"
   },
   {
    "duration": 6,
    "start_time": "2023-01-13T20:40:03.330Z"
   },
   {
    "duration": 18,
    "start_time": "2023-01-13T20:40:03.337Z"
   },
   {
    "duration": 32,
    "start_time": "2023-01-13T20:40:03.356Z"
   },
   {
    "duration": 9,
    "start_time": "2023-01-13T20:40:03.390Z"
   },
   {
    "duration": 11,
    "start_time": "2023-01-13T20:40:03.401Z"
   },
   {
    "duration": 10,
    "start_time": "2023-01-13T20:40:03.413Z"
   },
   {
    "duration": 9,
    "start_time": "2023-01-13T20:40:03.424Z"
   },
   {
    "duration": 10,
    "start_time": "2023-01-13T20:40:03.434Z"
   },
   {
    "duration": 8,
    "start_time": "2023-01-13T20:40:03.446Z"
   },
   {
    "duration": 10,
    "start_time": "2023-01-13T20:40:03.455Z"
   },
   {
    "duration": 7,
    "start_time": "2023-01-13T20:40:03.478Z"
   },
   {
    "duration": 8,
    "start_time": "2023-01-13T20:40:03.487Z"
   },
   {
    "duration": 17,
    "start_time": "2023-01-13T20:40:03.496Z"
   },
   {
    "duration": 20,
    "start_time": "2023-01-13T20:40:03.514Z"
   },
   {
    "duration": 3,
    "start_time": "2023-01-13T20:40:03.536Z"
   },
   {
    "duration": 51,
    "start_time": "2023-01-13T20:40:03.541Z"
   },
   {
    "duration": 19,
    "start_time": "2023-01-13T20:40:03.596Z"
   },
   {
    "duration": 5,
    "start_time": "2023-01-13T20:40:03.617Z"
   },
   {
    "duration": 24,
    "start_time": "2023-01-13T20:40:03.623Z"
   },
   {
    "duration": 16,
    "start_time": "2023-01-13T20:40:03.649Z"
   },
   {
    "duration": 14,
    "start_time": "2023-01-13T20:40:03.667Z"
   },
   {
    "duration": 5,
    "start_time": "2023-01-13T20:40:03.683Z"
   },
   {
    "duration": 21,
    "start_time": "2023-01-13T20:40:03.690Z"
   },
   {
    "duration": 6,
    "start_time": "2023-01-13T20:40:03.713Z"
   },
   {
    "duration": 15,
    "start_time": "2023-01-13T20:40:03.720Z"
   },
   {
    "duration": 4,
    "start_time": "2023-01-13T20:40:03.737Z"
   },
   {
    "duration": 35,
    "start_time": "2023-01-13T20:40:03.743Z"
   },
   {
    "duration": 5,
    "start_time": "2023-01-13T20:40:03.780Z"
   },
   {
    "duration": 20,
    "start_time": "2023-01-13T20:40:03.787Z"
   },
   {
    "duration": 16,
    "start_time": "2023-01-13T20:40:03.809Z"
   },
   {
    "duration": 6,
    "start_time": "2023-01-13T20:40:03.827Z"
   },
   {
    "duration": 14,
    "start_time": "2023-01-13T20:40:03.835Z"
   },
   {
    "duration": 9,
    "start_time": "2023-01-13T20:40:03.850Z"
   },
   {
    "duration": 25,
    "start_time": "2023-01-13T20:40:03.861Z"
   },
   {
    "duration": 11,
    "start_time": "2023-01-13T20:40:03.888Z"
   },
   {
    "duration": 12,
    "start_time": "2023-01-13T20:40:03.901Z"
   },
   {
    "duration": 39,
    "start_time": "2023-01-13T20:40:03.916Z"
   },
   {
    "duration": 14,
    "start_time": "2023-01-13T20:40:03.957Z"
   },
   {
    "duration": 12,
    "start_time": "2023-01-13T20:40:03.973Z"
   },
   {
    "duration": 13,
    "start_time": "2023-01-13T20:40:03.987Z"
   },
   {
    "duration": 17,
    "start_time": "2023-01-13T20:40:04.002Z"
   },
   {
    "duration": 11,
    "start_time": "2023-01-13T20:40:04.021Z"
   },
   {
    "duration": 37,
    "start_time": "2023-01-13T20:40:04.034Z"
   },
   {
    "duration": 27,
    "start_time": "2023-01-13T20:40:04.073Z"
   },
   {
    "duration": 4,
    "start_time": "2023-01-13T20:40:04.101Z"
   },
   {
    "duration": 24,
    "start_time": "2023-01-13T20:40:04.106Z"
   },
   {
    "duration": 14,
    "start_time": "2023-01-13T20:40:04.132Z"
   },
   {
    "duration": 21,
    "start_time": "2023-01-13T20:40:04.147Z"
   },
   {
    "duration": 17,
    "start_time": "2023-01-13T20:40:04.170Z"
   },
   {
    "duration": 10,
    "start_time": "2023-01-13T20:40:04.188Z"
   },
   {
    "duration": 14,
    "start_time": "2023-01-13T20:40:04.199Z"
   },
   {
    "duration": 19,
    "start_time": "2023-01-13T20:40:04.215Z"
   },
   {
    "duration": 4,
    "start_time": "2023-01-13T20:40:04.236Z"
   },
   {
    "duration": 19,
    "start_time": "2023-01-13T20:40:04.242Z"
   },
   {
    "duration": 145,
    "start_time": "2023-01-13T20:40:04.262Z"
   },
   {
    "duration": 5,
    "start_time": "2023-01-13T20:40:04.409Z"
   },
   {
    "duration": 28,
    "start_time": "2023-01-13T20:40:04.416Z"
   },
   {
    "duration": 3,
    "start_time": "2023-01-13T20:40:04.445Z"
   },
   {
    "duration": 181,
    "start_time": "2023-01-13T20:40:04.450Z"
   },
   {
    "duration": 5,
    "start_time": "2023-01-13T20:40:04.633Z"
   },
   {
    "duration": 38,
    "start_time": "2023-01-13T20:40:04.640Z"
   },
   {
    "duration": 305,
    "start_time": "2023-01-13T20:40:04.680Z"
   },
   {
    "duration": 23,
    "start_time": "2023-01-13T20:40:04.987Z"
   },
   {
    "duration": 174,
    "start_time": "2023-01-13T20:40:05.012Z"
   },
   {
    "duration": 5,
    "start_time": "2023-01-13T20:40:05.188Z"
   },
   {
    "duration": 9,
    "start_time": "2023-01-13T20:40:05.195Z"
   },
   {
    "duration": 10,
    "start_time": "2023-01-13T20:40:05.206Z"
   },
   {
    "duration": 8,
    "start_time": "2023-01-13T20:40:05.218Z"
   },
   {
    "duration": 31,
    "start_time": "2023-01-13T20:40:05.228Z"
   },
   {
    "duration": 255,
    "start_time": "2023-01-13T20:40:05.261Z"
   },
   {
    "duration": 22,
    "start_time": "2023-01-13T20:40:05.521Z"
   },
   {
    "duration": 328,
    "start_time": "2023-01-13T20:40:05.545Z"
   },
   {
    "duration": 26,
    "start_time": "2023-01-13T20:40:05.877Z"
   },
   {
    "duration": 322,
    "start_time": "2023-01-13T20:40:05.904Z"
   },
   {
    "duration": 29,
    "start_time": "2023-01-13T20:40:06.228Z"
   },
   {
    "duration": 331,
    "start_time": "2023-01-13T20:40:06.259Z"
   },
   {
    "duration": 401,
    "start_time": "2023-01-15T05:53:04.600Z"
   },
   {
    "duration": 197,
    "start_time": "2023-01-15T05:53:05.002Z"
   },
   {
    "duration": 21,
    "start_time": "2023-01-15T05:53:05.201Z"
   },
   {
    "duration": 5,
    "start_time": "2023-01-15T05:53:05.224Z"
   },
   {
    "duration": 72,
    "start_time": "2023-01-15T05:53:05.231Z"
   },
   {
    "duration": 8,
    "start_time": "2023-01-15T05:53:05.305Z"
   },
   {
    "duration": 10,
    "start_time": "2023-01-15T05:53:05.315Z"
   },
   {
    "duration": 9,
    "start_time": "2023-01-15T05:53:05.327Z"
   },
   {
    "duration": 8,
    "start_time": "2023-01-15T05:53:05.338Z"
   },
   {
    "duration": 9,
    "start_time": "2023-01-15T05:53:05.349Z"
   },
   {
    "duration": 8,
    "start_time": "2023-01-15T05:53:05.359Z"
   },
   {
    "duration": 16,
    "start_time": "2023-01-15T05:53:05.369Z"
   },
   {
    "duration": 3,
    "start_time": "2023-01-15T05:53:05.387Z"
   },
   {
    "duration": 21,
    "start_time": "2023-01-15T05:53:05.392Z"
   },
   {
    "duration": 17,
    "start_time": "2023-01-15T05:53:05.415Z"
   },
   {
    "duration": 8,
    "start_time": "2023-01-15T05:53:05.434Z"
   },
   {
    "duration": 8,
    "start_time": "2023-01-15T05:53:05.444Z"
   },
   {
    "duration": 26,
    "start_time": "2023-01-15T05:53:05.454Z"
   },
   {
    "duration": 11,
    "start_time": "2023-01-15T05:53:05.482Z"
   },
   {
    "duration": 7,
    "start_time": "2023-01-15T05:53:05.494Z"
   },
   {
    "duration": 8,
    "start_time": "2023-01-15T05:53:05.502Z"
   },
   {
    "duration": 5,
    "start_time": "2023-01-15T05:53:05.511Z"
   },
   {
    "duration": 10,
    "start_time": "2023-01-15T05:53:05.518Z"
   },
   {
    "duration": 6,
    "start_time": "2023-01-15T05:53:05.529Z"
   },
   {
    "duration": 17,
    "start_time": "2023-01-15T05:53:05.536Z"
   },
   {
    "duration": 41,
    "start_time": "2023-01-15T05:53:05.555Z"
   },
   {
    "duration": 4,
    "start_time": "2023-01-15T05:53:05.597Z"
   },
   {
    "duration": 28,
    "start_time": "2023-01-15T05:53:05.605Z"
   },
   {
    "duration": 20,
    "start_time": "2023-01-15T05:53:05.635Z"
   },
   {
    "duration": 5,
    "start_time": "2023-01-15T05:53:05.678Z"
   },
   {
    "duration": 11,
    "start_time": "2023-01-15T05:53:05.684Z"
   },
   {
    "duration": 5,
    "start_time": "2023-01-15T05:53:05.697Z"
   },
   {
    "duration": 9,
    "start_time": "2023-01-15T05:53:05.704Z"
   },
   {
    "duration": 6,
    "start_time": "2023-01-15T05:53:05.715Z"
   },
   {
    "duration": 20,
    "start_time": "2023-01-15T05:53:05.722Z"
   },
   {
    "duration": 16,
    "start_time": "2023-01-15T05:53:05.744Z"
   },
   {
    "duration": 14,
    "start_time": "2023-01-15T05:53:05.778Z"
   },
   {
    "duration": 33,
    "start_time": "2023-01-15T05:53:05.793Z"
   },
   {
    "duration": 25,
    "start_time": "2023-01-15T05:53:05.828Z"
   },
   {
    "duration": 16,
    "start_time": "2023-01-15T05:53:05.855Z"
   },
   {
    "duration": 19,
    "start_time": "2023-01-15T05:53:05.873Z"
   },
   {
    "duration": 20,
    "start_time": "2023-01-15T05:53:05.894Z"
   },
   {
    "duration": 7,
    "start_time": "2023-01-15T05:53:05.916Z"
   },
   {
    "duration": 14,
    "start_time": "2023-01-15T05:53:05.925Z"
   },
   {
    "duration": 5,
    "start_time": "2023-01-15T05:53:05.941Z"
   },
   {
    "duration": 12,
    "start_time": "2023-01-15T05:53:05.948Z"
   },
   {
    "duration": 17,
    "start_time": "2023-01-15T05:53:05.961Z"
   },
   {
    "duration": 9,
    "start_time": "2023-01-15T05:53:05.980Z"
   },
   {
    "duration": 7,
    "start_time": "2023-01-15T05:53:05.991Z"
   },
   {
    "duration": 12,
    "start_time": "2023-01-15T05:53:06.000Z"
   },
   {
    "duration": 6,
    "start_time": "2023-01-15T05:53:06.014Z"
   },
   {
    "duration": 5,
    "start_time": "2023-01-15T05:53:06.021Z"
   },
   {
    "duration": 23,
    "start_time": "2023-01-15T05:53:06.028Z"
   },
   {
    "duration": 7,
    "start_time": "2023-01-15T05:53:06.053Z"
   },
   {
    "duration": 39,
    "start_time": "2023-01-15T05:53:06.062Z"
   },
   {
    "duration": 30,
    "start_time": "2023-01-15T05:53:06.103Z"
   },
   {
    "duration": 5,
    "start_time": "2023-01-15T05:53:06.135Z"
   },
   {
    "duration": 40,
    "start_time": "2023-01-15T05:53:06.141Z"
   },
   {
    "duration": 8,
    "start_time": "2023-01-15T05:53:06.182Z"
   },
   {
    "duration": 19,
    "start_time": "2023-01-15T05:53:06.192Z"
   },
   {
    "duration": 17,
    "start_time": "2023-01-15T05:53:06.212Z"
   },
   {
    "duration": 21,
    "start_time": "2023-01-15T05:53:06.230Z"
   },
   {
    "duration": 7,
    "start_time": "2023-01-15T05:53:06.253Z"
   },
   {
    "duration": 18,
    "start_time": "2023-01-15T05:53:06.262Z"
   },
   {
    "duration": 5,
    "start_time": "2023-01-15T05:53:06.282Z"
   },
   {
    "duration": 15,
    "start_time": "2023-01-15T05:53:06.289Z"
   },
   {
    "duration": 560,
    "start_time": "2023-01-15T05:53:06.305Z"
   },
   {
    "duration": 12,
    "start_time": "2023-01-15T05:53:06.867Z"
   },
   {
    "duration": 23,
    "start_time": "2023-01-15T05:53:06.880Z"
   },
   {
    "duration": 3,
    "start_time": "2023-01-15T05:53:06.905Z"
   },
   {
    "duration": 189,
    "start_time": "2023-01-15T05:53:06.909Z"
   },
   {
    "duration": 6,
    "start_time": "2023-01-15T05:53:07.100Z"
   },
   {
    "duration": 33,
    "start_time": "2023-01-15T05:53:07.108Z"
   },
   {
    "duration": 334,
    "start_time": "2023-01-15T05:53:07.143Z"
   },
   {
    "duration": 21,
    "start_time": "2023-01-15T05:53:07.479Z"
   },
   {
    "duration": 167,
    "start_time": "2023-01-15T05:53:07.501Z"
   },
   {
    "duration": 12,
    "start_time": "2023-01-15T05:53:07.670Z"
   },
   {
    "duration": 8,
    "start_time": "2023-01-15T05:53:07.684Z"
   },
   {
    "duration": 6,
    "start_time": "2023-01-15T05:53:07.694Z"
   },
   {
    "duration": 5,
    "start_time": "2023-01-15T05:53:07.702Z"
   },
   {
    "duration": 25,
    "start_time": "2023-01-15T05:53:07.709Z"
   },
   {
    "duration": 356,
    "start_time": "2023-01-15T05:53:07.740Z"
   },
   {
    "duration": 23,
    "start_time": "2023-01-15T05:53:08.098Z"
   },
   {
    "duration": 369,
    "start_time": "2023-01-15T05:53:08.123Z"
   },
   {
    "duration": 28,
    "start_time": "2023-01-15T05:53:08.494Z"
   },
   {
    "duration": 321,
    "start_time": "2023-01-15T05:53:08.524Z"
   },
   {
    "duration": 45,
    "start_time": "2023-01-15T05:53:08.848Z"
   },
   {
    "duration": 320,
    "start_time": "2023-01-15T05:53:08.894Z"
   },
   {
    "duration": 438,
    "start_time": "2023-01-15T05:54:03.554Z"
   },
   {
    "duration": 85,
    "start_time": "2023-01-15T05:54:03.994Z"
   },
   {
    "duration": 22,
    "start_time": "2023-01-15T05:54:04.081Z"
   },
   {
    "duration": 5,
    "start_time": "2023-01-15T05:54:04.105Z"
   },
   {
    "duration": 48,
    "start_time": "2023-01-15T05:54:04.112Z"
   },
   {
    "duration": 9,
    "start_time": "2023-01-15T05:54:04.162Z"
   },
   {
    "duration": 8,
    "start_time": "2023-01-15T05:54:04.172Z"
   },
   {
    "duration": 24,
    "start_time": "2023-01-15T05:54:04.182Z"
   },
   {
    "duration": 10,
    "start_time": "2023-01-15T05:54:04.208Z"
   },
   {
    "duration": 7,
    "start_time": "2023-01-15T05:54:04.219Z"
   },
   {
    "duration": 10,
    "start_time": "2023-01-15T05:54:04.228Z"
   },
   {
    "duration": 17,
    "start_time": "2023-01-15T05:54:04.239Z"
   },
   {
    "duration": 4,
    "start_time": "2023-01-15T05:54:04.257Z"
   },
   {
    "duration": 22,
    "start_time": "2023-01-15T05:54:04.264Z"
   },
   {
    "duration": 18,
    "start_time": "2023-01-15T05:54:04.287Z"
   },
   {
    "duration": 6,
    "start_time": "2023-01-15T05:54:04.306Z"
   },
   {
    "duration": 7,
    "start_time": "2023-01-15T05:54:04.313Z"
   },
   {
    "duration": 5,
    "start_time": "2023-01-15T05:54:04.322Z"
   },
   {
    "duration": 7,
    "start_time": "2023-01-15T05:54:04.329Z"
   },
   {
    "duration": 6,
    "start_time": "2023-01-15T05:54:04.338Z"
   },
   {
    "duration": 35,
    "start_time": "2023-01-15T05:54:04.345Z"
   },
   {
    "duration": 4,
    "start_time": "2023-01-15T05:54:04.381Z"
   },
   {
    "duration": 9,
    "start_time": "2023-01-15T05:54:04.387Z"
   },
   {
    "duration": 5,
    "start_time": "2023-01-15T05:54:04.398Z"
   },
   {
    "duration": 14,
    "start_time": "2023-01-15T05:54:04.404Z"
   },
   {
    "duration": 19,
    "start_time": "2023-01-15T05:54:04.420Z"
   },
   {
    "duration": 3,
    "start_time": "2023-01-15T05:54:04.441Z"
   },
   {
    "duration": 60,
    "start_time": "2023-01-15T05:54:04.445Z"
   },
   {
    "duration": 20,
    "start_time": "2023-01-15T05:54:04.507Z"
   },
   {
    "duration": 5,
    "start_time": "2023-01-15T05:54:04.528Z"
   },
   {
    "duration": 11,
    "start_time": "2023-01-15T05:54:04.534Z"
   },
   {
    "duration": 32,
    "start_time": "2023-01-15T05:54:04.546Z"
   },
   {
    "duration": 9,
    "start_time": "2023-01-15T05:54:04.579Z"
   },
   {
    "duration": 5,
    "start_time": "2023-01-15T05:54:04.590Z"
   },
   {
    "duration": 14,
    "start_time": "2023-01-15T05:54:04.596Z"
   },
   {
    "duration": 5,
    "start_time": "2023-01-15T05:54:04.612Z"
   },
   {
    "duration": 14,
    "start_time": "2023-01-15T05:54:04.618Z"
   },
   {
    "duration": 4,
    "start_time": "2023-01-15T05:54:04.634Z"
   },
   {
    "duration": 42,
    "start_time": "2023-01-15T05:54:04.639Z"
   },
   {
    "duration": 6,
    "start_time": "2023-01-15T05:54:04.683Z"
   },
   {
    "duration": 14,
    "start_time": "2023-01-15T05:54:04.693Z"
   },
   {
    "duration": 12,
    "start_time": "2023-01-15T05:54:04.709Z"
   },
   {
    "duration": 4,
    "start_time": "2023-01-15T05:54:04.723Z"
   },
   {
    "duration": 10,
    "start_time": "2023-01-15T05:54:04.729Z"
   },
   {
    "duration": 6,
    "start_time": "2023-01-15T05:54:04.740Z"
   },
   {
    "duration": 11,
    "start_time": "2023-01-15T05:54:04.777Z"
   },
   {
    "duration": 10,
    "start_time": "2023-01-15T05:54:04.789Z"
   },
   {
    "duration": 11,
    "start_time": "2023-01-15T05:54:04.801Z"
   },
   {
    "duration": 6,
    "start_time": "2023-01-15T05:54:04.813Z"
   },
   {
    "duration": 12,
    "start_time": "2023-01-15T05:54:04.821Z"
   },
   {
    "duration": 6,
    "start_time": "2023-01-15T05:54:04.834Z"
   },
   {
    "duration": 7,
    "start_time": "2023-01-15T05:54:04.841Z"
   },
   {
    "duration": 32,
    "start_time": "2023-01-15T05:54:04.849Z"
   },
   {
    "duration": 5,
    "start_time": "2023-01-15T05:54:04.882Z"
   },
   {
    "duration": 29,
    "start_time": "2023-01-15T05:54:04.888Z"
   },
   {
    "duration": 30,
    "start_time": "2023-01-15T05:54:04.918Z"
   },
   {
    "duration": 4,
    "start_time": "2023-01-15T05:54:04.950Z"
   },
   {
    "duration": 38,
    "start_time": "2023-01-15T05:54:04.955Z"
   },
   {
    "duration": 6,
    "start_time": "2023-01-15T05:54:04.995Z"
   },
   {
    "duration": 15,
    "start_time": "2023-01-15T05:54:05.002Z"
   },
   {
    "duration": 17,
    "start_time": "2023-01-15T05:54:05.018Z"
   },
   {
    "duration": 12,
    "start_time": "2023-01-15T05:54:05.037Z"
   },
   {
    "duration": 30,
    "start_time": "2023-01-15T05:54:05.050Z"
   },
   {
    "duration": 23,
    "start_time": "2023-01-15T05:54:05.082Z"
   },
   {
    "duration": 5,
    "start_time": "2023-01-15T05:54:05.108Z"
   },
   {
    "duration": 16,
    "start_time": "2023-01-15T05:54:05.115Z"
   },
   {
    "duration": 415,
    "start_time": "2023-01-15T05:54:05.132Z"
   },
   {
    "duration": 5,
    "start_time": "2023-01-15T05:54:05.549Z"
   },
   {
    "duration": 34,
    "start_time": "2023-01-15T05:54:05.556Z"
   },
   {
    "duration": 3,
    "start_time": "2023-01-15T05:54:05.592Z"
   },
   {
    "duration": 184,
    "start_time": "2023-01-15T05:54:05.596Z"
   },
   {
    "duration": 5,
    "start_time": "2023-01-15T05:54:05.782Z"
   },
   {
    "duration": 24,
    "start_time": "2023-01-15T05:54:05.789Z"
   },
   {
    "duration": 337,
    "start_time": "2023-01-15T05:54:05.815Z"
   },
   {
    "duration": 23,
    "start_time": "2023-01-15T05:54:06.154Z"
   },
   {
    "duration": 163,
    "start_time": "2023-01-15T05:54:06.180Z"
   },
   {
    "duration": 6,
    "start_time": "2023-01-15T05:54:06.345Z"
   },
   {
    "duration": 6,
    "start_time": "2023-01-15T05:54:06.353Z"
   },
   {
    "duration": 5,
    "start_time": "2023-01-15T05:54:06.378Z"
   },
   {
    "duration": 8,
    "start_time": "2023-01-15T05:54:06.385Z"
   },
   {
    "duration": 32,
    "start_time": "2023-01-15T05:54:06.395Z"
   },
   {
    "duration": 357,
    "start_time": "2023-01-15T05:54:06.429Z"
   },
   {
    "duration": 23,
    "start_time": "2023-01-15T05:54:06.788Z"
   },
   {
    "duration": 324,
    "start_time": "2023-01-15T05:54:06.813Z"
   },
   {
    "duration": 40,
    "start_time": "2023-01-15T05:54:07.139Z"
   },
   {
    "duration": 377,
    "start_time": "2023-01-15T05:54:07.181Z"
   },
   {
    "duration": 33,
    "start_time": "2023-01-15T05:54:07.560Z"
   },
   {
    "duration": 436,
    "start_time": "2023-01-15T05:54:07.594Z"
   },
   {
    "duration": 12,
    "start_time": "2023-01-15T06:00:19.283Z"
   },
   {
    "duration": 4,
    "start_time": "2023-01-15T06:02:44.724Z"
   },
   {
    "duration": 5,
    "start_time": "2023-01-15T06:02:53.342Z"
   },
   {
    "duration": 47,
    "start_time": "2023-01-15T10:05:30.574Z"
   },
   {
    "duration": 397,
    "start_time": "2023-01-15T10:05:35.572Z"
   },
   {
    "duration": 213,
    "start_time": "2023-01-15T10:05:35.971Z"
   },
   {
    "duration": 32,
    "start_time": "2023-01-15T10:05:36.185Z"
   },
   {
    "duration": 7,
    "start_time": "2023-01-15T10:05:36.219Z"
   },
   {
    "duration": 88,
    "start_time": "2023-01-15T10:05:36.229Z"
   },
   {
    "duration": 2,
    "start_time": "2023-01-15T10:05:36.320Z"
   },
   {
    "duration": 13,
    "start_time": "2023-01-15T10:05:36.324Z"
   },
   {
    "duration": 9,
    "start_time": "2023-01-15T10:05:36.339Z"
   },
   {
    "duration": 21,
    "start_time": "2023-01-15T10:05:36.350Z"
   },
   {
    "duration": 17,
    "start_time": "2023-01-15T10:05:36.374Z"
   },
   {
    "duration": 8,
    "start_time": "2023-01-15T10:05:36.393Z"
   },
   {
    "duration": 23,
    "start_time": "2023-01-15T10:05:36.403Z"
   },
   {
    "duration": 17,
    "start_time": "2023-01-15T10:05:36.428Z"
   },
   {
    "duration": 6,
    "start_time": "2023-01-15T10:05:36.448Z"
   },
   {
    "duration": 34,
    "start_time": "2023-01-15T10:05:36.459Z"
   },
   {
    "duration": 15,
    "start_time": "2023-01-15T10:05:36.495Z"
   },
   {
    "duration": 6,
    "start_time": "2023-01-15T10:05:36.512Z"
   },
   {
    "duration": 7,
    "start_time": "2023-01-15T10:05:36.520Z"
   },
   {
    "duration": 16,
    "start_time": "2023-01-15T10:05:36.528Z"
   },
   {
    "duration": 6,
    "start_time": "2023-01-15T10:05:36.546Z"
   },
   {
    "duration": 5,
    "start_time": "2023-01-15T10:05:36.554Z"
   },
   {
    "duration": 7,
    "start_time": "2023-01-15T10:05:36.561Z"
   },
   {
    "duration": 6,
    "start_time": "2023-01-15T10:05:36.570Z"
   },
   {
    "duration": 8,
    "start_time": "2023-01-15T10:05:36.578Z"
   },
   {
    "duration": 7,
    "start_time": "2023-01-15T10:05:36.588Z"
   },
   {
    "duration": 25,
    "start_time": "2023-01-15T10:05:36.596Z"
   },
   {
    "duration": 22,
    "start_time": "2023-01-15T10:05:36.623Z"
   },
   {
    "duration": 4,
    "start_time": "2023-01-15T10:05:36.646Z"
   },
   {
    "duration": 34,
    "start_time": "2023-01-15T10:05:36.652Z"
   },
   {
    "duration": 40,
    "start_time": "2023-01-15T10:05:36.687Z"
   },
   {
    "duration": 6,
    "start_time": "2023-01-15T10:05:36.729Z"
   },
   {
    "duration": 10,
    "start_time": "2023-01-15T10:05:36.736Z"
   },
   {
    "duration": 6,
    "start_time": "2023-01-15T10:05:36.747Z"
   },
   {
    "duration": 12,
    "start_time": "2023-01-15T10:05:36.754Z"
   },
   {
    "duration": 5,
    "start_time": "2023-01-15T10:05:36.767Z"
   },
   {
    "duration": 44,
    "start_time": "2023-01-15T10:05:36.774Z"
   },
   {
    "duration": 6,
    "start_time": "2023-01-15T10:05:36.819Z"
   },
   {
    "duration": 20,
    "start_time": "2023-01-15T10:05:36.827Z"
   },
   {
    "duration": 4,
    "start_time": "2023-01-15T10:05:36.850Z"
   },
   {
    "duration": 7,
    "start_time": "2023-01-15T10:05:36.855Z"
   },
   {
    "duration": 4,
    "start_time": "2023-01-15T10:05:36.866Z"
   },
   {
    "duration": 47,
    "start_time": "2023-01-15T10:05:36.872Z"
   },
   {
    "duration": 11,
    "start_time": "2023-01-15T10:05:36.920Z"
   },
   {
    "duration": 5,
    "start_time": "2023-01-15T10:05:36.933Z"
   },
   {
    "duration": 8,
    "start_time": "2023-01-15T10:05:36.940Z"
   },
   {
    "duration": 6,
    "start_time": "2023-01-15T10:05:36.949Z"
   },
   {
    "duration": 13,
    "start_time": "2023-01-15T10:05:36.956Z"
   },
   {
    "duration": 4,
    "start_time": "2023-01-15T10:05:36.970Z"
   },
   {
    "duration": 42,
    "start_time": "2023-01-15T10:05:36.976Z"
   },
   {
    "duration": 5,
    "start_time": "2023-01-15T10:05:37.019Z"
   },
   {
    "duration": 10,
    "start_time": "2023-01-15T10:05:37.025Z"
   },
   {
    "duration": 6,
    "start_time": "2023-01-15T10:05:37.036Z"
   },
   {
    "duration": 5,
    "start_time": "2023-01-15T10:05:37.044Z"
   },
   {
    "duration": 10,
    "start_time": "2023-01-15T10:05:37.051Z"
   },
   {
    "duration": 5,
    "start_time": "2023-01-15T10:05:37.064Z"
   },
   {
    "duration": 69,
    "start_time": "2023-01-15T10:05:37.071Z"
   },
   {
    "duration": 34,
    "start_time": "2023-01-15T10:05:37.142Z"
   },
   {
    "duration": 3,
    "start_time": "2023-01-15T10:05:37.178Z"
   },
   {
    "duration": 36,
    "start_time": "2023-01-15T10:05:37.183Z"
   },
   {
    "duration": 4,
    "start_time": "2023-01-15T10:05:37.221Z"
   },
   {
    "duration": 12,
    "start_time": "2023-01-15T10:05:37.227Z"
   },
   {
    "duration": 14,
    "start_time": "2023-01-15T10:05:37.240Z"
   },
   {
    "duration": 6,
    "start_time": "2023-01-15T10:05:37.256Z"
   },
   {
    "duration": 7,
    "start_time": "2023-01-15T10:05:37.263Z"
   },
   {
    "duration": 15,
    "start_time": "2023-01-15T10:05:37.272Z"
   },
   {
    "duration": 29,
    "start_time": "2023-01-15T10:05:37.289Z"
   },
   {
    "duration": 15,
    "start_time": "2023-01-15T10:05:37.319Z"
   },
   {
    "duration": 516,
    "start_time": "2023-01-15T10:05:37.335Z"
   },
   {
    "duration": 5,
    "start_time": "2023-01-15T10:05:37.853Z"
   },
   {
    "duration": 36,
    "start_time": "2023-01-15T10:05:37.859Z"
   },
   {
    "duration": 3,
    "start_time": "2023-01-15T10:05:37.897Z"
   },
   {
    "duration": 184,
    "start_time": "2023-01-15T10:05:37.901Z"
   },
   {
    "duration": 6,
    "start_time": "2023-01-15T10:05:38.087Z"
   },
   {
    "duration": 31,
    "start_time": "2023-01-15T10:05:38.094Z"
   },
   {
    "duration": 333,
    "start_time": "2023-01-15T10:05:38.127Z"
   },
   {
    "duration": 21,
    "start_time": "2023-01-15T10:05:38.462Z"
   },
   {
    "duration": 207,
    "start_time": "2023-01-15T10:05:38.484Z"
   },
   {
    "duration": 5,
    "start_time": "2023-01-15T10:05:38.692Z"
   },
   {
    "duration": 9,
    "start_time": "2023-01-15T10:05:38.699Z"
   },
   {
    "duration": 6,
    "start_time": "2023-01-15T10:05:38.710Z"
   },
   {
    "duration": 11,
    "start_time": "2023-01-15T10:05:38.717Z"
   },
   {
    "duration": 23,
    "start_time": "2023-01-15T10:05:38.730Z"
   },
   {
    "duration": 263,
    "start_time": "2023-01-15T10:05:38.755Z"
   },
   {
    "duration": 19,
    "start_time": "2023-01-15T10:05:39.020Z"
   },
   {
    "duration": 302,
    "start_time": "2023-01-15T10:05:39.041Z"
   },
   {
    "duration": 23,
    "start_time": "2023-01-15T10:05:39.345Z"
   },
   {
    "duration": 328,
    "start_time": "2023-01-15T10:05:39.370Z"
   },
   {
    "duration": 32,
    "start_time": "2023-01-15T10:05:39.700Z"
   },
   {
    "duration": 331,
    "start_time": "2023-01-15T10:05:39.733Z"
   },
   {
    "duration": 49,
    "start_time": "2023-01-15T10:09:51.561Z"
   },
   {
    "duration": 81,
    "start_time": "2023-01-15T10:10:15.483Z"
   },
   {
    "duration": 62,
    "start_time": "2023-01-15T10:10:37.230Z"
   },
   {
    "duration": 52,
    "start_time": "2023-01-15T10:10:42.603Z"
   },
   {
    "duration": 25,
    "start_time": "2023-01-15T10:10:52.951Z"
   },
   {
    "duration": 5,
    "start_time": "2023-01-15T10:11:40.721Z"
   },
   {
    "duration": 18,
    "start_time": "2023-01-15T10:12:50.031Z"
   },
   {
    "duration": 146,
    "start_time": "2023-01-15T10:13:05.871Z"
   },
   {
    "duration": 176,
    "start_time": "2023-01-15T10:13:23.282Z"
   },
   {
    "duration": 169,
    "start_time": "2023-01-15T10:13:26.190Z"
   },
   {
    "duration": 181,
    "start_time": "2023-01-15T10:13:29.120Z"
   },
   {
    "duration": 192,
    "start_time": "2023-01-15T10:14:59.035Z"
   },
   {
    "duration": 253,
    "start_time": "2023-01-15T10:15:19.225Z"
   },
   {
    "duration": 186,
    "start_time": "2023-01-15T10:15:39.438Z"
   },
   {
    "duration": 37,
    "start_time": "2023-01-15T10:15:42.932Z"
   },
   {
    "duration": 199,
    "start_time": "2023-01-15T10:15:45.499Z"
   },
   {
    "duration": 4,
    "start_time": "2023-01-15T10:19:24.106Z"
   },
   {
    "duration": 5,
    "start_time": "2023-01-15T10:19:46.550Z"
   },
   {
    "duration": 5,
    "start_time": "2023-01-15T10:20:09.284Z"
   },
   {
    "duration": 5,
    "start_time": "2023-01-15T10:20:18.718Z"
   },
   {
    "duration": 5,
    "start_time": "2023-01-15T10:20:29.173Z"
   },
   {
    "duration": 5,
    "start_time": "2023-01-15T10:20:31.423Z"
   },
   {
    "duration": 12,
    "start_time": "2023-01-15T10:20:33.451Z"
   },
   {
    "duration": 95,
    "start_time": "2023-01-15T10:20:36.576Z"
   },
   {
    "duration": 7,
    "start_time": "2023-01-15T10:20:41.038Z"
   },
   {
    "duration": 5,
    "start_time": "2023-01-15T10:21:40.907Z"
   },
   {
    "duration": 5,
    "start_time": "2023-01-15T10:25:13.827Z"
   },
   {
    "duration": 5,
    "start_time": "2023-01-15T10:25:50.465Z"
   },
   {
    "duration": 3,
    "start_time": "2023-01-15T10:25:51.394Z"
   },
   {
    "duration": 4,
    "start_time": "2023-01-15T10:26:03.920Z"
   },
   {
    "duration": 4,
    "start_time": "2023-01-15T10:26:04.750Z"
   },
   {
    "duration": 3,
    "start_time": "2023-01-15T10:27:43.160Z"
   },
   {
    "duration": 91,
    "start_time": "2023-01-15T10:27:43.164Z"
   },
   {
    "duration": 14,
    "start_time": "2023-01-15T10:27:43.257Z"
   },
   {
    "duration": 5,
    "start_time": "2023-01-15T10:27:43.274Z"
   },
   {
    "duration": 41,
    "start_time": "2023-01-15T10:27:43.281Z"
   },
   {
    "duration": 3,
    "start_time": "2023-01-15T10:27:43.324Z"
   },
   {
    "duration": 8,
    "start_time": "2023-01-15T10:27:43.329Z"
   },
   {
    "duration": 5,
    "start_time": "2023-01-15T10:27:43.339Z"
   },
   {
    "duration": 7,
    "start_time": "2023-01-15T10:27:43.346Z"
   },
   {
    "duration": 5,
    "start_time": "2023-01-15T10:27:43.355Z"
   },
   {
    "duration": 6,
    "start_time": "2023-01-15T10:27:43.363Z"
   },
   {
    "duration": 17,
    "start_time": "2023-01-15T10:27:43.370Z"
   },
   {
    "duration": 35,
    "start_time": "2023-01-15T10:27:43.388Z"
   },
   {
    "duration": 4,
    "start_time": "2023-01-15T10:27:43.425Z"
   },
   {
    "duration": 14,
    "start_time": "2023-01-15T10:27:43.430Z"
   },
   {
    "duration": 19,
    "start_time": "2023-01-15T10:27:43.445Z"
   },
   {
    "duration": 10,
    "start_time": "2023-01-15T10:27:43.465Z"
   },
   {
    "duration": 6,
    "start_time": "2023-01-15T10:27:43.476Z"
   },
   {
    "duration": 33,
    "start_time": "2023-01-15T10:27:43.483Z"
   },
   {
    "duration": 16,
    "start_time": "2023-01-15T10:27:43.517Z"
   },
   {
    "duration": 6,
    "start_time": "2023-01-15T10:27:43.534Z"
   },
   {
    "duration": 8,
    "start_time": "2023-01-15T10:27:43.541Z"
   },
   {
    "duration": 5,
    "start_time": "2023-01-15T10:27:43.551Z"
   },
   {
    "duration": 9,
    "start_time": "2023-01-15T10:27:43.558Z"
   },
   {
    "duration": 5,
    "start_time": "2023-01-15T10:27:43.569Z"
   },
   {
    "duration": 43,
    "start_time": "2023-01-15T10:27:43.575Z"
   },
   {
    "duration": 26,
    "start_time": "2023-01-15T10:27:43.620Z"
   },
   {
    "duration": 3,
    "start_time": "2023-01-15T10:27:43.648Z"
   },
   {
    "duration": 32,
    "start_time": "2023-01-15T10:27:43.655Z"
   },
   {
    "duration": 41,
    "start_time": "2023-01-15T10:27:43.689Z"
   },
   {
    "duration": 5,
    "start_time": "2023-01-15T10:27:43.731Z"
   },
   {
    "duration": 11,
    "start_time": "2023-01-15T10:27:43.737Z"
   },
   {
    "duration": 7,
    "start_time": "2023-01-15T10:27:43.749Z"
   },
   {
    "duration": 16,
    "start_time": "2023-01-15T10:27:43.757Z"
   },
   {
    "duration": 8,
    "start_time": "2023-01-15T10:27:43.774Z"
   },
   {
    "duration": 36,
    "start_time": "2023-01-15T10:27:43.784Z"
   },
   {
    "duration": 5,
    "start_time": "2023-01-15T10:27:43.822Z"
   },
   {
    "duration": 14,
    "start_time": "2023-01-15T10:27:43.829Z"
   },
   {
    "duration": 5,
    "start_time": "2023-01-15T10:27:43.845Z"
   },
   {
    "duration": 8,
    "start_time": "2023-01-15T10:27:43.851Z"
   },
   {
    "duration": 6,
    "start_time": "2023-01-15T10:27:43.860Z"
   },
   {
    "duration": 15,
    "start_time": "2023-01-15T10:27:43.867Z"
   },
   {
    "duration": 11,
    "start_time": "2023-01-15T10:27:43.916Z"
   },
   {
    "duration": 4,
    "start_time": "2023-01-15T10:27:43.929Z"
   },
   {
    "duration": 6,
    "start_time": "2023-01-15T10:27:43.935Z"
   },
   {
    "duration": 5,
    "start_time": "2023-01-15T10:27:43.944Z"
   },
   {
    "duration": 11,
    "start_time": "2023-01-15T10:27:43.951Z"
   },
   {
    "duration": 5,
    "start_time": "2023-01-15T10:27:43.963Z"
   },
   {
    "duration": 48,
    "start_time": "2023-01-15T10:27:43.970Z"
   },
   {
    "duration": 6,
    "start_time": "2023-01-15T10:27:44.019Z"
   },
   {
    "duration": 12,
    "start_time": "2023-01-15T10:27:44.026Z"
   },
   {
    "duration": 8,
    "start_time": "2023-01-15T10:27:44.040Z"
   },
   {
    "duration": 10,
    "start_time": "2023-01-15T10:27:44.050Z"
   },
   {
    "duration": 15,
    "start_time": "2023-01-15T10:27:44.061Z"
   },
   {
    "duration": 11,
    "start_time": "2023-01-15T10:27:44.078Z"
   },
   {
    "duration": 27,
    "start_time": "2023-01-15T10:27:44.091Z"
   },
   {
    "duration": 21,
    "start_time": "2023-01-15T10:27:44.119Z"
   },
   {
    "duration": 3,
    "start_time": "2023-01-15T10:27:44.142Z"
   },
   {
    "duration": 16,
    "start_time": "2023-01-15T10:27:44.146Z"
   },
   {
    "duration": 4,
    "start_time": "2023-01-15T10:27:44.164Z"
   },
   {
    "duration": 19,
    "start_time": "2023-01-15T10:27:44.170Z"
   },
   {
    "duration": 37,
    "start_time": "2023-01-15T10:27:44.190Z"
   },
   {
    "duration": 5,
    "start_time": "2023-01-15T10:27:44.228Z"
   },
   {
    "duration": 8,
    "start_time": "2023-01-15T10:27:44.234Z"
   },
   {
    "duration": 13,
    "start_time": "2023-01-15T10:27:44.244Z"
   },
   {
    "duration": 215,
    "start_time": "2023-01-15T10:27:44.259Z"
   },
   {
    "duration": 5,
    "start_time": "2023-01-15T10:27:44.476Z"
   },
   {
    "duration": 14,
    "start_time": "2023-01-15T10:27:44.482Z"
   },
   {
    "duration": 146,
    "start_time": "2023-01-15T10:27:44.498Z"
   },
   {
    "duration": 5,
    "start_time": "2023-01-15T10:27:44.646Z"
   },
   {
    "duration": 28,
    "start_time": "2023-01-15T10:27:44.652Z"
   },
   {
    "duration": 3,
    "start_time": "2023-01-15T10:27:44.681Z"
   },
   {
    "duration": 174,
    "start_time": "2023-01-15T10:27:44.685Z"
   },
   {
    "duration": 5,
    "start_time": "2023-01-15T10:27:44.861Z"
   },
   {
    "duration": 23,
    "start_time": "2023-01-15T10:27:44.868Z"
   },
   {
    "duration": 296,
    "start_time": "2023-01-15T10:27:44.892Z"
   },
   {
    "duration": 27,
    "start_time": "2023-01-15T10:27:45.189Z"
   },
   {
    "duration": 158,
    "start_time": "2023-01-15T10:27:45.218Z"
   },
   {
    "duration": 6,
    "start_time": "2023-01-15T10:27:45.377Z"
   },
   {
    "duration": 7,
    "start_time": "2023-01-15T10:27:45.384Z"
   },
   {
    "duration": 6,
    "start_time": "2023-01-15T10:27:45.392Z"
   },
   {
    "duration": 4,
    "start_time": "2023-01-15T10:27:45.415Z"
   },
   {
    "duration": 22,
    "start_time": "2023-01-15T10:27:45.424Z"
   },
   {
    "duration": 266,
    "start_time": "2023-01-15T10:27:45.447Z"
   },
   {
    "duration": 18,
    "start_time": "2023-01-15T10:27:45.715Z"
   },
   {
    "duration": 296,
    "start_time": "2023-01-15T10:27:45.735Z"
   },
   {
    "duration": 26,
    "start_time": "2023-01-15T10:27:46.033Z"
   },
   {
    "duration": 412,
    "start_time": "2023-01-15T10:27:46.061Z"
   },
   {
    "duration": 24,
    "start_time": "2023-01-15T10:27:46.474Z"
   },
   {
    "duration": 296,
    "start_time": "2023-01-15T10:27:46.499Z"
   },
   {
    "duration": 63,
    "start_time": "2023-01-15T10:30:00.058Z"
   },
   {
    "duration": 76,
    "start_time": "2023-01-15T10:30:03.916Z"
   },
   {
    "duration": 25,
    "start_time": "2023-01-15T10:31:25.211Z"
   },
   {
    "duration": 26,
    "start_time": "2023-01-15T10:33:33.208Z"
   },
   {
    "duration": 2,
    "start_time": "2023-01-15T10:34:41.637Z"
   },
   {
    "duration": 97,
    "start_time": "2023-01-15T10:34:41.643Z"
   },
   {
    "duration": 15,
    "start_time": "2023-01-15T10:34:41.742Z"
   },
   {
    "duration": 16,
    "start_time": "2023-01-15T10:34:41.758Z"
   },
   {
    "duration": 45,
    "start_time": "2023-01-15T10:34:41.775Z"
   },
   {
    "duration": 3,
    "start_time": "2023-01-15T10:34:41.822Z"
   },
   {
    "duration": 20,
    "start_time": "2023-01-15T10:34:41.826Z"
   },
   {
    "duration": 18,
    "start_time": "2023-01-15T10:34:41.848Z"
   },
   {
    "duration": 44,
    "start_time": "2023-01-15T10:34:41.867Z"
   },
   {
    "duration": 12,
    "start_time": "2023-01-15T10:34:41.912Z"
   },
   {
    "duration": 20,
    "start_time": "2023-01-15T10:34:41.925Z"
   },
   {
    "duration": 21,
    "start_time": "2023-01-15T10:34:41.946Z"
   },
   {
    "duration": 22,
    "start_time": "2023-01-15T10:34:41.968Z"
   },
   {
    "duration": 3,
    "start_time": "2023-01-15T10:34:41.992Z"
   },
   {
    "duration": 22,
    "start_time": "2023-01-15T10:34:42.000Z"
   },
   {
    "duration": 17,
    "start_time": "2023-01-15T10:34:42.024Z"
   },
   {
    "duration": 27,
    "start_time": "2023-01-15T10:34:42.043Z"
   },
   {
    "duration": 12,
    "start_time": "2023-01-15T10:34:42.072Z"
   },
   {
    "duration": 31,
    "start_time": "2023-01-15T10:34:42.086Z"
   },
   {
    "duration": 28,
    "start_time": "2023-01-15T10:34:42.119Z"
   },
   {
    "duration": 10,
    "start_time": "2023-01-15T10:34:42.149Z"
   },
   {
    "duration": 12,
    "start_time": "2023-01-15T10:34:42.161Z"
   },
   {
    "duration": 13,
    "start_time": "2023-01-15T10:34:42.174Z"
   },
   {
    "duration": 10,
    "start_time": "2023-01-15T10:34:42.188Z"
   },
   {
    "duration": 15,
    "start_time": "2023-01-15T10:34:42.199Z"
   },
   {
    "duration": 25,
    "start_time": "2023-01-15T10:34:42.215Z"
   },
   {
    "duration": 48,
    "start_time": "2023-01-15T10:34:42.242Z"
   },
   {
    "duration": 8,
    "start_time": "2023-01-15T10:34:42.291Z"
   },
   {
    "duration": 47,
    "start_time": "2023-01-15T10:34:42.301Z"
   },
   {
    "duration": 16,
    "start_time": "2023-01-15T10:34:42.350Z"
   },
   {
    "duration": 4,
    "start_time": "2023-01-15T10:34:42.368Z"
   },
   {
    "duration": 22,
    "start_time": "2023-01-15T10:34:42.375Z"
   },
   {
    "duration": 20,
    "start_time": "2023-01-15T10:34:42.398Z"
   },
   {
    "duration": 24,
    "start_time": "2023-01-15T10:34:42.420Z"
   },
   {
    "duration": 14,
    "start_time": "2023-01-15T10:34:42.446Z"
   },
   {
    "duration": 40,
    "start_time": "2023-01-15T10:34:42.462Z"
   },
   {
    "duration": 5,
    "start_time": "2023-01-15T10:34:42.504Z"
   },
   {
    "duration": 25,
    "start_time": "2023-01-15T10:34:42.510Z"
   },
   {
    "duration": 15,
    "start_time": "2023-01-15T10:34:42.537Z"
   },
   {
    "duration": 18,
    "start_time": "2023-01-15T10:34:42.554Z"
   },
   {
    "duration": 19,
    "start_time": "2023-01-15T10:34:42.574Z"
   },
   {
    "duration": 27,
    "start_time": "2023-01-15T10:34:42.598Z"
   },
   {
    "duration": 18,
    "start_time": "2023-01-15T10:34:42.629Z"
   },
   {
    "duration": 18,
    "start_time": "2023-01-15T10:34:42.648Z"
   },
   {
    "duration": 16,
    "start_time": "2023-01-15T10:34:42.668Z"
   },
   {
    "duration": 28,
    "start_time": "2023-01-15T10:34:42.686Z"
   },
   {
    "duration": 31,
    "start_time": "2023-01-15T10:34:42.716Z"
   },
   {
    "duration": 16,
    "start_time": "2023-01-15T10:34:42.749Z"
   },
   {
    "duration": 35,
    "start_time": "2023-01-15T10:34:42.766Z"
   },
   {
    "duration": 18,
    "start_time": "2023-01-15T10:34:42.803Z"
   },
   {
    "duration": 41,
    "start_time": "2023-01-15T10:34:42.822Z"
   },
   {
    "duration": 22,
    "start_time": "2023-01-15T10:34:42.865Z"
   },
   {
    "duration": 16,
    "start_time": "2023-01-15T10:34:42.889Z"
   },
   {
    "duration": 17,
    "start_time": "2023-01-15T10:34:42.906Z"
   },
   {
    "duration": 25,
    "start_time": "2023-01-15T10:34:42.924Z"
   },
   {
    "duration": 40,
    "start_time": "2023-01-15T10:34:42.951Z"
   },
   {
    "duration": 24,
    "start_time": "2023-01-15T10:34:42.992Z"
   },
   {
    "duration": 5,
    "start_time": "2023-01-15T10:34:43.017Z"
   },
   {
    "duration": 30,
    "start_time": "2023-01-15T10:34:43.023Z"
   },
   {
    "duration": 47,
    "start_time": "2023-01-15T10:34:43.054Z"
   },
   {
    "duration": 25,
    "start_time": "2023-01-15T10:34:43.103Z"
   },
   {
    "duration": 28,
    "start_time": "2023-01-15T10:34:43.129Z"
   },
   {
    "duration": 22,
    "start_time": "2023-01-15T10:34:43.159Z"
   },
   {
    "duration": 10,
    "start_time": "2023-01-15T10:34:43.183Z"
   },
   {
    "duration": 21,
    "start_time": "2023-01-15T10:34:43.195Z"
   },
   {
    "duration": 202,
    "start_time": "2023-01-15T10:34:43.218Z"
   },
   {
    "duration": 5,
    "start_time": "2023-01-15T10:34:43.422Z"
   },
   {
    "duration": 30,
    "start_time": "2023-01-15T10:34:43.428Z"
   },
   {
    "duration": 174,
    "start_time": "2023-01-15T10:34:43.459Z"
   },
   {
    "duration": 6,
    "start_time": "2023-01-15T10:34:43.635Z"
   },
   {
    "duration": 38,
    "start_time": "2023-01-15T10:34:43.643Z"
   },
   {
    "duration": 7,
    "start_time": "2023-01-15T10:34:43.682Z"
   },
   {
    "duration": 193,
    "start_time": "2023-01-15T10:34:43.691Z"
   },
   {
    "duration": 6,
    "start_time": "2023-01-15T10:34:43.885Z"
   },
   {
    "duration": 40,
    "start_time": "2023-01-15T10:34:43.893Z"
   },
   {
    "duration": 314,
    "start_time": "2023-01-15T10:34:43.934Z"
   },
   {
    "duration": 19,
    "start_time": "2023-01-15T10:34:44.250Z"
   },
   {
    "duration": 177,
    "start_time": "2023-01-15T10:34:44.270Z"
   },
   {
    "duration": 5,
    "start_time": "2023-01-15T10:34:44.448Z"
   },
   {
    "duration": 19,
    "start_time": "2023-01-15T10:34:44.455Z"
   },
   {
    "duration": 29,
    "start_time": "2023-01-15T10:34:44.475Z"
   },
   {
    "duration": 22,
    "start_time": "2023-01-15T10:34:44.505Z"
   },
   {
    "duration": 34,
    "start_time": "2023-01-15T10:34:44.529Z"
   },
   {
    "duration": 265,
    "start_time": "2023-01-15T10:34:44.564Z"
   },
   {
    "duration": 19,
    "start_time": "2023-01-15T10:34:44.830Z"
   },
   {
    "duration": 317,
    "start_time": "2023-01-15T10:34:44.851Z"
   },
   {
    "duration": 27,
    "start_time": "2023-01-15T10:34:45.170Z"
   },
   {
    "duration": 312,
    "start_time": "2023-01-15T10:34:45.199Z"
   },
   {
    "duration": 28,
    "start_time": "2023-01-15T10:34:45.515Z"
   },
   {
    "duration": 378,
    "start_time": "2023-01-15T10:34:45.545Z"
   },
   {
    "duration": 238,
    "start_time": "2023-01-15T10:37:29.815Z"
   },
   {
    "duration": 3,
    "start_time": "2023-01-15T10:38:10.676Z"
   },
   {
    "duration": 85,
    "start_time": "2023-01-15T10:38:10.682Z"
   },
   {
    "duration": 12,
    "start_time": "2023-01-15T10:38:10.769Z"
   },
   {
    "duration": 9,
    "start_time": "2023-01-15T10:38:10.783Z"
   },
   {
    "duration": 41,
    "start_time": "2023-01-15T10:38:10.793Z"
   },
   {
    "duration": 2,
    "start_time": "2023-01-15T10:38:10.836Z"
   },
   {
    "duration": 11,
    "start_time": "2023-01-15T10:38:10.839Z"
   },
   {
    "duration": 6,
    "start_time": "2023-01-15T10:38:10.851Z"
   },
   {
    "duration": 7,
    "start_time": "2023-01-15T10:38:10.858Z"
   },
   {
    "duration": 7,
    "start_time": "2023-01-15T10:38:10.866Z"
   },
   {
    "duration": 6,
    "start_time": "2023-01-15T10:38:10.875Z"
   },
   {
    "duration": 8,
    "start_time": "2023-01-15T10:38:10.882Z"
   },
   {
    "duration": 13,
    "start_time": "2023-01-15T10:38:10.892Z"
   },
   {
    "duration": 3,
    "start_time": "2023-01-15T10:38:10.916Z"
   },
   {
    "duration": 16,
    "start_time": "2023-01-15T10:38:10.921Z"
   },
   {
    "duration": 13,
    "start_time": "2023-01-15T10:38:10.938Z"
   },
   {
    "duration": 5,
    "start_time": "2023-01-15T10:38:10.953Z"
   },
   {
    "duration": 5,
    "start_time": "2023-01-15T10:38:10.960Z"
   },
   {
    "duration": 6,
    "start_time": "2023-01-15T10:38:10.966Z"
   },
   {
    "duration": 4,
    "start_time": "2023-01-15T10:38:10.974Z"
   },
   {
    "duration": 3,
    "start_time": "2023-01-15T10:38:11.015Z"
   },
   {
    "duration": 8,
    "start_time": "2023-01-15T10:38:11.019Z"
   },
   {
    "duration": 9,
    "start_time": "2023-01-15T10:38:11.028Z"
   },
   {
    "duration": 16,
    "start_time": "2023-01-15T10:38:11.038Z"
   },
   {
    "duration": 7,
    "start_time": "2023-01-15T10:38:11.055Z"
   },
   {
    "duration": 13,
    "start_time": "2023-01-15T10:38:11.064Z"
   },
   {
    "duration": 37,
    "start_time": "2023-01-15T10:38:11.079Z"
   },
   {
    "duration": 3,
    "start_time": "2023-01-15T10:38:11.118Z"
   },
   {
    "duration": 27,
    "start_time": "2023-01-15T10:38:11.123Z"
   },
   {
    "duration": 16,
    "start_time": "2023-01-15T10:38:11.152Z"
   },
   {
    "duration": 6,
    "start_time": "2023-01-15T10:38:11.170Z"
   },
   {
    "duration": 42,
    "start_time": "2023-01-15T10:38:11.177Z"
   },
   {
    "duration": 6,
    "start_time": "2023-01-15T10:38:11.221Z"
   },
   {
    "duration": 13,
    "start_time": "2023-01-15T10:38:11.228Z"
   },
   {
    "duration": 10,
    "start_time": "2023-01-15T10:38:11.242Z"
   },
   {
    "duration": 16,
    "start_time": "2023-01-15T10:38:11.254Z"
   },
   {
    "duration": 5,
    "start_time": "2023-01-15T10:38:11.271Z"
   },
   {
    "duration": 13,
    "start_time": "2023-01-15T10:38:11.277Z"
   },
   {
    "duration": 25,
    "start_time": "2023-01-15T10:38:11.291Z"
   },
   {
    "duration": 6,
    "start_time": "2023-01-15T10:38:11.317Z"
   },
   {
    "duration": 5,
    "start_time": "2023-01-15T10:38:11.324Z"
   },
   {
    "duration": 11,
    "start_time": "2023-01-15T10:38:11.333Z"
   },
   {
    "duration": 9,
    "start_time": "2023-01-15T10:38:11.345Z"
   },
   {
    "duration": 6,
    "start_time": "2023-01-15T10:38:11.355Z"
   },
   {
    "duration": 7,
    "start_time": "2023-01-15T10:38:11.363Z"
   },
   {
    "duration": 5,
    "start_time": "2023-01-15T10:38:11.372Z"
   },
   {
    "duration": 40,
    "start_time": "2023-01-15T10:38:11.378Z"
   },
   {
    "duration": 4,
    "start_time": "2023-01-15T10:38:11.420Z"
   },
   {
    "duration": 8,
    "start_time": "2023-01-15T10:38:11.426Z"
   },
   {
    "duration": 5,
    "start_time": "2023-01-15T10:38:11.435Z"
   },
   {
    "duration": 9,
    "start_time": "2023-01-15T10:38:11.441Z"
   },
   {
    "duration": 5,
    "start_time": "2023-01-15T10:38:11.451Z"
   },
   {
    "duration": 7,
    "start_time": "2023-01-15T10:38:11.457Z"
   },
   {
    "duration": 6,
    "start_time": "2023-01-15T10:38:11.465Z"
   },
   {
    "duration": 4,
    "start_time": "2023-01-15T10:38:11.473Z"
   },
   {
    "duration": 55,
    "start_time": "2023-01-15T10:38:11.478Z"
   },
   {
    "duration": 21,
    "start_time": "2023-01-15T10:38:11.535Z"
   },
   {
    "duration": 4,
    "start_time": "2023-01-15T10:38:11.557Z"
   },
   {
    "duration": 15,
    "start_time": "2023-01-15T10:38:11.562Z"
   },
   {
    "duration": 4,
    "start_time": "2023-01-15T10:38:11.578Z"
   },
   {
    "duration": 36,
    "start_time": "2023-01-15T10:38:11.583Z"
   },
   {
    "duration": 15,
    "start_time": "2023-01-15T10:38:11.621Z"
   },
   {
    "duration": 5,
    "start_time": "2023-01-15T10:38:11.637Z"
   },
   {
    "duration": 8,
    "start_time": "2023-01-15T10:38:11.643Z"
   },
   {
    "duration": 13,
    "start_time": "2023-01-15T10:38:11.653Z"
   },
   {
    "duration": 204,
    "start_time": "2023-01-15T10:38:11.667Z"
   },
   {
    "duration": 5,
    "start_time": "2023-01-15T10:38:11.873Z"
   },
   {
    "duration": 13,
    "start_time": "2023-01-15T10:38:11.880Z"
   },
   {
    "duration": 157,
    "start_time": "2023-01-15T10:38:11.895Z"
   },
   {
    "duration": 5,
    "start_time": "2023-01-15T10:38:12.054Z"
   },
   {
    "duration": 23,
    "start_time": "2023-01-15T10:38:12.060Z"
   },
   {
    "duration": 3,
    "start_time": "2023-01-15T10:38:12.084Z"
   },
   {
    "duration": 182,
    "start_time": "2023-01-15T10:38:12.088Z"
   },
   {
    "duration": 6,
    "start_time": "2023-01-15T10:38:12.272Z"
   },
   {
    "duration": 38,
    "start_time": "2023-01-15T10:38:12.279Z"
   },
   {
    "duration": 307,
    "start_time": "2023-01-15T10:38:12.318Z"
   },
   {
    "duration": 18,
    "start_time": "2023-01-15T10:38:12.627Z"
   },
   {
    "duration": 158,
    "start_time": "2023-01-15T10:38:12.646Z"
   },
   {
    "duration": 13,
    "start_time": "2023-01-15T10:38:12.805Z"
   },
   {
    "duration": 8,
    "start_time": "2023-01-15T10:38:12.819Z"
   },
   {
    "duration": 8,
    "start_time": "2023-01-15T10:38:12.828Z"
   },
   {
    "duration": 7,
    "start_time": "2023-01-15T10:38:12.837Z"
   },
   {
    "duration": 24,
    "start_time": "2023-01-15T10:38:12.845Z"
   },
   {
    "duration": 249,
    "start_time": "2023-01-15T10:38:12.871Z"
   },
   {
    "duration": 19,
    "start_time": "2023-01-15T10:38:13.122Z"
   },
   {
    "duration": 324,
    "start_time": "2023-01-15T10:38:13.143Z"
   },
   {
    "duration": 24,
    "start_time": "2023-01-15T10:38:13.469Z"
   },
   {
    "duration": 291,
    "start_time": "2023-01-15T10:38:13.495Z"
   },
   {
    "duration": 32,
    "start_time": "2023-01-15T10:38:13.788Z"
   },
   {
    "duration": 365,
    "start_time": "2023-01-15T10:38:13.822Z"
   },
   {
    "duration": 438,
    "start_time": "2023-01-15T12:49:32.865Z"
   },
   {
    "duration": 583,
    "start_time": "2023-01-15T12:49:33.305Z"
   },
   {
    "duration": 23,
    "start_time": "2023-01-15T12:49:33.890Z"
   },
   {
    "duration": 31,
    "start_time": "2023-01-15T12:49:33.915Z"
   },
   {
    "duration": 102,
    "start_time": "2023-01-15T12:49:33.949Z"
   },
   {
    "duration": 4,
    "start_time": "2023-01-15T12:49:34.056Z"
   },
   {
    "duration": 41,
    "start_time": "2023-01-15T12:49:34.061Z"
   },
   {
    "duration": 51,
    "start_time": "2023-01-15T12:49:34.104Z"
   },
   {
    "duration": 37,
    "start_time": "2023-01-15T12:49:34.157Z"
   },
   {
    "duration": 34,
    "start_time": "2023-01-15T12:49:34.197Z"
   },
   {
    "duration": 27,
    "start_time": "2023-01-15T12:49:34.233Z"
   },
   {
    "duration": 13,
    "start_time": "2023-01-15T12:49:34.262Z"
   },
   {
    "duration": 37,
    "start_time": "2023-01-15T12:49:34.277Z"
   },
   {
    "duration": 15,
    "start_time": "2023-01-15T12:49:34.316Z"
   },
   {
    "duration": 42,
    "start_time": "2023-01-15T12:49:34.333Z"
   },
   {
    "duration": 49,
    "start_time": "2023-01-15T12:49:34.377Z"
   },
   {
    "duration": 40,
    "start_time": "2023-01-15T12:49:34.428Z"
   },
   {
    "duration": 24,
    "start_time": "2023-01-15T12:49:34.470Z"
   },
   {
    "duration": 42,
    "start_time": "2023-01-15T12:49:34.495Z"
   },
   {
    "duration": 29,
    "start_time": "2023-01-15T12:49:34.539Z"
   },
   {
    "duration": 37,
    "start_time": "2023-01-15T12:49:34.569Z"
   },
   {
    "duration": 38,
    "start_time": "2023-01-15T12:49:34.608Z"
   },
   {
    "duration": 12,
    "start_time": "2023-01-15T12:49:34.648Z"
   },
   {
    "duration": 19,
    "start_time": "2023-01-15T12:49:34.662Z"
   },
   {
    "duration": 19,
    "start_time": "2023-01-15T12:49:34.684Z"
   },
   {
    "duration": 40,
    "start_time": "2023-01-15T12:49:34.705Z"
   },
   {
    "duration": 58,
    "start_time": "2023-01-15T12:49:34.747Z"
   },
   {
    "duration": 6,
    "start_time": "2023-01-15T12:49:34.812Z"
   },
   {
    "duration": 61,
    "start_time": "2023-01-15T12:49:34.820Z"
   },
   {
    "duration": 21,
    "start_time": "2023-01-15T12:49:34.883Z"
   },
   {
    "duration": 8,
    "start_time": "2023-01-15T12:49:34.906Z"
   },
   {
    "duration": 26,
    "start_time": "2023-01-15T12:49:34.916Z"
   },
   {
    "duration": 17,
    "start_time": "2023-01-15T12:49:34.945Z"
   },
   {
    "duration": 12,
    "start_time": "2023-01-15T12:49:34.964Z"
   },
   {
    "duration": 7,
    "start_time": "2023-01-15T12:49:34.979Z"
   },
   {
    "duration": 34,
    "start_time": "2023-01-15T12:49:34.988Z"
   },
   {
    "duration": 6,
    "start_time": "2023-01-15T12:49:35.024Z"
   },
   {
    "duration": 22,
    "start_time": "2023-01-15T12:49:35.033Z"
   },
   {
    "duration": 7,
    "start_time": "2023-01-15T12:49:35.057Z"
   },
   {
    "duration": 14,
    "start_time": "2023-01-15T12:49:35.066Z"
   },
   {
    "duration": 7,
    "start_time": "2023-01-15T12:49:35.104Z"
   },
   {
    "duration": 21,
    "start_time": "2023-01-15T12:49:35.113Z"
   },
   {
    "duration": 31,
    "start_time": "2023-01-15T12:49:35.136Z"
   },
   {
    "duration": 24,
    "start_time": "2023-01-15T12:49:35.170Z"
   },
   {
    "duration": 19,
    "start_time": "2023-01-15T12:49:35.196Z"
   },
   {
    "duration": 28,
    "start_time": "2023-01-15T12:49:35.218Z"
   },
   {
    "duration": 37,
    "start_time": "2023-01-15T12:49:35.249Z"
   },
   {
    "duration": 40,
    "start_time": "2023-01-15T12:49:35.288Z"
   },
   {
    "duration": 18,
    "start_time": "2023-01-15T12:49:35.330Z"
   },
   {
    "duration": 23,
    "start_time": "2023-01-15T12:49:35.350Z"
   },
   {
    "duration": 26,
    "start_time": "2023-01-15T12:49:35.375Z"
   },
   {
    "duration": 30,
    "start_time": "2023-01-15T12:49:35.403Z"
   },
   {
    "duration": 10,
    "start_time": "2023-01-15T12:49:35.434Z"
   },
   {
    "duration": 29,
    "start_time": "2023-01-15T12:49:35.447Z"
   },
   {
    "duration": 21,
    "start_time": "2023-01-15T12:49:35.478Z"
   },
   {
    "duration": 55,
    "start_time": "2023-01-15T12:49:35.501Z"
   },
   {
    "duration": 34,
    "start_time": "2023-01-15T12:49:35.557Z"
   },
   {
    "duration": 4,
    "start_time": "2023-01-15T12:49:35.593Z"
   },
   {
    "duration": 21,
    "start_time": "2023-01-15T12:49:35.598Z"
   },
   {
    "duration": 5,
    "start_time": "2023-01-15T12:49:35.621Z"
   },
   {
    "duration": 24,
    "start_time": "2023-01-15T12:49:35.628Z"
   },
   {
    "duration": 15,
    "start_time": "2023-01-15T12:49:35.654Z"
   },
   {
    "duration": 7,
    "start_time": "2023-01-15T12:49:35.671Z"
   },
   {
    "duration": 29,
    "start_time": "2023-01-15T12:49:35.679Z"
   },
   {
    "duration": 22,
    "start_time": "2023-01-15T12:49:35.710Z"
   },
   {
    "duration": 784,
    "start_time": "2023-01-15T12:49:35.734Z"
   },
   {
    "duration": 0,
    "start_time": "2023-01-15T12:49:36.521Z"
   },
   {
    "duration": 0,
    "start_time": "2023-01-15T12:49:36.523Z"
   },
   {
    "duration": 0,
    "start_time": "2023-01-15T12:49:36.528Z"
   },
   {
    "duration": 0,
    "start_time": "2023-01-15T12:49:36.529Z"
   },
   {
    "duration": 0,
    "start_time": "2023-01-15T12:49:36.530Z"
   },
   {
    "duration": 0,
    "start_time": "2023-01-15T12:49:36.532Z"
   },
   {
    "duration": 0,
    "start_time": "2023-01-15T12:49:36.533Z"
   },
   {
    "duration": 0,
    "start_time": "2023-01-15T12:49:36.534Z"
   },
   {
    "duration": 0,
    "start_time": "2023-01-15T12:49:36.536Z"
   },
   {
    "duration": 0,
    "start_time": "2023-01-15T12:49:36.537Z"
   },
   {
    "duration": 0,
    "start_time": "2023-01-15T12:49:36.538Z"
   },
   {
    "duration": 0,
    "start_time": "2023-01-15T12:49:36.539Z"
   },
   {
    "duration": 0,
    "start_time": "2023-01-15T12:49:36.540Z"
   },
   {
    "duration": 0,
    "start_time": "2023-01-15T12:49:36.542Z"
   },
   {
    "duration": 0,
    "start_time": "2023-01-15T12:49:36.545Z"
   },
   {
    "duration": 0,
    "start_time": "2023-01-15T12:49:36.546Z"
   },
   {
    "duration": 0,
    "start_time": "2023-01-15T12:49:36.547Z"
   },
   {
    "duration": 0,
    "start_time": "2023-01-15T12:49:36.548Z"
   },
   {
    "duration": 0,
    "start_time": "2023-01-15T12:49:36.549Z"
   },
   {
    "duration": 0,
    "start_time": "2023-01-15T12:49:36.551Z"
   },
   {
    "duration": 0,
    "start_time": "2023-01-15T12:49:36.552Z"
   },
   {
    "duration": 0,
    "start_time": "2023-01-15T12:49:36.553Z"
   },
   {
    "duration": 0,
    "start_time": "2023-01-15T12:49:36.554Z"
   },
   {
    "duration": 0,
    "start_time": "2023-01-15T12:49:36.555Z"
   },
   {
    "duration": 404,
    "start_time": "2023-01-15T12:51:49.365Z"
   },
   {
    "duration": 87,
    "start_time": "2023-01-15T12:51:49.771Z"
   },
   {
    "duration": 22,
    "start_time": "2023-01-15T12:51:49.860Z"
   },
   {
    "duration": 5,
    "start_time": "2023-01-15T12:51:49.883Z"
   },
   {
    "duration": 37,
    "start_time": "2023-01-15T12:51:49.905Z"
   },
   {
    "duration": 3,
    "start_time": "2023-01-15T12:51:49.944Z"
   },
   {
    "duration": 12,
    "start_time": "2023-01-15T12:51:49.948Z"
   },
   {
    "duration": 15,
    "start_time": "2023-01-15T12:51:49.961Z"
   },
   {
    "duration": 11,
    "start_time": "2023-01-15T12:51:49.978Z"
   },
   {
    "duration": 8,
    "start_time": "2023-01-15T12:51:49.990Z"
   },
   {
    "duration": 6,
    "start_time": "2023-01-15T12:51:50.000Z"
   },
   {
    "duration": 11,
    "start_time": "2023-01-15T12:51:50.008Z"
   },
   {
    "duration": 18,
    "start_time": "2023-01-15T12:51:50.021Z"
   },
   {
    "duration": 4,
    "start_time": "2023-01-15T12:51:50.042Z"
   },
   {
    "duration": 21,
    "start_time": "2023-01-15T12:51:50.047Z"
   },
   {
    "duration": 18,
    "start_time": "2023-01-15T12:51:50.070Z"
   },
   {
    "duration": 18,
    "start_time": "2023-01-15T12:51:50.090Z"
   },
   {
    "duration": 14,
    "start_time": "2023-01-15T12:51:50.109Z"
   },
   {
    "duration": 10,
    "start_time": "2023-01-15T12:51:50.124Z"
   },
   {
    "duration": 21,
    "start_time": "2023-01-15T12:51:50.136Z"
   },
   {
    "duration": 20,
    "start_time": "2023-01-15T12:51:50.159Z"
   },
   {
    "duration": 15,
    "start_time": "2023-01-15T12:51:50.181Z"
   },
   {
    "duration": 4,
    "start_time": "2023-01-15T12:51:50.198Z"
   },
   {
    "duration": 9,
    "start_time": "2023-01-15T12:51:50.204Z"
   },
   {
    "duration": 6,
    "start_time": "2023-01-15T12:51:50.215Z"
   },
   {
    "duration": 16,
    "start_time": "2023-01-15T12:51:50.223Z"
   },
   {
    "duration": 38,
    "start_time": "2023-01-15T12:51:50.240Z"
   },
   {
    "duration": 13,
    "start_time": "2023-01-15T12:51:50.280Z"
   },
   {
    "duration": 50,
    "start_time": "2023-01-15T12:51:50.295Z"
   },
   {
    "duration": 25,
    "start_time": "2023-01-15T12:51:50.347Z"
   },
   {
    "duration": 8,
    "start_time": "2023-01-15T12:51:50.374Z"
   },
   {
    "duration": 62,
    "start_time": "2023-01-15T12:51:50.383Z"
   },
   {
    "duration": 57,
    "start_time": "2023-01-15T12:51:50.447Z"
   },
   {
    "duration": 56,
    "start_time": "2023-01-15T12:51:50.506Z"
   },
   {
    "duration": 35,
    "start_time": "2023-01-15T12:51:50.564Z"
   },
   {
    "duration": 48,
    "start_time": "2023-01-15T12:51:50.601Z"
   },
   {
    "duration": 108,
    "start_time": "2023-01-15T12:51:50.650Z"
   },
   {
    "duration": 38,
    "start_time": "2023-01-15T12:51:50.760Z"
   },
   {
    "duration": 50,
    "start_time": "2023-01-15T12:51:50.799Z"
   },
   {
    "duration": 31,
    "start_time": "2023-01-15T12:51:50.850Z"
   },
   {
    "duration": 34,
    "start_time": "2023-01-15T12:51:50.886Z"
   },
   {
    "duration": 34,
    "start_time": "2023-01-15T12:51:50.922Z"
   },
   {
    "duration": 28,
    "start_time": "2023-01-15T12:51:50.958Z"
   },
   {
    "duration": 50,
    "start_time": "2023-01-15T12:51:50.987Z"
   },
   {
    "duration": 27,
    "start_time": "2023-01-15T12:51:51.038Z"
   },
   {
    "duration": 29,
    "start_time": "2023-01-15T12:51:51.067Z"
   },
   {
    "duration": 27,
    "start_time": "2023-01-15T12:51:51.097Z"
   },
   {
    "duration": 38,
    "start_time": "2023-01-15T12:51:51.126Z"
   },
   {
    "duration": 44,
    "start_time": "2023-01-15T12:51:51.166Z"
   },
   {
    "duration": 60,
    "start_time": "2023-01-15T12:51:51.212Z"
   },
   {
    "duration": 43,
    "start_time": "2023-01-15T12:51:51.274Z"
   },
   {
    "duration": 42,
    "start_time": "2023-01-15T12:51:51.319Z"
   },
   {
    "duration": 30,
    "start_time": "2023-01-15T12:51:51.363Z"
   },
   {
    "duration": 22,
    "start_time": "2023-01-15T12:51:51.395Z"
   },
   {
    "duration": 15,
    "start_time": "2023-01-15T12:51:51.419Z"
   },
   {
    "duration": 41,
    "start_time": "2023-01-15T12:51:51.436Z"
   },
   {
    "duration": 27,
    "start_time": "2023-01-15T12:51:51.478Z"
   },
   {
    "duration": 37,
    "start_time": "2023-01-15T12:51:51.507Z"
   },
   {
    "duration": 28,
    "start_time": "2023-01-15T12:51:51.545Z"
   },
   {
    "duration": 32,
    "start_time": "2023-01-15T12:51:51.574Z"
   },
   {
    "duration": 38,
    "start_time": "2023-01-15T12:51:51.608Z"
   },
   {
    "duration": 36,
    "start_time": "2023-01-15T12:51:51.648Z"
   },
   {
    "duration": 31,
    "start_time": "2023-01-15T12:51:51.686Z"
   },
   {
    "duration": 51,
    "start_time": "2023-01-15T12:51:51.719Z"
   },
   {
    "duration": 34,
    "start_time": "2023-01-15T12:51:51.772Z"
   },
   {
    "duration": 526,
    "start_time": "2023-01-15T12:51:51.808Z"
   },
   {
    "duration": 0,
    "start_time": "2023-01-15T12:51:52.335Z"
   },
   {
    "duration": 0,
    "start_time": "2023-01-15T12:51:52.336Z"
   },
   {
    "duration": 0,
    "start_time": "2023-01-15T12:51:52.337Z"
   },
   {
    "duration": 0,
    "start_time": "2023-01-15T12:51:52.338Z"
   },
   {
    "duration": 0,
    "start_time": "2023-01-15T12:51:52.339Z"
   },
   {
    "duration": 0,
    "start_time": "2023-01-15T12:51:52.341Z"
   },
   {
    "duration": 0,
    "start_time": "2023-01-15T12:51:52.341Z"
   },
   {
    "duration": 0,
    "start_time": "2023-01-15T12:51:52.342Z"
   },
   {
    "duration": 0,
    "start_time": "2023-01-15T12:51:52.343Z"
   },
   {
    "duration": 1,
    "start_time": "2023-01-15T12:51:52.344Z"
   },
   {
    "duration": 0,
    "start_time": "2023-01-15T12:51:52.345Z"
   },
   {
    "duration": 0,
    "start_time": "2023-01-15T12:51:52.346Z"
   },
   {
    "duration": 0,
    "start_time": "2023-01-15T12:51:52.347Z"
   },
   {
    "duration": 0,
    "start_time": "2023-01-15T12:51:52.348Z"
   },
   {
    "duration": 0,
    "start_time": "2023-01-15T12:51:52.349Z"
   },
   {
    "duration": 0,
    "start_time": "2023-01-15T12:51:52.351Z"
   },
   {
    "duration": 0,
    "start_time": "2023-01-15T12:51:52.352Z"
   },
   {
    "duration": 1,
    "start_time": "2023-01-15T12:51:52.352Z"
   },
   {
    "duration": 0,
    "start_time": "2023-01-15T12:51:52.354Z"
   },
   {
    "duration": 0,
    "start_time": "2023-01-15T12:51:52.355Z"
   },
   {
    "duration": 1,
    "start_time": "2023-01-15T12:51:52.355Z"
   },
   {
    "duration": 0,
    "start_time": "2023-01-15T12:51:52.356Z"
   },
   {
    "duration": 0,
    "start_time": "2023-01-15T12:51:52.357Z"
   },
   {
    "duration": 0,
    "start_time": "2023-01-15T12:51:52.359Z"
   },
   {
    "duration": 82,
    "start_time": "2023-01-15T12:53:07.204Z"
   },
   {
    "duration": 461,
    "start_time": "2023-01-15T13:12:15.970Z"
   },
   {
    "duration": 406,
    "start_time": "2023-01-15T13:12:16.433Z"
   },
   {
    "duration": 643,
    "start_time": "2023-01-15T13:12:16.841Z"
   },
   {
    "duration": 21,
    "start_time": "2023-01-15T13:12:17.486Z"
   },
   {
    "duration": 13,
    "start_time": "2023-01-15T13:12:17.509Z"
   },
   {
    "duration": 86,
    "start_time": "2023-01-15T13:12:17.524Z"
   },
   {
    "duration": 4,
    "start_time": "2023-01-15T13:12:17.612Z"
   },
   {
    "duration": 13,
    "start_time": "2023-01-15T13:12:17.618Z"
   },
   {
    "duration": 8,
    "start_time": "2023-01-15T13:12:17.633Z"
   },
   {
    "duration": 11,
    "start_time": "2023-01-15T13:12:17.644Z"
   },
   {
    "duration": 11,
    "start_time": "2023-01-15T13:12:17.657Z"
   },
   {
    "duration": 11,
    "start_time": "2023-01-15T13:12:17.670Z"
   },
   {
    "duration": 7,
    "start_time": "2023-01-15T13:12:17.683Z"
   },
   {
    "duration": 25,
    "start_time": "2023-01-15T13:12:17.691Z"
   },
   {
    "duration": 3,
    "start_time": "2023-01-15T13:12:17.718Z"
   },
   {
    "duration": 20,
    "start_time": "2023-01-15T13:12:17.722Z"
   },
   {
    "duration": 15,
    "start_time": "2023-01-15T13:12:17.743Z"
   },
   {
    "duration": 8,
    "start_time": "2023-01-15T13:12:17.759Z"
   },
   {
    "duration": 8,
    "start_time": "2023-01-15T13:12:17.768Z"
   },
   {
    "duration": 28,
    "start_time": "2023-01-15T13:12:17.777Z"
   },
   {
    "duration": 12,
    "start_time": "2023-01-15T13:12:17.806Z"
   },
   {
    "duration": 7,
    "start_time": "2023-01-15T13:12:17.819Z"
   },
   {
    "duration": 6,
    "start_time": "2023-01-15T13:12:17.828Z"
   },
   {
    "duration": 4,
    "start_time": "2023-01-15T13:12:17.836Z"
   },
   {
    "duration": 19,
    "start_time": "2023-01-15T13:12:17.841Z"
   },
   {
    "duration": 4,
    "start_time": "2023-01-15T13:12:17.862Z"
   },
   {
    "duration": 18,
    "start_time": "2023-01-15T13:12:17.868Z"
   },
   {
    "duration": 32,
    "start_time": "2023-01-15T13:12:17.890Z"
   },
   {
    "duration": 4,
    "start_time": "2023-01-15T13:12:17.923Z"
   },
   {
    "duration": 35,
    "start_time": "2023-01-15T13:12:17.928Z"
   },
   {
    "duration": 18,
    "start_time": "2023-01-15T13:12:17.965Z"
   },
   {
    "duration": 22,
    "start_time": "2023-01-15T13:12:17.984Z"
   },
   {
    "duration": 8,
    "start_time": "2023-01-15T13:12:18.008Z"
   },
   {
    "duration": 9,
    "start_time": "2023-01-15T13:12:18.018Z"
   },
   {
    "duration": 11,
    "start_time": "2023-01-15T13:12:18.029Z"
   },
   {
    "duration": 7,
    "start_time": "2023-01-15T13:12:18.041Z"
   },
   {
    "duration": 15,
    "start_time": "2023-01-15T13:12:18.050Z"
   },
   {
    "duration": 40,
    "start_time": "2023-01-15T13:12:18.066Z"
   },
   {
    "duration": 26,
    "start_time": "2023-01-15T13:12:18.108Z"
   },
   {
    "duration": 12,
    "start_time": "2023-01-15T13:12:18.136Z"
   },
   {
    "duration": 15,
    "start_time": "2023-01-15T13:12:18.150Z"
   },
   {
    "duration": 18,
    "start_time": "2023-01-15T13:12:18.167Z"
   },
   {
    "duration": 23,
    "start_time": "2023-01-15T13:12:18.187Z"
   },
   {
    "duration": 16,
    "start_time": "2023-01-15T13:12:18.213Z"
   },
   {
    "duration": 15,
    "start_time": "2023-01-15T13:12:18.231Z"
   },
   {
    "duration": 14,
    "start_time": "2023-01-15T13:12:18.248Z"
   },
   {
    "duration": 12,
    "start_time": "2023-01-15T13:12:18.264Z"
   },
   {
    "duration": 13,
    "start_time": "2023-01-15T13:12:18.278Z"
   },
   {
    "duration": 7,
    "start_time": "2023-01-15T13:12:18.293Z"
   },
   {
    "duration": 7,
    "start_time": "2023-01-15T13:12:18.305Z"
   },
   {
    "duration": 4,
    "start_time": "2023-01-15T13:12:18.314Z"
   },
   {
    "duration": 16,
    "start_time": "2023-01-15T13:12:18.320Z"
   },
   {
    "duration": 8,
    "start_time": "2023-01-15T13:12:18.338Z"
   },
   {
    "duration": 6,
    "start_time": "2023-01-15T13:12:18.348Z"
   },
   {
    "duration": 9,
    "start_time": "2023-01-15T13:12:18.355Z"
   },
   {
    "duration": 13,
    "start_time": "2023-01-15T13:12:18.365Z"
   },
   {
    "duration": 35,
    "start_time": "2023-01-15T13:12:18.379Z"
   },
   {
    "duration": 25,
    "start_time": "2023-01-15T13:12:18.415Z"
   },
   {
    "duration": 4,
    "start_time": "2023-01-15T13:12:18.442Z"
   },
   {
    "duration": 17,
    "start_time": "2023-01-15T13:12:18.447Z"
   },
   {
    "duration": 4,
    "start_time": "2023-01-15T13:12:18.466Z"
   },
   {
    "duration": 41,
    "start_time": "2023-01-15T13:12:18.472Z"
   },
   {
    "duration": 16,
    "start_time": "2023-01-15T13:12:18.514Z"
   },
   {
    "duration": 15,
    "start_time": "2023-01-15T13:12:18.531Z"
   },
   {
    "duration": 14,
    "start_time": "2023-01-15T13:12:18.548Z"
   },
   {
    "duration": 17,
    "start_time": "2023-01-15T13:12:18.564Z"
   },
   {
    "duration": 216,
    "start_time": "2023-01-15T13:12:18.583Z"
   },
   {
    "duration": 5,
    "start_time": "2023-01-15T13:12:18.801Z"
   },
   {
    "duration": 14,
    "start_time": "2023-01-15T13:12:18.808Z"
   },
   {
    "duration": 156,
    "start_time": "2023-01-15T13:12:18.823Z"
   },
   {
    "duration": 6,
    "start_time": "2023-01-15T13:12:18.980Z"
   },
   {
    "duration": 29,
    "start_time": "2023-01-15T13:12:18.987Z"
   },
   {
    "duration": 198,
    "start_time": "2023-01-15T13:12:19.018Z"
   },
   {
    "duration": 5,
    "start_time": "2023-01-15T13:12:19.217Z"
   },
   {
    "duration": 42,
    "start_time": "2023-01-15T13:12:19.223Z"
   },
   {
    "duration": 375,
    "start_time": "2023-01-15T13:12:19.266Z"
   },
   {
    "duration": 20,
    "start_time": "2023-01-15T13:12:19.643Z"
   },
   {
    "duration": 147,
    "start_time": "2023-01-15T13:12:19.664Z"
   },
   {
    "duration": 5,
    "start_time": "2023-01-15T13:12:19.812Z"
   },
   {
    "duration": 10,
    "start_time": "2023-01-15T13:12:19.819Z"
   },
   {
    "duration": 6,
    "start_time": "2023-01-15T13:12:19.831Z"
   },
   {
    "duration": 3,
    "start_time": "2023-01-15T13:12:19.842Z"
   },
   {
    "duration": 24,
    "start_time": "2023-01-15T13:12:19.846Z"
   },
   {
    "duration": 286,
    "start_time": "2023-01-15T13:12:19.872Z"
   },
   {
    "duration": 22,
    "start_time": "2023-01-15T13:12:20.160Z"
   },
   {
    "duration": 327,
    "start_time": "2023-01-15T13:12:20.184Z"
   },
   {
    "duration": 25,
    "start_time": "2023-01-15T13:12:20.512Z"
   },
   {
    "duration": 313,
    "start_time": "2023-01-15T13:12:20.538Z"
   },
   {
    "duration": 25,
    "start_time": "2023-01-15T13:12:20.852Z"
   },
   {
    "duration": 305,
    "start_time": "2023-01-15T13:12:20.878Z"
   },
   {
    "duration": 375,
    "start_time": "2023-01-15T13:12:54.360Z"
   },
   {
    "duration": 238,
    "start_time": "2023-01-15T13:12:54.737Z"
   },
   {
    "duration": 92,
    "start_time": "2023-01-15T13:12:54.976Z"
   },
   {
    "duration": 19,
    "start_time": "2023-01-15T13:12:55.070Z"
   },
   {
    "duration": 14,
    "start_time": "2023-01-15T13:12:55.091Z"
   },
   {
    "duration": 41,
    "start_time": "2023-01-15T13:12:55.106Z"
   },
   {
    "duration": 39,
    "start_time": "2023-01-15T13:12:55.149Z"
   },
   {
    "duration": 10,
    "start_time": "2023-01-15T13:12:55.190Z"
   },
   {
    "duration": 11,
    "start_time": "2023-01-15T13:12:55.201Z"
   },
   {
    "duration": 12,
    "start_time": "2023-01-15T13:12:55.214Z"
   },
   {
    "duration": 12,
    "start_time": "2023-01-15T13:12:55.228Z"
   },
   {
    "duration": 10,
    "start_time": "2023-01-15T13:12:55.241Z"
   },
   {
    "duration": 8,
    "start_time": "2023-01-15T13:12:55.253Z"
   },
   {
    "duration": 15,
    "start_time": "2023-01-15T13:12:55.262Z"
   },
   {
    "duration": 4,
    "start_time": "2023-01-15T13:12:55.279Z"
   },
   {
    "duration": 27,
    "start_time": "2023-01-15T13:12:55.284Z"
   },
   {
    "duration": 15,
    "start_time": "2023-01-15T13:12:55.313Z"
   },
   {
    "duration": 9,
    "start_time": "2023-01-15T13:12:55.329Z"
   },
   {
    "duration": 7,
    "start_time": "2023-01-15T13:12:55.340Z"
   },
   {
    "duration": 7,
    "start_time": "2023-01-15T13:12:55.348Z"
   },
   {
    "duration": 7,
    "start_time": "2023-01-15T13:12:55.356Z"
   },
   {
    "duration": 7,
    "start_time": "2023-01-15T13:12:55.365Z"
   },
   {
    "duration": 10,
    "start_time": "2023-01-15T13:12:55.374Z"
   },
   {
    "duration": 25,
    "start_time": "2023-01-15T13:12:55.385Z"
   },
   {
    "duration": 14,
    "start_time": "2023-01-15T13:12:55.411Z"
   },
   {
    "duration": 9,
    "start_time": "2023-01-15T13:12:55.426Z"
   },
   {
    "duration": 12,
    "start_time": "2023-01-15T13:12:55.437Z"
   },
   {
    "duration": 25,
    "start_time": "2023-01-15T13:12:55.454Z"
   },
   {
    "duration": 4,
    "start_time": "2023-01-15T13:12:55.481Z"
   },
   {
    "duration": 28,
    "start_time": "2023-01-15T13:12:55.505Z"
   },
   {
    "duration": 18,
    "start_time": "2023-01-15T13:12:55.535Z"
   },
   {
    "duration": 5,
    "start_time": "2023-01-15T13:12:55.555Z"
   },
   {
    "duration": 13,
    "start_time": "2023-01-15T13:12:55.561Z"
   },
   {
    "duration": 32,
    "start_time": "2023-01-15T13:12:55.575Z"
   },
   {
    "duration": 8,
    "start_time": "2023-01-15T13:12:55.609Z"
   },
   {
    "duration": 8,
    "start_time": "2023-01-15T13:12:55.619Z"
   },
   {
    "duration": 15,
    "start_time": "2023-01-15T13:12:55.629Z"
   },
   {
    "duration": 6,
    "start_time": "2023-01-15T13:12:55.645Z"
   },
   {
    "duration": 25,
    "start_time": "2023-01-15T13:12:55.652Z"
   },
   {
    "duration": 4,
    "start_time": "2023-01-15T13:12:55.678Z"
   },
   {
    "duration": 22,
    "start_time": "2023-01-15T13:12:55.683Z"
   },
   {
    "duration": 8,
    "start_time": "2023-01-15T13:12:55.706Z"
   },
   {
    "duration": 15,
    "start_time": "2023-01-15T13:12:55.715Z"
   },
   {
    "duration": 10,
    "start_time": "2023-01-15T13:12:55.731Z"
   },
   {
    "duration": 6,
    "start_time": "2023-01-15T13:12:55.742Z"
   },
   {
    "duration": 8,
    "start_time": "2023-01-15T13:12:55.749Z"
   },
   {
    "duration": 5,
    "start_time": "2023-01-15T13:12:55.758Z"
   },
   {
    "duration": 43,
    "start_time": "2023-01-15T13:12:55.765Z"
   },
   {
    "duration": 4,
    "start_time": "2023-01-15T13:12:55.810Z"
   },
   {
    "duration": 9,
    "start_time": "2023-01-15T13:12:55.815Z"
   },
   {
    "duration": 7,
    "start_time": "2023-01-15T13:12:55.826Z"
   },
   {
    "duration": 14,
    "start_time": "2023-01-15T13:12:55.834Z"
   },
   {
    "duration": 7,
    "start_time": "2023-01-15T13:12:55.849Z"
   },
   {
    "duration": 6,
    "start_time": "2023-01-15T13:12:55.857Z"
   },
   {
    "duration": 9,
    "start_time": "2023-01-15T13:12:55.864Z"
   },
   {
    "duration": 37,
    "start_time": "2023-01-15T13:12:55.875Z"
   },
   {
    "duration": 25,
    "start_time": "2023-01-15T13:12:55.914Z"
   },
   {
    "duration": 25,
    "start_time": "2023-01-15T13:12:55.941Z"
   },
   {
    "duration": 5,
    "start_time": "2023-01-15T13:12:55.968Z"
   },
   {
    "duration": 39,
    "start_time": "2023-01-15T13:12:55.975Z"
   },
   {
    "duration": 7,
    "start_time": "2023-01-15T13:12:56.016Z"
   },
   {
    "duration": 14,
    "start_time": "2023-01-15T13:12:56.025Z"
   },
   {
    "duration": 18,
    "start_time": "2023-01-15T13:12:56.040Z"
   },
   {
    "duration": 5,
    "start_time": "2023-01-15T13:12:56.060Z"
   },
   {
    "duration": 7,
    "start_time": "2023-01-15T13:12:56.067Z"
   },
   {
    "duration": 16,
    "start_time": "2023-01-15T13:12:56.104Z"
   },
   {
    "duration": 237,
    "start_time": "2023-01-15T13:12:56.121Z"
   },
   {
    "duration": 6,
    "start_time": "2023-01-15T13:12:56.360Z"
   },
   {
    "duration": 17,
    "start_time": "2023-01-15T13:12:56.368Z"
   },
   {
    "duration": 168,
    "start_time": "2023-01-15T13:12:56.386Z"
   },
   {
    "duration": 5,
    "start_time": "2023-01-15T13:12:56.556Z"
   },
   {
    "duration": 55,
    "start_time": "2023-01-15T13:12:56.563Z"
   },
   {
    "duration": 182,
    "start_time": "2023-01-15T13:12:56.619Z"
   },
   {
    "duration": 5,
    "start_time": "2023-01-15T13:12:56.804Z"
   },
   {
    "duration": 41,
    "start_time": "2023-01-15T13:12:56.811Z"
   },
   {
    "duration": 368,
    "start_time": "2023-01-15T13:12:56.853Z"
   },
   {
    "duration": 19,
    "start_time": "2023-01-15T13:12:57.223Z"
   },
   {
    "duration": 210,
    "start_time": "2023-01-15T13:12:57.244Z"
   },
   {
    "duration": 7,
    "start_time": "2023-01-15T13:12:57.456Z"
   },
   {
    "duration": 30,
    "start_time": "2023-01-15T13:12:57.465Z"
   },
   {
    "duration": 36,
    "start_time": "2023-01-15T13:12:57.497Z"
   },
   {
    "duration": 41,
    "start_time": "2023-01-15T13:12:57.540Z"
   },
   {
    "duration": 53,
    "start_time": "2023-01-15T13:12:57.582Z"
   },
   {
    "duration": 255,
    "start_time": "2023-01-15T13:12:57.637Z"
   },
   {
    "duration": 24,
    "start_time": "2023-01-15T13:12:57.894Z"
   },
   {
    "duration": 334,
    "start_time": "2023-01-15T13:12:57.919Z"
   },
   {
    "duration": 31,
    "start_time": "2023-01-15T13:12:58.255Z"
   },
   {
    "duration": 347,
    "start_time": "2023-01-15T13:12:58.287Z"
   },
   {
    "duration": 23,
    "start_time": "2023-01-15T13:12:58.635Z"
   },
   {
    "duration": 312,
    "start_time": "2023-01-15T13:12:58.659Z"
   },
   {
    "duration": 442,
    "start_time": "2023-01-15T13:16:22.296Z"
   },
   {
    "duration": 225,
    "start_time": "2023-01-15T13:16:22.740Z"
   },
   {
    "duration": 89,
    "start_time": "2023-01-15T13:16:22.966Z"
   },
   {
    "duration": 18,
    "start_time": "2023-01-15T13:16:23.057Z"
   },
   {
    "duration": 8,
    "start_time": "2023-01-15T13:16:23.077Z"
   },
   {
    "duration": 53,
    "start_time": "2023-01-15T13:16:23.087Z"
   },
   {
    "duration": 16,
    "start_time": "2023-01-15T13:16:23.142Z"
   },
   {
    "duration": 34,
    "start_time": "2023-01-15T13:16:23.160Z"
   },
   {
    "duration": 26,
    "start_time": "2023-01-15T13:16:23.196Z"
   },
   {
    "duration": 20,
    "start_time": "2023-01-15T13:16:23.224Z"
   },
   {
    "duration": 23,
    "start_time": "2023-01-15T13:16:23.246Z"
   },
   {
    "duration": 13,
    "start_time": "2023-01-15T13:16:23.271Z"
   },
   {
    "duration": 47,
    "start_time": "2023-01-15T13:16:23.286Z"
   },
   {
    "duration": 33,
    "start_time": "2023-01-15T13:16:23.334Z"
   },
   {
    "duration": 10,
    "start_time": "2023-01-15T13:16:23.369Z"
   },
   {
    "duration": 37,
    "start_time": "2023-01-15T13:16:23.381Z"
   },
   {
    "duration": 22,
    "start_time": "2023-01-15T13:16:23.420Z"
   },
   {
    "duration": 20,
    "start_time": "2023-01-15T13:16:23.443Z"
   },
   {
    "duration": 27,
    "start_time": "2023-01-15T13:16:23.465Z"
   },
   {
    "duration": 10,
    "start_time": "2023-01-15T13:16:23.494Z"
   },
   {
    "duration": 18,
    "start_time": "2023-01-15T13:16:23.505Z"
   },
   {
    "duration": 11,
    "start_time": "2023-01-15T13:16:23.524Z"
   },
   {
    "duration": 29,
    "start_time": "2023-01-15T13:16:23.537Z"
   },
   {
    "duration": 9,
    "start_time": "2023-01-15T13:16:23.568Z"
   },
   {
    "duration": 26,
    "start_time": "2023-01-15T13:16:23.579Z"
   },
   {
    "duration": 17,
    "start_time": "2023-01-15T13:16:23.607Z"
   },
   {
    "duration": 27,
    "start_time": "2023-01-15T13:16:23.625Z"
   },
   {
    "duration": 21,
    "start_time": "2023-01-15T13:16:23.655Z"
   },
   {
    "duration": 29,
    "start_time": "2023-01-15T13:16:23.677Z"
   },
   {
    "duration": 41,
    "start_time": "2023-01-15T13:16:23.707Z"
   },
   {
    "duration": 18,
    "start_time": "2023-01-15T13:16:23.749Z"
   },
   {
    "duration": 9,
    "start_time": "2023-01-15T13:16:23.769Z"
   },
   {
    "duration": 18,
    "start_time": "2023-01-15T13:16:23.779Z"
   },
   {
    "duration": 15,
    "start_time": "2023-01-15T13:16:23.799Z"
   },
   {
    "duration": 27,
    "start_time": "2023-01-15T13:16:23.816Z"
   },
   {
    "duration": 24,
    "start_time": "2023-01-15T13:16:23.845Z"
   },
   {
    "duration": 29,
    "start_time": "2023-01-15T13:16:23.871Z"
   },
   {
    "duration": 18,
    "start_time": "2023-01-15T13:16:23.901Z"
   },
   {
    "duration": 27,
    "start_time": "2023-01-15T13:16:23.920Z"
   },
   {
    "duration": 4,
    "start_time": "2023-01-15T13:16:23.949Z"
   },
   {
    "duration": 12,
    "start_time": "2023-01-15T13:16:23.955Z"
   },
   {
    "duration": 25,
    "start_time": "2023-01-15T13:16:23.968Z"
   },
   {
    "duration": 19,
    "start_time": "2023-01-15T13:16:23.995Z"
   },
   {
    "duration": 35,
    "start_time": "2023-01-15T13:16:24.016Z"
   },
   {
    "duration": 21,
    "start_time": "2023-01-15T13:16:24.053Z"
   },
   {
    "duration": 14,
    "start_time": "2023-01-15T13:16:24.076Z"
   },
   {
    "duration": 18,
    "start_time": "2023-01-15T13:16:24.092Z"
   },
   {
    "duration": 30,
    "start_time": "2023-01-15T13:16:24.111Z"
   },
   {
    "duration": 21,
    "start_time": "2023-01-15T13:16:24.143Z"
   },
   {
    "duration": 20,
    "start_time": "2023-01-15T13:16:24.166Z"
   },
   {
    "duration": 9,
    "start_time": "2023-01-15T13:16:24.188Z"
   },
   {
    "duration": 42,
    "start_time": "2023-01-15T13:16:24.199Z"
   },
   {
    "duration": 36,
    "start_time": "2023-01-15T13:16:24.242Z"
   },
   {
    "duration": 35,
    "start_time": "2023-01-15T13:16:24.279Z"
   },
   {
    "duration": 27,
    "start_time": "2023-01-15T13:16:24.316Z"
   },
   {
    "duration": 33,
    "start_time": "2023-01-15T13:16:24.344Z"
   },
   {
    "duration": 51,
    "start_time": "2023-01-15T13:16:24.379Z"
   },
   {
    "duration": 42,
    "start_time": "2023-01-15T13:16:24.431Z"
   },
   {
    "duration": 24,
    "start_time": "2023-01-15T13:16:24.475Z"
   },
   {
    "duration": 29,
    "start_time": "2023-01-15T13:16:24.501Z"
   },
   {
    "duration": 30,
    "start_time": "2023-01-15T13:16:24.532Z"
   },
   {
    "duration": 43,
    "start_time": "2023-01-15T13:16:24.565Z"
   },
   {
    "duration": 26,
    "start_time": "2023-01-15T13:16:24.610Z"
   },
   {
    "duration": 30,
    "start_time": "2023-01-15T13:16:24.637Z"
   },
   {
    "duration": 22,
    "start_time": "2023-01-15T13:16:24.669Z"
   },
   {
    "duration": 23,
    "start_time": "2023-01-15T13:16:24.693Z"
   },
   {
    "duration": 226,
    "start_time": "2023-01-15T13:16:24.718Z"
   },
   {
    "duration": 5,
    "start_time": "2023-01-15T13:16:24.945Z"
   },
   {
    "duration": 39,
    "start_time": "2023-01-15T13:16:24.952Z"
   },
   {
    "duration": 168,
    "start_time": "2023-01-15T13:16:24.992Z"
   },
   {
    "duration": 6,
    "start_time": "2023-01-15T13:16:25.162Z"
   },
   {
    "duration": 54,
    "start_time": "2023-01-15T13:16:25.170Z"
   },
   {
    "duration": 188,
    "start_time": "2023-01-15T13:16:25.226Z"
   },
   {
    "duration": 5,
    "start_time": "2023-01-15T13:16:25.415Z"
   },
   {
    "duration": 24,
    "start_time": "2023-01-15T13:16:25.422Z"
   },
   {
    "duration": 405,
    "start_time": "2023-01-15T13:16:25.448Z"
   },
   {
    "duration": 22,
    "start_time": "2023-01-15T13:16:25.855Z"
   },
   {
    "duration": 177,
    "start_time": "2023-01-15T13:16:25.879Z"
   },
   {
    "duration": 5,
    "start_time": "2023-01-15T13:16:26.058Z"
   },
   {
    "duration": 10,
    "start_time": "2023-01-15T13:16:26.065Z"
   },
   {
    "duration": 10,
    "start_time": "2023-01-15T13:16:26.077Z"
   },
   {
    "duration": 14,
    "start_time": "2023-01-15T13:16:26.093Z"
   },
   {
    "duration": 33,
    "start_time": "2023-01-15T13:16:26.108Z"
   },
   {
    "duration": 275,
    "start_time": "2023-01-15T13:16:26.143Z"
   },
   {
    "duration": 24,
    "start_time": "2023-01-15T13:16:26.420Z"
   },
   {
    "duration": 322,
    "start_time": "2023-01-15T13:16:26.446Z"
   },
   {
    "duration": 24,
    "start_time": "2023-01-15T13:16:26.770Z"
   },
   {
    "duration": 312,
    "start_time": "2023-01-15T13:16:26.804Z"
   },
   {
    "duration": 24,
    "start_time": "2023-01-15T13:16:27.118Z"
   },
   {
    "duration": 352,
    "start_time": "2023-01-15T13:16:27.144Z"
   },
   {
    "duration": 445,
    "start_time": "2023-01-15T14:12:53.176Z"
   },
   {
    "duration": 432,
    "start_time": "2023-01-15T14:12:53.624Z"
   },
   {
    "duration": 590,
    "start_time": "2023-01-15T14:12:54.058Z"
   },
   {
    "duration": 28,
    "start_time": "2023-01-15T14:12:54.652Z"
   },
   {
    "duration": 7,
    "start_time": "2023-01-15T14:12:54.682Z"
   },
   {
    "duration": 166,
    "start_time": "2023-01-15T14:12:54.691Z"
   },
   {
    "duration": 5,
    "start_time": "2023-01-15T14:12:54.859Z"
   },
   {
    "duration": 9,
    "start_time": "2023-01-15T14:12:54.866Z"
   },
   {
    "duration": 8,
    "start_time": "2023-01-15T14:12:54.877Z"
   },
   {
    "duration": 9,
    "start_time": "2023-01-15T14:12:54.889Z"
   },
   {
    "duration": 10,
    "start_time": "2023-01-15T14:12:54.900Z"
   },
   {
    "duration": 7,
    "start_time": "2023-01-15T14:12:54.913Z"
   },
   {
    "duration": 33,
    "start_time": "2023-01-15T14:12:54.922Z"
   },
   {
    "duration": 25,
    "start_time": "2023-01-15T14:12:54.957Z"
   },
   {
    "duration": 10,
    "start_time": "2023-01-15T14:12:54.984Z"
   },
   {
    "duration": 31,
    "start_time": "2023-01-15T14:12:54.996Z"
   },
   {
    "duration": 43,
    "start_time": "2023-01-15T14:12:55.029Z"
   },
   {
    "duration": 20,
    "start_time": "2023-01-15T14:12:55.074Z"
   },
   {
    "duration": 10,
    "start_time": "2023-01-15T14:12:55.096Z"
   },
   {
    "duration": 12,
    "start_time": "2023-01-15T14:12:55.108Z"
   },
   {
    "duration": 10,
    "start_time": "2023-01-15T14:12:55.122Z"
   },
   {
    "duration": 22,
    "start_time": "2023-01-15T14:12:55.134Z"
   },
   {
    "duration": 16,
    "start_time": "2023-01-15T14:12:55.158Z"
   },
   {
    "duration": 6,
    "start_time": "2023-01-15T14:12:55.176Z"
   },
   {
    "duration": 28,
    "start_time": "2023-01-15T14:12:55.184Z"
   },
   {
    "duration": 16,
    "start_time": "2023-01-15T14:12:55.215Z"
   },
   {
    "duration": 22,
    "start_time": "2023-01-15T14:12:55.233Z"
   },
   {
    "duration": 29,
    "start_time": "2023-01-15T14:12:55.261Z"
   },
   {
    "duration": 4,
    "start_time": "2023-01-15T14:12:55.292Z"
   },
   {
    "duration": 60,
    "start_time": "2023-01-15T14:12:55.298Z"
   },
   {
    "duration": 27,
    "start_time": "2023-01-15T14:12:55.361Z"
   },
   {
    "duration": 7,
    "start_time": "2023-01-15T14:12:55.390Z"
   },
   {
    "duration": 14,
    "start_time": "2023-01-15T14:12:55.399Z"
   },
   {
    "duration": 36,
    "start_time": "2023-01-15T14:12:55.415Z"
   },
   {
    "duration": 30,
    "start_time": "2023-01-15T14:12:55.453Z"
   },
   {
    "duration": 15,
    "start_time": "2023-01-15T14:12:55.485Z"
   },
   {
    "duration": 35,
    "start_time": "2023-01-15T14:12:55.502Z"
   },
   {
    "duration": 8,
    "start_time": "2023-01-15T14:12:55.539Z"
   },
   {
    "duration": 25,
    "start_time": "2023-01-15T14:12:55.549Z"
   },
   {
    "duration": 7,
    "start_time": "2023-01-15T14:12:55.577Z"
   },
   {
    "duration": 23,
    "start_time": "2023-01-15T14:12:55.586Z"
   },
   {
    "duration": 11,
    "start_time": "2023-01-15T14:12:55.611Z"
   },
   {
    "duration": 41,
    "start_time": "2023-01-15T14:12:55.624Z"
   },
   {
    "duration": 40,
    "start_time": "2023-01-15T14:12:55.667Z"
   },
   {
    "duration": 17,
    "start_time": "2023-01-15T14:12:55.709Z"
   },
   {
    "duration": 49,
    "start_time": "2023-01-15T14:12:55.728Z"
   },
   {
    "duration": 13,
    "start_time": "2023-01-15T14:12:55.779Z"
   },
   {
    "duration": 24,
    "start_time": "2023-01-15T14:12:55.794Z"
   },
   {
    "duration": 6,
    "start_time": "2023-01-15T14:12:55.821Z"
   },
   {
    "duration": 16,
    "start_time": "2023-01-15T14:12:55.829Z"
   },
   {
    "duration": 25,
    "start_time": "2023-01-15T14:12:55.847Z"
   },
   {
    "duration": 30,
    "start_time": "2023-01-15T14:12:55.874Z"
   },
   {
    "duration": 13,
    "start_time": "2023-01-15T14:12:55.906Z"
   },
   {
    "duration": 28,
    "start_time": "2023-01-15T14:12:55.921Z"
   },
   {
    "duration": 47,
    "start_time": "2023-01-15T14:12:55.952Z"
   },
   {
    "duration": 12,
    "start_time": "2023-01-15T14:12:56.001Z"
   },
   {
    "duration": 43,
    "start_time": "2023-01-15T14:12:56.015Z"
   },
   {
    "duration": 25,
    "start_time": "2023-01-15T14:12:56.060Z"
   },
   {
    "duration": 4,
    "start_time": "2023-01-15T14:12:56.087Z"
   },
   {
    "duration": 36,
    "start_time": "2023-01-15T14:12:56.093Z"
   },
   {
    "duration": 11,
    "start_time": "2023-01-15T14:12:56.131Z"
   },
   {
    "duration": 17,
    "start_time": "2023-01-15T14:12:56.144Z"
   },
   {
    "duration": 22,
    "start_time": "2023-01-15T14:12:56.163Z"
   },
   {
    "duration": 12,
    "start_time": "2023-01-15T14:12:56.187Z"
   },
   {
    "duration": 14,
    "start_time": "2023-01-15T14:12:56.201Z"
   },
   {
    "duration": 35,
    "start_time": "2023-01-15T14:12:56.217Z"
   },
   {
    "duration": 235,
    "start_time": "2023-01-15T14:12:56.253Z"
   },
   {
    "duration": 6,
    "start_time": "2023-01-15T14:12:56.490Z"
   },
   {
    "duration": 19,
    "start_time": "2023-01-15T14:12:56.498Z"
   },
   {
    "duration": 194,
    "start_time": "2023-01-15T14:12:56.519Z"
   },
   {
    "duration": 6,
    "start_time": "2023-01-15T14:12:56.716Z"
   },
   {
    "duration": 35,
    "start_time": "2023-01-15T14:12:56.724Z"
   },
   {
    "duration": 192,
    "start_time": "2023-01-15T14:12:56.761Z"
   },
   {
    "duration": 6,
    "start_time": "2023-01-15T14:12:56.955Z"
   },
   {
    "duration": 32,
    "start_time": "2023-01-15T14:12:56.963Z"
   },
   {
    "duration": 408,
    "start_time": "2023-01-15T14:12:56.996Z"
   },
   {
    "duration": 20,
    "start_time": "2023-01-15T14:12:57.406Z"
   },
   {
    "duration": 178,
    "start_time": "2023-01-15T14:12:57.427Z"
   },
   {
    "duration": 6,
    "start_time": "2023-01-15T14:12:57.606Z"
   },
   {
    "duration": 7,
    "start_time": "2023-01-15T14:12:57.614Z"
   },
   {
    "duration": 8,
    "start_time": "2023-01-15T14:12:57.623Z"
   },
   {
    "duration": 5,
    "start_time": "2023-01-15T14:12:57.654Z"
   },
   {
    "duration": 36,
    "start_time": "2023-01-15T14:12:57.660Z"
   },
   {
    "duration": 283,
    "start_time": "2023-01-15T14:12:57.698Z"
   },
   {
    "duration": 22,
    "start_time": "2023-01-15T14:12:57.983Z"
   },
   {
    "duration": 344,
    "start_time": "2023-01-15T14:12:58.007Z"
   },
   {
    "duration": 31,
    "start_time": "2023-01-15T14:12:58.353Z"
   },
   {
    "duration": 339,
    "start_time": "2023-01-15T14:12:58.385Z"
   },
   {
    "duration": 42,
    "start_time": "2023-01-15T14:12:58.726Z"
   },
   {
    "duration": 341,
    "start_time": "2023-01-15T14:12:58.770Z"
   }
  ],
  "colab": {
   "name": "DA+. Сборный проект 1. Шаблон (1).ipynb",
   "provenance": []
  },
  "kernelspec": {
   "display_name": "Python 3 (ipykernel)",
   "language": "python",
   "name": "python3"
  },
  "language_info": {
   "codemirror_mode": {
    "name": "ipython",
    "version": 3
   },
   "file_extension": ".py",
   "mimetype": "text/x-python",
   "name": "python",
   "nbconvert_exporter": "python",
   "pygments_lexer": "ipython3",
   "version": "3.9.12"
  },
  "toc": {
   "base_numbering": 1,
   "nav_menu": {},
   "number_sections": true,
   "sideBar": true,
   "skip_h1_title": true,
   "title_cell": "Table of Contents",
   "title_sidebar": "Contents",
   "toc_cell": false,
   "toc_position": {
    "height": "calc(100% - 180px)",
    "left": "10px",
    "top": "150px",
    "width": "375.391px"
   },
   "toc_section_display": true,
   "toc_window_display": true
  }
 },
 "nbformat": 4,
 "nbformat_minor": 1
}
