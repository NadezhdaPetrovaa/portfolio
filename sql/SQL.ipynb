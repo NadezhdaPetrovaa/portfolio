{
 "cells": [
  {
   "cell_type": "markdown",
   "metadata": {
    "id": "sRW85nPMDWKb"
   },
   "source": [
    "В этой части проекта написаны несколько SQL-запросов в Jupyter Notebook.\n",
    "\n",
    "**Данные**\n",
    "<br>Необходимые данные находятся в таблицах схемы `stackoverflow`."
   ]
  },
  {
   "cell_type": "code",
   "execution_count": 1,
   "metadata": {
    "id": "nlZBlglMDWKe"
   },
   "outputs": [],
   "source": [
    "import pandas as pd\n",
    "import matplotlib.pyplot as plt\n",
    "import seaborn as sns\n",
    "from sqlalchemy import create_engine "
   ]
  },
  {
   "cell_type": "markdown",
   "metadata": {},
   "source": [
    "## Запросы"
   ]
  },
  {
   "cell_type": "code",
   "execution_count": 2,
   "metadata": {
    "id": "6p-yGp7qDWKg"
   },
   "outputs": [],
   "source": [
    "db_config = {\n",
    "    'user': 'praktikum_student', # имя пользователя\n",
    "    'pwd': 'Sdf4$2;d-d30pp', # пароль\n",
    "    'host': 'rc1b-wcoijxj3yxfsf3fs.mdb.yandexcloud.net',\n",
    "    'port': 6432, # порт подключения\n",
    "    'db': 'data-analyst-advanced-sql' # название базы данных\n",
    "}  \n",
    "\n",
    "connection_string = 'postgresql://{}:{}@{}:{}/{}'.format(\n",
    "    db_config['user'],\n",
    "    db_config['pwd'],\n",
    "    db_config['host'],\n",
    "    db_config['port'],\n",
    "    db_config['db'],\n",
    ")"
   ]
  },
  {
   "cell_type": "markdown",
   "metadata": {
    "id": "2Rg8ZpS0DWKh"
   },
   "source": [
    "Создание подключения"
   ]
  },
  {
   "cell_type": "code",
   "execution_count": 3,
   "metadata": {
    "id": "DamCUTR6DWKi"
   },
   "outputs": [],
   "source": [
    "engine = create_engine(connection_string) "
   ]
  },
  {
   "cell_type": "code",
   "execution_count": 4,
   "metadata": {
    "id": "6Z_fw0yLDWKk"
   },
   "outputs": [],
   "source": [
    "query = '''\n",
    "SELECT *\n",
    "FROM stackoverflow.users\n",
    "LIMIT 10;\n",
    "'''\n",
    "\n",
    "sample_df = pd.read_sql_query(query, con=engine) "
   ]
  },
  {
   "cell_type": "code",
   "execution_count": 5,
   "metadata": {
    "id": "ZpuZ290oDWKk",
    "outputId": "22785a0a-e2bc-4559-ec3c-4879c4b377eb"
   },
   "outputs": [
    {
     "data": {
      "text/html": [
       "<div>\n",
       "<style scoped>\n",
       "    .dataframe tbody tr th:only-of-type {\n",
       "        vertical-align: middle;\n",
       "    }\n",
       "\n",
       "    .dataframe tbody tr th {\n",
       "        vertical-align: top;\n",
       "    }\n",
       "\n",
       "    .dataframe thead th {\n",
       "        text-align: right;\n",
       "    }\n",
       "</style>\n",
       "<table border=\"1\" class=\"dataframe\">\n",
       "  <thead>\n",
       "    <tr style=\"text-align: right;\">\n",
       "      <th></th>\n",
       "      <th>id</th>\n",
       "      <th>creation_date</th>\n",
       "      <th>display_name</th>\n",
       "      <th>last_access_date</th>\n",
       "      <th>location</th>\n",
       "      <th>reputation</th>\n",
       "      <th>views</th>\n",
       "    </tr>\n",
       "  </thead>\n",
       "  <tbody>\n",
       "    <tr>\n",
       "      <th>0</th>\n",
       "      <td>1</td>\n",
       "      <td>2008-07-31 14:22:31</td>\n",
       "      <td>Jeff Atwood</td>\n",
       "      <td>2018-08-29 02:34:23</td>\n",
       "      <td>El Cerrito, CA</td>\n",
       "      <td>44300</td>\n",
       "      <td>408587</td>\n",
       "    </tr>\n",
       "    <tr>\n",
       "      <th>1</th>\n",
       "      <td>2</td>\n",
       "      <td>2008-07-31 14:22:31</td>\n",
       "      <td>Geoff Dalgas</td>\n",
       "      <td>2018-08-23 17:31:56</td>\n",
       "      <td>Corvallis, OR</td>\n",
       "      <td>3491</td>\n",
       "      <td>23966</td>\n",
       "    </tr>\n",
       "    <tr>\n",
       "      <th>2</th>\n",
       "      <td>3</td>\n",
       "      <td>2008-07-31 14:22:31</td>\n",
       "      <td>Jarrod Dixon</td>\n",
       "      <td>2018-08-30 20:56:24</td>\n",
       "      <td>Raleigh, NC, United States</td>\n",
       "      <td>13418</td>\n",
       "      <td>24396</td>\n",
       "    </tr>\n",
       "    <tr>\n",
       "      <th>3</th>\n",
       "      <td>4</td>\n",
       "      <td>2008-07-31 14:22:31</td>\n",
       "      <td>Joel Spolsky</td>\n",
       "      <td>2018-08-14 22:18:15</td>\n",
       "      <td>New York, NY</td>\n",
       "      <td>28768</td>\n",
       "      <td>73755</td>\n",
       "    </tr>\n",
       "    <tr>\n",
       "      <th>4</th>\n",
       "      <td>5</td>\n",
       "      <td>2008-07-31 14:22:31</td>\n",
       "      <td>Jon Galloway</td>\n",
       "      <td>2018-08-29 16:48:36</td>\n",
       "      <td>San Diego, CA</td>\n",
       "      <td>39172</td>\n",
       "      <td>11700</td>\n",
       "    </tr>\n",
       "    <tr>\n",
       "      <th>5</th>\n",
       "      <td>8</td>\n",
       "      <td>2008-07-31 21:33:24</td>\n",
       "      <td>Eggs McLaren</td>\n",
       "      <td>2018-04-09 02:04:56</td>\n",
       "      <td>None</td>\n",
       "      <td>942</td>\n",
       "      <td>6372</td>\n",
       "    </tr>\n",
       "    <tr>\n",
       "      <th>6</th>\n",
       "      <td>9</td>\n",
       "      <td>2008-07-31 21:35:27</td>\n",
       "      <td>Kevin Dente</td>\n",
       "      <td>2018-08-30 18:18:03</td>\n",
       "      <td>Oakland, CA</td>\n",
       "      <td>14337</td>\n",
       "      <td>4949</td>\n",
       "    </tr>\n",
       "    <tr>\n",
       "      <th>7</th>\n",
       "      <td>11</td>\n",
       "      <td>2008-08-01 00:59:11</td>\n",
       "      <td>Anonymous User</td>\n",
       "      <td>2008-08-01 00:59:11</td>\n",
       "      <td>None</td>\n",
       "      <td>1890</td>\n",
       "      <td>2123</td>\n",
       "    </tr>\n",
       "    <tr>\n",
       "      <th>8</th>\n",
       "      <td>13</td>\n",
       "      <td>2008-08-01 04:18:05</td>\n",
       "      <td>Chris Jester-Young</td>\n",
       "      <td>2018-08-30 02:47:23</td>\n",
       "      <td>Raleigh, NC, United States</td>\n",
       "      <td>177138</td>\n",
       "      <td>35414</td>\n",
       "    </tr>\n",
       "    <tr>\n",
       "      <th>9</th>\n",
       "      <td>17</td>\n",
       "      <td>2008-08-01 12:02:22</td>\n",
       "      <td>Nick Berardi</td>\n",
       "      <td>2018-01-22 01:35:38</td>\n",
       "      <td>Issaquah, WA</td>\n",
       "      <td>44443</td>\n",
       "      <td>4786</td>\n",
       "    </tr>\n",
       "  </tbody>\n",
       "</table>\n",
       "</div>"
      ],
      "text/plain": [
       "   id       creation_date        display_name    last_access_date  \\\n",
       "0   1 2008-07-31 14:22:31         Jeff Atwood 2018-08-29 02:34:23   \n",
       "1   2 2008-07-31 14:22:31        Geoff Dalgas 2018-08-23 17:31:56   \n",
       "2   3 2008-07-31 14:22:31        Jarrod Dixon 2018-08-30 20:56:24   \n",
       "3   4 2008-07-31 14:22:31        Joel Spolsky 2018-08-14 22:18:15   \n",
       "4   5 2008-07-31 14:22:31        Jon Galloway 2018-08-29 16:48:36   \n",
       "5   8 2008-07-31 21:33:24        Eggs McLaren 2018-04-09 02:04:56   \n",
       "6   9 2008-07-31 21:35:27         Kevin Dente 2018-08-30 18:18:03   \n",
       "7  11 2008-08-01 00:59:11      Anonymous User 2008-08-01 00:59:11   \n",
       "8  13 2008-08-01 04:18:05  Chris Jester-Young 2018-08-30 02:47:23   \n",
       "9  17 2008-08-01 12:02:22        Nick Berardi 2018-01-22 01:35:38   \n",
       "\n",
       "                     location  reputation   views  \n",
       "0              El Cerrito, CA       44300  408587  \n",
       "1               Corvallis, OR        3491   23966  \n",
       "2  Raleigh, NC, United States       13418   24396  \n",
       "3                New York, NY       28768   73755  \n",
       "4               San Diego, CA       39172   11700  \n",
       "5                        None         942    6372  \n",
       "6                 Oakland, CA       14337    4949  \n",
       "7                        None        1890    2123  \n",
       "8  Raleigh, NC, United States      177138   35414  \n",
       "9                Issaquah, WA       44443    4786  "
      ]
     },
     "execution_count": 5,
     "metadata": {},
     "output_type": "execute_result"
    }
   ],
   "source": [
    "sample_df"
   ]
  },
  {
   "cell_type": "markdown",
   "metadata": {},
   "source": [
    "### SQL запросы"
   ]
  },
  {
   "cell_type": "markdown",
   "metadata": {
    "id": "gnBMXkDBDWKm"
   },
   "source": [
    "# Запрос 1"
   ]
  },
  {
   "cell_type": "markdown",
   "metadata": {
    "id": "vHsfOrrNDWKn"
   },
   "source": [
    "Выведите общую сумму просмотров постов за каждый месяц 2008 года. Если данных за какой-либо месяц в базе нет, такой месяц можно пропустить. Результат отсортируйте по убыванию общего количества просмотров."
   ]
  },
  {
   "cell_type": "code",
   "execution_count": 6,
   "metadata": {
    "id": "eWvykcXTDWKo"
   },
   "outputs": [],
   "source": [
    "# запрос\n",
    "query = '''\n",
    "SELECT DATE_TRUNC('month', creation_date)::date AS month_date,\n",
    "       SUM(views_count) AS total_views\n",
    "FROM stackoverflow.posts\n",
    "WHERE EXTRACT(YEAR FROM creation_date) = 2008\n",
    "GROUP BY month_date\n",
    "ORDER BY total_views DESC\n",
    "'''\n",
    "\n",
    "# выполнение запроса\n",
    "sample_df = pd.read_sql_query(query, con=engine) "
   ]
  },
  {
   "cell_type": "code",
   "execution_count": 7,
   "metadata": {},
   "outputs": [
    {
     "data": {
      "text/html": [
       "<div>\n",
       "<style scoped>\n",
       "    .dataframe tbody tr th:only-of-type {\n",
       "        vertical-align: middle;\n",
       "    }\n",
       "\n",
       "    .dataframe tbody tr th {\n",
       "        vertical-align: top;\n",
       "    }\n",
       "\n",
       "    .dataframe thead th {\n",
       "        text-align: right;\n",
       "    }\n",
       "</style>\n",
       "<table border=\"1\" class=\"dataframe\">\n",
       "  <thead>\n",
       "    <tr style=\"text-align: right;\">\n",
       "      <th></th>\n",
       "      <th>month_date</th>\n",
       "      <th>total_views</th>\n",
       "    </tr>\n",
       "  </thead>\n",
       "  <tbody>\n",
       "    <tr>\n",
       "      <th>0</th>\n",
       "      <td>2008-09-01</td>\n",
       "      <td>452928568</td>\n",
       "    </tr>\n",
       "    <tr>\n",
       "      <th>1</th>\n",
       "      <td>2008-10-01</td>\n",
       "      <td>365400138</td>\n",
       "    </tr>\n",
       "    <tr>\n",
       "      <th>2</th>\n",
       "      <td>2008-11-01</td>\n",
       "      <td>221759651</td>\n",
       "    </tr>\n",
       "    <tr>\n",
       "      <th>3</th>\n",
       "      <td>2008-12-01</td>\n",
       "      <td>197792841</td>\n",
       "    </tr>\n",
       "    <tr>\n",
       "      <th>4</th>\n",
       "      <td>2008-08-01</td>\n",
       "      <td>131367083</td>\n",
       "    </tr>\n",
       "    <tr>\n",
       "      <th>5</th>\n",
       "      <td>2008-07-01</td>\n",
       "      <td>669895</td>\n",
       "    </tr>\n",
       "  </tbody>\n",
       "</table>\n",
       "</div>"
      ],
      "text/plain": [
       "   month_date  total_views\n",
       "0  2008-09-01    452928568\n",
       "1  2008-10-01    365400138\n",
       "2  2008-11-01    221759651\n",
       "3  2008-12-01    197792841\n",
       "4  2008-08-01    131367083\n",
       "5  2008-07-01       669895"
      ]
     },
     "execution_count": 7,
     "metadata": {},
     "output_type": "execute_result"
    }
   ],
   "source": [
    "sample_df"
   ]
  },
  {
   "cell_type": "markdown",
   "metadata": {
    "id": "luxSj17oDWKq"
   },
   "source": [
    "***Данные за разные месяцы различаются. Это может быть связано с тем, что сайт был открыт в конце июля 2008 года, и далее количество просмотров соответсвенно росло. Снижение просмотров с октября может быть связано с тем, что количество уникальных вопросов и ответов соответсвенно уменьшалось ввиду решения подобных задач ранее.***"
   ]
  },
  {
   "cell_type": "markdown",
   "metadata": {
    "id": "FziIXkn5DWKr"
   },
   "source": [
    "# Запрос 2"
   ]
  },
  {
   "cell_type": "markdown",
   "metadata": {
    "id": "fTGESZvYDWKr"
   },
   "source": [
    "Выведите имена самых активных пользователей, которые в первый месяц после регистрации (включая день регистрации) дали больше 100 ответов. Вопросы, которые задавали пользователи, не учитывайте. Для каждого имени пользователя выведите количество уникальных значений `user_id`. Отсортируйте результат по полю с именами в лексикографическом порядке."
   ]
  },
  {
   "cell_type": "code",
   "execution_count": 8,
   "metadata": {
    "id": "fIO-y-YjDWKt"
   },
   "outputs": [],
   "source": [
    "# запрос\n",
    "query = '''\n",
    "SELECT u.display_name,\n",
    "       COUNT(DISTINCT u.id)\n",
    "FROM stackoverflow.posts p\n",
    "     JOIN stackoverflow.post_types pt \n",
    "     ON p.post_type_id = pt.id\n",
    "     JOIN stackoverflow.users u \n",
    "     ON p.user_id = u.id\n",
    "WHERE pt.type = 'Answer'\n",
    "      AND p.creation_date < u.creation_date + INTERVAL '1 months'\n",
    "GROUP BY display_name\n",
    "HAVING COUNT(p.id) > 100\n",
    "ORDER BY display_name\n",
    "'''\n",
    "\n",
    "# выполнение запроса\n",
    "sample_df = pd.read_sql_query(query, con=engine) "
   ]
  },
  {
   "cell_type": "code",
   "execution_count": 9,
   "metadata": {},
   "outputs": [
    {
     "data": {
      "text/html": [
       "<div>\n",
       "<style scoped>\n",
       "    .dataframe tbody tr th:only-of-type {\n",
       "        vertical-align: middle;\n",
       "    }\n",
       "\n",
       "    .dataframe tbody tr th {\n",
       "        vertical-align: top;\n",
       "    }\n",
       "\n",
       "    .dataframe thead th {\n",
       "        text-align: right;\n",
       "    }\n",
       "</style>\n",
       "<table border=\"1\" class=\"dataframe\">\n",
       "  <thead>\n",
       "    <tr style=\"text-align: right;\">\n",
       "      <th></th>\n",
       "      <th>display_name</th>\n",
       "      <th>count</th>\n",
       "    </tr>\n",
       "  </thead>\n",
       "  <tbody>\n",
       "    <tr>\n",
       "      <th>0</th>\n",
       "      <td>1800 INFORMATION</td>\n",
       "      <td>1</td>\n",
       "    </tr>\n",
       "    <tr>\n",
       "      <th>1</th>\n",
       "      <td>Adam Bellaire</td>\n",
       "      <td>1</td>\n",
       "    </tr>\n",
       "    <tr>\n",
       "      <th>2</th>\n",
       "      <td>Adam Davis</td>\n",
       "      <td>1</td>\n",
       "    </tr>\n",
       "    <tr>\n",
       "      <th>3</th>\n",
       "      <td>Adam Liss</td>\n",
       "      <td>1</td>\n",
       "    </tr>\n",
       "    <tr>\n",
       "      <th>4</th>\n",
       "      <td>Alan</td>\n",
       "      <td>8</td>\n",
       "    </tr>\n",
       "    <tr>\n",
       "      <th>...</th>\n",
       "      <td>...</td>\n",
       "      <td>...</td>\n",
       "    </tr>\n",
       "    <tr>\n",
       "      <th>71</th>\n",
       "      <td>leppie</td>\n",
       "      <td>1</td>\n",
       "    </tr>\n",
       "    <tr>\n",
       "      <th>72</th>\n",
       "      <td>lomaxx</td>\n",
       "      <td>1</td>\n",
       "    </tr>\n",
       "    <tr>\n",
       "      <th>73</th>\n",
       "      <td>mattlant</td>\n",
       "      <td>1</td>\n",
       "    </tr>\n",
       "    <tr>\n",
       "      <th>74</th>\n",
       "      <td>paxdiablo</td>\n",
       "      <td>1</td>\n",
       "    </tr>\n",
       "    <tr>\n",
       "      <th>75</th>\n",
       "      <td>tzot</td>\n",
       "      <td>1</td>\n",
       "    </tr>\n",
       "  </tbody>\n",
       "</table>\n",
       "<p>76 rows × 2 columns</p>\n",
       "</div>"
      ],
      "text/plain": [
       "        display_name  count\n",
       "0   1800 INFORMATION      1\n",
       "1      Adam Bellaire      1\n",
       "2         Adam Davis      1\n",
       "3          Adam Liss      1\n",
       "4               Alan      8\n",
       "..               ...    ...\n",
       "71            leppie      1\n",
       "72            lomaxx      1\n",
       "73          mattlant      1\n",
       "74         paxdiablo      1\n",
       "75              tzot      1\n",
       "\n",
       "[76 rows x 2 columns]"
      ]
     },
     "execution_count": 9,
     "metadata": {},
     "output_type": "execute_result"
    }
   ],
   "source": [
    "sample_df"
   ]
  },
  {
   "cell_type": "code",
   "execution_count": 10,
   "metadata": {},
   "outputs": [
    {
     "data": {
      "text/html": [
       "<div>\n",
       "<style scoped>\n",
       "    .dataframe tbody tr th:only-of-type {\n",
       "        vertical-align: middle;\n",
       "    }\n",
       "\n",
       "    .dataframe tbody tr th {\n",
       "        vertical-align: top;\n",
       "    }\n",
       "\n",
       "    .dataframe thead th {\n",
       "        text-align: right;\n",
       "    }\n",
       "</style>\n",
       "<table border=\"1\" class=\"dataframe\">\n",
       "  <thead>\n",
       "    <tr style=\"text-align: right;\">\n",
       "      <th></th>\n",
       "      <th>display_name</th>\n",
       "      <th>count</th>\n",
       "    </tr>\n",
       "  </thead>\n",
       "  <tbody>\n",
       "    <tr>\n",
       "      <th>10</th>\n",
       "      <td>Chris</td>\n",
       "      <td>29</td>\n",
       "    </tr>\n",
       "    <tr>\n",
       "      <th>43</th>\n",
       "      <td>Matt</td>\n",
       "      <td>29</td>\n",
       "    </tr>\n",
       "    <tr>\n",
       "      <th>14</th>\n",
       "      <td>Dan</td>\n",
       "      <td>21</td>\n",
       "    </tr>\n",
       "    <tr>\n",
       "      <th>62</th>\n",
       "      <td>Tom</td>\n",
       "      <td>19</td>\n",
       "    </tr>\n",
       "    <tr>\n",
       "      <th>33</th>\n",
       "      <td>Josh</td>\n",
       "      <td>16</td>\n",
       "    </tr>\n",
       "    <tr>\n",
       "      <th>40</th>\n",
       "      <td>Mark</td>\n",
       "      <td>16</td>\n",
       "    </tr>\n",
       "    <tr>\n",
       "      <th>48</th>\n",
       "      <td>Nick</td>\n",
       "      <td>16</td>\n",
       "    </tr>\n",
       "    <tr>\n",
       "      <th>7</th>\n",
       "      <td>Brian</td>\n",
       "      <td>15</td>\n",
       "    </tr>\n",
       "    <tr>\n",
       "      <th>54</th>\n",
       "      <td>Rob</td>\n",
       "      <td>15</td>\n",
       "    </tr>\n",
       "    <tr>\n",
       "      <th>21</th>\n",
       "      <td>Greg</td>\n",
       "      <td>12</td>\n",
       "    </tr>\n",
       "    <tr>\n",
       "      <th>35</th>\n",
       "      <td>Kevin</td>\n",
       "      <td>11</td>\n",
       "    </tr>\n",
       "    <tr>\n",
       "      <th>57</th>\n",
       "      <td>Ryan</td>\n",
       "      <td>10</td>\n",
       "    </tr>\n",
       "    <tr>\n",
       "      <th>12</th>\n",
       "      <td>Craig</td>\n",
       "      <td>10</td>\n",
       "    </tr>\n",
       "    <tr>\n",
       "      <th>26</th>\n",
       "      <td>Joe</td>\n",
       "      <td>9</td>\n",
       "    </tr>\n",
       "    <tr>\n",
       "      <th>4</th>\n",
       "      <td>Alan</td>\n",
       "      <td>8</td>\n",
       "    </tr>\n",
       "    <tr>\n",
       "      <th>25</th>\n",
       "      <td>Jim</td>\n",
       "      <td>7</td>\n",
       "    </tr>\n",
       "    <tr>\n",
       "      <th>34</th>\n",
       "      <td>Keith</td>\n",
       "      <td>5</td>\n",
       "    </tr>\n",
       "    <tr>\n",
       "      <th>50</th>\n",
       "      <td>Oli</td>\n",
       "      <td>3</td>\n",
       "    </tr>\n",
       "    <tr>\n",
       "      <th>70</th>\n",
       "      <td>jfs</td>\n",
       "      <td>3</td>\n",
       "    </tr>\n",
       "  </tbody>\n",
       "</table>\n",
       "</div>"
      ],
      "text/plain": [
       "   display_name  count\n",
       "10        Chris     29\n",
       "43         Matt     29\n",
       "14          Dan     21\n",
       "62          Tom     19\n",
       "33         Josh     16\n",
       "40         Mark     16\n",
       "48         Nick     16\n",
       "7         Brian     15\n",
       "54          Rob     15\n",
       "21         Greg     12\n",
       "35        Kevin     11\n",
       "57         Ryan     10\n",
       "12        Craig     10\n",
       "26          Joe      9\n",
       "4          Alan      8\n",
       "25          Jim      7\n",
       "34        Keith      5\n",
       "50          Oli      3\n",
       "70          jfs      3"
      ]
     },
     "execution_count": 10,
     "metadata": {},
     "output_type": "execute_result"
    }
   ],
   "source": [
    "sample_df_more = sample_df[sample_df['count'] > 1].sort_values(by='count', ascending=False)\n",
    "sample_df_more"
   ]
  },
  {
   "cell_type": "code",
   "execution_count": 11,
   "metadata": {},
   "outputs": [
    {
     "name": "stdout",
     "output_type": "stream",
     "text": [
      "На 19 никнеймов приходится 254 уникальных id.\n"
     ]
    }
   ],
   "source": [
    "print(f'На {sample_df_more.shape[0]} никнеймов приходится {sample_df_more[\"count\"].sum()} уникальных id.')"
   ]
  },
  {
   "cell_type": "markdown",
   "metadata": {
    "id": "CEIGGQ6ODWKy"
   },
   "source": [
    "***В данных наблюдается определенная аномалия: количество уникальных id превышает количество никнеймов. Это говорит о том, что есть пользователи с одинаковыми именами (никнеймами).***"
   ]
  },
  {
   "cell_type": "markdown",
   "metadata": {
    "id": "JhM2xXj5DWKu"
   },
   "source": [
    "# Запрос 3"
   ]
  },
  {
   "cell_type": "markdown",
   "metadata": {
    "id": "IS6xPqyyDWKu"
   },
   "source": [
    "Выведите количество постов за 2008 год по месяцам. Отберите посты от пользователей, которые зарегистрировались в сентябре 2008 года и сделали хотя бы один пост в декабре того же года. Отсортируйте таблицу по значению месяца по убыванию."
   ]
  },
  {
   "cell_type": "code",
   "execution_count": 12,
   "metadata": {
    "id": "kVu0FB8WDWKv"
   },
   "outputs": [],
   "source": [
    "# запрос\n",
    "query = '''\n",
    "SELECT DATE_TRUNC('month', creation_date)::date AS month,\n",
    "       COUNT(id)\n",
    "FROM stackoverflow.posts\n",
    "WHERE user_id IN (SELECT DISTINCT u.id FROM stackoverflow.users AS u \n",
    "                         JOIN stackoverflow.posts AS p\n",
    "                         ON u.id = p.user_id\n",
    "                         WHERE EXTRACT(MONTH FROM u.creation_date) = 9\n",
    "                         AND EXTRACT(MONTH FROM p.creation_date) = 12)\n",
    "GROUP BY month\n",
    "ORDER BY month DESC\n",
    "'''\n",
    "\n",
    "# выполнение запроса\n",
    "sample_df = pd.read_sql_query(query, con=engine) "
   ]
  },
  {
   "cell_type": "code",
   "execution_count": 13,
   "metadata": {},
   "outputs": [
    {
     "data": {
      "text/html": [
       "<div>\n",
       "<style scoped>\n",
       "    .dataframe tbody tr th:only-of-type {\n",
       "        vertical-align: middle;\n",
       "    }\n",
       "\n",
       "    .dataframe tbody tr th {\n",
       "        vertical-align: top;\n",
       "    }\n",
       "\n",
       "    .dataframe thead th {\n",
       "        text-align: right;\n",
       "    }\n",
       "</style>\n",
       "<table border=\"1\" class=\"dataframe\">\n",
       "  <thead>\n",
       "    <tr style=\"text-align: right;\">\n",
       "      <th></th>\n",
       "      <th>month</th>\n",
       "      <th>count</th>\n",
       "    </tr>\n",
       "  </thead>\n",
       "  <tbody>\n",
       "    <tr>\n",
       "      <th>0</th>\n",
       "      <td>2008-12-01</td>\n",
       "      <td>17641</td>\n",
       "    </tr>\n",
       "    <tr>\n",
       "      <th>1</th>\n",
       "      <td>2008-11-01</td>\n",
       "      <td>18294</td>\n",
       "    </tr>\n",
       "    <tr>\n",
       "      <th>2</th>\n",
       "      <td>2008-10-01</td>\n",
       "      <td>27171</td>\n",
       "    </tr>\n",
       "    <tr>\n",
       "      <th>3</th>\n",
       "      <td>2008-09-01</td>\n",
       "      <td>24870</td>\n",
       "    </tr>\n",
       "    <tr>\n",
       "      <th>4</th>\n",
       "      <td>2008-08-01</td>\n",
       "      <td>32</td>\n",
       "    </tr>\n",
       "  </tbody>\n",
       "</table>\n",
       "</div>"
      ],
      "text/plain": [
       "        month  count\n",
       "0  2008-12-01  17641\n",
       "1  2008-11-01  18294\n",
       "2  2008-10-01  27171\n",
       "3  2008-09-01  24870\n",
       "4  2008-08-01     32"
      ]
     },
     "execution_count": 13,
     "metadata": {},
     "output_type": "execute_result"
    }
   ],
   "source": [
    "sample_df"
   ]
  },
  {
   "cell_type": "markdown",
   "metadata": {
    "id": "MMVIz4yMlKpN"
   },
   "source": [
    "***В данных существует одна аномалия: 32 поста за август от пользователей, которые зарегестрировались только в сентябре. Возможно это связано с технической ошибкой.***"
   ]
  },
  {
   "cell_type": "markdown",
   "metadata": {
    "id": "5Pcizm0DDWKz"
   },
   "source": [
    "# Запрос 4"
   ]
  },
  {
   "cell_type": "markdown",
   "metadata": {
    "id": "KUZPF6vHDWKz"
   },
   "source": [
    "Используя данные о постах, выведите несколько полей:\n",
    "\n",
    "- идентификатор пользователя, который написал пост;\n",
    "- дата создания поста;\n",
    "- количество просмотров у текущего поста;\n",
    "- сумму просмотров постов автора с накоплением.\n",
    "\n",
    "Данные в таблице должны быть отсортированы по возрастанию идентификаторов пользователей, а данные об одном и том же пользователе — по возрастанию даты создания поста."
   ]
  },
  {
   "cell_type": "code",
   "execution_count": 14,
   "metadata": {
    "id": "hDoJhMzfDWK0"
   },
   "outputs": [],
   "source": [
    "# запрос\n",
    "query = '''\n",
    "SELECT user_id,\n",
    "       creation_date,\n",
    "       views_count,\n",
    "       SUM(views_count) OVER(PARTITION BY user_id ORDER BY creation_date)\n",
    "FROM stackoverflow.posts\n",
    "ORDER BY user_id, creation_date\n",
    "'''\n",
    "\n",
    "# выполнение запроса\n",
    "sample_df = pd.read_sql_query(query, con=engine)"
   ]
  },
  {
   "cell_type": "code",
   "execution_count": 15,
   "metadata": {},
   "outputs": [
    {
     "data": {
      "text/html": [
       "<div>\n",
       "<style scoped>\n",
       "    .dataframe tbody tr th:only-of-type {\n",
       "        vertical-align: middle;\n",
       "    }\n",
       "\n",
       "    .dataframe tbody tr th {\n",
       "        vertical-align: top;\n",
       "    }\n",
       "\n",
       "    .dataframe thead th {\n",
       "        text-align: right;\n",
       "    }\n",
       "</style>\n",
       "<table border=\"1\" class=\"dataframe\">\n",
       "  <thead>\n",
       "    <tr style=\"text-align: right;\">\n",
       "      <th></th>\n",
       "      <th>user_id</th>\n",
       "      <th>creation_date</th>\n",
       "      <th>views_count</th>\n",
       "      <th>sum</th>\n",
       "    </tr>\n",
       "  </thead>\n",
       "  <tbody>\n",
       "    <tr>\n",
       "      <th>0</th>\n",
       "      <td>1</td>\n",
       "      <td>2008-07-31 23:41:00</td>\n",
       "      <td>480476</td>\n",
       "      <td>480476</td>\n",
       "    </tr>\n",
       "    <tr>\n",
       "      <th>1</th>\n",
       "      <td>1</td>\n",
       "      <td>2008-07-31 23:55:38</td>\n",
       "      <td>136033</td>\n",
       "      <td>616509</td>\n",
       "    </tr>\n",
       "    <tr>\n",
       "      <th>2</th>\n",
       "      <td>1</td>\n",
       "      <td>2008-07-31 23:56:41</td>\n",
       "      <td>0</td>\n",
       "      <td>616509</td>\n",
       "    </tr>\n",
       "    <tr>\n",
       "      <th>3</th>\n",
       "      <td>1</td>\n",
       "      <td>2008-08-04 02:45:08</td>\n",
       "      <td>0</td>\n",
       "      <td>616509</td>\n",
       "    </tr>\n",
       "    <tr>\n",
       "      <th>4</th>\n",
       "      <td>1</td>\n",
       "      <td>2008-08-04 04:31:03</td>\n",
       "      <td>0</td>\n",
       "      <td>616509</td>\n",
       "    </tr>\n",
       "    <tr>\n",
       "      <th>...</th>\n",
       "      <td>...</td>\n",
       "      <td>...</td>\n",
       "      <td>...</td>\n",
       "      <td>...</td>\n",
       "    </tr>\n",
       "    <tr>\n",
       "      <th>243791</th>\n",
       "      <td>5696608</td>\n",
       "      <td>2008-12-23 16:00:37</td>\n",
       "      <td>0</td>\n",
       "      <td>2804</td>\n",
       "    </tr>\n",
       "    <tr>\n",
       "      <th>243792</th>\n",
       "      <td>5696608</td>\n",
       "      <td>2008-12-23 17:35:09</td>\n",
       "      <td>0</td>\n",
       "      <td>2804</td>\n",
       "    </tr>\n",
       "    <tr>\n",
       "      <th>243793</th>\n",
       "      <td>5696608</td>\n",
       "      <td>2008-12-24 01:02:48</td>\n",
       "      <td>0</td>\n",
       "      <td>2804</td>\n",
       "    </tr>\n",
       "    <tr>\n",
       "      <th>243794</th>\n",
       "      <td>5696608</td>\n",
       "      <td>2008-12-30 14:34:45</td>\n",
       "      <td>0</td>\n",
       "      <td>2804</td>\n",
       "    </tr>\n",
       "    <tr>\n",
       "      <th>243795</th>\n",
       "      <td>5696608</td>\n",
       "      <td>2008-12-30 16:32:12</td>\n",
       "      <td>0</td>\n",
       "      <td>2804</td>\n",
       "    </tr>\n",
       "  </tbody>\n",
       "</table>\n",
       "<p>243796 rows × 4 columns</p>\n",
       "</div>"
      ],
      "text/plain": [
       "        user_id       creation_date  views_count     sum\n",
       "0             1 2008-07-31 23:41:00       480476  480476\n",
       "1             1 2008-07-31 23:55:38       136033  616509\n",
       "2             1 2008-07-31 23:56:41            0  616509\n",
       "3             1 2008-08-04 02:45:08            0  616509\n",
       "4             1 2008-08-04 04:31:03            0  616509\n",
       "...         ...                 ...          ...     ...\n",
       "243791  5696608 2008-12-23 16:00:37            0    2804\n",
       "243792  5696608 2008-12-23 17:35:09            0    2804\n",
       "243793  5696608 2008-12-24 01:02:48            0    2804\n",
       "243794  5696608 2008-12-30 14:34:45            0    2804\n",
       "243795  5696608 2008-12-30 16:32:12            0    2804\n",
       "\n",
       "[243796 rows x 4 columns]"
      ]
     },
     "execution_count": 15,
     "metadata": {},
     "output_type": "execute_result"
    }
   ],
   "source": [
    "sample_df"
   ]
  },
  {
   "cell_type": "markdown",
   "metadata": {
    "id": "N0kHRHvIDWK2"
   },
   "source": [
    "# Запрос 5"
   ]
  },
  {
   "cell_type": "markdown",
   "metadata": {
    "id": "gBgvmPtODWK2"
   },
   "source": [
    "Найдите среднее количество постов пользователей в день за август 2008 года. Отберите данные о пользователях, которые опубликовали больше 120 постов за август. Дни без публикаций не учитывайте. \n",
    "\n",
    "Отсортируйте результат по возрастанию среднего количества постов. Значения можно не округлять."
   ]
  },
  {
   "cell_type": "code",
   "execution_count": 16,
   "metadata": {},
   "outputs": [],
   "source": [
    "# запрос\n",
    "query = '''\n",
    "WITH df AS\n",
    "(SELECT user_id,\n",
    "       DATE_TRUNC('day', creation_date)::date,\n",
    "       COUNT(id)\n",
    "FROM stackoverflow.posts\n",
    "WHERE user_id IN\n",
    "  (SELECT user_id\n",
    "  FROM stackoverflow.posts\n",
    "  WHERE DATE_TRUNC('month', creation_date)::date = '2008-08-01'\n",
    "  GROUP BY user_id\n",
    "  HAVING COUNT(id) > 120)\n",
    "GROUP BY user_id, DATE_TRUNC('day', creation_date)::date)\n",
    "\n",
    "\n",
    "SELECT d.user_id,\n",
    "       AVG(d.count)\n",
    "FROM df d\n",
    "WHERE DATE_TRUNC('month', d.date_trunc)::date = '2008-08-01'\n",
    "GROUP BY 1\n",
    "ORDER BY 2\n",
    "'''\n",
    "\n",
    "# выполнение запроса\n",
    "sample_df = pd.read_sql_query(query, con=engine)"
   ]
  },
  {
   "cell_type": "code",
   "execution_count": 17,
   "metadata": {},
   "outputs": [
    {
     "data": {
      "text/html": [
       "<div>\n",
       "<style scoped>\n",
       "    .dataframe tbody tr th:only-of-type {\n",
       "        vertical-align: middle;\n",
       "    }\n",
       "\n",
       "    .dataframe tbody tr th {\n",
       "        vertical-align: top;\n",
       "    }\n",
       "\n",
       "    .dataframe thead th {\n",
       "        text-align: right;\n",
       "    }\n",
       "</style>\n",
       "<table border=\"1\" class=\"dataframe\">\n",
       "  <thead>\n",
       "    <tr style=\"text-align: right;\">\n",
       "      <th></th>\n",
       "      <th>user_id</th>\n",
       "      <th>avg</th>\n",
       "    </tr>\n",
       "  </thead>\n",
       "  <tbody>\n",
       "    <tr>\n",
       "      <th>0</th>\n",
       "      <td>116</td>\n",
       "      <td>4.777778</td>\n",
       "    </tr>\n",
       "    <tr>\n",
       "      <th>1</th>\n",
       "      <td>234</td>\n",
       "      <td>5.208333</td>\n",
       "    </tr>\n",
       "    <tr>\n",
       "      <th>2</th>\n",
       "      <td>91</td>\n",
       "      <td>5.681818</td>\n",
       "    </tr>\n",
       "    <tr>\n",
       "      <th>3</th>\n",
       "      <td>905</td>\n",
       "      <td>7.000000</td>\n",
       "    </tr>\n",
       "    <tr>\n",
       "      <th>4</th>\n",
       "      <td>383</td>\n",
       "      <td>7.277778</td>\n",
       "    </tr>\n",
       "  </tbody>\n",
       "</table>\n",
       "</div>"
      ],
      "text/plain": [
       "   user_id       avg\n",
       "0      116  4.777778\n",
       "1      234  5.208333\n",
       "2       91  5.681818\n",
       "3      905  7.000000\n",
       "4      383  7.277778"
      ]
     },
     "execution_count": 17,
     "metadata": {},
     "output_type": "execute_result"
    }
   ],
   "source": [
    "sample_df"
   ]
  },
  {
   "cell_type": "markdown",
   "metadata": {
    "id": "EQ0dcFH4DWK5"
   },
   "source": [
    "# Запрос 6"
   ]
  },
  {
   "cell_type": "markdown",
   "metadata": {
    "id": "c7flfg_hDWK5"
   },
   "source": [
    "Сколько в среднем дней в период с 1 по 7 декабря 2008 года пользователи взаимодействовали с платформой? Для каждого пользователя отберите дни, в которые он или она опубликовали хотя бы один пост. Нужно получить одно целое число — не забудьте округлить результат. "
   ]
  },
  {
   "cell_type": "code",
   "execution_count": 18,
   "metadata": {
    "id": "kZ7LXTr6DWK6"
   },
   "outputs": [],
   "source": [
    "# запрос\n",
    "query = '''\n",
    "WITH count_days AS\n",
    "(SELECT user_id,\n",
    "        COUNT(DISTINCT DATE_TRUNC('day', creation_date)::date)\n",
    " FROM stackoverflow.posts\n",
    " WHERE DATE_TRUNC('day', creation_date)::date BETWEEN '2008-12-01' AND '2008-12-07'\n",
    " GROUP BY user_id\n",
    ")\n",
    "\n",
    "SELECT ROUND(AVG(count))::int\n",
    "FROM count_days\n",
    "'''\n",
    "\n",
    "# выполнение запроса\n",
    "sample_df = pd.read_sql_query(query, con=engine)"
   ]
  },
  {
   "cell_type": "code",
   "execution_count": 19,
   "metadata": {},
   "outputs": [
    {
     "data": {
      "text/html": [
       "<div>\n",
       "<style scoped>\n",
       "    .dataframe tbody tr th:only-of-type {\n",
       "        vertical-align: middle;\n",
       "    }\n",
       "\n",
       "    .dataframe tbody tr th {\n",
       "        vertical-align: top;\n",
       "    }\n",
       "\n",
       "    .dataframe thead th {\n",
       "        text-align: right;\n",
       "    }\n",
       "</style>\n",
       "<table border=\"1\" class=\"dataframe\">\n",
       "  <thead>\n",
       "    <tr style=\"text-align: right;\">\n",
       "      <th></th>\n",
       "      <th>round</th>\n",
       "    </tr>\n",
       "  </thead>\n",
       "  <tbody>\n",
       "    <tr>\n",
       "      <th>0</th>\n",
       "      <td>2</td>\n",
       "    </tr>\n",
       "  </tbody>\n",
       "</table>\n",
       "</div>"
      ],
      "text/plain": [
       "   round\n",
       "0      2"
      ]
     },
     "execution_count": 19,
     "metadata": {},
     "output_type": "execute_result"
    }
   ],
   "source": [
    "sample_df"
   ]
  },
  {
   "cell_type": "markdown",
   "metadata": {
    "id": "UJFtNNggDWK7"
   },
   "source": [
    "Проанализируйте итоговую таблицу — какие выводы можно сделать?"
   ]
  },
  {
   "cell_type": "markdown",
   "metadata": {
    "id": "LfUuYz-1DWK8"
   },
   "source": [
    "***Из представленных результатов можно сделать вывод, что пользователи взаимодействовали с платформой в среднем 2 дня.***"
   ]
  },
  {
   "cell_type": "markdown",
   "metadata": {
    "id": "wfOmqmfLDWK8"
   },
   "source": [
    "# Запрос 7"
   ]
  },
  {
   "cell_type": "markdown",
   "metadata": {
    "id": "X4ARQimADWK9"
   },
   "source": [
    "Выведите историю активности каждого пользователя в таком виде: идентификатор пользователя, дата публикации поста. Отсортируйте вывод по возрастанию идентификаторов пользователей, а для каждого пользователя — по возрастанию даты публикации.\n",
    "\n",
    "Добавьте в таблицу новое поле: для каждого поста в нём будет указано название месяца предпоследней публикации пользователя относительно текущей. Если такой публикации нет, укажите `NULL`.  "
   ]
  },
  {
   "cell_type": "code",
   "execution_count": 20,
   "metadata": {
    "id": "HzI1vhaMDWK-"
   },
   "outputs": [],
   "source": [
    "# запрос\n",
    "query = '''\n",
    "WITH month_before AS \n",
    "(SELECT user_id,\n",
    "        creation_date,\n",
    "        LAG(creation_date, 2) OVER(PARTITION BY user_id ORDER BY creation_date)::date AS prev_date\n",
    "FROM stackoverflow.posts\n",
    "ORDER BY user_id, creation_date)\n",
    "\n",
    "\n",
    "SELECT user_id,\n",
    "       creation_date,\n",
    "       CASE\n",
    "           WHEN EXTRACT(MONTH FROM prev_date) = 7 THEN 'July'\n",
    "           WHEN EXTRACT(MONTH FROM prev_date) = 8 THEN 'August'\n",
    "           WHEN EXTRACT(MONTH FROM prev_date) = 9 THEN 'September'\n",
    "           WHEN EXTRACT(MONTH FROM prev_date) = 10 THEN 'October'\n",
    "           WHEN EXTRACT(MONTH FROM prev_date) = 11 THEN 'November'\n",
    "           WHEN EXTRACT(MONTH FROM prev_date) = 12 THEN 'December'\n",
    "       END\n",
    "FROM month_before\n",
    "ORDER BY user_id, creation_date\n",
    "'''\n",
    "\n",
    "# выполнение запроса\n",
    "sample_df = pd.read_sql_query(query, con=engine)"
   ]
  },
  {
   "cell_type": "code",
   "execution_count": 21,
   "metadata": {},
   "outputs": [
    {
     "data": {
      "text/html": [
       "<div>\n",
       "<style scoped>\n",
       "    .dataframe tbody tr th:only-of-type {\n",
       "        vertical-align: middle;\n",
       "    }\n",
       "\n",
       "    .dataframe tbody tr th {\n",
       "        vertical-align: top;\n",
       "    }\n",
       "\n",
       "    .dataframe thead th {\n",
       "        text-align: right;\n",
       "    }\n",
       "</style>\n",
       "<table border=\"1\" class=\"dataframe\">\n",
       "  <thead>\n",
       "    <tr style=\"text-align: right;\">\n",
       "      <th></th>\n",
       "      <th>user_id</th>\n",
       "      <th>creation_date</th>\n",
       "      <th>case</th>\n",
       "    </tr>\n",
       "  </thead>\n",
       "  <tbody>\n",
       "    <tr>\n",
       "      <th>0</th>\n",
       "      <td>1</td>\n",
       "      <td>2008-07-31 23:41:00</td>\n",
       "      <td>None</td>\n",
       "    </tr>\n",
       "    <tr>\n",
       "      <th>1</th>\n",
       "      <td>1</td>\n",
       "      <td>2008-07-31 23:55:38</td>\n",
       "      <td>None</td>\n",
       "    </tr>\n",
       "    <tr>\n",
       "      <th>2</th>\n",
       "      <td>1</td>\n",
       "      <td>2008-07-31 23:56:41</td>\n",
       "      <td>July</td>\n",
       "    </tr>\n",
       "    <tr>\n",
       "      <th>3</th>\n",
       "      <td>1</td>\n",
       "      <td>2008-08-04 02:45:08</td>\n",
       "      <td>July</td>\n",
       "    </tr>\n",
       "    <tr>\n",
       "      <th>4</th>\n",
       "      <td>1</td>\n",
       "      <td>2008-08-04 04:31:03</td>\n",
       "      <td>July</td>\n",
       "    </tr>\n",
       "    <tr>\n",
       "      <th>...</th>\n",
       "      <td>...</td>\n",
       "      <td>...</td>\n",
       "      <td>...</td>\n",
       "    </tr>\n",
       "    <tr>\n",
       "      <th>243791</th>\n",
       "      <td>5696608</td>\n",
       "      <td>2008-12-23 16:00:37</td>\n",
       "      <td>December</td>\n",
       "    </tr>\n",
       "    <tr>\n",
       "      <th>243792</th>\n",
       "      <td>5696608</td>\n",
       "      <td>2008-12-23 17:35:09</td>\n",
       "      <td>December</td>\n",
       "    </tr>\n",
       "    <tr>\n",
       "      <th>243793</th>\n",
       "      <td>5696608</td>\n",
       "      <td>2008-12-24 01:02:48</td>\n",
       "      <td>December</td>\n",
       "    </tr>\n",
       "    <tr>\n",
       "      <th>243794</th>\n",
       "      <td>5696608</td>\n",
       "      <td>2008-12-30 14:34:45</td>\n",
       "      <td>December</td>\n",
       "    </tr>\n",
       "    <tr>\n",
       "      <th>243795</th>\n",
       "      <td>5696608</td>\n",
       "      <td>2008-12-30 16:32:12</td>\n",
       "      <td>December</td>\n",
       "    </tr>\n",
       "  </tbody>\n",
       "</table>\n",
       "<p>243796 rows × 3 columns</p>\n",
       "</div>"
      ],
      "text/plain": [
       "        user_id       creation_date      case\n",
       "0             1 2008-07-31 23:41:00      None\n",
       "1             1 2008-07-31 23:55:38      None\n",
       "2             1 2008-07-31 23:56:41      July\n",
       "3             1 2008-08-04 02:45:08      July\n",
       "4             1 2008-08-04 04:31:03      July\n",
       "...         ...                 ...       ...\n",
       "243791  5696608 2008-12-23 16:00:37  December\n",
       "243792  5696608 2008-12-23 17:35:09  December\n",
       "243793  5696608 2008-12-24 01:02:48  December\n",
       "243794  5696608 2008-12-30 14:34:45  December\n",
       "243795  5696608 2008-12-30 16:32:12  December\n",
       "\n",
       "[243796 rows x 3 columns]"
      ]
     },
     "execution_count": 21,
     "metadata": {},
     "output_type": "execute_result"
    }
   ],
   "source": [
    "sample_df"
   ]
  },
  {
   "cell_type": "markdown",
   "metadata": {
    "id": "tf9qq2yzDWK_"
   },
   "source": [
    "# Запрос 8"
   ]
  },
  {
   "cell_type": "markdown",
   "metadata": {
    "id": "gfwLVXBYDWLA"
   },
   "source": [
    "Рассчитайте аналог Retention Rate по месяцам для пользователей StackOverflow. Объедините пользователей в когорты по месяцу их первого поста. Возвращение определяйте по наличию поста в текущем месяце. "
   ]
  },
  {
   "cell_type": "code",
   "execution_count": 22,
   "metadata": {
    "id": "LUgFmwmTDWLB"
   },
   "outputs": [],
   "source": [
    "# запрос\n",
    "query = '''\n",
    "WITH cohort AS\n",
    "(SELECT DISTINCT user_id,\n",
    "        MIN(DATE_TRUNC('month', creation_date)::date) \n",
    "        OVER(PARTITION BY user_id ORDER BY DATE_TRUNC('month', creation_date)) AS cohort_dt\n",
    " FROM stackoverflow.posts\n",
    "),\n",
    "\n",
    "profile AS\n",
    "(SELECT *,\n",
    "        COUNT(user_id) OVER(PARTITION BY cohort_dt) AS cohort_users_cnt\n",
    " FROM cohort\n",
    "),\n",
    "\n",
    "sessions AS\n",
    "(SELECT user_id,\n",
    "        DATE_TRUNC('month', creation_date) AS session_date\n",
    "FROM stackoverflow.posts\n",
    "GROUP BY user_id, \n",
    "         session_date)\n",
    "\n",
    "SELECT p.cohort_dt,\n",
    "       s.session_date,\n",
    "       COUNT(p.user_id) AS users_cnt,\n",
    "       p.cohort_users_cnt,\n",
    "       ROUND(COUNT(p.user_id) * 100.0 / cohort_users_cnt, 2) AS retention_rate\n",
    "FROM profile p \n",
    "     JOIN sessions s \n",
    "     ON p.user_id=s.user_id\n",
    "GROUP BY p.cohort_dt,\n",
    "       s.session_date,\n",
    "       p.cohort_users_cnt\n",
    "'''\n",
    "\n",
    "# выполнение запроса\n",
    "sample_df = pd.read_sql_query(query, con=engine)"
   ]
  },
  {
   "cell_type": "code",
   "execution_count": 23,
   "metadata": {},
   "outputs": [
    {
     "data": {
      "text/html": [
       "<div>\n",
       "<style scoped>\n",
       "    .dataframe tbody tr th:only-of-type {\n",
       "        vertical-align: middle;\n",
       "    }\n",
       "\n",
       "    .dataframe tbody tr th {\n",
       "        vertical-align: top;\n",
       "    }\n",
       "\n",
       "    .dataframe thead th {\n",
       "        text-align: right;\n",
       "    }\n",
       "</style>\n",
       "<table border=\"1\" class=\"dataframe\">\n",
       "  <thead>\n",
       "    <tr style=\"text-align: right;\">\n",
       "      <th></th>\n",
       "      <th>cohort_dt</th>\n",
       "      <th>session_date</th>\n",
       "      <th>users_cnt</th>\n",
       "      <th>cohort_users_cnt</th>\n",
       "      <th>retention_rate</th>\n",
       "    </tr>\n",
       "  </thead>\n",
       "  <tbody>\n",
       "    <tr>\n",
       "      <th>0</th>\n",
       "      <td>2008-07-01</td>\n",
       "      <td>2008-07-01</td>\n",
       "      <td>3</td>\n",
       "      <td>3</td>\n",
       "      <td>100.00</td>\n",
       "    </tr>\n",
       "    <tr>\n",
       "      <th>1</th>\n",
       "      <td>2008-07-01</td>\n",
       "      <td>2008-08-01</td>\n",
       "      <td>2</td>\n",
       "      <td>3</td>\n",
       "      <td>66.67</td>\n",
       "    </tr>\n",
       "    <tr>\n",
       "      <th>2</th>\n",
       "      <td>2008-07-01</td>\n",
       "      <td>2008-09-01</td>\n",
       "      <td>1</td>\n",
       "      <td>3</td>\n",
       "      <td>33.33</td>\n",
       "    </tr>\n",
       "    <tr>\n",
       "      <th>3</th>\n",
       "      <td>2008-07-01</td>\n",
       "      <td>2008-10-01</td>\n",
       "      <td>2</td>\n",
       "      <td>3</td>\n",
       "      <td>66.67</td>\n",
       "    </tr>\n",
       "    <tr>\n",
       "      <th>4</th>\n",
       "      <td>2008-07-01</td>\n",
       "      <td>2008-11-01</td>\n",
       "      <td>1</td>\n",
       "      <td>3</td>\n",
       "      <td>33.33</td>\n",
       "    </tr>\n",
       "    <tr>\n",
       "      <th>5</th>\n",
       "      <td>2008-07-01</td>\n",
       "      <td>2008-12-01</td>\n",
       "      <td>2</td>\n",
       "      <td>3</td>\n",
       "      <td>66.67</td>\n",
       "    </tr>\n",
       "    <tr>\n",
       "      <th>6</th>\n",
       "      <td>2008-08-01</td>\n",
       "      <td>2008-08-01</td>\n",
       "      <td>2151</td>\n",
       "      <td>2151</td>\n",
       "      <td>100.00</td>\n",
       "    </tr>\n",
       "    <tr>\n",
       "      <th>7</th>\n",
       "      <td>2008-08-01</td>\n",
       "      <td>2008-09-01</td>\n",
       "      <td>1571</td>\n",
       "      <td>2151</td>\n",
       "      <td>73.04</td>\n",
       "    </tr>\n",
       "    <tr>\n",
       "      <th>8</th>\n",
       "      <td>2008-08-01</td>\n",
       "      <td>2008-10-01</td>\n",
       "      <td>1275</td>\n",
       "      <td>2151</td>\n",
       "      <td>59.27</td>\n",
       "    </tr>\n",
       "    <tr>\n",
       "      <th>9</th>\n",
       "      <td>2008-08-01</td>\n",
       "      <td>2008-11-01</td>\n",
       "      <td>1050</td>\n",
       "      <td>2151</td>\n",
       "      <td>48.81</td>\n",
       "    </tr>\n",
       "    <tr>\n",
       "      <th>10</th>\n",
       "      <td>2008-08-01</td>\n",
       "      <td>2008-12-01</td>\n",
       "      <td>894</td>\n",
       "      <td>2151</td>\n",
       "      <td>41.56</td>\n",
       "    </tr>\n",
       "    <tr>\n",
       "      <th>11</th>\n",
       "      <td>2008-09-01</td>\n",
       "      <td>2008-09-01</td>\n",
       "      <td>7678</td>\n",
       "      <td>7678</td>\n",
       "      <td>100.00</td>\n",
       "    </tr>\n",
       "    <tr>\n",
       "      <th>12</th>\n",
       "      <td>2008-09-01</td>\n",
       "      <td>2008-10-01</td>\n",
       "      <td>4132</td>\n",
       "      <td>7678</td>\n",
       "      <td>53.82</td>\n",
       "    </tr>\n",
       "    <tr>\n",
       "      <th>13</th>\n",
       "      <td>2008-09-01</td>\n",
       "      <td>2008-11-01</td>\n",
       "      <td>2966</td>\n",
       "      <td>7678</td>\n",
       "      <td>38.63</td>\n",
       "    </tr>\n",
       "    <tr>\n",
       "      <th>14</th>\n",
       "      <td>2008-09-01</td>\n",
       "      <td>2008-12-01</td>\n",
       "      <td>2500</td>\n",
       "      <td>7678</td>\n",
       "      <td>32.56</td>\n",
       "    </tr>\n",
       "    <tr>\n",
       "      <th>15</th>\n",
       "      <td>2008-10-01</td>\n",
       "      <td>2008-10-01</td>\n",
       "      <td>3629</td>\n",
       "      <td>3629</td>\n",
       "      <td>100.00</td>\n",
       "    </tr>\n",
       "    <tr>\n",
       "      <th>16</th>\n",
       "      <td>2008-10-01</td>\n",
       "      <td>2008-11-01</td>\n",
       "      <td>1640</td>\n",
       "      <td>3629</td>\n",
       "      <td>45.19</td>\n",
       "    </tr>\n",
       "    <tr>\n",
       "      <th>17</th>\n",
       "      <td>2008-10-01</td>\n",
       "      <td>2008-12-01</td>\n",
       "      <td>1221</td>\n",
       "      <td>3629</td>\n",
       "      <td>33.65</td>\n",
       "    </tr>\n",
       "    <tr>\n",
       "      <th>18</th>\n",
       "      <td>2008-11-01</td>\n",
       "      <td>2008-11-01</td>\n",
       "      <td>2852</td>\n",
       "      <td>2852</td>\n",
       "      <td>100.00</td>\n",
       "    </tr>\n",
       "    <tr>\n",
       "      <th>19</th>\n",
       "      <td>2008-11-01</td>\n",
       "      <td>2008-12-01</td>\n",
       "      <td>1151</td>\n",
       "      <td>2852</td>\n",
       "      <td>40.36</td>\n",
       "    </tr>\n",
       "    <tr>\n",
       "      <th>20</th>\n",
       "      <td>2008-12-01</td>\n",
       "      <td>2008-12-01</td>\n",
       "      <td>2536</td>\n",
       "      <td>2536</td>\n",
       "      <td>100.00</td>\n",
       "    </tr>\n",
       "  </tbody>\n",
       "</table>\n",
       "</div>"
      ],
      "text/plain": [
       "     cohort_dt session_date  users_cnt  cohort_users_cnt  retention_rate\n",
       "0   2008-07-01   2008-07-01          3                 3          100.00\n",
       "1   2008-07-01   2008-08-01          2                 3           66.67\n",
       "2   2008-07-01   2008-09-01          1                 3           33.33\n",
       "3   2008-07-01   2008-10-01          2                 3           66.67\n",
       "4   2008-07-01   2008-11-01          1                 3           33.33\n",
       "5   2008-07-01   2008-12-01          2                 3           66.67\n",
       "6   2008-08-01   2008-08-01       2151              2151          100.00\n",
       "7   2008-08-01   2008-09-01       1571              2151           73.04\n",
       "8   2008-08-01   2008-10-01       1275              2151           59.27\n",
       "9   2008-08-01   2008-11-01       1050              2151           48.81\n",
       "10  2008-08-01   2008-12-01        894              2151           41.56\n",
       "11  2008-09-01   2008-09-01       7678              7678          100.00\n",
       "12  2008-09-01   2008-10-01       4132              7678           53.82\n",
       "13  2008-09-01   2008-11-01       2966              7678           38.63\n",
       "14  2008-09-01   2008-12-01       2500              7678           32.56\n",
       "15  2008-10-01   2008-10-01       3629              3629          100.00\n",
       "16  2008-10-01   2008-11-01       1640              3629           45.19\n",
       "17  2008-10-01   2008-12-01       1221              3629           33.65\n",
       "18  2008-11-01   2008-11-01       2852              2852          100.00\n",
       "19  2008-11-01   2008-12-01       1151              2852           40.36\n",
       "20  2008-12-01   2008-12-01       2536              2536          100.00"
      ]
     },
     "execution_count": 23,
     "metadata": {},
     "output_type": "execute_result"
    }
   ],
   "source": [
    "sample_df"
   ]
  },
  {
   "cell_type": "markdown",
   "metadata": {
    "id": "_msBtnb2DWLC"
   },
   "source": [
    "Построим тепловую карту Retention Rate и выявим аномалии или другие необычные явления."
   ]
  },
  {
   "cell_type": "code",
   "execution_count": 24,
   "metadata": {
    "id": "qAEJc8H1DWLC"
   },
   "outputs": [
    {
     "data": {
      "image/png": "[encoded data removed]",
      "text/plain": [
       "<Figure size 720x360 with 2 Axes>"
      ]
     },
     "metadata": {
      "needs_background": "light"
     },
     "output_type": "display_data"
    }
   ],
   "source": [
    "# создаём сводную таблицу с результатами\n",
    "retention = sample_df.pivot('cohort_dt', 'session_date', 'retention_rate')\n",
    "retention.index = [str(x)[0:10] for x in retention.index]\n",
    "retention.columns = [str(x)[0:10] for x in retention.columns]\n",
    "\n",
    "# строим хитмэп\n",
    "plt.figure(figsize=(10, 5)) # задаём размер графика\n",
    "sns.heatmap(retention, # датафрейм с данными\n",
    "            annot=True, # добавляем подписи\n",
    "            fmt='') # задаём исходный формат\n",
    "plt.title('Тепловая карта') # название графика\n",
    "plt.show() "
   ]
  },
  {
   "cell_type": "markdown",
   "metadata": {
    "id": "EgOfIsI4DWLC"
   },
   "source": [
    "***Аномалии и необычные явления (гипотезы):***\n",
    "1. Активности первой когорты цикличны;\n",
    "2. Активности второй и последующих когорт  убывают с большим отрывом с каждым месяцом.\n",
    "\n",
    "Вероятно, это связано с тем, что вопросы были решены ранее, тем самым активности пользоваталей уменьшаются с каждым месяцем."
   ]
  },
  {
   "cell_type": "markdown",
   "metadata": {
    "id": "1k7oPWt5DWLK"
   },
   "source": [
    "# Запрос 9"
   ]
  },
  {
   "cell_type": "markdown",
   "metadata": {
    "id": "ALsYVSyRDWLM"
   },
   "source": [
    "На сколько процентов менялось количество постов ежемесячно с 1 сентября по 31 декабря 2008 года? Отобразите таблицу со следующими полями:\n",
    "\n",
    "- номер месяца;\n",
    "- количество постов за месяц;\n",
    "- процент, который показывает, насколько изменилось количество постов в текущем месяце по сравнению с предыдущим.\n",
    "\n",
    "Если постов стало меньше, значение процента должно быть отрицательным, если больше — положительным. Округлите значение процента до двух знаков после запятой."
   ]
  },
  {
   "cell_type": "code",
   "execution_count": 25,
   "metadata": {
    "id": "Mb5pShStDWLN"
   },
   "outputs": [],
   "source": [
    "# запрос\n",
    "query = '''\n",
    "WITH posts_count AS\n",
    "(SELECT EXTRACT(MONTH FROM creation_date) AS creation_month,\n",
    "       COUNT(id) AS posts_count\n",
    "FROM stackoverflow.posts\n",
    "WHERE creation_date BETWEEN '2008-09-01' AND '2008-12-31'\n",
    "GROUP BY creation_month)\n",
    "\n",
    "SELECT *,\n",
    "       ROUND((posts_count::numeric / LAG(posts_count) OVER(ORDER BY creation_month) -1) *100, 2) AS percentage\n",
    "FROM posts_count\n",
    "'''\n",
    "\n",
    "# выполнение запроса\n",
    "sample_df = pd.read_sql_query(query, con=engine)"
   ]
  },
  {
   "cell_type": "code",
   "execution_count": 26,
   "metadata": {},
   "outputs": [
    {
     "data": {
      "text/html": [
       "<div>\n",
       "<style scoped>\n",
       "    .dataframe tbody tr th:only-of-type {\n",
       "        vertical-align: middle;\n",
       "    }\n",
       "\n",
       "    .dataframe tbody tr th {\n",
       "        vertical-align: top;\n",
       "    }\n",
       "\n",
       "    .dataframe thead th {\n",
       "        text-align: right;\n",
       "    }\n",
       "</style>\n",
       "<table border=\"1\" class=\"dataframe\">\n",
       "  <thead>\n",
       "    <tr style=\"text-align: right;\">\n",
       "      <th></th>\n",
       "      <th>creation_month</th>\n",
       "      <th>posts_count</th>\n",
       "      <th>percentage</th>\n",
       "    </tr>\n",
       "  </thead>\n",
       "  <tbody>\n",
       "    <tr>\n",
       "      <th>0</th>\n",
       "      <td>9.0</td>\n",
       "      <td>70371</td>\n",
       "      <td>NaN</td>\n",
       "    </tr>\n",
       "    <tr>\n",
       "      <th>1</th>\n",
       "      <td>10.0</td>\n",
       "      <td>63102</td>\n",
       "      <td>-10.33</td>\n",
       "    </tr>\n",
       "    <tr>\n",
       "      <th>2</th>\n",
       "      <td>11.0</td>\n",
       "      <td>46975</td>\n",
       "      <td>-25.56</td>\n",
       "    </tr>\n",
       "    <tr>\n",
       "      <th>3</th>\n",
       "      <td>12.0</td>\n",
       "      <td>44592</td>\n",
       "      <td>-5.07</td>\n",
       "    </tr>\n",
       "  </tbody>\n",
       "</table>\n",
       "</div>"
      ],
      "text/plain": [
       "   creation_month  posts_count  percentage\n",
       "0             9.0        70371         NaN\n",
       "1            10.0        63102      -10.33\n",
       "2            11.0        46975      -25.56\n",
       "3            12.0        44592       -5.07"
      ]
     },
     "execution_count": 26,
     "metadata": {},
     "output_type": "execute_result"
    }
   ],
   "source": [
    "sample_df"
   ]
  },
  {
   "cell_type": "markdown",
   "metadata": {
    "id": "9NQE2y_MDWLP"
   },
   "source": [
    "Построим круговую диаграмму с количеством постов по месяцам."
   ]
  },
  {
   "cell_type": "code",
   "execution_count": 27,
   "metadata": {
    "id": "377ABjiVDWLP"
   },
   "outputs": [
    {
     "data": {
      "image/png": "[encoded data removed]",
      "text/plain": [
       "<Figure size 432x288 with 1 Axes>"
      ]
     },
     "metadata": {},
     "output_type": "display_data"
    }
   ],
   "source": [
    "labels = ['September', 'October', 'November', 'December']\n",
    "plt.pie(sample_df['posts_count'], labels=labels, autopct='%1.1f%%', shadow=True);\n",
    "plt.title('Доля постов по месяцам');"
   ]
  },
  {
   "cell_type": "markdown",
   "metadata": {
    "id": "uw7qMtafDWLP"
   },
   "source": [
    "# Запрос 10"
   ]
  },
  {
   "cell_type": "markdown",
   "metadata": {
    "id": "oRBpWKx3DWLQ"
   },
   "source": [
    "Выгрузите данные активности пользователя, который опубликовал больше всего постов за всё время. Выведите данные за октябрь 2008 года в таком виде:\n",
    "\n",
    "- номер недели;\n",
    "- дата и время последнего поста, опубликованного на этой неделе."
   ]
  },
  {
   "cell_type": "code",
   "execution_count": 28,
   "metadata": {
    "id": "r5F5fSkwDWLQ"
   },
   "outputs": [],
   "source": [
    "# запрос\n",
    "query = '''\n",
    "WITH id_max_user AS\n",
    "(SELECT user_id,\n",
    "       COUNT(id) AS count\n",
    "FROM stackoverflow.posts\n",
    "GROUP BY user_id\n",
    "ORDER BY count DESC\n",
    "LIMIT 1)\n",
    "\n",
    "SELECT EXTRACT(WEEK FROM creation_date) AS week_creation,\n",
    "       MAX(creation_date) as creation_date\n",
    "FROM stackoverflow.posts\n",
    "WHERE user_id IN (SELECT user_id FROM id_max_user)\n",
    "      AND DATE_TRUNC('month', creation_date)::date = '2008-10-01'\n",
    "GROUP BY week_creation\n",
    "'''\n",
    "\n",
    "# выполнение запроса\n",
    "sample_df = pd.read_sql_query(query, con=engine)"
   ]
  },
  {
   "cell_type": "code",
   "execution_count": 29,
   "metadata": {},
   "outputs": [
    {
     "data": {
      "text/html": [
       "<div>\n",
       "<style scoped>\n",
       "    .dataframe tbody tr th:only-of-type {\n",
       "        vertical-align: middle;\n",
       "    }\n",
       "\n",
       "    .dataframe tbody tr th {\n",
       "        vertical-align: top;\n",
       "    }\n",
       "\n",
       "    .dataframe thead th {\n",
       "        text-align: right;\n",
       "    }\n",
       "</style>\n",
       "<table border=\"1\" class=\"dataframe\">\n",
       "  <thead>\n",
       "    <tr style=\"text-align: right;\">\n",
       "      <th></th>\n",
       "      <th>week_creation</th>\n",
       "      <th>creation_date</th>\n",
       "    </tr>\n",
       "  </thead>\n",
       "  <tbody>\n",
       "    <tr>\n",
       "      <th>0</th>\n",
       "      <td>40.0</td>\n",
       "      <td>2008-10-05 09:00:58</td>\n",
       "    </tr>\n",
       "    <tr>\n",
       "      <th>1</th>\n",
       "      <td>41.0</td>\n",
       "      <td>2008-10-12 21:22:23</td>\n",
       "    </tr>\n",
       "    <tr>\n",
       "      <th>2</th>\n",
       "      <td>42.0</td>\n",
       "      <td>2008-10-19 06:49:30</td>\n",
       "    </tr>\n",
       "    <tr>\n",
       "      <th>3</th>\n",
       "      <td>43.0</td>\n",
       "      <td>2008-10-26 21:44:36</td>\n",
       "    </tr>\n",
       "    <tr>\n",
       "      <th>4</th>\n",
       "      <td>44.0</td>\n",
       "      <td>2008-10-31 22:16:01</td>\n",
       "    </tr>\n",
       "  </tbody>\n",
       "</table>\n",
       "</div>"
      ],
      "text/plain": [
       "   week_creation       creation_date\n",
       "0           40.0 2008-10-05 09:00:58\n",
       "1           41.0 2008-10-12 21:22:23\n",
       "2           42.0 2008-10-19 06:49:30\n",
       "3           43.0 2008-10-26 21:44:36\n",
       "4           44.0 2008-10-31 22:16:01"
      ]
     },
     "execution_count": 29,
     "metadata": {},
     "output_type": "execute_result"
    }
   ],
   "source": [
    "sample_df"
   ]
  },
  {
   "cell_type": "markdown",
   "metadata": {},
   "source": [
    "## Общий вывод"
   ]
  },
  {
   "cell_type": "markdown",
   "metadata": {},
   "source": [
    "В рамках данной части проекта было написано несколько SQL-запросов в Jupyter Notebook с помощью SQLAlchemy. \n",
    "Были выполнены следующие основыне этапы:\n",
    "- Подключение к базе данных;\n",
    "- Написание 10 основных sql запросов.\n",
    "\n",
    "***Также в ходе выполнения запросов были выявлены определенные аномалии, в частности:***\n",
    "- Данные за разные месяцы различаются по общей суммы просмотров постов за каждый месяц 2008 года. Это может быть связано с тем, что сайт был открыт в конце июля 2008 года, и далее количество просмотров соответсвенно росло. Снижение просмотров с октября может быть связано с тем, что количество уникальных вопросов и ответов соответсвенно уменьшалось ввиду решения подобных задач ранее;\n",
    "- В данных наблюдается определенная аномалия: количество уникальных id превышает количество никнеймов. Это говорит о том, что есть пользователи с одинаковыми именами (никнеймами);\n",
    "- В данных существует определенная аномалия: 32 поста за август от пользователей, которые зарегестрировались только в сентябре. Возможно это связано с технической ошибкой;\n",
    "- Из представленных результатов можно сделать вывод, что пользователи взаимодействовали с платформой в среднем 2 дня;\n",
    "- 1. Активности первой когорты цикличны;\n",
    "  2. Активности второй и последующих когорт  убывают с большим отрывом с каждым месяцом.\n",
    "<br>Вероятно, это связано с тем, что вопросы были решены ранее, тем самым активности пользоваталей уменьшаются с каждым месяцем."
   ]
  }
 ],
 "metadata": {
  "ExecuteTimeLog": [
   {
    "duration": 1056,
    "start_time": "2023-09-07T10:10:06.432Z"
   },
   {
    "duration": 4,
    "start_time": "2023-09-07T10:10:13.301Z"
   },
   {
    "duration": 23767,
    "start_time": "2023-09-07T10:10:15.859Z"
   },
   {
    "duration": 41,
    "start_time": "2023-09-07T10:10:55.567Z"
   },
   {
    "duration": 13,
    "start_time": "2023-09-07T10:10:57.985Z"
   },
   {
    "duration": 203,
    "start_time": "2023-09-07T10:16:11.077Z"
   },
   {
    "duration": 78,
    "start_time": "2023-09-07T10:16:20.549Z"
   },
   {
    "duration": 9,
    "start_time": "2023-09-07T10:16:27.282Z"
   },
   {
    "duration": 7,
    "start_time": "2023-09-07T10:16:59.885Z"
   },
   {
    "duration": 6,
    "start_time": "2023-09-07T10:17:02.758Z"
   },
   {
    "duration": 101,
    "start_time": "2023-09-07T10:23:44.398Z"
   },
   {
    "duration": 862,
    "start_time": "2023-09-08T10:57:38.186Z"
   },
   {
    "duration": 4,
    "start_time": "2023-09-08T10:57:39.184Z"
   },
   {
    "duration": 10123,
    "start_time": "2023-09-08T10:57:41.260Z"
   },
   {
    "duration": 105,
    "start_time": "2023-09-08T10:57:51.385Z"
   },
   {
    "duration": 16,
    "start_time": "2023-09-08T10:57:51.492Z"
   },
   {
    "duration": 78,
    "start_time": "2023-09-08T10:57:51.510Z"
   },
   {
    "duration": 7,
    "start_time": "2023-09-08T10:57:51.590Z"
   },
   {
    "duration": 186,
    "start_time": "2023-09-08T11:02:56.311Z"
   },
   {
    "duration": 144,
    "start_time": "2023-09-08T11:03:50.105Z"
   },
   {
    "duration": 112,
    "start_time": "2023-09-08T11:04:15.078Z"
   },
   {
    "duration": 6,
    "start_time": "2023-09-08T11:04:16.901Z"
   },
   {
    "duration": 103,
    "start_time": "2023-09-08T11:09:45.343Z"
   },
   {
    "duration": 125,
    "start_time": "2023-09-08T11:09:49.675Z"
   },
   {
    "duration": 49,
    "start_time": "2023-09-08T11:10:01.785Z"
   },
   {
    "duration": 7,
    "start_time": "2023-09-08T11:10:03.242Z"
   },
   {
    "duration": 133,
    "start_time": "2023-09-08T11:11:38.180Z"
   },
   {
    "duration": 155,
    "start_time": "2023-09-08T11:12:03.389Z"
   },
   {
    "duration": 9,
    "start_time": "2023-09-08T11:12:04.872Z"
   },
   {
    "duration": 119,
    "start_time": "2023-09-08T11:12:46.979Z"
   },
   {
    "duration": 7,
    "start_time": "2023-09-08T11:12:48.514Z"
   },
   {
    "duration": 133,
    "start_time": "2023-09-08T11:14:17.428Z"
   },
   {
    "duration": 9,
    "start_time": "2023-09-08T11:14:18.546Z"
   },
   {
    "duration": 1286,
    "start_time": "2023-09-08T11:19:45.488Z"
   },
   {
    "duration": 13,
    "start_time": "2023-09-08T11:19:49.801Z"
   },
   {
    "duration": 10,
    "start_time": "2023-09-08T11:20:08.517Z"
   },
   {
    "duration": 9,
    "start_time": "2023-09-08T11:20:11.505Z"
   },
   {
    "duration": 10,
    "start_time": "2023-09-08T11:20:16.596Z"
   },
   {
    "duration": 17,
    "start_time": "2023-09-08T11:20:22.041Z"
   },
   {
    "duration": 3,
    "start_time": "2023-09-08T11:27:13.494Z"
   },
   {
    "duration": 135,
    "start_time": "2023-09-08T11:27:38.522Z"
   },
   {
    "duration": 141,
    "start_time": "2023-09-08T11:27:52.371Z"
   },
   {
    "duration": 6,
    "start_time": "2023-09-08T11:28:23.487Z"
   },
   {
    "duration": 118,
    "start_time": "2023-09-08T11:28:24.572Z"
   },
   {
    "duration": 2,
    "start_time": "2023-09-08T11:28:39.176Z"
   },
   {
    "duration": 163,
    "start_time": "2023-09-08T11:28:40.088Z"
   },
   {
    "duration": 115,
    "start_time": "2023-09-08T11:29:19.887Z"
   },
   {
    "duration": 53,
    "start_time": "2023-09-08T11:29:36.213Z"
   },
   {
    "duration": 8,
    "start_time": "2023-09-08T11:29:39.693Z"
   },
   {
    "duration": 54,
    "start_time": "2023-09-08T11:29:54.580Z"
   },
   {
    "duration": 7,
    "start_time": "2023-09-08T11:29:55.802Z"
   },
   {
    "duration": 3,
    "start_time": "2023-09-08T11:30:26.073Z"
   },
   {
    "duration": 98,
    "start_time": "2023-09-08T11:30:26.959Z"
   },
   {
    "duration": 94,
    "start_time": "2023-09-08T11:30:36.121Z"
   },
   {
    "duration": 49,
    "start_time": "2023-09-08T11:31:50.669Z"
   },
   {
    "duration": 7,
    "start_time": "2023-09-08T11:31:51.986Z"
   },
   {
    "duration": 2,
    "start_time": "2023-09-08T11:32:05.674Z"
   },
   {
    "duration": 126,
    "start_time": "2023-09-08T11:32:15.716Z"
   },
   {
    "duration": 10,
    "start_time": "2023-09-08T11:32:20.630Z"
   },
   {
    "duration": 121,
    "start_time": "2023-09-08T11:35:18.977Z"
   },
   {
    "duration": 111,
    "start_time": "2023-09-08T11:35:28.528Z"
   },
   {
    "duration": 115,
    "start_time": "2023-09-08T11:35:37.848Z"
   },
   {
    "duration": 115,
    "start_time": "2023-09-08T11:35:42.555Z"
   },
   {
    "duration": 44,
    "start_time": "2023-09-08T11:35:58.854Z"
   },
   {
    "duration": 6,
    "start_time": "2023-09-08T11:36:00.086Z"
   },
   {
    "duration": 55,
    "start_time": "2023-09-08T11:36:30.556Z"
   },
   {
    "duration": 10,
    "start_time": "2023-09-08T11:36:32.982Z"
   },
   {
    "duration": 38,
    "start_time": "2023-09-08T11:37:19.339Z"
   },
   {
    "duration": 5,
    "start_time": "2023-09-08T11:37:20.603Z"
   },
   {
    "duration": 38,
    "start_time": "2023-09-08T11:37:45.089Z"
   },
   {
    "duration": 5,
    "start_time": "2023-09-08T11:37:45.826Z"
   },
   {
    "duration": 40,
    "start_time": "2023-09-08T11:38:26.480Z"
   },
   {
    "duration": 8,
    "start_time": "2023-09-08T11:38:29.431Z"
   },
   {
    "duration": 78,
    "start_time": "2023-09-08T11:38:59.756Z"
   },
   {
    "duration": 1290,
    "start_time": "2023-09-08T11:39:48.987Z"
   },
   {
    "duration": 11,
    "start_time": "2023-09-08T11:39:50.278Z"
   },
   {
    "duration": 40,
    "start_time": "2023-09-08T11:40:49.533Z"
   },
   {
    "duration": 5,
    "start_time": "2023-09-08T11:40:50.899Z"
   },
   {
    "duration": 116,
    "start_time": "2023-09-08T11:41:32.855Z"
   },
   {
    "duration": 5,
    "start_time": "2023-09-08T11:41:33.808Z"
   },
   {
    "duration": 53,
    "start_time": "2023-09-08T11:41:41.607Z"
   },
   {
    "duration": 5,
    "start_time": "2023-09-08T11:41:45.417Z"
   },
   {
    "duration": 114,
    "start_time": "2023-09-08T11:42:47.716Z"
   },
   {
    "duration": 133,
    "start_time": "2023-09-08T11:43:17.424Z"
   },
   {
    "duration": 91,
    "start_time": "2023-09-08T11:43:28.343Z"
   },
   {
    "duration": 12,
    "start_time": "2023-09-08T11:43:29.250Z"
   },
   {
    "duration": 77,
    "start_time": "2023-09-08T11:44:12.806Z"
   },
   {
    "duration": 47,
    "start_time": "2023-09-08T11:45:10.436Z"
   },
   {
    "duration": 47,
    "start_time": "2023-09-08T11:45:17.800Z"
   },
   {
    "duration": 90,
    "start_time": "2023-09-08T11:45:43.287Z"
   },
   {
    "duration": 8,
    "start_time": "2023-09-08T11:45:43.922Z"
   },
   {
    "duration": 78,
    "start_time": "2023-09-08T11:46:42.945Z"
   },
   {
    "duration": 7,
    "start_time": "2023-09-08T11:46:43.532Z"
   },
   {
    "duration": 115,
    "start_time": "2023-09-08T11:53:18.675Z"
   },
   {
    "duration": 39,
    "start_time": "2023-09-08T11:53:49.388Z"
   },
   {
    "duration": 8,
    "start_time": "2023-09-08T11:53:55.382Z"
   },
   {
    "duration": 7,
    "start_time": "2023-09-08T12:01:00.650Z"
   },
   {
    "duration": 1426,
    "start_time": "2023-09-08T12:01:23.468Z"
   },
   {
    "duration": 12,
    "start_time": "2023-09-08T12:01:27.819Z"
   },
   {
    "duration": 2,
    "start_time": "2023-09-08T12:05:43.518Z"
   },
   {
    "duration": 103,
    "start_time": "2023-09-08T12:05:51.849Z"
   },
   {
    "duration": 107,
    "start_time": "2023-09-08T12:06:01.163Z"
   },
   {
    "duration": 132,
    "start_time": "2023-09-08T12:06:14.133Z"
   },
   {
    "duration": 103,
    "start_time": "2023-09-08T12:06:25.357Z"
   },
   {
    "duration": 112,
    "start_time": "2023-09-08T12:06:35.143Z"
   },
   {
    "duration": 112,
    "start_time": "2023-09-08T12:06:44.726Z"
   },
   {
    "duration": 40,
    "start_time": "2023-09-08T12:06:57.559Z"
   },
   {
    "duration": 7,
    "start_time": "2023-09-08T12:07:00.946Z"
   },
   {
    "duration": 46,
    "start_time": "2023-09-08T12:08:16.960Z"
   },
   {
    "duration": 7,
    "start_time": "2023-09-08T12:08:17.691Z"
   },
   {
    "duration": 122,
    "start_time": "2023-09-08T12:08:58.360Z"
   },
   {
    "duration": 49,
    "start_time": "2023-09-08T12:09:32.846Z"
   },
   {
    "duration": 8,
    "start_time": "2023-09-08T12:09:34.019Z"
   },
   {
    "duration": 44,
    "start_time": "2023-09-08T12:11:35.433Z"
   },
   {
    "duration": 11,
    "start_time": "2023-09-08T12:11:36.269Z"
   },
   {
    "duration": 110,
    "start_time": "2023-09-08T12:11:58.379Z"
   },
   {
    "duration": 8,
    "start_time": "2023-09-08T12:11:59.276Z"
   },
   {
    "duration": 108,
    "start_time": "2023-09-08T12:12:53.164Z"
   },
   {
    "duration": 9,
    "start_time": "2023-09-08T12:12:54.166Z"
   },
   {
    "duration": 121,
    "start_time": "2023-09-08T12:13:37.959Z"
   },
   {
    "duration": 9,
    "start_time": "2023-09-08T12:13:38.771Z"
   },
   {
    "duration": 124,
    "start_time": "2023-09-08T12:13:49.188Z"
   },
   {
    "duration": 108,
    "start_time": "2023-09-08T12:14:03.183Z"
   },
   {
    "duration": 7,
    "start_time": "2023-09-08T12:14:04.229Z"
   },
   {
    "duration": 153,
    "start_time": "2023-09-08T12:14:41.642Z"
   },
   {
    "duration": 107,
    "start_time": "2023-09-08T12:14:49.738Z"
   },
   {
    "duration": 8,
    "start_time": "2023-09-08T12:14:50.502Z"
   },
   {
    "duration": 131,
    "start_time": "2023-09-08T12:17:49.671Z"
   },
   {
    "duration": 10,
    "start_time": "2023-09-08T12:18:19.629Z"
   },
   {
    "duration": 93,
    "start_time": "2023-09-08T12:18:23.979Z"
   },
   {
    "duration": 74,
    "start_time": "2023-09-08T12:18:26.721Z"
   },
   {
    "duration": 97,
    "start_time": "2023-09-08T12:19:17.871Z"
   },
   {
    "duration": 98,
    "start_time": "2023-09-08T12:20:02.762Z"
   },
   {
    "duration": 93,
    "start_time": "2023-09-08T12:20:08.042Z"
   },
   {
    "duration": 98,
    "start_time": "2023-09-08T12:20:10.595Z"
   },
   {
    "duration": 104,
    "start_time": "2023-09-08T12:20:31.165Z"
   },
   {
    "duration": 113,
    "start_time": "2023-09-08T12:21:18.971Z"
   },
   {
    "duration": 88,
    "start_time": "2023-09-08T12:21:22.283Z"
   },
   {
    "duration": 112,
    "start_time": "2023-09-08T12:21:25.370Z"
   },
   {
    "duration": 10,
    "start_time": "2023-09-08T12:21:32.091Z"
   },
   {
    "duration": 860,
    "start_time": "2023-09-13T08:43:32.687Z"
   },
   {
    "duration": 4,
    "start_time": "2023-09-13T08:43:33.901Z"
   },
   {
    "duration": 9883,
    "start_time": "2023-09-13T08:43:35.327Z"
   },
   {
    "duration": 44,
    "start_time": "2023-09-13T08:43:45.212Z"
   },
   {
    "duration": 14,
    "start_time": "2023-09-13T08:43:45.258Z"
   },
   {
    "duration": 78,
    "start_time": "2023-09-13T08:43:45.274Z"
   },
   {
    "duration": 7,
    "start_time": "2023-09-13T08:43:45.353Z"
   },
   {
    "duration": 188,
    "start_time": "2023-09-13T08:43:45.361Z"
   },
   {
    "duration": 0,
    "start_time": "2023-09-13T08:43:45.551Z"
   },
   {
    "duration": 121,
    "start_time": "2023-09-13T08:43:51.203Z"
   },
   {
    "duration": 7,
    "start_time": "2023-09-13T08:43:52.355Z"
   },
   {
    "duration": 1231,
    "start_time": "2023-09-13T08:43:56.709Z"
   },
   {
    "duration": 11,
    "start_time": "2023-09-13T08:43:57.942Z"
   },
   {
    "duration": 73,
    "start_time": "2023-09-13T08:44:00.536Z"
   },
   {
    "duration": 6,
    "start_time": "2023-09-13T08:44:01.613Z"
   },
   {
    "duration": 41,
    "start_time": "2023-09-13T08:44:04.247Z"
   },
   {
    "duration": 6,
    "start_time": "2023-09-13T08:44:05.353Z"
   },
   {
    "duration": 1223,
    "start_time": "2023-09-13T08:44:10.613Z"
   },
   {
    "duration": 13,
    "start_time": "2023-09-13T08:44:11.838Z"
   },
   {
    "duration": 107,
    "start_time": "2023-09-13T08:44:17.689Z"
   },
   {
    "duration": 8,
    "start_time": "2023-09-13T08:44:18.815Z"
   },
   {
    "duration": 106,
    "start_time": "2023-09-13T08:44:22.321Z"
   },
   {
    "duration": 117,
    "start_time": "2023-09-13T08:47:49.026Z"
   },
   {
    "duration": 114,
    "start_time": "2023-09-13T08:48:02.101Z"
   },
   {
    "duration": 9,
    "start_time": "2023-09-13T08:48:03.401Z"
   },
   {
    "duration": 111,
    "start_time": "2023-09-13T08:48:19.041Z"
   },
   {
    "duration": 10,
    "start_time": "2023-09-13T08:48:20.318Z"
   },
   {
    "duration": 234,
    "start_time": "2023-09-13T08:50:48.529Z"
   },
   {
    "duration": 11,
    "start_time": "2023-09-13T08:50:50.549Z"
   },
   {
    "duration": 186,
    "start_time": "2023-09-13T08:52:41.021Z"
   },
   {
    "duration": 8,
    "start_time": "2023-09-13T08:52:41.687Z"
   },
   {
    "duration": 196,
    "start_time": "2023-09-13T08:53:06.270Z"
   },
   {
    "duration": 9,
    "start_time": "2023-09-13T08:53:07.377Z"
   },
   {
    "duration": 141,
    "start_time": "2023-09-13T08:53:20.456Z"
   },
   {
    "duration": 9,
    "start_time": "2023-09-13T08:53:21.069Z"
   },
   {
    "duration": 145,
    "start_time": "2023-09-13T08:54:26.608Z"
   },
   {
    "duration": 8,
    "start_time": "2023-09-13T08:54:28.458Z"
   },
   {
    "duration": 144,
    "start_time": "2023-09-13T08:55:00.861Z"
   },
   {
    "duration": 8,
    "start_time": "2023-09-13T08:55:02.158Z"
   },
   {
    "duration": 69,
    "start_time": "2023-09-13T09:04:09.539Z"
   },
   {
    "duration": 6,
    "start_time": "2023-09-13T09:04:10.189Z"
   },
   {
    "duration": 6,
    "start_time": "2023-09-13T09:04:34.326Z"
   },
   {
    "duration": 76,
    "start_time": "2023-09-13T09:04:37.266Z"
   },
   {
    "duration": 7,
    "start_time": "2023-09-13T09:04:38.065Z"
   },
   {
    "duration": 144,
    "start_time": "2023-09-13T09:10:29.932Z"
   },
   {
    "duration": 174,
    "start_time": "2023-09-13T09:10:41.295Z"
   },
   {
    "duration": 126,
    "start_time": "2023-09-13T09:10:50.129Z"
   },
   {
    "duration": 146,
    "start_time": "2023-09-13T09:10:57.181Z"
   },
   {
    "duration": 236,
    "start_time": "2023-09-13T09:11:03.037Z"
   },
   {
    "duration": 114,
    "start_time": "2023-09-13T09:11:09.661Z"
   },
   {
    "duration": 7,
    "start_time": "2023-09-13T09:11:10.815Z"
   },
   {
    "duration": 944,
    "start_time": "2023-09-14T05:55:04.763Z"
   },
   {
    "duration": 3,
    "start_time": "2023-09-14T05:55:05.710Z"
   },
   {
    "duration": 9130,
    "start_time": "2023-09-14T05:55:05.715Z"
   },
   {
    "duration": 233,
    "start_time": "2023-09-14T05:55:14.847Z"
   },
   {
    "duration": 15,
    "start_time": "2023-09-14T05:55:15.082Z"
   },
   {
    "duration": 148,
    "start_time": "2023-09-14T05:55:15.098Z"
   },
   {
    "duration": 6,
    "start_time": "2023-09-14T05:55:15.248Z"
   },
   {
    "duration": 187,
    "start_time": "2023-09-14T05:55:15.256Z"
   },
   {
    "duration": 10,
    "start_time": "2023-09-14T05:55:15.445Z"
   },
   {
    "duration": 168,
    "start_time": "2023-09-14T05:55:15.457Z"
   },
   {
    "duration": 6,
    "start_time": "2023-09-14T05:55:15.627Z"
   },
   {
    "duration": 1323,
    "start_time": "2023-09-14T05:55:15.635Z"
   },
   {
    "duration": 14,
    "start_time": "2023-09-14T05:55:16.960Z"
   },
   {
    "duration": 135,
    "start_time": "2023-09-14T05:55:16.975Z"
   },
   {
    "duration": 28,
    "start_time": "2023-09-14T05:55:17.112Z"
   },
   {
    "duration": 118,
    "start_time": "2023-09-14T05:55:17.142Z"
   },
   {
    "duration": 6,
    "start_time": "2023-09-14T05:55:17.261Z"
   },
   {
    "duration": 1421,
    "start_time": "2023-09-14T05:55:17.269Z"
   },
   {
    "duration": 10,
    "start_time": "2023-09-14T05:55:18.692Z"
   },
   {
    "duration": 260,
    "start_time": "2023-09-14T05:55:18.704Z"
   },
   {
    "duration": 0,
    "start_time": "2023-09-14T05:55:18.966Z"
   },
   {
    "duration": 0,
    "start_time": "2023-09-14T05:55:18.967Z"
   },
   {
    "duration": 0,
    "start_time": "2023-09-14T05:55:18.968Z"
   },
   {
    "duration": 0,
    "start_time": "2023-09-14T05:55:18.969Z"
   },
   {
    "duration": 0,
    "start_time": "2023-09-14T05:55:18.970Z"
   },
   {
    "duration": 0,
    "start_time": "2023-09-14T05:55:18.971Z"
   },
   {
    "duration": 0,
    "start_time": "2023-09-14T05:55:18.973Z"
   },
   {
    "duration": 0,
    "start_time": "2023-09-14T05:55:18.974Z"
   },
   {
    "duration": 143,
    "start_time": "2023-09-14T05:55:32.389Z"
   },
   {
    "duration": 7,
    "start_time": "2023-09-14T05:55:33.749Z"
   },
   {
    "duration": 119,
    "start_time": "2023-09-14T05:55:35.909Z"
   },
   {
    "duration": 146,
    "start_time": "2023-09-14T05:55:38.073Z"
   },
   {
    "duration": 9,
    "start_time": "2023-09-14T05:55:39.076Z"
   },
   {
    "duration": 3,
    "start_time": "2023-09-14T05:56:37.504Z"
   },
   {
    "duration": 563,
    "start_time": "2023-09-14T05:56:44.799Z"
   },
   {
    "duration": 13,
    "start_time": "2023-09-14T05:56:47.667Z"
   },
   {
    "duration": 127,
    "start_time": "2023-09-14T05:59:47.494Z"
   },
   {
    "duration": 156,
    "start_time": "2023-09-14T06:02:41.020Z"
   },
   {
    "duration": 158,
    "start_time": "2023-09-14T06:03:06.955Z"
   },
   {
    "duration": 129,
    "start_time": "2023-09-14T06:03:10.812Z"
   },
   {
    "duration": 125,
    "start_time": "2023-09-14T06:03:33.710Z"
   },
   {
    "duration": 152,
    "start_time": "2023-09-14T06:03:38.228Z"
   },
   {
    "duration": 198,
    "start_time": "2023-09-14T06:03:45.108Z"
   },
   {
    "duration": 160,
    "start_time": "2023-09-14T06:03:53.127Z"
   },
   {
    "duration": 177,
    "start_time": "2023-09-14T06:04:10.964Z"
   },
   {
    "duration": 139,
    "start_time": "2023-09-14T06:05:55.544Z"
   },
   {
    "duration": 165,
    "start_time": "2023-09-14T06:06:08.820Z"
   },
   {
    "duration": 129,
    "start_time": "2023-09-14T06:06:32.866Z"
   },
   {
    "duration": 160,
    "start_time": "2023-09-14T06:06:35.958Z"
   },
   {
    "duration": 138,
    "start_time": "2023-09-14T06:06:45.837Z"
   },
   {
    "duration": 148,
    "start_time": "2023-09-14T06:06:53.972Z"
   },
   {
    "duration": 442,
    "start_time": "2023-09-14T06:07:15.651Z"
   },
   {
    "duration": 137,
    "start_time": "2023-09-14T06:07:23.563Z"
   },
   {
    "duration": 250,
    "start_time": "2023-09-14T06:07:47.208Z"
   },
   {
    "duration": 161,
    "start_time": "2023-09-14T06:09:24.398Z"
   },
   {
    "duration": 306,
    "start_time": "2023-09-14T06:10:02.614Z"
   },
   {
    "duration": 135,
    "start_time": "2023-09-14T06:10:42.154Z"
   },
   {
    "duration": 1255,
    "start_time": "2023-09-14T06:10:57.342Z"
   },
   {
    "duration": 1198,
    "start_time": "2023-09-14T06:12:05.037Z"
   },
   {
    "duration": 11,
    "start_time": "2023-09-14T06:12:09.964Z"
   },
   {
    "duration": 588,
    "start_time": "2023-09-14T06:13:08.129Z"
   },
   {
    "duration": 11,
    "start_time": "2023-09-14T06:13:10.940Z"
   },
   {
    "duration": 9,
    "start_time": "2023-09-14T06:13:50.469Z"
   },
   {
    "duration": 15,
    "start_time": "2023-09-14T06:14:00.006Z"
   },
   {
    "duration": 542,
    "start_time": "2023-09-14T06:14:13.897Z"
   },
   {
    "duration": 467,
    "start_time": "2023-09-14T06:14:18.564Z"
   },
   {
    "duration": 444,
    "start_time": "2023-09-14T06:14:36.030Z"
   },
   {
    "duration": 386,
    "start_time": "2023-09-14T06:14:41.374Z"
   },
   {
    "duration": 383,
    "start_time": "2023-09-14T06:32:24.770Z"
   },
   {
    "duration": 467,
    "start_time": "2023-09-14T06:32:28.251Z"
   },
   {
    "duration": 1940,
    "start_time": "2023-09-14T07:01:23.738Z"
   },
   {
    "duration": 172,
    "start_time": "2023-09-14T07:01:27.237Z"
   },
   {
    "duration": 11,
    "start_time": "2023-09-14T07:01:28.246Z"
   },
   {
    "duration": 10,
    "start_time": "2023-09-14T07:01:28.981Z"
   },
   {
    "duration": 10,
    "start_time": "2023-09-14T07:01:43.095Z"
   },
   {
    "duration": 10,
    "start_time": "2023-09-14T07:01:48.841Z"
   },
   {
    "duration": 10,
    "start_time": "2023-09-14T07:01:56.478Z"
   },
   {
    "duration": 6,
    "start_time": "2023-09-14T07:03:45.305Z"
   },
   {
    "duration": 9,
    "start_time": "2023-09-14T07:03:49.092Z"
   },
   {
    "duration": 81,
    "start_time": "2023-09-14T07:03:57.159Z"
   },
   {
    "duration": 97,
    "start_time": "2023-09-14T07:04:02.542Z"
   },
   {
    "duration": 172,
    "start_time": "2023-09-14T07:04:35.149Z"
   },
   {
    "duration": 4,
    "start_time": "2023-09-14T07:04:44.188Z"
   },
   {
    "duration": 3,
    "start_time": "2023-09-14T07:05:08.035Z"
   },
   {
    "duration": 1354,
    "start_time": "2023-09-14T07:06:48.829Z"
   },
   {
    "duration": 5,
    "start_time": "2023-09-14T07:06:50.185Z"
   },
   {
    "duration": 11127,
    "start_time": "2023-09-14T07:06:50.192Z"
   },
   {
    "duration": 210,
    "start_time": "2023-09-14T07:07:01.321Z"
   },
   {
    "duration": 15,
    "start_time": "2023-09-14T07:07:01.534Z"
   },
   {
    "duration": 148,
    "start_time": "2023-09-14T07:07:01.550Z"
   },
   {
    "duration": 7,
    "start_time": "2023-09-14T07:07:01.699Z"
   },
   {
    "duration": 220,
    "start_time": "2023-09-14T07:07:01.707Z"
   },
   {
    "duration": 11,
    "start_time": "2023-09-14T07:07:01.929Z"
   },
   {
    "duration": 60,
    "start_time": "2023-09-14T07:07:01.941Z"
   },
   {
    "duration": 62,
    "start_time": "2023-09-14T07:07:02.002Z"
   },
   {
    "duration": 207,
    "start_time": "2023-09-14T07:07:02.065Z"
   },
   {
    "duration": 7,
    "start_time": "2023-09-14T07:07:02.275Z"
   },
   {
    "duration": 1357,
    "start_time": "2023-09-14T07:07:02.285Z"
   },
   {
    "duration": 18,
    "start_time": "2023-09-14T07:07:03.644Z"
   },
   {
    "duration": 113,
    "start_time": "2023-09-14T07:07:03.663Z"
   },
   {
    "duration": 7,
    "start_time": "2023-09-14T07:07:03.778Z"
   },
   {
    "duration": 78,
    "start_time": "2023-09-14T07:07:03.786Z"
   },
   {
    "duration": 6,
    "start_time": "2023-09-14T07:07:03.866Z"
   },
   {
    "duration": 1451,
    "start_time": "2023-09-14T07:07:03.874Z"
   },
   {
    "duration": 21,
    "start_time": "2023-09-14T07:07:05.327Z"
   },
   {
    "duration": 614,
    "start_time": "2023-09-14T07:07:05.350Z"
   },
   {
    "duration": 12,
    "start_time": "2023-09-14T07:07:05.966Z"
   },
   {
    "duration": 473,
    "start_time": "2023-09-14T07:07:05.980Z"
   },
   {
    "duration": 141,
    "start_time": "2023-09-14T07:07:06.456Z"
   },
   {
    "duration": 8,
    "start_time": "2023-09-14T07:07:06.599Z"
   },
   {
    "duration": 135,
    "start_time": "2023-09-14T07:07:06.609Z"
   },
   {
    "duration": 135,
    "start_time": "2023-09-14T07:07:06.746Z"
   },
   {
    "duration": 8,
    "start_time": "2023-09-14T07:07:06.883Z"
   },
   {
    "duration": 1376,
    "start_time": "2023-09-14T07:36:25.913Z"
   },
   {
    "duration": 3,
    "start_time": "2023-09-14T07:36:27.291Z"
   },
   {
    "duration": 10495,
    "start_time": "2023-09-14T07:36:27.298Z"
   },
   {
    "duration": 205,
    "start_time": "2023-09-14T07:36:37.795Z"
   },
   {
    "duration": 15,
    "start_time": "2023-09-14T07:36:38.001Z"
   },
   {
    "duration": 101,
    "start_time": "2023-09-14T07:36:38.018Z"
   },
   {
    "duration": 8,
    "start_time": "2023-09-14T07:36:38.121Z"
   },
   {
    "duration": 176,
    "start_time": "2023-09-14T07:36:38.131Z"
   },
   {
    "duration": 11,
    "start_time": "2023-09-14T07:36:38.310Z"
   },
   {
    "duration": 19,
    "start_time": "2023-09-14T07:36:38.323Z"
   },
   {
    "duration": 14,
    "start_time": "2023-09-14T07:36:38.343Z"
   },
   {
    "duration": 191,
    "start_time": "2023-09-14T07:36:38.358Z"
   },
   {
    "duration": 6,
    "start_time": "2023-09-14T07:36:38.551Z"
   },
   {
    "duration": 1326,
    "start_time": "2023-09-14T07:36:38.558Z"
   },
   {
    "duration": 12,
    "start_time": "2023-09-14T07:36:39.886Z"
   },
   {
    "duration": 102,
    "start_time": "2023-09-14T07:36:39.900Z"
   },
   {
    "duration": 8,
    "start_time": "2023-09-14T07:36:40.004Z"
   },
   {
    "duration": 101,
    "start_time": "2023-09-14T07:36:40.014Z"
   },
   {
    "duration": 7,
    "start_time": "2023-09-14T07:36:40.118Z"
   },
   {
    "duration": 1441,
    "start_time": "2023-09-14T07:36:40.127Z"
   },
   {
    "duration": 11,
    "start_time": "2023-09-14T07:36:41.570Z"
   },
   {
    "duration": 623,
    "start_time": "2023-09-14T07:36:41.582Z"
   },
   {
    "duration": 11,
    "start_time": "2023-09-14T07:36:42.207Z"
   },
   {
    "duration": 427,
    "start_time": "2023-09-14T07:36:42.220Z"
   },
   {
    "duration": 136,
    "start_time": "2023-09-14T07:36:42.649Z"
   },
   {
    "duration": 9,
    "start_time": "2023-09-14T07:36:42.787Z"
   },
   {
    "duration": 217,
    "start_time": "2023-09-14T07:36:42.799Z"
   },
   {
    "duration": 135,
    "start_time": "2023-09-14T07:36:43.018Z"
   },
   {
    "duration": 8,
    "start_time": "2023-09-14T07:36:43.154Z"
   },
   {
    "duration": 1294,
    "start_time": "2023-09-14T07:39:08.901Z"
   },
   {
    "duration": 5,
    "start_time": "2023-09-14T07:39:10.197Z"
   },
   {
    "duration": 10477,
    "start_time": "2023-09-14T07:39:10.203Z"
   },
   {
    "duration": 201,
    "start_time": "2023-09-14T07:39:20.682Z"
   },
   {
    "duration": 15,
    "start_time": "2023-09-14T07:39:20.885Z"
   },
   {
    "duration": 214,
    "start_time": "2023-09-14T07:39:20.901Z"
   },
   {
    "duration": 7,
    "start_time": "2023-09-14T07:39:21.116Z"
   },
   {
    "duration": 180,
    "start_time": "2023-09-14T07:39:21.125Z"
   },
   {
    "duration": 12,
    "start_time": "2023-09-14T07:39:21.307Z"
   },
   {
    "duration": 21,
    "start_time": "2023-09-14T07:39:21.320Z"
   },
   {
    "duration": 25,
    "start_time": "2023-09-14T07:39:21.342Z"
   },
   {
    "duration": 175,
    "start_time": "2023-09-14T07:39:21.368Z"
   },
   {
    "duration": 6,
    "start_time": "2023-09-14T07:39:21.545Z"
   },
   {
    "duration": 1394,
    "start_time": "2023-09-14T07:39:21.554Z"
   },
   {
    "duration": 12,
    "start_time": "2023-09-14T07:39:22.949Z"
   },
   {
    "duration": 109,
    "start_time": "2023-09-14T07:39:22.963Z"
   },
   {
    "duration": 7,
    "start_time": "2023-09-14T07:39:23.074Z"
   },
   {
    "duration": 72,
    "start_time": "2023-09-14T07:39:23.083Z"
   },
   {
    "duration": 6,
    "start_time": "2023-09-14T07:39:23.157Z"
   },
   {
    "duration": 1437,
    "start_time": "2023-09-14T07:39:23.165Z"
   },
   {
    "duration": 12,
    "start_time": "2023-09-14T07:39:24.603Z"
   },
   {
    "duration": 592,
    "start_time": "2023-09-14T07:39:24.616Z"
   },
   {
    "duration": 18,
    "start_time": "2023-09-14T07:39:25.210Z"
   },
   {
    "duration": 434,
    "start_time": "2023-09-14T07:39:25.230Z"
   },
   {
    "duration": 143,
    "start_time": "2023-09-14T07:39:25.666Z"
   },
   {
    "duration": 8,
    "start_time": "2023-09-14T07:39:25.811Z"
   },
   {
    "duration": 114,
    "start_time": "2023-09-14T07:39:25.821Z"
   },
   {
    "duration": 144,
    "start_time": "2023-09-14T07:39:25.937Z"
   },
   {
    "duration": 8,
    "start_time": "2023-09-14T07:39:26.083Z"
   },
   {
    "duration": 1523,
    "start_time": "2023-09-16T09:13:13.527Z"
   },
   {
    "duration": 4,
    "start_time": "2023-09-16T09:13:15.052Z"
   },
   {
    "duration": 11574,
    "start_time": "2023-09-16T09:13:15.057Z"
   },
   {
    "duration": 225,
    "start_time": "2023-09-16T09:13:26.633Z"
   },
   {
    "duration": 16,
    "start_time": "2023-09-16T09:13:26.860Z"
   },
   {
    "duration": 116,
    "start_time": "2023-09-16T09:13:26.878Z"
   },
   {
    "duration": 9,
    "start_time": "2023-09-16T09:13:26.996Z"
   },
   {
    "duration": 173,
    "start_time": "2023-09-16T09:13:27.007Z"
   },
   {
    "duration": 12,
    "start_time": "2023-09-16T09:13:27.181Z"
   },
   {
    "duration": 15,
    "start_time": "2023-09-16T09:13:27.195Z"
   },
   {
    "duration": 4,
    "start_time": "2023-09-16T09:13:27.212Z"
   },
   {
    "duration": 161,
    "start_time": "2023-09-16T09:13:27.218Z"
   },
   {
    "duration": 7,
    "start_time": "2023-09-16T09:13:27.381Z"
   },
   {
    "duration": 1335,
    "start_time": "2023-09-16T09:13:27.392Z"
   },
   {
    "duration": 11,
    "start_time": "2023-09-16T09:13:28.729Z"
   },
   {
    "duration": 134,
    "start_time": "2023-09-16T09:13:28.742Z"
   },
   {
    "duration": 7,
    "start_time": "2023-09-16T09:13:28.878Z"
   },
   {
    "duration": 81,
    "start_time": "2023-09-16T09:13:28.888Z"
   },
   {
    "duration": 7,
    "start_time": "2023-09-16T09:13:28.972Z"
   },
   {
    "duration": 1401,
    "start_time": "2023-09-16T09:13:28.981Z"
   },
   {
    "duration": 10,
    "start_time": "2023-09-16T09:13:30.384Z"
   },
   {
    "duration": 617,
    "start_time": "2023-09-16T09:13:30.396Z"
   },
   {
    "duration": 12,
    "start_time": "2023-09-16T09:13:31.014Z"
   },
   {
    "duration": 509,
    "start_time": "2023-09-16T09:13:31.029Z"
   },
   {
    "duration": 148,
    "start_time": "2023-09-16T09:13:31.540Z"
   },
   {
    "duration": 9,
    "start_time": "2023-09-16T09:13:31.689Z"
   },
   {
    "duration": 149,
    "start_time": "2023-09-16T09:13:31.699Z"
   },
   {
    "duration": 147,
    "start_time": "2023-09-16T09:13:31.849Z"
   },
   {
    "duration": 7,
    "start_time": "2023-09-16T09:13:31.998Z"
   },
   {
    "duration": 73,
    "start_time": "2023-09-16T09:13:48.279Z"
   },
   {
    "duration": 6,
    "start_time": "2023-09-16T09:13:49.097Z"
   },
   {
    "duration": 72,
    "start_time": "2023-09-16T09:14:43.682Z"
   },
   {
    "duration": 7,
    "start_time": "2023-09-16T09:14:44.432Z"
   },
   {
    "duration": 141,
    "start_time": "2023-09-16T09:16:28.619Z"
   },
   {
    "duration": 8,
    "start_time": "2023-09-16T09:16:29.657Z"
   },
   {
    "duration": 1831,
    "start_time": "2023-09-16T17:32:22.416Z"
   },
   {
    "duration": 8,
    "start_time": "2023-09-16T17:32:24.249Z"
   },
   {
    "duration": 14831,
    "start_time": "2023-09-16T17:32:24.265Z"
   },
   {
    "duration": 303,
    "start_time": "2023-09-16T17:32:39.098Z"
   },
   {
    "duration": 27,
    "start_time": "2023-09-16T17:32:39.403Z"
   },
   {
    "duration": 123,
    "start_time": "2023-09-16T17:32:39.432Z"
   },
   {
    "duration": 7,
    "start_time": "2023-09-16T17:32:39.557Z"
   },
   {
    "duration": 190,
    "start_time": "2023-09-16T17:32:39.566Z"
   },
   {
    "duration": 11,
    "start_time": "2023-09-16T17:32:39.757Z"
   },
   {
    "duration": 13,
    "start_time": "2023-09-16T17:32:39.770Z"
   },
   {
    "duration": 3,
    "start_time": "2023-09-16T17:32:39.785Z"
   },
   {
    "duration": 166,
    "start_time": "2023-09-16T17:32:39.790Z"
   },
   {
    "duration": 7,
    "start_time": "2023-09-16T17:32:39.958Z"
   },
   {
    "duration": 1467,
    "start_time": "2023-09-16T17:32:39.966Z"
   },
   {
    "duration": 15,
    "start_time": "2023-09-16T17:32:41.442Z"
   },
   {
    "duration": 104,
    "start_time": "2023-09-16T17:32:41.459Z"
   },
   {
    "duration": 7,
    "start_time": "2023-09-16T17:32:41.565Z"
   },
   {
    "duration": 123,
    "start_time": "2023-09-16T17:32:41.574Z"
   },
   {
    "duration": 6,
    "start_time": "2023-09-16T17:32:41.699Z"
   },
   {
    "duration": 1594,
    "start_time": "2023-09-16T17:32:41.706Z"
   },
   {
    "duration": 18,
    "start_time": "2023-09-16T17:32:43.302Z"
   },
   {
    "duration": 624,
    "start_time": "2023-09-16T17:32:43.322Z"
   },
   {
    "duration": 12,
    "start_time": "2023-09-16T17:32:43.948Z"
   },
   {
    "duration": 478,
    "start_time": "2023-09-16T17:32:43.961Z"
   },
   {
    "duration": 149,
    "start_time": "2023-09-16T17:32:44.441Z"
   },
   {
    "duration": 11,
    "start_time": "2023-09-16T17:32:44.592Z"
   },
   {
    "duration": 147,
    "start_time": "2023-09-16T17:32:44.605Z"
   },
   {
    "duration": 146,
    "start_time": "2023-09-16T17:32:44.756Z"
   },
   {
    "duration": 17,
    "start_time": "2023-09-16T17:32:44.903Z"
   },
   {
    "duration": 1406,
    "start_time": "2023-09-16T17:33:29.796Z"
   },
   {
    "duration": 4,
    "start_time": "2023-09-16T17:33:31.205Z"
   },
   {
    "duration": 14661,
    "start_time": "2023-09-16T17:33:31.211Z"
   },
   {
    "duration": 289,
    "start_time": "2023-09-16T17:33:45.874Z"
   },
   {
    "duration": 15,
    "start_time": "2023-09-16T17:33:46.166Z"
   },
   {
    "duration": 105,
    "start_time": "2023-09-16T17:33:46.182Z"
   },
   {
    "duration": 6,
    "start_time": "2023-09-16T17:33:46.289Z"
   },
   {
    "duration": 197,
    "start_time": "2023-09-16T17:33:46.297Z"
   },
   {
    "duration": 12,
    "start_time": "2023-09-16T17:33:46.496Z"
   },
   {
    "duration": 29,
    "start_time": "2023-09-16T17:33:46.513Z"
   },
   {
    "duration": 5,
    "start_time": "2023-09-16T17:33:46.544Z"
   },
   {
    "duration": 162,
    "start_time": "2023-09-16T17:33:46.552Z"
   },
   {
    "duration": 11,
    "start_time": "2023-09-16T17:33:46.716Z"
   },
   {
    "duration": 1469,
    "start_time": "2023-09-16T17:33:46.731Z"
   },
   {
    "duration": 34,
    "start_time": "2023-09-16T17:33:48.202Z"
   },
   {
    "duration": 121,
    "start_time": "2023-09-16T17:33:48.238Z"
   },
   {
    "duration": 8,
    "start_time": "2023-09-16T17:33:48.360Z"
   },
   {
    "duration": 86,
    "start_time": "2023-09-16T17:33:48.369Z"
   },
   {
    "duration": 6,
    "start_time": "2023-09-16T17:33:48.456Z"
   },
   {
    "duration": 1520,
    "start_time": "2023-09-16T17:33:48.464Z"
   },
   {
    "duration": 11,
    "start_time": "2023-09-16T17:33:49.985Z"
   },
   {
    "duration": 636,
    "start_time": "2023-09-16T17:33:49.998Z"
   },
   {
    "duration": 18,
    "start_time": "2023-09-16T17:33:50.638Z"
   },
   {
    "duration": 399,
    "start_time": "2023-09-16T17:33:50.658Z"
   },
   {
    "duration": 144,
    "start_time": "2023-09-16T17:33:51.059Z"
   },
   {
    "duration": 13,
    "start_time": "2023-09-16T17:33:51.204Z"
   },
   {
    "duration": 128,
    "start_time": "2023-09-16T17:33:51.219Z"
   },
   {
    "duration": 144,
    "start_time": "2023-09-16T17:33:51.352Z"
   },
   {
    "duration": 8,
    "start_time": "2023-09-16T17:33:51.497Z"
   },
   {
    "duration": 1652,
    "start_time": "2023-09-16T17:35:45.129Z"
   },
   {
    "duration": 4,
    "start_time": "2023-09-16T17:35:46.782Z"
   },
   {
    "duration": 19250,
    "start_time": "2023-09-16T17:35:46.787Z"
   },
   {
    "duration": 300,
    "start_time": "2023-09-16T17:36:06.039Z"
   },
   {
    "duration": 20,
    "start_time": "2023-09-16T17:36:06.341Z"
   },
   {
    "duration": 110,
    "start_time": "2023-09-16T17:36:06.363Z"
   },
   {
    "duration": 6,
    "start_time": "2023-09-16T17:36:06.475Z"
   },
   {
    "duration": 179,
    "start_time": "2023-09-16T17:36:06.483Z"
   },
   {
    "duration": 11,
    "start_time": "2023-09-16T17:36:06.664Z"
   },
   {
    "duration": 14,
    "start_time": "2023-09-16T17:36:06.680Z"
   },
   {
    "duration": 32,
    "start_time": "2023-09-16T17:36:06.695Z"
   },
   {
    "duration": 165,
    "start_time": "2023-09-16T17:36:06.731Z"
   },
   {
    "duration": 8,
    "start_time": "2023-09-16T17:36:06.898Z"
   },
   {
    "duration": 1549,
    "start_time": "2023-09-16T17:36:06.907Z"
   },
   {
    "duration": 11,
    "start_time": "2023-09-16T17:36:08.458Z"
   },
   {
    "duration": 131,
    "start_time": "2023-09-16T17:36:08.471Z"
   },
   {
    "duration": 15,
    "start_time": "2023-09-16T17:36:08.604Z"
   },
   {
    "duration": 81,
    "start_time": "2023-09-16T17:36:08.624Z"
   },
   {
    "duration": 11,
    "start_time": "2023-09-16T17:36:08.706Z"
   },
   {
    "duration": 1553,
    "start_time": "2023-09-16T17:36:08.720Z"
   },
   {
    "duration": 11,
    "start_time": "2023-09-16T17:36:10.275Z"
   },
   {
    "duration": 667,
    "start_time": "2023-09-16T17:36:10.288Z"
   },
   {
    "duration": 14,
    "start_time": "2023-09-16T17:36:10.957Z"
   },
   {
    "duration": 491,
    "start_time": "2023-09-16T17:36:10.973Z"
   },
   {
    "duration": 143,
    "start_time": "2023-09-16T17:36:11.466Z"
   },
   {
    "duration": 15,
    "start_time": "2023-09-16T17:36:11.614Z"
   },
   {
    "duration": 133,
    "start_time": "2023-09-16T17:36:11.632Z"
   },
   {
    "duration": 155,
    "start_time": "2023-09-16T17:36:11.770Z"
   },
   {
    "duration": 13,
    "start_time": "2023-09-16T17:36:11.927Z"
   }
  ],
  "colab": {
   "provenance": []
  },
  "kernelspec": {
   "display_name": "Python 3 (ipykernel)",
   "language": "python",
   "name": "python3"
  },
  "language_info": {
   "codemirror_mode": {
    "name": "ipython",
    "version": 3
   },
   "file_extension": ".py",
   "mimetype": "text/x-python",
   "name": "python",
   "nbconvert_exporter": "python",
   "pygments_lexer": "ipython3",
   "version": "3.9.5"
  },
  "toc": {
   "base_numbering": 1,
   "nav_menu": {},
   "number_sections": false,
   "sideBar": true,
   "skip_h1_title": false,
   "title_cell": "Table of Contents",
   "title_sidebar": "Contents",
   "toc_cell": false,
   "toc_position": {
    "height": "calc(100% - 180px)",
    "left": "10px",
    "top": "150px",
    "width": "289px"
   },
   "toc_section_display": true,
   "toc_window_display": true
  }
 },
 "nbformat": 4,
 "nbformat_minor": 1
}
