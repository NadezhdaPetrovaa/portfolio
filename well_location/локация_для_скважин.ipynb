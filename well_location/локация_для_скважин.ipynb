{
 "cells": [
  {
   "cell_type": "markdown",
   "metadata": {},
   "source": [
    "# Выбор локации для скважины"
   ]
  },
  {
   "cell_type": "markdown",
   "metadata": {},
   "source": [
    "Предоставлены пробы нефти в трёх регионах: в каждом 10 000 месторождений, где измерили качество нефти и объём её запасов. Построим модель машинного обучения, которая поможет определить регион, где добыча принесёт наибольшую прибыль. Проанализируем возможную прибыль и риски.\n",
    "\n",
    "Шаги для выбора локации:\n",
    "\n",
    "- В избранном регионе ищут месторождения, для каждого определяют значения признаков;\n",
    "- Строят модель и оценивают объём запасов;\n",
    "- Выбирают месторождения с самым высокими оценками значений. Количество месторождений зависит от бюджета компании и стоимости разработки одной скважины;\n",
    "- Прибыль равна суммарной прибыли отобранных месторождений."
   ]
  },
  {
   "cell_type": "markdown",
   "metadata": {},
   "source": [
    "**Данные:**\n",
    "- `id` — уникальный идентификатор скважины;\n",
    "- `f0`, `f1`, `f2` — три признака точек (неважно, что они означают, но сами признаки значимы);\n",
    "- `product` — объём запасов в скважине (тыс. баррелей)."
   ]
  },
  {
   "cell_type": "markdown",
   "metadata": {},
   "source": [
    "## Загрузка и подготовка данных"
   ]
  },
  {
   "cell_type": "code",
   "execution_count": 1,
   "metadata": {},
   "outputs": [],
   "source": [
    "import pandas as pd\n",
    "import numpy as np\n",
    "import matplotlib.pyplot as plt\n",
    "\n",
    "from scipy import stats as st\n",
    "\n",
    "from sklearn.model_selection import train_test_split\n",
    "from sklearn.preprocessing import StandardScaler\n",
    "from sklearn.linear_model import LinearRegression\n",
    "from sklearn.metrics import mean_squared_error"
   ]
  },
  {
   "cell_type": "code",
   "execution_count": 2,
   "metadata": {},
   "outputs": [],
   "source": [
    "# загружаем данные\n",
    "data_0 = pd.read_csv('/datasets/geo_data_0.csv')\n",
    "data_1 = pd.read_csv('/datasets/geo_data_1.csv')\n",
    "data_2 = pd.read_csv('/datasets/geo_data_2.csv')"
   ]
  },
  {
   "cell_type": "markdown",
   "metadata": {},
   "source": [
    "**1 регион**"
   ]
  },
  {
   "cell_type": "code",
   "execution_count": 3,
   "metadata": {},
   "outputs": [
    {
     "data": {
      "text/html": [
       "<div>\n",
       "<style scoped>\n",
       "    .dataframe tbody tr th:only-of-type {\n",
       "        vertical-align: middle;\n",
       "    }\n",
       "\n",
       "    .dataframe tbody tr th {\n",
       "        vertical-align: top;\n",
       "    }\n",
       "\n",
       "    .dataframe thead th {\n",
       "        text-align: right;\n",
       "    }\n",
       "</style>\n",
       "<table border=\"1\" class=\"dataframe\">\n",
       "  <thead>\n",
       "    <tr style=\"text-align: right;\">\n",
       "      <th></th>\n",
       "      <th>id</th>\n",
       "      <th>f0</th>\n",
       "      <th>f1</th>\n",
       "      <th>f2</th>\n",
       "      <th>product</th>\n",
       "    </tr>\n",
       "  </thead>\n",
       "  <tbody>\n",
       "    <tr>\n",
       "      <th>0</th>\n",
       "      <td>txEyH</td>\n",
       "      <td>0.705745</td>\n",
       "      <td>-0.497823</td>\n",
       "      <td>1.221170</td>\n",
       "      <td>105.280062</td>\n",
       "    </tr>\n",
       "    <tr>\n",
       "      <th>1</th>\n",
       "      <td>2acmU</td>\n",
       "      <td>1.334711</td>\n",
       "      <td>-0.340164</td>\n",
       "      <td>4.365080</td>\n",
       "      <td>73.037750</td>\n",
       "    </tr>\n",
       "    <tr>\n",
       "      <th>2</th>\n",
       "      <td>409Wp</td>\n",
       "      <td>1.022732</td>\n",
       "      <td>0.151990</td>\n",
       "      <td>1.419926</td>\n",
       "      <td>85.265647</td>\n",
       "    </tr>\n",
       "    <tr>\n",
       "      <th>3</th>\n",
       "      <td>iJLyR</td>\n",
       "      <td>-0.032172</td>\n",
       "      <td>0.139033</td>\n",
       "      <td>2.978566</td>\n",
       "      <td>168.620776</td>\n",
       "    </tr>\n",
       "    <tr>\n",
       "      <th>4</th>\n",
       "      <td>Xdl7t</td>\n",
       "      <td>1.988431</td>\n",
       "      <td>0.155413</td>\n",
       "      <td>4.751769</td>\n",
       "      <td>154.036647</td>\n",
       "    </tr>\n",
       "  </tbody>\n",
       "</table>\n",
       "</div>"
      ],
      "text/plain": [
       "      id        f0        f1        f2     product\n",
       "0  txEyH  0.705745 -0.497823  1.221170  105.280062\n",
       "1  2acmU  1.334711 -0.340164  4.365080   73.037750\n",
       "2  409Wp  1.022732  0.151990  1.419926   85.265647\n",
       "3  iJLyR -0.032172  0.139033  2.978566  168.620776\n",
       "4  Xdl7t  1.988431  0.155413  4.751769  154.036647"
      ]
     },
     "execution_count": 3,
     "metadata": {},
     "output_type": "execute_result"
    }
   ],
   "source": [
    "# выводим первые 5 строк\n",
    "data_0.head()"
   ]
  },
  {
   "cell_type": "code",
   "execution_count": 4,
   "metadata": {},
   "outputs": [
    {
     "name": "stdout",
     "output_type": "stream",
     "text": [
      "<class 'pandas.core.frame.DataFrame'>\n",
      "RangeIndex: 100000 entries, 0 to 99999\n",
      "Data columns (total 5 columns):\n",
      " #   Column   Non-Null Count   Dtype  \n",
      "---  ------   --------------   -----  \n",
      " 0   id       100000 non-null  object \n",
      " 1   f0       100000 non-null  float64\n",
      " 2   f1       100000 non-null  float64\n",
      " 3   f2       100000 non-null  float64\n",
      " 4   product  100000 non-null  float64\n",
      "dtypes: float64(4), object(1)\n",
      "memory usage: 3.8+ MB\n"
     ]
    }
   ],
   "source": [
    "# смотрим краткую информацию\n",
    "data_0.info()"
   ]
  },
  {
   "cell_type": "code",
   "execution_count": 5,
   "metadata": {},
   "outputs": [
    {
     "data": {
      "text/html": [
       "<div>\n",
       "<style scoped>\n",
       "    .dataframe tbody tr th:only-of-type {\n",
       "        vertical-align: middle;\n",
       "    }\n",
       "\n",
       "    .dataframe tbody tr th {\n",
       "        vertical-align: top;\n",
       "    }\n",
       "\n",
       "    .dataframe thead th {\n",
       "        text-align: right;\n",
       "    }\n",
       "</style>\n",
       "<table border=\"1\" class=\"dataframe\">\n",
       "  <thead>\n",
       "    <tr style=\"text-align: right;\">\n",
       "      <th></th>\n",
       "      <th>f0</th>\n",
       "      <th>f1</th>\n",
       "      <th>f2</th>\n",
       "      <th>product</th>\n",
       "    </tr>\n",
       "  </thead>\n",
       "  <tbody>\n",
       "    <tr>\n",
       "      <th>count</th>\n",
       "      <td>100000.000000</td>\n",
       "      <td>100000.000000</td>\n",
       "      <td>100000.000000</td>\n",
       "      <td>100000.000000</td>\n",
       "    </tr>\n",
       "    <tr>\n",
       "      <th>mean</th>\n",
       "      <td>0.500419</td>\n",
       "      <td>0.250143</td>\n",
       "      <td>2.502647</td>\n",
       "      <td>92.500000</td>\n",
       "    </tr>\n",
       "    <tr>\n",
       "      <th>std</th>\n",
       "      <td>0.871832</td>\n",
       "      <td>0.504433</td>\n",
       "      <td>3.248248</td>\n",
       "      <td>44.288691</td>\n",
       "    </tr>\n",
       "    <tr>\n",
       "      <th>min</th>\n",
       "      <td>-1.408605</td>\n",
       "      <td>-0.848218</td>\n",
       "      <td>-12.088328</td>\n",
       "      <td>0.000000</td>\n",
       "    </tr>\n",
       "    <tr>\n",
       "      <th>25%</th>\n",
       "      <td>-0.072580</td>\n",
       "      <td>-0.200881</td>\n",
       "      <td>0.287748</td>\n",
       "      <td>56.497507</td>\n",
       "    </tr>\n",
       "    <tr>\n",
       "      <th>50%</th>\n",
       "      <td>0.502360</td>\n",
       "      <td>0.250252</td>\n",
       "      <td>2.515969</td>\n",
       "      <td>91.849972</td>\n",
       "    </tr>\n",
       "    <tr>\n",
       "      <th>75%</th>\n",
       "      <td>1.073581</td>\n",
       "      <td>0.700646</td>\n",
       "      <td>4.715088</td>\n",
       "      <td>128.564089</td>\n",
       "    </tr>\n",
       "    <tr>\n",
       "      <th>max</th>\n",
       "      <td>2.362331</td>\n",
       "      <td>1.343769</td>\n",
       "      <td>16.003790</td>\n",
       "      <td>185.364347</td>\n",
       "    </tr>\n",
       "  </tbody>\n",
       "</table>\n",
       "</div>"
      ],
      "text/plain": [
       "                  f0             f1             f2        product\n",
       "count  100000.000000  100000.000000  100000.000000  100000.000000\n",
       "mean        0.500419       0.250143       2.502647      92.500000\n",
       "std         0.871832       0.504433       3.248248      44.288691\n",
       "min        -1.408605      -0.848218     -12.088328       0.000000\n",
       "25%        -0.072580      -0.200881       0.287748      56.497507\n",
       "50%         0.502360       0.250252       2.515969      91.849972\n",
       "75%         1.073581       0.700646       4.715088     128.564089\n",
       "max         2.362331       1.343769      16.003790     185.364347"
      ]
     },
     "execution_count": 5,
     "metadata": {},
     "output_type": "execute_result"
    }
   ],
   "source": [
    "# смотрим краткую информацию\n",
    "data_0.describe()"
   ]
  },
  {
   "cell_type": "code",
   "execution_count": 6,
   "metadata": {},
   "outputs": [
    {
     "data": {
      "text/html": [
       "<div>\n",
       "<style scoped>\n",
       "    .dataframe tbody tr th:only-of-type {\n",
       "        vertical-align: middle;\n",
       "    }\n",
       "\n",
       "    .dataframe tbody tr th {\n",
       "        vertical-align: top;\n",
       "    }\n",
       "\n",
       "    .dataframe thead th {\n",
       "        text-align: right;\n",
       "    }\n",
       "</style>\n",
       "<table border=\"1\" class=\"dataframe\">\n",
       "  <thead>\n",
       "    <tr style=\"text-align: right;\">\n",
       "      <th></th>\n",
       "      <th>f0</th>\n",
       "      <th>f1</th>\n",
       "      <th>f2</th>\n",
       "      <th>product</th>\n",
       "    </tr>\n",
       "  </thead>\n",
       "  <tbody>\n",
       "    <tr>\n",
       "      <th>f0</th>\n",
       "      <td>1.000000</td>\n",
       "      <td>-0.440723</td>\n",
       "      <td>-0.003153</td>\n",
       "      <td>0.143536</td>\n",
       "    </tr>\n",
       "    <tr>\n",
       "      <th>f1</th>\n",
       "      <td>-0.440723</td>\n",
       "      <td>1.000000</td>\n",
       "      <td>0.001724</td>\n",
       "      <td>-0.192356</td>\n",
       "    </tr>\n",
       "    <tr>\n",
       "      <th>f2</th>\n",
       "      <td>-0.003153</td>\n",
       "      <td>0.001724</td>\n",
       "      <td>1.000000</td>\n",
       "      <td>0.483663</td>\n",
       "    </tr>\n",
       "    <tr>\n",
       "      <th>product</th>\n",
       "      <td>0.143536</td>\n",
       "      <td>-0.192356</td>\n",
       "      <td>0.483663</td>\n",
       "      <td>1.000000</td>\n",
       "    </tr>\n",
       "  </tbody>\n",
       "</table>\n",
       "</div>"
      ],
      "text/plain": [
       "               f0        f1        f2   product\n",
       "f0       1.000000 -0.440723 -0.003153  0.143536\n",
       "f1      -0.440723  1.000000  0.001724 -0.192356\n",
       "f2      -0.003153  0.001724  1.000000  0.483663\n",
       "product  0.143536 -0.192356  0.483663  1.000000"
      ]
     },
     "execution_count": 6,
     "metadata": {},
     "output_type": "execute_result"
    }
   ],
   "source": [
    "# смотрим корреляцию признаков\n",
    "data_0.corr()"
   ]
  },
  {
   "cell_type": "markdown",
   "metadata": {},
   "source": [
    "**2 регион**"
   ]
  },
  {
   "cell_type": "code",
   "execution_count": 7,
   "metadata": {},
   "outputs": [
    {
     "data": {
      "text/html": [
       "<div>\n",
       "<style scoped>\n",
       "    .dataframe tbody tr th:only-of-type {\n",
       "        vertical-align: middle;\n",
       "    }\n",
       "\n",
       "    .dataframe tbody tr th {\n",
       "        vertical-align: top;\n",
       "    }\n",
       "\n",
       "    .dataframe thead th {\n",
       "        text-align: right;\n",
       "    }\n",
       "</style>\n",
       "<table border=\"1\" class=\"dataframe\">\n",
       "  <thead>\n",
       "    <tr style=\"text-align: right;\">\n",
       "      <th></th>\n",
       "      <th>id</th>\n",
       "      <th>f0</th>\n",
       "      <th>f1</th>\n",
       "      <th>f2</th>\n",
       "      <th>product</th>\n",
       "    </tr>\n",
       "  </thead>\n",
       "  <tbody>\n",
       "    <tr>\n",
       "      <th>0</th>\n",
       "      <td>kBEdx</td>\n",
       "      <td>-15.001348</td>\n",
       "      <td>-8.276000</td>\n",
       "      <td>-0.005876</td>\n",
       "      <td>3.179103</td>\n",
       "    </tr>\n",
       "    <tr>\n",
       "      <th>1</th>\n",
       "      <td>62mP7</td>\n",
       "      <td>14.272088</td>\n",
       "      <td>-3.475083</td>\n",
       "      <td>0.999183</td>\n",
       "      <td>26.953261</td>\n",
       "    </tr>\n",
       "    <tr>\n",
       "      <th>2</th>\n",
       "      <td>vyE1P</td>\n",
       "      <td>6.263187</td>\n",
       "      <td>-5.948386</td>\n",
       "      <td>5.001160</td>\n",
       "      <td>134.766305</td>\n",
       "    </tr>\n",
       "    <tr>\n",
       "      <th>3</th>\n",
       "      <td>KcrkZ</td>\n",
       "      <td>-13.081196</td>\n",
       "      <td>-11.506057</td>\n",
       "      <td>4.999415</td>\n",
       "      <td>137.945408</td>\n",
       "    </tr>\n",
       "    <tr>\n",
       "      <th>4</th>\n",
       "      <td>AHL4O</td>\n",
       "      <td>12.702195</td>\n",
       "      <td>-8.147433</td>\n",
       "      <td>5.004363</td>\n",
       "      <td>134.766305</td>\n",
       "    </tr>\n",
       "  </tbody>\n",
       "</table>\n",
       "</div>"
      ],
      "text/plain": [
       "      id         f0         f1        f2     product\n",
       "0  kBEdx -15.001348  -8.276000 -0.005876    3.179103\n",
       "1  62mP7  14.272088  -3.475083  0.999183   26.953261\n",
       "2  vyE1P   6.263187  -5.948386  5.001160  134.766305\n",
       "3  KcrkZ -13.081196 -11.506057  4.999415  137.945408\n",
       "4  AHL4O  12.702195  -8.147433  5.004363  134.766305"
      ]
     },
     "execution_count": 7,
     "metadata": {},
     "output_type": "execute_result"
    }
   ],
   "source": [
    "# выводим первые 5 строк\n",
    "data_1.head()"
   ]
  },
  {
   "cell_type": "code",
   "execution_count": 8,
   "metadata": {
    "scrolled": true
   },
   "outputs": [
    {
     "name": "stdout",
     "output_type": "stream",
     "text": [
      "<class 'pandas.core.frame.DataFrame'>\n",
      "RangeIndex: 100000 entries, 0 to 99999\n",
      "Data columns (total 5 columns):\n",
      " #   Column   Non-Null Count   Dtype  \n",
      "---  ------   --------------   -----  \n",
      " 0   id       100000 non-null  object \n",
      " 1   f0       100000 non-null  float64\n",
      " 2   f1       100000 non-null  float64\n",
      " 3   f2       100000 non-null  float64\n",
      " 4   product  100000 non-null  float64\n",
      "dtypes: float64(4), object(1)\n",
      "memory usage: 3.8+ MB\n"
     ]
    }
   ],
   "source": [
    "# смотрим краткую информацию\n",
    "data_1.info()"
   ]
  },
  {
   "cell_type": "code",
   "execution_count": 9,
   "metadata": {},
   "outputs": [
    {
     "data": {
      "text/html": [
       "<div>\n",
       "<style scoped>\n",
       "    .dataframe tbody tr th:only-of-type {\n",
       "        vertical-align: middle;\n",
       "    }\n",
       "\n",
       "    .dataframe tbody tr th {\n",
       "        vertical-align: top;\n",
       "    }\n",
       "\n",
       "    .dataframe thead th {\n",
       "        text-align: right;\n",
       "    }\n",
       "</style>\n",
       "<table border=\"1\" class=\"dataframe\">\n",
       "  <thead>\n",
       "    <tr style=\"text-align: right;\">\n",
       "      <th></th>\n",
       "      <th>f0</th>\n",
       "      <th>f1</th>\n",
       "      <th>f2</th>\n",
       "      <th>product</th>\n",
       "    </tr>\n",
       "  </thead>\n",
       "  <tbody>\n",
       "    <tr>\n",
       "      <th>count</th>\n",
       "      <td>100000.000000</td>\n",
       "      <td>100000.000000</td>\n",
       "      <td>100000.000000</td>\n",
       "      <td>100000.000000</td>\n",
       "    </tr>\n",
       "    <tr>\n",
       "      <th>mean</th>\n",
       "      <td>1.141296</td>\n",
       "      <td>-4.796579</td>\n",
       "      <td>2.494541</td>\n",
       "      <td>68.825000</td>\n",
       "    </tr>\n",
       "    <tr>\n",
       "      <th>std</th>\n",
       "      <td>8.965932</td>\n",
       "      <td>5.119872</td>\n",
       "      <td>1.703572</td>\n",
       "      <td>45.944423</td>\n",
       "    </tr>\n",
       "    <tr>\n",
       "      <th>min</th>\n",
       "      <td>-31.609576</td>\n",
       "      <td>-26.358598</td>\n",
       "      <td>-0.018144</td>\n",
       "      <td>0.000000</td>\n",
       "    </tr>\n",
       "    <tr>\n",
       "      <th>25%</th>\n",
       "      <td>-6.298551</td>\n",
       "      <td>-8.267985</td>\n",
       "      <td>1.000021</td>\n",
       "      <td>26.953261</td>\n",
       "    </tr>\n",
       "    <tr>\n",
       "      <th>50%</th>\n",
       "      <td>1.153055</td>\n",
       "      <td>-4.813172</td>\n",
       "      <td>2.011479</td>\n",
       "      <td>57.085625</td>\n",
       "    </tr>\n",
       "    <tr>\n",
       "      <th>75%</th>\n",
       "      <td>8.621015</td>\n",
       "      <td>-1.332816</td>\n",
       "      <td>3.999904</td>\n",
       "      <td>107.813044</td>\n",
       "    </tr>\n",
       "    <tr>\n",
       "      <th>max</th>\n",
       "      <td>29.421755</td>\n",
       "      <td>18.734063</td>\n",
       "      <td>5.019721</td>\n",
       "      <td>137.945408</td>\n",
       "    </tr>\n",
       "  </tbody>\n",
       "</table>\n",
       "</div>"
      ],
      "text/plain": [
       "                  f0             f1             f2        product\n",
       "count  100000.000000  100000.000000  100000.000000  100000.000000\n",
       "mean        1.141296      -4.796579       2.494541      68.825000\n",
       "std         8.965932       5.119872       1.703572      45.944423\n",
       "min       -31.609576     -26.358598      -0.018144       0.000000\n",
       "25%        -6.298551      -8.267985       1.000021      26.953261\n",
       "50%         1.153055      -4.813172       2.011479      57.085625\n",
       "75%         8.621015      -1.332816       3.999904     107.813044\n",
       "max        29.421755      18.734063       5.019721     137.945408"
      ]
     },
     "execution_count": 9,
     "metadata": {},
     "output_type": "execute_result"
    }
   ],
   "source": [
    "# смотрим краткую информацию\n",
    "data_1.describe()"
   ]
  },
  {
   "cell_type": "code",
   "execution_count": 10,
   "metadata": {},
   "outputs": [
    {
     "data": {
      "text/html": [
       "<div>\n",
       "<style scoped>\n",
       "    .dataframe tbody tr th:only-of-type {\n",
       "        vertical-align: middle;\n",
       "    }\n",
       "\n",
       "    .dataframe tbody tr th {\n",
       "        vertical-align: top;\n",
       "    }\n",
       "\n",
       "    .dataframe thead th {\n",
       "        text-align: right;\n",
       "    }\n",
       "</style>\n",
       "<table border=\"1\" class=\"dataframe\">\n",
       "  <thead>\n",
       "    <tr style=\"text-align: right;\">\n",
       "      <th></th>\n",
       "      <th>f0</th>\n",
       "      <th>f1</th>\n",
       "      <th>f2</th>\n",
       "      <th>product</th>\n",
       "    </tr>\n",
       "  </thead>\n",
       "  <tbody>\n",
       "    <tr>\n",
       "      <th>f0</th>\n",
       "      <td>1.000000</td>\n",
       "      <td>0.182287</td>\n",
       "      <td>-0.001777</td>\n",
       "      <td>-0.030491</td>\n",
       "    </tr>\n",
       "    <tr>\n",
       "      <th>f1</th>\n",
       "      <td>0.182287</td>\n",
       "      <td>1.000000</td>\n",
       "      <td>-0.002595</td>\n",
       "      <td>-0.010155</td>\n",
       "    </tr>\n",
       "    <tr>\n",
       "      <th>f2</th>\n",
       "      <td>-0.001777</td>\n",
       "      <td>-0.002595</td>\n",
       "      <td>1.000000</td>\n",
       "      <td>0.999397</td>\n",
       "    </tr>\n",
       "    <tr>\n",
       "      <th>product</th>\n",
       "      <td>-0.030491</td>\n",
       "      <td>-0.010155</td>\n",
       "      <td>0.999397</td>\n",
       "      <td>1.000000</td>\n",
       "    </tr>\n",
       "  </tbody>\n",
       "</table>\n",
       "</div>"
      ],
      "text/plain": [
       "               f0        f1        f2   product\n",
       "f0       1.000000  0.182287 -0.001777 -0.030491\n",
       "f1       0.182287  1.000000 -0.002595 -0.010155\n",
       "f2      -0.001777 -0.002595  1.000000  0.999397\n",
       "product -0.030491 -0.010155  0.999397  1.000000"
      ]
     },
     "execution_count": 10,
     "metadata": {},
     "output_type": "execute_result"
    }
   ],
   "source": [
    "# смотрим корреляцию признаков\n",
    "data_1.corr()"
   ]
  },
  {
   "cell_type": "markdown",
   "metadata": {},
   "source": [
    "**3 регион**"
   ]
  },
  {
   "cell_type": "code",
   "execution_count": 11,
   "metadata": {},
   "outputs": [
    {
     "data": {
      "text/html": [
       "<div>\n",
       "<style scoped>\n",
       "    .dataframe tbody tr th:only-of-type {\n",
       "        vertical-align: middle;\n",
       "    }\n",
       "\n",
       "    .dataframe tbody tr th {\n",
       "        vertical-align: top;\n",
       "    }\n",
       "\n",
       "    .dataframe thead th {\n",
       "        text-align: right;\n",
       "    }\n",
       "</style>\n",
       "<table border=\"1\" class=\"dataframe\">\n",
       "  <thead>\n",
       "    <tr style=\"text-align: right;\">\n",
       "      <th></th>\n",
       "      <th>id</th>\n",
       "      <th>f0</th>\n",
       "      <th>f1</th>\n",
       "      <th>f2</th>\n",
       "      <th>product</th>\n",
       "    </tr>\n",
       "  </thead>\n",
       "  <tbody>\n",
       "    <tr>\n",
       "      <th>0</th>\n",
       "      <td>fwXo0</td>\n",
       "      <td>-1.146987</td>\n",
       "      <td>0.963328</td>\n",
       "      <td>-0.828965</td>\n",
       "      <td>27.758673</td>\n",
       "    </tr>\n",
       "    <tr>\n",
       "      <th>1</th>\n",
       "      <td>WJtFt</td>\n",
       "      <td>0.262778</td>\n",
       "      <td>0.269839</td>\n",
       "      <td>-2.530187</td>\n",
       "      <td>56.069697</td>\n",
       "    </tr>\n",
       "    <tr>\n",
       "      <th>2</th>\n",
       "      <td>ovLUW</td>\n",
       "      <td>0.194587</td>\n",
       "      <td>0.289035</td>\n",
       "      <td>-5.586433</td>\n",
       "      <td>62.871910</td>\n",
       "    </tr>\n",
       "    <tr>\n",
       "      <th>3</th>\n",
       "      <td>q6cA6</td>\n",
       "      <td>2.236060</td>\n",
       "      <td>-0.553760</td>\n",
       "      <td>0.930038</td>\n",
       "      <td>114.572842</td>\n",
       "    </tr>\n",
       "    <tr>\n",
       "      <th>4</th>\n",
       "      <td>WPMUX</td>\n",
       "      <td>-0.515993</td>\n",
       "      <td>1.716266</td>\n",
       "      <td>5.899011</td>\n",
       "      <td>149.600746</td>\n",
       "    </tr>\n",
       "  </tbody>\n",
       "</table>\n",
       "</div>"
      ],
      "text/plain": [
       "      id        f0        f1        f2     product\n",
       "0  fwXo0 -1.146987  0.963328 -0.828965   27.758673\n",
       "1  WJtFt  0.262778  0.269839 -2.530187   56.069697\n",
       "2  ovLUW  0.194587  0.289035 -5.586433   62.871910\n",
       "3  q6cA6  2.236060 -0.553760  0.930038  114.572842\n",
       "4  WPMUX -0.515993  1.716266  5.899011  149.600746"
      ]
     },
     "execution_count": 11,
     "metadata": {},
     "output_type": "execute_result"
    }
   ],
   "source": [
    "# выводим первые 5 строк\n",
    "data_2.head()"
   ]
  },
  {
   "cell_type": "code",
   "execution_count": 12,
   "metadata": {
    "scrolled": false
   },
   "outputs": [
    {
     "name": "stdout",
     "output_type": "stream",
     "text": [
      "<class 'pandas.core.frame.DataFrame'>\n",
      "RangeIndex: 100000 entries, 0 to 99999\n",
      "Data columns (total 5 columns):\n",
      " #   Column   Non-Null Count   Dtype  \n",
      "---  ------   --------------   -----  \n",
      " 0   id       100000 non-null  object \n",
      " 1   f0       100000 non-null  float64\n",
      " 2   f1       100000 non-null  float64\n",
      " 3   f2       100000 non-null  float64\n",
      " 4   product  100000 non-null  float64\n",
      "dtypes: float64(4), object(1)\n",
      "memory usage: 3.8+ MB\n"
     ]
    }
   ],
   "source": [
    "# смотрим краткую информацию\n",
    "data_2.info()"
   ]
  },
  {
   "cell_type": "code",
   "execution_count": 13,
   "metadata": {},
   "outputs": [
    {
     "data": {
      "text/html": [
       "<div>\n",
       "<style scoped>\n",
       "    .dataframe tbody tr th:only-of-type {\n",
       "        vertical-align: middle;\n",
       "    }\n",
       "\n",
       "    .dataframe tbody tr th {\n",
       "        vertical-align: top;\n",
       "    }\n",
       "\n",
       "    .dataframe thead th {\n",
       "        text-align: right;\n",
       "    }\n",
       "</style>\n",
       "<table border=\"1\" class=\"dataframe\">\n",
       "  <thead>\n",
       "    <tr style=\"text-align: right;\">\n",
       "      <th></th>\n",
       "      <th>f0</th>\n",
       "      <th>f1</th>\n",
       "      <th>f2</th>\n",
       "      <th>product</th>\n",
       "    </tr>\n",
       "  </thead>\n",
       "  <tbody>\n",
       "    <tr>\n",
       "      <th>count</th>\n",
       "      <td>100000.000000</td>\n",
       "      <td>100000.000000</td>\n",
       "      <td>100000.000000</td>\n",
       "      <td>100000.000000</td>\n",
       "    </tr>\n",
       "    <tr>\n",
       "      <th>mean</th>\n",
       "      <td>0.002023</td>\n",
       "      <td>-0.002081</td>\n",
       "      <td>2.495128</td>\n",
       "      <td>95.000000</td>\n",
       "    </tr>\n",
       "    <tr>\n",
       "      <th>std</th>\n",
       "      <td>1.732045</td>\n",
       "      <td>1.730417</td>\n",
       "      <td>3.473445</td>\n",
       "      <td>44.749921</td>\n",
       "    </tr>\n",
       "    <tr>\n",
       "      <th>min</th>\n",
       "      <td>-8.760004</td>\n",
       "      <td>-7.084020</td>\n",
       "      <td>-11.970335</td>\n",
       "      <td>0.000000</td>\n",
       "    </tr>\n",
       "    <tr>\n",
       "      <th>25%</th>\n",
       "      <td>-1.162288</td>\n",
       "      <td>-1.174820</td>\n",
       "      <td>0.130359</td>\n",
       "      <td>59.450441</td>\n",
       "    </tr>\n",
       "    <tr>\n",
       "      <th>50%</th>\n",
       "      <td>0.009424</td>\n",
       "      <td>-0.009482</td>\n",
       "      <td>2.484236</td>\n",
       "      <td>94.925613</td>\n",
       "    </tr>\n",
       "    <tr>\n",
       "      <th>75%</th>\n",
       "      <td>1.158535</td>\n",
       "      <td>1.163678</td>\n",
       "      <td>4.858794</td>\n",
       "      <td>130.595027</td>\n",
       "    </tr>\n",
       "    <tr>\n",
       "      <th>max</th>\n",
       "      <td>7.238262</td>\n",
       "      <td>7.844801</td>\n",
       "      <td>16.739402</td>\n",
       "      <td>190.029838</td>\n",
       "    </tr>\n",
       "  </tbody>\n",
       "</table>\n",
       "</div>"
      ],
      "text/plain": [
       "                  f0             f1             f2        product\n",
       "count  100000.000000  100000.000000  100000.000000  100000.000000\n",
       "mean        0.002023      -0.002081       2.495128      95.000000\n",
       "std         1.732045       1.730417       3.473445      44.749921\n",
       "min        -8.760004      -7.084020     -11.970335       0.000000\n",
       "25%        -1.162288      -1.174820       0.130359      59.450441\n",
       "50%         0.009424      -0.009482       2.484236      94.925613\n",
       "75%         1.158535       1.163678       4.858794     130.595027\n",
       "max         7.238262       7.844801      16.739402     190.029838"
      ]
     },
     "execution_count": 13,
     "metadata": {},
     "output_type": "execute_result"
    }
   ],
   "source": [
    "# смотрим краткую информацию\n",
    "data_2.describe()"
   ]
  },
  {
   "cell_type": "code",
   "execution_count": 14,
   "metadata": {},
   "outputs": [
    {
     "data": {
      "text/html": [
       "<div>\n",
       "<style scoped>\n",
       "    .dataframe tbody tr th:only-of-type {\n",
       "        vertical-align: middle;\n",
       "    }\n",
       "\n",
       "    .dataframe tbody tr th {\n",
       "        vertical-align: top;\n",
       "    }\n",
       "\n",
       "    .dataframe thead th {\n",
       "        text-align: right;\n",
       "    }\n",
       "</style>\n",
       "<table border=\"1\" class=\"dataframe\">\n",
       "  <thead>\n",
       "    <tr style=\"text-align: right;\">\n",
       "      <th></th>\n",
       "      <th>f0</th>\n",
       "      <th>f1</th>\n",
       "      <th>f2</th>\n",
       "      <th>product</th>\n",
       "    </tr>\n",
       "  </thead>\n",
       "  <tbody>\n",
       "    <tr>\n",
       "      <th>f0</th>\n",
       "      <td>1.000000</td>\n",
       "      <td>0.000528</td>\n",
       "      <td>-0.000448</td>\n",
       "      <td>-0.001987</td>\n",
       "    </tr>\n",
       "    <tr>\n",
       "      <th>f1</th>\n",
       "      <td>0.000528</td>\n",
       "      <td>1.000000</td>\n",
       "      <td>0.000779</td>\n",
       "      <td>-0.001012</td>\n",
       "    </tr>\n",
       "    <tr>\n",
       "      <th>f2</th>\n",
       "      <td>-0.000448</td>\n",
       "      <td>0.000779</td>\n",
       "      <td>1.000000</td>\n",
       "      <td>0.445871</td>\n",
       "    </tr>\n",
       "    <tr>\n",
       "      <th>product</th>\n",
       "      <td>-0.001987</td>\n",
       "      <td>-0.001012</td>\n",
       "      <td>0.445871</td>\n",
       "      <td>1.000000</td>\n",
       "    </tr>\n",
       "  </tbody>\n",
       "</table>\n",
       "</div>"
      ],
      "text/plain": [
       "               f0        f1        f2   product\n",
       "f0       1.000000  0.000528 -0.000448 -0.001987\n",
       "f1       0.000528  1.000000  0.000779 -0.001012\n",
       "f2      -0.000448  0.000779  1.000000  0.445871\n",
       "product -0.001987 -0.001012  0.445871  1.000000"
      ]
     },
     "execution_count": 14,
     "metadata": {},
     "output_type": "execute_result"
    }
   ],
   "source": [
    "# смотрим корреляцию признаков\n",
    "data_2.corr()"
   ]
  },
  {
   "cell_type": "code",
   "execution_count": 15,
   "metadata": {},
   "outputs": [
    {
     "name": "stdout",
     "output_type": "stream",
     "text": [
      " Количество дубликатов в 1 наборе данных: 0\n",
      " Количество дубликатов в 2 наборе данных: 0\n",
      " Количество дубликатов в 3 наборе данных: 0\n"
     ]
    }
   ],
   "source": [
    "print(f' Количество дубликатов в 1 наборе данных: {data_0.duplicated().sum()}')\n",
    "print(f' Количество дубликатов в 2 наборе данных: {data_1.duplicated().sum()}')\n",
    "print(f' Количество дубликатов в 3 наборе данных: {data_2.duplicated().sum()}')"
   ]
  },
  {
   "cell_type": "code",
   "execution_count": 16,
   "metadata": {},
   "outputs": [
    {
     "data": {
      "image/png": "[encoded data removed]",
      "text/plain": [
       "<Figure size 720x360 with 1 Axes>"
      ]
     },
     "metadata": {
      "needs_background": "light"
     },
     "output_type": "display_data"
    }
   ],
   "source": [
    "# график распределения запасов сырья в регионах\n",
    "plt.title('Графики распределения запасов сырья в регионах')\n",
    "data_0['product'].plot(kind='hist',figsize=(10,5), grid=True, legend=True, \n",
    "                       alpha=0.7, histtype='step', color='green', linewidth=5, label='1 регион')\n",
    "\n",
    "data_1['product'].plot(kind='hist',figsize=(10,5), grid=True, legend=True, \n",
    "                       alpha=0.7, histtype='step', color='olive', linewidth=5, label='2 регион')\n",
    "\n",
    "data_2['product'].plot(kind='hist',figsize=(10,5), grid=True, legend=True, \n",
    "                       alpha=0.7, histtype='step', color='orange', linewidth=5, label='3 регион')\n",
    "\n",
    "plt.xlabel('Распределение данных по запасам сырья в регионах')\n",
    "plt.ylabel('Запасы сырья, тыс. баррелей')\n",
    "plt.show()"
   ]
  },
  {
   "cell_type": "markdown",
   "metadata": {},
   "source": [
    "***Вывод:*** были изучены данные, содержащие информацию о трех регионах, в частности, объем запасов в скважине (тыс. баррелей). Пропусков или дублирования в данных не было. График распределения запасов по регионам показывает значительную разницу в регионе 2, в отличие от регионов 1 и 3, где графики практически идентичны."
   ]
  },
  {
   "cell_type": "markdown",
   "metadata": {},
   "source": [
    "## Обучение и проверка модели"
   ]
  },
  {
   "cell_type": "code",
   "execution_count": 17,
   "metadata": {},
   "outputs": [],
   "source": [
    "# так как наборы данных различны только по значениям, создадим функцию\n",
    "def standart_and_train_test(data):\n",
    "    # выделяем целевой признак\n",
    "    features = data.drop(['id', 'product'], axis=1)\n",
    "    target = data['product']\n",
    "    \n",
    "    # разделяем данные на обучающую и валидационную выборки\n",
    "    features_train, features_valid, target_train, target_valid = train_test_split(features, \n",
    "                                                                                  target,\n",
    "                                                                                  test_size=0.25, \n",
    "                                                                                  random_state=25)\n",
    "    # масштабируем данные\n",
    "    scaler = StandardScaler()\n",
    "    features_train = scaler.fit_transform(features_train)\n",
    "    features_valid = scaler.transform(features_valid)\n",
    "    \n",
    "    # обучаем модели линейной регрессии\n",
    "    model = LinearRegression()\n",
    "    model.fit(features_train, target_train)\n",
    "    # делаем предсказания\n",
    "    predictions = model.predict(features_valid)\n",
    "    predictions = pd.Series(predictions)\n",
    "    # вычисляем ошибку RMSE на валидационных данных\n",
    "    rmse = mean_squared_error(predictions, target_valid, squared=False)\n",
    "    # вычисляем средний запас предсказанного сырья\n",
    "    av_product = predictions.mean()\n",
    "    \n",
    "    print(f'RMSE: {rmse}')\n",
    "    print(f'Average production: {av_product}')\n",
    "    \n",
    "    return (predictions, target_valid.reset_index(drop=True), rmse)"
   ]
  },
  {
   "cell_type": "code",
   "execution_count": 18,
   "metadata": {},
   "outputs": [
    {
     "name": "stdout",
     "output_type": "stream",
     "text": [
      "1 регион:\n",
      "RMSE: 37.65053057971891\n",
      "Average production: 92.65108756805346\n",
      "\n",
      "2 регион:\n",
      "RMSE: 0.8892646983510676\n",
      "Average production: 69.2740152692285\n",
      "\n",
      "3 регион:\n",
      "RMSE: 40.08029177014584\n",
      "Average production: 94.90290511535086\n"
     ]
    }
   ],
   "source": [
    "# воспользуемся функцией для каждого набора данных \n",
    "# и сохраним предсказания, правильные ответы и RMSE на валидационной выборке \n",
    "print(f'1 регион:')\n",
    "predictions_0, target_valid_0, rmse_0 = standart_and_train_test(data_0)\n",
    "\n",
    "print(f'\\n2 регион:')\n",
    "predictions_1, target_valid_1, rmse_1 = standart_and_train_test(data_1)\n",
    "\n",
    "print(f'\\n3 регион:')\n",
    "predictions_2, target_valid_2, rmse_2 = standart_and_train_test(data_2)"
   ]
  },
  {
   "cell_type": "markdown",
   "metadata": {},
   "source": [
    "***Вывод:*** на этом этапе данные были разделены на обучающую и валидационную выборки, была обучена модель линейной регрессии и рассчитаны ошибки (RMSE). "
   ]
  },
  {
   "cell_type": "markdown",
   "metadata": {},
   "source": [
    "## Подготовка к расчёту прибыли"
   ]
  },
  {
   "cell_type": "markdown",
   "metadata": {},
   "source": [
    "- При разведке региона исследуем 500 точек, из которых с помощью машинного обучения выберем 200 лучших для разработки.\n",
    "- Бюджет на разработку скважин в регионе — 10 млрд рублей.\n",
    "- При нынешних ценах один баррель сырья приносит 450 рублей дохода. Доход с каждой единицы продукта составляет 450 тыс. рублей, поскольку объём указан в тысячах баррелей.\n",
    "- После оценки рисков оставим лишь те регионы, в которых вероятность убытков меньше 2.5%. Среди них выберем регион с наибольшей средней прибылью."
   ]
  },
  {
   "cell_type": "markdown",
   "metadata": {},
   "source": [
    "***3.1. Все ключевые значения для расчётов сохраним в отдельных переменных.***"
   ]
  },
  {
   "cell_type": "code",
   "execution_count": 19,
   "metadata": {},
   "outputs": [],
   "source": [
    "# бюджет на разработку скважин в регионе 10 млрд рублей\n",
    "budget = 10000000000\n",
    "# доход с каждой единицы продукта составляет 450 тыс. рублей, поскольку объём указан в тысячах баррелей.\n",
    "income = 450000\n",
    "# вероятность убытков должна быть меньше 2.5\n",
    "target_probability_losses = 2.5/100"
   ]
  },
  {
   "cell_type": "code",
   "execution_count": 20,
   "metadata": {},
   "outputs": [
    {
     "name": "stdout",
     "output_type": "stream",
     "text": [
      "Cредний запас сырья в 1 регионе: 92.50 тыс. баррелей\n",
      "Cредний запас сырья в 2 регионе: 68.83 тыс. баррелей\n",
      "Cредний запас сырья в 3 регионе: 95.00 тыс. баррелей\n"
     ]
    }
   ],
   "source": [
    "print('Cредний запас сырья в 1 регионе: %.2f тыс. баррелей'%data_0[\"product\"].mean())\n",
    "print('Cредний запас сырья в 2 регионе: %.2f тыс. баррелей'%data_1[\"product\"].mean())\n",
    "print('Cредний запас сырья в 3 регионе: %.2f тыс. баррелей'%data_2[\"product\"].mean())"
   ]
  },
  {
   "cell_type": "markdown",
   "metadata": {},
   "source": [
    "***3.2. Рассчитаем достаточный объём сырья для безубыточной разработки новой скважины. Сравните полученный объём сырья со средним запасом в каждом регионе.***"
   ]
  },
  {
   "cell_type": "code",
   "execution_count": 21,
   "metadata": {},
   "outputs": [
    {
     "name": "stdout",
     "output_type": "stream",
     "text": [
      "Точка безубыточности: 22222 тыс. баррелей\n"
     ]
    }
   ],
   "source": [
    "# найдем точку безубыточности\n",
    "breakeven_point = budget/income\n",
    "print('Точка безубыточности: {:.0f} тыс. баррелей'.format(breakeven_point))"
   ]
  },
  {
   "cell_type": "code",
   "execution_count": 22,
   "metadata": {},
   "outputs": [
    {
     "name": "stdout",
     "output_type": "stream",
     "text": [
      "Средний объем нефти в скважине для безубыточного функционирования должен составлять не менее 112.0 тыс. баррелей\n"
     ]
    }
   ],
   "source": [
    "print(f'Средний объем нефти в скважине для безубыточного функционирования должен составлять не менее \\\n",
    "{np.ceil(breakeven_point/200)} тыс. баррелей')"
   ]
  },
  {
   "cell_type": "markdown",
   "metadata": {},
   "source": [
    "***Вывод:*** очевидно, что объем запасов сырья в каждом регионе недостаточен для окупаемости, поэтому следует выбирать скважины с максимальными запасами."
   ]
  },
  {
   "cell_type": "markdown",
   "metadata": {},
   "source": [
    "## Расчёт прибыли "
   ]
  },
  {
   "cell_type": "markdown",
   "metadata": {},
   "source": [
    "***4.1. Выберем скважины с максимальными значениями предсказаний. \n",
    "<br>4.2. Просуммируем целевое значение объёма сырья, соответствующее этим предсказаниям.\n",
    "<br>4.3. Рассчитаем прибыль для полученного объёма сырья.***"
   ]
  },
  {
   "cell_type": "code",
   "execution_count": 23,
   "metadata": {},
   "outputs": [],
   "source": [
    "# функция расчета прибыли по предсказаниям\n",
    "def profit(predict, count):\n",
    "    selected_predictions = predict.sort_values(ascending=False)[:count]\n",
    "    \n",
    "    sum_selected_predictions = selected_predictions.sum()\n",
    "    profit = sum_selected_predictions*income-budget\n",
    "    \n",
    "    print('Суммарный запас сырья в 200 лучших по объему скважин: {:.2f} тыс. баррелей'\n",
    "          .format(sum_selected_predictions))\n",
    "    \n",
    "    print('Прибыль для полученного объёма сырья составит {:.2f} тыс. рублей'\n",
    "          .format(profit/1000))\n",
    "    \n",
    "    return profit, sum_selected_predictions"
   ]
  },
  {
   "cell_type": "code",
   "execution_count": 24,
   "metadata": {},
   "outputs": [
    {
     "name": "stdout",
     "output_type": "stream",
     "text": [
      "Регион 1\n",
      "Суммарный запас сырья в 200 лучших по объему скважин: 30957.91 тыс. баррелей\n",
      "Прибыль для полученного объёма сырья составит 3931060.01 тыс. рублей\n",
      "\n",
      "Регион 2\n",
      "Суммарный запас сырья в 200 лучших по объему скважин: 27760.15 тыс. баррелей\n",
      "Прибыль для полученного объёма сырья составит 2492068.16 тыс. рублей\n",
      "\n",
      "Регион 3\n",
      "Суммарный запас сырья в 200 лучших по объему скважин: 29740.39 тыс. баррелей\n",
      "Прибыль для полученного объёма сырья составит 3383173.29 тыс. рублей\n"
     ]
    }
   ],
   "source": [
    "print(f'Регион 1')\n",
    "profit_0, raw_material_stock_0 = profit(predictions_0, 200)\n",
    "\n",
    "print(f'\\nРегион 2')\n",
    "profit_1, raw_material_stock_1 = profit(predictions_1, 200)\n",
    "\n",
    "print(f'\\nРегион 3')\n",
    "profit_2, raw_material_stock_2 = profit(predictions_2, 200)"
   ]
  },
  {
   "cell_type": "markdown",
   "metadata": {},
   "source": [
    "***Вывод:*** все регионы являются потенциально прибыльными, т.е. общий запас сырья выше точки безубыточности."
   ]
  },
  {
   "cell_type": "markdown",
   "metadata": {},
   "source": [
    "## Расчёт рисков "
   ]
  },
  {
   "cell_type": "markdown",
   "metadata": {},
   "source": [
    "***5.1. Применим технику Bootstrap с 1000 выборок, чтобы найти распределение прибыли.\n",
    "<br>5.2. Найдем среднюю прибыль, 95%-й доверительный интервал и риск убытков.***"
   ]
  },
  {
   "cell_type": "code",
   "execution_count": 25,
   "metadata": {},
   "outputs": [],
   "source": [
    "# функция расчета прибыли для бутстрепа\n",
    "def profit_for_bootstrap(target, predict, count):\n",
    "    predictions_sorted = predict.sort_values(ascending=False)\n",
    "    selected = target[predictions_sorted.index][:count]\n",
    "    \n",
    "    sum_selected = selected.sum()\n",
    "    profit = sum_selected*income-budget\n",
    "\n",
    "    return profit"
   ]
  },
  {
   "cell_type": "code",
   "execution_count": 26,
   "metadata": {},
   "outputs": [],
   "source": [
    "state = np.random.RandomState(25)\n",
    "\n",
    "# функция для применения Bootstrap\n",
    "def bootstrap(target, predictions):\n",
    "    values = []\n",
    "    count = 0\n",
    "    \n",
    "    for i in range(1000):\n",
    "        target_subsample = target.sample(n=500, replace=True, random_state=state)\n",
    "        pred_subsample = predictions[target_subsample.index] \n",
    "        values.append(profit_for_bootstrap(target_subsample, pred_subsample, 200));\n",
    "        \n",
    "    for i in values:\n",
    "        if i < 0:\n",
    "            count += 1\n",
    "    \n",
    "    values = pd.Series(values)/1000000\n",
    "    mean = values.mean()\n",
    "    interval = st.t.interval(0.95, len(values)-1, mean, values.sem())\n",
    "    risk = count/1000\n",
    "\n",
    "    return (mean, interval, risk)"
   ]
  },
  {
   "cell_type": "code",
   "execution_count": 27,
   "metadata": {},
   "outputs": [
    {
     "name": "stdout",
     "output_type": "stream",
     "text": [
      "1 регион\n",
      "\n",
      "Средняя прибыль: 405.0 млн. рублей\n",
      "95%-й доверительный интервал: (389.0286021037056, 420.962907858513) млн. рублей\n",
      "Риск убытков: 5.9%\n"
     ]
    }
   ],
   "source": [
    "print('1 регион\\n')\n",
    "mean_0, interval_0, risk_0 = bootstrap(target_valid_0, predictions_0)\n",
    "print('Средняя прибыль: {:.1f} млн. рублей'.format(mean_0))\n",
    "print(f'95%-й доверительный интервал: {interval_0} млн. рублей')    \n",
    "print('Риск убытков: {:.1%}'.format(risk_0))"
   ]
  },
  {
   "cell_type": "code",
   "execution_count": 28,
   "metadata": {},
   "outputs": [
    {
     "name": "stdout",
     "output_type": "stream",
     "text": [
      "2 регион\n",
      "\n",
      "Средняя прибыль: 553.0 млн. рублей\n",
      "95%-й доверительный интервал: (539.7234720552534, 566.2670065829692) млн. рублей\n",
      "Риск убытков: 0.1%\n"
     ]
    }
   ],
   "source": [
    "print('2 регион\\n')\n",
    "mean_1, interval_1, risk_1 = bootstrap(target_valid_1, predictions_1)\n",
    "print('Средняя прибыль: {:.1f} млн. рублей'.format(mean_1))\n",
    "print(f'95%-й доверительный интервал: {interval_1} млн. рублей')    \n",
    "print('Риск убытков: {:.1%}'.format(risk_1))"
   ]
  },
  {
   "cell_type": "code",
   "execution_count": 29,
   "metadata": {},
   "outputs": [
    {
     "name": "stdout",
     "output_type": "stream",
     "text": [
      "3 регион\n",
      "\n",
      "Средняя прибыль: 373.2 млн. рублей\n",
      "95%-й доверительный интервал: (355.90153649671095, 390.56066518440684) млн. рублей\n",
      "Риск убытков: 8.9%\n"
     ]
    }
   ],
   "source": [
    "print('3 регион\\n')\n",
    "mean_2, interval_2, risk_2 = bootstrap(target_valid_2, predictions_2)\n",
    "print('Средняя прибыль: {:.1f} млн. рублей'.format(mean_2))\n",
    "print(f'95%-й доверительный интервал: {interval_2} млн. рублей')    \n",
    "print('Риск убытков: {:.1%}'.format(risk_2))"
   ]
  },
  {
   "cell_type": "code",
   "execution_count": 30,
   "metadata": {},
   "outputs": [
    {
     "data": {
      "text/html": [
       "<div>\n",
       "<style scoped>\n",
       "    .dataframe tbody tr th:only-of-type {\n",
       "        vertical-align: middle;\n",
       "    }\n",
       "\n",
       "    .dataframe tbody tr th {\n",
       "        vertical-align: top;\n",
       "    }\n",
       "\n",
       "    .dataframe thead th {\n",
       "        text-align: right;\n",
       "    }\n",
       "</style>\n",
       "<table border=\"1\" class=\"dataframe\">\n",
       "  <thead>\n",
       "    <tr style=\"text-align: right;\">\n",
       "      <th></th>\n",
       "      <th>1 регион</th>\n",
       "      <th>2 регион</th>\n",
       "      <th>3 регион</th>\n",
       "    </tr>\n",
       "  </thead>\n",
       "  <tbody>\n",
       "    <tr>\n",
       "      <th>Средняя прибыль в регионе, млн.руб</th>\n",
       "      <td>404.995755</td>\n",
       "      <td>552.995239</td>\n",
       "      <td>373.231101</td>\n",
       "    </tr>\n",
       "    <tr>\n",
       "      <th>Суммарный запас сырья, тыс. баррелей</th>\n",
       "      <td>30957.911144</td>\n",
       "      <td>27760.151477</td>\n",
       "      <td>29740.385095</td>\n",
       "    </tr>\n",
       "    <tr>\n",
       "      <th>Риск убытка, %</th>\n",
       "      <td>5.900000</td>\n",
       "      <td>0.100000</td>\n",
       "      <td>8.900000</td>\n",
       "    </tr>\n",
       "  </tbody>\n",
       "</table>\n",
       "</div>"
      ],
      "text/plain": [
       "                                          1 регион      2 регион      3 регион\n",
       "Средняя прибыль в регионе, млн.руб      404.995755    552.995239    373.231101\n",
       "Суммарный запас сырья, тыс. баррелей  30957.911144  27760.151477  29740.385095\n",
       "Риск убытка, %                            5.900000      0.100000      8.900000"
      ]
     },
     "execution_count": 30,
     "metadata": {},
     "output_type": "execute_result"
    }
   ],
   "source": [
    "# таблица сравнения показателей по 3 регионам\n",
    "comparison_table = pd.DataFrame(\n",
    "    index=['Средняя прибыль в регионе, млн.руб', 'Суммарный запас сырья, тыс. баррелей', 'Риск убытка, %'], \n",
    "    columns=['1 регион','2 регион','3 регион'])\n",
    "\n",
    "comparison_table['1 регион'] = mean_0, raw_material_stock_0, risk_0*100\n",
    "comparison_table['2 регион'] = mean_1, raw_material_stock_1, risk_1*100\n",
    "comparison_table['3 регион'] = mean_2, raw_material_stock_2, risk_2*100\n",
    "comparison_table"
   ]
  },
  {
   "cell_type": "code",
   "execution_count": 31,
   "metadata": {},
   "outputs": [
    {
     "data": {
      "image/png": "[encoded data removed]",
      "text/plain": [
       "<Figure size 720x504 with 1 Axes>"
      ]
     },
     "metadata": {
      "needs_background": "light"
     },
     "output_type": "display_data"
    }
   ],
   "source": [
    "comparison_table.iloc[0, :].plot(kind='bar', grid=True, figsize=(10,7));\n",
    "plt.ylabel('Средняя прибыль');\n",
    "plt.title('Распределение средней прибыли по регионам');"
   ]
  },
  {
   "cell_type": "code",
   "execution_count": 32,
   "metadata": {},
   "outputs": [
    {
     "data": {
      "image/png": "[encoded data removed]",
      "text/plain": [
       "<Figure size 720x504 with 1 Axes>"
      ]
     },
     "metadata": {
      "needs_background": "light"
     },
     "output_type": "display_data"
    }
   ],
   "source": [
    "comparison_table.astype('float').iloc[2, :].plot(kind='bar', grid=True, figsize=(10,7));\n",
    "plt.title('Риск убытков в регионе');\n",
    "plt.ylabel('Процент риска убытка');"
   ]
  },
  {
   "cell_type": "code",
   "execution_count": 33,
   "metadata": {},
   "outputs": [
    {
     "data": {
      "image/png": "[encoded data removed]",
      "text/plain": [
       "<Figure size 720x504 with 1 Axes>"
      ]
     },
     "metadata": {},
     "output_type": "display_data"
    }
   ],
   "source": [
    "comparison_table.iloc[1, :].plot(kind='pie', \n",
    "                                 autopct= '%1.1f%%', \n",
    "                                 grid=True, \n",
    "                                 figsize=(10,7));\n",
    "plt.title('Суммарный запас сырья');\n",
    "plt.ylabel('');"
   ]
  },
  {
   "cell_type": "markdown",
   "metadata": {},
   "source": [
    "***Вывод:*** в результате анализа сделан вывод, что `2 регион` является наиболее подходящим для разработки скважин, поскольку, несмотря на наименьший запас сырья в регионе, средняя прибыль в регионе самая высокая, а риск потерь минимален."
   ]
  },
  {
   "cell_type": "markdown",
   "metadata": {},
   "source": [
    "## Общий вывод"
   ]
  },
  {
   "cell_type": "markdown",
   "metadata": {},
   "source": [
    "1. Были изучены данные, содержащие информацию по трем регионам. Пропусков или дублирования в данных не было. График распределения запасов по регионам показывает значительную разницу в регионе 2, в отличие от регионов 1 и 3, где графики практически идентичны.\n",
    "2. Данные были разделены на обучающую и валидационную выборки, обучена линейная регрессионная модель и рассчитаны ошибки (RMSE).\n",
    "3. После анализа запасов сырья стало ясно, что объем запасов сырья в каждом регионе недостаточен для окупаемости, поэтому необходимо было выбирать скважины с максимальными запасами.\n",
    "4. Затем был получен вывод, что все регионы являются потенциально прибыльными, т.е. общий запас сырья выше точки безубыточности\n",
    "\n",
    "В итоге `2 регион` выбран в качестве наиболее подходящего для разработки скважин, так как, несмотря на наименьший запас сырья в регионе, средняя прибыль от сырья в регионе самая высокая, а риск убытка минимален."
   ]
  }
 ],
 "metadata": {
  "ExecuteTimeLog": [
   {
    "duration": 365,
    "start_time": "2023-04-12T10:31:02.535Z"
   },
   {
    "duration": 1251,
    "start_time": "2023-04-12T10:31:50.810Z"
   },
   {
    "duration": 18,
    "start_time": "2023-04-12T10:32:04.799Z"
   },
   {
    "duration": 9,
    "start_time": "2023-04-12T10:32:11.447Z"
   },
   {
    "duration": 10,
    "start_time": "2023-04-12T10:32:15.022Z"
   },
   {
    "duration": 10,
    "start_time": "2023-04-12T10:33:15.714Z"
   },
   {
    "duration": 16,
    "start_time": "2023-04-12T10:33:17.817Z"
   },
   {
    "duration": 40,
    "start_time": "2023-04-12T10:33:27.270Z"
   },
   {
    "duration": 15,
    "start_time": "2023-04-12T10:33:44.269Z"
   },
   {
    "duration": 15,
    "start_time": "2023-04-12T10:35:16.534Z"
   },
   {
    "duration": 36,
    "start_time": "2023-04-12T10:35:18.058Z"
   },
   {
    "duration": 15,
    "start_time": "2023-04-12T10:35:19.207Z"
   },
   {
    "duration": 14,
    "start_time": "2023-04-12T10:35:50.002Z"
   },
   {
    "duration": 36,
    "start_time": "2023-04-12T10:35:51.474Z"
   },
   {
    "duration": 17,
    "start_time": "2023-04-12T10:35:52.576Z"
   },
   {
    "duration": 67,
    "start_time": "2023-04-12T10:42:16.177Z"
   },
   {
    "duration": 8,
    "start_time": "2023-04-12T10:42:31.855Z"
   },
   {
    "duration": 7,
    "start_time": "2023-04-12T10:42:37.909Z"
   },
   {
    "duration": 416,
    "start_time": "2023-04-12T10:42:51.668Z"
   },
   {
    "duration": 283,
    "start_time": "2023-04-12T10:42:54.913Z"
   },
   {
    "duration": 335,
    "start_time": "2023-04-12T10:44:04.920Z"
   },
   {
    "duration": 271,
    "start_time": "2023-04-12T10:44:13.119Z"
   },
   {
    "duration": 327,
    "start_time": "2023-04-12T10:44:32.244Z"
   },
   {
    "duration": 241,
    "start_time": "2023-04-12T10:44:59.526Z"
   },
   {
    "duration": 266,
    "start_time": "2023-04-12T10:46:21.472Z"
   },
   {
    "duration": 261,
    "start_time": "2023-04-12T10:46:28.562Z"
   },
   {
    "duration": 73,
    "start_time": "2023-04-12T10:46:42.011Z"
   },
   {
    "duration": 191,
    "start_time": "2023-04-12T10:46:45.012Z"
   },
   {
    "duration": 168,
    "start_time": "2023-04-12T10:48:06.735Z"
   },
   {
    "duration": 267,
    "start_time": "2023-04-12T10:48:11.833Z"
   },
   {
    "duration": 284,
    "start_time": "2023-04-12T10:49:30.746Z"
   },
   {
    "duration": 310,
    "start_time": "2023-04-12T10:49:45.259Z"
   },
   {
    "duration": 253,
    "start_time": "2023-04-12T10:49:49.676Z"
   },
   {
    "duration": 260,
    "start_time": "2023-04-12T10:49:55.725Z"
   },
   {
    "duration": 366,
    "start_time": "2023-04-12T10:50:03.418Z"
   },
   {
    "duration": 260,
    "start_time": "2023-04-12T10:50:12.270Z"
   },
   {
    "duration": 259,
    "start_time": "2023-04-12T10:50:19.031Z"
   },
   {
    "duration": 242,
    "start_time": "2023-04-12T10:50:23.010Z"
   },
   {
    "duration": 260,
    "start_time": "2023-04-12T10:51:31.019Z"
   },
   {
    "duration": 264,
    "start_time": "2023-04-12T10:51:40.468Z"
   },
   {
    "duration": 303,
    "start_time": "2023-04-12T10:51:48.230Z"
   },
   {
    "duration": 253,
    "start_time": "2023-04-12T10:52:50.935Z"
   },
   {
    "duration": 260,
    "start_time": "2023-04-12T10:53:08.534Z"
   },
   {
    "duration": 251,
    "start_time": "2023-04-12T10:53:11.602Z"
   },
   {
    "duration": 252,
    "start_time": "2023-04-12T10:53:19.498Z"
   },
   {
    "duration": 862,
    "start_time": "2023-04-13T10:27:48.807Z"
   },
   {
    "duration": 1185,
    "start_time": "2023-04-13T10:27:49.671Z"
   },
   {
    "duration": 17,
    "start_time": "2023-04-13T10:27:50.858Z"
   },
   {
    "duration": 18,
    "start_time": "2023-04-13T10:27:50.877Z"
   },
   {
    "duration": 42,
    "start_time": "2023-04-13T10:27:50.897Z"
   },
   {
    "duration": 19,
    "start_time": "2023-04-13T10:27:50.941Z"
   },
   {
    "duration": 10,
    "start_time": "2023-04-13T10:27:50.985Z"
   },
   {
    "duration": 28,
    "start_time": "2023-04-13T10:27:50.997Z"
   },
   {
    "duration": 43,
    "start_time": "2023-04-13T10:27:51.027Z"
   },
   {
    "duration": 26,
    "start_time": "2023-04-13T10:27:51.072Z"
   },
   {
    "duration": 16,
    "start_time": "2023-04-13T10:27:51.101Z"
   },
   {
    "duration": 31,
    "start_time": "2023-04-13T10:27:51.119Z"
   },
   {
    "duration": 48,
    "start_time": "2023-04-13T10:27:51.152Z"
   },
   {
    "duration": 18,
    "start_time": "2023-04-13T10:27:51.202Z"
   },
   {
    "duration": 319,
    "start_time": "2023-04-13T10:27:51.222Z"
   },
   {
    "duration": 46,
    "start_time": "2023-04-13T10:31:21.899Z"
   },
   {
    "duration": 192,
    "start_time": "2023-04-13T10:31:30.314Z"
   },
   {
    "duration": 124,
    "start_time": "2023-04-13T10:32:22.802Z"
   },
   {
    "duration": 337,
    "start_time": "2023-04-13T10:32:50.053Z"
   },
   {
    "duration": 4,
    "start_time": "2023-04-13T10:38:36.253Z"
   },
   {
    "duration": 693,
    "start_time": "2023-04-13T10:38:41.210Z"
   },
   {
    "duration": 4,
    "start_time": "2023-04-13T10:41:24.304Z"
   },
   {
    "duration": 3,
    "start_time": "2023-04-13T10:42:25.997Z"
   },
   {
    "duration": 110,
    "start_time": "2023-04-13T10:42:43.693Z"
   },
   {
    "duration": 3,
    "start_time": "2023-04-13T10:42:49.847Z"
   },
   {
    "duration": 24,
    "start_time": "2023-04-13T10:42:51.013Z"
   },
   {
    "duration": 3,
    "start_time": "2023-04-13T10:43:00.602Z"
   },
   {
    "duration": 4,
    "start_time": "2023-04-13T10:43:04.609Z"
   },
   {
    "duration": 26,
    "start_time": "2023-04-13T10:43:05.348Z"
   },
   {
    "duration": 66,
    "start_time": "2023-04-13T10:43:13.316Z"
   },
   {
    "duration": 22,
    "start_time": "2023-04-13T10:45:09.514Z"
   },
   {
    "duration": 73,
    "start_time": "2023-04-13T10:49:48.406Z"
   },
   {
    "duration": 26,
    "start_time": "2023-04-13T10:49:53.358Z"
   },
   {
    "duration": 5,
    "start_time": "2023-04-13T10:50:47.954Z"
   },
   {
    "duration": 5,
    "start_time": "2023-04-13T10:50:50.206Z"
   },
   {
    "duration": 148,
    "start_time": "2023-04-13T10:50:51.442Z"
   },
   {
    "duration": 9,
    "start_time": "2023-04-13T10:51:23.898Z"
   },
   {
    "duration": 3,
    "start_time": "2023-04-13T10:51:41.225Z"
   },
   {
    "duration": 4,
    "start_time": "2023-04-13T10:51:50.553Z"
   },
   {
    "duration": 31,
    "start_time": "2023-04-13T10:51:52.116Z"
   },
   {
    "duration": 35,
    "start_time": "2023-04-13T10:52:15.392Z"
   },
   {
    "duration": 598,
    "start_time": "2023-04-13T10:52:31.206Z"
   },
   {
    "duration": 364,
    "start_time": "2023-04-13T10:52:49.637Z"
   },
   {
    "duration": 413,
    "start_time": "2023-04-13T10:52:59.094Z"
   },
   {
    "duration": 6,
    "start_time": "2023-04-13T10:58:16.627Z"
   },
   {
    "duration": 533,
    "start_time": "2023-04-13T10:58:17.655Z"
   },
   {
    "duration": 5,
    "start_time": "2023-04-13T10:58:56.398Z"
   },
   {
    "duration": 370,
    "start_time": "2023-04-13T10:58:58.022Z"
   },
   {
    "duration": 5,
    "start_time": "2023-04-13T10:59:16.816Z"
   },
   {
    "duration": 454,
    "start_time": "2023-04-13T10:59:17.649Z"
   },
   {
    "duration": 7,
    "start_time": "2023-04-13T11:00:24.857Z"
   },
   {
    "duration": 336,
    "start_time": "2023-04-13T11:00:25.850Z"
   },
   {
    "duration": 374,
    "start_time": "2023-04-13T11:00:32.218Z"
   },
   {
    "duration": 5,
    "start_time": "2023-04-13T11:00:39.102Z"
   },
   {
    "duration": 396,
    "start_time": "2023-04-13T11:00:41.702Z"
   },
   {
    "duration": 389,
    "start_time": "2023-04-13T11:02:02.102Z"
   },
   {
    "duration": 439,
    "start_time": "2023-04-13T11:05:38.347Z"
   },
   {
    "duration": 4,
    "start_time": "2023-04-13T11:17:31.246Z"
   },
   {
    "duration": 2,
    "start_time": "2023-04-13T11:17:42.649Z"
   },
   {
    "duration": 3,
    "start_time": "2023-04-13T11:18:55.300Z"
   },
   {
    "duration": 84,
    "start_time": "2023-04-13T11:22:26.541Z"
   },
   {
    "duration": 6,
    "start_time": "2023-04-13T11:23:01.853Z"
   },
   {
    "duration": 6,
    "start_time": "2023-04-13T11:23:30.626Z"
   },
   {
    "duration": 2,
    "start_time": "2023-04-13T11:25:51.837Z"
   },
   {
    "duration": 5,
    "start_time": "2023-04-13T11:25:56.697Z"
   },
   {
    "duration": 3,
    "start_time": "2023-04-13T11:27:16.421Z"
   },
   {
    "duration": 6,
    "start_time": "2023-04-13T11:30:08.810Z"
   },
   {
    "duration": 10,
    "start_time": "2023-04-13T11:30:48.449Z"
   },
   {
    "duration": 6,
    "start_time": "2023-04-13T11:30:52.109Z"
   },
   {
    "duration": 7,
    "start_time": "2023-04-13T11:31:06.442Z"
   },
   {
    "duration": 6,
    "start_time": "2023-04-13T11:31:09.032Z"
   },
   {
    "duration": 7,
    "start_time": "2023-04-13T11:31:17.072Z"
   },
   {
    "duration": 6,
    "start_time": "2023-04-13T11:31:18.711Z"
   },
   {
    "duration": 6,
    "start_time": "2023-04-13T11:31:21.465Z"
   },
   {
    "duration": 3,
    "start_time": "2023-04-13T11:32:36.130Z"
   },
   {
    "duration": 3,
    "start_time": "2023-04-13T11:33:10.676Z"
   },
   {
    "duration": 3,
    "start_time": "2023-04-13T11:33:25.525Z"
   },
   {
    "duration": 3,
    "start_time": "2023-04-13T11:33:32.508Z"
   },
   {
    "duration": 3,
    "start_time": "2023-04-13T11:34:06.610Z"
   },
   {
    "duration": 6,
    "start_time": "2023-04-13T11:34:07.460Z"
   },
   {
    "duration": 4,
    "start_time": "2023-04-13T11:34:08.021Z"
   },
   {
    "duration": 8,
    "start_time": "2023-04-13T11:34:47.641Z"
   },
   {
    "duration": 3,
    "start_time": "2023-04-13T11:35:01.447Z"
   },
   {
    "duration": 9,
    "start_time": "2023-04-13T11:35:04.612Z"
   },
   {
    "duration": 4,
    "start_time": "2023-04-13T11:35:18.464Z"
   },
   {
    "duration": 4,
    "start_time": "2023-04-13T11:35:36.214Z"
   },
   {
    "duration": 4,
    "start_time": "2023-04-13T11:36:03.074Z"
   },
   {
    "duration": 101,
    "start_time": "2023-04-13T11:38:35.263Z"
   },
   {
    "duration": 76,
    "start_time": "2023-04-13T11:38:52.615Z"
   },
   {
    "duration": 4,
    "start_time": "2023-04-13T11:38:59.860Z"
   },
   {
    "duration": 90,
    "start_time": "2023-04-13T11:39:07.877Z"
   },
   {
    "duration": 4,
    "start_time": "2023-04-13T11:39:16.778Z"
   },
   {
    "duration": 6,
    "start_time": "2023-04-13T15:41:44.679Z"
   },
   {
    "duration": 3,
    "start_time": "2023-04-13T15:41:46.420Z"
   },
   {
    "duration": 3,
    "start_time": "2023-04-13T15:41:47.225Z"
   },
   {
    "duration": 6,
    "start_time": "2023-04-13T15:44:12.297Z"
   },
   {
    "duration": 8,
    "start_time": "2023-04-13T15:44:46.561Z"
   },
   {
    "duration": 8,
    "start_time": "2023-04-13T15:44:55.502Z"
   },
   {
    "duration": 10,
    "start_time": "2023-04-13T15:45:13.398Z"
   },
   {
    "duration": 9,
    "start_time": "2023-04-13T15:45:48.226Z"
   },
   {
    "duration": 6,
    "start_time": "2023-04-13T15:46:07.746Z"
   },
   {
    "duration": 8,
    "start_time": "2023-04-13T15:46:11.656Z"
   },
   {
    "duration": 9,
    "start_time": "2023-04-13T15:47:04.908Z"
   },
   {
    "duration": 3,
    "start_time": "2023-04-13T15:47:55.764Z"
   },
   {
    "duration": 4,
    "start_time": "2023-04-13T15:48:22.526Z"
   },
   {
    "duration": 4,
    "start_time": "2023-04-13T15:49:41.973Z"
   },
   {
    "duration": 4,
    "start_time": "2023-04-13T15:50:17.127Z"
   },
   {
    "duration": 4,
    "start_time": "2023-04-13T15:51:22.224Z"
   },
   {
    "duration": 3,
    "start_time": "2023-04-13T15:51:25.009Z"
   },
   {
    "duration": 4,
    "start_time": "2023-04-13T15:51:53.840Z"
   },
   {
    "duration": 4,
    "start_time": "2023-04-13T15:52:11.050Z"
   },
   {
    "duration": 3,
    "start_time": "2023-04-13T15:52:14.729Z"
   },
   {
    "duration": 4,
    "start_time": "2023-04-13T15:52:20.350Z"
   },
   {
    "duration": 4,
    "start_time": "2023-04-13T15:56:10.445Z"
   },
   {
    "duration": 8,
    "start_time": "2023-04-13T15:56:21.910Z"
   },
   {
    "duration": 77,
    "start_time": "2023-04-13T15:56:27.447Z"
   },
   {
    "duration": 6,
    "start_time": "2023-04-13T15:56:31.696Z"
   },
   {
    "duration": 3,
    "start_time": "2023-04-13T15:56:41.864Z"
   },
   {
    "duration": 3,
    "start_time": "2023-04-13T15:57:07.280Z"
   },
   {
    "duration": 6,
    "start_time": "2023-04-13T15:57:08.121Z"
   },
   {
    "duration": 3,
    "start_time": "2023-04-13T15:57:18.396Z"
   },
   {
    "duration": 7,
    "start_time": "2023-04-13T15:57:20.280Z"
   },
   {
    "duration": 13,
    "start_time": "2023-04-13T15:57:54.735Z"
   },
   {
    "duration": 14,
    "start_time": "2023-04-13T15:58:34.897Z"
   },
   {
    "duration": 14,
    "start_time": "2023-04-13T15:58:47.191Z"
   },
   {
    "duration": 13,
    "start_time": "2023-04-13T15:58:51.169Z"
   },
   {
    "duration": 4,
    "start_time": "2023-04-13T16:00:07.223Z"
   },
   {
    "duration": 16,
    "start_time": "2023-04-13T16:00:07.953Z"
   },
   {
    "duration": 76,
    "start_time": "2023-04-13T16:00:45.308Z"
   },
   {
    "duration": 3,
    "start_time": "2023-04-13T16:01:01.030Z"
   },
   {
    "duration": 14,
    "start_time": "2023-04-13T16:01:01.782Z"
   },
   {
    "duration": 3,
    "start_time": "2023-04-13T16:01:11.097Z"
   },
   {
    "duration": 14,
    "start_time": "2023-04-13T16:01:13.355Z"
   },
   {
    "duration": 4,
    "start_time": "2023-04-13T16:01:31.084Z"
   },
   {
    "duration": 14,
    "start_time": "2023-04-13T16:01:31.794Z"
   },
   {
    "duration": 77,
    "start_time": "2023-04-13T16:02:04.362Z"
   },
   {
    "duration": 4,
    "start_time": "2023-04-13T16:02:08.714Z"
   },
   {
    "duration": 15,
    "start_time": "2023-04-13T16:02:09.509Z"
   },
   {
    "duration": 15,
    "start_time": "2023-04-13T16:02:18.317Z"
   },
   {
    "duration": 16,
    "start_time": "2023-04-13T16:02:24.617Z"
   },
   {
    "duration": 14,
    "start_time": "2023-04-13T16:02:29.001Z"
   },
   {
    "duration": 15,
    "start_time": "2023-04-13T16:02:31.558Z"
   },
   {
    "duration": 18,
    "start_time": "2023-04-13T16:02:34.013Z"
   },
   {
    "duration": 4,
    "start_time": "2023-04-13T16:17:09.107Z"
   },
   {
    "duration": 13,
    "start_time": "2023-04-13T16:17:09.765Z"
   },
   {
    "duration": 904,
    "start_time": "2023-04-13T16:27:42.001Z"
   },
   {
    "duration": 895,
    "start_time": "2023-04-13T16:28:24.763Z"
   },
   {
    "duration": 893,
    "start_time": "2023-04-13T16:28:48.756Z"
   },
   {
    "duration": 3,
    "start_time": "2023-04-13T16:29:17.603Z"
   },
   {
    "duration": 3,
    "start_time": "2023-04-13T16:29:20.007Z"
   },
   {
    "duration": 956,
    "start_time": "2023-04-13T16:29:23.409Z"
   },
   {
    "duration": 3,
    "start_time": "2023-04-13T16:30:01.836Z"
   },
   {
    "duration": 368,
    "start_time": "2023-04-13T16:30:05.721Z"
   },
   {
    "duration": 79,
    "start_time": "2023-04-13T16:31:13.985Z"
   },
   {
    "duration": 4,
    "start_time": "2023-04-13T16:31:42.718Z"
   },
   {
    "duration": 404,
    "start_time": "2023-04-13T16:32:45.658Z"
   },
   {
    "duration": 431,
    "start_time": "2023-04-13T16:33:08.021Z"
   },
   {
    "duration": 5,
    "start_time": "2023-04-13T16:33:12.187Z"
   },
   {
    "duration": 3,
    "start_time": "2023-04-13T16:33:15.028Z"
   },
   {
    "duration": 5,
    "start_time": "2023-04-13T16:38:02.825Z"
   },
   {
    "duration": 387,
    "start_time": "2023-04-13T16:38:08.593Z"
   },
   {
    "duration": 5,
    "start_time": "2023-04-13T16:38:14.789Z"
   },
   {
    "duration": 373,
    "start_time": "2023-04-13T16:38:15.568Z"
   },
   {
    "duration": 4,
    "start_time": "2023-04-13T16:38:20.624Z"
   },
   {
    "duration": 5,
    "start_time": "2023-04-13T16:38:58.613Z"
   },
   {
    "duration": 426,
    "start_time": "2023-04-13T16:38:59.396Z"
   },
   {
    "duration": 4,
    "start_time": "2023-04-13T16:39:00.336Z"
   },
   {
    "duration": 5,
    "start_time": "2023-04-13T16:39:01.211Z"
   },
   {
    "duration": 3,
    "start_time": "2023-04-13T16:39:02.689Z"
   },
   {
    "duration": 424,
    "start_time": "2023-04-13T16:40:30.000Z"
   },
   {
    "duration": 449,
    "start_time": "2023-04-13T16:40:49.513Z"
   },
   {
    "duration": 417,
    "start_time": "2023-04-13T16:45:24.410Z"
   },
   {
    "duration": 6,
    "start_time": "2023-04-13T16:45:35.468Z"
   },
   {
    "duration": 1351,
    "start_time": "2023-04-13T16:45:41.141Z"
   },
   {
    "duration": 545,
    "start_time": "2023-04-13T16:45:42.494Z"
   },
   {
    "duration": 14,
    "start_time": "2023-04-13T16:45:43.041Z"
   },
   {
    "duration": 17,
    "start_time": "2023-04-13T16:45:43.056Z"
   },
   {
    "duration": 41,
    "start_time": "2023-04-13T16:45:43.084Z"
   },
   {
    "duration": 16,
    "start_time": "2023-04-13T16:45:43.127Z"
   },
   {
    "duration": 9,
    "start_time": "2023-04-13T16:45:43.145Z"
   },
   {
    "duration": 44,
    "start_time": "2023-04-13T16:45:43.155Z"
   },
   {
    "duration": 41,
    "start_time": "2023-04-13T16:45:43.201Z"
   },
   {
    "duration": 20,
    "start_time": "2023-04-13T16:45:43.243Z"
   },
   {
    "duration": 28,
    "start_time": "2023-04-13T16:45:43.265Z"
   },
   {
    "duration": 21,
    "start_time": "2023-04-13T16:45:43.295Z"
   },
   {
    "duration": 35,
    "start_time": "2023-04-13T16:45:43.318Z"
   },
   {
    "duration": 31,
    "start_time": "2023-04-13T16:45:43.356Z"
   },
   {
    "duration": 133,
    "start_time": "2023-04-13T16:45:43.389Z"
   },
   {
    "duration": 281,
    "start_time": "2023-04-13T16:45:43.524Z"
   },
   {
    "duration": 5,
    "start_time": "2023-04-13T16:45:43.807Z"
   },
   {
    "duration": 393,
    "start_time": "2023-04-13T16:45:43.814Z"
   },
   {
    "duration": 596,
    "start_time": "2023-04-13T16:45:44.210Z"
   },
   {
    "duration": 78,
    "start_time": "2023-04-13T16:45:44.808Z"
   },
   {
    "duration": 100,
    "start_time": "2023-04-13T16:45:44.889Z"
   },
   {
    "duration": 10,
    "start_time": "2023-04-13T16:45:44.991Z"
   },
   {
    "duration": 42,
    "start_time": "2023-04-13T16:45:45.002Z"
   },
   {
    "duration": 39,
    "start_time": "2023-04-13T16:45:45.046Z"
   },
   {
    "duration": 59,
    "start_time": "2023-04-13T16:45:45.088Z"
   },
   {
    "duration": 21,
    "start_time": "2023-04-13T16:45:45.149Z"
   },
   {
    "duration": 6,
    "start_time": "2023-04-13T16:45:45.171Z"
   },
   {
    "duration": 440,
    "start_time": "2023-04-13T16:45:45.178Z"
   },
   {
    "duration": 436,
    "start_time": "2023-04-13T16:45:45.620Z"
   },
   {
    "duration": 430,
    "start_time": "2023-04-13T16:45:46.058Z"
   },
   {
    "duration": 4,
    "start_time": "2023-04-13T16:46:26.078Z"
   },
   {
    "duration": 18,
    "start_time": "2023-04-13T16:46:26.987Z"
   },
   {
    "duration": 4,
    "start_time": "2023-04-13T16:50:29.392Z"
   },
   {
    "duration": 5,
    "start_time": "2023-04-13T16:50:30.874Z"
   },
   {
    "duration": 1372,
    "start_time": "2023-04-13T16:51:39.108Z"
   },
   {
    "duration": 114,
    "start_time": "2023-04-13T16:51:59.908Z"
   },
   {
    "duration": 1512,
    "start_time": "2023-04-13T16:52:06.698Z"
   },
   {
    "duration": 1454,
    "start_time": "2023-04-13T16:52:47.209Z"
   },
   {
    "duration": 1434,
    "start_time": "2023-04-13T16:53:59.512Z"
   },
   {
    "duration": 388,
    "start_time": "2023-04-13T16:54:00.948Z"
   },
   {
    "duration": 14,
    "start_time": "2023-04-13T16:54:01.338Z"
   },
   {
    "duration": 32,
    "start_time": "2023-04-13T16:54:01.354Z"
   },
   {
    "duration": 61,
    "start_time": "2023-04-13T16:54:01.388Z"
   },
   {
    "duration": 17,
    "start_time": "2023-04-13T16:54:01.451Z"
   },
   {
    "duration": 15,
    "start_time": "2023-04-13T16:54:01.470Z"
   },
   {
    "duration": 48,
    "start_time": "2023-04-13T16:54:01.487Z"
   },
   {
    "duration": 73,
    "start_time": "2023-04-13T16:54:01.537Z"
   },
   {
    "duration": 18,
    "start_time": "2023-04-13T16:54:01.612Z"
   },
   {
    "duration": 18,
    "start_time": "2023-04-13T16:54:01.632Z"
   },
   {
    "duration": 47,
    "start_time": "2023-04-13T16:54:01.652Z"
   },
   {
    "duration": 61,
    "start_time": "2023-04-13T16:54:01.702Z"
   },
   {
    "duration": 30,
    "start_time": "2023-04-13T16:54:01.767Z"
   },
   {
    "duration": 167,
    "start_time": "2023-04-13T16:54:01.800Z"
   },
   {
    "duration": 276,
    "start_time": "2023-04-13T16:54:01.969Z"
   },
   {
    "duration": 5,
    "start_time": "2023-04-13T16:54:02.246Z"
   },
   {
    "duration": 453,
    "start_time": "2023-04-13T16:54:02.252Z"
   },
   {
    "duration": 590,
    "start_time": "2023-04-13T16:54:02.708Z"
   },
   {
    "duration": 90,
    "start_time": "2023-04-13T16:54:03.300Z"
   },
   {
    "duration": 99,
    "start_time": "2023-04-13T16:54:03.395Z"
   },
   {
    "duration": 4,
    "start_time": "2023-04-13T16:54:03.496Z"
   },
   {
    "duration": 6,
    "start_time": "2023-04-13T16:54:03.501Z"
   },
   {
    "duration": 8,
    "start_time": "2023-04-13T16:54:03.509Z"
   },
   {
    "duration": 23,
    "start_time": "2023-04-13T16:54:03.518Z"
   },
   {
    "duration": 3,
    "start_time": "2023-04-13T16:54:03.543Z"
   },
   {
    "duration": 5,
    "start_time": "2023-04-13T16:54:03.549Z"
   },
   {
    "duration": 1453,
    "start_time": "2023-04-13T16:54:03.556Z"
   },
   {
    "duration": 1339,
    "start_time": "2023-04-13T16:54:05.011Z"
   },
   {
    "duration": 1386,
    "start_time": "2023-04-13T16:54:06.352Z"
   },
   {
    "duration": 1397,
    "start_time": "2023-04-13T16:55:15.399Z"
   },
   {
    "duration": 366,
    "start_time": "2023-04-13T16:55:16.798Z"
   },
   {
    "duration": 13,
    "start_time": "2023-04-13T16:55:17.165Z"
   },
   {
    "duration": 19,
    "start_time": "2023-04-13T16:55:17.180Z"
   },
   {
    "duration": 37,
    "start_time": "2023-04-13T16:55:17.201Z"
   },
   {
    "duration": 15,
    "start_time": "2023-04-13T16:55:17.240Z"
   },
   {
    "duration": 32,
    "start_time": "2023-04-13T16:55:17.257Z"
   },
   {
    "duration": 25,
    "start_time": "2023-04-13T16:55:17.290Z"
   },
   {
    "duration": 36,
    "start_time": "2023-04-13T16:55:17.317Z"
   },
   {
    "duration": 16,
    "start_time": "2023-04-13T16:55:17.354Z"
   },
   {
    "duration": 10,
    "start_time": "2023-04-13T16:55:17.384Z"
   },
   {
    "duration": 34,
    "start_time": "2023-04-13T16:55:17.396Z"
   },
   {
    "duration": 37,
    "start_time": "2023-04-13T16:55:17.432Z"
   },
   {
    "duration": 19,
    "start_time": "2023-04-13T16:55:17.473Z"
   },
   {
    "duration": 134,
    "start_time": "2023-04-13T16:55:17.494Z"
   },
   {
    "duration": 283,
    "start_time": "2023-04-13T16:55:17.630Z"
   },
   {
    "duration": 6,
    "start_time": "2023-04-13T16:55:17.915Z"
   },
   {
    "duration": 386,
    "start_time": "2023-04-13T16:55:17.922Z"
   },
   {
    "duration": 596,
    "start_time": "2023-04-13T16:55:18.310Z"
   },
   {
    "duration": 94,
    "start_time": "2023-04-13T16:55:18.991Z"
   },
   {
    "duration": 10,
    "start_time": "2023-04-13T16:55:19.087Z"
   },
   {
    "duration": 4,
    "start_time": "2023-04-13T16:55:19.099Z"
   },
   {
    "duration": 17,
    "start_time": "2023-04-13T16:55:19.105Z"
   },
   {
    "duration": 9,
    "start_time": "2023-04-13T16:55:19.124Z"
   },
   {
    "duration": 19,
    "start_time": "2023-04-13T16:55:19.135Z"
   },
   {
    "duration": 3,
    "start_time": "2023-04-13T16:55:19.156Z"
   },
   {
    "duration": 24,
    "start_time": "2023-04-13T16:55:19.161Z"
   },
   {
    "duration": 125,
    "start_time": "2023-04-13T16:55:19.187Z"
   },
   {
    "duration": 1,
    "start_time": "2023-04-13T16:55:19.313Z"
   },
   {
    "duration": 0,
    "start_time": "2023-04-13T16:55:19.314Z"
   },
   {
    "duration": 1435,
    "start_time": "2023-04-13T16:55:49.395Z"
   },
   {
    "duration": 386,
    "start_time": "2023-04-13T16:55:50.832Z"
   },
   {
    "duration": 14,
    "start_time": "2023-04-13T16:55:51.220Z"
   },
   {
    "duration": 19,
    "start_time": "2023-04-13T16:55:51.235Z"
   },
   {
    "duration": 53,
    "start_time": "2023-04-13T16:55:51.256Z"
   },
   {
    "duration": 15,
    "start_time": "2023-04-13T16:55:51.311Z"
   },
   {
    "duration": 8,
    "start_time": "2023-04-13T16:55:51.328Z"
   },
   {
    "duration": 16,
    "start_time": "2023-04-13T16:55:51.338Z"
   },
   {
    "duration": 61,
    "start_time": "2023-04-13T16:55:51.356Z"
   },
   {
    "duration": 16,
    "start_time": "2023-04-13T16:55:51.421Z"
   },
   {
    "duration": 9,
    "start_time": "2023-04-13T16:55:51.438Z"
   },
   {
    "duration": 42,
    "start_time": "2023-04-13T16:55:51.449Z"
   },
   {
    "duration": 36,
    "start_time": "2023-04-13T16:55:51.493Z"
   },
   {
    "duration": 15,
    "start_time": "2023-04-13T16:55:51.531Z"
   },
   {
    "duration": 144,
    "start_time": "2023-04-13T16:55:51.548Z"
   },
   {
    "duration": 287,
    "start_time": "2023-04-13T16:55:51.694Z"
   },
   {
    "duration": 5,
    "start_time": "2023-04-13T16:55:51.984Z"
   },
   {
    "duration": 410,
    "start_time": "2023-04-13T16:55:51.991Z"
   },
   {
    "duration": 599,
    "start_time": "2023-04-13T16:55:52.404Z"
   },
   {
    "duration": 81,
    "start_time": "2023-04-13T16:55:53.005Z"
   },
   {
    "duration": 97,
    "start_time": "2023-04-13T16:55:53.089Z"
   },
   {
    "duration": 7,
    "start_time": "2023-04-13T16:55:53.188Z"
   },
   {
    "duration": 5,
    "start_time": "2023-04-13T16:55:53.197Z"
   },
   {
    "duration": 4,
    "start_time": "2023-04-13T16:55:53.204Z"
   },
   {
    "duration": 17,
    "start_time": "2023-04-13T16:55:53.209Z"
   },
   {
    "duration": 3,
    "start_time": "2023-04-13T16:55:53.228Z"
   },
   {
    "duration": 8,
    "start_time": "2023-04-13T16:55:53.233Z"
   },
   {
    "duration": 1433,
    "start_time": "2023-04-13T16:55:53.244Z"
   },
   {
    "duration": 1320,
    "start_time": "2023-04-13T16:55:54.679Z"
   },
   {
    "duration": 1417,
    "start_time": "2023-04-13T16:55:56.000Z"
   },
   {
    "duration": 8,
    "start_time": "2023-04-13T16:59:29.624Z"
   },
   {
    "duration": 3,
    "start_time": "2023-04-13T16:59:30.676Z"
   },
   {
    "duration": 5,
    "start_time": "2023-04-13T16:59:33.637Z"
   },
   {
    "duration": 1337,
    "start_time": "2023-04-13T16:59:34.835Z"
   },
   {
    "duration": 1440,
    "start_time": "2023-04-13T16:59:37.436Z"
   },
   {
    "duration": 1391,
    "start_time": "2023-04-13T16:59:38.878Z"
   },
   {
    "duration": 6,
    "start_time": "2023-04-13T17:03:46.498Z"
   },
   {
    "duration": 1339,
    "start_time": "2023-04-13T17:03:47.904Z"
   },
   {
    "duration": 1348,
    "start_time": "2023-04-13T17:03:56.041Z"
   },
   {
    "duration": 5,
    "start_time": "2023-04-13T17:04:06.320Z"
   },
   {
    "duration": 1320,
    "start_time": "2023-04-13T17:04:08.106Z"
   },
   {
    "duration": 6,
    "start_time": "2023-04-13T17:06:07.788Z"
   },
   {
    "duration": 1416,
    "start_time": "2023-04-13T17:06:08.871Z"
   },
   {
    "duration": 6,
    "start_time": "2023-04-13T17:06:16.755Z"
   },
   {
    "duration": 1331,
    "start_time": "2023-04-13T17:06:19.662Z"
   },
   {
    "duration": 1482,
    "start_time": "2023-04-13T17:06:23.205Z"
   },
   {
    "duration": 0,
    "start_time": "2023-04-13T17:06:24.689Z"
   },
   {
    "duration": 1300,
    "start_time": "2023-04-13T17:06:35.115Z"
   },
   {
    "duration": 1386,
    "start_time": "2023-04-13T17:06:43.256Z"
   },
   {
    "duration": 5,
    "start_time": "2023-04-13T17:07:35.540Z"
   },
   {
    "duration": 1362,
    "start_time": "2023-04-13T17:07:36.663Z"
   },
   {
    "duration": 5,
    "start_time": "2023-04-13T17:08:09.776Z"
   },
   {
    "duration": 1243,
    "start_time": "2023-04-13T17:08:10.851Z"
   },
   {
    "duration": 1286,
    "start_time": "2023-04-13T17:08:12.096Z"
   },
   {
    "duration": 1308,
    "start_time": "2023-04-13T17:08:15.055Z"
   },
   {
    "duration": 6,
    "start_time": "2023-04-13T17:08:37.577Z"
   },
   {
    "duration": 1326,
    "start_time": "2023-04-13T17:08:39.060Z"
   },
   {
    "duration": 1289,
    "start_time": "2023-04-13T17:08:40.388Z"
   },
   {
    "duration": 1293,
    "start_time": "2023-04-13T17:08:41.679Z"
   },
   {
    "duration": 6,
    "start_time": "2023-04-13T17:08:48.359Z"
   },
   {
    "duration": 1389,
    "start_time": "2023-04-13T17:08:49.285Z"
   },
   {
    "duration": 1398,
    "start_time": "2023-04-13T17:08:50.676Z"
   },
   {
    "duration": 1388,
    "start_time": "2023-04-13T17:08:52.076Z"
   },
   {
    "duration": 6,
    "start_time": "2023-04-13T17:08:55.098Z"
   },
   {
    "duration": 1421,
    "start_time": "2023-04-13T17:08:55.978Z"
   },
   {
    "duration": 1480,
    "start_time": "2023-04-13T17:08:57.401Z"
   },
   {
    "duration": 1422,
    "start_time": "2023-04-13T17:08:58.883Z"
   },
   {
    "duration": 6,
    "start_time": "2023-04-13T17:09:21.107Z"
   },
   {
    "duration": 1350,
    "start_time": "2023-04-13T17:09:21.793Z"
   },
   {
    "duration": 1395,
    "start_time": "2023-04-13T17:09:23.144Z"
   },
   {
    "duration": 1376,
    "start_time": "2023-04-13T17:09:24.541Z"
   },
   {
    "duration": 1359,
    "start_time": "2023-04-13T17:10:37.341Z"
   },
   {
    "duration": 1386,
    "start_time": "2023-04-13T17:10:52.098Z"
   },
   {
    "duration": 1490,
    "start_time": "2023-04-13T17:10:54.781Z"
   },
   {
    "duration": 1460,
    "start_time": "2023-04-13T17:10:56.273Z"
   },
   {
    "duration": 1342,
    "start_time": "2023-04-13T17:11:14.712Z"
   },
   {
    "duration": 1334,
    "start_time": "2023-04-13T17:11:16.307Z"
   },
   {
    "duration": 11,
    "start_time": "2023-04-13T17:14:14.545Z"
   },
   {
    "duration": 13,
    "start_time": "2023-04-13T17:14:29.221Z"
   },
   {
    "duration": 17,
    "start_time": "2023-04-13T17:16:10.662Z"
   },
   {
    "duration": 103,
    "start_time": "2023-04-13T17:16:32.945Z"
   },
   {
    "duration": 103,
    "start_time": "2023-04-13T17:16:36.437Z"
   },
   {
    "duration": 103,
    "start_time": "2023-04-13T17:16:48.645Z"
   },
   {
    "duration": 193,
    "start_time": "2023-04-13T17:17:31.486Z"
   },
   {
    "duration": 130,
    "start_time": "2023-04-13T17:17:46.257Z"
   },
   {
    "duration": 125,
    "start_time": "2023-04-13T17:17:49.496Z"
   },
   {
    "duration": 125,
    "start_time": "2023-04-13T17:18:22.145Z"
   },
   {
    "duration": 150,
    "start_time": "2023-04-13T17:18:48.407Z"
   },
   {
    "duration": 116,
    "start_time": "2023-04-13T17:18:58.161Z"
   },
   {
    "duration": 114,
    "start_time": "2023-04-13T17:19:08.259Z"
   },
   {
    "duration": 136,
    "start_time": "2023-04-13T17:19:24.712Z"
   },
   {
    "duration": 109,
    "start_time": "2023-04-13T17:19:31.757Z"
   },
   {
    "duration": 144,
    "start_time": "2023-04-13T17:19:54.269Z"
   },
   {
    "duration": 82,
    "start_time": "2023-04-13T17:20:25.438Z"
   },
   {
    "duration": 69,
    "start_time": "2023-04-13T17:20:43.045Z"
   },
   {
    "duration": 100,
    "start_time": "2023-04-13T17:20:46.145Z"
   },
   {
    "duration": 100,
    "start_time": "2023-04-13T17:21:01.274Z"
   },
   {
    "duration": 95,
    "start_time": "2023-04-13T17:21:09.257Z"
   },
   {
    "duration": 103,
    "start_time": "2023-04-13T17:21:13.865Z"
   },
   {
    "duration": 180,
    "start_time": "2023-04-13T17:21:19.809Z"
   },
   {
    "duration": 101,
    "start_time": "2023-04-13T17:21:32.861Z"
   },
   {
    "duration": 175,
    "start_time": "2023-04-13T17:21:37.345Z"
   },
   {
    "duration": 106,
    "start_time": "2023-04-13T17:21:39.557Z"
   },
   {
    "duration": 159,
    "start_time": "2023-04-13T17:21:51.461Z"
   },
   {
    "duration": 130,
    "start_time": "2023-04-13T17:21:55.075Z"
   },
   {
    "duration": 124,
    "start_time": "2023-04-13T17:21:59.078Z"
   },
   {
    "duration": 139,
    "start_time": "2023-04-13T17:22:19.801Z"
   },
   {
    "duration": 1660,
    "start_time": "2023-04-14T12:13:59.806Z"
   },
   {
    "duration": 960,
    "start_time": "2023-04-14T12:14:01.468Z"
   },
   {
    "duration": 15,
    "start_time": "2023-04-14T12:14:02.429Z"
   },
   {
    "duration": 37,
    "start_time": "2023-04-14T12:14:02.447Z"
   },
   {
    "duration": 43,
    "start_time": "2023-04-14T12:14:02.485Z"
   },
   {
    "duration": 17,
    "start_time": "2023-04-14T12:14:02.530Z"
   },
   {
    "duration": 11,
    "start_time": "2023-04-14T12:14:02.549Z"
   },
   {
    "duration": 34,
    "start_time": "2023-04-14T12:14:02.562Z"
   },
   {
    "duration": 46,
    "start_time": "2023-04-14T12:14:02.598Z"
   },
   {
    "duration": 20,
    "start_time": "2023-04-14T12:14:02.647Z"
   },
   {
    "duration": 9,
    "start_time": "2023-04-14T12:14:02.669Z"
   },
   {
    "duration": 41,
    "start_time": "2023-04-14T12:14:02.680Z"
   },
   {
    "duration": 54,
    "start_time": "2023-04-14T12:14:02.723Z"
   },
   {
    "duration": 17,
    "start_time": "2023-04-14T12:14:02.778Z"
   },
   {
    "duration": 166,
    "start_time": "2023-04-14T12:14:02.797Z"
   },
   {
    "duration": 297,
    "start_time": "2023-04-14T12:14:02.965Z"
   },
   {
    "duration": 6,
    "start_time": "2023-04-14T12:14:03.264Z"
   },
   {
    "duration": 454,
    "start_time": "2023-04-14T12:14:03.272Z"
   },
   {
    "duration": 602,
    "start_time": "2023-04-14T12:14:03.729Z"
   },
   {
    "duration": 4,
    "start_time": "2023-04-14T12:14:04.412Z"
   },
   {
    "duration": 102,
    "start_time": "2023-04-14T12:14:04.419Z"
   },
   {
    "duration": 4,
    "start_time": "2023-04-14T12:14:04.523Z"
   },
   {
    "duration": 7,
    "start_time": "2023-04-14T12:14:04.528Z"
   },
   {
    "duration": 21,
    "start_time": "2023-04-14T12:14:04.536Z"
   },
   {
    "duration": 21,
    "start_time": "2023-04-14T12:14:04.558Z"
   },
   {
    "duration": 3,
    "start_time": "2023-04-14T12:14:04.581Z"
   },
   {
    "duration": 12,
    "start_time": "2023-04-14T12:14:04.585Z"
   },
   {
    "duration": 1469,
    "start_time": "2023-04-14T12:14:04.600Z"
   },
   {
    "duration": 1386,
    "start_time": "2023-04-14T12:14:06.070Z"
   },
   {
    "duration": 1504,
    "start_time": "2023-04-14T12:14:07.458Z"
   },
   {
    "duration": 14,
    "start_time": "2023-04-14T12:14:08.964Z"
   },
   {
    "duration": 223,
    "start_time": "2023-04-14T12:14:08.980Z"
   },
   {
    "duration": 182,
    "start_time": "2023-04-14T12:14:09.205Z"
   },
   {
    "duration": 11,
    "start_time": "2023-04-14T12:16:19.078Z"
   },
   {
    "duration": 182,
    "start_time": "2023-04-14T12:16:25.811Z"
   },
   {
    "duration": 228,
    "start_time": "2023-04-14T12:16:27.766Z"
   },
   {
    "duration": 148,
    "start_time": "2023-04-14T12:16:41.093Z"
   },
   {
    "duration": 96,
    "start_time": "2023-04-14T12:17:08.020Z"
   },
   {
    "duration": 93,
    "start_time": "2023-04-14T12:17:12.628Z"
   },
   {
    "duration": 115,
    "start_time": "2023-04-14T12:18:06.573Z"
   },
   {
    "duration": 100,
    "start_time": "2023-04-14T12:19:07.296Z"
   },
   {
    "duration": 104,
    "start_time": "2023-04-14T12:19:28.039Z"
   },
   {
    "duration": 104,
    "start_time": "2023-04-14T12:20:07.939Z"
   },
   {
    "duration": 1473,
    "start_time": "2023-04-14T12:23:04.208Z"
   },
   {
    "duration": 1372,
    "start_time": "2023-04-14T12:23:33.017Z"
   },
   {
    "duration": 1399,
    "start_time": "2023-04-14T12:24:05.740Z"
   },
   {
    "duration": 6,
    "start_time": "2023-04-14T12:24:12.222Z"
   },
   {
    "duration": 1443,
    "start_time": "2023-04-14T12:24:13.260Z"
   },
   {
    "duration": 1430,
    "start_time": "2023-04-14T12:24:15.773Z"
   },
   {
    "duration": 1479,
    "start_time": "2023-04-14T12:24:44.682Z"
   },
   {
    "duration": 1449,
    "start_time": "2023-04-14T12:24:58.464Z"
   },
   {
    "duration": 5,
    "start_time": "2023-04-14T12:26:30.902Z"
   },
   {
    "duration": 15,
    "start_time": "2023-04-14T12:26:31.509Z"
   },
   {
    "duration": 14,
    "start_time": "2023-04-14T12:27:47.281Z"
   },
   {
    "duration": 14,
    "start_time": "2023-04-14T12:28:36.432Z"
   },
   {
    "duration": 4,
    "start_time": "2023-04-14T12:28:49.652Z"
   },
   {
    "duration": 4,
    "start_time": "2023-04-14T12:28:55.608Z"
   },
   {
    "duration": 107,
    "start_time": "2023-04-14T12:29:16.921Z"
   },
   {
    "duration": 16,
    "start_time": "2023-04-14T12:30:53.770Z"
   },
   {
    "duration": 15,
    "start_time": "2023-04-14T12:31:04.094Z"
   },
   {
    "duration": 11,
    "start_time": "2023-04-14T12:31:22.763Z"
   },
   {
    "duration": 13,
    "start_time": "2023-04-14T12:32:20.123Z"
   },
   {
    "duration": 150,
    "start_time": "2023-04-14T12:32:41.506Z"
   },
   {
    "duration": 26,
    "start_time": "2023-04-14T12:32:44.460Z"
   },
   {
    "duration": 13,
    "start_time": "2023-04-14T12:32:54.803Z"
   },
   {
    "duration": 13,
    "start_time": "2023-04-14T12:33:09.164Z"
   },
   {
    "duration": 13,
    "start_time": "2023-04-14T12:33:15.028Z"
   },
   {
    "duration": 18,
    "start_time": "2023-04-14T12:33:27.793Z"
   },
   {
    "duration": 155,
    "start_time": "2023-04-14T12:33:33.382Z"
   },
   {
    "duration": 100,
    "start_time": "2023-04-14T12:33:35.683Z"
   },
   {
    "duration": 101,
    "start_time": "2023-04-14T12:33:38.646Z"
   },
   {
    "duration": 1491,
    "start_time": "2023-04-14T12:34:08.692Z"
   },
   {
    "duration": 396,
    "start_time": "2023-04-14T12:34:10.185Z"
   },
   {
    "duration": 15,
    "start_time": "2023-04-14T12:34:10.583Z"
   },
   {
    "duration": 22,
    "start_time": "2023-04-14T12:34:10.600Z"
   },
   {
    "duration": 45,
    "start_time": "2023-04-14T12:34:10.625Z"
   },
   {
    "duration": 45,
    "start_time": "2023-04-14T12:34:10.672Z"
   },
   {
    "duration": 9,
    "start_time": "2023-04-14T12:34:10.719Z"
   },
   {
    "duration": 21,
    "start_time": "2023-04-14T12:34:10.729Z"
   },
   {
    "duration": 62,
    "start_time": "2023-04-14T12:34:10.751Z"
   },
   {
    "duration": 15,
    "start_time": "2023-04-14T12:34:10.815Z"
   },
   {
    "duration": 9,
    "start_time": "2023-04-14T12:34:10.832Z"
   },
   {
    "duration": 14,
    "start_time": "2023-04-14T12:34:10.843Z"
   },
   {
    "duration": 73,
    "start_time": "2023-04-14T12:34:10.859Z"
   },
   {
    "duration": 15,
    "start_time": "2023-04-14T12:34:10.934Z"
   },
   {
    "duration": 148,
    "start_time": "2023-04-14T12:34:10.951Z"
   },
   {
    "duration": 282,
    "start_time": "2023-04-14T12:34:11.101Z"
   },
   {
    "duration": 6,
    "start_time": "2023-04-14T12:34:11.385Z"
   },
   {
    "duration": 435,
    "start_time": "2023-04-14T12:34:11.392Z"
   },
   {
    "duration": 594,
    "start_time": "2023-04-14T12:34:11.830Z"
   },
   {
    "duration": 85,
    "start_time": "2023-04-14T12:34:12.427Z"
   },
   {
    "duration": 99,
    "start_time": "2023-04-14T12:34:12.515Z"
   },
   {
    "duration": 11,
    "start_time": "2023-04-14T12:34:12.616Z"
   },
   {
    "duration": 5,
    "start_time": "2023-04-14T12:34:12.630Z"
   },
   {
    "duration": 7,
    "start_time": "2023-04-14T12:34:12.637Z"
   },
   {
    "duration": 21,
    "start_time": "2023-04-14T12:34:12.646Z"
   },
   {
    "duration": 11,
    "start_time": "2023-04-14T12:34:12.669Z"
   },
   {
    "duration": 32,
    "start_time": "2023-04-14T12:34:12.682Z"
   },
   {
    "duration": 1507,
    "start_time": "2023-04-14T12:34:12.717Z"
   },
   {
    "duration": 1486,
    "start_time": "2023-04-14T12:34:14.226Z"
   },
   {
    "duration": 1399,
    "start_time": "2023-04-14T12:34:15.715Z"
   },
   {
    "duration": 11,
    "start_time": "2023-04-14T12:34:17.117Z"
   },
   {
    "duration": 164,
    "start_time": "2023-04-14T12:34:17.129Z"
   },
   {
    "duration": 136,
    "start_time": "2023-04-14T12:34:17.294Z"
   },
   {
    "duration": 106,
    "start_time": "2023-04-14T12:34:17.432Z"
   },
   {
    "duration": 420,
    "start_time": "2023-04-14T12:39:12.609Z"
   },
   {
    "duration": 1386,
    "start_time": "2023-04-14T12:48:09.376Z"
   },
   {
    "duration": 398,
    "start_time": "2023-04-14T12:48:10.764Z"
   },
   {
    "duration": 15,
    "start_time": "2023-04-14T12:48:11.164Z"
   },
   {
    "duration": 42,
    "start_time": "2023-04-14T12:48:11.182Z"
   },
   {
    "duration": 43,
    "start_time": "2023-04-14T12:48:11.225Z"
   },
   {
    "duration": 22,
    "start_time": "2023-04-14T12:48:11.270Z"
   },
   {
    "duration": 11,
    "start_time": "2023-04-14T12:48:11.311Z"
   },
   {
    "duration": 50,
    "start_time": "2023-04-14T12:48:11.323Z"
   },
   {
    "duration": 43,
    "start_time": "2023-04-14T12:48:11.375Z"
   },
   {
    "duration": 17,
    "start_time": "2023-04-14T12:48:11.421Z"
   },
   {
    "duration": 32,
    "start_time": "2023-04-14T12:48:11.440Z"
   },
   {
    "duration": 27,
    "start_time": "2023-04-14T12:48:11.474Z"
   },
   {
    "duration": 40,
    "start_time": "2023-04-14T12:48:11.503Z"
   },
   {
    "duration": 14,
    "start_time": "2023-04-14T12:48:11.545Z"
   },
   {
    "duration": 153,
    "start_time": "2023-04-14T12:48:11.561Z"
   },
   {
    "duration": 324,
    "start_time": "2023-04-14T12:48:11.716Z"
   },
   {
    "duration": 6,
    "start_time": "2023-04-14T12:48:12.043Z"
   },
   {
    "duration": 383,
    "start_time": "2023-04-14T12:48:12.051Z"
   },
   {
    "duration": 74,
    "start_time": "2023-04-14T12:48:12.437Z"
   },
   {
    "duration": 7,
    "start_time": "2023-04-14T12:48:12.612Z"
   },
   {
    "duration": 15,
    "start_time": "2023-04-14T12:48:12.621Z"
   },
   {
    "duration": 7,
    "start_time": "2023-04-14T12:48:12.638Z"
   },
   {
    "duration": 5,
    "start_time": "2023-04-14T12:48:12.647Z"
   },
   {
    "duration": 23,
    "start_time": "2023-04-14T12:48:12.653Z"
   },
   {
    "duration": 6,
    "start_time": "2023-04-14T12:48:12.678Z"
   },
   {
    "duration": 32,
    "start_time": "2023-04-14T12:48:12.686Z"
   },
   {
    "duration": 1556,
    "start_time": "2023-04-14T12:48:12.720Z"
   },
   {
    "duration": 1446,
    "start_time": "2023-04-14T12:48:14.279Z"
   },
   {
    "duration": 1430,
    "start_time": "2023-04-14T12:48:15.727Z"
   },
   {
    "duration": 12,
    "start_time": "2023-04-14T12:48:17.159Z"
   },
   {
    "duration": 154,
    "start_time": "2023-04-14T12:48:17.173Z"
   },
   {
    "duration": 148,
    "start_time": "2023-04-14T12:48:17.329Z"
   },
   {
    "duration": 107,
    "start_time": "2023-04-14T12:48:17.478Z"
   },
   {
    "duration": 1424,
    "start_time": "2023-04-14T12:56:34.630Z"
   },
   {
    "duration": 415,
    "start_time": "2023-04-14T12:56:36.057Z"
   },
   {
    "duration": 14,
    "start_time": "2023-04-14T12:56:36.474Z"
   },
   {
    "duration": 32,
    "start_time": "2023-04-14T12:56:36.490Z"
   },
   {
    "duration": 43,
    "start_time": "2023-04-14T12:56:36.525Z"
   },
   {
    "duration": 17,
    "start_time": "2023-04-14T12:56:36.570Z"
   },
   {
    "duration": 14,
    "start_time": "2023-04-14T12:56:36.611Z"
   },
   {
    "duration": 25,
    "start_time": "2023-04-14T12:56:36.627Z"
   },
   {
    "duration": 58,
    "start_time": "2023-04-14T12:56:36.655Z"
   },
   {
    "duration": 18,
    "start_time": "2023-04-14T12:56:36.715Z"
   },
   {
    "duration": 10,
    "start_time": "2023-04-14T12:56:36.735Z"
   },
   {
    "duration": 30,
    "start_time": "2023-04-14T12:56:36.747Z"
   },
   {
    "duration": 62,
    "start_time": "2023-04-14T12:56:36.779Z"
   },
   {
    "duration": 16,
    "start_time": "2023-04-14T12:56:36.844Z"
   },
   {
    "duration": 170,
    "start_time": "2023-04-14T12:56:36.862Z"
   },
   {
    "duration": 306,
    "start_time": "2023-04-14T12:56:37.033Z"
   },
   {
    "duration": 7,
    "start_time": "2023-04-14T12:56:37.342Z"
   },
   {
    "duration": 370,
    "start_time": "2023-04-14T12:56:37.351Z"
   },
   {
    "duration": 95,
    "start_time": "2023-04-14T12:56:37.725Z"
   },
   {
    "duration": 92,
    "start_time": "2023-04-14T12:56:37.822Z"
   },
   {
    "duration": 9,
    "start_time": "2023-04-14T12:56:37.915Z"
   },
   {
    "duration": 5,
    "start_time": "2023-04-14T12:56:37.926Z"
   },
   {
    "duration": 5,
    "start_time": "2023-04-14T12:56:37.933Z"
   },
   {
    "duration": 26,
    "start_time": "2023-04-14T12:56:37.941Z"
   },
   {
    "duration": 6,
    "start_time": "2023-04-14T12:56:37.970Z"
   },
   {
    "duration": 6,
    "start_time": "2023-04-14T12:56:38.012Z"
   },
   {
    "duration": 1437,
    "start_time": "2023-04-14T12:56:38.019Z"
   },
   {
    "duration": 1389,
    "start_time": "2023-04-14T12:56:39.458Z"
   },
   {
    "duration": 1415,
    "start_time": "2023-04-14T12:56:40.849Z"
   },
   {
    "duration": 12,
    "start_time": "2023-04-14T12:56:42.266Z"
   },
   {
    "duration": 169,
    "start_time": "2023-04-14T12:56:42.280Z"
   },
   {
    "duration": 154,
    "start_time": "2023-04-14T12:56:42.451Z"
   },
   {
    "duration": 118,
    "start_time": "2023-04-14T12:56:42.607Z"
   },
   {
    "duration": 1338,
    "start_time": "2023-04-14T13:02:47.276Z"
   },
   {
    "duration": 433,
    "start_time": "2023-04-14T13:02:48.615Z"
   },
   {
    "duration": 17,
    "start_time": "2023-04-14T13:02:49.051Z"
   },
   {
    "duration": 22,
    "start_time": "2023-04-14T13:02:49.071Z"
   },
   {
    "duration": 42,
    "start_time": "2023-04-14T13:02:49.111Z"
   },
   {
    "duration": 16,
    "start_time": "2023-04-14T13:02:49.155Z"
   },
   {
    "duration": 17,
    "start_time": "2023-04-14T13:02:49.173Z"
   },
   {
    "duration": 33,
    "start_time": "2023-04-14T13:02:49.192Z"
   },
   {
    "duration": 76,
    "start_time": "2023-04-14T13:02:49.227Z"
   },
   {
    "duration": 42,
    "start_time": "2023-04-14T13:02:49.305Z"
   },
   {
    "duration": 43,
    "start_time": "2023-04-14T13:02:49.349Z"
   },
   {
    "duration": 54,
    "start_time": "2023-04-14T13:02:49.394Z"
   },
   {
    "duration": 37,
    "start_time": "2023-04-14T13:02:49.450Z"
   },
   {
    "duration": 16,
    "start_time": "2023-04-14T13:02:49.489Z"
   },
   {
    "duration": 128,
    "start_time": "2023-04-14T13:02:49.506Z"
   },
   {
    "duration": 286,
    "start_time": "2023-04-14T13:02:49.636Z"
   },
   {
    "duration": 5,
    "start_time": "2023-04-14T13:02:49.924Z"
   },
   {
    "duration": 400,
    "start_time": "2023-04-14T13:02:49.931Z"
   },
   {
    "duration": 86,
    "start_time": "2023-04-14T13:02:50.333Z"
   },
   {
    "duration": 93,
    "start_time": "2023-04-14T13:02:50.424Z"
   },
   {
    "duration": 5,
    "start_time": "2023-04-14T13:02:50.519Z"
   },
   {
    "duration": 22,
    "start_time": "2023-04-14T13:02:50.525Z"
   },
   {
    "duration": 19,
    "start_time": "2023-04-14T13:02:50.549Z"
   },
   {
    "duration": 25,
    "start_time": "2023-04-14T13:02:50.569Z"
   },
   {
    "duration": 3,
    "start_time": "2023-04-14T13:02:50.595Z"
   },
   {
    "duration": 21,
    "start_time": "2023-04-14T13:02:50.600Z"
   },
   {
    "duration": 1391,
    "start_time": "2023-04-14T13:02:50.623Z"
   },
   {
    "duration": 1430,
    "start_time": "2023-04-14T13:02:52.019Z"
   },
   {
    "duration": 1389,
    "start_time": "2023-04-14T13:02:53.452Z"
   },
   {
    "duration": 12,
    "start_time": "2023-04-14T13:02:54.843Z"
   },
   {
    "duration": 156,
    "start_time": "2023-04-14T13:02:54.857Z"
   },
   {
    "duration": 135,
    "start_time": "2023-04-14T13:02:55.015Z"
   },
   {
    "duration": 108,
    "start_time": "2023-04-14T13:02:55.152Z"
   },
   {
    "duration": 1482,
    "start_time": "2023-04-14T13:08:50.578Z"
   },
   {
    "duration": 411,
    "start_time": "2023-04-14T13:08:52.062Z"
   },
   {
    "duration": 14,
    "start_time": "2023-04-14T13:08:52.474Z"
   },
   {
    "duration": 35,
    "start_time": "2023-04-14T13:08:52.490Z"
   },
   {
    "duration": 40,
    "start_time": "2023-04-14T13:08:52.527Z"
   },
   {
    "duration": 17,
    "start_time": "2023-04-14T13:08:52.569Z"
   },
   {
    "duration": 27,
    "start_time": "2023-04-14T13:08:52.588Z"
   },
   {
    "duration": 21,
    "start_time": "2023-04-14T13:08:52.617Z"
   },
   {
    "duration": 37,
    "start_time": "2023-04-14T13:08:52.640Z"
   },
   {
    "duration": 37,
    "start_time": "2023-04-14T13:08:52.680Z"
   },
   {
    "duration": 9,
    "start_time": "2023-04-14T13:08:52.719Z"
   },
   {
    "duration": 31,
    "start_time": "2023-04-14T13:08:52.730Z"
   },
   {
    "duration": 50,
    "start_time": "2023-04-14T13:08:52.763Z"
   },
   {
    "duration": 15,
    "start_time": "2023-04-14T13:08:52.816Z"
   },
   {
    "duration": 151,
    "start_time": "2023-04-14T13:08:52.833Z"
   },
   {
    "duration": 316,
    "start_time": "2023-04-14T13:08:52.986Z"
   },
   {
    "duration": 11,
    "start_time": "2023-04-14T13:08:53.304Z"
   },
   {
    "duration": 410,
    "start_time": "2023-04-14T13:08:53.317Z"
   },
   {
    "duration": 82,
    "start_time": "2023-04-14T13:08:53.729Z"
   },
   {
    "duration": 96,
    "start_time": "2023-04-14T13:08:53.819Z"
   },
   {
    "duration": 21,
    "start_time": "2023-04-14T13:08:53.917Z"
   },
   {
    "duration": 24,
    "start_time": "2023-04-14T13:08:53.940Z"
   },
   {
    "duration": 14,
    "start_time": "2023-04-14T13:08:53.966Z"
   },
   {
    "duration": 32,
    "start_time": "2023-04-14T13:08:53.982Z"
   },
   {
    "duration": 15,
    "start_time": "2023-04-14T13:08:54.016Z"
   },
   {
    "duration": 29,
    "start_time": "2023-04-14T13:08:54.033Z"
   },
   {
    "duration": 1452,
    "start_time": "2023-04-14T13:08:54.064Z"
   },
   {
    "duration": 1401,
    "start_time": "2023-04-14T13:08:55.519Z"
   },
   {
    "duration": 1394,
    "start_time": "2023-04-14T13:08:56.922Z"
   },
   {
    "duration": 13,
    "start_time": "2023-04-14T13:08:58.318Z"
   },
   {
    "duration": 162,
    "start_time": "2023-04-14T13:08:58.332Z"
   },
   {
    "duration": 135,
    "start_time": "2023-04-14T13:08:58.496Z"
   },
   {
    "duration": 116,
    "start_time": "2023-04-14T13:08:58.633Z"
   }
  ],
  "kernelspec": {
   "display_name": "Python 3 (ipykernel)",
   "language": "python",
   "name": "python3"
  },
  "language_info": {
   "codemirror_mode": {
    "name": "ipython",
    "version": 3
   },
   "file_extension": ".py",
   "mimetype": "text/x-python",
   "name": "python",
   "nbconvert_exporter": "python",
   "pygments_lexer": "ipython3",
   "version": "3.9.12"
  },
  "toc": {
   "base_numbering": 1,
   "nav_menu": {},
   "number_sections": true,
   "sideBar": true,
   "skip_h1_title": true,
   "title_cell": "Table of Contents",
   "title_sidebar": "Contents",
   "toc_cell": false,
   "toc_position": {},
   "toc_section_display": true,
   "toc_window_display": false
  }
 },
 "nbformat": 4,
 "nbformat_minor": 2
}
